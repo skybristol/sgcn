{
 "cells": [
  {
   "cell_type": "markdown",
   "metadata": {},
   "source": [
    "In looking over the data from the latest round of SGCN processing using the new methods I've been calling \"sgcn_simple\" (may be a misnomer), I found some interesting things about name matching that I explore here. In this whole process, we are taking what we are provided by the states in terms of name strings with no real information on taxonomic authority or reference. So far, we have been pitting those names up against ITIS and WoRMS as taxonomic authorities to identify taxa (multiple taxonomic ranks) that should go on the \"SGCN National List.\" However, we also use name strings to find taxa in the NatureServe species database, and we use name strings when an ITIS TSN is not available to find matches in the FWS TESS system. Now that we have been able to fully complete the process for NatureServe, we can look to see what kinds of results we have and what we might be able to do with the information."
   ]
  },
  {
   "cell_type": "code",
   "execution_count": 1,
   "metadata": {
    "collapsed": true
   },
   "outputs": [],
   "source": [
    "from bis2 import dd\n",
    "from IPython.display import display"
   ]
  },
  {
   "cell_type": "code",
   "execution_count": 2,
   "metadata": {
    "collapsed": true
   },
   "outputs": [],
   "source": [
    "bisDB = dd.getDB(\"bis\")\n",
    "uniqueNamesCollection = bisDB[\"UniqueNames\"]"
   ]
  },
  {
   "cell_type": "markdown",
   "metadata": {},
   "source": [
    "### NatureServe\n",
    "In the new process for querying and processing NatureServe information, I started pulling back and storing the classification information. Within classification, there is a formalTaxonomy structure that will contain NatureServe's take on the taxonomy for a given species. The following code block explores a fairly large number of species for which we were not able to retrieve information from ITIS or WoRMS but where we did get NatureServe's formal taxonomy."
   ]
  },
  {
   "cell_type": "code",
   "execution_count": 12,
   "metadata": {
    "collapsed": false
   },
   "outputs": [
    {
     "name": "stdout",
     "output_type": "stream",
     "text": [
      "Number of names not matched to ITIS or WoRMS but matched to NatureServe with taxonomy: 893\n",
      "------------\n",
      "Original Scientific Name: Pyrgulopsis pellita\n",
      "NatureServe Scientific Name: Pyrgulopsis pellita\n"
     ]
    },
    {
     "data": {
      "text/plain": [
       "{'class': 'Gastropoda',\n",
       " 'family': 'Hydrobiidae',\n",
       " 'genus': 'Pyrgulopsis',\n",
       " 'genusSize': {'code': 'D',\n",
       "  'description': 'D - Medium to large genus (21+ species)'},\n",
       " 'kingdom': 'Animalia',\n",
       " 'order': 'Neotaenioglossa',\n",
       " 'phylum': 'Mollusca'}"
      ]
     },
     "metadata": {},
     "output_type": "display_data"
    },
    {
     "name": "stdout",
     "output_type": "stream",
     "text": [
      "Original Scientific Name: Pyrgulopsis peculiaris\n",
      "NatureServe Scientific Name: Pyrgulopsis peculiaris\n"
     ]
    },
    {
     "data": {
      "text/plain": [
       "{'class': 'Gastropoda',\n",
       " 'family': 'Hydrobiidae',\n",
       " 'genus': 'Pyrgulopsis',\n",
       " 'genusSize': {'code': 'D',\n",
       "  'description': 'D - Medium to large genus (21+ species)'},\n",
       " 'kingdom': 'Animalia',\n",
       " 'order': 'Neotaenioglossa',\n",
       " 'phylum': 'Mollusca'}"
      ]
     },
     "metadata": {},
     "output_type": "display_data"
    },
    {
     "name": "stdout",
     "output_type": "stream",
     "text": [
      "Original Scientific Name: Pyrgulopsis papillata\n",
      "NatureServe Scientific Name: Pyrgulopsis papillata\n"
     ]
    },
    {
     "data": {
      "text/plain": [
       "{'class': 'Gastropoda',\n",
       " 'family': 'Hydrobiidae',\n",
       " 'genus': 'Pyrgulopsis',\n",
       " 'genusSize': {'code': 'D',\n",
       "  'description': 'D - Medium to large genus (21+ species)'},\n",
       " 'kingdom': 'Animalia',\n",
       " 'order': 'Neotaenioglossa',\n",
       " 'phylum': 'Mollusca'}"
      ]
     },
     "metadata": {},
     "output_type": "display_data"
    },
    {
     "name": "stdout",
     "output_type": "stream",
     "text": [
      "Original Scientific Name: Pyrgulopsis coloradensis\n",
      "NatureServe Scientific Name: Pyrgulopsis coloradensis\n"
     ]
    },
    {
     "data": {
      "text/plain": [
       "{'class': 'Gastropoda',\n",
       " 'family': 'Hydrobiidae',\n",
       " 'genus': 'Pyrgulopsis',\n",
       " 'genusSize': {'code': 'D',\n",
       "  'description': 'D - Medium to large genus (21+ species)'},\n",
       " 'kingdom': 'Animalia',\n",
       " 'order': 'Neotaenioglossa',\n",
       " 'phylum': 'Mollusca'}"
      ]
     },
     "metadata": {},
     "output_type": "display_data"
    },
    {
     "name": "stdout",
     "output_type": "stream",
     "text": [
      "Original Scientific Name: Pyrgulopsis lata\n",
      "NatureServe Scientific Name: Pyrgulopsis lata\n"
     ]
    },
    {
     "data": {
      "text/plain": [
       "{'class': 'Gastropoda',\n",
       " 'family': 'Hydrobiidae',\n",
       " 'genus': 'Pyrgulopsis',\n",
       " 'genusSize': {'code': 'D',\n",
       "  'description': 'D - Medium to large genus (21+ species)'},\n",
       " 'kingdom': 'Animalia',\n",
       " 'order': 'Neotaenioglossa',\n",
       " 'phylum': 'Mollusca'}"
      ]
     },
     "metadata": {},
     "output_type": "display_data"
    },
    {
     "name": "stdout",
     "output_type": "stream",
     "text": [
      "Original Scientific Name: Pyrgulopsis montana\n",
      "NatureServe Scientific Name: Pyrgulopsis montana\n"
     ]
    },
    {
     "data": {
      "text/plain": [
       "{'class': 'Gastropoda',\n",
       " 'family': 'Hydrobiidae',\n",
       " 'genus': 'Pyrgulopsis',\n",
       " 'genusSize': {'code': 'D',\n",
       "  'description': 'D - Medium to large genus (21+ species)'},\n",
       " 'kingdom': 'Animalia',\n",
       " 'order': 'Neotaenioglossa',\n",
       " 'phylum': 'Mollusca'}"
      ]
     },
     "metadata": {},
     "output_type": "display_data"
    },
    {
     "name": "stdout",
     "output_type": "stream",
     "text": [
      "Original Scientific Name: Pyrgulopsis fausta\n",
      "NatureServe Scientific Name: Pyrgulopsis fausta\n"
     ]
    },
    {
     "data": {
      "text/plain": [
       "{'class': 'Gastropoda',\n",
       " 'family': 'Hydrobiidae',\n",
       " 'genus': 'Pyrgulopsis',\n",
       " 'genusSize': {'code': 'D',\n",
       "  'description': 'D - Medium to large genus (21+ species)'},\n",
       " 'kingdom': 'Animalia',\n",
       " 'order': 'Neotaenioglossa',\n",
       " 'phylum': 'Mollusca'}"
      ]
     },
     "metadata": {},
     "output_type": "display_data"
    },
    {
     "name": "stdout",
     "output_type": "stream",
     "text": [
      "Original Scientific Name: Pyrgulopsis dixensis\n",
      "NatureServe Scientific Name: Pyrgulopsis dixensis\n"
     ]
    },
    {
     "data": {
      "text/plain": [
       "{'class': 'Gastropoda',\n",
       " 'family': 'Hydrobiidae',\n",
       " 'genus': 'Pyrgulopsis',\n",
       " 'genusSize': {'code': 'D',\n",
       "  'description': 'D - Medium to large genus (21+ species)'},\n",
       " 'kingdom': 'Animalia',\n",
       " 'order': 'Neotaenioglossa',\n",
       " 'phylum': 'Mollusca'}"
      ]
     },
     "metadata": {},
     "output_type": "display_data"
    },
    {
     "name": "stdout",
     "output_type": "stream",
     "text": [
      "Original Scientific Name: Pyrgulopsis aloba\n",
      "NatureServe Scientific Name: Pyrgulopsis aloba\n"
     ]
    },
    {
     "data": {
      "text/plain": [
       "{'class': 'Gastropoda',\n",
       " 'family': 'Hydrobiidae',\n",
       " 'genus': 'Pyrgulopsis',\n",
       " 'genusSize': {'code': 'D',\n",
       "  'description': 'D - Medium to large genus (21+ species)'},\n",
       " 'kingdom': 'Animalia',\n",
       " 'order': 'Neotaenioglossa',\n",
       " 'phylum': 'Mollusca'}"
      ]
     },
     "metadata": {},
     "output_type": "display_data"
    },
    {
     "name": "stdout",
     "output_type": "stream",
     "text": [
      "Original Scientific Name: Pyrgulopsis villacampae\n",
      "NatureServe Scientific Name: Pyrgulopsis villacampae\n"
     ]
    },
    {
     "data": {
      "text/plain": [
       "{'class': 'Gastropoda',\n",
       " 'family': 'Hydrobiidae',\n",
       " 'genus': 'Pyrgulopsis',\n",
       " 'genusSize': {'code': 'D',\n",
       "  'description': 'D - Medium to large genus (21+ species)'},\n",
       " 'kingdom': 'Animalia',\n",
       " 'order': 'Neotaenioglossa',\n",
       " 'phylum': 'Mollusca'}"
      ]
     },
     "metadata": {},
     "output_type": "display_data"
    },
    {
     "name": "stdout",
     "output_type": "stream",
     "text": [
      "Original Scientific Name: Pyrgulopsis leporina\n",
      "NatureServe Scientific Name: Pyrgulopsis leporina\n"
     ]
    },
    {
     "data": {
      "text/plain": [
       "{'class': 'Gastropoda',\n",
       " 'family': 'Hydrobiidae',\n",
       " 'genus': 'Pyrgulopsis',\n",
       " 'genusSize': {'code': 'D',\n",
       "  'description': 'D - Medium to large genus (21+ species)'},\n",
       " 'kingdom': 'Animalia',\n",
       " 'order': 'Neotaenioglossa',\n",
       " 'phylum': 'Mollusca'}"
      ]
     },
     "metadata": {},
     "output_type": "display_data"
    },
    {
     "name": "stdout",
     "output_type": "stream",
     "text": [
      "Original Scientific Name: Pyrgulopsis augustae\n",
      "NatureServe Scientific Name: Pyrgulopsis augustae\n"
     ]
    },
    {
     "data": {
      "text/plain": [
       "{'class': 'Gastropoda',\n",
       " 'family': 'Hydrobiidae',\n",
       " 'genus': 'Pyrgulopsis',\n",
       " 'genusSize': {'code': 'D',\n",
       "  'description': 'D - Medium to large genus (21+ species)'},\n",
       " 'kingdom': 'Animalia',\n",
       " 'order': 'Neotaenioglossa',\n",
       " 'phylum': 'Mollusca'}"
      ]
     },
     "metadata": {},
     "output_type": "display_data"
    },
    {
     "name": "stdout",
     "output_type": "stream",
     "text": [
      "Original Scientific Name: Pyrgulopsis notidicola\n",
      "NatureServe Scientific Name: Pyrgulopsis notidicola\n"
     ]
    },
    {
     "data": {
      "text/plain": [
       "{'class': 'Gastropoda',\n",
       " 'family': 'Hydrobiidae',\n",
       " 'genus': 'Pyrgulopsis',\n",
       " 'genusSize': {'code': 'D',\n",
       "  'description': 'D - Medium to large genus (21+ species)'},\n",
       " 'kingdom': 'Animalia',\n",
       " 'order': 'Neotaenioglossa',\n",
       " 'phylum': 'Mollusca'}"
      ]
     },
     "metadata": {},
     "output_type": "display_data"
    },
    {
     "name": "stdout",
     "output_type": "stream",
     "text": [
      "Original Scientific Name: Pyrgulopsis gracilis\n",
      "NatureServe Scientific Name: Pyrgulopsis gracilis\n"
     ]
    },
    {
     "data": {
      "text/plain": [
       "{'class': 'Gastropoda',\n",
       " 'family': 'Hydrobiidae',\n",
       " 'genus': 'Pyrgulopsis',\n",
       " 'genusSize': {'code': 'D',\n",
       "  'description': 'D - Medium to large genus (21+ species)'},\n",
       " 'kingdom': 'Animalia',\n",
       " 'order': 'Neotaenioglossa',\n",
       " 'phylum': 'Mollusca'}"
      ]
     },
     "metadata": {},
     "output_type": "display_data"
    },
    {
     "name": "stdout",
     "output_type": "stream",
     "text": [
      "Original Scientific Name: Pyrgulopsis breviloba\n",
      "NatureServe Scientific Name: Pyrgulopsis breviloba\n"
     ]
    },
    {
     "data": {
      "text/plain": [
       "{'class': 'Gastropoda',\n",
       " 'family': 'Hydrobiidae',\n",
       " 'genus': 'Pyrgulopsis',\n",
       " 'genusSize': {'code': 'D',\n",
       "  'description': 'D - Medium to large genus (21+ species)'},\n",
       " 'kingdom': 'Animalia',\n",
       " 'order': 'Neotaenioglossa',\n",
       " 'phylum': 'Mollusca'}"
      ]
     },
     "metadata": {},
     "output_type": "display_data"
    },
    {
     "name": "stdout",
     "output_type": "stream",
     "text": [
      "Original Scientific Name: Pyrgulopsis planulata\n",
      "NatureServe Scientific Name: Pyrgulopsis planulata\n"
     ]
    },
    {
     "data": {
      "text/plain": [
       "{'class': 'Gastropoda',\n",
       " 'family': 'Hydrobiidae',\n",
       " 'genus': 'Pyrgulopsis',\n",
       " 'genusSize': {'code': 'D',\n",
       "  'description': 'D - Medium to large genus (21+ species)'},\n",
       " 'kingdom': 'Animalia',\n",
       " 'order': 'Neotaenioglossa',\n",
       " 'phylum': 'Mollusca'}"
      ]
     },
     "metadata": {},
     "output_type": "display_data"
    },
    {
     "name": "stdout",
     "output_type": "stream",
     "text": [
      "Original Scientific Name: Pyrgulopsis bruesi\n",
      "NatureServe Scientific Name: Pyrgulopsis bruesi\n"
     ]
    },
    {
     "data": {
      "text/plain": [
       "{'class': 'Gastropoda',\n",
       " 'family': 'Hydrobiidae',\n",
       " 'genus': 'Pyrgulopsis',\n",
       " 'genusSize': {'code': 'D',\n",
       "  'description': 'D - Medium to large genus (21+ species)'},\n",
       " 'kingdom': 'Animalia',\n",
       " 'order': 'Neotaenioglossa',\n",
       " 'phylum': 'Mollusca'}"
      ]
     },
     "metadata": {},
     "output_type": "display_data"
    },
    {
     "name": "stdout",
     "output_type": "stream",
     "text": [
      "Original Scientific Name: Pyrgulopsis marcida\n",
      "NatureServe Scientific Name: Pyrgulopsis marcida\n"
     ]
    },
    {
     "data": {
      "text/plain": [
       "{'class': 'Gastropoda',\n",
       " 'family': 'Hydrobiidae',\n",
       " 'genus': 'Pyrgulopsis',\n",
       " 'genusSize': {'code': 'D',\n",
       "  'description': 'D - Medium to large genus (21+ species)'},\n",
       " 'kingdom': 'Animalia',\n",
       " 'order': 'Neotaenioglossa',\n",
       " 'phylum': 'Mollusca'}"
      ]
     },
     "metadata": {},
     "output_type": "display_data"
    },
    {
     "name": "stdout",
     "output_type": "stream",
     "text": [
      "Original Scientific Name: Pyrgulopsis hubbsi\n",
      "NatureServe Scientific Name: Pyrgulopsis hubbsi\n"
     ]
    },
    {
     "data": {
      "text/plain": [
       "{'class': 'Gastropoda',\n",
       " 'family': 'Hydrobiidae',\n",
       " 'genus': 'Pyrgulopsis',\n",
       " 'genusSize': {'code': 'D',\n",
       "  'description': 'D - Medium to large genus (21+ species)'},\n",
       " 'kingdom': 'Animalia',\n",
       " 'order': 'Neotaenioglossa',\n",
       " 'phylum': 'Mollusca'}"
      ]
     },
     "metadata": {},
     "output_type": "display_data"
    },
    {
     "name": "stdout",
     "output_type": "stream",
     "text": [
      "Original Scientific Name: Pyrgulopsis humboldtensis\n",
      "NatureServe Scientific Name: Pyrgulopsis humboldtensis\n"
     ]
    },
    {
     "data": {
      "text/plain": [
       "{'class': 'Gastropoda',\n",
       " 'family': 'Hydrobiidae',\n",
       " 'genus': 'Pyrgulopsis',\n",
       " 'genusSize': {'code': 'D',\n",
       "  'description': 'D - Medium to large genus (21+ species)'},\n",
       " 'kingdom': 'Animalia',\n",
       " 'order': 'Neotaenioglossa',\n",
       " 'phylum': 'Mollusca'}"
      ]
     },
     "metadata": {},
     "output_type": "display_data"
    },
    {
     "name": "stdout",
     "output_type": "stream",
     "text": [
      "Original Scientific Name: Pyrgulopsis imperialis\n",
      "NatureServe Scientific Name: Pyrgulopsis imperialis\n"
     ]
    },
    {
     "data": {
      "text/plain": [
       "{'class': 'Gastropoda',\n",
       " 'family': 'Hydrobiidae',\n",
       " 'genus': 'Pyrgulopsis',\n",
       " 'genusSize': {'code': 'D',\n",
       "  'description': 'D - Medium to large genus (21+ species)'},\n",
       " 'kingdom': 'Animalia',\n",
       " 'order': 'Neotaenioglossa',\n",
       " 'phylum': 'Mollusca'}"
      ]
     },
     "metadata": {},
     "output_type": "display_data"
    },
    {
     "name": "stdout",
     "output_type": "stream",
     "text": [
      "Original Scientific Name: Pyrgulopsis sublata\n",
      "NatureServe Scientific Name: Pyrgulopsis sublata\n"
     ]
    },
    {
     "data": {
      "text/plain": [
       "{'class': 'Gastropoda',\n",
       " 'family': 'Hydrobiidae',\n",
       " 'genus': 'Pyrgulopsis',\n",
       " 'genusSize': {'code': 'D',\n",
       "  'description': 'D - Medium to large genus (21+ species)'},\n",
       " 'kingdom': 'Animalia',\n",
       " 'order': 'Neotaenioglossa',\n",
       " 'phylum': 'Mollusca'}"
      ]
     },
     "metadata": {},
     "output_type": "display_data"
    },
    {
     "name": "stdout",
     "output_type": "stream",
     "text": [
      "Original Scientific Name: Pyrgulopsis landyei\n",
      "NatureServe Scientific Name: Pyrgulopsis landyei\n"
     ]
    },
    {
     "data": {
      "text/plain": [
       "{'class': 'Gastropoda',\n",
       " 'family': 'Hydrobiidae',\n",
       " 'genus': 'Pyrgulopsis',\n",
       " 'genusSize': {'code': 'D',\n",
       "  'description': 'D - Medium to large genus (21+ species)'},\n",
       " 'kingdom': 'Animalia',\n",
       " 'order': 'Neotaenioglossa',\n",
       " 'phylum': 'Mollusca'}"
      ]
     },
     "metadata": {},
     "output_type": "display_data"
    },
    {
     "name": "stdout",
     "output_type": "stream",
     "text": [
      "Original Scientific Name: Pyrgulopsis basiglans\n",
      "NatureServe Scientific Name: Pyrgulopsis basiglans\n"
     ]
    },
    {
     "data": {
      "text/plain": [
       "{'class': 'Gastropoda',\n",
       " 'family': 'Hydrobiidae',\n",
       " 'genus': 'Pyrgulopsis',\n",
       " 'genusSize': {'code': 'D',\n",
       "  'description': 'D - Medium to large genus (21+ species)'},\n",
       " 'kingdom': 'Animalia',\n",
       " 'order': 'Neotaenioglossa',\n",
       " 'phylum': 'Mollusca'}"
      ]
     },
     "metadata": {},
     "output_type": "display_data"
    },
    {
     "name": "stdout",
     "output_type": "stream",
     "text": [
      "Original Scientific Name: Pyrgulopsis lockensis\n",
      "NatureServe Scientific Name: Pyrgulopsis lockensis\n"
     ]
    },
    {
     "data": {
      "text/plain": [
       "{'class': 'Gastropoda',\n",
       " 'family': 'Hydrobiidae',\n",
       " 'genus': 'Pyrgulopsis',\n",
       " 'genusSize': {'code': 'D',\n",
       "  'description': 'D - Medium to large genus (21+ species)'},\n",
       " 'kingdom': 'Animalia',\n",
       " 'order': 'Neotaenioglossa',\n",
       " 'phylum': 'Mollusca'}"
      ]
     },
     "metadata": {},
     "output_type": "display_data"
    },
    {
     "name": "stdout",
     "output_type": "stream",
     "text": [
      "Original Scientific Name: Pyrgulopsis anguina\n",
      "NatureServe Scientific Name: Pyrgulopsis anguina\n"
     ]
    },
    {
     "data": {
      "text/plain": [
       "{'class': 'Gastropoda',\n",
       " 'family': 'Hydrobiidae',\n",
       " 'genus': 'Pyrgulopsis',\n",
       " 'genusSize': {'code': 'D',\n",
       "  'description': 'D - Medium to large genus (21+ species)'},\n",
       " 'kingdom': 'Animalia',\n",
       " 'order': 'Neotaenioglossa',\n",
       " 'phylum': 'Mollusca'}"
      ]
     },
     "metadata": {},
     "output_type": "display_data"
    },
    {
     "name": "stdout",
     "output_type": "stream",
     "text": [
      "Original Scientific Name: Tryonia monitorae\n",
      "NatureServe Scientific Name: Tryonia monitorae\n"
     ]
    },
    {
     "data": {
      "text/plain": [
       "{'class': 'Gastropoda',\n",
       " 'family': 'Hydrobiidae',\n",
       " 'genus': 'Tryonia',\n",
       " 'kingdom': 'Animalia',\n",
       " 'order': 'Neotaenioglossa',\n",
       " 'phylum': 'Mollusca'}"
      ]
     },
     "metadata": {},
     "output_type": "display_data"
    },
    {
     "name": "stdout",
     "output_type": "stream",
     "text": [
      "Original Scientific Name: Pyrgulopsis neritella\n",
      "NatureServe Scientific Name: Pyrgulopsis neritella\n"
     ]
    },
    {
     "data": {
      "text/plain": [
       "{'class': 'Gastropoda',\n",
       " 'family': 'Hydrobiidae',\n",
       " 'genus': 'Pyrgulopsis',\n",
       " 'genusSize': {'code': 'D',\n",
       "  'description': 'D - Medium to large genus (21+ species)'},\n",
       " 'kingdom': 'Animalia',\n",
       " 'order': 'Neotaenioglossa',\n",
       " 'phylum': 'Mollusca'}"
      ]
     },
     "metadata": {},
     "output_type": "display_data"
    },
    {
     "name": "stdout",
     "output_type": "stream",
     "text": [
      "Original Scientific Name: Pyrgulopsis militaris\n",
      "NatureServe Scientific Name: Pyrgulopsis militaris\n"
     ]
    },
    {
     "data": {
      "text/plain": [
       "{'class': 'Gastropoda',\n",
       " 'family': 'Hydrobiidae',\n",
       " 'genus': 'Pyrgulopsis',\n",
       " 'genusSize': {'code': 'D',\n",
       "  'description': 'D - Medium to large genus (21+ species)'},\n",
       " 'kingdom': 'Animalia',\n",
       " 'order': 'Neotaenioglossa',\n",
       " 'phylum': 'Mollusca',\n",
       " 'taxonomicComments': 'This species has been identified as a member of a monophyletic species flock endemic to cold water springs in Soldier Meadow (and a single locality in Bog Hot Valley in the case of <i>Pyrgulopsis militaris</i>) in northwestern Nevada (\"Soldier Meadow Clade\") (Hershler et al., 2007).'}"
      ]
     },
     "metadata": {},
     "output_type": "display_data"
    },
    {
     "name": "stdout",
     "output_type": "stream",
     "text": [
      "Original Scientific Name: Pyrgulopsis serrata\n",
      "NatureServe Scientific Name: Pyrgulopsis serrata\n"
     ]
    },
    {
     "data": {
      "text/plain": [
       "{'class': 'Gastropoda',\n",
       " 'family': 'Hydrobiidae',\n",
       " 'genus': 'Pyrgulopsis',\n",
       " 'genusSize': {'code': 'D',\n",
       "  'description': 'D - Medium to large genus (21+ species)'},\n",
       " 'kingdom': 'Animalia',\n",
       " 'order': 'Neotaenioglossa',\n",
       " 'phylum': 'Mollusca'}"
      ]
     },
     "metadata": {},
     "output_type": "display_data"
    },
    {
     "name": "stdout",
     "output_type": "stream",
     "text": [
      "Original Scientific Name: Pyrgulopsis variegata\n",
      "NatureServe Scientific Name: Pyrgulopsis variegata\n"
     ]
    },
    {
     "data": {
      "text/plain": [
       "{'class': 'Gastropoda',\n",
       " 'family': 'Hydrobiidae',\n",
       " 'genus': 'Pyrgulopsis',\n",
       " 'genusSize': {'code': 'D',\n",
       "  'description': 'D - Medium to large genus (21+ species)'},\n",
       " 'kingdom': 'Animalia',\n",
       " 'order': 'Neotaenioglossa',\n",
       " 'phylum': 'Mollusca'}"
      ]
     },
     "metadata": {},
     "output_type": "display_data"
    },
    {
     "name": "stdout",
     "output_type": "stream",
     "text": [
      "Original Scientific Name: Pyrgulopsis pictilis\n",
      "NatureServe Scientific Name: Pyrgulopsis pictilis\n"
     ]
    },
    {
     "data": {
      "text/plain": [
       "{'class': 'Gastropoda',\n",
       " 'family': 'Hydrobiidae',\n",
       " 'genus': 'Pyrgulopsis',\n",
       " 'genusSize': {'code': 'D',\n",
       "  'description': 'D - Medium to large genus (21+ species)'},\n",
       " 'kingdom': 'Animalia',\n",
       " 'order': 'Neotaenioglossa',\n",
       " 'phylum': 'Mollusca'}"
      ]
     },
     "metadata": {},
     "output_type": "display_data"
    },
    {
     "name": "stdout",
     "output_type": "stream",
     "text": [
      "Original Scientific Name: Pyrgulopsis aurata\n",
      "NatureServe Scientific Name: Pyrgulopsis aurata\n"
     ]
    },
    {
     "data": {
      "text/plain": [
       "{'class': 'Gastropoda',\n",
       " 'family': 'Hydrobiidae',\n",
       " 'genus': 'Pyrgulopsis',\n",
       " 'genusSize': {'code': 'D',\n",
       "  'description': 'D - Medium to large genus (21+ species)'},\n",
       " 'kingdom': 'Animalia',\n",
       " 'order': 'Neotaenioglossa',\n",
       " 'phylum': 'Mollusca'}"
      ]
     },
     "metadata": {},
     "output_type": "display_data"
    },
    {
     "name": "stdout",
     "output_type": "stream",
     "text": [
      "Original Scientific Name: Pyrgulopsis sadai\n",
      "NatureServe Scientific Name: Pyrgulopsis sadai\n"
     ]
    },
    {
     "data": {
      "text/plain": [
       "{'class': 'Gastropoda',\n",
       " 'family': 'Hydrobiidae',\n",
       " 'genus': 'Pyrgulopsis',\n",
       " 'genusSize': {'code': 'D',\n",
       "  'description': 'D - Medium to large genus (21+ species)'},\n",
       " 'kingdom': 'Animalia',\n",
       " 'order': 'Neotaenioglossa',\n",
       " 'phylum': 'Mollusca'}"
      ]
     },
     "metadata": {},
     "output_type": "display_data"
    },
    {
     "name": "stdout",
     "output_type": "stream",
     "text": [
      "Original Scientific Name: Pyrgulopsis bifurcata\n",
      "NatureServe Scientific Name: Pyrgulopsis bifurcata\n"
     ]
    },
    {
     "data": {
      "text/plain": [
       "{'class': 'Gastropoda',\n",
       " 'family': 'Hydrobiidae',\n",
       " 'genus': 'Pyrgulopsis',\n",
       " 'genusSize': {'code': 'D',\n",
       "  'description': 'D - Medium to large genus (21+ species)'},\n",
       " 'kingdom': 'Animalia',\n",
       " 'order': 'Neotaenioglossa',\n",
       " 'phylum': 'Mollusca'}"
      ]
     },
     "metadata": {},
     "output_type": "display_data"
    },
    {
     "name": "stdout",
     "output_type": "stream",
     "text": [
      "Original Scientific Name: Pyrgulopsis anatina\n",
      "NatureServe Scientific Name: Pyrgulopsis anatina\n"
     ]
    },
    {
     "data": {
      "text/plain": [
       "{'class': 'Gastropoda',\n",
       " 'family': 'Hydrobiidae',\n",
       " 'genus': 'Pyrgulopsis',\n",
       " 'genusSize': {'code': 'D',\n",
       "  'description': 'D - Medium to large genus (21+ species)'},\n",
       " 'kingdom': 'Animalia',\n",
       " 'order': 'Neotaenioglossa',\n",
       " 'phylum': 'Mollusca'}"
      ]
     },
     "metadata": {},
     "output_type": "display_data"
    },
    {
     "name": "stdout",
     "output_type": "stream",
     "text": [
      "Original Scientific Name: Pyrgulopsis umbilicata\n",
      "NatureServe Scientific Name: Pyrgulopsis umbilicata\n"
     ]
    },
    {
     "data": {
      "text/plain": [
       "{'class': 'Gastropoda',\n",
       " 'family': 'Hydrobiidae',\n",
       " 'genus': 'Pyrgulopsis',\n",
       " 'genusSize': {'code': 'D',\n",
       "  'description': 'D - Medium to large genus (21+ species)'},\n",
       " 'kingdom': 'Animalia',\n",
       " 'order': 'Neotaenioglossa',\n",
       " 'phylum': 'Mollusca',\n",
       " 'taxonomicComments': 'In a genetic analysis of the Soldier Meadow, Nevada, springsnails, Hershler et al. (2007) determined <i>Pyrgulopsis umbilicata</i> and <i>Pyrgulopsis limaria</i> emerged in the same clade with <i>P. umbilicata</i> depicted as paraphyletic and nested within <i>P. limaria</i>, but were reluctant to make then synonymous due to clear morphological differences between the two.'}"
      ]
     },
     "metadata": {},
     "output_type": "display_data"
    },
    {
     "name": "stdout",
     "output_type": "stream",
     "text": [
      "Original Scientific Name: Pyrgulopsis sulcata\n",
      "NatureServe Scientific Name: Pyrgulopsis sulcata\n"
     ]
    },
    {
     "data": {
      "text/plain": [
       "{'class': 'Gastropoda',\n",
       " 'family': 'Hydrobiidae',\n",
       " 'genus': 'Pyrgulopsis',\n",
       " 'genusSize': {'code': 'D',\n",
       "  'description': 'D - Medium to large genus (21+ species)'},\n",
       " 'kingdom': 'Animalia',\n",
       " 'order': 'Neotaenioglossa',\n",
       " 'phylum': 'Mollusca'}"
      ]
     },
     "metadata": {},
     "output_type": "display_data"
    },
    {
     "name": "stdout",
     "output_type": "stream",
     "text": [
      "Original Scientific Name: Pyrgulopsis deaconi\n",
      "NatureServe Scientific Name: Pyrgulopsis deaconi\n"
     ]
    },
    {
     "data": {
      "text/plain": [
       "{'class': 'Gastropoda',\n",
       " 'family': 'Hydrobiidae',\n",
       " 'genus': 'Pyrgulopsis',\n",
       " 'genusSize': {'code': 'D',\n",
       "  'description': 'D - Medium to large genus (21+ species)'},\n",
       " 'kingdom': 'Animalia',\n",
       " 'order': 'Neotaenioglossa',\n",
       " 'phylum': 'Mollusca'}"
      ]
     },
     "metadata": {},
     "output_type": "display_data"
    },
    {
     "name": "stdout",
     "output_type": "stream",
     "text": [
      "Original Scientific Name: Pyrgulopsis limaria\n",
      "NatureServe Scientific Name: Pyrgulopsis limaria\n"
     ]
    },
    {
     "data": {
      "text/plain": [
       "{'class': 'Gastropoda',\n",
       " 'family': 'Hydrobiidae',\n",
       " 'genus': 'Pyrgulopsis',\n",
       " 'genusSize': {'code': 'D',\n",
       "  'description': 'D - Medium to large genus (21+ species)'},\n",
       " 'kingdom': 'Animalia',\n",
       " 'order': 'Neotaenioglossa',\n",
       " 'phylum': 'Mollusca',\n",
       " 'taxonomicComments': 'In a genetic analysis of the Soldier Meadow, Nevada, springsnails, Hershler et al. (2007) determined <i>Pyrgulopsis umbilicata</i> and <i>Pyrgulopsis limaria</i> emerged in the same clade with <i>P. umbilicata</i> depicted as paraphyletic and nested within <i>P. limaria</i>, but were reluctant to make then synonymous due to clear morphological differences between the two.'}"
      ]
     },
     "metadata": {},
     "output_type": "display_data"
    },
    {
     "name": "stdout",
     "output_type": "stream",
     "text": [
      "Original Scientific Name: Pyrgulopsis sterilis\n",
      "NatureServe Scientific Name: Pyrgulopsis sterilis\n"
     ]
    },
    {
     "data": {
      "text/plain": [
       "{'class': 'Gastropoda',\n",
       " 'family': 'Hydrobiidae',\n",
       " 'genus': 'Pyrgulopsis',\n",
       " 'genusSize': {'code': 'D',\n",
       "  'description': 'D - Medium to large genus (21+ species)'},\n",
       " 'kingdom': 'Animalia',\n",
       " 'order': 'Neotaenioglossa',\n",
       " 'phylum': 'Mollusca'}"
      ]
     },
     "metadata": {},
     "output_type": "display_data"
    },
    {
     "name": "stdout",
     "output_type": "stream",
     "text": [
      "Original Scientific Name: Pyrgulopsis orbiculata\n",
      "NatureServe Scientific Name: Pyrgulopsis orbiculata\n"
     ]
    },
    {
     "data": {
      "text/plain": [
       "{'class': 'Gastropoda',\n",
       " 'family': 'Hydrobiidae',\n",
       " 'genus': 'Pyrgulopsis',\n",
       " 'genusSize': {'code': 'D',\n",
       "  'description': 'D - Medium to large genus (21+ species)'},\n",
       " 'kingdom': 'Animalia',\n",
       " 'order': 'Neotaenioglossa',\n",
       " 'phylum': 'Mollusca'}"
      ]
     },
     "metadata": {},
     "output_type": "display_data"
    },
    {
     "name": "stdout",
     "output_type": "stream",
     "text": [
      "Original Scientific Name: Pyrgulopsis cruciglans\n",
      "NatureServe Scientific Name: Pyrgulopsis cruciglans\n"
     ]
    },
    {
     "data": {
      "text/plain": [
       "{'class': 'Gastropoda',\n",
       " 'family': 'Hydrobiidae',\n",
       " 'genus': 'Pyrgulopsis',\n",
       " 'genusSize': {'code': 'D',\n",
       "  'description': 'D - Medium to large genus (21+ species)'},\n",
       " 'kingdom': 'Animalia',\n",
       " 'order': 'Neotaenioglossa',\n",
       " 'phylum': 'Mollusca'}"
      ]
     },
     "metadata": {},
     "output_type": "display_data"
    },
    {
     "name": "stdout",
     "output_type": "stream",
     "text": [
      "Original Scientific Name: Pyrgulopsis millenaria\n",
      "NatureServe Scientific Name: Pyrgulopsis millenaria\n"
     ]
    },
    {
     "data": {
      "text/plain": [
       "{'class': 'Gastropoda',\n",
       " 'family': 'Hydrobiidae',\n",
       " 'genus': 'Pyrgulopsis',\n",
       " 'genusSize': {'code': 'D',\n",
       "  'description': 'D - Medium to large genus (21+ species)'},\n",
       " 'kingdom': 'Animalia',\n",
       " 'order': 'Neotaenioglossa',\n",
       " 'phylum': 'Mollusca'}"
      ]
     },
     "metadata": {},
     "output_type": "display_data"
    },
    {
     "name": "stdout",
     "output_type": "stream",
     "text": [
      "Original Scientific Name: Pyrgulopsis hovinghi\n",
      "NatureServe Scientific Name: Pyrgulopsis hovinghi\n"
     ]
    },
    {
     "data": {
      "text/plain": [
       "{'class': 'Gastropoda',\n",
       " 'family': 'Hydrobiidae',\n",
       " 'genus': 'Pyrgulopsis',\n",
       " 'genusSize': {'code': 'D',\n",
       "  'description': 'D - Medium to large genus (21+ species)'},\n",
       " 'kingdom': 'Animalia',\n",
       " 'order': 'Neotaenioglossa',\n",
       " 'phylum': 'Mollusca'}"
      ]
     },
     "metadata": {},
     "output_type": "display_data"
    },
    {
     "name": "stdout",
     "output_type": "stream",
     "text": [
      "Original Scientific Name: Pyrgulopsis vinyardi\n",
      "NatureServe Scientific Name: Pyrgulopsis vinyardi\n"
     ]
    },
    {
     "data": {
      "text/plain": [
       "{'class': 'Gastropoda',\n",
       " 'family': 'Hydrobiidae',\n",
       " 'genus': 'Pyrgulopsis',\n",
       " 'genusSize': {'code': 'D',\n",
       "  'description': 'D - Medium to large genus (21+ species)'},\n",
       " 'kingdom': 'Animalia',\n",
       " 'order': 'Neotaenioglossa',\n",
       " 'phylum': 'Mollusca'}"
      ]
     },
     "metadata": {},
     "output_type": "display_data"
    },
    {
     "name": "stdout",
     "output_type": "stream",
     "text": [
      "Original Scientific Name: Pyrgulopsis sathos\n",
      "NatureServe Scientific Name: Pyrgulopsis sathos\n"
     ]
    },
    {
     "data": {
      "text/plain": [
       "{'class': 'Gastropoda',\n",
       " 'family': 'Hydrobiidae',\n",
       " 'genus': 'Pyrgulopsis',\n",
       " 'genusSize': {'code': 'D',\n",
       "  'description': 'D - Medium to large genus (21+ species)'},\n",
       " 'kingdom': 'Animalia',\n",
       " 'order': 'Neotaenioglossa',\n",
       " 'phylum': 'Mollusca'}"
      ]
     },
     "metadata": {},
     "output_type": "display_data"
    },
    {
     "name": "stdout",
     "output_type": "stream",
     "text": [
      "Original Scientific Name: Plestiodon gilberti rubricaudatus\n",
      "NatureServe Scientific Name: Plestiodon gilberti rubricaudatus\n"
     ]
    },
    {
     "data": {
      "text/plain": [
       "{'class': 'Reptilia',\n",
       " 'family': 'Scincidae',\n",
       " 'genus': 'Plestiodon',\n",
       " 'genusSize': {'code': 'C', 'description': 'C - Small genus (6-20 species)'},\n",
       " 'kingdom': 'Animalia',\n",
       " 'order': 'Squamata',\n",
       " 'phylum': 'Craniata',\n",
       " 'taxonomicComments': 'de Quieroz and Reeder (in Crother 2012) stated that the results of Richmond and Reeder (2002) contradict the recognition of <i>P. g. arizonensis</i>, which is not differentiated from <i>P. g. rubricaudatus</i>;  de Quieroz and Reeder thus eliminated <i>arizonensis </i>from their list of accepted subspecies.<br><br>Crother (2008) placed the name \"<i>gilberti</i>\" in quotation marks to indicate that it refers to a species complex.'}"
      ]
     },
     "metadata": {},
     "output_type": "display_data"
    },
    {
     "name": "stdout",
     "output_type": "stream",
     "text": [
      "Original Scientific Name: Neotamias amoenus celeris\n",
      "NatureServe Scientific Name: Neotamias amoenus celeris\n"
     ]
    },
    {
     "data": {
      "text/plain": [
       "{'class': 'Mammalia',\n",
       " 'family': 'Sciuridae',\n",
       " 'genus': 'Neotamias',\n",
       " 'genusSize': {'code': 'D',\n",
       "  'description': 'D - Medium to large genus (21+ species)'},\n",
       " 'kingdom': 'Animalia',\n",
       " 'order': 'Rodentia',\n",
       " 'phylum': 'Craniata'}"
      ]
     },
     "metadata": {},
     "output_type": "display_data"
    },
    {
     "name": "stdout",
     "output_type": "stream",
     "text": [
      "Original Scientific Name: Neotamias palmeri\n",
      "NatureServe Scientific Name: Neotamias palmeri\n"
     ]
    },
    {
     "data": {
      "text/plain": [
       "{'class': 'Mammalia',\n",
       " 'family': 'Sciuridae',\n",
       " 'genus': 'Neotamias',\n",
       " 'genusSize': {'code': 'D',\n",
       "  'description': 'D - Medium to large genus (21+ species)'},\n",
       " 'kingdom': 'Animalia',\n",
       " 'order': 'Rodentia',\n",
       " 'phylum': 'Craniata',\n",
       " 'taxonomicComments': 'This species formerly was regarded as a subspecies of <i>Tamias umbrinus </i>by some authors. It has been included in the genera <i>Eutamias</i> and <i>Tamias </i>(Levenson et al. 1985; Jones et al. 1992, Hoffmann et al., in Wilson and Reeder 1993). Based on patterns of variation in ectoparasites (Jameson 1999) and molecular phylogenetics (Piaggio and Spicer 2001), the North American mammal checklist by Baker et al. (2003) placed all North American chipmunks (except <i>Tamias striatus</i>) in the genus <i>Neotamias</i>. Thorington and Hoffmann (in Wilson and Reeder 2005) noted that chipmunks could be legitimately allocated to one (<i>Tamias</i>), two (<i>Neotamias</i>, <i>Tamias</i>), or three (<i>Tamias</i>, <i>Neotamias</i>, <i>Eutamias</i>) genera; they chose to adopt the single-genus (<i>Tamias</i>) arrangement.<br /><br />See Sutton (1992) for a key to the species of <i>Tamias </i>(<i>Neotamias</i>).'}"
      ]
     },
     "metadata": {},
     "output_type": "display_data"
    },
    {
     "name": "stdout",
     "output_type": "stream",
     "text": [
      "Original Scientific Name: Neotamias senex\n",
      "NatureServe Scientific Name: Neotamias senex\n"
     ]
    },
    {
     "data": {
      "text/plain": [
       "{'class': 'Mammalia',\n",
       " 'family': 'Sciuridae',\n",
       " 'genus': 'Neotamias',\n",
       " 'genusSize': {'code': 'D',\n",
       "  'description': 'D - Medium to large genus (21+ species)'},\n",
       " 'kingdom': 'Animalia',\n",
       " 'order': 'Rodentia',\n",
       " 'phylum': 'Craniata',\n",
       " 'taxonomicComments': 'Also known as \"Allen\\'s Chipmunk.\" Elevated to species status (from subspecies of <i>T. townsendii</i>) by Sutton and Nadler (1974); see also Sutton (1987). Full species status of <i>senex </i>was originally rejected by Levenson and Hoffmann (1984) and Jones et al. (1986). See Gannon and Lawlor (1989) for vocalization information supporting recognition of <i>T. senex </i>as a distinct species. Jones et al. (1992) and Thorington and Hoffmann (in Wilson and Reeder 2005) accepted <i>T. senex </i>as a species. <br /><br />Sutton and Patterson (2000) subsequently delineated two subspecies: the interior nominate <i>T. senex senex</i> Allen, 1890 and the coastal <i>T. senex pacifica</i> Sutton and Patterson. <br /><br />Formerly included in genus <i>Eutamias</i>, which recently was included in the genus <i>Tamias </i>(Levenson et al. 1985; Jones et al. 1992, Hoffmann et al., in Wilson and Reeder 1993). Based on patterns of variation in ectoparasites (Jameson 1999) and molecular phylogenetics (Piaggio and Spicer 2001), the North American mammal checklist by Baker et al. (2003) placed all North American chipmunks (except <i>Tamias striatus</i>) in the genus <i>Neotamias</i>. Thorington and Hoffmann (in Wilson and Reeder 2005) noted that chipmunks could be legitimately allocated to one (<i>Tamias</i>), two (<i>Neotamias</i>, <i>Tamias</i>), or three (<i>Tamias</i>, <i>Neotamias</i>, <i>Eutamias</i>) genera; they chose to adopt the single-genus (<i>Tamias</i>) arrangement.<br />'}"
      ]
     },
     "metadata": {},
     "output_type": "display_data"
    },
    {
     "name": "stdout",
     "output_type": "stream",
     "text": [
      "Original Scientific Name:  Antrostomus carolinensis\n",
      "'Cleaned' Scientific Name (for processing): antrostomus carolinensis\n",
      "NatureServe Scientific Name: Antrostomus carolinensis\n"
     ]
    },
    {
     "data": {
      "text/plain": [
       "{'class': 'Aves',\n",
       " 'family': 'Caprimulgidae',\n",
       " 'genus': 'Antrostomus',\n",
       " 'genusSize': {'code': 'C', 'description': 'C - Small genus (6-20 species)'},\n",
       " 'kingdom': 'Animalia',\n",
       " 'order': 'Caprimulgiformes',\n",
       " 'phylum': 'Craniata',\n",
       " 'taxonomicComments': 'Formerly merged with <i>Caprimulgus</i>, but now treated as a separate genus on the basis of genetic data (Han et al. 2010) (AOU 2012). Constitutes a superspecies with C. rufus (AOU 1998).'}"
      ]
     },
     "metadata": {},
     "output_type": "display_data"
    },
    {
     "name": "stdout",
     "output_type": "stream",
     "text": [
      "Original Scientific Name: Antrostomus vociferus\n",
      "NatureServe Scientific Name: Antrostomus vociferus\n"
     ]
    },
    {
     "data": {
      "text/plain": [
       "{'class': 'Aves',\n",
       " 'family': 'Caprimulgidae',\n",
       " 'genus': 'Antrostomus',\n",
       " 'genusSize': {'code': 'C', 'description': 'C - Small genus (6-20 species)'},\n",
       " 'kingdom': 'Animalia',\n",
       " 'order': 'Caprimulgiformes',\n",
       " 'phylum': 'Craniata',\n",
       " 'taxonomicComments': 'Formerly merged with <i>Caprimulgus</i>, but now treated as a separate genus on the basis of genetic data (Han et al. 2010) (AOU 2012).<br /><br />Caprimulgus vociferus formerly included <i>C. arizonae</i>, but is now separated on the basis of differences in vocalizations (Hardy et al. 1988, Cink 2002) and mitochondrial and nuclear DNA (Han et al. 2010); the two species also differ in morphology (Phillips et al. 1964, Cink 2002) and egg pigmentation (Phillips et al. 1964) (AOU 2010).<br /><br />Considered conspecific with <i>C. noctitherus</i> of Puerto Rico by some authors (AOU 1983) and constitutes a superspecies with it (AOU 1998).'}"
      ]
     },
     "metadata": {},
     "output_type": "display_data"
    },
    {
     "name": "stdout",
     "output_type": "stream",
     "text": [
      "Original Scientific Name: Gallinula galeata\n",
      "NatureServe Scientific Name: Gallinula galeata\n"
     ]
    },
    {
     "data": {
      "text/plain": [
       "{'class': 'Aves',\n",
       " 'family': 'Rallidae',\n",
       " 'genus': 'Gallinula',\n",
       " 'genusSize': {'code': 'B',\n",
       "  'description': 'B - Very small genus (2-5 species)'},\n",
       " 'kingdom': 'Animalia',\n",
       " 'order': 'Gruiformes',\n",
       " 'phylum': 'Craniata',\n",
       " 'taxonomicComments': 'Formerly treated as conspecific with <i>G. chloropus </i>(Linnaeus 1758) [Common Moorhen] of Eurasia (AOU 1983, 1998), but separated on the basis of differences in vocalizations and bill and shield morphology (Constantine and The Sound Approach 2006) and mitochondrial DNA (Groenenberg et al. 2008) (AOU 2011). Formerly known as Florida Gallinule.'}"
      ]
     },
     "metadata": {},
     "output_type": "display_data"
    },
    {
     "name": "stdout",
     "output_type": "stream",
     "text": [
      "Original Scientific Name: Centruroides vittatus\n",
      "NatureServe Scientific Name: Centruroides vittatus\n"
     ]
    },
    {
     "data": {
      "text/plain": [
       "{'class': 'Arachnida',\n",
       " 'family': 'Buthidae',\n",
       " 'genus': 'Centruroides',\n",
       " 'kingdom': 'Animalia',\n",
       " 'order': 'Scorpiones',\n",
       " 'phylum': 'Chelicerata'}"
      ]
     },
     "metadata": {},
     "output_type": "display_data"
    },
    {
     "name": "stdout",
     "output_type": "stream",
     "text": [
      "Original Scientific Name: Anafroptilum album\n",
      "NatureServe Scientific Name: Centroptilum album\n"
     ]
    },
    {
     "data": {
      "text/plain": [
       "{'class': 'Insecta',\n",
       " 'family': 'Baetidae',\n",
       " 'genus': 'Centroptilum',\n",
       " 'kingdom': 'Animalia',\n",
       " 'order': 'Ephemeroptera',\n",
       " 'phylum': 'Mandibulata',\n",
       " 'taxonomicComments': '<i>Centroptilum walshi</i> and <i>Centroptilum convexum</i> have been found to be junior synonyms of <i>Centroptilum album</i> (see Wiersema and McCafferty, 2004).'}"
      ]
     },
     "metadata": {},
     "output_type": "display_data"
    },
    {
     "name": "stdout",
     "output_type": "stream",
     "text": [
      "Original Scientific Name: Aflexia rubranura\n",
      "NatureServe Scientific Name: Aflexia rubranura\n"
     ]
    },
    {
     "data": {
      "text/plain": [
       "{'class': 'Insecta',\n",
       " 'family': 'Cicadellidae',\n",
       " 'genus': 'Aflexia',\n",
       " 'kingdom': 'Animalia',\n",
       " 'order': 'Homoptera',\n",
       " 'phylum': 'Mandibulata',\n",
       " 'taxonomicComments': 'Formerly placed in the genus <i>Flexamia</i>.'}"
      ]
     },
     "metadata": {},
     "output_type": "display_data"
    },
    {
     "name": "stdout",
     "output_type": "stream",
     "text": [
      "Original Scientific Name: Athysanella incongrua\n",
      "NatureServe Scientific Name: Athysanella incongrua\n"
     ]
    },
    {
     "data": {
      "text/plain": [
       "{'class': 'Insecta',\n",
       " 'family': 'Cicadellidae',\n",
       " 'genus': 'Athysanella',\n",
       " 'kingdom': 'Animalia',\n",
       " 'order': 'Homoptera',\n",
       " 'phylum': 'Mandibulata'}"
      ]
     },
     "metadata": {},
     "output_type": "display_data"
    },
    {
     "name": "stdout",
     "output_type": "stream",
     "text": [
      "Original Scientific Name: Cosmotettix delector\n",
      "NatureServe Scientific Name: Cosmotettix delector\n"
     ]
    },
    {
     "data": {
      "text/plain": [
       "{'class': 'Insecta',\n",
       " 'family': 'Cicadellidae',\n",
       " 'genus': 'Cosmotettix',\n",
       " 'kingdom': 'Animalia',\n",
       " 'order': 'Homoptera',\n",
       " 'phylum': 'Mandibulata'}"
      ]
     },
     "metadata": {},
     "output_type": "display_data"
    },
    {
     "name": "stdout",
     "output_type": "stream",
     "text": [
      "Original Scientific Name: Cuerna alpina\n",
      "NatureServe Scientific Name: Cuerna alpina\n"
     ]
    },
    {
     "data": {
      "text/plain": [
       "{'class': 'Insecta',\n",
       " 'family': 'Cicadellidae',\n",
       " 'genus': 'Cuerna',\n",
       " 'kingdom': 'Animalia',\n",
       " 'order': 'Homoptera',\n",
       " 'phylum': 'Mandibulata'}"
      ]
     },
     "metadata": {},
     "output_type": "display_data"
    },
    {
     "name": "stdout",
     "output_type": "stream",
     "text": [
      "Original Scientific Name: Destria fumida\n",
      "NatureServe Scientific Name: Destria fumida\n"
     ]
    },
    {
     "data": {
      "text/plain": [
       "{'class': 'Insecta',\n",
       " 'family': 'Cicadellidae',\n",
       " 'genus': 'Destria',\n",
       " 'kingdom': 'Animalia',\n",
       " 'order': 'Homoptera',\n",
       " 'phylum': 'Mandibulata'}"
      ]
     },
     "metadata": {},
     "output_type": "display_data"
    },
    {
     "name": "stdout",
     "output_type": "stream",
     "text": [
      "Original Scientific Name: Flexamia abbreviata\n",
      "NatureServe Scientific Name: Flexamia abbreviatus\n"
     ]
    },
    {
     "data": {
      "text/plain": [
       "{'class': 'Insecta',\n",
       " 'family': 'Cicadellidae',\n",
       " 'genus': 'Flexamia',\n",
       " 'kingdom': 'Animalia',\n",
       " 'order': 'Homoptera',\n",
       " 'phylum': 'Mandibulata'}"
      ]
     },
     "metadata": {},
     "output_type": "display_data"
    },
    {
     "name": "stdout",
     "output_type": "stream",
     "text": [
      "Original Scientific Name: Flexamia albida\n",
      "NatureServe Scientific Name: Flexamia albidus\n"
     ]
    },
    {
     "data": {
      "text/plain": [
       "{'class': 'Insecta',\n",
       " 'family': 'Cicadellidae',\n",
       " 'genus': 'Flexamia',\n",
       " 'kingdom': 'Animalia',\n",
       " 'order': 'Homoptera',\n",
       " 'phylum': 'Mandibulata'}"
      ]
     },
     "metadata": {},
     "output_type": "display_data"
    },
    {
     "name": "stdout",
     "output_type": "stream",
     "text": [
      "Original Scientific Name: Flexamia grammica\n",
      "NatureServe Scientific Name: Flexamia grammica\n"
     ]
    },
    {
     "data": {
      "text/plain": [
       "{'class': 'Insecta',\n",
       " 'family': 'Cicadellidae',\n",
       " 'genus': 'Flexamia',\n",
       " 'kingdom': 'Animalia',\n",
       " 'order': 'Homoptera',\n",
       " 'phylum': 'Mandibulata'}"
      ]
     },
     "metadata": {},
     "output_type": "display_data"
    },
    {
     "name": "stdout",
     "output_type": "stream",
     "text": [
      "Original Scientific Name: Flexamia pectinata\n",
      "NatureServe Scientific Name: Flexamia pectinatus\n"
     ]
    },
    {
     "data": {
      "text/plain": [
       "{'class': 'Insecta',\n",
       " 'family': 'Cicadellidae',\n",
       " 'genus': 'Flexamia',\n",
       " 'kingdom': 'Animalia',\n",
       " 'order': 'Homoptera',\n",
       " 'phylum': 'Mandibulata'}"
      ]
     },
     "metadata": {},
     "output_type": "display_data"
    },
    {
     "name": "stdout",
     "output_type": "stream",
     "text": [
      "Original Scientific Name: Limotettix parallelus\n",
      "NatureServe Scientific Name: Limotettix parallelus\n"
     ]
    },
    {
     "data": {
      "text/plain": [
       "{'class': 'Insecta',\n",
       " 'family': 'Cicadellidae',\n",
       " 'genus': 'Limotettix',\n",
       " 'kingdom': 'Animalia',\n",
       " 'order': 'Homoptera',\n",
       " 'phylum': 'Mandibulata'}"
      ]
     },
     "metadata": {},
     "output_type": "display_data"
    },
    {
     "name": "stdout",
     "output_type": "stream",
     "text": [
      "Original Scientific Name: Memnonia panzeri\n",
      "NatureServe Scientific Name: Memnonia panzeri\n"
     ]
    },
    {
     "data": {
      "text/plain": [
       "{'class': 'Insecta',\n",
       " 'family': 'Cicadellidae',\n",
       " 'genus': 'Memnonia',\n",
       " 'kingdom': 'Animalia',\n",
       " 'order': 'Homoptera',\n",
       " 'phylum': 'Mandibulata'}"
      ]
     },
     "metadata": {},
     "output_type": "display_data"
    },
    {
     "name": "stdout",
     "output_type": "stream",
     "text": [
      "Original Scientific Name: Paraphlepsius nebulosus\n",
      "NatureServe Scientific Name: Paraphlepsius nebulosus\n"
     ]
    },
    {
     "data": {
      "text/plain": [
       "{'class': 'Insecta',\n",
       " 'family': 'Cicadellidae',\n",
       " 'genus': 'Paraphlepsius',\n",
       " 'kingdom': 'Animalia',\n",
       " 'order': 'Homoptera',\n",
       " 'phylum': 'Mandibulata'}"
      ]
     },
     "metadata": {},
     "output_type": "display_data"
    },
    {
     "name": "stdout",
     "output_type": "stream",
     "text": [
      "Original Scientific Name: Paraphlepsius umbellatus\n",
      "NatureServe Scientific Name: Paraphlepsius umbellatus\n"
     ]
    },
    {
     "data": {
      "text/plain": [
       "{'class': 'Insecta',\n",
       " 'family': 'Cicadellidae',\n",
       " 'genus': 'Paraphlepsius',\n",
       " 'kingdom': 'Animalia',\n",
       " 'order': 'Homoptera',\n",
       " 'phylum': 'Mandibulata'}"
      ]
     },
     "metadata": {},
     "output_type": "display_data"
    },
    {
     "name": "stdout",
     "output_type": "stream",
     "text": [
      "Original Scientific Name: Pendarus magnus\n",
      "NatureServe Scientific Name: Pendarus magnus\n"
     ]
    },
    {
     "data": {
      "text/plain": [
       "{'class': 'Insecta',\n",
       " 'family': 'Cicadellidae',\n",
       " 'genus': 'Pendarus',\n",
       " 'kingdom': 'Animalia',\n",
       " 'order': 'Homoptera',\n",
       " 'phylum': 'Mandibulata'}"
      ]
     },
     "metadata": {},
     "output_type": "display_data"
    },
    {
     "name": "stdout",
     "output_type": "stream",
     "text": [
      "Original Scientific Name: Polyamia dilata\n",
      "NatureServe Scientific Name: Polyamia dilata\n"
     ]
    },
    {
     "data": {
      "text/plain": [
       "{'class': 'Insecta',\n",
       " 'family': 'Cicadellidae',\n",
       " 'genus': 'Polyamia',\n",
       " 'kingdom': 'Animalia',\n",
       " 'order': 'Homoptera',\n",
       " 'phylum': 'Mandibulata'}"
      ]
     },
     "metadata": {},
     "output_type": "display_data"
    },
    {
     "name": "stdout",
     "output_type": "stream",
     "text": [
      "Original Scientific Name: Polyamia herbida\n",
      "NatureServe Scientific Name: Polyamia herbida\n"
     ]
    },
    {
     "data": {
      "text/plain": [
       "{'class': 'Insecta',\n",
       " 'family': 'Cicadellidae',\n",
       " 'genus': 'Polyamia',\n",
       " 'kingdom': 'Animalia',\n",
       " 'order': 'Homoptera',\n",
       " 'phylum': 'Mandibulata'}"
      ]
     },
     "metadata": {},
     "output_type": "display_data"
    },
    {
     "name": "stdout",
     "output_type": "stream",
     "text": [
      "Original Scientific Name: Polyamia similaris\n",
      "NatureServe Scientific Name: Polyamia similaris\n"
     ]
    },
    {
     "data": {
      "text/plain": [
       "{'class': 'Insecta',\n",
       " 'family': 'Cicadellidae',\n",
       " 'genus': 'Polyamia',\n",
       " 'kingdom': 'Animalia',\n",
       " 'order': 'Homoptera',\n",
       " 'phylum': 'Mandibulata'}"
      ]
     },
     "metadata": {},
     "output_type": "display_data"
    },
    {
     "name": "stdout",
     "output_type": "stream",
     "text": [
      "Original Scientific Name: Anacampsis wikeri\n",
      "NatureServe Scientific Name: Anacampsis wikeri\n"
     ]
    },
    {
     "data": {
      "text/plain": [
       "{'class': 'Insecta',\n",
       " 'family': 'Gelechiidae',\n",
       " 'genus': 'Anacampsis',\n",
       " 'kingdom': 'Animalia',\n",
       " 'order': 'Lepidoptera',\n",
       " 'phylum': 'Mandibulata'}"
      ]
     },
     "metadata": {},
     "output_type": "display_data"
    },
    {
     "name": "stdout",
     "output_type": "stream",
     "text": [
      "Original Scientific Name: Ancylis semiovana\n",
      "NatureServe Scientific Name: Ancylis semiovana\n"
     ]
    },
    {
     "data": {
      "text/plain": [
       "{'class': 'Insecta',\n",
       " 'family': 'Tortricidae',\n",
       " 'genus': 'Ancylis',\n",
       " 'kingdom': 'Animalia',\n",
       " 'order': 'Lepidoptera',\n",
       " 'phylum': 'Mandibulata'}"
      ]
     },
     "metadata": {},
     "output_type": "display_data"
    },
    {
     "name": "stdout",
     "output_type": "stream",
     "text": [
      "Original Scientific Name: Argyria critica\n",
      "NatureServe Scientific Name: Argyria critica\n"
     ]
    },
    {
     "data": {
      "text/plain": [
       "{'class': 'Insecta',\n",
       " 'family': 'Crambidae',\n",
       " 'genus': 'Argyria',\n",
       " 'kingdom': 'Animalia',\n",
       " 'order': 'Lepidoptera',\n",
       " 'phylum': 'Mandibulata',\n",
       " 'taxonomicComments': 'Formerly placed in the genus <i>Vaxi</i>.'}"
      ]
     },
     "metadata": {},
     "output_type": "display_data"
    },
    {
     "name": "stdout",
     "output_type": "stream",
     "text": [
      "Original Scientific Name: Carmenta anthracipennis\n",
      "NatureServe Scientific Name: Carmenta anthracipennis\n"
     ]
    },
    {
     "data": {
      "text/plain": [
       "{'class': 'Insecta',\n",
       " 'family': 'Sesiidae',\n",
       " 'genus': 'Carmenta',\n",
       " 'kingdom': 'Animalia',\n",
       " 'order': 'Lepidoptera',\n",
       " 'phylum': 'Mandibulata'}"
      ]
     },
     "metadata": {},
     "output_type": "display_data"
    },
    {
     "name": "stdout",
     "output_type": "stream",
     "text": [
      "Original Scientific Name: Eucosma bipunctella\n",
      "NatureServe Scientific Name: Eucosma bipunctella\n"
     ]
    },
    {
     "data": {
      "text/plain": [
       "{'class': 'Insecta',\n",
       " 'family': 'Tortricidae',\n",
       " 'genus': 'Eucosma',\n",
       " 'kingdom': 'Animalia',\n",
       " 'order': 'Lepidoptera',\n",
       " 'phylum': 'Mandibulata'}"
      ]
     },
     "metadata": {},
     "output_type": "display_data"
    },
    {
     "name": "stdout",
     "output_type": "stream",
     "text": [
      "Original Scientific Name: Eucosma fulminana\n",
      "NatureServe Scientific Name: Eucosma fulminana\n"
     ]
    },
    {
     "data": {
      "text/plain": [
       "{'class': 'Insecta',\n",
       " 'family': 'Tortricidae',\n",
       " 'genus': 'Eucosma',\n",
       " 'kingdom': 'Animalia',\n",
       " 'order': 'Lepidoptera',\n",
       " 'phylum': 'Mandibulata'}"
      ]
     },
     "metadata": {},
     "output_type": "display_data"
    },
    {
     "name": "stdout",
     "output_type": "stream",
     "text": [
      "Original Scientific Name: Evora hemidesma\n",
      "NatureServe Scientific Name: Evora hemidesma\n"
     ]
    },
    {
     "data": {
      "text/plain": [
       "{'class': 'Insecta',\n",
       " 'family': 'Tortricidae',\n",
       " 'genus': 'Evora',\n",
       " 'kingdom': 'Animalia',\n",
       " 'order': 'Lepidoptera',\n",
       " 'phylum': 'Mandibulata'}"
      ]
     },
     "metadata": {},
     "output_type": "display_data"
    },
    {
     "name": "stdout",
     "output_type": "stream",
     "text": [
      "Original Scientific Name: Neodactria murellus\n",
      "NatureServe Scientific Name: Neodactria murellus\n"
     ]
    },
    {
     "data": {
      "text/plain": [
       "{'class': 'Insecta',\n",
       " 'family': 'Crambidae',\n",
       " 'genus': 'Neodactria',\n",
       " 'genusSize': {'code': 'C', 'description': 'C - Small genus (6-20 species)'},\n",
       " 'kingdom': 'Animalia',\n",
       " 'order': 'Lepidoptera',\n",
       " 'phylum': 'Mandibulata'}"
      ]
     },
     "metadata": {},
     "output_type": "display_data"
    },
    {
     "name": "stdout",
     "output_type": "stream",
     "text": [
      "Original Scientific Name: Pyrausta orphisalis\n",
      "NatureServe Scientific Name: Pyrausta orphisalis\n"
     ]
    },
    {
     "data": {
      "text/plain": [
       "{'class': 'Insecta',\n",
       " 'family': 'Crambidae',\n",
       " 'genus': 'Pyrausta',\n",
       " 'genusSize': {'code': 'D',\n",
       "  'description': 'D - Medium to large genus (21+ species)'},\n",
       " 'kingdom': 'Animalia',\n",
       " 'order': 'Lepidoptera',\n",
       " 'phylum': 'Mandibulata'}"
      ]
     },
     "metadata": {},
     "output_type": "display_data"
    },
    {
     "name": "stdout",
     "output_type": "stream",
     "text": [
      "Original Scientific Name: Rhodoecia aurantiago\n",
      "NatureServe Scientific Name: Pyrrhia aurantiago\n"
     ]
    },
    {
     "data": {
      "text/plain": [
       "{'class': 'Insecta',\n",
       " 'family': 'Noctuidae',\n",
       " 'genus': 'Pyrrhia',\n",
       " 'kingdom': 'Animalia',\n",
       " 'order': 'Lepidoptera',\n",
       " 'phylum': 'Mandibulata',\n",
       " 'taxonomicComments': 'Generic combination from Pogue (2008).'}"
      ]
     },
     "metadata": {},
     "output_type": "display_data"
    },
    {
     "name": "stdout",
     "output_type": "stream",
     "text": [
      "Original Scientific Name: Sciota dammersi\n",
      "NatureServe Scientific Name: Sciota dammersi\n"
     ]
    },
    {
     "data": {
      "text/plain": [
       "{'class': 'Insecta',\n",
       " 'family': 'Pyralidae',\n",
       " 'genus': 'Sciota',\n",
       " 'genusSize': {'code': 'D',\n",
       "  'description': 'D - Medium to large genus (21+ species)'},\n",
       " 'kingdom': 'Animalia',\n",
       " 'order': 'Lepidoptera',\n",
       " 'phylum': 'Mandibulata'}"
      ]
     },
     "metadata": {},
     "output_type": "display_data"
    },
    {
     "name": "stdout",
     "output_type": "stream",
     "text": [
      "Original Scientific Name: Sitochroa dasconalis\n",
      "NatureServe Scientific Name: Sitochroa dasconalis\n"
     ]
    },
    {
     "data": {
      "text/plain": [
       "{'class': 'Insecta',\n",
       " 'family': 'Crambidae',\n",
       " 'genus': 'Sitochroa',\n",
       " 'kingdom': 'Animalia',\n",
       " 'order': 'Lepidoptera',\n",
       " 'phylum': 'Mandibulata'}"
      ]
     },
     "metadata": {},
     "output_type": "display_data"
    },
    {
     "name": "stdout",
     "output_type": "stream",
     "text": [
      "Original Scientific Name: Pygmarrhopalites madonnensis\n",
      "NatureServe Scientific Name: Pygmarrhopalites madonnensis\n"
     ]
    },
    {
     "data": {
      "text/plain": [
       "{'class': 'Elliplura',\n",
       " 'family': 'Arrhopalitidae',\n",
       " 'genus': 'Pygmarrhopalites',\n",
       " 'genusSize': {'code': 'D',\n",
       "  'description': 'D - Medium to large genus (21+ species)'},\n",
       " 'kingdom': 'Animalia',\n",
       " 'order': 'Collembola',\n",
       " 'phylum': 'Mandibulata'}"
      ]
     },
     "metadata": {},
     "output_type": "display_data"
    },
    {
     "name": "stdout",
     "output_type": "stream",
     "text": [
      "Original Scientific Name: Flabellorhagidia pecki\n",
      "NatureServe Scientific Name: Flabellorhagidia pecki\n"
     ]
    },
    {
     "data": {
      "text/plain": [
       "{'class': 'Arachnida',\n",
       " 'family': 'Rhagidiidae',\n",
       " 'genus': 'Flabellorhagidia',\n",
       " 'genusSize': {'code': 'C', 'description': 'C - Small genus (6-20 species)'},\n",
       " 'kingdom': 'Animalia',\n",
       " 'order': 'Actinedida',\n",
       " 'phylum': 'Chelicerata'}"
      ]
     },
     "metadata": {},
     "output_type": "display_data"
    },
    {
     "name": "stdout",
     "output_type": "stream",
     "text": [
      "Original Scientific Name: Allogona ptychophora solida\n",
      "NatureServe Scientific Name: Allogona ptychophora solida\n"
     ]
    },
    {
     "data": {
      "text/plain": [
       "{'class': 'Gastropoda',\n",
       " 'family': 'Polygyridae',\n",
       " 'genus': 'Allogona',\n",
       " 'kingdom': 'Animalia',\n",
       " 'order': 'Stylommatophora',\n",
       " 'phylum': 'Mollusca'}"
      ]
     },
     "metadata": {},
     "output_type": "display_data"
    },
    {
     "name": "stdout",
     "output_type": "stream",
     "text": [
      "Original Scientific Name: Cryptomastix mullani blandi\n",
      "NatureServe Scientific Name: Cryptomastix mullani blandi\n"
     ]
    },
    {
     "data": {
      "text/plain": [
       "{'class': 'Gastropoda',\n",
       " 'family': 'Polygyridae',\n",
       " 'genus': 'Cryptomastix',\n",
       " 'kingdom': 'Animalia',\n",
       " 'order': 'Stylommatophora',\n",
       " 'phylum': 'Mollusca'}"
      ]
     },
     "metadata": {},
     "output_type": "display_data"
    },
    {
     "name": "stdout",
     "output_type": "stream",
     "text": [
      "Original Scientific Name: Cryptomastix mullani clappi\n",
      "NatureServe Scientific Name: Cryptomastix mullani clappi\n"
     ]
    },
    {
     "data": {
      "text/plain": [
       "{'class': 'Gastropoda',\n",
       " 'family': 'Polygyridae',\n",
       " 'genus': 'Cryptomastix',\n",
       " 'kingdom': 'Animalia',\n",
       " 'order': 'Stylommatophora',\n",
       " 'phylum': 'Mollusca'}"
      ]
     },
     "metadata": {},
     "output_type": "display_data"
    },
    {
     "name": "stdout",
     "output_type": "stream",
     "text": [
      "Original Scientific Name: Kootenaia burkei\n",
      "NatureServe Scientific Name: Kootenaia burkei\n"
     ]
    },
    {
     "data": {
      "text/plain": [
       "{'class': 'Gastropoda',\n",
       " 'family': 'Arionidae',\n",
       " 'genus': 'Kootenaia',\n",
       " 'genusSize': {'code': 'A', 'description': 'A - Monotypic genus'},\n",
       " 'kingdom': 'Animalia',\n",
       " 'order': 'Stylommatophora',\n",
       " 'phylum': 'Mollusca'}"
      ]
     },
     "metadata": {},
     "output_type": "display_data"
    },
    {
     "name": "stdout",
     "output_type": "stream",
     "text": [
      "Original Scientific Name: Oreohelix strigosa goniogyra\n",
      "NatureServe Scientific Name: Oreohelix strigosa goniogyra\n"
     ]
    },
    {
     "data": {
      "text/plain": [
       "{'class': 'Gastropoda',\n",
       " 'family': 'Oreohelicidae',\n",
       " 'genus': 'Oreohelix',\n",
       " 'genusSize': {'code': 'D',\n",
       "  'description': 'D - Medium to large genus (21+ species)'},\n",
       " 'kingdom': 'Animalia',\n",
       " 'order': 'Stylommatophora',\n",
       " 'phylum': 'Mollusca'}"
      ]
     },
     "metadata": {},
     "output_type": "display_data"
    },
    {
     "name": "stdout",
     "output_type": "stream",
     "text": [
      "Original Scientific Name: Neotamias dorsalis\n",
      "NatureServe Scientific Name: Neotamias dorsalis\n"
     ]
    },
    {
     "data": {
      "text/plain": [
       "{'class': 'Mammalia',\n",
       " 'family': 'Sciuridae',\n",
       " 'genus': 'Neotamias',\n",
       " 'genusSize': {'code': 'D',\n",
       "  'description': 'D - Medium to large genus (21+ species)'},\n",
       " 'kingdom': 'Animalia',\n",
       " 'order': 'Rodentia',\n",
       " 'phylum': 'Craniata',\n",
       " 'taxonomicComments': 'See Dobson et al. (1987) for information on genetic variation in the eastern Great Basin. Formerly included in genus <i>Eutamias</i>, which recently was included in the genus <i>Tamias </i>(Levenson et al. 1985; Jones et al. 1992, Hoffmann et al., in Wilson and Reeder 1993). Based on patterns of variation in ectoparasites (Jameson 1999) and molecular phylogenetics (Piaggio and Spicer 2001), the North American mammal checklist by Baker et al. (2003) placed all North American chipmunks (except <i>Tamias striatus</i>) in the genus <i>Neotamias</i>. Thorington and Hoffmann (in Wilson and Reeder 2005) noted that chipmunks could be legitimately allocated to one (<i>Tamias</i>), two (<i>Neotamias</i>, <i>Tamias</i>), or three (<i>Tamias</i>, <i>Neotamias</i>, <i>Eutamias</i>) genera; they chose to adopt the single-genus (<i>Tamias</i>) arrangement.'}"
      ]
     },
     "metadata": {},
     "output_type": "display_data"
    },
    {
     "name": "stdout",
     "output_type": "stream",
     "text": [
      "Original Scientific Name: Neotamias ruficaudus\n",
      "NatureServe Scientific Name: Neotamias ruficaudus\n"
     ]
    },
    {
     "data": {
      "text/plain": [
       "{'class': 'Mammalia',\n",
       " 'family': 'Sciuridae',\n",
       " 'genus': 'Neotamias',\n",
       " 'genusSize': {'code': 'D',\n",
       "  'description': 'D - Medium to large genus (21+ species)'},\n",
       " 'kingdom': 'Animalia',\n",
       " 'order': 'Rodentia',\n",
       " 'phylum': 'Craniata',\n",
       " 'taxonomicComments': 'Bacular morphology suggests that subspecies <i>simulans </i>may be a distinct species (Patterson and Heaney 1987) but pelage coloration indicates considerable gene flow (Best 1993). <br /><br />Formerly included in genus <i>Eutamias</i>, which recently was included in the genus <i>Tamias </i>(Levenson et al. 1985; Jones et al. 1992, Hoffmann et al., in Wilson and Reeder 1993). Based on patterns of variation in ectoparasites (Jameson 1999) and molecular phylogenetics (Piaggio and Spicer 2001), the North American mammal checklist by Baker et al. (2003) placed all North American chipmunks (except <i>Tamias striatus</i>) in the genus <i>Neotamias</i>. Thorington and Hoffmann (in Wilson and Reeder 2005) noted that chipmunks could be legitimately allocated to one (<i>Tamias</i>), two (<i>Neotamias</i>, <i>Tamias</i>), or three (<i>Tamias</i>, <i>Neotamias</i>, <i>Eutamias</i>) genera; they chose to adopt the single-genus (<i>Tamias</i>) arrangement.<br /><br />See Sutton (1992) for a key to the species of TAMIAS.'}"
      ]
     },
     "metadata": {},
     "output_type": "display_data"
    },
    {
     "name": "stdout",
     "output_type": "stream",
     "text": [
      "Original Scientific Name: Neotamias umbrinus\n",
      "NatureServe Scientific Name: Neotamias umbrinus\n"
     ]
    },
    {
     "data": {
      "text/plain": [
       "{'class': 'Mammalia',\n",
       " 'family': 'Sciuridae',\n",
       " 'genus': 'Neotamias',\n",
       " 'genusSize': {'code': 'D',\n",
       "  'description': 'D - Medium to large genus (21+ species)'},\n",
       " 'kingdom': 'Animalia',\n",
       " 'order': 'Rodentia',\n",
       " 'phylum': 'Craniata',\n",
       " 'taxonomicComments': 'Pre-1953 references to <i>T. quadrivittatus</i> in some cases pertain to <i>T. umbrinus</i>. Bergstrom and Hoffmann (1991) found species-specific vocalizations, habitats, and bacular characters in sympatric <i>umbrinus </i>and <i>quadrivittatus</i>, but convergence in electromorphs. <br /><br />Formerly included in genus <i>Eutamias</i>, which recently was included in the genus <i>Tamias </i>(Levenson et al. 1985; Jones et al. 1992, Hoffmann et al., in Wilson and Reeder 1993). Based on patterns of variation in ectoparasites (Jameson 1999) and molecular phylogenetics (Piaggio and Spicer 2001), the North American mammal checklist by Baker et al. (2003) placed all North American chipmunks (except <i>Tamias striatus</i>) in the genus <i>Neotamias</i>. Thorington and Hoffmann (in Wilson and Reeder 2005) noted that chipmunks could be legitimately allocated to one (<i>Tamias</i>), two (<i>Neotamias</i>, <i>Tamias</i>), or three (<i>Tamias</i>, <i>Neotamias</i>, <i>Eutamias</i>) genera; they chose to adopt the single-genus (<i>Tamias</i>) arrangement.<br /><br />See Sutton (1992) for a key to the species of <i>Tamias </i>(<i>Neotamias</i>).<br /><br />Former subspecies <i>rufus </i>now is regarded as a distinct species (Patterson 1984).'}"
      ]
     },
     "metadata": {},
     "output_type": "display_data"
    },
    {
     "name": "stdout",
     "output_type": "stream",
     "text": [
      "Original Scientific Name: Cryptomastix mullani latilabris\n",
      "NatureServe Scientific Name: Cryptomastix mullani latilabris\n"
     ]
    },
    {
     "data": {
      "text/plain": [
       "{'class': 'Gastropoda',\n",
       " 'family': 'Polygyridae',\n",
       " 'genus': 'Cryptomastix',\n",
       " 'kingdom': 'Animalia',\n",
       " 'order': 'Stylommatophora',\n",
       " 'phylum': 'Mollusca'}"
      ]
     },
     "metadata": {},
     "output_type": "display_data"
    },
    {
     "name": "stdout",
     "output_type": "stream",
     "text": [
      "Original Scientific Name: Cryptomastix mullani tuckeri\n",
      "NatureServe Scientific Name: Cryptomastix mullani tuckeri\n"
     ]
    },
    {
     "data": {
      "text/plain": [
       "{'class': 'Gastropoda',\n",
       " 'family': 'Polygyridae',\n",
       " 'genus': 'Cryptomastix',\n",
       " 'kingdom': 'Animalia',\n",
       " 'order': 'Stylommatophora',\n",
       " 'phylum': 'Mollusca'}"
      ]
     },
     "metadata": {},
     "output_type": "display_data"
    },
    {
     "name": "stdout",
     "output_type": "stream",
     "text": [
      "Original Scientific Name: Cryptomastix populi\n",
      "NatureServe Scientific Name: Cryptomastix populi\n"
     ]
    },
    {
     "data": {
      "text/plain": [
       "{'class': 'Gastropoda',\n",
       " 'family': 'Polygyridae',\n",
       " 'genus': 'Cryptomastix',\n",
       " 'kingdom': 'Animalia',\n",
       " 'order': 'Stylommatophora',\n",
       " 'phylum': 'Mollusca'}"
      ]
     },
     "metadata": {},
     "output_type": "display_data"
    },
    {
     "name": "stdout",
     "output_type": "stream",
     "text": [
      "Original Scientific Name: Apamea mixta\n",
      "NatureServe Scientific Name: Melanapamea mixta\n"
     ]
    },
    {
     "data": {
      "text/plain": [
       "{'class': 'Insecta',\n",
       " 'family': 'Noctuidae',\n",
       " 'genus': 'Melanapamea',\n",
       " 'kingdom': 'Animalia',\n",
       " 'order': 'Lepidoptera',\n",
       " 'phylum': 'Mandibulata',\n",
       " 'taxonomicComments': 'Can be confused with <i>A. impulsa</i>, but actually a very distinct species. Genus and generic combination from Lafontaine (2009).<br>'}"
      ]
     },
     "metadata": {},
     "output_type": "display_data"
    },
    {
     "name": "stdout",
     "output_type": "stream",
     "text": [
      "Original Scientific Name: Cicinnus melsheimeri\n",
      "NatureServe Scientific Name: Cicinnus melsheimeri\n"
     ]
    },
    {
     "data": {
      "text/plain": [
       "{'class': 'Insecta',\n",
       " 'family': 'Mimallonidae',\n",
       " 'genus': 'Cicinnus',\n",
       " 'kingdom': 'Animalia',\n",
       " 'order': 'Lepidoptera',\n",
       " 'phylum': 'Mandibulata'}"
      ]
     },
     "metadata": {},
     "output_type": "display_data"
    },
    {
     "name": "stdout",
     "output_type": "stream",
     "text": [
      "Original Scientific Name: Faronta rubripennis\n",
      "NatureServe Scientific Name: Dargida rubripennis\n"
     ]
    },
    {
     "data": {
      "text/plain": [
       "{'class': 'Insecta',\n",
       " 'family': 'Noctuidae',\n",
       " 'genus': 'Dargida',\n",
       " 'kingdom': 'Animalia',\n",
       " 'order': 'Lepidoptera',\n",
       " 'phylum': 'Mandibulata',\n",
       " 'taxonomicComments': 'The genus <i>Faronta </i>was synonymized with <i>Dargida </i>Walker by RodrÃ\\xadguez and Angulo (2005) resulting in six new combinations.'}"
      ]
     },
     "metadata": {},
     "output_type": "display_data"
    },
    {
     "name": "stdout",
     "output_type": "stream",
     "text": [
      "Original Scientific Name: Oncocnemis riparia\n",
      "NatureServe Scientific Name: Sympistis riparia\n"
     ]
    },
    {
     "data": {
      "text/plain": [
       "{'class': 'Insecta',\n",
       " 'family': 'Noctuidae',\n",
       " 'genus': 'Sympistis',\n",
       " 'genusSize': {'code': 'D',\n",
       "  'description': 'D - Medium to large genus (21+ species)'},\n",
       " 'kingdom': 'Animalia',\n",
       " 'order': 'Lepidoptera',\n",
       " 'phylum': 'Mandibulata',\n",
       " 'taxonomicComments': 'The genus <i>Oncocnemis </i>was synonymized with <i>Sympistis </i>HÃ¼bner by Troubridge 2008.'}"
      ]
     },
     "metadata": {},
     "output_type": "display_data"
    },
    {
     "name": "stdout",
     "output_type": "stream",
     "text": [
      "Original Scientific Name: Spartiniphaga inops\n",
      "NatureServe Scientific Name: Photedes inops\n"
     ]
    },
    {
     "data": {
      "text/plain": [
       "{'class': 'Insecta',\n",
       " 'family': 'Noctuidae',\n",
       " 'genus': 'Photedes',\n",
       " 'kingdom': 'Animalia',\n",
       " 'order': 'Lepidoptera',\n",
       " 'phylum': 'Mandibulata',\n",
       " 'taxonomicComments': 'Transferred from <i>Spartiniphaga </i>to <i>Photedes </i>by Lafontaine and Schmidt (2010).<br><br>While Atlantic coast and prairie populations are apparently very disjunct, there has been no suggestion they merit taxonomic separation.'}"
      ]
     },
     "metadata": {},
     "output_type": "display_data"
    },
    {
     "name": "stdout",
     "output_type": "stream",
     "text": [
      "Original Scientific Name: Plestiodon fasciatus\n",
      "NatureServe Scientific Name: Plestiodon fasciatus\n"
     ]
    },
    {
     "data": {
      "text/plain": [
       "{'class': 'Reptilia',\n",
       " 'family': 'Scincidae',\n",
       " 'genus': 'Plestiodon',\n",
       " 'genusSize': {'code': 'C', 'description': 'C - Small genus (6-20 species)'},\n",
       " 'kingdom': 'Animalia',\n",
       " 'order': 'Squamata',\n",
       " 'phylum': 'Craniata',\n",
       " 'taxonomicComments': 'See Murphy et al. (1983) for information on the relationship of <i>E. fasciatus</i> to <i>E. inexpectatus</i> and <i>E. laticeps</i>. In a phylogenetic analysis of <i>Eumeces </i>based on morphology, Griffith et al. (2000) proposed splitting <i>Eumeces </i>into multiple genera, based on the apparent paraphyly of <i>Eumeces</i>. Smith (2005) and Brandley et al. (2005) formally proposed that all North American species (north of Mexico) be placed in the genus <i>Plestiodon</i>. This was accepted by Crother (2008) and Collins and Taggart (2009).'}"
      ]
     },
     "metadata": {},
     "output_type": "display_data"
    },
    {
     "name": "stdout",
     "output_type": "stream",
     "text": [
      "Original Scientific Name: Lampropeltis holbrooki\n",
      "NatureServe Scientific Name: Lampropeltis holbrooki\n"
     ]
    },
    {
     "data": {
      "text/plain": [
       "{'class': 'Reptilia',\n",
       " 'family': 'Colubridae',\n",
       " 'genus': 'Lampropeltis',\n",
       " 'genusSize': {'code': 'C', 'description': 'C - Small genus (6-20 species)'},\n",
       " 'kingdom': 'Animalia',\n",
       " 'order': 'Squamata',\n",
       " 'phylum': 'Craniata',\n",
       " 'taxonomicComments': 'Based on mitochondrial DNA evidence, ecological niche modeling, morphology, and historical precedence, Pyron and Burbrink (2009) determined that the traditionally recognized <i>Lampropeltis getula</i> comprises five distinct species: <i>L. getula</i>, <i>L. nigra</i>, <i>L. holbrooki</i>, <i>L. splendida</i>, and <i>L. californiae</i>. Crother et al. (in Crother 2012) accepted this taxonomic change.'}"
      ]
     },
     "metadata": {},
     "output_type": "display_data"
    },
    {
     "name": "stdout",
     "output_type": "stream",
     "text": [
      "Original Scientific Name: Pantherophis ramspotti \n",
      "'Cleaned' Scientific Name (for processing): Pantherophis ramspotti\n",
      "NatureServe Scientific Name: Pantherophis ramspotti\n"
     ]
    },
    {
     "data": {
      "text/plain": [
       "{'class': 'Reptilia',\n",
       " 'family': 'Colubridae',\n",
       " 'genus': 'Pantherophis',\n",
       " 'kingdom': 'Animalia',\n",
       " 'order': 'Squamata',\n",
       " 'phylum': 'Craniata',\n",
       " 'taxonomicComments': 'Based on a phylogenetic analysis of mtDNA data, Crother et al. (2011) determined that populations of <i>Pantherophis vulpinus</i> west of the Mississippi River should be recognized as a distinct species (<i>Pantherophis ramspotti</i>), whereas populations of <i>P. vulpinus</i> east of the Mississippi River represent a single species (<i>P. vulpinus</i>). The authors concluded that nominal <i>P. gloydi</i> of the eastern Great Lakes basin should be regarded as conspecific with <i>P. vulpinus</i>.'}"
      ]
     },
     "metadata": {},
     "output_type": "display_data"
    },
    {
     "name": "stdout",
     "output_type": "stream",
     "text": [
      "Original Scientific Name: Antrostomus carolinensis\n",
      "NatureServe Scientific Name: Antrostomus carolinensis\n"
     ]
    },
    {
     "data": {
      "text/plain": [
       "{'class': 'Aves',\n",
       " 'family': 'Caprimulgidae',\n",
       " 'genus': 'Antrostomus',\n",
       " 'genusSize': {'code': 'C', 'description': 'C - Small genus (6-20 species)'},\n",
       " 'kingdom': 'Animalia',\n",
       " 'order': 'Caprimulgiformes',\n",
       " 'phylum': 'Craniata',\n",
       " 'taxonomicComments': 'Formerly merged with <i>Caprimulgus</i>, but now treated as a separate genus on the basis of genetic data (Han et al. 2010) (AOU 2012). Constitutes a superspecies with C. rufus (AOU 1998).'}"
      ]
     },
     "metadata": {},
     "output_type": "display_data"
    },
    {
     "name": "stdout",
     "output_type": "stream",
     "text": [
      "Original Scientific Name: Gammarus minus tenuipes\n",
      "NatureServe Scientific Name: Gammarus minus tenuipes\n"
     ]
    },
    {
     "data": {
      "text/plain": [
       "{'class': 'Malacostraca',\n",
       " 'family': 'Gammaridae',\n",
       " 'genus': 'Gammarus',\n",
       " 'genusSize': {'code': 'D',\n",
       "  'description': 'D - Medium to large genus (21+ species)'},\n",
       " 'kingdom': 'Animalia',\n",
       " 'order': 'Amphipoda',\n",
       " 'phylum': 'Crustacea'}"
      ]
     },
     "metadata": {},
     "output_type": "display_data"
    },
    {
     "name": "stdout",
     "output_type": "stream",
     "text": [
      "Original Scientific Name: Arrhopalites commorus\n",
      "NatureServe Scientific Name: Pygmarrhopalites commorus\n"
     ]
    },
    {
     "data": {
      "text/plain": [
       "{'class': 'Elliplura',\n",
       " 'family': 'Arrhopalitidae',\n",
       " 'genus': 'Pygmarrhopalites',\n",
       " 'genusSize': {'code': 'D',\n",
       "  'description': 'D - Medium to large genus (21+ species)'},\n",
       " 'kingdom': 'Animalia',\n",
       " 'order': 'Collembola',\n",
       " 'phylum': 'Mandibulata',\n",
       " 'taxonomicComments': 'The genus <i>Arrhopalites </i>was transferred to <i>Pygmarrhopalites</i> by Vargovitsh (2009).'}"
      ]
     },
     "metadata": {},
     "output_type": "display_data"
    },
    {
     "name": "stdout",
     "output_type": "stream",
     "text": [
      "Original Scientific Name: Arrhopalites sacer\n",
      "NatureServe Scientific Name: Pygmarrhopalites sacer\n"
     ]
    },
    {
     "data": {
      "text/plain": [
       "{'class': 'Elliplura',\n",
       " 'family': 'Arrhopalitidae',\n",
       " 'genus': 'Pygmarrhopalites',\n",
       " 'genusSize': {'code': 'D',\n",
       "  'description': 'D - Medium to large genus (21+ species)'},\n",
       " 'kingdom': 'Animalia',\n",
       " 'order': 'Collembola',\n",
       " 'phylum': 'Mandibulata',\n",
       " 'taxonomicComments': 'The genus <i>Arrhopalites </i>was transferred to <i>Pygmarrhopalites</i> by Vargovitsh (2009).'}"
      ]
     },
     "metadata": {},
     "output_type": "display_data"
    },
    {
     "name": "stdout",
     "output_type": "stream",
     "text": [
      "Original Scientific Name: Arrhopalites pavo\n",
      "NatureServe Scientific Name: Pygmarrhopalites pavo\n"
     ]
    },
    {
     "data": {
      "text/plain": [
       "{'class': 'Elliplura',\n",
       " 'family': 'Arrhopalitidae',\n",
       " 'genus': 'Pygmarrhopalites',\n",
       " 'genusSize': {'code': 'D',\n",
       "  'description': 'D - Medium to large genus (21+ species)'},\n",
       " 'kingdom': 'Animalia',\n",
       " 'order': 'Collembola',\n",
       " 'phylum': 'Mandibulata',\n",
       " 'taxonomicComments': 'The genus <i>Arrhopalites </i>was transferred to <i>Pygmarrhopalites</i> by Vargovitsh (2009).'}"
      ]
     },
     "metadata": {},
     "output_type": "display_data"
    },
    {
     "name": "stdout",
     "output_type": "stream",
     "text": [
      "Original Scientific Name: Pseudosinella gisini gisini\n",
      "NatureServe Scientific Name: Pseudosinella gisini gisini\n"
     ]
    },
    {
     "data": {
      "text/plain": [
       "{'class': 'Elliplura',\n",
       " 'family': 'Entomobryidae',\n",
       " 'genus': 'Pseudosinella',\n",
       " 'genusSize': {'code': 'D',\n",
       "  'description': 'D - Medium to large genus (21+ species)'},\n",
       " 'kingdom': 'Animalia',\n",
       " 'order': 'Collembola',\n",
       " 'phylum': 'Mandibulata'}"
      ]
     },
     "metadata": {},
     "output_type": "display_data"
    },
    {
     "name": "stdout",
     "output_type": "stream",
     "text": [
      "Original Scientific Name: Poecilophysis weyerensis\n",
      "NatureServe Scientific Name: Poecilophysis weyerensis\n"
     ]
    },
    {
     "data": {
      "text/plain": [
       "{'class': 'Arachnida',\n",
       " 'family': 'Rhagidiidae',\n",
       " 'genus': 'Poecilophysis',\n",
       " 'genusSize': {'code': 'C', 'description': 'C - Small genus (6-20 species)'},\n",
       " 'kingdom': 'Animalia',\n",
       " 'order': 'Actinedida',\n",
       " 'phylum': 'Chelicerata'}"
      ]
     },
     "metadata": {},
     "output_type": "display_data"
    },
    {
     "name": "stdout",
     "output_type": "stream",
     "text": [
      "Original Scientific Name: Rhagidia varia\n",
      "NatureServe Scientific Name: Rhagidia varia\n"
     ]
    },
    {
     "data": {
      "text/plain": [
       "{'class': 'Arachnida',\n",
       " 'family': 'Rhagidiidae',\n",
       " 'genus': 'Rhagidia',\n",
       " 'genusSize': {'code': 'D',\n",
       "  'description': 'D - Medium to large genus (21+ species)'},\n",
       " 'kingdom': 'Animalia',\n",
       " 'order': 'Actinedida',\n",
       " 'phylum': 'Chelicerata'}"
      ]
     },
     "metadata": {},
     "output_type": "display_data"
    },
    {
     "name": "stdout",
     "output_type": "stream",
     "text": [
      "Original Scientific Name: Poecilophysis extraneostella\n",
      "NatureServe Scientific Name: Poecilophysis extraneostella\n"
     ]
    },
    {
     "data": {
      "text/plain": [
       "{'class': 'Arachnida',\n",
       " 'family': 'Rhagidiidae',\n",
       " 'genus': 'Poecilophysis',\n",
       " 'genusSize': {'code': 'C', 'description': 'C - Small genus (6-20 species)'},\n",
       " 'kingdom': 'Animalia',\n",
       " 'order': 'Actinedida',\n",
       " 'phylum': 'Chelicerata'}"
      ]
     },
     "metadata": {},
     "output_type": "display_data"
    },
    {
     "name": "stdout",
     "output_type": "stream",
     "text": [
      "Original Scientific Name: Poecilophysis wolmsdorfensis\n",
      "NatureServe Scientific Name: Poecilophysis wolmsdorfensis\n"
     ]
    },
    {
     "data": {
      "text/plain": [
       "{'class': 'Arachnida',\n",
       " 'family': 'Rhagidiidae',\n",
       " 'genus': 'Poecilophysis',\n",
       " 'genusSize': {'code': 'C', 'description': 'C - Small genus (6-20 species)'},\n",
       " 'kingdom': 'Animalia',\n",
       " 'order': 'Actinedida',\n",
       " 'phylum': 'Chelicerata'}"
      ]
     },
     "metadata": {},
     "output_type": "display_data"
    },
    {
     "name": "stdout",
     "output_type": "stream",
     "text": [
      "Original Scientific Name: Triodopsis juxtidens robinae\n",
      "NatureServe Scientific Name: Triodopsis juxtidens robinae\n"
     ]
    },
    {
     "data": {
      "text/plain": [
       "{'class': 'Gastropoda',\n",
       " 'family': 'Polygyridae',\n",
       " 'genus': 'Triodopsis',\n",
       " 'kingdom': 'Animalia',\n",
       " 'order': 'Stylommatophora',\n",
       " 'phylum': 'Mollusca'}"
      ]
     },
     "metadata": {},
     "output_type": "display_data"
    },
    {
     "name": "stdout",
     "output_type": "stream",
     "text": [
      "Original Scientific Name: Glyphyalinia solida\n",
      "NatureServe Scientific Name: Glyphyalinia solida\n"
     ]
    },
    {
     "data": {
      "text/plain": [
       "{'class': 'Gastropoda',\n",
       " 'family': 'Zonitidae',\n",
       " 'genus': 'Glyphyalinia',\n",
       " 'genusSize': {'code': 'C', 'description': 'C - Small genus (6-20 species)'},\n",
       " 'kingdom': 'Animalia',\n",
       " 'order': 'Stylommatophora',\n",
       " 'phylum': 'Mollusca',\n",
       " 'taxonomicComments': 'The genus GLYPHYALINIA was formerly included as a subgenus of the genus RETINELLA (Burch, 1962).'}"
      ]
     },
     "metadata": {},
     "output_type": "display_data"
    },
    {
     "name": "stdout",
     "output_type": "stream",
     "text": [
      "Original Scientific Name: Anguispira clarki\n",
      "NatureServe Scientific Name: Anguispira alternata\n"
     ]
    },
    {
     "data": {
      "text/plain": [
       "{'class': 'Gastropoda',\n",
       " 'family': 'Discidae',\n",
       " 'genus': 'Anguispira',\n",
       " 'genusSize': {'code': 'C', 'description': 'C - Small genus (6-20 species)'},\n",
       " 'kingdom': 'Animalia',\n",
       " 'order': 'Stylommatophora',\n",
       " 'phylum': 'Mollusca'}"
      ]
     },
     "metadata": {},
     "output_type": "display_data"
    },
    {
     "name": "stdout",
     "output_type": "stream",
     "text": [
      "Original Scientific Name: Pyrgus (centaureae) wyandot\n",
      "'Cleaned' Scientific Name (for processing): Pyrgus wyandot\n",
      "NatureServe Scientific Name: Pyrgus wyandot\n"
     ]
    },
    {
     "data": {
      "text/plain": [
       "{'class': 'Insecta',\n",
       " 'family': 'Hesperiidae',\n",
       " 'genus': 'Pyrgus',\n",
       " 'genusSize': {'code': 'C', 'description': 'C - Small genus (6-20 species)'},\n",
       " 'kingdom': 'Animalia',\n",
       " 'order': 'Lepidoptera',\n",
       " 'phylum': 'Mandibulata',\n",
       " 'taxonomicComments': 'Most authors have treated this as a subspecies of the circumboreal <i>P</i>. <i>centaureae</i> despite substantial differences. Genitalia differences noted by several authors (Shapiro, 1974; Klots, 1951; Forbes, 1960), adult maculation differences, as well as larval color (Allen, 1997), greatly different habitat, are cited by some recent works to justify treatment as a separate species as proposed by Shapiro (1974) and indirectly by Forbes (1960). Assuming the genitalia differences given explicitly by Forbes are reliable, these combined with both adult maculation and larval color differences would be more than enough to justify full species status by the normal practices in insect taxonomy. Genitalia differences alone are routinely used to justify species versus subspecies status. Forbes (1960), a notably conservative taxonomist with a very good record of getting species concepts right, left <i>wyandot</i> as a subspecies of <i>centaureae</i> but considered <i>freija </i>sufficiently different from it in genitalia as to warrant species status. It is difficult to conclude from Forbes\\' discussion of the genitalia and other differences that <i>wyandot</i> and <i>freija</i> are conspecific and apparently there is no disagreement now that <i>freija</i> and <i>centaureae</i> are conspecific.  There has been no other relevant revisionary study since Lindsey, Bell and Williams (1930) who listed it under <i>centaureae </i>without comment and Forbes (1960) who compared <i>wyandot</i> only to <i>freija</i> and neither to European <i>centaureae</i>. Therefore, inertia favors subspecies status in the absence of indisputable evidence to the contrary-strong contrary evidence notwithstanding.  Opler and Warren (2002) \"tentatively\" included <i>wyandot</i> within <i>P. centaureae.  </i><br /><br /><i>For now</i><i> Pyrgus wyandot</i> is retained in this database (as in previous versions) as a species distinct from <i>Pyrgus centaureae freija</i> largely on the basis of the genitalia differences between <i>wyandot</i> and <i>freija</i>, which as far as known hold reliably as reported and are supported by the other lesser differences. If the genitalia differences do not hold or mDNA proved very similar to other taxa, then the case for full species would be weakened considerably. Until a more careful published analysis is published, Forbes\\' account is accepted as the most recent taxonomic treatment and the universal treatment by subsequent authors of <i>freija</i> and <i>centaureae</i> as conspecific is also accepted. Also one would not expect a boreal-low arctic/alpine species in some of the hottest microhabitats in eastern North America--a fair description of a typical <i>P. wyandot</i> site in much of its former range.  This is definitely a low elevation (rarely if ever &gt;900 meters) barrens, not subalpine, taxon. The foodplant genera used in nature by this complex (<i>Potentilla</i>, <i>Fragaria</i>, <i>Rubus</i>) do not justify any particular taxonomic status. These genera are closely related and the exact species involved are all ground cover plants of similar growth form. The Q is mainly in deference to the tentative placement as a subspecies by the most recent published treatment (Opler and Warren, 2002).   D. F. Schweitzer.<br /><br />Whether as a full species or subspecies the circumscription of this taxon is also problematic until the Michigan entity is clarified. Michigan populations differ from typical <i>wyandot</i> in foodplant and habitat as well as adult appearance and larval color (pinkish brown, not green, Allen, 1997). It is very likely that Michigan populations are not the taxon <i>wyandot</i>. All other United States records for <i>Pyrgus centaureae</i> from Ohio south and east refer to <i>P. wyandot</i>.'}"
      ]
     },
     "metadata": {},
     "output_type": "display_data"
    },
    {
     "name": "stdout",
     "output_type": "stream",
     "text": [
      "Original Scientific Name: Linnaea borealis ssp. americana\n",
      "NatureServe Scientific Name: Linnaea borealis ssp. americana\n"
     ]
    },
    {
     "data": {
      "text/plain": [
       "{'class': 'Dicotyledoneae',\n",
       " 'family': 'Caprifoliaceae',\n",
       " 'genus': 'Linnaea',\n",
       " 'kingdom': 'Plantae',\n",
       " 'order': 'Dipsacales',\n",
       " 'phylum': 'Anthophyta',\n",
       " 'taxonomicComments': 'Kartesz (1999) does not list <i>Linnaea borealis</i> ssp. <i>borealis</i> as occurring within the range covered by the Synthesis. However, the subspecies <i>americana</i> (previously included in his 1994 list under <i>L. borealis</i> ssp. <i>longiflora</i>) is now listed with a broad distribution throughout northern North America.'}"
      ]
     },
     "metadata": {},
     "output_type": "display_data"
    },
    {
     "name": "stdout",
     "output_type": "stream",
     "text": [
      "Original Scientific Name: Melanelia stygia\n",
      "NatureServe Scientific Name: Melanelia stygia\n"
     ]
    },
    {
     "data": {
      "text/plain": [
       "{'class': 'Ascomycetes',\n",
       " 'family': 'Parmeliaceae',\n",
       " 'genus': 'Melanelia',\n",
       " 'kingdom': 'Fungi',\n",
       " 'order': 'Lecanorales',\n",
       " 'phylum': 'Ascomycota',\n",
       " 'taxonomicComments': \"Distinct, Esslinger's taxonomy generally accepted. Thomson, 1984, Amer. Arctic Lichens retains sp. in Parmelia and splits into two varieties.\"}"
      ]
     },
     "metadata": {},
     "output_type": "display_data"
    },
    {
     "name": "stdout",
     "output_type": "stream",
     "text": [
      "Original Scientific Name: Platanthera shriveri\n",
      "NatureServe Scientific Name: Platanthera shriveri\n"
     ]
    },
    {
     "data": {
      "text/plain": [
       "{'class': 'Monocotyledoneae',\n",
       " 'family': 'Orchidaceae',\n",
       " 'genus': 'Platanthera',\n",
       " 'kingdom': 'Plantae',\n",
       " 'order': 'Orchidales',\n",
       " 'phylum': 'Anthophyta',\n",
       " 'taxonomicComments': 'Newly described in 2008, this species differs from the related <i>P. grandiflora</i> in its later flowering; inflorescence with more open appearance; flowers having longer ovaries, longer spurs, and deeper fringing; and fringed lip with a more concave shape (Brown et al. 2008). It is superficially similar to <i>P</i>. x <i>keenanii</i>, but exhibits subtle morphological differences from that taxon. Brown et al. (2008) hypothesize that <i>P. shriveri</i> may represent a distinct species of ancient hybrid origin (<i>P. grandiflora</i> x <i>P. lacera</i>), which superficially resembles, but differs significantly from, the rare, local, short-lived contemporary hybrid <i>P.</i> x <i>keenanii</i> with the same putative parents.'}"
      ]
     },
     "metadata": {},
     "output_type": "display_data"
    },
    {
     "name": "stdout",
     "output_type": "stream",
     "text": [
      "Original Scientific Name: Dichanthelium acuminatum ssp. acuminatum\n",
      "NatureServe Scientific Name: Dichanthelium acuminatum ssp. acuminatum\n"
     ]
    },
    {
     "data": {
      "text/plain": [
       "{'class': 'Monocotyledoneae',\n",
       " 'family': 'Poaceae',\n",
       " 'genus': 'Dichanthelium',\n",
       " 'kingdom': 'Plantae',\n",
       " 'order': 'Cyperales',\n",
       " 'phylum': 'Anthophyta',\n",
       " 'taxonomicComments': 'Flora of North America\\'s (2003) <i>Dichanthelium acuminatum</i> ssp. <i>acuminatum</i> includes Kartesz\\'s (1999) <i>Dichanthelium acuminatum</i> var. <i>thurowii</i> as well as (part of?) his <i>Dichanthelium acuminatum</i> var. <i>acuminatum</i>.  FNA describes <i>D. acuminatum</i> ssp. <i>acuminatum</i> as growing \"primarily in moist, open, sandy areas on the Atlantic and Gulf coastal plains; its range extends through Mexico, the West Indies, and Central America to northern South America.\"  However, Kartesz\\'s (1999) <i>D. acuminatum</i> var. <i>acuminatum</i> appears to be more widespread in North America than FNA\\'s description, occurring in many central and western states/provinces as well.'}"
      ]
     },
     "metadata": {},
     "output_type": "display_data"
    },
    {
     "name": "stdout",
     "output_type": "stream",
     "text": [
      "Original Scientific Name: Pantherophis guttatus\n",
      "NatureServe Scientific Name: Pantherophis guttatus\n"
     ]
    },
    {
     "data": {
      "text/plain": [
       "{'class': 'Reptilia',\n",
       " 'family': 'Colubridae',\n",
       " 'genus': 'Pantherophis',\n",
       " 'kingdom': 'Animalia',\n",
       " 'order': 'Squamata',\n",
       " 'phylum': 'Craniata',\n",
       " 'taxonomicComments': 'Burbrink (2002) used cytochrome <i>b</i> sequences to examine phylogenetic relationships among <i>E. guttata</i> populations (one specimen from each of 53 locations throughout most of the range). He found no support for recognition of the nominal subspecies <i>intermontanus </i>and <i>meahllmorum</i> as distinct taxa; these appear to be junior synonyms of <i>E. guttata emoryi</i>. Burbrink identified three partitions of <i>E. guttata</i>: an eastern partition (east of the Mississippi River) corresponding to <i>E. guttata guttata</i>, a western partition corresponding to <i>E. guttata emoryi </i>(including <i>E. g. intermontanus</i> and <i>E. g. meahllmorum</i>), and a central partition in western Louisiana and eastern Texas. The central partition, in pine and pine-hardwood habitat west of the Mississippi River, clustered closer to the eastern partition than to the western partition. Burbrink recognized the three partitions as species using evolutionary species criteria: (1) <i>Elaphe guttata</i> (red corn snake) (eastern partition ), (2) <i>Elaphe emoryi </i>(Great Plains rat snake) (western partition), and (3) <i>Elaphe slowinskii </i>(Slowinski\\'s corn snake) (central partition). One specimen (Hidalgo County, Texas) of the central partition (based on cytochrome <i>b</i> characteristics) was located outside the presumed geographic area and habitat identified for other members of that partition. Crother et al. (2003) adopted these changes but used the following names: red cornsnake, Great Plains ratsnake, and Slowinski\\'s cornsnake. Ernst and Ernst (2003) recognized <i>E. emoryi</i> and <i>E. guttata</i> as distinct species, but their manuscript evidently was completed before Burbrink\\'s paper was published; they did not comment on <i>E. slowinskii.</i><br /><br /><i>Utiger et al. (2002) examined mtDNA variation in New World and Old World </i><i>\"Elaphe</i>\" and determined that North American rat snakes currently included in the genus <i>Elaphe </i>form a monophyletic limeage that is distinct from Old World snakes that also have been regarded as <i>Elaphe</i>. They resurrected the genus <i>Pantherophis </i>for the rat snakes north of Mexico, including the following species: <i>Pantherophis obsoletus</i> (and <i>P. alleghaniensis</i> and <i>P. spiloides</i>, if one recognizes those taxa as species), <i>P. guttatus</i>, <i>P. emoryi</i>, <i>P. vulpinus</i>, <i>P. gloydi</i>, and<i> P. bairdi</i>. Based on mtDNA and nuclear DNA data, Burbrink and Lawson (2007) determined that New World <i>Elaphe </i>are not closely related to Old World <i>Elaphe</i>. Here we follow these studies and Crother (2008) and transfer New World <i>Elaphe </i>to the genus <i>Pantherophis</i>.'}"
      ]
     },
     "metadata": {},
     "output_type": "display_data"
    },
    {
     "name": "stdout",
     "output_type": "stream",
     "text": [
      "Original Scientific Name: Plestiodon anthracinus anthracinus\n",
      "NatureServe Scientific Name: Plestiodon anthracinus anthracinus\n"
     ]
    },
    {
     "data": {
      "text/plain": [
       "{'class': 'Reptilia',\n",
       " 'family': 'Scincidae',\n",
       " 'genus': 'Plestiodon',\n",
       " 'genusSize': {'code': 'C', 'description': 'C - Small genus (6-20 species)'},\n",
       " 'kingdom': 'Animalia',\n",
       " 'order': 'Squamata',\n",
       " 'phylum': 'Craniata'}"
      ]
     },
     "metadata": {},
     "output_type": "display_data"
    },
    {
     "name": "stdout",
     "output_type": "stream",
     "text": [
      "Original Scientific Name: Plestiodon laticeps\n",
      "NatureServe Scientific Name: Plestiodon laticeps\n"
     ]
    },
    {
     "data": {
      "text/plain": [
       "{'class': 'Reptilia',\n",
       " 'family': 'Scincidae',\n",
       " 'genus': 'Plestiodon',\n",
       " 'genusSize': {'code': 'C', 'description': 'C - Small genus (6-20 species)'},\n",
       " 'kingdom': 'Animalia',\n",
       " 'order': 'Squamata',\n",
       " 'phylum': 'Craniata',\n",
       " 'taxonomicComments': 'See Murphy et al. (1983) for information on the relationships among <i>E. inexpectatus</i>, <i>E. fasciatus</i>, and <i>E. laticeps</i>. In a phylogenetic analysis of <i>Eumeces</i> based on morphology, Griffith et al. (2000) proposed splitting <i>Eumeces</i> into multiple genera, based on the apparent paraphyly of <i>Eumeces</i>. Smith (2005) and Brandley et al. (2005) formally proposed that all North American species (north of Mexico) be placed in the genus <i>Plestiodon</i>. This was accepted by Crother (2008) and Collins and Taggart (2009).'}"
      ]
     },
     "metadata": {},
     "output_type": "display_data"
    },
    {
     "name": "stdout",
     "output_type": "stream",
     "text": [
      "Original Scientific Name: Noturus crypticus\n",
      "NatureServe Scientific Name: Noturus crypticus\n"
     ]
    },
    {
     "data": {
      "text/plain": [
       "{'class': 'Actinopterygii',\n",
       " 'family': 'Ictaluridae',\n",
       " 'genus': 'Noturus',\n",
       " 'genusSize': {'code': 'D',\n",
       "  'description': 'D - Medium to large genus (21+ species)'},\n",
       " 'kingdom': 'Animalia',\n",
       " 'order': 'Siluriformes',\n",
       " 'phylum': 'Craniata',\n",
       " 'taxonomicComments': '<i>Noturus crypticus</i>  formerly was included in <i>Noturus elegans</i> but was regarded as an undescribed species for several years. Burr et al. (2005) formally described it as a distinct species.<br /><br />See Grady and LeGrande (1992) for a study of phylogenetic relationships, modes of speciation, and historical biogeography of <i>Noturus </i>madtom catfishes. See Lundberg (1992) for a synthesis of work on the systematic relationships of ictalurid catfishes.'}"
      ]
     },
     "metadata": {},
     "output_type": "display_data"
    },
    {
     "name": "stdout",
     "output_type": "stream",
     "text": [
      "Original Scientific Name: Athearnia anthonyi\n",
      "NatureServe Scientific Name: Athearnia anthonyi\n"
     ]
    },
    {
     "data": {
      "text/plain": [
       "{'class': 'Gastropoda',\n",
       " 'family': 'Pleuroceridae',\n",
       " 'genus': 'Athearnia',\n",
       " 'kingdom': 'Animalia',\n",
       " 'order': 'Neotaenioglossa',\n",
       " 'phylum': 'Mollusca',\n",
       " 'taxonomicComments': 'Formerly placed as a subspecies of <i>Leptoxis</i> (= <i>Athearnia</i>) <i>crassa</i> (see Dillon and Ahlstedt, 1997). <i>Athearnia crassa crassa</i> and <i>Athearnia crassa anthonyi</i> are distinct from one another and <i>Athearnia anthonyi</i> and <i>Athearnia crassa</i> are now recognized as distinct species (see Dillon and Ahlstedt, 1997; Minton and Savarese, 2005).'}"
      ]
     },
     "metadata": {},
     "output_type": "display_data"
    },
    {
     "name": "stdout",
     "output_type": "stream",
     "text": [
      "Original Scientific Name: Elimia christyi\n",
      "NatureServe Scientific Name: Elimia christyi\n"
     ]
    },
    {
     "data": {
      "text/plain": [
       "{'class': 'Gastropoda',\n",
       " 'family': 'Pleuroceridae',\n",
       " 'genus': 'Elimia',\n",
       " 'kingdom': 'Animalia',\n",
       " 'order': 'Neotaenioglossa',\n",
       " 'phylum': 'Mollusca',\n",
       " 'taxonomicComments': \"Goodrich (1940) placed <i>Elimia interrupta </i>in its own species group, gave the distribution as the Hiwassee River in North Carolina and eastern Tennessee, and suggested the species had a Gulf Coast origin. This was the first published record of <i>E. interrupta </i>in the Hiwassee River.  Baker (1964) designated the lectotype from a locality in Nashville (Cumberland River drainage).  Burch (1989) followed Goodrich (1940), listing <i>E. interrupta</i> with the same distribution (Hiwassee River drainage) conflicting with Baker's type material.  Based on collection locality, morphological characteristics, and morphometric analysis, Minton et al. (2004) believe the lectotype of <i>E. interrupta </i>represents a species separate from <i>E. christyi</i>, represented by the type specimens of <i>E. christyi </i>and <i>E. instabilis </i>and recent collections of putative <i>E. interrupta</i>. It appears that usage of <i>interrupta </i>for the highly sculptured Hiwassee River specimens was a result of Goodrich (1940) providing the locality. Therefore, Minton et al. (2004) consider usage of the name <i>interrupta </i>before Goodrich (1940) to refer to <i>E. interrupta</i>, and usage from 1940 forward, including Goodrich (1940) to refer to <i>E. christyi</i>. The name <i>Goniobasis </i>[=<i> Elimia</i>] <i>instabilis </i>Lea should be considered a junior synonym of <i>E. christyi </i>on the basis of priority, as should the combination <i>L. christyi</i>.  Recent collections of putative <i>E. interrupta </i>from the Hiwassee River and other streams in North Carolina and eastern Tennessee should be considered <i>E. christyi </i>as it is the next available name (Minton et al., 2004).\"}"
      ]
     },
     "metadata": {},
     "output_type": "display_data"
    },
    {
     "name": "stdout",
     "output_type": "stream",
     "text": [
      "Original Scientific Name: Lithasia geniculata fuliginosa\n",
      "NatureServe Scientific Name: Lithasia geniculata fuliginosa\n"
     ]
    },
    {
     "data": {
      "text/plain": [
       "{'class': 'Gastropoda',\n",
       " 'family': 'Pleuroceridae',\n",
       " 'genus': 'Lithasia',\n",
       " 'kingdom': 'Animalia',\n",
       " 'order': 'Neotaenioglossa',\n",
       " 'phylum': 'Mollusca',\n",
       " 'taxonomicComments': 'The wide-ranging sympatry between <i>Lithasia geniculata</i> and <i>Lithasia fuliginosa</i> indicate they could be separate species.  Genus name <i>Lithasia</i> Haldeman, 1840 is actually a junior synonym of <i>Ellipstoma</i> Rafinesque, 1818, but Minton and Bogan (2003) have successfully suppressed <i>Ellipstoma</i> in favor of the better known <i>Lithasia </i>(ICZN, 2005).  Based on molecular and limited morphological phylogenetics, Minton and Lydeard (2003) have determined that <i>Lithasia geniculata</i> is likely a composite comprised of <i>Lithasia geniculata fuliginosa</i> from the upper Duck River tributaries and Cumberland River drainage.'}"
      ]
     },
     "metadata": {},
     "output_type": "display_data"
    },
    {
     "name": "stdout",
     "output_type": "stream",
     "text": [
      "Original Scientific Name: Lithasia geniculata pinguis\n",
      "NatureServe Scientific Name: Lithasia geniculata pinguis\n"
     ]
    },
    {
     "data": {
      "text/plain": [
       "{'class': 'Gastropoda',\n",
       " 'family': 'Pleuroceridae',\n",
       " 'genus': 'Lithasia',\n",
       " 'kingdom': 'Animalia',\n",
       " 'order': 'Neotaenioglossa',\n",
       " 'phylum': 'Mollusca',\n",
       " 'taxonomicComments': 'May be a distinct species; endemic to the upper Caney Fork basin above Great Falls and is isolated from <i>geniculata </i>and <i>fuliginosa </i>(Gordon pers. comm. 1993).  Based on molecular and limited morphological phylogenenetics, Minton and Lydeard (2003) have determined that <i>Lithasia fuliginosa</i> is a composite of what were formerly <i>Lithasia duttoniana</i>, <i>Lithasia geniculata fuligonosa</i>, <i>Lithasia geniculata geniculata</i>, <i>Lithasia geniculata pinguis</i>, and possibly <i>Lithasia jayana</i> all from the Duck River, Tennessee.  Genus name <i>Lithasia</i> Haldeman, 1840 is actually a junior synonym of <i>Ellipstoma</i> Rafinesque, 1818, but Minton and Bogan (2003) have successfully suppressed <i>Ellipstoma</i> in favor of the better known <i>Lithasia </i>(ICZN, 2005).'}"
      ]
     },
     "metadata": {},
     "output_type": "display_data"
    },
    {
     "name": "stdout",
     "output_type": "stream",
     "text": [
      "Original Scientific Name: Achaearanea porteri\n",
      "NatureServe Scientific Name: Achaearanea porteri\n"
     ]
    },
    {
     "data": {
      "text/plain": [
       "{'class': 'Arachnida',\n",
       " 'family': 'Theridiidae',\n",
       " 'genus': 'Achaearanea',\n",
       " 'kingdom': 'Animalia',\n",
       " 'order': 'Araneae',\n",
       " 'phylum': 'Chelicerata'}"
      ]
     },
     "metadata": {},
     "output_type": "display_data"
    },
    {
     "name": "stdout",
     "output_type": "stream",
     "text": [
      "Original Scientific Name: Helicodiscus notius specus\n",
      "NatureServe Scientific Name: Helicodiscus notius specus\n"
     ]
    },
    {
     "data": {
      "text/plain": [
       "{'class': 'Gastropoda',\n",
       " 'family': 'Helicodiscidae',\n",
       " 'genus': 'Helicodiscus',\n",
       " 'genusSize': {'code': 'D',\n",
       "  'description': 'D - Medium to large genus (21+ species)'},\n",
       " 'kingdom': 'Animalia',\n",
       " 'order': 'Stylommatophora',\n",
       " 'phylum': 'Mollusca'}"
      ]
     },
     "metadata": {},
     "output_type": "display_data"
    },
    {
     "name": "stdout",
     "output_type": "stream",
     "text": [
      "Original Scientific Name: Acrotrichis lucidula\n",
      "NatureServe Scientific Name: Acrotrichis lucidula\n"
     ]
    },
    {
     "data": {
      "text/plain": [
       "{'class': 'Insecta',\n",
       " 'family': 'Ptiliidae',\n",
       " 'genus': 'Acrotrichis',\n",
       " 'kingdom': 'Animalia',\n",
       " 'order': 'Coleoptera',\n",
       " 'phylum': 'Mandibulata'}"
      ]
     },
     "metadata": {},
     "output_type": "display_data"
    },
    {
     "name": "stdout",
     "output_type": "stream",
     "text": [
      "Original Scientific Name: Aloconota insecta\n",
      "NatureServe Scientific Name: Aloconota insecta\n"
     ]
    },
    {
     "data": {
      "text/plain": [
       "{'class': 'Insecta',\n",
       " 'family': 'Staphylinidae',\n",
       " 'genus': 'Aloconota',\n",
       " 'kingdom': 'Animalia',\n",
       " 'order': 'Coleoptera',\n",
       " 'phylum': 'Mandibulata'}"
      ]
     },
     "metadata": {},
     "output_type": "display_data"
    },
    {
     "name": "stdout",
     "output_type": "stream",
     "text": [
      "Original Scientific Name: Arrhopalites marshalli\n",
      "NatureServe Scientific Name: Pygmarrhopalites marshalli\n"
     ]
    },
    {
     "data": {
      "text/plain": [
       "{'class': 'Elliplura',\n",
       " 'family': 'Arrhopalitidae',\n",
       " 'genus': 'Pygmarrhopalites',\n",
       " 'genusSize': {'code': 'D',\n",
       "  'description': 'D - Medium to large genus (21+ species)'},\n",
       " 'kingdom': 'Animalia',\n",
       " 'order': 'Collembola',\n",
       " 'phylum': 'Mandibulata',\n",
       " 'taxonomicComments': 'The genus <i>Arrhopalites </i>was transferred to <i>Pygmarrhopalites</i> by Vargovitsh (2009).'}"
      ]
     },
     "metadata": {},
     "output_type": "display_data"
    },
    {
     "name": "stdout",
     "output_type": "stream",
     "text": [
      "Original Scientific Name: Lesteva pallipes\n",
      "NatureServe Scientific Name: Lesteva pallipes\n"
     ]
    },
    {
     "data": {
      "text/plain": [
       "{'class': 'Insecta',\n",
       " 'family': 'Staphylinidae',\n",
       " 'genus': 'Lesteva',\n",
       " 'kingdom': 'Animalia',\n",
       " 'order': 'Coleoptera',\n",
       " 'phylum': 'Mandibulata'}"
      ]
     },
     "metadata": {},
     "output_type": "display_data"
    },
    {
     "name": "stdout",
     "output_type": "stream",
     "text": [
      "Original Scientific Name: Sensillanura barberi\n",
      "NatureServe Scientific Name: Sensillanura barberi\n"
     ]
    },
    {
     "data": {
      "text/plain": [
       "{'class': 'Elliplura',\n",
       " 'family': 'Hypogastruridae',\n",
       " 'genus': 'Sensillanura',\n",
       " 'kingdom': 'Animalia',\n",
       " 'order': 'Collembola',\n",
       " 'phylum': 'Mandibulata'}"
      ]
     },
     "metadata": {},
     "output_type": "display_data"
    },
    {
     "name": "stdout",
     "output_type": "stream",
     "text": [
      "Original Scientific Name: Desmognathus organi\n",
      "NatureServe Scientific Name: Desmognathus organi\n"
     ]
    },
    {
     "data": {
      "text/plain": [
       "{'class': 'Amphibia',\n",
       " 'family': 'Plethodontidae',\n",
       " 'genus': 'Desmognathus',\n",
       " 'genusSize': {'code': 'C', 'description': 'C - Small genus (6-20 species)'},\n",
       " 'kingdom': 'Animalia',\n",
       " 'order': 'Caudata',\n",
       " 'phylum': 'Craniata',\n",
       " 'taxonomicComments': 'This species formerly was included in <i>Desmognathus wrighti</i>. It was determined to be a distinct species by Crespi et al. (2010).'}"
      ]
     },
     "metadata": {},
     "output_type": "display_data"
    },
    {
     "name": "stdout",
     "output_type": "stream",
     "text": [
      "Original Scientific Name: Callioplus pantoplus\n",
      "NatureServe Scientific Name: Cybaeopsis pantopla\n"
     ]
    },
    {
     "data": {
      "text/plain": [
       "{'class': 'Arachnida',\n",
       " 'family': 'Amaurobiidae',\n",
       " 'genus': 'Cybaeopsis',\n",
       " 'genusSize': {'code': 'C', 'description': 'C - Small genus (6-20 species)'},\n",
       " 'kingdom': 'Animalia',\n",
       " 'order': 'Araneae',\n",
       " 'phylum': 'Chelicerata'}"
      ]
     },
     "metadata": {},
     "output_type": "display_data"
    },
    {
     "name": "stdout",
     "output_type": "stream",
     "text": [
      "Original Scientific Name: Euchemotrema fraternum montanum\n",
      "NatureServe Scientific Name: Euchemotrema fraternum montanum\n"
     ]
    },
    {
     "data": {
      "text/plain": [
       "{'class': 'Gastropoda',\n",
       " 'family': 'Polygyridae',\n",
       " 'genus': 'Euchemotrema',\n",
       " 'kingdom': 'Animalia',\n",
       " 'order': 'Stylommatophora',\n",
       " 'phylum': 'Mollusca',\n",
       " 'taxonomicComments': 'Listed in Hubricht (1985) as Stenotrema fraternum montanum.'}"
      ]
     },
     "metadata": {},
     "output_type": "display_data"
    },
    {
     "name": "stdout",
     "output_type": "stream",
     "text": [
      "Original Scientific Name: Fumonelix wheatleyi clingmanicus\n",
      "NatureServe Scientific Name: Fumonelix wheatleyi clingmanicus\n"
     ]
    },
    {
     "data": {
      "text/plain": [
       "{'class': 'Gastropoda',\n",
       " 'family': 'Polygyridae',\n",
       " 'genus': 'Fumonelix',\n",
       " 'kingdom': 'Animalia',\n",
       " 'order': 'Stylommatophora',\n",
       " 'phylum': 'Mollusca',\n",
       " 'taxonomicComments': '<i>Mesodon wheatleyi</i> changed to <i>Fumonelix wheatleyi </i>by Emberton (1991) (see Turgeon et al., 1998); thus subspecies follows pattern.  The form <i>clingmanicus </i>has been treated as a separate species by Hubricht (1985) and Adams et al. (1990) although the separation from <i>wheatleyi </i>still needs clarification (note: <i>clingmanicus </i>possesses some distinctive morphological features and has a much more restricted range than <i>wheatelyi</i>).'}"
      ]
     },
     "metadata": {},
     "output_type": "display_data"
    },
    {
     "name": "stdout",
     "output_type": "stream",
     "text": [
      "Original Scientific Name: Pilsbryna vanattai\n",
      "NatureServe Scientific Name: Pilsbryna vanattai\n"
     ]
    },
    {
     "data": {
      "text/plain": [
       "{'class': 'Gastropoda',\n",
       " 'family': 'Zonitidae',\n",
       " 'genus': 'Pilsbryna',\n",
       " 'kingdom': 'Animalia',\n",
       " 'order': 'Stylommatophora',\n",
       " 'phylum': 'Mollusca',\n",
       " 'taxonomicComments': 'Formerly placed in the genus <i>Glyphalinia </i>(see Slapcinsky and Coles, 2004).'}"
      ]
     },
     "metadata": {},
     "output_type": "display_data"
    },
    {
     "name": "stdout",
     "output_type": "stream",
     "text": [
      "Original Scientific Name: Helianthus verticillatus\n",
      "NatureServe Scientific Name: Helianthus x verticillatus\n"
     ]
    },
    {
     "data": {
      "text/plain": [
       "{'class': 'Dicotyledoneae',\n",
       " 'family': 'Asteraceae',\n",
       " 'genus': 'Helianthus',\n",
       " 'kingdom': 'Plantae',\n",
       " 'order': 'Asterales',\n",
       " 'phylum': 'Anthophyta',\n",
       " 'taxonomicComments': 'The U.S. Fish and Wildlife Service (Call 2009) accepts this taxon as a species in considering it a candidate for federal listing; Matthews et al. (2002) and Flora of North America Editorial Committee (2006) also treat it as a species. Two supporting studies are cited by the USFWS: (1) morphological studies and root-tip chromosome counts which showed it to be a distinct, fertile diploid (Matthews et al. 2002); and (2) comparative genetic studies with its putative parents (<i>H. grosserratus</i> and <i>H. angustifolius</i>), which showed that it does not exhibit a mixture of parental alleles at nuclear loci and does not share chloroplast DNA haplotype with either of its putative parents (Ellis et al. 2006). In contrast, the Kartesz checklists (1994 and 1999) treat this taxon as a hybrid between <i>Helianthus angustifolius</i> and <i>H. grosseserratus</i>, following earlier treatments written when it was known from only the type specimen.'}"
      ]
     },
     "metadata": {},
     "output_type": "display_data"
    },
    {
     "name": "stdout",
     "output_type": "stream",
     "text": [
      "Original Scientific Name: Lejeunea sharpii\n",
      "NatureServe Scientific Name: Taxilejeunea sharpii\n"
     ]
    },
    {
     "data": {
      "text/plain": [
       "{'class': 'Jungermanniopsida',\n",
       " 'family': 'Lejeuneaceae',\n",
       " 'genus': 'Taxilejeunea',\n",
       " 'kingdom': 'Plantae',\n",
       " 'order': 'Jungermanniales',\n",
       " 'phylum': 'Hepatophyta',\n",
       " 'taxonomicComments': 'Tennessee Heritage Program tracks under the synonym Lejeunea sharpii, as published in R.M. Schuster, The Hepaticae and Anthocerotae of North America East of the Hundredth Meridian, Vol 4, Columbia Univ. Press, 1980, pp. 991-995.'}"
      ]
     },
     "metadata": {},
     "output_type": "display_data"
    },
    {
     "name": "stdout",
     "output_type": "stream",
     "text": [
      "Original Scientific Name: Lophocolea appalachiana\n",
      "NatureServe Scientific Name: Lophocolea appalachiana\n"
     ]
    },
    {
     "data": {
      "text/plain": [
       "{'class': 'Jungermanniopsida',\n",
       " 'family': 'Lophocoleaceae',\n",
       " 'genus': 'Lophocolea',\n",
       " 'kingdom': 'Plantae',\n",
       " 'order': 'Jungermanniales',\n",
       " 'phylum': 'Hepatophyta',\n",
       " 'taxonomicComments': '\"In Schuster\\'s discussion accompanying his original description, he states <i>L. appalachianus</i> appears to be a montane endemic derivative of <i>L. cuspidata</i>.\" Therefore, the fact that the liverwort was not found at historical sites, but <i>L. cuspidata</i> was, and because its range was determined to be broader, more conclusive evidence supporting its taxonomic distinctiveness is desired (Hicks 1996).'}"
      ]
     },
     "metadata": {},
     "output_type": "display_data"
    },
    {
     "name": "stdout",
     "output_type": "stream",
     "text": [
      "Original Scientific Name: Microlejeunea globosa\n",
      "NatureServe Scientific Name: Lejeunea cardoti\n"
     ]
    },
    {
     "data": {
      "text/plain": [
       "{'class': 'Jungermanniopsida',\n",
       " 'family': 'Lejeuneaceae',\n",
       " 'genus': 'Lejeunea',\n",
       " 'kingdom': 'Plantae',\n",
       " 'order': 'Jungermanniales',\n",
       " 'phylum': 'Hepatophyta'}"
      ]
     },
     "metadata": {},
     "output_type": "display_data"
    },
    {
     "name": "stdout",
     "output_type": "stream",
     "text": [
      "Original Scientific Name: Plagiochila exigua\n",
      "NatureServe Scientific Name: Plagiochila corniculata\n"
     ]
    },
    {
     "data": {
      "text/plain": [
       "{'class': 'Jungermanniopsida',\n",
       " 'family': 'Plagiochilaceae',\n",
       " 'genus': 'Plagiochila',\n",
       " 'kingdom': 'Plantae',\n",
       " 'order': 'Jungermanniales',\n",
       " 'phylum': 'Hepatophyta'}"
      ]
     },
     "metadata": {},
     "output_type": "display_data"
    },
    {
     "name": "stdout",
     "output_type": "stream",
     "text": [
      "Original Scientific Name: Plagiochila punctata\n",
      "NatureServe Scientific Name: Plagiochila punctata\n"
     ]
    },
    {
     "data": {
      "text/plain": [
       "{'class': 'Jungermanniopsida',\n",
       " 'family': 'Plagiochilaceae',\n",
       " 'genus': 'Plagiochila',\n",
       " 'kingdom': 'Plantae',\n",
       " 'order': 'Jungermanniales',\n",
       " 'phylum': 'Hepatophyta',\n",
       " 'taxonomicComments': 'Material from Van Buren County, Tennessee, thought at first to represent a new undescribed <i>Plagiochila</i> species, has now been identified as <i>Plagiochila punctata</i>, a widespread species of Europe, Africa, and the Neotropics.  The Tennessee record is the first report from North America.'}"
      ]
     },
     "metadata": {},
     "output_type": "display_data"
    },
    {
     "name": "stdout",
     "output_type": "stream",
     "text": [
      "Original Scientific Name: Plagiochila retrorsa\n",
      "NatureServe Scientific Name: Plagiochila retrorsa\n"
     ]
    },
    {
     "data": {
      "text/plain": [
       "{'class': 'Jungermanniopsida',\n",
       " 'family': 'Plagiochilaceae',\n",
       " 'genus': 'Plagiochila',\n",
       " 'kingdom': 'Plantae',\n",
       " 'order': 'Jungermanniales',\n",
       " 'phylum': 'Hepatophyta'}"
      ]
     },
     "metadata": {},
     "output_type": "display_data"
    },
    {
     "name": "stdout",
     "output_type": "stream",
     "text": [
      "Original Scientific Name: Porella gracillima\n",
      "NatureServe Scientific Name: Porella gracillima\n"
     ]
    },
    {
     "data": {
      "text/plain": [
       "{'class': 'Jungermanniopsida',\n",
       " 'family': 'Porellaceae',\n",
       " 'genus': 'Porella',\n",
       " 'kingdom': 'Plantae',\n",
       " 'order': 'Jungermanniales',\n",
       " 'phylum': 'Hepatophyta'}"
      ]
     },
     "metadata": {},
     "output_type": "display_data"
    },
    {
     "name": "stdout",
     "output_type": "stream",
     "text": [
      "Original Scientific Name: Oreohelix strigosa berryi\n",
      "NatureServe Scientific Name: Oreohelix strigosa berryi\n"
     ]
    },
    {
     "data": {
      "text/plain": [
       "{'class': 'Gastropoda',\n",
       " 'family': 'Oreohelicidae',\n",
       " 'genus': 'Oreohelix',\n",
       " 'genusSize': {'code': 'D',\n",
       "  'description': 'D - Medium to large genus (21+ species)'},\n",
       " 'kingdom': 'Animalia',\n",
       " 'order': 'Stylommatophora',\n",
       " 'phylum': 'Mollusca'}"
      ]
     },
     "metadata": {},
     "output_type": "display_data"
    },
    {
     "name": "stdout",
     "output_type": "stream",
     "text": [
      "Original Scientific Name: Oreohelix strigosa cooperi\n",
      "NatureServe Scientific Name: Oreohelix cooperi\n"
     ]
    },
    {
     "data": {
      "text/plain": [
       "{'class': 'Gastropoda',\n",
       " 'family': 'Oreohelicidae',\n",
       " 'genus': 'Oreohelix',\n",
       " 'genusSize': {'code': 'D',\n",
       "  'description': 'D - Medium to large genus (21+ species)'},\n",
       " 'kingdom': 'Animalia',\n",
       " 'order': 'Stylommatophora',\n",
       " 'phylum': 'Mollusca',\n",
       " 'taxonomicComments': 'See Frest and Johannes (1993) for taxonomic history. Frest and Johannes (2002) refer to it as a full species, <i>Oreohelix cooperi</i>. Much confusion as it may be a full species or a composite of several (Anderson, 2004; Anderson et al., 2007).  Based on the work of Weaver et al. (2006), there is little to no genetic structure among populations in the Black Hills, but Anderson et al. (2007) report differences in shell size among populations are strongly related to mean annual temperature (and the correlated elevation) and population density and that shell size varies among populations.'}"
      ]
     },
     "metadata": {},
     "output_type": "display_data"
    },
    {
     "name": "stdout",
     "output_type": "stream",
     "text": [
      "Original Scientific Name: Pugnose shiner\n",
      "NatureServe Scientific Name: Notropis anogenus\n"
     ]
    },
    {
     "data": {
      "text/plain": [
       "{'class': 'Actinopterygii',\n",
       " 'family': 'Cyprinidae',\n",
       " 'genus': 'Notropis',\n",
       " 'genusSize': {'code': 'D',\n",
       "  'description': 'D - Medium to large genus (21+ species)'},\n",
       " 'kingdom': 'Animalia',\n",
       " 'order': 'Cypriniformes',\n",
       " 'phylum': 'Craniata'}"
      ]
     },
     "metadata": {},
     "output_type": "display_data"
    },
    {
     "name": "stdout",
     "output_type": "stream",
     "text": [
      "Original Scientific Name: Tonguetied minnow \n",
      "'Cleaned' Scientific Name (for processing): Tonguetied minnow\n",
      "NatureServe Scientific Name: Exoglossum laurae\n"
     ]
    },
    {
     "data": {
      "text/plain": [
       "{'class': 'Actinopterygii',\n",
       " 'family': 'Cyprinidae',\n",
       " 'genus': 'Exoglossum',\n",
       " 'genusSize': {'code': 'B',\n",
       "  'description': 'B - Very small genus (2-5 species)'},\n",
       " 'kingdom': 'Animalia',\n",
       " 'order': 'Cypriniformes',\n",
       " 'phylum': 'Craniata',\n",
       " 'taxonomicComments': 'Formerly placed in genus <i>Parexoglossum</i>. Hybridizes with <i>E. maxillingua</i> in Walker Creek system of New drainage, Virginia (Lee et al. 1980).'}"
      ]
     },
     "metadata": {},
     "output_type": "display_data"
    },
    {
     "name": "stdout",
     "output_type": "stream",
     "text": [
      "Original Scientific Name: Pantherophis alleghaniensis\n",
      "NatureServe Scientific Name: Pantherophis alleghaniensis\n"
     ]
    },
    {
     "data": {
      "text/plain": [
       "{'class': 'Reptilia',\n",
       " 'family': 'Colubridae',\n",
       " 'genus': 'Pantherophis',\n",
       " 'kingdom': 'Animalia',\n",
       " 'order': 'Squamata',\n",
       " 'phylum': 'Craniata',\n",
       " 'taxonomicComments': 'Burbrink et al. (2000) and Burbrink (2001) examined genetic and morphological variation in <i>Elaphe obsoleta</i> as traditionally defined and determined that the nominal subspecies do not represent evolutionary lineages and should no longer be recognized. Further, these authors identified three clades within <i>E. obsoleta</i>, corresponding to populations (1) west of the Mississippi River (western clade), (2) east of the Mississippi River and west of the Appalachian Mountains and Apalachicola River (central clade), and (3) east of the Appalachians and the Apalachicola River (eastern clade). Burbrink (2000) recognized the three clades as distinct species: <i>E. obsoleta</i> (western clade), <i>E. spiloides</i> (central clade), and <i>E. alleghaniensis</i> (eastern clade). In mapping the distribution of the species, Burbrink indicated a very large area of \"taxonomic uncertainty\" extending from New England to northern Georgia. In this region the distribution of <i>E. alleghaniensis</i> was deemed \"somewhat questionable with regard to hybridization with members of <i>Elpahe spiloides</i>.\" Although Burbrink concluded that the molecular data show that <i>E. alleghaniensis</i> and <i>E. spiloides</i> represent independently evolving units with separate evolutionary histories and thus should be recognized as different species under the evolutionary species concept, contact zones were not critically examined, so the nature and dimensions of clade boundaries, and the precise distributions of <i>alleghaniensis </i>and <i>spiloides </i>along the length of the Appalachians, remain uncertain.<br /><br /><i>Elaphe bairdi</i>, confirmed as a valid species by Burbrink (2001), was included in <i>Elaphe obsoleta</i> by some authors in older literature.<br /><br />Utiger et al. (2002) examined mtDNA variation in New World and Old World \"<i>Elaphe</i>\" and determined that North American rat snakes currently included in the genus <i>Elaphe </i>form a monophyletic limeage that is distinct from Old World snakes that also have been regarded as <i>Elaphe</i>. They resurrected the genus <i>Pantherophis </i>for the rat snakes north of Mexico, including the following species: <i>Pantherophis obsoletus</i> (and <i>P. alleghaniensis</i> and <i>P. spiloides</i>, if one recognizes those taxa as species), <i>P. guttatus</i>, <i>P. emoryi</i>, <i>P. vulpinus</i>, <i>P. gloydi</i>, and<i> P. bairdi</i>. Based on mtDNA and nuclear DNA data, Burbrink and Lawson (2007) determined that New World <i>Elaphe </i>are not closely related to Old World <i>Elaphe</i>. Here we follow these studies and Crother (2008, 2012) and transfer New World <i>Elaphe </i>to the genus <i>Pantherophis</i>.'}"
      ]
     },
     "metadata": {},
     "output_type": "display_data"
    },
    {
     "name": "stdout",
     "output_type": "stream",
     "text": [
      "Original Scientific Name: Gastrocopta rogersensis\n",
      "NatureServe Scientific Name: Gastrocopta rogersensis\n"
     ]
    },
    {
     "data": {
      "text/plain": [
       "{'class': 'Gastropoda',\n",
       " 'family': 'Pupillidae',\n",
       " 'genus': 'Gastrocopta',\n",
       " 'genusSize': {'code': 'D',\n",
       "  'description': 'D - Medium to large genus (21+ species)'},\n",
       " 'kingdom': 'Animalia',\n",
       " 'order': 'Stylommatophora',\n",
       " 'phylum': 'Mollusca'}"
      ]
     },
     "metadata": {},
     "output_type": "display_data"
    },
    {
     "name": "stdout",
     "output_type": "stream",
     "text": [
      "Original Scientific Name: Microcreagris ozarkensis\n",
      "NatureServe Scientific Name: Tartarocreagris ozarkensis\n"
     ]
    },
    {
     "data": {
      "text/plain": [
       "{'class': 'Arachnida',\n",
       " 'family': 'Neobisiidae',\n",
       " 'genus': 'Tartarocreagris',\n",
       " 'genusSize': {'code': 'B',\n",
       "  'description': 'B - Very small genus (2-5 species)'},\n",
       " 'kingdom': 'Animalia',\n",
       " 'order': 'Pseudoscorpiones',\n",
       " 'phylum': 'Chelicerata'}"
      ]
     },
     "metadata": {},
     "output_type": "display_data"
    },
    {
     "name": "stdout",
     "output_type": "stream",
     "text": [
      "Original Scientific Name: Pseudozaona occidentalis\n",
      "NatureServe Scientific Name: Hesperochernes occidentalis\n"
     ]
    },
    {
     "data": {
      "text/plain": [
       "{'class': 'Arachnida',\n",
       " 'family': 'Chernetidae',\n",
       " 'genus': 'Hesperochernes',\n",
       " 'genusSize': {'code': 'C', 'description': 'C - Small genus (6-20 species)'},\n",
       " 'kingdom': 'Animalia',\n",
       " 'order': 'Pseudoscorpiones',\n",
       " 'phylum': 'Chelicerata'}"
      ]
     },
     "metadata": {},
     "output_type": "display_data"
    },
    {
     "name": "stdout",
     "output_type": "stream",
     "text": [
      "Original Scientific Name: Rimulincola divalis\n",
      "NatureServe Scientific Name: Derops divalis\n"
     ]
    },
    {
     "data": {
      "text/plain": [
       "{'class': 'Insecta',\n",
       " 'family': 'Staphylinidae',\n",
       " 'genus': 'Derops',\n",
       " 'kingdom': 'Animalia',\n",
       " 'order': 'Coleoptera',\n",
       " 'phylum': 'Mandibulata'}"
      ]
     },
     "metadata": {},
     "output_type": "display_data"
    },
    {
     "name": "stdout",
     "output_type": "stream",
     "text": [
      "Original Scientific Name: Bethbilbeckia floridensis\n",
      "NatureServe Scientific Name: Bethbilbeckia floridensis\n"
     ]
    },
    {
     "data": {
      "text/plain": [
       "{'class': 'Insecta',\n",
       " 'family': 'Chironomidae',\n",
       " 'genus': 'Bethbilbeckia',\n",
       " 'kingdom': 'Animalia',\n",
       " 'order': 'Diptera',\n",
       " 'phylum': 'Mandibulata'}"
      ]
     },
     "metadata": {},
     "output_type": "display_data"
    },
    {
     "name": "stdout",
     "output_type": "stream",
     "text": [
      "Original Scientific Name: Erythroecia hebardi\n",
      "NatureServe Scientific Name: Psectrotarsia hebardi\n"
     ]
    },
    {
     "data": {
      "text/plain": [
       "{'class': 'Insecta',\n",
       " 'family': 'Noctuidae',\n",
       " 'genus': 'Psectrotarsia',\n",
       " 'genusSize': {'code': 'B',\n",
       "  'description': 'B - Very small genus (2-5 species)'},\n",
       " 'kingdom': 'Animalia',\n",
       " 'order': 'Lepidoptera',\n",
       " 'phylum': 'Mandibulata',\n",
       " 'taxonomicComments': 'Generic combination from Pogue (2007).'}"
      ]
     },
     "metadata": {},
     "output_type": "display_data"
    },
    {
     "name": "stdout",
     "output_type": "stream",
     "text": [
      "Original Scientific Name: Felis lynx\n",
      "NatureServe Scientific Name: Lynx canadensis\n"
     ]
    },
    {
     "data": {
      "text/plain": [
       "{'class': 'Mammalia',\n",
       " 'family': 'Felidae',\n",
       " 'genus': 'Lynx',\n",
       " 'genusSize': {'code': 'B',\n",
       "  'description': 'B - Very small genus (2-5 species)'},\n",
       " 'kingdom': 'Animalia',\n",
       " 'order': 'Carnivora',\n",
       " 'phylum': 'Craniata',\n",
       " 'taxonomicComments': 'Placed in the genus <i>Felis </i>by some authors. Some authors regard <i>L. lynx</i>, <i>L. canadensis</i>, and <i>L. pardinus</i> as conspecific (see Tumlison 1987). Jones et al. (1992) treated <i>L. canadensis</i> and <i>L. lynx</i> as conspecific. Baker et al. (2003) amd Wozencraft (in Wilson and Reeder 1993, 2005) recognized<i> L. canadensis</i> (North America), <i>L. lynx</i> (Eurasia), and <i>L. pardinus</i> (Portugal, Spain) as separate species.'}"
      ]
     },
     "metadata": {},
     "output_type": "display_data"
    },
    {
     "name": "stdout",
     "output_type": "stream",
     "text": [
      "Original Scientific Name: Hypocoena enervata\n",
      "NatureServe Scientific Name: Photedes enervata\n"
     ]
    },
    {
     "data": {
      "text/plain": [
       "{'class': 'Insecta',\n",
       " 'family': 'Noctuidae',\n",
       " 'genus': 'Photedes',\n",
       " 'kingdom': 'Animalia',\n",
       " 'order': 'Lepidoptera',\n",
       " 'phylum': 'Mandibulata',\n",
       " 'taxonomicComments': 'Listed as <i>\"Photedes\"</i> by Lafontaine and Schmidt (2010) to indicate that generic placement is uncertain.'}"
      ]
     },
     "metadata": {},
     "output_type": "display_data"
    },
    {
     "name": "stdout",
     "output_type": "stream",
     "text": [
      "Original Scientific Name: Incisalia irus\n",
      "NatureServe Scientific Name: Callophrys irus\n"
     ]
    },
    {
     "data": {
      "text/plain": [
       "{'class': 'Insecta',\n",
       " 'family': 'Lycaenidae',\n",
       " 'genus': 'Callophrys',\n",
       " 'genusSize': {'code': 'D',\n",
       "  'description': 'D - Medium to large genus (21+ species)'},\n",
       " 'kingdom': 'Animalia',\n",
       " 'order': 'Lepidoptera',\n",
       " 'phylum': 'Mandibulata',\n",
       " 'taxonomicComments': 'This species does not belong in the genus <i>Incisalia</i> which was polyphyletic in older literature and should be restricted to the Pinaceae feeding elfins if one wants to use it at all. The genus name <i>Deciduiphagus </i>is available for those who want to split this group of elfins off from <i>Callophrys</i>. <i>C. irus</i> may be two species or three species, of which all would be globally rare, but it is also quite possible this is a single species with foodplant races and subspecies.  At least as far back as Klots (1951) various authors have suggested that the taxon <i>hadros</i> might be a full species. Furthermore there has been speculation that the lupine and <i>Baptisia </i>feeding versions are not conspecific. Lupine feeding populations from the Great Lakes states differ from<i> Baptisia</i> feeding populations (eastern Massachusetts to at least the lower Midwest and South Carolina) in having generally smaller and mostly paler adults. However, it is equally possible that maculation differences are more geographical than foodplant related. In particular separation of the easternmost lupine feeders from Albany, New York, New England and Delaware from <i>Baptisia </i>feeders as adults is apparently often not possible, although some specimens are obvious and easily placed. In general as Gatrelle (1991) points out, adults of the <i>Baptisia</i> feeders tend to be larger and darker than those of lupine feeders. The larval difference seems more constant but larvae need to be examined examined from more states.  However lupine feeding larvae from New York, New Hampshire and Wisconsin are virtually unmarked (resembling Karner Blue larvae) while all <i>Baptisia</i> feeders examined from Massachusetts, Connecticut and New Jersey have the usual chevron pattern visible to prominent. The lupine feeding larvae also feed almost exclusively on flowers and seed pods while the <i>Baptisia</i> feeder eats leaves and scrapes stems. While a few sites for the butterfly have both foodplants, apparently no populations feed on both. Both lupine and <i>Baptisia</i> feeding populations occurred in at least two counties: Connecticut: New Haven and New York: Suffolk (Schweitzer, 1992) and almost certainly formerly in northern New Jersey but these entities were apparently not microsympatric. Subspecies <i>arsace</i> (at least as the name is applied in collections etc.) is a disjunct extreme variant of the <i>Baptisia</i> feeder found only in the coastal Carolinas. The alleged Holotype of <i>irus</i> (also fixed as a Neotype and illustrated by Gatrelle, 1999) is obviously the eastern <i>Baptisia</i> feeder and judging from the phenotype Gatrelle is probably right that it came from near Philadelphia, probably actually from southern New Jersey, although similar specimens do occur in the southern piedmont. As presently used, the subspecies name <i>Callophrys irus irus</i> includes all lupine feeding populations as well as most <i>Baptisia</i> feeders.  The highly imperiled lupine feeding entity in north Florida has rather distinctive adults, which notably do not closely resemble <i>arsace</i> which probably would be the closest<i> Baptisia</i> feeding populations. They also are not particularly similar to northern lupine feeders.  D.F.SChweitzer.'}"
      ]
     },
     "metadata": {},
     "output_type": "display_data"
    },
    {
     "name": "stdout",
     "output_type": "stream",
     "text": [
      "Original Scientific Name: Myotis subulatus leibii\n",
      "NatureServe Scientific Name: Myotis leibii\n"
     ]
    },
    {
     "data": {
      "text/plain": [
       "{'class': 'Mammalia',\n",
       " 'family': 'Vespertilionidae',\n",
       " 'genus': 'Myotis',\n",
       " 'genusSize': {'code': 'D',\n",
       "  'description': 'D - Medium to large genus (21+ species)'},\n",
       " 'kingdom': 'Animalia',\n",
       " 'order': 'Chiroptera',\n",
       " 'phylum': 'Craniata',\n",
       " 'taxonomicComments': 'Formerly, <i>M. ciliolabrum</i> was included as a subspecies of <i>M. leibii</i> (or <i>M. subulatus</i>). Based chiefly on cranial measurements, Van Zyll de Jong (1984) recognized western populations of what had been known as <i>M. subulatus</i> as a species (<i>M. ciliolabrum</i>) distinct from eastern populations, for which the appropriate name is <i>M. leibii</i>. Electrophoretic data support the conclusion that the two taxa are specifically distinct (Herd 1987). Wilson and Ruff (1999) and Baker et al. (2003) regarded <i>M. ciliolabrum</i> and <i>M. leibii </i>as separate species. Koopman (in Wilson and Reeder 1993) did not recognize <i>M. ciliolabrum</i> as a species distinct from <i>M. leibii</i>, but Simmons (in Wilson and Reeder 2005) did. See also Miller and Allen (1928), Glass and Baker (1968), and Hall (1981) for nomenclatural information. <i>Myotis leibii</i> is regarded as monotypic (Best and Jennings 1997).<br /><br />In a phylogenetic study based on mtDNA data, <i>M. leibii</i> was included within clades containing both <i>M. californicus</i> and <i>M. ciliolabrum</i> (Rodriguez and Ammerman 2004). Further data from <i>M. leibii</i> are necessary to validate its phylogenetic relationship <i>to M. ciliolabrum</i> and <i>M. californicus</i> (Rodriguez and Ammerman 2004). Comparisons among outgroups (<i>M. yumanensis</i>, <i>M. lucifugus</i>, and <i>M. evotis</i>) found sufficient support for specific status of <i>M. leibii</i>, but sequence divergence between <i>M. evotis</i> and the <i>leibii</i> group was small (2.9%) and within the intraspecific range. Further sampling of <i>M. evotis</i> is necessary to establish the level of divergence between <i>M. evotis</i>, as well as other long-eared <i>Myotis</i>, and the <i>leibii</i> group (Rodriguez and Ammerman 2004).'}"
      ]
     },
     "metadata": {},
     "output_type": "display_data"
    },
    {
     "name": "stdout",
     "output_type": "stream",
     "text": [
      "Original Scientific Name: Radotanypus florens\n",
      "NatureServe Scientific Name: Apsectrotanypus florens\n"
     ]
    },
    {
     "data": {
      "text/plain": [
       "{'class': 'Insecta',\n",
       " 'family': 'Chironomidae',\n",
       " 'genus': 'Apsectrotanypus',\n",
       " 'kingdom': 'Animalia',\n",
       " 'order': 'Diptera',\n",
       " 'phylum': 'Mandibulata',\n",
       " 'taxonomicComments': 'According to Bolton (1992), <i>A. florens</i> should be transferred to <i>Radotanypus</i>.'}"
      ]
     },
     "metadata": {},
     "output_type": "display_data"
    },
    {
     "name": "stdout",
     "output_type": "stream",
     "text": [
      "Original Scientific Name: Trichoclea artesta\n",
      "NatureServe Scientific Name: Sideridis artesta\n"
     ]
    },
    {
     "data": {
      "text/plain": [
       "{'class': 'Insecta',\n",
       " 'family': 'Noctuidae',\n",
       " 'genus': 'Sideridis',\n",
       " 'kingdom': 'Animalia',\n",
       " 'order': 'Lepidoptera',\n",
       " 'phylum': 'Mandibulata',\n",
       " 'taxonomicComments': 'Transferred from <i>Trichoclea</i> to <i>Sideridis</i> by Schmidt and Anweiler (2010).'}"
      ]
     },
     "metadata": {},
     "output_type": "display_data"
    },
    {
     "name": "stdout",
     "output_type": "stream",
     "text": [
      "Original Scientific Name: Helisoma eucosmium\n",
      "NatureServe Scientific Name: Helisoma eucosmium\n"
     ]
    },
    {
     "data": {
      "text/plain": [
       "{'class': 'Gastropoda',\n",
       " 'family': 'Planorbidae',\n",
       " 'genus': 'Helisoma',\n",
       " 'kingdom': 'Animalia',\n",
       " 'order': 'Basommatophora',\n",
       " 'phylum': 'Mollusca',\n",
       " 'taxonomicComments': 'This species is awaiting proper taxonomic placement (Adams and Brady, 1995). Burch and Tottenham (1980), and Burch (1989) mention it but note it may be a form or juvenile of <i>Helisoma anceps anceps</i>.  Burch (1989) suggested that <i>Helisoma eucosmium</i> might be a morphological variant of <i>Helisoma anceps</i>, and neither he nor Turgeon et al. (1998) included it in their systematic lists of the North American freshwater gastropod fauna. Adams and Brady (1995) argued from their examination of fresh specimens that the species is validly distinct. It is listed as review species for candidate endangered status (USFWS, 1989).'}"
      ]
     },
     "metadata": {},
     "output_type": "display_data"
    },
    {
     "name": "stdout",
     "output_type": "stream",
     "text": [
      "Original Scientific Name: Derops divalis\n",
      "NatureServe Scientific Name: Derops divalis\n"
     ]
    },
    {
     "data": {
      "text/plain": [
       "{'class': 'Insecta',\n",
       " 'family': 'Staphylinidae',\n",
       " 'genus': 'Derops',\n",
       " 'kingdom': 'Animalia',\n",
       " 'order': 'Coleoptera',\n",
       " 'phylum': 'Mandibulata'}"
      ]
     },
     "metadata": {},
     "output_type": "display_data"
    },
    {
     "name": "stdout",
     "output_type": "stream",
     "text": [
      "Original Scientific Name: Daedalochila peregrina\n",
      "NatureServe Scientific Name: Daedalochila peregrina\n"
     ]
    },
    {
     "data": {
      "text/plain": [
       "{'class': 'Gastropoda',\n",
       " 'family': 'Polygyridae',\n",
       " 'genus': 'Daedalochila',\n",
       " 'kingdom': 'Animalia',\n",
       " 'order': 'Stylommatophora',\n",
       " 'phylum': 'Mollusca',\n",
       " 'taxonomicComments': 'Because the diagnostic characters used to define the genus <i>Millerelix </i>sensu Emberton (1995) were found to be unreliable, Coles and Walsh (2006) placed member species into the senior genus <i>Daedalochila</i> Beck, 1837 and abandoned even the subgenera <i>Millerelix </i>sensu stricto and <i>Prattelix</i>.  Based upon subsequent examination of the anatomy of <i>Daedalochila dorfeuilliana</i> in comparison with <i>Daedalochila lithica</i> (unavailable at the time), Walsh and Coles (2006) reconsidered and concluded that these subgeneric features are variable between individuals for both species and placed <i>D. lithica</i> in the subgenus <i>Millerelix </i>(elongate, narrow penis and lack of a greatly enlarged proximal vas deferens) and placed <i>D. dorfeuilliana</i> in the subgenus <i>Prattelix </i>(wider penis and greatly enlarged vas deferens); as noted by Emberton (1995).  Members of the genus <i>Millerelix </i>Pratt, 1981 (originally erected for several species of Texas Polygyrini) are unaffected.'}"
      ]
     },
     "metadata": {},
     "output_type": "display_data"
    },
    {
     "name": "stdout",
     "output_type": "stream",
     "text": [
      "Original Scientific Name: Pygmarrhopalites clarus\n",
      "NatureServe Scientific Name: Pygmarrhopalites clarus\n"
     ]
    },
    {
     "data": {
      "text/plain": [
       "{'class': 'Elliplura',\n",
       " 'family': 'Arrhopalitidae',\n",
       " 'genus': 'Pygmarrhopalites',\n",
       " 'genusSize': {'code': 'D',\n",
       "  'description': 'D - Medium to large genus (21+ species)'},\n",
       " 'kingdom': 'Animalia',\n",
       " 'order': 'Collembola',\n",
       " 'phylum': 'Mandibulata',\n",
       " 'taxonomicComments': 'The genus <i>Arrhopalites </i>was transferred to <i>Pygmarrhopalites</i> by Vargovitsh (2009).'}"
      ]
     },
     "metadata": {},
     "output_type": "display_data"
    },
    {
     "name": "stdout",
     "output_type": "stream",
     "text": [
      "Original Scientific Name: Liodytes rigida\n",
      "NatureServe Scientific Name: Liodytes rigida\n"
     ]
    },
    {
     "data": {
      "text/plain": [
       "{'class': 'Reptilia',\n",
       " 'family': 'Colubridae',\n",
       " 'genus': 'Liodytes',\n",
       " 'kingdom': 'Animalia',\n",
       " 'order': 'Squamata',\n",
       " 'phylum': 'Craniata',\n",
       " 'taxonomicComments': 'Based on multi-locus nuclear data, McVay and Carstens (2013) resurrected the genus <i>Liodytes</i> for snakes previously referred to <i>Regina alleni</i>, <i>Regina rigida</i>, and <i>Seminatrix pygaea</i>. They also resurrected the genus <i>Haldea</i> for snakes previously referred to <i>Virginia striatula</i>.<br /><br />Subspecies <i>deltae</i> is weakly differentiated from subspecies <i>sinicola</i> (Dundee and Rossman 1989).'}"
      ]
     },
     "metadata": {},
     "output_type": "display_data"
    },
    {
     "name": "stdout",
     "output_type": "stream",
     "text": [
      "Original Scientific Name: Areniscythris brachypteris\n",
      "NatureServe Scientific Name: Areniscythris brachypteris\n"
     ]
    },
    {
     "data": {
      "text/plain": [
       "{'class': 'Insecta',\n",
       " 'family': 'Scythrididae',\n",
       " 'genus': 'Areniscythris',\n",
       " 'genusSize': {'code': 'A', 'description': 'A - Monotypic genus'},\n",
       " 'kingdom': 'Animalia',\n",
       " 'order': 'Lepidoptera',\n",
       " 'phylum': 'Mandibulata'}"
      ]
     },
     "metadata": {},
     "output_type": "display_data"
    },
    {
     "name": "stdout",
     "output_type": "stream",
     "text": [
      "Original Scientific Name: Argochrysis lassenae\n",
      "NatureServe Scientific Name: Argochrysis lassenae\n"
     ]
    },
    {
     "data": {
      "text/plain": [
       "{'class': 'Insecta',\n",
       " 'family': 'Chrysididae',\n",
       " 'genus': 'Argochrysis',\n",
       " 'kingdom': 'Animalia',\n",
       " 'order': 'Hymenoptera',\n",
       " 'phylum': 'Mandibulata'}"
      ]
     },
     "metadata": {},
     "output_type": "display_data"
    },
    {
     "name": "stdout",
     "output_type": "stream",
     "text": [
      "Original Scientific Name: Batrachoseps pacificus pacificus\n",
      "NatureServe Scientific Name: Batrachoseps pacificus\n"
     ]
    },
    {
     "data": {
      "text/plain": [
       "{'class': 'Amphibia',\n",
       " 'family': 'Plethodontidae',\n",
       " 'genus': 'Batrachoseps',\n",
       " 'genusSize': {'code': 'D',\n",
       "  'description': 'D - Medium to large genus (21+ species)'},\n",
       " 'kingdom': 'Animalia',\n",
       " 'order': 'Caudata',\n",
       " 'phylum': 'Craniata',\n",
       " 'taxonomicComments': 'Yanev (1980) and Stebbins (1985) regarded the following, formerly treated as distinct species, as (3 of 5) subspecies (or semispecies) of <i>B. pacificus</i>: Channel Islands slender salamander (<i>pacificus</i>); garden slender salamander (<i>major</i>); and relictual slender salamander (<i>relictus</i>). Jockusch et al. (1998) redefined <i>B. relictus</i> and concluded that it is a distinct species, and these authors described additional species that formerly were included in <i>B. pacificus</i>. Wake and Jockusch (2000) recognized <i>B. major</i> as a distinct species. Jockusch et al. (2001) described four additional species that formerly were included in <i>B. pacificus</i>.'}"
      ]
     },
     "metadata": {},
     "output_type": "display_data"
    },
    {
     "name": "stdout",
     "output_type": "stream",
     "text": [
      "Original Scientific Name: Carolella busckana\n",
      "NatureServe Scientific Name: Eugnosta busckana\n"
     ]
    },
    {
     "data": {
      "text/plain": [
       "{'class': 'Insecta',\n",
       " 'family': 'Tortricidae',\n",
       " 'genus': 'Eugnosta',\n",
       " 'kingdom': 'Animalia',\n",
       " 'order': 'Lepidoptera',\n",
       " 'phylum': 'Mandibulata',\n",
       " 'taxonomicComments': 'Cochylidae are sometimes treated as a subfamily of the Tortricidae (e.g. Poole, 1996).'}"
      ]
     },
     "metadata": {},
     "output_type": "display_data"
    },
    {
     "name": "stdout",
     "output_type": "stream",
     "text": [
      "Original Scientific Name: Ceratochrysis bradleyi\n",
      "NatureServe Scientific Name: Ceratochrysis bradleyi\n"
     ]
    },
    {
     "data": {
      "text/plain": [
       "{'class': 'Insecta',\n",
       " 'family': 'Chrysididae',\n",
       " 'genus': 'Ceratochrysis',\n",
       " 'kingdom': 'Animalia',\n",
       " 'order': 'Hymenoptera',\n",
       " 'phylum': 'Mandibulata'}"
      ]
     },
     "metadata": {},
     "output_type": "display_data"
    },
    {
     "name": "stdout",
     "output_type": "stream",
     "text": [
      "Original Scientific Name: Ceratochrysis gracilis\n",
      "NatureServe Scientific Name: Ceratochrysis gracilis\n"
     ]
    },
    {
     "data": {
      "text/plain": [
       "{'class': 'Insecta',\n",
       " 'family': 'Chrysididae',\n",
       " 'genus': 'Ceratochrysis',\n",
       " 'kingdom': 'Animalia',\n",
       " 'order': 'Hymenoptera',\n",
       " 'phylum': 'Mandibulata'}"
      ]
     },
     "metadata": {},
     "output_type": "display_data"
    },
    {
     "name": "stdout",
     "output_type": "stream",
     "text": [
      "Original Scientific Name: Ceratochrysis grisselli\n",
      "NatureServe Scientific Name: Ceratochrysis grisselli\n"
     ]
    },
    {
     "data": {
      "text/plain": [
       "{'class': 'Insecta',\n",
       " 'family': 'Chrysididae',\n",
       " 'genus': 'Ceratochrysis',\n",
       " 'kingdom': 'Animalia',\n",
       " 'order': 'Hymenoptera',\n",
       " 'phylum': 'Mandibulata'}"
      ]
     },
     "metadata": {},
     "output_type": "display_data"
    },
    {
     "name": "stdout",
     "output_type": "stream",
     "text": [
      "Original Scientific Name: Ceratochrysis longimala\n",
      "NatureServe Scientific Name: Ceratochrysis longimala\n"
     ]
    },
    {
     "data": {
      "text/plain": [
       "{'class': 'Insecta',\n",
       " 'family': 'Chrysididae',\n",
       " 'genus': 'Ceratochrysis',\n",
       " 'kingdom': 'Animalia',\n",
       " 'order': 'Hymenoptera',\n",
       " 'phylum': 'Mandibulata'}"
      ]
     },
     "metadata": {},
     "output_type": "display_data"
    },
    {
     "name": "stdout",
     "output_type": "stream",
     "text": [
      "Original Scientific Name: Ceratochrysis menkei\n",
      "NatureServe Scientific Name: Ceratochrysis menkei\n"
     ]
    },
    {
     "data": {
      "text/plain": [
       "{'class': 'Insecta',\n",
       " 'family': 'Chrysididae',\n",
       " 'genus': 'Ceratochrysis',\n",
       " 'kingdom': 'Animalia',\n",
       " 'order': 'Hymenoptera',\n",
       " 'phylum': 'Mandibulata'}"
      ]
     },
     "metadata": {},
     "output_type": "display_data"
    },
    {
     "name": "stdout",
     "output_type": "stream",
     "text": [
      "Original Scientific Name: Chrysis tularensis\n",
      "NatureServe Scientific Name: Chrysis tularensis\n"
     ]
    },
    {
     "data": {
      "text/plain": [
       "{'class': 'Insecta',\n",
       " 'family': 'Chrysididae',\n",
       " 'genus': 'Chrysis',\n",
       " 'kingdom': 'Animalia',\n",
       " 'order': 'Hymenoptera',\n",
       " 'phylum': 'Mandibulata'}"
      ]
     },
     "metadata": {},
     "output_type": "display_data"
    },
    {
     "name": "stdout",
     "output_type": "stream",
     "text": [
      "Original Scientific Name: Coelus globosus\n",
      "NatureServe Scientific Name: Coelus globosus\n"
     ]
    },
    {
     "data": {
      "text/plain": [
       "{'class': 'Insecta',\n",
       " 'family': 'Tenebrionidae',\n",
       " 'genus': 'Coelus',\n",
       " 'kingdom': 'Animalia',\n",
       " 'order': 'Coleoptera',\n",
       " 'phylum': 'Mandibulata',\n",
       " 'taxonomicComments': 'Has also been placed in family Tentryiinae.'}"
      ]
     },
     "metadata": {},
     "output_type": "display_data"
    },
    {
     "name": "stdout",
     "output_type": "stream",
     "text": [
      "Original Scientific Name: Dumontia oregonensis\n",
      "NatureServe Scientific Name: Dumontia oregonensis\n"
     ]
    },
    {
     "data": {
      "text/plain": [
       "{'class': 'Branchiopoda',\n",
       " 'family': 'Dumontiidae',\n",
       " 'genus': 'Dumontia',\n",
       " 'genusSize': {'code': 'A', 'description': 'A - Monotypic genus'},\n",
       " 'kingdom': 'Animalia',\n",
       " 'order': 'Diplostraca',\n",
       " 'phylum': 'Crustacea'}"
      ]
     },
     "metadata": {},
     "output_type": "display_data"
    },
    {
     "name": "stdout",
     "output_type": "stream",
     "text": [
      "Original Scientific Name: Eremarionta rowelli bakerensis\n",
      "NatureServe Scientific Name: Eremarionta rowelli bakerensis\n"
     ]
    },
    {
     "data": {
      "text/plain": [
       "{'class': 'Gastropoda',\n",
       " 'family': 'Helminthoglyptidae',\n",
       " 'genus': 'Eremarionta',\n",
       " 'kingdom': 'Animalia',\n",
       " 'order': 'Stylommatophora',\n",
       " 'phylum': 'Mollusca'}"
      ]
     },
     "metadata": {},
     "output_type": "display_data"
    },
    {
     "name": "stdout",
     "output_type": "stream",
     "text": [
      "Original Scientific Name: Eremarionta rowelli mccoiana\n",
      "NatureServe Scientific Name: Eremarionta rowelli mccoiana\n"
     ]
    },
    {
     "data": {
      "text/plain": [
       "{'class': 'Gastropoda',\n",
       " 'family': 'Helminthoglyptidae',\n",
       " 'genus': 'Eremarionta',\n",
       " 'kingdom': 'Animalia',\n",
       " 'order': 'Stylommatophora',\n",
       " 'phylum': 'Mollusca',\n",
       " 'taxonomicComments': 'Formerly placed in the genus <i>Micrarionta </i>(see Roth and Sadeghian, 2003).'}"
      ]
     },
     "metadata": {},
     "output_type": "display_data"
    },
    {
     "name": "stdout",
     "output_type": "stream",
     "text": [
      "Original Scientific Name: Eucosma hennei\n",
      "NatureServe Scientific Name: Eucosma hennei\n"
     ]
    },
    {
     "data": {
      "text/plain": [
       "{'class': 'Insecta',\n",
       " 'family': 'Tortricidae',\n",
       " 'genus': 'Eucosma',\n",
       " 'kingdom': 'Animalia',\n",
       " 'order': 'Lepidoptera',\n",
       " 'phylum': 'Mandibulata'}"
      ]
     },
     "metadata": {},
     "output_type": "display_data"
    },
    {
     "name": "stdout",
     "output_type": "stream",
     "text": [
      "Original Scientific Name: Euphilotes battoides comstocki\n",
      "NatureServe Scientific Name: Euphilotes battoides comstocki\n"
     ]
    },
    {
     "data": {
      "text/plain": [
       "{'class': 'Insecta',\n",
       " 'family': 'Lycaenidae',\n",
       " 'genus': 'Euphilotes',\n",
       " 'genusSize': {'code': 'C', 'description': 'C - Small genus (6-20 species)'},\n",
       " 'kingdom': 'Animalia',\n",
       " 'order': 'Lepidoptera',\n",
       " 'phylum': 'Mandibulata'}"
      ]
     },
     "metadata": {},
     "output_type": "display_data"
    },
    {
     "name": "stdout",
     "output_type": "stream",
     "text": [
      "Original Scientific Name: Hedychridium argenteum\n",
      "NatureServe Scientific Name: Hedychridium argenteum\n"
     ]
    },
    {
     "data": {
      "text/plain": [
       "{'class': 'Insecta',\n",
       " 'family': 'Chrysididae',\n",
       " 'genus': 'Hedychridium',\n",
       " 'kingdom': 'Animalia',\n",
       " 'order': 'Hymenoptera',\n",
       " 'phylum': 'Mandibulata'}"
      ]
     },
     "metadata": {},
     "output_type": "display_data"
    },
    {
     "name": "stdout",
     "output_type": "stream",
     "text": [
      "Original Scientific Name: Hedychridium milleri\n",
      "NatureServe Scientific Name: Hedychridium milleri\n"
     ]
    },
    {
     "data": {
      "text/plain": [
       "{'class': 'Insecta',\n",
       " 'family': 'Chrysididae',\n",
       " 'genus': 'Hedychridium',\n",
       " 'kingdom': 'Animalia',\n",
       " 'order': 'Hymenoptera',\n",
       " 'phylum': 'Mandibulata'}"
      ]
     },
     "metadata": {},
     "output_type": "display_data"
    },
    {
     "name": "stdout",
     "output_type": "stream",
     "text": [
      "Original Scientific Name: Helminthoglypta arrosa monticola\n",
      "NatureServe Scientific Name: Helminthoglypta arrosa monticola\n"
     ]
    },
    {
     "data": {
      "text/plain": [
       "{'class': 'Gastropoda',\n",
       " 'family': 'Helminthoglyptidae',\n",
       " 'genus': 'Helminthoglypta',\n",
       " 'kingdom': 'Animalia',\n",
       " 'order': 'Stylommatophora',\n",
       " 'phylum': 'Mollusca'}"
      ]
     },
     "metadata": {},
     "output_type": "display_data"
    },
    {
     "name": "stdout",
     "output_type": "stream",
     "text": [
      "Original Scientific Name: Helminthoglypta arrosa pomoensis\n",
      "NatureServe Scientific Name: Helminthoglypta arrosa pomoensis\n"
     ]
    },
    {
     "data": {
      "text/plain": [
       "{'class': 'Gastropoda',\n",
       " 'family': 'Helminthoglyptidae',\n",
       " 'genus': 'Helminthoglypta',\n",
       " 'kingdom': 'Animalia',\n",
       " 'order': 'Stylommatophora',\n",
       " 'phylum': 'Mollusca'}"
      ]
     },
     "metadata": {},
     "output_type": "display_data"
    },
    {
     "name": "stdout",
     "output_type": "stream",
     "text": [
      "Original Scientific Name: Helminthoglypta arrosa williamsi\n",
      "NatureServe Scientific Name: Helminthoglypta stiversiana williamsi\n"
     ]
    },
    {
     "data": {
      "text/plain": [
       "{'class': 'Gastropoda',\n",
       " 'family': 'Helminthoglyptidae',\n",
       " 'genus': 'Helminthoglypta',\n",
       " 'kingdom': 'Animalia',\n",
       " 'order': 'Stylommatophora',\n",
       " 'phylum': 'Mollusca',\n",
       " 'taxonomicComments': 'Formerly placed as a subspecies of<i> Helminthoglypta arrosa</i> (see Roth and Sadeghian, 2003).'}"
      ]
     },
     "metadata": {},
     "output_type": "display_data"
    },
    {
     "name": "stdout",
     "output_type": "stream",
     "text": [
      "Original Scientific Name: Helminthoglypta ayresiana sanctaecrucis\n",
      "NatureServe Scientific Name: Helminthoglypta ayresiana sanctaecrucis\n"
     ]
    },
    {
     "data": {
      "text/plain": [
       "{'class': 'Gastropoda',\n",
       " 'family': 'Helminthoglyptidae',\n",
       " 'genus': 'Helminthoglypta',\n",
       " 'kingdom': 'Animalia',\n",
       " 'order': 'Stylommatophora',\n",
       " 'phylum': 'Mollusca'}"
      ]
     },
     "metadata": {},
     "output_type": "display_data"
    },
    {
     "name": "stdout",
     "output_type": "stream",
     "text": [
      "Original Scientific Name: Helminthoglypta nickliniana awania\n",
      "NatureServe Scientific Name: Helminthoglypta nickliniana awania\n"
     ]
    },
    {
     "data": {
      "text/plain": [
       "{'class': 'Gastropoda',\n",
       " 'family': 'Helminthoglyptidae',\n",
       " 'genus': 'Helminthoglypta',\n",
       " 'kingdom': 'Animalia',\n",
       " 'order': 'Stylommatophora',\n",
       " 'phylum': 'Mollusca'}"
      ]
     },
     "metadata": {},
     "output_type": "display_data"
    },
    {
     "name": "stdout",
     "output_type": "stream",
     "text": [
      "Original Scientific Name: Helminthoglypta nickliniana bridgesi\n",
      "NatureServe Scientific Name: Helminthoglypta nickliniana bridgesi\n"
     ]
    },
    {
     "data": {
      "text/plain": [
       "{'class': 'Gastropoda',\n",
       " 'family': 'Helminthoglyptidae',\n",
       " 'genus': 'Helminthoglypta',\n",
       " 'kingdom': 'Animalia',\n",
       " 'order': 'Stylommatophora',\n",
       " 'phylum': 'Mollusca'}"
      ]
     },
     "metadata": {},
     "output_type": "display_data"
    },
    {
     "name": "stdout",
     "output_type": "stream",
     "text": [
      "Original Scientific Name: Helminthoglypta sequoicola consors\n",
      "NatureServe Scientific Name: Helminthoglypta sequoicola consors\n"
     ]
    },
    {
     "data": {
      "text/plain": [
       "{'class': 'Gastropoda',\n",
       " 'family': 'Helminthoglyptidae',\n",
       " 'genus': 'Helminthoglypta',\n",
       " 'kingdom': 'Animalia',\n",
       " 'order': 'Stylommatophora',\n",
       " 'phylum': 'Mollusca'}"
      ]
     },
     "metadata": {},
     "output_type": "display_data"
    },
    {
     "name": "stdout",
     "output_type": "stream",
     "text": [
      "Original Scientific Name: Hesperarion plumbeus\n",
      "NatureServe Scientific Name: Hesperarion plumbeus\n"
     ]
    },
    {
     "data": {
      "text/plain": [
       "{'class': 'Gastropoda',\n",
       " 'family': 'Arionidae',\n",
       " 'genus': 'Hesperarion',\n",
       " 'kingdom': 'Animalia',\n",
       " 'order': 'Stylommatophora',\n",
       " 'phylum': 'Mollusca'}"
      ]
     },
     "metadata": {},
     "output_type": "display_data"
    },
    {
     "name": "stdout",
     "output_type": "stream",
     "text": [
      "Original Scientific Name: Icaricia icarioides albihalos\n",
      "NatureServe Scientific Name: Plebejus icarioides albihalos\n"
     ]
    },
    {
     "data": {
      "text/plain": [
       "{'class': 'Insecta',\n",
       " 'family': 'Lycaenidae',\n",
       " 'genus': 'Plebejus',\n",
       " 'kingdom': 'Animalia',\n",
       " 'order': 'Lepidoptera',\n",
       " 'phylum': 'Mandibulata'}"
      ]
     },
     "metadata": {},
     "output_type": "display_data"
    },
    {
     "name": "stdout",
     "output_type": "stream",
     "text": [
      "Original Scientific Name: Icaricia icarioides moroensis\n",
      "NatureServe Scientific Name: Plebejus icarioides moroensis\n"
     ]
    },
    {
     "data": {
      "text/plain": [
       "{'class': 'Insecta',\n",
       " 'family': 'Lycaenidae',\n",
       " 'genus': 'Plebejus',\n",
       " 'kingdom': 'Animalia',\n",
       " 'order': 'Lepidoptera',\n",
       " 'phylum': 'Mandibulata'}"
      ]
     },
     "metadata": {},
     "output_type": "display_data"
    },
    {
     "name": "stdout",
     "output_type": "stream",
     "text": [
      "Original Scientific Name: Icaricia icarioides parapheres\n",
      "NatureServe Scientific Name: Plebejus icarioides parapheres\n"
     ]
    },
    {
     "data": {
      "text/plain": [
       "{'class': 'Insecta',\n",
       " 'family': 'Lycaenidae',\n",
       " 'genus': 'Plebejus',\n",
       " 'kingdom': 'Animalia',\n",
       " 'order': 'Lepidoptera',\n",
       " 'phylum': 'Mandibulata',\n",
       " 'taxonomicComments': 'This weakly defined subspecies refers to the extant populations on Pt. Reyes Peninsula which were on the 1991 USFWS C2 list as a then unnamed subspecies.'}"
      ]
     },
     "metadata": {},
     "output_type": "display_data"
    },
    {
     "name": "stdout",
     "output_type": "stream",
     "text": [
      "Original Scientific Name: Incisalia mossii bayensis\n",
      "NatureServe Scientific Name: Callophrys mossii bayensis\n"
     ]
    },
    {
     "data": {
      "text/plain": [
       "{'class': 'Insecta',\n",
       " 'family': 'Lycaenidae',\n",
       " 'genus': 'Callophrys',\n",
       " 'genusSize': {'code': 'D',\n",
       "  'description': 'D - Medium to large genus (21+ species)'},\n",
       " 'kingdom': 'Animalia',\n",
       " 'order': 'Lepidoptera',\n",
       " 'phylum': 'Mandibulata'}"
      ]
     },
     "metadata": {},
     "output_type": "display_data"
    },
    {
     "name": "stdout",
     "output_type": "stream",
     "text": [
      "Original Scientific Name: Incisalia mossii hidakupa\n",
      "NatureServe Scientific Name: Callophrys mossii hidakupa\n"
     ]
    },
    {
     "data": {
      "text/plain": [
       "{'class': 'Insecta',\n",
       " 'family': 'Lycaenidae',\n",
       " 'genus': 'Callophrys',\n",
       " 'genusSize': {'code': 'D',\n",
       "  'description': 'D - Medium to large genus (21+ species)'},\n",
       " 'kingdom': 'Animalia',\n",
       " 'order': 'Lepidoptera',\n",
       " 'phylum': 'Mandibulata'}"
      ]
     },
     "metadata": {},
     "output_type": "display_data"
    },
    {
     "name": "stdout",
     "output_type": "stream",
     "text": [
      "Original Scientific Name: Ipnobius robustus\n",
      "NatureServe Scientific Name: Ipnobius robustus\n"
     ]
    },
    {
     "data": {
      "text/plain": [
       "{'class': 'Gastropoda',\n",
       " 'family': 'Hydrobiidae',\n",
       " 'genus': 'Ipnobius',\n",
       " 'genusSize': {'code': 'A', 'description': 'A - Monotypic genus'},\n",
       " 'kingdom': 'Animalia',\n",
       " 'order': 'Neotaenioglossa',\n",
       " 'phylum': 'Mollusca'}"
      ]
     },
     "metadata": {},
     "output_type": "display_data"
    },
    {
     "name": "stdout",
     "output_type": "stream",
     "text": [
      "Original Scientific Name: Juga chacei\n",
      "NatureServe Scientific Name: Juga chacei\n"
     ]
    },
    {
     "data": {
      "text/plain": [
       "{'class': 'Gastropoda',\n",
       " 'family': 'Pleuroceridae',\n",
       " 'genus': 'Juga',\n",
       " 'kingdom': 'Animalia',\n",
       " 'order': 'Neotaenioglossa',\n",
       " 'phylum': 'Mollusca',\n",
       " 'taxonomicComments': 'Note: omitted from Turgeon et al. (1998).  Preliminary DNA and morphology indicate valid species as described by Henderson (T. Frest, pers. comm., February 2005).<br>'}"
      ]
     },
     "metadata": {},
     "output_type": "display_data"
    },
    {
     "name": "stdout",
     "output_type": "stream",
     "text": [
      "Original Scientific Name: Juga orickensis\n",
      "NatureServe Scientific Name: Juga orickensis\n"
     ]
    },
    {
     "data": {
      "text/plain": [
       "{'class': 'Gastropoda',\n",
       " 'family': 'Pleuroceridae',\n",
       " 'genus': 'Juga',\n",
       " 'kingdom': 'Animalia',\n",
       " 'order': 'Neotaenioglossa',\n",
       " 'phylum': 'Mollusca',\n",
       " 'taxonomicComments': 'Mistakenly omitted from Turgeon et al. (1998).  Preliminary DNA and morphology indicate valid species as described by Henderson (T. Frest, pers. comm., February 2005).'}"
      ]
     },
     "metadata": {},
     "output_type": "display_data"
    },
    {
     "name": "stdout",
     "output_type": "stream",
     "text": [
      "Original Scientific Name: Minymischa ventura\n",
      "NatureServe Scientific Name: Minymischa ventura\n"
     ]
    },
    {
     "data": {
      "text/plain": [
       "{'class': 'Insecta',\n",
       " 'family': 'Chrysididae',\n",
       " 'genus': 'Minymischa',\n",
       " 'kingdom': 'Animalia',\n",
       " 'order': 'Hymenoptera',\n",
       " 'phylum': 'Mandibulata'}"
      ]
     },
     "metadata": {},
     "output_type": "display_data"
    },
    {
     "name": "stdout",
     "output_type": "stream",
     "text": [
      "Original Scientific Name: Mitoura thornei\n",
      "NatureServe Scientific Name: Callophrys thornei\n"
     ]
    },
    {
     "data": {
      "text/plain": [
       "{'class': 'Insecta',\n",
       " 'family': 'Lycaenidae',\n",
       " 'genus': 'Callophrys',\n",
       " 'genusSize': {'code': 'D',\n",
       "  'description': 'D - Medium to large genus (21+ species)'},\n",
       " 'kingdom': 'Animalia',\n",
       " 'order': 'Lepidoptera',\n",
       " 'phylum': 'Mandibulata',\n",
       " 'taxonomicComments': 'Considered by some, including Scott (1986), to be a subspecies of <i>M. grynea</i>.'}"
      ]
     },
     "metadata": {},
     "output_type": "display_data"
    },
    {
     "name": "stdout",
     "output_type": "stream",
     "text": [
      "Original Scientific Name: Monadenia fidelis leonina\n",
      "NatureServe Scientific Name: Monadenia fidelis leonina\n"
     ]
    },
    {
     "data": {
      "text/plain": [
       "{'class': 'Gastropoda',\n",
       " 'family': 'Bradybaenidae',\n",
       " 'genus': 'Monadenia',\n",
       " 'kingdom': 'Animalia',\n",
       " 'order': 'Stylommatophora',\n",
       " 'phylum': 'Mollusca'}"
      ]
     },
     "metadata": {},
     "output_type": "display_data"
    },
    {
     "name": "stdout",
     "output_type": "stream",
     "text": [
      "Original Scientific Name: Monadenia fidelis pronotis\n",
      "NatureServe Scientific Name: Monadenia fidelis pronotis\n"
     ]
    },
    {
     "data": {
      "text/plain": [
       "{'class': 'Gastropoda',\n",
       " 'family': 'Bradybaenidae',\n",
       " 'genus': 'Monadenia',\n",
       " 'kingdom': 'Animalia',\n",
       " 'order': 'Stylommatophora',\n",
       " 'phylum': 'Mollusca'}"
      ]
     },
     "metadata": {},
     "output_type": "display_data"
    },
    {
     "name": "stdout",
     "output_type": "stream",
     "text": [
      "Original Scientific Name: Monadenia infumata ochromphalus\n",
      "NatureServe Scientific Name: Monadenia infumata ochromphalus\n"
     ]
    },
    {
     "data": {
      "text/plain": [
       "{'class': 'Gastropoda',\n",
       " 'family': 'Bradybaenidae',\n",
       " 'genus': 'Monadenia',\n",
       " 'kingdom': 'Animalia',\n",
       " 'order': 'Stylommatophora',\n",
       " 'phylum': 'Mollusca',\n",
       " 'taxonomicComments': 'A recent taxonomic revision has merged <i>Monadenia fidelis salmonensis</i>, <i>Monadenia fidelis klamathica</i>, and <i>Monadenia fidelis ochromphalus</i> into the new taxon, <i>Monadenia infumata ochromphalus</i>. <br>'}"
      ]
     },
     "metadata": {},
     "output_type": "display_data"
    },
    {
     "name": "stdout",
     "output_type": "stream",
     "text": [
      "Original Scientific Name: Monadenia mormonum buttoni\n",
      "NatureServe Scientific Name: Monadenia mormonum buttoni\n"
     ]
    },
    {
     "data": {
      "text/plain": [
       "{'class': 'Gastropoda',\n",
       " 'family': 'Bradybaenidae',\n",
       " 'genus': 'Monadenia',\n",
       " 'kingdom': 'Animalia',\n",
       " 'order': 'Stylommatophora',\n",
       " 'phylum': 'Mollusca'}"
      ]
     },
     "metadata": {},
     "output_type": "display_data"
    },
    {
     "name": "stdout",
     "output_type": "stream",
     "text": [
      "Original Scientific Name: Monadenia mormonum hirsuta\n",
      "NatureServe Scientific Name: Monadenia mormonum hirsuta\n"
     ]
    },
    {
     "data": {
      "text/plain": [
       "{'class': 'Gastropoda',\n",
       " 'family': 'Bradybaenidae',\n",
       " 'genus': 'Monadenia',\n",
       " 'kingdom': 'Animalia',\n",
       " 'order': 'Stylommatophora',\n",
       " 'phylum': 'Mollusca'}"
      ]
     },
     "metadata": {},
     "output_type": "display_data"
    },
    {
     "name": "stdout",
     "output_type": "stream",
     "text": [
      "Original Scientific Name: Myrmosula pacifica\n",
      "NatureServe Scientific Name: Myrmosula pacifica\n"
     ]
    },
    {
     "data": {
      "text/plain": [
       "{'class': 'Insecta',\n",
       " 'family': 'Mutillidae',\n",
       " 'genus': 'Myrmosula',\n",
       " 'kingdom': 'Animalia',\n",
       " 'order': 'Hymenoptera',\n",
       " 'phylum': 'Mandibulata'}"
      ]
     },
     "metadata": {},
     "output_type": "display_data"
    },
    {
     "name": "stdout",
     "output_type": "stream",
     "text": [
      "Original Scientific Name: Neduba longipennis\n",
      "NatureServe Scientific Name: Aglaothorax longipennis\n"
     ]
    },
    {
     "data": {
      "text/plain": [
       "{'class': 'Insecta',\n",
       " 'family': 'Tettigoniidae',\n",
       " 'genus': 'Aglaothorax',\n",
       " 'kingdom': 'Animalia',\n",
       " 'order': 'Orthoptera',\n",
       " 'phylum': 'Mandibulata'}"
      ]
     },
     "metadata": {},
     "output_type": "display_data"
    },
    {
     "name": "stdout",
     "output_type": "stream",
     "text": [
      "Original Scientific Name: Neotoma albigula venusta\n",
      "NatureServe Scientific Name: Neotoma albigula venusta\n"
     ]
    },
    {
     "data": {
      "text/plain": [
       "{'class': 'Mammalia',\n",
       " 'family': 'Cricetidae',\n",
       " 'genus': 'Neotoma',\n",
       " 'genusSize': {'code': 'C', 'description': 'C - Small genus (6-20 species)'},\n",
       " 'kingdom': 'Animalia',\n",
       " 'order': 'Rodentia',\n",
       " 'phylum': 'Craniata'}"
      ]
     },
     "metadata": {},
     "output_type": "display_data"
    },
    {
     "name": "stdout",
     "output_type": "stream",
     "text": [
      "Original Scientific Name: Neotoma macrotis luciana\n",
      "NatureServe Scientific Name: Neotoma macrotis luciana\n"
     ]
    },
    {
     "data": {
      "text/plain": [
       "{'class': 'Mammalia',\n",
       " 'family': 'Cricetidae',\n",
       " 'genus': 'Neotoma',\n",
       " 'genusSize': {'code': 'C', 'description': 'C - Small genus (6-20 species)'},\n",
       " 'kingdom': 'Animalia',\n",
       " 'order': 'Rodentia',\n",
       " 'phylum': 'Craniata'}"
      ]
     },
     "metadata": {},
     "output_type": "display_data"
    },
    {
     "name": "stdout",
     "output_type": "stream",
     "text": [
      "Original Scientific Name: Ovis canadensis nelsoni dps\n",
      "NatureServe Scientific Name: Ovis canadensis pop. 2\n"
     ]
    },
    {
     "data": {
      "text/plain": [
       "{'class': 'Mammalia',\n",
       " 'family': 'Bovidae',\n",
       " 'genus': 'Ovis',\n",
       " 'genusSize': {'code': 'C', 'description': 'C - Small genus (6-20 species)'},\n",
       " 'kingdom': 'Animalia',\n",
       " 'order': 'Artiodactyla',\n",
       " 'phylum': 'Craniata',\n",
       " 'taxonomicComments': 'This record represents the Peninsular California population recognized under the U.S. Endangered Species Act. <i>Ovis canadensis</i> subspecies in southwestern North America are questionably valid and, in particular, recognition of <i>O. c. cremnobates</i> is not supported by available morphological and mtDNA data (Wehausen and Ramey 1994, Ramey 1995). USFWS recognizes the Peninsular DPS as part of the subspecies <i>nelsoni</i>.'}"
      ]
     },
     "metadata": {},
     "output_type": "display_data"
    },
    {
     "name": "stdout",
     "output_type": "stream",
     "text": [
      "Original Scientific Name: Parnopes borregoensis\n",
      "NatureServe Scientific Name: Parnopes borregoensis\n"
     ]
    },
    {
     "data": {
      "text/plain": [
       "{'class': 'Insecta',\n",
       " 'family': 'Chrysididae',\n",
       " 'genus': 'Parnopes',\n",
       " 'kingdom': 'Animalia',\n",
       " 'order': 'Hymenoptera',\n",
       " 'phylum': 'Mandibulata'}"
      ]
     },
     "metadata": {},
     "output_type": "display_data"
    },
    {
     "name": "stdout",
     "output_type": "stream",
     "text": [
      "Original Scientific Name: Perdita scitula antiochensis\n",
      "NatureServe Scientific Name: Perdita scitula antiochensis\n"
     ]
    },
    {
     "data": {
      "text/plain": [
       "{'class': 'Insecta',\n",
       " 'family': 'Andrenidae',\n",
       " 'genus': 'Perdita',\n",
       " 'kingdom': 'Animalia',\n",
       " 'order': 'Hymenoptera',\n",
       " 'phylum': 'Mandibulata',\n",
       " 'taxonomicComments': 'This subspecies is not included in the ITIS World Bee Checklist (2008), but is a FWS Species of Concern.'}"
      ]
     },
     "metadata": {},
     "output_type": "display_data"
    },
    {
     "name": "stdout",
     "output_type": "stream",
     "text": [
      "Original Scientific Name: Plebulina emigdionis\n",
      "NatureServe Scientific Name: Plebulina emigdionis\n"
     ]
    },
    {
     "data": {
      "text/plain": [
       "{'class': 'Insecta',\n",
       " 'family': 'Lycaenidae',\n",
       " 'genus': 'Plebulina',\n",
       " 'genusSize': {'code': 'A', 'description': 'A - Monotypic genus'},\n",
       " 'kingdom': 'Animalia',\n",
       " 'order': 'Lepidoptera',\n",
       " 'phylum': 'Mandibulata'}"
      ]
     },
     "metadata": {},
     "output_type": "display_data"
    },
    {
     "name": "stdout",
     "output_type": "stream",
     "text": [
      "Original Scientific Name: Pyrgulopsis cinerana\n",
      "NatureServe Scientific Name: Pyrgulopsis cinerana\n"
     ]
    },
    {
     "data": {
      "text/plain": [
       "{'class': 'Gastropoda',\n",
       " 'family': 'Hydrobiidae',\n",
       " 'genus': 'Pyrgulopsis',\n",
       " 'genusSize': {'code': 'D',\n",
       "  'description': 'D - Medium to large genus (21+ species)'},\n",
       " 'kingdom': 'Animalia',\n",
       " 'order': 'Neotaenioglossa',\n",
       " 'phylum': 'Mollusca'}"
      ]
     },
     "metadata": {},
     "output_type": "display_data"
    },
    {
     "name": "stdout",
     "output_type": "stream",
     "text": [
      "Original Scientific Name: Pyrgulopsis falciglans\n",
      "NatureServe Scientific Name: Pyrgulopsis falciglans\n"
     ]
    },
    {
     "data": {
      "text/plain": [
       "{'class': 'Gastropoda',\n",
       " 'family': 'Hydrobiidae',\n",
       " 'genus': 'Pyrgulopsis',\n",
       " 'genusSize': {'code': 'D',\n",
       "  'description': 'D - Medium to large genus (21+ species)'},\n",
       " 'kingdom': 'Animalia',\n",
       " 'order': 'Neotaenioglossa',\n",
       " 'phylum': 'Mollusca'}"
      ]
     },
     "metadata": {},
     "output_type": "display_data"
    },
    {
     "name": "stdout",
     "output_type": "stream",
     "text": [
      "Original Scientific Name: Pyrgulopsis lasseni\n",
      "NatureServe Scientific Name: Pyrgulopsis lasseni\n"
     ]
    },
    {
     "data": {
      "text/plain": [
       "{'class': 'Gastropoda',\n",
       " 'family': 'Hydrobiidae',\n",
       " 'genus': 'Pyrgulopsis',\n",
       " 'genusSize': {'code': 'D',\n",
       "  'description': 'D - Medium to large genus (21+ species)'},\n",
       " 'kingdom': 'Animalia',\n",
       " 'order': 'Neotaenioglossa',\n",
       " 'phylum': 'Mollusca'}"
      ]
     },
     "metadata": {},
     "output_type": "display_data"
    },
    {
     "name": "stdout",
     "output_type": "stream",
     "text": [
      "Original Scientific Name: Pyrgulopsis rupinicola\n",
      "NatureServe Scientific Name: Pyrgulopsis rupinicola\n"
     ]
    },
    {
     "data": {
      "text/plain": [
       "{'class': 'Gastropoda',\n",
       " 'family': 'Hydrobiidae',\n",
       " 'genus': 'Pyrgulopsis',\n",
       " 'genusSize': {'code': 'D',\n",
       "  'description': 'D - Medium to large genus (21+ species)'},\n",
       " 'kingdom': 'Animalia',\n",
       " 'order': 'Neotaenioglossa',\n",
       " 'phylum': 'Mollusca'}"
      ]
     },
     "metadata": {},
     "output_type": "display_data"
    },
    {
     "name": "stdout",
     "output_type": "stream",
     "text": [
      "Original Scientific Name: Rhaphiomidas terminatus abdominalis\n",
      "NatureServe Scientific Name: Rhaphiomidas terminatus abdominalis\n"
     ]
    },
    {
     "data": {
      "text/plain": [
       "{'class': 'Insecta',\n",
       " 'family': 'Apioceridae',\n",
       " 'genus': 'Rhaphiomidas',\n",
       " 'kingdom': 'Animalia',\n",
       " 'order': 'Diptera',\n",
       " 'phylum': 'Mandibulata'}"
      ]
     },
     "metadata": {},
     "output_type": "display_data"
    },
    {
     "name": "stdout",
     "output_type": "stream",
     "text": [
      "Original Scientific Name: Sphecodogastra antiochensis\n",
      "NatureServe Scientific Name: Sphecodogastra antiochensis\n"
     ]
    },
    {
     "data": {
      "text/plain": [
       "{'class': 'Insecta',\n",
       " 'family': 'Halictidae',\n",
       " 'genus': 'Sphecodogastra',\n",
       " 'kingdom': 'Animalia',\n",
       " 'order': 'Hymenoptera',\n",
       " 'phylum': 'Mandibulata'}"
      ]
     },
     "metadata": {},
     "output_type": "display_data"
    },
    {
     "name": "stdout",
     "output_type": "stream",
     "text": [
      "Original Scientific Name: Thessalia leanira elegans\n",
      "NatureServe Scientific Name: Chlosyne leanira elegans\n"
     ]
    },
    {
     "data": {
      "text/plain": [
       "{'class': 'Insecta',\n",
       " 'family': 'Nymphalidae',\n",
       " 'genus': 'Chlosyne',\n",
       " 'genusSize': {'code': 'D',\n",
       "  'description': 'D - Medium to large genus (21+ species)'},\n",
       " 'kingdom': 'Animalia',\n",
       " 'order': 'Lepidoptera',\n",
       " 'phylum': 'Mandibulata'}"
      ]
     },
     "metadata": {},
     "output_type": "display_data"
    },
    {
     "name": "stdout",
     "output_type": "stream",
     "text": [
      "Original Scientific Name: Trigonoscuta dorothea dorothea\n",
      "NatureServe Scientific Name: Trigonoscuta dorothea dorothea\n"
     ]
    },
    {
     "data": {
      "text/plain": [
       "{'class': 'Insecta',\n",
       " 'family': 'Curculionidae',\n",
       " 'genus': 'Trigonoscuta',\n",
       " 'genusSize': {'code': 'D',\n",
       "  'description': 'D - Medium to large genus (21+ species)'},\n",
       " 'kingdom': 'Animalia',\n",
       " 'order': 'Coleoptera',\n",
       " 'phylum': 'Mandibulata'}"
      ]
     },
     "metadata": {},
     "output_type": "display_data"
    },
    {
     "name": "stdout",
     "output_type": "stream",
     "text": [
      "Original Scientific Name: Arrhopalites carolynae\n",
      "NatureServe Scientific Name: Pygmarrhopalites carolynae\n"
     ]
    },
    {
     "data": {
      "text/plain": [
       "{'class': 'Elliplura',\n",
       " 'family': 'Arrhopalitidae',\n",
       " 'genus': 'Pygmarrhopalites',\n",
       " 'genusSize': {'code': 'D',\n",
       "  'description': 'D - Medium to large genus (21+ species)'},\n",
       " 'kingdom': 'Animalia',\n",
       " 'order': 'Collembola',\n",
       " 'phylum': 'Mandibulata',\n",
       " 'taxonomicComments': 'The genus <i>Arrhopalites </i>was transferred to <i>Pygmarrhopalites</i> by Vargovitsh (2009).'}"
      ]
     },
     "metadata": {},
     "output_type": "display_data"
    },
    {
     "name": "stdout",
     "output_type": "stream",
     "text": [
      "Original Scientific Name: Arrhopalites lacuna\n",
      "NatureServe Scientific Name: Pygmarrhopalites lacuna\n"
     ]
    },
    {
     "data": {
      "text/plain": [
       "{'class': 'Elliplura',\n",
       " 'family': 'Arrhopalitidae',\n",
       " 'genus': 'Pygmarrhopalites',\n",
       " 'genusSize': {'code': 'D',\n",
       "  'description': 'D - Medium to large genus (21+ species)'},\n",
       " 'kingdom': 'Animalia',\n",
       " 'order': 'Collembola',\n",
       " 'phylum': 'Mandibulata',\n",
       " 'taxonomicComments': 'The genus <i>Arrhopalites </i>was transferred to <i>Pygmarrhopalites</i> by Vargovitsh (2009).'}"
      ]
     },
     "metadata": {},
     "output_type": "display_data"
    },
    {
     "name": "stdout",
     "output_type": "stream",
     "text": [
      "Original Scientific Name: Arrhopalites silvus\n",
      "NatureServe Scientific Name: Pygmarrhopalites silvus\n"
     ]
    },
    {
     "data": {
      "text/plain": [
       "{'class': 'Elliplura',\n",
       " 'family': 'Arrhopalitidae',\n",
       " 'genus': 'Pygmarrhopalites',\n",
       " 'genusSize': {'code': 'D',\n",
       "  'description': 'D - Medium to large genus (21+ species)'},\n",
       " 'kingdom': 'Animalia',\n",
       " 'order': 'Collembola',\n",
       " 'phylum': 'Mandibulata',\n",
       " 'taxonomicComments': 'The genus <i>Arrhopalites </i>was transferred to <i>Pygmarrhopalites</i> by Vargovitsh (2009).'}"
      ]
     },
     "metadata": {},
     "output_type": "display_data"
    },
    {
     "name": "stdout",
     "output_type": "stream",
     "text": [
      "Original Scientific Name: Lordithon niger\n",
      "NatureServe Scientific Name: Lordithon niger\n"
     ]
    },
    {
     "data": {
      "text/plain": [
       "{'class': 'Insecta',\n",
       " 'family': 'Staphylinidae',\n",
       " 'genus': 'Lordithon',\n",
       " 'kingdom': 'Animalia',\n",
       " 'order': 'Coleoptera',\n",
       " 'phylum': 'Mandibulata'}"
      ]
     },
     "metadata": {},
     "output_type": "display_data"
    },
    {
     "name": "stdout",
     "output_type": "stream",
     "text": [
      "Original Scientific Name: Merolonche dolli\n",
      "NatureServe Scientific Name: Acronicta dolli\n"
     ]
    },
    {
     "data": {
      "text/plain": [
       "{'class': 'Insecta',\n",
       " 'family': 'Noctuidae',\n",
       " 'genus': 'Acronicta',\n",
       " 'genusSize': {'code': 'D',\n",
       "  'description': 'D - Medium to large genus (21+ species)'},\n",
       " 'kingdom': 'Animalia',\n",
       " 'order': 'Lepidoptera',\n",
       " 'phylum': 'Mandibulata',\n",
       " 'taxonomicComments': 'The genus <i>Merolonche </i>has been synonymized with <i>Acronicta </i>based on Lafontaine and Schmidt (2010).'}"
      ]
     },
     "metadata": {},
     "output_type": "display_data"
    },
    {
     "name": "stdout",
     "output_type": "stream",
     "text": [
      "Original Scientific Name: Microcreagris valentinei\n",
      "NatureServe Scientific Name: Lissocreagris valentinei\n"
     ]
    },
    {
     "data": {
      "text/plain": [
       "{'class': 'Arachnida',\n",
       " 'family': 'Neobisiidae',\n",
       " 'genus': 'Lissocreagris',\n",
       " 'kingdom': 'Animalia',\n",
       " 'order': 'Pseudoscorpiones',\n",
       " 'phylum': 'Chelicerata'}"
      ]
     },
     "metadata": {},
     "output_type": "display_data"
    },
    {
     "name": "stdout",
     "output_type": "stream",
     "text": [
      "Original Scientific Name: Oncopodura hubbardi\n",
      "NatureServe Scientific Name: Oncopodura hubbardi\n"
     ]
    },
    {
     "data": {
      "text/plain": [
       "{'class': 'Elliplura',\n",
       " 'family': 'Oncopoduridae',\n",
       " 'genus': 'Oncopodura',\n",
       " 'genusSize': {'code': 'D',\n",
       "  'description': 'D - Medium to large genus (21+ species)'},\n",
       " 'kingdom': 'Animalia',\n",
       " 'order': 'Collembola',\n",
       " 'phylum': 'Mandibulata'}"
      ]
     },
     "metadata": {},
     "output_type": "display_data"
    },
    {
     "name": "stdout",
     "output_type": "stream",
     "text": [
      "Original Scientific Name: Pseudosinella bona\n",
      "NatureServe Scientific Name: Pseudosinella bona\n"
     ]
    },
    {
     "data": {
      "text/plain": [
       "{'class': 'Elliplura',\n",
       " 'family': 'Entomobryidae',\n",
       " 'genus': 'Pseudosinella',\n",
       " 'genusSize': {'code': 'D',\n",
       "  'description': 'D - Medium to large genus (21+ species)'},\n",
       " 'kingdom': 'Animalia',\n",
       " 'order': 'Collembola',\n",
       " 'phylum': 'Mandibulata'}"
      ]
     },
     "metadata": {},
     "output_type": "display_data"
    },
    {
     "name": "stdout",
     "output_type": "stream",
     "text": [
      "Original Scientific Name: Pseudosinella extra\n",
      "NatureServe Scientific Name: Pseudosinella extra\n"
     ]
    },
    {
     "data": {
      "text/plain": [
       "{'class': 'Elliplura',\n",
       " 'family': 'Entomobryidae',\n",
       " 'genus': 'Pseudosinella',\n",
       " 'genusSize': {'code': 'D',\n",
       "  'description': 'D - Medium to large genus (21+ species)'},\n",
       " 'kingdom': 'Animalia',\n",
       " 'order': 'Collembola',\n",
       " 'phylum': 'Mandibulata'}"
      ]
     },
     "metadata": {},
     "output_type": "display_data"
    },
    {
     "name": "stdout",
     "output_type": "stream",
     "text": [
      "Original Scientific Name: Pseudosinella granda\n",
      "NatureServe Scientific Name: Pseudosinella granda\n"
     ]
    },
    {
     "data": {
      "text/plain": [
       "{'class': 'Elliplura',\n",
       " 'family': 'Entomobryidae',\n",
       " 'genus': 'Pseudosinella',\n",
       " 'genusSize': {'code': 'D',\n",
       "  'description': 'D - Medium to large genus (21+ species)'},\n",
       " 'kingdom': 'Animalia',\n",
       " 'order': 'Collembola',\n",
       " 'phylum': 'Mandibulata'}"
      ]
     },
     "metadata": {},
     "output_type": "display_data"
    },
    {
     "name": "stdout",
     "output_type": "stream",
     "text": [
      "Original Scientific Name: Puto kosztarabi\n",
      "NatureServe Scientific Name: Puto kosztarabi\n"
     ]
    },
    {
     "data": {
      "text/plain": [
       "{'class': 'Insecta',\n",
       " 'family': 'Pseudococcidae',\n",
       " 'genus': 'Puto',\n",
       " 'kingdom': 'Animalia',\n",
       " 'order': 'Homoptera',\n",
       " 'phylum': 'Mandibulata'}"
      ]
     },
     "metadata": {},
     "output_type": "display_data"
    },
    {
     "name": "stdout",
     "output_type": "stream",
     "text": [
      "Original Scientific Name: Synanthedon castaneae\n",
      "NatureServe Scientific Name: Synanthedon castaneae\n"
     ]
    },
    {
     "data": {
      "text/plain": [
       "{'class': 'Insecta',\n",
       " 'family': 'Sesiidae',\n",
       " 'genus': 'Synanthedon',\n",
       " 'genusSize': {'code': 'D',\n",
       "  'description': 'D - Medium to large genus (21+ species)'},\n",
       " 'kingdom': 'Animalia',\n",
       " 'order': 'Lepidoptera',\n",
       " 'phylum': 'Mandibulata'}"
      ]
     },
     "metadata": {},
     "output_type": "display_data"
    },
    {
     "name": "stdout",
     "output_type": "stream",
     "text": [
      "Original Scientific Name: Tischeria perplexa\n",
      "NatureServe Scientific Name: Coptotriche perplexa\n"
     ]
    },
    {
     "data": {
      "text/plain": [
       "{'class': 'Insecta',\n",
       " 'family': 'Tischeriidae',\n",
       " 'genus': 'Coptotriche',\n",
       " 'genusSize': {'code': 'D',\n",
       "  'description': 'D - Medium to large genus (21+ species)'},\n",
       " 'kingdom': 'Animalia',\n",
       " 'order': 'Lepidoptera',\n",
       " 'phylum': 'Mandibulata',\n",
       " 'taxonomicComments': 'This species may be a synonym of <i>Coptotriche (=Tischeria) zelleriella.</i>'}"
      ]
     },
     "metadata": {},
     "output_type": "display_data"
    },
    {
     "name": "stdout",
     "output_type": "stream",
     "text": [
      "Original Scientific Name: Vaejovis carolinianus\n",
      "NatureServe Scientific Name: Vaejovis carolinianus\n"
     ]
    },
    {
     "data": {
      "text/plain": [
       "{'class': 'Arachnida',\n",
       " 'family': 'Vaejovidae',\n",
       " 'genus': 'Vaejovis',\n",
       " 'kingdom': 'Animalia',\n",
       " 'order': 'Scorpiones',\n",
       " 'phylum': 'Chelicerata'}"
      ]
     },
     "metadata": {},
     "output_type": "display_data"
    },
    {
     "name": "stdout",
     "output_type": "stream",
     "text": [
      "Original Scientific Name: Erinna aulacospira\n",
      "NatureServe Scientific Name: Erinna aulacospira\n"
     ]
    },
    {
     "data": {
      "text/plain": [
       "{'class': 'Gastropoda',\n",
       " 'family': 'Lymnaeidae',\n",
       " 'genus': 'Erinna',\n",
       " 'genusSize': {'code': 'B',\n",
       "  'description': 'B - Very small genus (2-5 species)'},\n",
       " 'kingdom': 'Animalia',\n",
       " 'order': 'Basommatophora',\n",
       " 'phylum': 'Mollusca'}"
      ]
     },
     "metadata": {},
     "output_type": "display_data"
    },
    {
     "name": "stdout",
     "output_type": "stream",
     "text": [
      "Original Scientific Name: Lipochaeta lobata subsp. leptophylla\n",
      "'Cleaned' Scientific Name (for processing): Lipochaeta lobata ssp. leptophylla\n",
      "NatureServe Scientific Name: Lipochaeta lobata var. leptophylla\n"
     ]
    },
    {
     "data": {
      "text/plain": [
       "{'class': 'Dicotyledoneae',\n",
       " 'family': 'Asteraceae',\n",
       " 'genus': 'Lipochaeta',\n",
       " 'kingdom': 'Plantae',\n",
       " 'order': 'Asterales',\n",
       " 'phylum': 'Anthophyta'}"
      ]
     },
     "metadata": {},
     "output_type": "display_data"
    },
    {
     "name": "stdout",
     "output_type": "stream",
     "text": [
      "Original Scientific Name: Setophaga virens waynei\n",
      "NatureServe Scientific Name: Setophaga virens waynei\n"
     ]
    },
    {
     "data": {
      "text/plain": [
       "{'class': 'Aves',\n",
       " 'family': 'Parulidae',\n",
       " 'genus': 'Setophaga',\n",
       " 'genusSize': {'code': 'D',\n",
       "  'description': 'D - Medium to large genus (21+ species)'},\n",
       " 'kingdom': 'Animalia',\n",
       " 'order': 'Passeriformes',\n",
       " 'phylum': 'Craniata',\n",
       " 'taxonomicComments': 'Phylogenetic analyses of sequences of mitochondrial and nuclear DNA (Lovette et al. 2010) indicate that all species formerly placed in <i>Dendroica</i>, one species formerly placed in <i>Wilsonia</i> (<i>citrina</i>), and two species formerly placed in <i>Parula</i> (<i>americana</i> and <i>pitiayumi</i>) form a clade with the single species traditionally placed in <i>Setophaga</i> (<i>ruticilla</i>). The generic name <i>Setophaga</i> has priority for this clade (AOU 2011).<br><br>Paynter (1968) no longer recognizes subspecies of <i>Dendroica virens</i>.'}"
      ]
     },
     "metadata": {},
     "output_type": "display_data"
    },
    {
     "name": "stdout",
     "output_type": "stream",
     "text": [
      "Original Scientific Name: Caecidotea mausi\n",
      "NatureServe Scientific Name: Caecidotea mausi\n"
     ]
    },
    {
     "data": {
      "text/plain": [
       "{'class': 'Malacostraca',\n",
       " 'family': 'Asellidae',\n",
       " 'genus': 'Caecidotea',\n",
       " 'genusSize': {'code': 'D',\n",
       "  'description': 'D - Medium to large genus (21+ species)'},\n",
       " 'kingdom': 'Animalia',\n",
       " 'order': 'Isopoda',\n",
       " 'phylum': 'Crustacea'}"
      ]
     },
     "metadata": {},
     "output_type": "display_data"
    },
    {
     "name": "stdout",
     "output_type": "stream",
     "text": [
      "Original Scientific Name: Helops cisteloides\n",
      "NatureServe Scientific Name: Helops cisteloides\n"
     ]
    },
    {
     "data": {
      "text/plain": [
       "{'class': 'Insecta',\n",
       " 'family': 'Tenebrionidae',\n",
       " 'genus': 'Helops',\n",
       " 'genusSize': {'code': 'D',\n",
       "  'description': 'D - Medium to large genus (21+ species)'},\n",
       " 'kingdom': 'Animalia',\n",
       " 'order': 'Coleoptera',\n",
       " 'phylum': 'Mandibulata'}"
      ]
     },
     "metadata": {},
     "output_type": "display_data"
    },
    {
     "name": "stdout",
     "output_type": "stream",
     "text": [
      "Original Scientific Name: Schoenicus puberulus\n",
      "NatureServe Scientific Name: Schoenicus puberulus\n"
     ]
    },
    {
     "data": {
      "text/plain": [
       "{'class': 'Insecta',\n",
       " 'family': 'Tenebrionidae',\n",
       " 'genus': 'Schoenicus',\n",
       " 'kingdom': 'Animalia',\n",
       " 'order': 'Coleoptera',\n",
       " 'phylum': 'Mandibulata'}"
      ]
     },
     "metadata": {},
     "output_type": "display_data"
    },
    {
     "name": "stdout",
     "output_type": "stream",
     "text": [
      "Original Scientific Name: Limotettix minuendus\n",
      "NatureServe Scientific Name: Limotettix minuendus\n"
     ]
    },
    {
     "data": {
      "text/plain": [
       "{'class': 'Insecta',\n",
       " 'family': 'Cicadellidae',\n",
       " 'genus': 'Limotettix',\n",
       " 'kingdom': 'Animalia',\n",
       " 'order': 'Homoptera',\n",
       " 'phylum': 'Mandibulata'}"
      ]
     },
     "metadata": {},
     "output_type": "display_data"
    },
    {
     "name": "stdout",
     "output_type": "stream",
     "text": [
      "Original Scientific Name: Lasioglossum georgeickworti\n",
      "NatureServe Scientific Name: Lasioglossum georgeickworti\n"
     ]
    },
    {
     "data": {
      "text/plain": [
       "{'class': 'Insecta',\n",
       " 'family': 'Halictidae',\n",
       " 'genus': 'Lasioglossum',\n",
       " 'kingdom': 'Animalia',\n",
       " 'order': 'Hymenoptera',\n",
       " 'phylum': 'Mandibulata'}"
      ]
     },
     "metadata": {},
     "output_type": "display_data"
    },
    {
     "name": "stdout",
     "output_type": "stream",
     "text": [
      "Original Scientific Name: Temnothorax pergandei\n",
      "NatureServe Scientific Name: Temnothorax pergandei\n"
     ]
    },
    {
     "data": {
      "text/plain": [
       "{'class': 'Insecta',\n",
       " 'family': 'Formicidae',\n",
       " 'genus': 'Temnothorax',\n",
       " 'kingdom': 'Animalia',\n",
       " 'order': 'Hymenoptera',\n",
       " 'phylum': 'Mandibulata'}"
      ]
     },
     "metadata": {},
     "output_type": "display_data"
    },
    {
     "name": "stdout",
     "output_type": "stream",
     "text": [
      "Original Scientific Name: Temnothorax texanus\n",
      "NatureServe Scientific Name: Temnothorax texanus\n"
     ]
    },
    {
     "data": {
      "text/plain": [
       "{'class': 'Insecta',\n",
       " 'family': 'Formicidae',\n",
       " 'genus': 'Temnothorax',\n",
       " 'kingdom': 'Animalia',\n",
       " 'order': 'Hymenoptera',\n",
       " 'phylum': 'Mandibulata'}"
      ]
     },
     "metadata": {},
     "output_type": "display_data"
    },
    {
     "name": "stdout",
     "output_type": "stream",
     "text": [
      "Original Scientific Name: Mitoura hesseli\n",
      "NatureServe Scientific Name: Callophrys hesseli\n"
     ]
    },
    {
     "data": {
      "text/plain": [
       "{'class': 'Insecta',\n",
       " 'family': 'Lycaenidae',\n",
       " 'genus': 'Callophrys',\n",
       " 'genusSize': {'code': 'D',\n",
       "  'description': 'D - Medium to large genus (21+ species)'},\n",
       " 'kingdom': 'Animalia',\n",
       " 'order': 'Lepidoptera',\n",
       " 'phylum': 'Mandibulata',\n",
       " 'taxonomicComments': 'Also placed in genus <i>Mitoura. </i> A number of Lepidopterists have maintained since the 1970s that Florida populations deserve separate subspecies status and there appear to be several differences. Gatrelle (2001) names this taxon as subspecies <i>angulata</i> and includes Georgia populations and an adjacent South Carolina population. If recognized, this taxon would rank T1 or T2.  Populations from Maine to North Carolina would reamian as <i>C. h. hesseli</i>. There is a natural gap between the ranges of these taxa. D. Schweitzer'}"
      ]
     },
     "metadata": {},
     "output_type": "display_data"
    },
    {
     "name": "stdout",
     "output_type": "stream",
     "text": [
      "Original Scientific Name: Ectoedemia castaneae\n",
      "NatureServe Scientific Name: Ectoedemia castaneae\n"
     ]
    },
    {
     "data": {
      "text/plain": [
       "{'class': 'Insecta',\n",
       " 'family': 'Nepticulidae',\n",
       " 'genus': 'Ectoedemia',\n",
       " 'genusSize': {'code': 'C', 'description': 'C - Small genus (6-20 species)'},\n",
       " 'kingdom': 'Animalia',\n",
       " 'order': 'Lepidoptera',\n",
       " 'phylum': 'Mandibulata'}"
      ]
     },
     "metadata": {},
     "output_type": "display_data"
    },
    {
     "name": "stdout",
     "output_type": "stream",
     "text": [
      "Original Scientific Name: Palpita magniferalis\n",
      "NatureServe Scientific Name: Palpita magniferalis\n"
     ]
    },
    {
     "data": {
      "text/plain": [
       "{'class': 'Insecta',\n",
       " 'family': 'Crambidae',\n",
       " 'genus': 'Palpita',\n",
       " 'kingdom': 'Animalia',\n",
       " 'order': 'Lepidoptera',\n",
       " 'phylum': 'Mandibulata'}"
      ]
     },
     "metadata": {},
     "output_type": "display_data"
    },
    {
     "name": "stdout",
     "output_type": "stream",
     "text": [
      "Original Scientific Name: Ectoedemia phleophaga\n",
      "NatureServe Scientific Name: Ectoedemia phleophaga\n"
     ]
    },
    {
     "data": {
      "text/plain": [
       "{'class': 'Insecta',\n",
       " 'family': 'Nepticulidae',\n",
       " 'genus': 'Ectoedemia',\n",
       " 'genusSize': {'code': 'C', 'description': 'C - Small genus (6-20 species)'},\n",
       " 'kingdom': 'Animalia',\n",
       " 'order': 'Lepidoptera',\n",
       " 'phylum': 'Mandibulata'}"
      ]
     },
     "metadata": {},
     "output_type": "display_data"
    },
    {
     "name": "stdout",
     "output_type": "stream",
     "text": [
      "Original Scientific Name: Sweltsa palearata\n",
      "NatureServe Scientific Name: Sweltsa palearata\n"
     ]
    },
    {
     "data": {
      "text/plain": [
       "{'class': 'Insecta',\n",
       " 'family': 'Chloroperlidae',\n",
       " 'genus': 'Sweltsa',\n",
       " 'kingdom': 'Animalia',\n",
       " 'order': 'Plecoptera',\n",
       " 'phylum': 'Mandibulata'}"
      ]
     },
     "metadata": {},
     "output_type": "display_data"
    },
    {
     "name": "stdout",
     "output_type": "stream",
     "text": [
      "Original Scientific Name: Fixsenia favonius ontario\n",
      "NatureServe Scientific Name: Satyrium favonius ontario\n"
     ]
    },
    {
     "data": {
      "text/plain": [
       "{'class': 'Insecta',\n",
       " 'family': 'Lycaenidae',\n",
       " 'genus': 'Satyrium',\n",
       " 'genusSize': {'code': 'C', 'description': 'C - Small genus (6-20 species)'},\n",
       " 'kingdom': 'Animalia',\n",
       " 'order': 'Lepidoptera',\n",
       " 'phylum': 'Mandibulata',\n",
       " 'taxonomicComments': 'Opler and Warren (2002) state, \"Species previously places in <i>Fixsenia </i>Tutt, 1907 and <i>Harkenclenus </i>dos Passos, 1970, are now placed in <i>Satyrium </i>by Robbins (in press).\"  Intergrades in SC to subspecies <i>favonius</i>. The two were formerly treated as separate species. <i>S. favonius </i>is sometimes placed in the genus <i>Euristrymon</i>.'}"
      ]
     },
     "metadata": {},
     "output_type": "display_data"
    },
    {
     "name": "stdout",
     "output_type": "stream",
     "text": [
      "Original Scientific Name: Incisalia niphon\n",
      "NatureServe Scientific Name: Callophrys niphon\n"
     ]
    },
    {
     "data": {
      "text/plain": [
       "{'class': 'Insecta',\n",
       " 'family': 'Lycaenidae',\n",
       " 'genus': 'Callophrys',\n",
       " 'genusSize': {'code': 'D',\n",
       "  'description': 'D - Medium to large genus (21+ species)'},\n",
       " 'kingdom': 'Animalia',\n",
       " 'order': 'Lepidoptera',\n",
       " 'phylum': 'Mandibulata',\n",
       " 'taxonomicComments': 'Very similar to C. ERYPHON.'}"
      ]
     },
     "metadata": {},
     "output_type": "display_data"
    },
    {
     "name": "stdout",
     "output_type": "stream",
     "text": [
      "Original Scientific Name: Rallus crepitans \n",
      "'Cleaned' Scientific Name (for processing): Rallus crepitans\n",
      "NatureServe Scientific Name: Rallus crepitans\n"
     ]
    },
    {
     "data": {
      "text/plain": [
       "{'class': 'Aves',\n",
       " 'family': 'Rallidae',\n",
       " 'genus': 'Rallus',\n",
       " 'genusSize': {'code': 'C', 'description': 'C - Small genus (6-20 species)'},\n",
       " 'kingdom': 'Animalia',\n",
       " 'order': 'Gruiformes',\n",
       " 'phylum': 'Craniata',\n",
       " 'taxonomicComments': 'Sometimes considered conspecific with <i>R. elegans</i> (AOU 1998). Populations along Pacific coast of North America and in Colorado River Valley region variously have been treated as <i>R. longirostris</i>, <i>R. elegans</i>, or <i>R. obsoletus</i>. (AOU 1983). See Avise and Zink (1988) for information on genetic divergence between <i>elegans </i>and <i>longirostris</i>.'}"
      ]
     },
     "metadata": {},
     "output_type": "display_data"
    },
    {
     "name": "stdout",
     "output_type": "stream",
     "text": [
      "Original Scientific Name: Erimystax insignis eristigma\n",
      "NatureServe Scientific Name: Erimystax insignis eristigma\n"
     ]
    },
    {
     "data": {
      "text/plain": [
       "{'class': 'Actinopterygii',\n",
       " 'family': 'Cyprinidae',\n",
       " 'genus': 'Erimystax',\n",
       " 'genusSize': {'code': 'B',\n",
       "  'description': 'B - Very small genus (2-5 species)'},\n",
       " 'kingdom': 'Animalia',\n",
       " 'order': 'Cypriniformes',\n",
       " 'phylum': 'Craniata'}"
      ]
     },
     "metadata": {},
     "output_type": "display_data"
    },
    {
     "name": "stdout",
     "output_type": "stream",
     "text": [
      "Original Scientific Name: Meropleon diversicolor sullivani\n",
      "NatureServe Scientific Name: Meropleon diversicolor sullivani\n"
     ]
    },
    {
     "data": {
      "text/plain": [
       "{'class': 'Insecta',\n",
       " 'family': 'Noctuidae',\n",
       " 'genus': 'Meropleon',\n",
       " 'genusSize': {'code': 'B',\n",
       "  'description': 'B - Very small genus (2-5 species)'},\n",
       " 'kingdom': 'Animalia',\n",
       " 'order': 'Lepidoptera',\n",
       " 'phylum': 'Mandibulata'}"
      ]
     },
     "metadata": {},
     "output_type": "display_data"
    },
    {
     "name": "stdout",
     "output_type": "stream",
     "text": [
      "Original Scientific Name: Spartiniphaga carterae\n",
      "NatureServe Scientific Name: Photedes carterae\n"
     ]
    },
    {
     "data": {
      "text/plain": [
       "{'class': 'Insecta',\n",
       " 'family': 'Noctuidae',\n",
       " 'genus': 'Photedes',\n",
       " 'kingdom': 'Animalia',\n",
       " 'order': 'Lepidoptera',\n",
       " 'phylum': 'Mandibulata',\n",
       " 'taxonomicComments': 'Transferred from <i>Spartiniphaga </i>to <i>Photedes </i>by Lafontaine and Schmidt (2010).<br /><br />Some New Jersey specimens superficially resemble <i>S. inops</i> and a few from North Carolina are dark brown. Otherwise there seem to be no differences between the two parts of the range. There is no reason to propose separate taxa for these two parts of the range despite these differences in minority phenotypes. Most specimens cannot be separated by phenotype and the foodplant is the same.  However, the species identity very similar recent specimens from southern Georgia needs to be verified.  The known foodplant does not occur in southern Georgia but the moths differ only very subtly from normal New Jersey and North Carolina specimens.  D. Schweitzer'}"
      ]
     },
     "metadata": {},
     "output_type": "display_data"
    },
    {
     "name": "stdout",
     "output_type": "stream",
     "text": [
      "Original Scientific Name: Peromyscus leucopus buxtoni\n",
      "NatureServe Scientific Name: Peromyscus leucopus buxtoni\n"
     ]
    },
    {
     "data": {
      "text/plain": [
       "{'class': 'Mammalia',\n",
       " 'family': 'Cricetidae',\n",
       " 'genus': 'Peromyscus',\n",
       " 'genusSize': {'code': 'D',\n",
       "  'description': 'D - Medium to large genus (21+ species)'},\n",
       " 'kingdom': 'Animalia',\n",
       " 'order': 'Rodentia',\n",
       " 'phylum': 'Craniata'}"
      ]
     },
     "metadata": {},
     "output_type": "display_data"
    },
    {
     "name": "stdout",
     "output_type": "stream",
     "text": [
      "Original Scientific Name: Pilsbryna nodopalma\n",
      "NatureServe Scientific Name: Pilsbryna nodopalma\n"
     ]
    },
    {
     "data": {
      "text/plain": [
       "{'class': 'Gastropoda',\n",
       " 'family': 'Zonitidae',\n",
       " 'genus': 'Pilsbryna',\n",
       " 'kingdom': 'Animalia',\n",
       " 'order': 'Stylommatophora',\n",
       " 'phylum': 'Mollusca'}"
      ]
     },
     "metadata": {},
     "output_type": "display_data"
    },
    {
     "name": "stdout",
     "output_type": "stream",
     "text": [
      "Original Scientific Name: Artace cribraria\n",
      "NatureServe Scientific Name: Artace cribraria\n"
     ]
    },
    {
     "data": {
      "text/plain": [
       "{'class': 'Insecta',\n",
       " 'family': 'Lasiocampidae',\n",
       " 'genus': 'Artace',\n",
       " 'kingdom': 'Animalia',\n",
       " 'order': 'Lepidoptera',\n",
       " 'phylum': 'Mandibulata'}"
      ]
     },
     "metadata": {},
     "output_type": "display_data"
    },
    {
     "name": "stdout",
     "output_type": "stream",
     "text": [
      "Original Scientific Name: Heteromeyenia longistylus\n",
      "NatureServe Scientific Name: Heteromeyenia longistylus\n"
     ]
    },
    {
     "data": {
      "text/plain": [
       "{'class': 'Demospongiae',\n",
       " 'family': 'Spongillidae',\n",
       " 'genus': 'Heteromeyenia',\n",
       " 'kingdom': 'Animalia',\n",
       " 'order': 'Haplosclerida',\n",
       " 'phylum': 'Porifera'}"
      ]
     },
     "metadata": {},
     "output_type": "display_data"
    },
    {
     "name": "stdout",
     "output_type": "stream",
     "text": [
      "Original Scientific Name: Holomelina laeta\n",
      "NatureServe Scientific Name: Virbia laeta\n"
     ]
    },
    {
     "data": {
      "text/plain": [
       "{'class': 'Insecta',\n",
       " 'family': 'Erebidae',\n",
       " 'genus': 'Virbia',\n",
       " 'kingdom': 'Animalia',\n",
       " 'order': 'Lepidoptera',\n",
       " 'phylum': 'Mandibulata',\n",
       " 'taxonomicComments': 'The genus <i>Holomelina</i> synonymized with <i>Virbia</i> by Zaspel and Weller (2006).<br><br>Following Lafontaine and Schmidt (2010), the traditional Arctiidae have been transferred to the family Erebidae as a subfamily (Arctiinae), with former subfamilies such as Lithosiinae now treated as tribes.  The circumscription of Arctiinae remains virtually identical to recent circumscriptions of Arctiidae, but circumscriptions of some taxa within the Arctiinae have changed.'}"
      ]
     },
     "metadata": {},
     "output_type": "display_data"
    },
    {
     "name": "stdout",
     "output_type": "stream",
     "text": [
      "Original Scientific Name: Holomelina nigricans\n",
      "NatureServe Scientific Name: Virbia nigricans\n"
     ]
    },
    {
     "data": {
      "text/plain": [
       "{'class': 'Insecta',\n",
       " 'family': 'Erebidae',\n",
       " 'genus': 'Virbia',\n",
       " 'kingdom': 'Animalia',\n",
       " 'order': 'Lepidoptera',\n",
       " 'phylum': 'Mandibulata',\n",
       " 'taxonomicComments': 'The genus <i>Holomelina</i> synonymized with <i>Virbia</i> by Zaspel and Weller (2006).<br><br>According to the late Joseph Muller (in correspondence to D.C. Ferguson, USNM in 1974), who collected or reared most known specimens from two places in Hunterdon County, New Jersey ca. 1959-1964, this is/was a distinct diurnal species.  Since Muller had more than 3000 sample-nights at one locality from about 1958 into the 1980s with an assortment of blacklights etc., his claim that this moth is diurnal cannot be dismissed lightly.  J. D. Lafontaine (pers. communications to Dale Schweitzer 29 February 2008) affirms that this is a valid species as was first determined by Ring Carde in his Ph.D. thesis which was not published.  It is smaller than other local species and has the reduced eyes typical of diurnal Noctuoidea. The forewing is broader than <i>H. aurantiaca</i> more like <i>H. ferruginosa</i> or especially <i>H. lamae</i>. The hindwing is usually, but not always (Muller, 1965), dark as far in as the prominent discal spot and is sometimes all black. Overall the moth looks like a miniature <i>H. lamae</i>, a diurnal boreal bog species.  Muller claimed the male genitalia are distinctive. At present this is uncertain. Aside from six lines in Muller (1965) as \"<i>Eubaphe lamae</i> Freeman ? or undescribed\" there is no useful literature on this obscure, but apparently distinctive, species.  According to Lafontaine this species was listed as valid in the Hodges (1983) Checklist on the basis of Carde\\'s research. D.F.Schweitzer<br><br>Following Lafontaine and Schmidt (2010), the traditional Arctiidae have been transferred to the family Erebidae as a subfamily (Arctiinae), with former subfamilies such as Lithosiinae now treated as tribes.  The circumscription of Arctiinae remains virtually identical to recent circumscriptions of Arctiidae, but circumscriptions of some taxa within the Arctiinae have changed.'}"
      ]
     },
     "metadata": {},
     "output_type": "display_data"
    },
    {
     "name": "stdout",
     "output_type": "stream",
     "text": [
      "Original Scientific Name: Lithomoia solidaginis germana\n",
      "NatureServe Scientific Name: Lithomoia germana\n"
     ]
    },
    {
     "data": {
      "text/plain": [
       "{'class': 'Insecta',\n",
       " 'family': 'Noctuidae',\n",
       " 'genus': 'Lithomoia',\n",
       " 'kingdom': 'Animalia',\n",
       " 'order': 'Lepidoptera',\n",
       " 'phylum': 'Mandibulata',\n",
       " 'taxonomicComments': 'Elevated to species status in Lafontaine and Schmidt (2010). Revised status by Kononenko et al. (1989) and Mikkola et al. (1991).'}"
      ]
     },
     "metadata": {},
     "output_type": "display_data"
    },
    {
     "name": "stdout",
     "output_type": "stream",
     "text": [
      "Original Scientific Name: Platyperigea meralis\n",
      "NatureServe Scientific Name: Caradrina meralis\n"
     ]
    },
    {
     "data": {
      "text/plain": [
       "{'class': 'Insecta',\n",
       " 'family': 'Noctuidae',\n",
       " 'genus': 'Caradrina',\n",
       " 'kingdom': 'Animalia',\n",
       " 'order': 'Lepidoptera',\n",
       " 'phylum': 'Mandibulata',\n",
       " 'taxonomicComments': '<i>Platyperigea </i>is now considered to be part of <i>Caradrina </i>(Hacker, 2004).'}"
      ]
     },
     "metadata": {},
     "output_type": "display_data"
    },
    {
     "name": "stdout",
     "output_type": "stream",
     "text": [
      "Original Scientific Name: Richia acclivis\n",
      "NatureServe Scientific Name: Dichagyris acclivis\n"
     ]
    },
    {
     "data": {
      "text/plain": [
       "{'class': 'Insecta',\n",
       " 'family': 'Noctuidae',\n",
       " 'genus': 'Dichagyris',\n",
       " 'kingdom': 'Animalia',\n",
       " 'order': 'Lepidoptera',\n",
       " 'phylum': 'Mandibulata',\n",
       " 'taxonomicComments': \"Eastern populations are clearly all the same thing, but some from the southwestern U.S that are usually placed under this name may represent different species. Poole's Catalogue sinks <i>Loxagrotis </i>to <i>Richia</i>. Dale Schweitzer and Tim McCabe together examined genitalia of many of the species, including this one, in August 1996 and concur with this despite the wide superficial divergence among them.\"}"
      ]
     },
     "metadata": {},
     "output_type": "display_data"
    },
    {
     "name": "stdout",
     "output_type": "stream",
     "text": [
      "Original Scientific Name: Richia grotei\n",
      "NatureServe Scientific Name: Dichagyris grotei\n"
     ]
    },
    {
     "data": {
      "text/plain": [
       "{'class': 'Insecta',\n",
       " 'family': 'Noctuidae',\n",
       " 'genus': 'Dichagyris',\n",
       " 'kingdom': 'Animalia',\n",
       " 'order': 'Lepidoptera',\n",
       " 'phylum': 'Mandibulata',\n",
       " 'taxonomicComments': 'Poole Catalogue sinks <i>Loxagrotis </i>to <i>Richia</i>.'}"
      ]
     },
     "metadata": {},
     "output_type": "display_data"
    },
    {
     "name": "stdout",
     "output_type": "stream",
     "text": [
      "Original Scientific Name: Satyrodes eurydice eurydice\n",
      "NatureServe Scientific Name: Lethe eurydice eurydice\n"
     ]
    },
    {
     "data": {
      "text/plain": [
       "{'class': 'Insecta',\n",
       " 'family': 'Nymphalidae',\n",
       " 'genus': 'Lethe',\n",
       " 'genusSize': {'code': 'B',\n",
       "  'description': 'B - Very small genus (2-5 species)'},\n",
       " 'kingdom': 'Animalia',\n",
       " 'order': 'Lepidoptera',\n",
       " 'phylum': 'Mandibulata'}"
      ]
     },
     "metadata": {},
     "output_type": "display_data"
    },
    {
     "name": "stdout",
     "output_type": "stream",
     "text": [
      "Original Scientific Name: Sthenopis auratus\n",
      "NatureServe Scientific Name: Sthenopis auratus\n"
     ]
    },
    {
     "data": {
      "text/plain": [
       "{'class': 'Insecta',\n",
       " 'family': 'Hepialidae',\n",
       " 'genus': 'Sthenopis',\n",
       " 'genusSize': {'code': 'B',\n",
       "  'description': 'B - Very small genus (2-5 species)'},\n",
       " 'kingdom': 'Animalia',\n",
       " 'order': 'Lepidoptera',\n",
       " 'phylum': 'Mandibulata',\n",
       " 'taxonomicComments': 'Grehan and Mielke (2016) determined that <i>Hepialus</i> (=<i>Sthenopis</i>) <i>auratus</i> and <i>Phassus eldorado</i> are junior and subjective synonymies of <i>Sthenopis pretiosus</i>.'}"
      ]
     },
     "metadata": {},
     "output_type": "display_data"
    },
    {
     "name": "stdout",
     "output_type": "stream",
     "text": [
      "Original Scientific Name: Tolype notialis\n",
      "NatureServe Scientific Name: Tolype notialis\n"
     ]
    },
    {
     "data": {
      "text/plain": [
       "{'class': 'Insecta',\n",
       " 'family': 'Lasiocampidae',\n",
       " 'genus': 'Tolype',\n",
       " 'genusSize': {'code': 'C', 'description': 'C - Small genus (6-20 species)'},\n",
       " 'kingdom': 'Animalia',\n",
       " 'order': 'Lepidoptera',\n",
       " 'phylum': 'Mandibulata',\n",
       " 'taxonomicComments': 'Difficult to separate from <i>Tolype laricis</i> and possibly the same species.  However they both occur in Chester County, Pennsylvania (<i>notialis </i>only in small serpentine pine barrens) and seem to differ in phenology.  <i>T. laricis </i>adults occur mostly in September and early October (same phenology in New Jersey) and<i>  T. notialis </i>apparently exclusively in July in southeastern Pennsylvania.  Females of both are rarely collected there but appear identical, males of <i>T. notilais</i> are not as black rather resembling the females--a difference that does not hold up farther south but seems to work well northward.'}"
      ]
     },
     "metadata": {},
     "output_type": "display_data"
    },
    {
     "name": "stdout",
     "output_type": "stream",
     "text": [
      "Original Scientific Name: Cardamine dentata\n",
      "NatureServe Scientific Name: Cardamine dentata\n"
     ]
    },
    {
     "data": {
      "text/plain": [
       "{'class': 'Dicotyledoneae',\n",
       " 'family': 'Brassicaceae',\n",
       " 'genus': 'Cardamine',\n",
       " 'kingdom': 'Plantae',\n",
       " 'order': 'Capparales',\n",
       " 'phylum': 'Anthophyta',\n",
       " 'taxonomicComments': 'FNA (vol. 7, 2010) does not name Cardamine dentata in the list of accepted Cardamine species, however, it says the taxonomy of Cardamine pratensis in North America requires further detailed study and that some specimens resemble the European C. dentata and that these populations might be native. The Flora Novae Angliae accepts C. dentata as a species native to western New England.'}"
      ]
     },
     "metadata": {},
     "output_type": "display_data"
    },
    {
     "name": "stdout",
     "output_type": "stream",
     "text": [
      "Original Scientific Name: Crepidomanes intricatum \n",
      "'Cleaned' Scientific Name (for processing): Crepidomanes intricatum\n",
      "NatureServe Scientific Name: Trichomanes intricatum\n"
     ]
    },
    {
     "data": {
      "text/plain": [
       "{'class': 'Filicopsida',\n",
       " 'family': 'Hymenophyllaceae',\n",
       " 'genus': 'Trichomanes',\n",
       " 'kingdom': 'Plantae',\n",
       " 'order': 'Filicales',\n",
       " 'phylum': 'Filicinophyta',\n",
       " 'taxonomicComments': 'Recognized by Flora North America (1993) and by Kartesz (1999 Synthesis).'}"
      ]
     },
     "metadata": {},
     "output_type": "display_data"
    },
    {
     "name": "stdout",
     "output_type": "stream",
     "text": [
      "Original Scientific Name: Dichanthelium ovale ssp. pseudopubescens\n",
      "NatureServe Scientific Name: Dichanthelium ovale ssp. pseudopubescens\n"
     ]
    },
    {
     "data": {
      "text/plain": [
       "{'class': 'Monocotyledoneae',\n",
       " 'family': 'Poaceae',\n",
       " 'genus': 'Dichanthelium',\n",
       " 'kingdom': 'Plantae',\n",
       " 'order': 'Cyperales',\n",
       " 'phylum': 'Anthophyta',\n",
       " 'taxonomicComments': 'Flora of North America\\'s (2003) <i>Dichanthelium ovale</i> ssp. <i>pseudopubescens</i> includes part of Kartesz\\'s (1999) <i>Dichanthelium villosissimum</i> var. <i>villosissimum</i> (\"<i>pseudopubescens</i>\" material) as well as nearly all of Kartesz\\'s (1999) <i>Dichanthelium ovale</i> var. <i>addisonii</i> - the exception is \"<i>Panicum mundum</i>\" material, which Kartesz (1999) includes in his <i>Dichanthelium ovale</i> var. <i>addisonii</i> but which Flora of North America (2003) regards as a putative hybrid between<i> Dichanthelium scoparium</i> and <i>Dichanthelium dichotomum</i>.'}"
      ]
     },
     "metadata": {},
     "output_type": "display_data"
    },
    {
     "name": "stdout",
     "output_type": "stream",
     "text": [
      "Original Scientific Name: Eupatorium novae-angliae\n",
      "NatureServe Scientific Name: Eupatorium leucolepis var. novae-angliae\n"
     ]
    },
    {
     "data": {
      "text/plain": [
       "{'class': 'Dicotyledoneae',\n",
       " 'family': 'Asteraceae',\n",
       " 'genus': 'Eupatorium',\n",
       " 'kingdom': 'Plantae',\n",
       " 'order': 'Asterales',\n",
       " 'phylum': 'Anthophyta',\n",
       " 'taxonomicComments': 'Question of whether this element should be recognized at the variety or full species level.  Kartesz (1999) and Flora of North America (2006) recognize it as a variety, while Haines (2005) recognizes it as a full species.'}"
      ]
     },
     "metadata": {},
     "output_type": "display_data"
    },
    {
     "name": "stdout",
     "output_type": "stream",
     "text": [
      "Original Scientific Name: Huperzia appressa\n",
      "NatureServe Scientific Name: Huperzia appalachiana\n"
     ]
    },
    {
     "data": {
      "text/plain": [
       "{'class': 'Lycopodiopsida',\n",
       " 'family': 'Lycopodiaceae',\n",
       " 'genus': 'Huperzia',\n",
       " 'kingdom': 'Plantae',\n",
       " 'order': 'Lycopodiales',\n",
       " 'phylum': 'Lycophyta'}"
      ]
     },
     "metadata": {},
     "output_type": "display_data"
    },
    {
     "name": "stdout",
     "output_type": "stream",
     "text": [
      "Original Scientific Name: Icaricia icarioides blackmorei\n",
      "NatureServe Scientific Name: Plebejus icarioides blackmorei\n"
     ]
    },
    {
     "data": {
      "text/plain": [
       "{'class': 'Insecta',\n",
       " 'family': 'Lycaenidae',\n",
       " 'genus': 'Plebejus',\n",
       " 'kingdom': 'Animalia',\n",
       " 'order': 'Lepidoptera',\n",
       " 'phylum': 'Mandibulata'}"
      ]
     },
     "metadata": {},
     "output_type": "display_data"
    },
    {
     "name": "stdout",
     "output_type": "stream",
     "text": [
      "Original Scientific Name: Icaricia acmon ssp. \n",
      "'Cleaned' Scientific Name (for processing): Icaricia acmon\n",
      "NatureServe Scientific Name: Plebejus acmon\n"
     ]
    },
    {
     "data": {
      "text/plain": [
       "{'class': 'Insecta',\n",
       " 'family': 'Lycaenidae',\n",
       " 'genus': 'Plebejus',\n",
       " 'kingdom': 'Animalia',\n",
       " 'order': 'Lepidoptera',\n",
       " 'phylum': 'Mandibulata',\n",
       " 'taxonomicComments': 'Opler (2003) determined that <i>P. acmon</i> is monotypic. Taxa formerly treated as subspecies of <i>P. acmon</i> are tentatively associated with <i>P. lupini </i>in Pelham (2008).'}"
      ]
     },
     "metadata": {},
     "output_type": "display_data"
    },
    {
     "name": "stdout",
     "output_type": "stream",
     "text": [
      "Original Scientific Name: Pictetiella lechleitneri\n",
      "NatureServe Scientific Name: Pictetiella lechleitneri\n"
     ]
    },
    {
     "data": {
      "text/plain": [
       "{'class': 'Insecta',\n",
       " 'family': 'Perlodidae',\n",
       " 'genus': 'Pictetiella',\n",
       " 'kingdom': 'Animalia',\n",
       " 'order': 'Plecoptera',\n",
       " 'phylum': 'Mandibulata'}"
      ]
     },
     "metadata": {},
     "output_type": "display_data"
    },
    {
     "name": "stdout",
     "output_type": "stream",
     "text": [
      "Original Scientific Name: Martes caurina pop. 3\n",
      "'Cleaned' Scientific Name (for processing): Martes caurina\n",
      "NatureServe Scientific Name: Martes caurina\n"
     ]
    },
    {
     "data": {
      "text/plain": [
       "{'class': 'Mammalia',\n",
       " 'family': 'Mustelidae',\n",
       " 'genus': 'Martes',\n",
       " 'genusSize': {'code': 'C', 'description': 'C - Small genus (6-20 species)'},\n",
       " 'kingdom': 'Animalia',\n",
       " 'order': 'Carnivora',\n",
       " 'phylum': 'Craniata',\n",
       " 'taxonomicComments': 'Dawson and Cook (2012) reviewed all previous studies of morphological and molecular variation in North American martens and determined that the conclusions from the previous morphological study by Wright (1953) were based on inadequate sampling and outdated taxonomic concepts. The authors concluded that the pattern of molecular and morphological variation in North American martens supports the recognition of <i>M. americana</i> and <i>M. caurina</i> as distinct species with independent evolutionary histories. Regarding subspecies, they concluded that most of the nominal taxa in eastern North America are not supported by existing data (but see McGowan et al. 1999), whereas the subspecific classification in the west (i.e., within <i>M. caurina</i>) \"more accurately reflects patterns of underlying geographic variation resulting from isolation in disjunct forest refugia during the last glaciation (Slauson et al. 2009).\"'}"
      ]
     },
     "metadata": {},
     "output_type": "display_data"
    },
    {
     "name": "stdout",
     "output_type": "stream",
     "text": [
      "Original Scientific Name: Juga hemphilli hemphilli\n",
      "NatureServe Scientific Name: Juga hemphilli hemphilli\n"
     ]
    },
    {
     "data": {
      "text/plain": [
       "{'class': 'Gastropoda',\n",
       " 'family': 'Pleuroceridae',\n",
       " 'genus': 'Juga',\n",
       " 'kingdom': 'Animalia',\n",
       " 'order': 'Neotaenioglossa',\n",
       " 'phylum': 'Mollusca',\n",
       " 'taxonomicComments': 'Lee et al. (2006) determined through nuclear and mitochondrial genetic trees that J<i>uga hemphilli </i>represents a geographical disjunct lineage of the eastern North American pleurocerid clade and provide a number of lines of evidence supporting repositioning <i>Juga hemphilli </i>into the genus <i>Elimia</i>, sister to <i>Elimia livescens</i>.  Examinationi of the GenBank specimens utilized in this study in comparision to anatomical studies of a subsequently collected sample of <i>Juga hemphilli dallesensis</i> from the type locality revealed the specimens used in Lee et al. (2006) were based on mislabelled specimens of the eastern species <i>Elimia doolyensis</i>; therby nullifying Lee et al. (2006) and retaining the <i>Juga hemphilli</i> (Foighil et al., 2009).'}"
      ]
     },
     "metadata": {},
     "output_type": "display_data"
    },
    {
     "name": "stdout",
     "output_type": "stream",
     "text": [
      "Original Scientific Name: Vespericola depressa\n",
      "NatureServe Scientific Name: Vespericola depressa\n"
     ]
    },
    {
     "data": {
      "text/plain": [
       "{'class': 'Gastropoda',\n",
       " 'family': 'Polygyridae',\n",
       " 'genus': 'Vespericola',\n",
       " 'kingdom': 'Animalia',\n",
       " 'order': 'Stylommatophora',\n",
       " 'phylum': 'Mollusca',\n",
       " 'taxonomicComments': 'Formerly <i>Vespericola columbianus depressa </i>(see Frest and Johannes, 1995). Not listed in Turgeon et al. (1998).'}"
      ]
     },
     "metadata": {},
     "output_type": "display_data"
    },
    {
     "name": "stdout",
     "output_type": "stream",
     "text": [
      "Original Scientific Name: Juga hemphilli dallesensis\n",
      "NatureServe Scientific Name: Juga hemphilli dallesensis\n"
     ]
    },
    {
     "data": {
      "text/plain": [
       "{'class': 'Gastropoda',\n",
       " 'family': 'Pleuroceridae',\n",
       " 'genus': 'Juga',\n",
       " 'kingdom': 'Animalia',\n",
       " 'order': 'Neotaenioglossa',\n",
       " 'phylum': 'Mollusca',\n",
       " 'taxonomicComments': 'Lee et al. (2006) determined through nuclear and mitochondrial genetic trees that J<i>uga hemphilli </i>represents a geographical disjunct lineage of the eastern North American pleurocerid clade and provide a number of lines of evidence supporting repositioning <i>Juga hemphilli </i>into the genus <i>Elimia</i>, sister to <i>Elimia livescens</i>.  Examinationi of the GenBank specimens utilized in this study in comparision to anatomical studies of a subsequently collected sample of <i>Juga hemphilli dallesensis</i> from the type locality revealed the specimens used in Lee et al. (2006) were based on mislabelled specimens of the eastern species <i>Elimia doolyensis</i>; therby nullifying Lee et al. (2006) and retaining the <i>Juga hemphilli</i> (Foighil et al., 2009).'}"
      ]
     },
     "metadata": {},
     "output_type": "display_data"
    },
    {
     "name": "stdout",
     "output_type": "stream",
     "text": [
      "Original Scientific Name: Monadenia fidelis minor\n",
      "NatureServe Scientific Name: Monadenia fidelis minor\n"
     ]
    },
    {
     "data": {
      "text/plain": [
       "{'class': 'Gastropoda',\n",
       " 'family': 'Bradybaenidae',\n",
       " 'genus': 'Monadenia',\n",
       " 'kingdom': 'Animalia',\n",
       " 'order': 'Stylommatophora',\n",
       " 'phylum': 'Mollusca',\n",
       " 'taxonomicComments': 'Branson apparently feels that many of the <i>Monadenia fidelis</i> subspecies are more approproately classed as color morphs of the primary species (Branson 1993).'}"
      ]
     },
     "metadata": {},
     "output_type": "display_data"
    },
    {
     "name": "stdout",
     "output_type": "stream",
     "text": [
      "Original Scientific Name: Hypsiglena chlorophaea\n",
      "NatureServe Scientific Name: Hypsiglena chlorophaea\n"
     ]
    },
    {
     "data": {
      "text/plain": [
       "{'class': 'Reptilia',\n",
       " 'family': 'Colubridae',\n",
       " 'genus': 'Hypsiglena',\n",
       " 'genusSize': {'code': 'C', 'description': 'C - Small genus (6-20 species)'},\n",
       " 'kingdom': 'Animalia',\n",
       " 'order': 'Squamata',\n",
       " 'phylum': 'Craniata'}"
      ]
     },
     "metadata": {},
     "output_type": "display_data"
    },
    {
     "name": "stdout",
     "output_type": "stream",
     "text": [
      "Original Scientific Name: Eutamias cinereicollis\n",
      "NatureServe Scientific Name: Neotamias cinereicollis\n"
     ]
    },
    {
     "data": {
      "text/plain": [
       "{'class': 'Mammalia',\n",
       " 'family': 'Sciuridae',\n",
       " 'genus': 'Neotamias',\n",
       " 'genusSize': {'code': 'D',\n",
       "  'description': 'D - Medium to large genus (21+ species)'},\n",
       " 'kingdom': 'Animalia',\n",
       " 'order': 'Rodentia',\n",
       " 'phylum': 'Craniata',\n",
       " 'taxonomicComments': 'Formerly included <i>T. canipes</i>, which was elevated to full species status by Fleharty (1960). Formerly included in genus <i>Eutamias</i>, which recently was included in the genus <i>Tamias </i>(Levenson et al. 1985; Jones et al. 1992, Hoffmann et al., in Wilson and Reeder 1993). Based on patterns of variation in ectoparasites (Jameson 1999) and molecular phylogenetics (Piaggio and Spicer 2001), the North American mammal checklist by Baker et al. (2003) placed all North American chipmunks (except <i>Tamias striatus</i>) in the genus <i>Neotamias</i>. Thorington and Hoffmann (in Wilson and Reeder 2005) noted that chipmunks could be legitimately allocated to one (<i>Tamias</i>), two (<i>Neotamias</i>, <i>Tamias</i>), or three (<i>Tamias</i>, <i>Neotamias</i>, <i>Eutamias</i>) genera; they chose to adopt the single-genus (<i>Tamias</i>) arrangement.'}"
      ]
     },
     "metadata": {},
     "output_type": "display_data"
    },
    {
     "name": "stdout",
     "output_type": "stream",
     "text": [
      "Original Scientific Name: Eutamias quadrivittatus\n",
      "NatureServe Scientific Name: Neotamias quadrivittatus\n"
     ]
    },
    {
     "data": {
      "text/plain": [
       "{'class': 'Mammalia',\n",
       " 'family': 'Sciuridae',\n",
       " 'genus': 'Neotamias',\n",
       " 'genusSize': {'code': 'D',\n",
       "  'description': 'D - Medium to large genus (21+ species)'},\n",
       " 'kingdom': 'Animalia',\n",
       " 'order': 'Rodentia',\n",
       " 'phylum': 'Craniata',\n",
       " 'taxonomicComments': 'Pre-1953 references to this species in some cases pertain to <i>T. umbrinus</i>. Bergstrom and Hoffmann (1991) found species-specific vocalizations, habitats, and bacular characters in sympatric <i>umbrinus </i>and <i>quadrivittatus</i>, but convergence in electromorphs. <br /><br />Formerly included in genus <i>Eutamias</i>, which recently has been included in the genus <i>Tamias </i>(Levenson et al. 1985; Jones et al. 1992, Hoffmann et al., in Wilson and Reeder 1993). Based on patterns of variation in ectoparasites (Jameson 1999) and molecular phylogenetics (Piaggio and Spicer 2001), the North American mammal checklist by Baker et al. (2003) placed all North American chipmunks (except <i>Tamias striatus</i>) in the genus <i>Neotamias</i>.<br /><br />See Sutton (1992) for a key to the species of <i>Tamias </i>(<i>Neotamias</i>).<br /><br />Former subspecies <i>rufus </i>now is regarded as a distinct species (Patterson 1984, Best et al. 1994, Burt et al. 1994).'}"
      ]
     },
     "metadata": {},
     "output_type": "display_data"
    },
    {
     "name": "stdout",
     "output_type": "stream",
     "text": [
      "Original Scientific Name: Eutamias umbrinus\n",
      "NatureServe Scientific Name: Neotamias umbrinus\n"
     ]
    },
    {
     "data": {
      "text/plain": [
       "{'class': 'Mammalia',\n",
       " 'family': 'Sciuridae',\n",
       " 'genus': 'Neotamias',\n",
       " 'genusSize': {'code': 'D',\n",
       "  'description': 'D - Medium to large genus (21+ species)'},\n",
       " 'kingdom': 'Animalia',\n",
       " 'order': 'Rodentia',\n",
       " 'phylum': 'Craniata',\n",
       " 'taxonomicComments': 'Pre-1953 references to <i>T. quadrivittatus</i> in some cases pertain to <i>T. umbrinus</i>. Bergstrom and Hoffmann (1991) found species-specific vocalizations, habitats, and bacular characters in sympatric <i>umbrinus </i>and <i>quadrivittatus</i>, but convergence in electromorphs. <br /><br />Formerly included in genus <i>Eutamias</i>, which recently was included in the genus <i>Tamias </i>(Levenson et al. 1985; Jones et al. 1992, Hoffmann et al., in Wilson and Reeder 1993). Based on patterns of variation in ectoparasites (Jameson 1999) and molecular phylogenetics (Piaggio and Spicer 2001), the North American mammal checklist by Baker et al. (2003) placed all North American chipmunks (except <i>Tamias striatus</i>) in the genus <i>Neotamias</i>. Thorington and Hoffmann (in Wilson and Reeder 2005) noted that chipmunks could be legitimately allocated to one (<i>Tamias</i>), two (<i>Neotamias</i>, <i>Tamias</i>), or three (<i>Tamias</i>, <i>Neotamias</i>, <i>Eutamias</i>) genera; they chose to adopt the single-genus (<i>Tamias</i>) arrangement.<br /><br />See Sutton (1992) for a key to the species of <i>Tamias </i>(<i>Neotamias</i>).<br /><br />Former subspecies <i>rufus </i>now is regarded as a distinct species (Patterson 1984).'}"
      ]
     },
     "metadata": {},
     "output_type": "display_data"
    },
    {
     "name": "stdout",
     "output_type": "stream",
     "text": [
      "Original Scientific Name: Microtus longicaudus leucophaeus\n",
      "NatureServe Scientific Name: Microtus longicaudus leucophaeus\n"
     ]
    },
    {
     "data": {
      "text/plain": [
       "{'class': 'Mammalia',\n",
       " 'family': 'Cricetidae',\n",
       " 'genus': 'Microtus',\n",
       " 'genusSize': {'code': 'D',\n",
       "  'description': 'D - Medium to large genus (21+ species)'},\n",
       " 'kingdom': 'Animalia',\n",
       " 'order': 'Rodentia',\n",
       " 'phylum': 'Craniata'}"
      ]
     },
     "metadata": {},
     "output_type": "display_data"
    },
    {
     "name": "stdout",
     "output_type": "stream",
     "text": [
      "Original Scientific Name: Microtus mexicanus mogollonensis\n",
      "NatureServe Scientific Name: Microtus mogollonensis mogollonensis\n"
     ]
    },
    {
     "data": {
      "text/plain": [
       "{'class': 'Mammalia',\n",
       " 'family': 'Cricetidae',\n",
       " 'genus': 'Microtus',\n",
       " 'genusSize': {'code': 'D',\n",
       "  'description': 'D - Medium to large genus (21+ species)'},\n",
       " 'kingdom': 'Animalia',\n",
       " 'order': 'Rodentia',\n",
       " 'phylum': 'Craniata'}"
      ]
     },
     "metadata": {},
     "output_type": "display_data"
    },
    {
     "name": "stdout",
     "output_type": "stream",
     "text": [
      "Original Scientific Name: Neotoma mexicana mexicana\n",
      "NatureServe Scientific Name: Neotoma mexicana mexicana\n"
     ]
    },
    {
     "data": {
      "text/plain": [
       "{'class': 'Mammalia',\n",
       " 'family': 'Cricetidae',\n",
       " 'genus': 'Neotoma',\n",
       " 'genusSize': {'code': 'C', 'description': 'C - Small genus (6-20 species)'},\n",
       " 'kingdom': 'Animalia',\n",
       " 'order': 'Rodentia',\n",
       " 'phylum': 'Craniata',\n",
       " 'taxonomicComments': 'Includes N. M. BULLATA (Hoffmeister 1986).'}"
      ]
     },
     "metadata": {},
     "output_type": "display_data"
    },
    {
     "name": "stdout",
     "output_type": "stream",
     "text": [
      "Original Scientific Name: Oreohelix yavapai cummingsi\n",
      "NatureServe Scientific Name: Oreohelix yavapai cummingsi\n"
     ]
    },
    {
     "data": {
      "text/plain": [
       "{'class': 'Gastropoda',\n",
       " 'family': 'Oreohelicidae',\n",
       " 'genus': 'Oreohelix',\n",
       " 'genusSize': {'code': 'D',\n",
       "  'description': 'D - Medium to large genus (21+ species)'},\n",
       " 'kingdom': 'Animalia',\n",
       " 'order': 'Stylommatophora',\n",
       " 'phylum': 'Mollusca',\n",
       " 'taxonomicComments': '<i>Oreohelix yavapai clutei </i>is likely a synonym of <i>Oreohelix yavapai cummingsi</i> (J. Cordeiro, September 2004).'}"
      ]
     },
     "metadata": {},
     "output_type": "display_data"
    },
    {
     "name": "stdout",
     "output_type": "stream",
     "text": [
      "Original Scientific Name: Batrisodes (Babnormodes) feminiclypeus\n",
      "'Cleaned' Scientific Name (for processing): Batrisodes feminiclypeus\n",
      "NatureServe Scientific Name: Batrisodes feminiclypeus\n"
     ]
    },
    {
     "data": {
      "text/plain": [
       "{'class': 'Insecta',\n",
       " 'family': 'Staphylinidae',\n",
       " 'genus': 'Batrisodes',\n",
       " 'genusSize': {'code': 'D',\n",
       "  'description': 'D - Medium to large genus (21+ species)'},\n",
       " 'kingdom': 'Animalia',\n",
       " 'order': 'Coleoptera',\n",
       " 'phylum': 'Mandibulata'}"
      ]
     },
     "metadata": {},
     "output_type": "display_data"
    },
    {
     "name": "stdout",
     "output_type": "stream",
     "text": [
      "Original Scientific Name: Batrisodes (Babnormodes) gravesi (Chandler and\n",
      "'Cleaned' Scientific Name (for processing): Batrisodes gravesi\n",
      "NatureServe Scientific Name: Batrisodes gravesi\n"
     ]
    },
    {
     "data": {
      "text/plain": [
       "{'class': 'Insecta',\n",
       " 'family': 'Staphylinidae',\n",
       " 'genus': 'Batrisodes',\n",
       " 'genusSize': {'code': 'D',\n",
       "  'description': 'D - Medium to large genus (21+ species)'},\n",
       " 'kingdom': 'Animalia',\n",
       " 'order': 'Coleoptera',\n",
       " 'phylum': 'Mandibulata'}"
      ]
     },
     "metadata": {},
     "output_type": "display_data"
    },
    {
     "name": "stdout",
     "output_type": "stream",
     "text": [
      "Original Scientific Name: Batrisodes (Excavodes) cryptotexanus (Chandler a\n",
      "'Cleaned' Scientific Name (for processing): Batrisodes cryptotexanus\n",
      "NatureServe Scientific Name: Batrisodes cryptotexanus\n"
     ]
    },
    {
     "data": {
      "text/plain": [
       "{'class': 'Insecta',\n",
       " 'family': 'Staphylinidae',\n",
       " 'genus': 'Batrisodes',\n",
       " 'genusSize': {'code': 'D',\n",
       "  'description': 'D - Medium to large genus (21+ species)'},\n",
       " 'kingdom': 'Animalia',\n",
       " 'order': 'Coleoptera',\n",
       " 'phylum': 'Mandibulata',\n",
       " 'taxonomicComments': 'Note: coffin cave mold beetle is an incorrect common name ascribed to <i>Batrisodes texanus </i>as this species does not occur there; this name should instead be applied to <i>Batrisodes cryptotexanus</i> (Cokendolpher and Reddell, 2009).'}"
      ]
     },
     "metadata": {},
     "output_type": "display_data"
    },
    {
     "name": "stdout",
     "output_type": "stream",
     "text": [
      "Original Scientific Name: Euchemotrema leai cheatumi\n",
      "NatureServe Scientific Name: Euchemotrema leaii cheatumi\n"
     ]
    },
    {
     "data": {
      "text/plain": [
       "{'class': 'Gastropoda',\n",
       " 'family': 'Polygyridae',\n",
       " 'genus': 'Euchemotrema',\n",
       " 'kingdom': 'Animalia',\n",
       " 'order': 'Stylommatophora',\n",
       " 'phylum': 'Mollusca',\n",
       " 'taxonomicComments': 'Species name change from \"<i>leai</i>\" to \"<i>leaii</i>\" follows Grimm et al. (2009).'}"
      ]
     },
     "metadata": {},
     "output_type": "display_data"
    },
    {
     "name": "stdout",
     "output_type": "stream",
     "text": [
      "Original Scientific Name: Fixsenia polingi\n",
      "NatureServe Scientific Name: Satyrium polingi\n"
     ]
    },
    {
     "data": {
      "text/plain": [
       "{'class': 'Insecta',\n",
       " 'family': 'Lycaenidae',\n",
       " 'genus': 'Satyrium',\n",
       " 'genusSize': {'code': 'C', 'description': 'C - Small genus (6-20 species)'},\n",
       " 'kingdom': 'Animalia',\n",
       " 'order': 'Lepidoptera',\n",
       " 'phylum': 'Mandibulata',\n",
       " 'taxonomicComments': 'Opler and Warren (2002) state, \"Species previously places in <i>Fixsenia </i>Tutt, 1907 and <i>Harkenclenus </i>dos Passos, 1970, are now placed in <i>Satyrium </i>by Robbins (in press).\"'}"
      ]
     },
     "metadata": {},
     "output_type": "display_data"
    },
    {
     "name": "stdout",
     "output_type": "stream",
     "text": [
      "Original Scientific Name: Iberobathynella bowmani\n",
      "NatureServe Scientific Name: Iberobathynella bowmani\n"
     ]
    },
    {
     "data": {
      "text/plain": [
       "{'class': 'Malacostraca',\n",
       " 'family': 'Parabathynellidae',\n",
       " 'genus': 'Iberobathynella',\n",
       " 'genusSize': {'code': 'C', 'description': 'C - Small genus (6-20 species)'},\n",
       " 'kingdom': 'Animalia',\n",
       " 'order': 'Bathynellacea',\n",
       " 'phylum': 'Crustacea'}"
      ]
     },
     "metadata": {},
     "output_type": "display_data"
    },
    {
     "name": "stdout",
     "output_type": "stream",
     "text": [
      "Original Scientific Name: Platyomus flexicaulis (Schaeffer)\n",
      "'Cleaned' Scientific Name (for processing): Platyomus flexicaulis\n",
      "NatureServe Scientific Name: Platyomus flexicaulis\n"
     ]
    },
    {
     "data": {
      "text/plain": [
       "{'class': 'Insecta',\n",
       " 'family': 'Curculionidae',\n",
       " 'genus': 'Platyomus',\n",
       " 'kingdom': 'Animalia',\n",
       " 'order': 'Coleoptera',\n",
       " 'phylum': 'Mandibulata'}"
      ]
     },
     "metadata": {},
     "output_type": "display_data"
    },
    {
     "name": "stdout",
     "output_type": "stream",
     "text": [
      "Original Scientific Name: Plocetes versicolor (Clark)\n",
      "'Cleaned' Scientific Name (for processing): Plocetes versicolor\n",
      "NatureServe Scientific Name: Plocetes versicolor\n"
     ]
    },
    {
     "data": {
      "text/plain": [
       "{'class': 'Insecta',\n",
       " 'family': 'Curculionidae',\n",
       " 'genus': 'Plocetes',\n",
       " 'kingdom': 'Animalia',\n",
       " 'order': 'Coleoptera',\n",
       " 'phylum': 'Mandibulata'}"
      ]
     },
     "metadata": {},
     "output_type": "display_data"
    },
    {
     "name": "stdout",
     "output_type": "stream",
     "text": [
      "Original Scientific Name: Protoptila arca\n",
      "NatureServe Scientific Name: Protoptila arca\n"
     ]
    },
    {
     "data": {
      "text/plain": [
       "{'class': 'Insecta',\n",
       " 'family': 'Glossosomatidae',\n",
       " 'genus': 'Protoptila',\n",
       " 'kingdom': 'Animalia',\n",
       " 'order': 'Trichoptera',\n",
       " 'phylum': 'Mandibulata'}"
      ]
     },
     "metadata": {},
     "output_type": "display_data"
    },
    {
     "name": "stdout",
     "output_type": "stream",
     "text": [
      "Original Scientific Name: Pseudotryonia adamantina\n",
      "NatureServe Scientific Name: Pseudotryonia adamantina\n"
     ]
    },
    {
     "data": {
      "text/plain": [
       "{'class': 'Gastropoda',\n",
       " 'family': 'Hydrobiidae',\n",
       " 'genus': 'Pseudotryonia',\n",
       " 'genusSize': {'code': 'C', 'description': 'C - Small genus (6-20 species)'},\n",
       " 'kingdom': 'Animalia',\n",
       " 'order': 'Neotaenioglossa',\n",
       " 'phylum': 'Mollusca',\n",
       " 'taxonomicComments': 'Hershler (2001) placed this species in the genus <i>Pseudotryonia</i>.  A recent study (Hershler et al,. 1999) investigated phylogenetic relationships among the 23 recognized species of the genus <i>Tryonia </i>in the southwestern United States, using mitochondrial DNA sequences. This analysis supported the taxonomic status of both snail species living in the Diamond Y Spring system and suggested that there were differences within the genus that may warrant reclassification. The gonzales springsnail was assigned to a clade of true <i>Tryonia </i>made up of 16 species. The Diamond Y Spring snail was assigned to a separate clade of four species. This study confirms these two snails from the Diamond Y Spring system are indeed distinct, monotypic groups warranting species status.'}"
      ]
     },
     "metadata": {},
     "output_type": "display_data"
    },
    {
     "name": "stdout",
     "output_type": "stream",
     "text": [
      "Original Scientific Name: Trimorphodon vilkinsonii\n",
      "NatureServe Scientific Name: Trimorphodon vilkinsonii\n"
     ]
    },
    {
     "data": {
      "text/plain": [
       "{'class': 'Reptilia',\n",
       " 'family': 'Colubridae',\n",
       " 'genus': 'Trimorphodon',\n",
       " 'genusSize': {'code': 'C', 'description': 'C - Small genus (6-20 species)'},\n",
       " 'kingdom': 'Animalia',\n",
       " 'order': 'Squamata',\n",
       " 'phylum': 'Craniata',\n",
       " 'taxonomicComments': 'Using morphological data, LaDuc and Johnson (2003) reevaluated the status of <i>T. biscutatus lambda</i> and <i>T. biscutatus vilkinsonii </i>and concluded that the latter should be regarded as a distinct species (<i>T. vilkinsonii</i>). They found that specimens from Cochise County, Arizona, and Hidalgo County, New Mexico, deemed by Gehlbach as intermediate between <i>T. b. lambda</i> and <i>T. b. vilkinsonii</i>, instead should be regarded as <i>T. b. lambda</i>.<br /><br />Based on mtDNA data (Devitt 2006) and patterns of morphological variation, Devitt et al. (2008) recognized 6 species in the <i>Trimorphodon biscutatus</i> species complex: <i>T. lyrophanes</i>, <i>T. lambda</i>, and <i>T. vilkinsonii </i>in the United States and Mexico, and <i>T. biscutatus</i>, <i>T. paucimaculatus</i>, and <i>T. quadruplex </i>occurring to the south in Mexico/Central America. Devitt et al. (2008) stated that <i>Trimorphodon lambda</i> hybridizes with<i> T. vilkinsonii </i>in extreme southeastern Arizona (Cochise County) and southwestern New Mexico (Grant and Hidalgo counties).'}"
      ]
     },
     "metadata": {},
     "output_type": "display_data"
    },
    {
     "name": "stdout",
     "output_type": "stream",
     "text": [
      "Original Scientific Name: Helminthoglypta stiversiana williamsi\n",
      "NatureServe Scientific Name: Helminthoglypta stiversiana williamsi\n"
     ]
    },
    {
     "data": {
      "text/plain": [
       "{'class': 'Gastropoda',\n",
       " 'family': 'Helminthoglyptidae',\n",
       " 'genus': 'Helminthoglypta',\n",
       " 'kingdom': 'Animalia',\n",
       " 'order': 'Stylommatophora',\n",
       " 'phylum': 'Mollusca',\n",
       " 'taxonomicComments': 'Formerly placed as a subspecies of<i> Helminthoglypta arrosa</i> (see Roth and Sadeghian, 2003).'}"
      ]
     },
     "metadata": {},
     "output_type": "display_data"
    },
    {
     "name": "stdout",
     "output_type": "stream",
     "text": [
      "Original Scientific Name: Helminthoglypta traskii pacoimensis\n",
      "NatureServe Scientific Name: Helminthoglypta traskii pacoimensis\n"
     ]
    },
    {
     "data": {
      "text/plain": [
       "{'class': 'Gastropoda',\n",
       " 'family': 'Helminthoglyptidae',\n",
       " 'genus': 'Helminthoglypta',\n",
       " 'kingdom': 'Animalia',\n",
       " 'order': 'Stylommatophora',\n",
       " 'phylum': 'Mollusca'}"
      ]
     },
     "metadata": {},
     "output_type": "display_data"
    },
    {
     "name": "stdout",
     "output_type": "stream",
     "text": [
      "Original Scientific Name: Helminthoglypta traskii traskii\n",
      "NatureServe Scientific Name: Helminthoglypta traskii traskii\n"
     ]
    },
    {
     "data": {
      "text/plain": [
       "{'class': 'Gastropoda',\n",
       " 'family': 'Helminthoglyptidae',\n",
       " 'genus': 'Helminthoglypta',\n",
       " 'kingdom': 'Animalia',\n",
       " 'order': 'Stylommatophora',\n",
       " 'phylum': 'Mollusca'}"
      ]
     },
     "metadata": {},
     "output_type": "display_data"
    },
    {
     "name": "stdout",
     "output_type": "stream",
     "text": [
      "Original Scientific Name: Monadenia infumata setosa\n",
      "NatureServe Scientific Name: Monadenia infumata setosa\n"
     ]
    },
    {
     "data": {
      "text/plain": [
       "{'class': 'Gastropoda',\n",
       " 'family': 'Bradybaenidae',\n",
       " 'genus': 'Monadenia',\n",
       " 'kingdom': 'Animalia',\n",
       " 'order': 'Stylommatophora',\n",
       " 'phylum': 'Mollusca'}"
      ]
     },
     "metadata": {},
     "output_type": "display_data"
    },
    {
     "name": "stdout",
     "output_type": "stream",
     "text": [
      "Original Scientific Name: Bowmanasellus sequoiae\n",
      "NatureServe Scientific Name: Bowmanasellus sequoiae\n"
     ]
    },
    {
     "data": {
      "text/plain": [
       "{'class': 'Malacostraca',\n",
       " 'family': 'Asellidae',\n",
       " 'genus': 'Bowmanasellus',\n",
       " 'kingdom': 'Animalia',\n",
       " 'order': 'Isopoda',\n",
       " 'phylum': 'Crustacea'}"
      ]
     },
     "metadata": {},
     "output_type": "display_data"
    },
    {
     "name": "stdout",
     "output_type": "stream",
     "text": [
      "Original Scientific Name: Deltaspis ivae\n",
      "NatureServe Scientific Name: Deltaspis ivae\n"
     ]
    },
    {
     "data": {
      "text/plain": [
       "{'class': 'Insecta',\n",
       " 'family': 'Cerambycidae',\n",
       " 'genus': 'Deltaspis',\n",
       " 'kingdom': 'Animalia',\n",
       " 'order': 'Coleoptera',\n",
       " 'phylum': 'Mandibulata'}"
      ]
     },
     "metadata": {},
     "output_type": "display_data"
    },
    {
     "name": "stdout",
     "output_type": "stream",
     "text": [
      "Original Scientific Name: Rhaphiomidas terminatus terminatus\n",
      "NatureServe Scientific Name: Rhaphiomidas terminatus terminatus\n"
     ]
    },
    {
     "data": {
      "text/plain": [
       "{'class': 'Insecta',\n",
       " 'family': 'Apioceridae',\n",
       " 'genus': 'Rhaphiomidas',\n",
       " 'kingdom': 'Animalia',\n",
       " 'order': 'Diptera',\n",
       " 'phylum': 'Mandibulata'}"
      ]
     },
     "metadata": {},
     "output_type": "display_data"
    },
    {
     "name": "stdout",
     "output_type": "stream",
     "text": [
      "Original Scientific Name: Plebejus idas lotis\n",
      "NatureServe Scientific Name: Plebejus anna lotis\n"
     ]
    },
    {
     "data": {
      "text/plain": [
       "{'class': 'Insecta',\n",
       " 'family': 'Lycaenidae',\n",
       " 'genus': 'Plebejus',\n",
       " 'kingdom': 'Animalia',\n",
       " 'order': 'Lepidoptera',\n",
       " 'phylum': 'Mandibulata',\n",
       " 'taxonomicComments': 'Listed by U.S. FWS as <i>Lycaena argyrognomon lotis</i>. Listed by Xerces as <i>Lycaeides idas lotis</i>.'}"
      ]
     },
     "metadata": {},
     "output_type": "display_data"
    },
    {
     "name": "stdout",
     "output_type": "stream",
     "text": [
      "Original Scientific Name: Xantusia sierrae\n",
      "NatureServe Scientific Name: Xantusia sierrae\n"
     ]
    },
    {
     "data": {
      "text/plain": [
       "{'class': 'Reptilia',\n",
       " 'family': 'Xantusiidae',\n",
       " 'genus': 'Xantusia',\n",
       " 'genusSize': {'code': 'B',\n",
       "  'description': 'B - Very small genus (2-5 species)'},\n",
       " 'kingdom': 'Animalia',\n",
       " 'order': 'Squamata',\n",
       " 'phylum': 'Craniata',\n",
       " 'taxonomicComments': '<i>Xantusia vigilis sierrae</i> was listed as a species (<i>X. sierrae</i>) by de Quieroz and Reeder (in Crother 2008, 2012), but the cited basis for the change (Sinclair et al. 2004) was tentative about the status of <i>sierrae </i>(genetically it is nested within <i>vigilis</i>). Leavitt et al. (2007) also were tentative about <i>sierrae </i>as a distinct species. Accordingly, we also tentatively recognize <i>X. sierrae</i> as a distinct species.'}"
      ]
     },
     "metadata": {},
     "output_type": "display_data"
    },
    {
     "name": "stdout",
     "output_type": "stream",
     "text": [
      "Original Scientific Name: Aspidoscelis hyperythra\n",
      "NatureServe Scientific Name: Aspidoscelis hyperythra\n"
     ]
    },
    {
     "data": {
      "text/plain": [
       "{'class': 'Reptilia',\n",
       " 'family': 'Teiidae',\n",
       " 'genus': 'Aspidoscelis',\n",
       " 'genusSize': {'code': 'D',\n",
       "  'description': 'D - Medium to large genus (21+ species)'},\n",
       " 'kingdom': 'Animalia',\n",
       " 'order': 'Squamata',\n",
       " 'phylum': 'Craniata',\n",
       " 'taxonomicComments': 'Reeder et al. (2002) examined phylogenetic relationships of the whiptail lizards of the genus <i>Cnemidophorus </i>based on a combined analysis of mitochondrial DNA, morphology, and allozymes. They determined that <i>Cnemidophorus </i>in the traditional sense is paraphyletic and thus in need of nomenclatural revision. Rather than subsume all cnemidophorine species (including <i>Kentropyx</i>) in a single large genus (<i>Ameiva</i>), they proposed a split that placed the North American \"<i>Cnemidophorus</i>\" clade in the monophyletic genus <i>Aspidoscelis</i>; under this arrangement, South American taxa remain in the genus <i>Cnemidophorus</i>.<br /><br />This species was regarded by Grismer (1999) as a monotypic species, based on extensive areas of intergradation between subspecies and elevation of formerly recognized island subspecies to species status (Welsh 1988, Grismer 1999). Crother et al. (2000, 2008) cited a different concept of the zone of intergradation and retained two subspecies (<i>hyperythra </i>and <i>beldingi</i>). Collins and Taggart (2002) did not recognize subspecies.'}"
      ]
     },
     "metadata": {},
     "output_type": "display_data"
    },
    {
     "name": "stdout",
     "output_type": "stream",
     "text": [
      "Original Scientific Name: Anniella alexanderae\n",
      "NatureServe Scientific Name: Anniella alexanderae\n"
     ]
    },
    {
     "data": {
      "text/plain": [
       "{'class': 'Reptilia',\n",
       " 'family': 'Anniellidae',\n",
       " 'genus': 'Anniella',\n",
       " 'genusSize': {'code': 'B',\n",
       "  'description': 'B - Very small genus (2-5 species)'},\n",
       " 'kingdom': 'Animalia',\n",
       " 'order': 'Squamata',\n",
       " 'phylum': 'Craniata',\n",
       " 'taxonomicComments': 'The former <i>A. pulchra</i> was divided into five species by Papenfuss and Parham (2013).'}"
      ]
     },
     "metadata": {},
     "output_type": "display_data"
    },
    {
     "name": "stdout",
     "output_type": "stream",
     "text": [
      "Original Scientific Name: Anniella campi\n",
      "NatureServe Scientific Name: Anniella campi\n"
     ]
    },
    {
     "data": {
      "text/plain": [
       "{'class': 'Reptilia',\n",
       " 'family': 'Anniellidae',\n",
       " 'genus': 'Anniella',\n",
       " 'genusSize': {'code': 'B',\n",
       "  'description': 'B - Very small genus (2-5 species)'},\n",
       " 'kingdom': 'Animalia',\n",
       " 'order': 'Squamata',\n",
       " 'phylum': 'Craniata',\n",
       " 'taxonomicComments': 'The former <i>A. pulchra</i> was divided into five species by Papenfuss and Parham (2013).'}"
      ]
     },
     "metadata": {},
     "output_type": "display_data"
    },
    {
     "name": "stdout",
     "output_type": "stream",
     "text": [
      "Original Scientific Name: Anniella grinnelli\n",
      "NatureServe Scientific Name: Anniella grinnelli\n"
     ]
    },
    {
     "data": {
      "text/plain": [
       "{'class': 'Reptilia',\n",
       " 'family': 'Anniellidae',\n",
       " 'genus': 'Anniella',\n",
       " 'genusSize': {'code': 'B',\n",
       "  'description': 'B - Very small genus (2-5 species)'},\n",
       " 'kingdom': 'Animalia',\n",
       " 'order': 'Squamata',\n",
       " 'phylum': 'Craniata',\n",
       " 'taxonomicComments': 'The former<i> A. pulchra</i> was divided into five species by Papenfuss and Parham (2013). Parham and Papenfuss (2009) speculated that the Carrizo Plain population may be a hybrid or intergrade population, but Papenfuss and Parham (2013) included it in their concept of <i>A. grinnelli</i>.'}"
      ]
     },
     "metadata": {},
     "output_type": "display_data"
    },
    {
     "name": "stdout",
     "output_type": "stream",
     "text": [
      "Original Scientific Name: Anniella stebbinsi\n",
      "NatureServe Scientific Name: Anniella stebbinsi\n"
     ]
    },
    {
     "data": {
      "text/plain": [
       "{'class': 'Reptilia',\n",
       " 'family': 'Anniellidae',\n",
       " 'genus': 'Anniella',\n",
       " 'genusSize': {'code': 'B',\n",
       "  'description': 'B - Very small genus (2-5 species)'},\n",
       " 'kingdom': 'Animalia',\n",
       " 'order': 'Squamata',\n",
       " 'phylum': 'Craniata',\n",
       " 'taxonomicComments': 'The former <i>A. pulchra</i> was divided into five species by Papenfuss and Parham (2013).'}"
      ]
     },
     "metadata": {},
     "output_type": "display_data"
    },
    {
     "name": "stdout",
     "output_type": "stream",
     "text": [
      "Original Scientific Name: Coluber [= Masticophis] flagellum ruddocki\n",
      "'Cleaned' Scientific Name (for processing): Coluber flagellum ruddocki\n",
      "NatureServe Scientific Name: Coluber flagellum ruddocki\n"
     ]
    },
    {
     "data": {
      "text/plain": [
       "{'class': 'Reptilia',\n",
       " 'family': 'Colubridae',\n",
       " 'genus': 'Coluber',\n",
       " 'genusSize': {'code': 'A', 'description': 'A - Monotypic genus'},\n",
       " 'kingdom': 'Animalia',\n",
       " 'order': 'Squamata',\n",
       " 'phylum': 'Craniata'}"
      ]
     },
     "metadata": {},
     "output_type": "display_data"
    },
    {
     "name": "stdout",
     "output_type": "stream",
     "text": [
      "Original Scientific Name: Coluber [= Masticophis] fuliginosus\n",
      "'Cleaned' Scientific Name (for processing): Coluber fuliginosus\n",
      "NatureServe Scientific Name: Coluber fuliginosus\n"
     ]
    },
    {
     "data": {
      "text/plain": [
       "{'class': 'Reptilia',\n",
       " 'family': 'Colubridae',\n",
       " 'genus': 'Coluber',\n",
       " 'genusSize': {'code': 'A', 'description': 'A - Monotypic genus'},\n",
       " 'kingdom': 'Animalia',\n",
       " 'order': 'Squamata',\n",
       " 'phylum': 'Craniata',\n",
       " 'taxonomicComments': 'On the basis of a sympatric occurrence with <i>C. flagellum</i>, Grismer (1994, 2002) recognized <i>C. fuliginosus </i>as a distinct species.'}"
      ]
     },
     "metadata": {},
     "output_type": "display_data"
    },
    {
     "name": "stdout",
     "output_type": "stream",
     "text": [
      "Original Scientific Name: Contia longicauda\n",
      "NatureServe Scientific Name: Contia longicauda\n"
     ]
    },
    {
     "data": {
      "text/plain": [
       "{'class': 'Reptilia',\n",
       " 'family': 'Colubridae',\n",
       " 'genus': 'Contia',\n",
       " 'genusSize': {'code': 'A', 'description': 'A - Monotypic genus'},\n",
       " 'kingdom': 'Animalia',\n",
       " 'order': 'Squamata',\n",
       " 'phylum': 'Craniata',\n",
       " 'taxonomicComments': 'This species formerly was included in <i>Contia tenuis</i>; recognized as a distinct species by Feldman and Hoyer (2010). This species was originally named <i>Contia longicaudae</i>, however, because Feldman and Hoyer (2010) explicity treated the second part of the binomen as an adjective, it must agree with the name <i>Contia </i>in gender and number so that the correct spelling is <i>Contia longicauda </i>(Crother 2012).'}"
      ]
     },
     "metadata": {},
     "output_type": "display_data"
    },
    {
     "name": "stdout",
     "output_type": "stream",
     "text": [
      "Original Scientific Name: Dendragapus fuliginosus howardi\n",
      "NatureServe Scientific Name: Dendragapus fuliginosus howardi\n"
     ]
    },
    {
     "data": {
      "text/plain": [
       "{'class': 'Aves',\n",
       " 'family': 'Phasianidae',\n",
       " 'genus': 'Dendragapus',\n",
       " 'genusSize': {'code': 'B',\n",
       "  'description': 'B - Very small genus (2-5 species)'},\n",
       " 'kingdom': 'Animalia',\n",
       " 'order': 'Galliformes',\n",
       " 'phylum': 'Craniata',\n",
       " 'taxonomicComments': 'Further study using genetic techniques is needed to clarify the taxonomic status of sooty grouse in the southern Sierra Nevads and isolated montane areas south of Tulare County. Unpublished mtDNA data (G. Barrowclough) suggest that the population in the southern Sierra Nevada represents subspecies <i>sierrae </i>rather than <i>howardi</i>, and the population on the isolated montane areas including Mount Pinos may represent a disitnct (and possibly extinct) species (J. Bland).'}"
      ]
     },
     "metadata": {},
     "output_type": "display_data"
    },
    {
     "name": "stdout",
     "output_type": "stream",
     "text": [
      "Original Scientific Name: Rallus obsoletus levipes\n",
      "NatureServe Scientific Name: Rallus obsoletus levipes\n"
     ]
    },
    {
     "data": {
      "text/plain": [
       "{'class': 'Aves',\n",
       " 'family': 'Rallidae',\n",
       " 'genus': 'Rallus',\n",
       " 'genusSize': {'code': 'C', 'description': 'C - Small genus (6-20 species)'},\n",
       " 'kingdom': 'Animalia',\n",
       " 'order': 'Gruiformes',\n",
       " 'phylum': 'Craniata'}"
      ]
     },
     "metadata": {},
     "output_type": "display_data"
    },
    {
     "name": "stdout",
     "output_type": "stream",
     "text": [
      "Original Scientific Name: Rallus obsoletus yumanensis\n",
      "NatureServe Scientific Name: Rallus obsoletus yumanensis\n"
     ]
    },
    {
     "data": {
      "text/plain": [
       "{'class': 'Aves',\n",
       " 'family': 'Rallidae',\n",
       " 'genus': 'Rallus',\n",
       " 'genusSize': {'code': 'C', 'description': 'C - Small genus (6-20 species)'},\n",
       " 'kingdom': 'Animalia',\n",
       " 'order': 'Gruiformes',\n",
       " 'phylum': 'Craniata',\n",
       " 'taxonomicComments': 'Ripley (1977) included subspecies <i>rhizophorae</i> and <i>nayaritensis</i> of western coastal Mexico (Banks and Tomlinson 1974) in subspecies <i>yumanensis</i>. Further clarification of the taxonomic status of birds occurring along the west coast of Mexico is needed (Eddleman et al. 1988).'}"
      ]
     },
     "metadata": {},
     "output_type": "display_data"
    },
    {
     "name": "stdout",
     "output_type": "stream",
     "text": [
      "Original Scientific Name: Calidris virgata\n",
      "NatureServe Scientific Name: Calidris virgata\n"
     ]
    },
    {
     "data": {
      "text/plain": [
       "{'class': 'Aves',\n",
       " 'family': 'Scolopacidae',\n",
       " 'genus': 'Calidris',\n",
       " 'genusSize': {'code': 'C', 'description': 'C - Small genus (6-20 species)'},\n",
       " 'kingdom': 'Animalia',\n",
       " 'order': 'Charadriiformes',\n",
       " 'phylum': 'Craniata',\n",
       " 'taxonomicComments': 'Phylogenetic analyses of sequences of mitochondrial and nuclear DNA (Gibson and Baker 2012) indicate that the species previously known as <i>Aphriza virgata</i>, <i>Eurynorhynchus pygmeus</i>, <i>Limicola falcinellus</i>, <i>Tryngites subruficollis</i>, and <i>Philomachus pugnax </i>form a clade with species already in <i>Calidris</i>. The name <i>Calidris </i>has priority for this clade (Banks 2012). Linear sequence of species derived from Gibson and Baker (2012) (AOU 2013).'}"
      ]
     },
     "metadata": {},
     "output_type": "display_data"
    },
    {
     "name": "stdout",
     "output_type": "stream",
     "text": [
      "Original Scientific Name: Synthliboramphus scrippsi\n",
      "NatureServe Scientific Name: Synthliboramphus scrippsi\n"
     ]
    },
    {
     "data": {
      "text/plain": [
       "{'class': 'Aves',\n",
       " 'family': 'Alcidae',\n",
       " 'genus': 'Synthliboramphus',\n",
       " 'genusSize': {'code': 'B',\n",
       "  'description': 'B - Very small genus (2-5 species)'},\n",
       " 'kingdom': 'Animalia',\n",
       " 'order': 'Charadriiformes',\n",
       " 'phylum': 'Craniata',\n",
       " 'taxonomicComments': \"<i>Synthliboramphus hypoleucus scrippsi</i> has been elevated to species status by AOU (2012). Formerly treated as conspecific with <i>S. scrippsi </i>(as Xantus's Murrelet) but separated on the basis of a lack of evidence of interbreeding where the two are sympatric on the San Benito Islands, and on differences in morphology (especially facial pattern and bill shape), vocalizations, and genetics (AOU 2012 and sources cited therein). These species were formerly placed in the genus <i>Endomychura</i>.\"}"
      ]
     },
     "metadata": {},
     "output_type": "display_data"
    },
    {
     "name": "stdout",
     "output_type": "stream",
     "text": [
      "Original Scientific Name: Neotamias [=Tamius] alpinus\n",
      "'Cleaned' Scientific Name (for processing): Neotamias alpinus\n",
      "NatureServe Scientific Name: Neotamias alpinus\n"
     ]
    },
    {
     "data": {
      "text/plain": [
       "{'class': 'Mammalia',\n",
       " 'family': 'Sciuridae',\n",
       " 'genus': 'Neotamias',\n",
       " 'genusSize': {'code': 'D',\n",
       "  'description': 'D - Medium to large genus (21+ species)'},\n",
       " 'kingdom': 'Animalia',\n",
       " 'order': 'Rodentia',\n",
       " 'phylum': 'Craniata',\n",
       " 'taxonomicComments': 'North American chipmunks formerly were included in the genus <i>Eutamias</i>, which recently was included in the genus <i>Tamias </i>(Levenson et al. 1985; Jones et al. 1992, Hoffmann et al., in Wilson and Reeder 1993). Based on patterns of variation in ectoparasites (Jameson 1999) and molecular phylogenetics (Piaggio and Spicer 2001), the North American mammal checklist by Baker et al. (2003) placed all North American chipmunks (except <i>Tamias striatus</i>) in the genus <i>Neotamias</i>. Thorington and Hoffmann (in Wilson and Reeder 2005) noted that chipmunks could be legitimately allocated to one (<i>Tamias</i>), two (<i>Neotamias</i>, <i>Tamias</i>), or three (<i>Tamias</i>, <i>Neotamias</i>, <i>Eutamias</i>) genera; they chose to adopt the single-genus (<i>Tamias</i>) arrangement.<br /><br />See Sutton (1992) for a key to the species of chipmunks.'}"
      ]
     },
     "metadata": {},
     "output_type": "display_data"
    },
    {
     "name": "stdout",
     "output_type": "stream",
     "text": [
      "Original Scientific Name: Pekania [=Martes] pennanti\n",
      "'Cleaned' Scientific Name (for processing): Pekania pennanti\n",
      "NatureServe Scientific Name: Pekania pennanti\n"
     ]
    },
    {
     "data": {
      "text/plain": [
       "{'class': 'Mammalia',\n",
       " 'family': 'Mustelidae',\n",
       " 'genus': 'Pekania',\n",
       " 'genusSize': {'code': 'A', 'description': 'A - Monotypic genus'},\n",
       " 'kingdom': 'Animalia',\n",
       " 'order': 'Carnivora',\n",
       " 'phylum': 'Craniata',\n",
       " 'taxonomicComments': 'Nominal subspecies are questionable, but population subdivision is occurring within the species (Drew et al. 2003). Genetic data suggest that gene flow once occurred between fisher populations in British Columbia and those in the Pacific states, but extant populations in those areas are now genetically isolated due to extirpation of fishers in Washington and northern Oregon (Drew et al. 2003). The extant populations in California and Oregon are both discrete and biologically significant and thus qualify as a distinct population segment.<br /><br />\"Multiple lines of paleontological and genetic evidence suggest that the fisher recently (&lt;5,000 years ago) expanded into the mountain forests of the Pacific coast. The reduced dimensionality of the distribution of the fisher in western coastal forests appears to have contributed to the high levels of structure and decreasing diversity from north to south. These effects were likely exacerbated by human-caused changes to the environment. The low genetic diversity and high genetic structure of populations in the southern Sierra Nevada suggest that populations in this part of the geographic range are vulnerable to extinction.\" [from Wisely et al. 2004]<br /><br />Stone and Cook (2002) placed the fisher in the subgenus <i>Pekania </i>and suggested that <i>M. pennanti</i> and <i>Gulo gulo</i> may form a monophyletic group, which would make <i>Martes </i>paraphyletic. Sato et al. (2012) used mitochondrial and nuclear DNA to examine the phylogeography of Musteloidea and also concluded that <i>pennanti</i> does not belong in the genus <i>Martes</i>; they proposed that fishers be included in the genus <i>Pekania</i>.'}"
      ]
     },
     "metadata": {},
     "output_type": "display_data"
    },
    {
     "name": "stdout",
     "output_type": "stream",
     "text": [
      "Original Scientific Name: Agrostis lacuna-vernalis\n",
      "NatureServe Scientific Name: Agrostis lacuna-vernalis\n"
     ]
    },
    {
     "data": {
      "text/plain": [
       "{'class': 'Monocotyledoneae',\n",
       " 'family': 'Poaceae',\n",
       " 'genus': 'Agrostis',\n",
       " 'kingdom': 'Plantae',\n",
       " 'order': 'Cyperales',\n",
       " 'phylum': 'Anthophyta'}"
      ]
     },
     "metadata": {},
     "output_type": "display_data"
    },
    {
     "name": "stdout",
     "output_type": "stream",
     "text": [
      "Original Scientific Name: Brodiaea matsonii\n",
      "NatureServe Scientific Name: Brodiaea matsonii\n"
     ]
    },
    {
     "data": {
      "text/plain": [
       "{'class': 'Monocotyledoneae',\n",
       " 'family': 'Liliaceae',\n",
       " 'genus': 'Brodiaea',\n",
       " 'kingdom': 'Plantae',\n",
       " 'order': 'Liliales',\n",
       " 'phylum': 'Anthophyta',\n",
       " 'taxonomicComments': '<i>Brodiaea matsonii </i>is described by Preston (2010) as closely related to, but distinct from <i>B. minor</i>.'}"
      ]
     },
     "metadata": {},
     "output_type": "display_data"
    },
    {
     "name": "stdout",
     "output_type": "stream",
     "text": [
      "Original Scientific Name: Calochortus syntrophus\n",
      "NatureServe Scientific Name: Calochortus syntrophus\n"
     ]
    },
    {
     "data": {
      "text/plain": [
       "{'class': 'Monocotyledoneae',\n",
       " 'family': 'Liliaceae',\n",
       " 'genus': 'Calochortus',\n",
       " 'kingdom': 'Plantae',\n",
       " 'order': 'Liliales',\n",
       " 'phylum': 'Anthophyta',\n",
       " 'taxonomicComments': \"Calochortus syntrophus is not addressed in Kartesz's 1999 Synthesis or FNA (vol. 26, 2002).\"}"
      ]
     },
     "metadata": {},
     "output_type": "display_data"
    },
    {
     "name": "stdout",
     "output_type": "stream",
     "text": [
      "Original Scientific Name: Castilleja affinis var. neglecta\n",
      "NatureServe Scientific Name: Castilleja affinis ssp. neglecta\n"
     ]
    },
    {
     "data": {
      "text/plain": [
       "{'class': 'Dicotyledoneae',\n",
       " 'family': 'Scrophulariaceae',\n",
       " 'genus': 'Castilleja',\n",
       " 'kingdom': 'Plantae',\n",
       " 'order': 'Scrophulariales',\n",
       " 'phylum': 'Anthophyta',\n",
       " 'taxonomicComments': 'Transferred to varietal rank by Egger (2008). Treated as Castilleja affinis ssp. neglecta by Kartesz (1999 Synthesis), by The Jepson Manual (Hickman, 1993) and by the U.S. Fish and Wildlife Service. Originally named as a species (Castilleja neglecta), and treated at that level by Kartesz (1994). Kartesz notes (pers. comm. to Larry Morse, 25Nov99) that his treatment of this as a subspecies is based on a 1992 personal communication with Chuang.'}"
      ]
     },
     "metadata": {},
     "output_type": "display_data"
    },
    {
     "name": "stdout",
     "output_type": "stream",
     "text": [
      "Original Scientific Name: Castilleja ambigua var. insalutata\n",
      "NatureServe Scientific Name: Castilleja ambigua ssp. insalutata\n"
     ]
    },
    {
     "data": {
      "text/plain": [
       "{'class': 'Dicotyledoneae',\n",
       " 'family': 'Scrophulariaceae',\n",
       " 'genus': 'Castilleja',\n",
       " 'kingdom': 'Plantae',\n",
       " 'order': 'Scrophulariales',\n",
       " 'phylum': 'Anthophyta'}"
      ]
     },
     "metadata": {},
     "output_type": "display_data"
    },
    {
     "name": "stdout",
     "output_type": "stream",
     "text": [
      "Original Scientific Name: Castilleja ambigua var. meadii\n",
      "NatureServe Scientific Name: Castilleja ambigua var. meadii\n"
     ]
    },
    {
     "data": {
      "text/plain": [
       "{'class': 'Dicotyledoneae',\n",
       " 'family': 'Scrophulariaceae',\n",
       " 'genus': 'Castilleja',\n",
       " 'kingdom': 'Plantae',\n",
       " 'order': 'Scrophulariales',\n",
       " 'phylum': 'Anthophyta',\n",
       " 'taxonomicComments': 'According to Egger et al. (2012) in 2008 Egger reestablished infraspecific taxa of Castilleja ambigua as varieties and thus described var. meadii as a variety in 2012. However, the second edition of the Jepson Manual (Baldwin et al. 2012) retained the three existing subspecific taxa as subspecies.'}"
      ]
     },
     "metadata": {},
     "output_type": "display_data"
    },
    {
     "name": "stdout",
     "output_type": "stream",
     "text": [
      "Original Scientific Name: Castilleja campestris var. succulenta\n",
      "NatureServe Scientific Name: Castilleja campestris ssp. succulenta\n"
     ]
    },
    {
     "data": {
      "text/plain": [
       "{'class': 'Dicotyledoneae',\n",
       " 'family': 'Scrophulariaceae',\n",
       " 'genus': 'Castilleja',\n",
       " 'kingdom': 'Plantae',\n",
       " 'order': 'Scrophulariales',\n",
       " 'phylum': 'Anthophyta',\n",
       " 'taxonomicComments': 'Both Kartesz and the Fed. Reg. agree on the nomenclature of this element and now recognize it as part of the genus <i>Castilleja </i>(as opposed to <i>Orthocarpus</i>).'}"
      ]
     },
     "metadata": {},
     "output_type": "display_data"
    },
    {
     "name": "stdout",
     "output_type": "stream",
     "text": [
      "Original Scientific Name: Cirsium scariosum var. loncholepis\n",
      "NatureServe Scientific Name: Cirsium loncholepis\n"
     ]
    },
    {
     "data": {
      "text/plain": [
       "{'class': 'Dicotyledoneae',\n",
       " 'family': 'Asteraceae',\n",
       " 'genus': 'Cirsium',\n",
       " 'kingdom': 'Plantae',\n",
       " 'order': 'Asterales',\n",
       " 'phylum': 'Anthophyta',\n",
       " 'taxonomicComments': 'Keil (2010) explains that while what has been called Cirsium loncholepis strongly resembles upland populations of C. scariosum (what he distinguished as C. scariosum var. citrinum in his FNA treatment of Cirsium), they differ ecologically (coastal vs. upland) such that he recognizes C. scariosum var. loncholepis as distinct from var. citrinum in the second edition of The Jepson Manual (Baldwin et al. 2012).'}"
      ]
     },
     "metadata": {},
     "output_type": "display_data"
    },
    {
     "name": "stdout",
     "output_type": "stream",
     "text": [
      "Original Scientific Name: Crocanthemum greenei\n",
      "NatureServe Scientific Name: Helianthemum greenei\n"
     ]
    },
    {
     "data": {
      "text/plain": [
       "{'class': 'Dicotyledoneae',\n",
       " 'family': 'Cistaceae',\n",
       " 'genus': 'Helianthemum',\n",
       " 'kingdom': 'Plantae',\n",
       " 'order': 'Violales',\n",
       " 'phylum': 'Anthophyta',\n",
       " 'taxonomicComments': 'Combination in Crocanthemum published by Sorrie (2011).'}"
      ]
     },
     "metadata": {},
     "output_type": "display_data"
    },
    {
     "name": "stdout",
     "output_type": "stream",
     "text": [
      "Original Scientific Name: Eriastrum ertterae\n",
      "NatureServe Scientific Name: Eriastrum ertterae\n"
     ]
    },
    {
     "data": {
      "text/plain": [
       "{'class': 'Dicotyledoneae',\n",
       " 'family': 'Polemoniaceae',\n",
       " 'genus': 'Eriastrum',\n",
       " 'kingdom': 'Plantae',\n",
       " 'order': 'Solanales',\n",
       " 'phylum': 'Anthophyta',\n",
       " 'taxonomicComments': 'Eriastrum ertterae differs from E. hooveri in that it has larger corollas tinted with blue (not white), stamens attached lower in the tube, and anthers that reach the corolla lobe sinus or beyond (instead of included and generally not reaching the corolla sinus) (Gowen 2013).'}"
      ]
     },
     "metadata": {},
     "output_type": "display_data"
    },
    {
     "name": "stdout",
     "output_type": "stream",
     "text": [
      "Original Scientific Name: Eriastrum rosamondense\n",
      "NatureServe Scientific Name: Eriastrum rosamondense\n"
     ]
    },
    {
     "data": {
      "text/plain": [
       "{'class': 'Dicotyledoneae',\n",
       " 'family': 'Polemoniaceae',\n",
       " 'genus': 'Eriastrum',\n",
       " 'kingdom': 'Plantae',\n",
       " 'order': 'Solanales',\n",
       " 'phylum': 'Anthophyta',\n",
       " 'taxonomicComments': 'Eriastrum rosamondense differs from E. hooveri in that it has corollas pale blue (not white), and stamens exserted almost half the corolla lobe length (instead of included) and it differs from E. diffusum in that it has smaller flowers and leaves entire (instead of leaves mostly with one pair of lateral lobes) (Gowen 2013).'}"
      ]
     },
     "metadata": {},
     "output_type": "display_data"
    },
    {
     "name": "stdout",
     "output_type": "stream",
     "text": [
      "Original Scientific Name: Eriogonum alexanderae\n",
      "NatureServe Scientific Name: Eriogonum ochrocephalum var. alexandrae\n"
     ]
    },
    {
     "data": {
      "text/plain": [
       "{'class': 'Dicotyledoneae',\n",
       " 'family': 'Polygonaceae',\n",
       " 'genus': 'Eriogonum',\n",
       " 'kingdom': 'Plantae',\n",
       " 'order': 'Polygonales',\n",
       " 'phylum': 'Anthophyta',\n",
       " 'taxonomicComments': \"Originally described in 1985 by Reveal as a variety of <i>Eriogonum ochrocephalum</i> (the treatment accepted by Kartesz 1994 and 1999). The FNA (vol. 5, 2005) treatment by Reveal included it as indistinct from <i>E. crosbyae</i>. Grady and Reveal (2011) conclude that DNA sequence data and clear morphological distinctions (in size, habit, leaf size, and involucre length) support its acceptance as a species, separate from both <i>E. ochrocephalum</i> and <i>E. crosbyae</i>. Spelled 'alexanderae' in Kartesz's 1994 checklist, revised to 'alexandrae' in the 1999 Synthesis. Spelling 'alexandrae' based on ICBN 60C.2 regarding personal names already in Greek or Latin (with example of 'alexandri' for Alexander), for a name honoring a woman, but not a name referring to a place. Grady and Reveal (2011) use the spelling 'alexanderae.'\"}"
      ]
     },
     "metadata": {},
     "output_type": "display_data"
    },
    {
     "name": "stdout",
     "output_type": "stream",
     "text": [
      "Original Scientific Name: Erythranthe carsonensis\n",
      "NatureServe Scientific Name: Erythranthe carsonensis\n"
     ]
    },
    {
     "data": {
      "text/plain": [
       "{'class': 'Dicotyledoneae',\n",
       " 'family': 'Phrymaceae',\n",
       " 'genus': 'Erythranthe',\n",
       " 'kingdom': 'Plantae',\n",
       " 'order': 'Lamiales',\n",
       " 'phylum': 'Anthophyta',\n",
       " 'taxonomicComments': 'Fraga (2012) finds and describes Erythranthe carsonensis as a species distinct from E. montioides sensu Thompson (2012) in Baldwin et al. (2012).'}"
      ]
     },
     "metadata": {},
     "output_type": "display_data"
    },
    {
     "name": "stdout",
     "output_type": "stream",
     "text": [
      "Original Scientific Name: Erythranthe hardhamiae\n",
      "NatureServe Scientific Name: Erythranthe hardhamiae\n"
     ]
    },
    {
     "data": {
      "text/plain": [
       "{'class': 'Dicotyledoneae',\n",
       " 'family': 'Phrymaceae',\n",
       " 'genus': 'Erythranthe',\n",
       " 'kingdom': 'Plantae',\n",
       " 'order': 'Lamiales',\n",
       " 'phylum': 'Anthophyta',\n",
       " 'taxonomicComments': 'Fraga (2012) finds and describes Erythranthe hardhamiae as a species, distinct from E. palmeri sensu Thompson (2012) in Baldwin et al. (2012).'}"
      ]
     },
     "metadata": {},
     "output_type": "display_data"
    },
    {
     "name": "stdout",
     "output_type": "stream",
     "text": [
      "Original Scientific Name: Erythranthe rhodopetra\n",
      "NatureServe Scientific Name: Erythranthe rhodopetra\n"
     ]
    },
    {
     "data": {
      "text/plain": [
       "{'class': 'Dicotyledoneae',\n",
       " 'family': 'Phrymaceae',\n",
       " 'genus': 'Erythranthe',\n",
       " 'kingdom': 'Plantae',\n",
       " 'order': 'Lamiales',\n",
       " 'phylum': 'Anthophyta',\n",
       " 'taxonomicComments': 'Fraga (2012) finds and describes Erythranthe rhodopetra as a species, distinct from E. palmeri sensu Thompson (2012) in Baldwin et al. (2012).'}"
      ]
     },
     "metadata": {},
     "output_type": "display_data"
    },
    {
     "name": "stdout",
     "output_type": "stream",
     "text": [
      "Original Scientific Name: Erythranthe taylorii\n",
      "NatureServe Scientific Name: Erythranthe taylorii\n"
     ]
    },
    {
     "data": {
      "text/plain": [
       "{'class': 'Dicotyledoneae',\n",
       " 'family': 'Phrymaceae',\n",
       " 'genus': 'Erythranthe',\n",
       " 'kingdom': 'Plantae',\n",
       " 'order': 'Lamiales',\n",
       " 'phylum': 'Anthophyta',\n",
       " 'taxonomicComments': 'The species was originally described using the epithet spelling \\'<i>taylori</i>\\' however, according to the International Code of Plant Nomenclature (Melbourne Code, McNeill et al. 2011), it should end with two \"i\"s (K. Lazar, pers. comm.).  According to Nesom (2013) collections of <i>Erythranthe taylorii</i> have been identified as <i>Mimulus pulsiferae</i> (by Taylor, though he recognized that they were not typical) and<i> M. alsinoides</i>; Nesom describes the species as distinct based on differences in leaf blades, calyces, and corollas.'}"
      ]
     },
     "metadata": {},
     "output_type": "display_data"
    },
    {
     "name": "stdout",
     "output_type": "stream",
     "text": [
      "Original Scientific Name: Grimmia vaginulata\n",
      "NatureServe Scientific Name: Grimmia vaginulata\n"
     ]
    },
    {
     "data": {
      "text/plain": [
       "{'class': 'Bryopsida',\n",
       " 'family': 'Grimmiaceae',\n",
       " 'genus': 'Grimmia',\n",
       " 'kingdom': 'Plantae',\n",
       " 'order': 'Grimmiales',\n",
       " 'phylum': 'Bryophyta'}"
      ]
     },
     "metadata": {},
     "output_type": "display_data"
    },
    {
     "name": "stdout",
     "output_type": "stream",
     "text": [
      "Original Scientific Name: Helianthus inexpectatus\n",
      "NatureServe Scientific Name: Helianthus inexpectatus\n"
     ]
    },
    {
     "data": {
      "text/plain": [
       "{'class': 'Dicotyledoneae',\n",
       " 'family': 'Asteraceae',\n",
       " 'genus': 'Helianthus',\n",
       " 'kingdom': 'Plantae',\n",
       " 'order': 'Asterales',\n",
       " 'phylum': 'Anthophyta',\n",
       " 'taxonomicComments': '<i>Helianthus inexpectatus</i> is endemic to California, and morphologically indistinguishable from <i>H. californicus </i> and <i>H. nuttallii </i>ssp. <i>parishii, </i> however, it is believed to be reproductively isolated and geographically restricted and was described in 2010.  It should be noted that defining a taxon based on these two criteria, and not necessarily based on morphologic differences too, is in line with the guidance in the Guide for Authors Contributing to the Second Edition of The Jepson Manual (Keil and Elvin 2010).'}"
      ]
     },
     "metadata": {},
     "output_type": "display_data"
    },
    {
     "name": "stdout",
     "output_type": "stream",
     "text": [
      "Original Scientific Name: Hesperocyparis abramsiana var. abramsiana\n",
      "NatureServe Scientific Name: Cupressus abramsiana ssp. abramsiana\n"
     ]
    },
    {
     "data": {
      "text/plain": [
       "{'class': 'Pinopsida',\n",
       " 'family': 'Cupressaceae',\n",
       " 'genus': 'Cupressus',\n",
       " 'kingdom': 'Plantae',\n",
       " 'order': 'Pinales',\n",
       " 'phylum': 'Coniferophyta',\n",
       " 'taxonomicComments': 'Adams and Bartel (2009) studied the subspecies of Cupressus abramsiana recognized by Silba in 2003 and determined that only C. abramsiana ssp. butanoensis is supported by terpenoid and DNA data. They recognized that subspecies in the new genus for the species as Hesperocyparis abramsiana var. butanoensis. This record is for the concept including the remaining populations of Hesperocyparis abramsiana.'}"
      ]
     },
     "metadata": {},
     "output_type": "display_data"
    },
    {
     "name": "stdout",
     "output_type": "stream",
     "text": [
      "Original Scientific Name: Hesperocyparis abramsiana var. butanoensis\n",
      "NatureServe Scientific Name: Cupressus abramsiana ssp. butanoensis\n"
     ]
    },
    {
     "data": {
      "text/plain": [
       "{'class': 'Pinopsida',\n",
       " 'family': 'Cupressaceae',\n",
       " 'genus': 'Cupressus',\n",
       " 'kingdom': 'Plantae',\n",
       " 'order': 'Pinales',\n",
       " 'phylum': 'Coniferophyta',\n",
       " 'taxonomicComments': 'Adams and Bartel (2009) studied the subspecies of Cupressus abramsiana recognized by Silba in 2003 and determined that only C. abramsiana ssp. butanoensis is supported by terpenoid and DNA data. They recognized that subspecies in the new genus for the species as Hesperocyparis abramsiana var. butanoensis.'}"
      ]
     },
     "metadata": {},
     "output_type": "display_data"
    },
    {
     "name": "stdout",
     "output_type": "stream",
     "text": [
      "Original Scientific Name: Hesperocyparis forbesii\n",
      "NatureServe Scientific Name: Cupressus forbesii\n"
     ]
    },
    {
     "data": {
      "text/plain": [
       "{'class': 'Pinopsida',\n",
       " 'family': 'Cupressaceae',\n",
       " 'genus': 'Cupressus',\n",
       " 'kingdom': 'Plantae',\n",
       " 'order': 'Pinales',\n",
       " 'phylum': 'Coniferophyta',\n",
       " 'taxonomicComments': 'Treated as a species by Kartesz (1994 and 1999), and as a variety of <i>Cupressus guadelupensis</i> by Little (1971 atlas) and FNA (1993). Considered native but not endemic in California by Kartesz (1999).'}"
      ]
     },
     "metadata": {},
     "output_type": "display_data"
    },
    {
     "name": "stdout",
     "output_type": "stream",
     "text": [
      "Original Scientific Name: Hesperocyparis goveniana\n",
      "NatureServe Scientific Name: Cupressus goveniana ssp. goveniana\n"
     ]
    },
    {
     "data": {
      "text/plain": [
       "{'class': 'Pinopsida',\n",
       " 'family': 'Cupressaceae',\n",
       " 'genus': 'Cupressus',\n",
       " 'kingdom': 'Plantae',\n",
       " 'order': 'Pinales',\n",
       " 'phylum': 'Coniferophyta',\n",
       " 'taxonomicComments': 'In the second edition of the Jepson Manual (Baldwin et al. 2012) what Kartesz (1994 and 1999) treated as Cupressus goveniana ssp. goveniana and C. goveniana ssp. pygmaea are treated as distinct species in the genus Hesperocyparis.'}"
      ]
     },
     "metadata": {},
     "output_type": "display_data"
    },
    {
     "name": "stdout",
     "output_type": "stream",
     "text": [
      "Original Scientific Name: Hesperocyparis stephensonii\n",
      "NatureServe Scientific Name: Cupressus arizonica ssp. stephensonii\n"
     ]
    },
    {
     "data": {
      "text/plain": [
       "{'class': 'Pinopsida',\n",
       " 'family': 'Cupressaceae',\n",
       " 'genus': 'Cupressus',\n",
       " 'kingdom': 'Plantae',\n",
       " 'order': 'Pinales',\n",
       " 'phylum': 'Coniferophyta',\n",
       " 'taxonomicComments': '<i>Cupressus stephensonii</i> was submerged into <i>C. arizonica</i> var. <i>arizonica</i> by Bartel (in Hickman 1993) but according to Connie Millar (cited as pers. comm. in USFWS 1995), these plants of the Cuyamaca Mountains are genetically distinct from those of <i>C. arizonica</i>. CNPS and CNDDB also accept <i>C. stephensonii</i> as distinct as of August 1997. Kartesz accepted as distinct in 1994, but in 1999 considered <i>stephensonii</i> a subspecies of <i>C. arizonica</i>.  Little (2006) believes that New World species of <i>Cupressus</i> should be transferred to <i>Callitropsis</i>. In the second edition of The Jepson Manual (Baldwin et al. 2012), the species has been transferred to <i>Hesperocyparis</i>.'}"
      ]
     },
     "metadata": {},
     "output_type": "display_data"
    },
    {
     "name": "stdout",
     "output_type": "stream",
     "text": [
      "Original Scientific Name: Leptosiphon croceus\n",
      "NatureServe Scientific Name: Linanthus croceus\n"
     ]
    },
    {
     "data": {
      "text/plain": [
       "{'class': 'Dicotyledoneae',\n",
       " 'family': 'Polemoniaceae',\n",
       " 'genus': 'Linanthus',\n",
       " 'kingdom': 'Plantae',\n",
       " 'order': 'Solanales',\n",
       " 'phylum': 'Anthophyta',\n",
       " 'taxonomicComments': 'Munz (1959) included <i>Linanthus croceus</i> in <i>L. androsaceus</i> ssp. <i>croceus</i>, which Kartesz (1999) includes in <i>L. parviflorus</i>. (Kartesz (1999) does not place the name <i>L. croceus</i>). The morphometric analysis of Battaglia and Patterson (2001) supports acceptance at the species level; they place it in the genus Leptosiphon.'}"
      ]
     },
     "metadata": {},
     "output_type": "display_data"
    },
    {
     "name": "stdout",
     "output_type": "stream",
     "text": [
      "Original Scientific Name: Limnanthes douglasii ssp. ornduffii\n",
      "NatureServe Scientific Name: Limnanthes douglasii ssp. ornduffii\n"
     ]
    },
    {
     "data": {
      "text/plain": [
       "{'class': 'Dicotyledoneae',\n",
       " 'family': 'Limnanthaceae',\n",
       " 'genus': 'Limnanthes',\n",
       " 'kingdom': 'Plantae',\n",
       " 'order': 'Geraniales',\n",
       " 'phylum': 'Anthophyta',\n",
       " 'taxonomicComments': 'FNA (vol. 7, 2010) does not recognize this subspecies.'}"
      ]
     },
     "metadata": {},
     "output_type": "display_data"
    },
    {
     "name": "stdout",
     "output_type": "stream",
     "text": [
      "Original Scientific Name: Monardella australis ssp. jokerstii\n",
      "NatureServe Scientific Name: Monardella australis ssp. jokerstii\n"
     ]
    },
    {
     "data": {
      "text/plain": [
       "{'class': 'Dicotyledoneae',\n",
       " 'family': 'Lamiaceae',\n",
       " 'genus': 'Monardella',\n",
       " 'kingdom': 'Plantae',\n",
       " 'order': 'Lamiales',\n",
       " 'phylum': 'Anthophyta'}"
      ]
     },
     "metadata": {},
     "output_type": "display_data"
    },
    {
     "name": "stdout",
     "output_type": "stream",
     "text": [
      "Original Scientific Name: Monardella undulata ssp. arguelloensis\n",
      "NatureServe Scientific Name: Monardella undulata ssp. arguelloensis\n"
     ]
    },
    {
     "data": {
      "text/plain": [
       "{'class': 'Dicotyledoneae',\n",
       " 'family': 'Lamiaceae',\n",
       " 'genus': 'Monardella',\n",
       " 'kingdom': 'Plantae',\n",
       " 'order': 'Lamiales',\n",
       " 'phylum': 'Anthophyta'}"
      ]
     },
     "metadata": {},
     "output_type": "display_data"
    },
    {
     "name": "stdout",
     "output_type": "stream",
     "text": [
      "Original Scientific Name: Monardella venosa\n",
      "NatureServe Scientific Name: Monardella douglasii ssp. venosa\n"
     ]
    },
    {
     "data": {
      "text/plain": [
       "{'class': 'Dicotyledoneae',\n",
       " 'family': 'Lamiaceae',\n",
       " 'genus': 'Monardella',\n",
       " 'kingdom': 'Plantae',\n",
       " 'order': 'Lamiales',\n",
       " 'phylum': 'Anthophyta',\n",
       " 'taxonomicComments': 'Elevated to species by Sanders & Elvin.'}"
      ]
     },
     "metadata": {},
     "output_type": "display_data"
    },
    {
     "name": "stdout",
     "output_type": "stream",
     "text": [
      "Original Scientific Name: Panicum acuminatum var. thermale\n",
      "NatureServe Scientific Name: Dichanthelium acuminatum ssp. thermale\n"
     ]
    },
    {
     "data": {
      "text/plain": [
       "{'class': 'Monocotyledoneae',\n",
       " 'family': 'Poaceae',\n",
       " 'genus': 'Dichanthelium',\n",
       " 'kingdom': 'Plantae',\n",
       " 'order': 'Cyperales',\n",
       " 'phylum': 'Anthophyta',\n",
       " 'taxonomicComments': 'This record is for Dichanthelium acuminatum ssp. thermale in a strict sense, following FNA (vol. 25, 2003), occurring only in California. California Natural Diversity Database tracks it in this sense, using the name Panicum acuminatum var. thermale, following the Jepson Manual (Baldwin et al. 2012). Kartesz (1999) recognizes a broader sense which occurs in several western U.S. states and two Canadian provinces.'}"
      ]
     },
     "metadata": {},
     "output_type": "display_data"
    },
    {
     "name": "stdout",
     "output_type": "stream",
     "text": [
      "Original Scientific Name: Pentachaeta aurea ssp. allenii\n",
      "NatureServe Scientific Name: Pentachaeta aurea ssp. allenii\n"
     ]
    },
    {
     "data": {
      "text/plain": [
       "{'class': 'Dicotyledoneae',\n",
       " 'family': 'Asteraceae',\n",
       " 'genus': 'Pentachaeta',\n",
       " 'kingdom': 'Plantae',\n",
       " 'order': 'Asterales',\n",
       " 'phylum': 'Anthophyta',\n",
       " 'taxonomicComments': 'Newly described in 2007. Distinguished from typical <i>P. aurea</i> by lamina tips of ray corollas turning from pale yellow to brilliant white after 1-2 hours in sunshine; in contrast, laminae of ssp. <i>aurea</i> are solid yellow (Keil 2007).'}"
      ]
     },
     "metadata": {},
     "output_type": "display_data"
    },
    {
     "name": "stdout",
     "output_type": "stream",
     "text": [
      "Original Scientific Name: Sulcaria isidiifera\n",
      "NatureServe Scientific Name: Sulcaria isidiifera\n"
     ]
    },
    {
     "data": {
      "text/plain": [
       "{'class': 'Ascomycetes',\n",
       " 'family': 'Alectoriaceae',\n",
       " 'genus': 'Sulcaria',\n",
       " 'kingdom': 'Fungi',\n",
       " 'order': 'Lecanorales',\n",
       " 'phylum': 'Ascomycota',\n",
       " 'taxonomicComments': 'Distinct, new but stable species. Habitat and species description by I.M. Brodo, 1986. Mycotaxon Vol. XXVII. pp. 113-117.'}"
      ]
     },
     "metadata": {},
     "output_type": "display_data"
    },
    {
     "name": "stdout",
     "output_type": "stream",
     "text": [
      "Original Scientific Name: Cladonia cervicornis ssp. verticillata\n",
      "NatureServe Scientific Name: Cladonia cervicornis ssp. verticillata\n"
     ]
    },
    {
     "data": {
      "text/plain": [
       "{'class': 'Ascomycetes',\n",
       " 'family': 'Cladoniaceae',\n",
       " 'genus': 'Cladonia',\n",
       " 'kingdom': 'Fungi',\n",
       " 'order': 'Lecanorales',\n",
       " 'phylum': 'Ascomycota',\n",
       " 'taxonomicComments': 'Esslinger (2014) elevates <i>Cladonia verticillata</i> ssp. <i>verticillata </i>(= <i>C. verticillata</i>) to full species.'}"
      ]
     },
     "metadata": {},
     "output_type": "display_data"
    },
    {
     "name": "stdout",
     "output_type": "stream",
     "text": [
      "Original Scientific Name: Coenogonium missouriense\n",
      "NatureServe Scientific Name: Coenogonium missouriense\n"
     ]
    },
    {
     "data": {
      "text/plain": [
       "{'class': 'Ascomycetes',\n",
       " 'family': 'Gyalectaceae',\n",
       " 'genus': 'Coenogonium',\n",
       " 'kingdom': 'Fungi',\n",
       " 'order': 'Gyalectales',\n",
       " 'phylum': 'Ascomycota'}"
      ]
     },
     "metadata": {},
     "output_type": "display_data"
    },
    {
     "name": "stdout",
     "output_type": "stream",
     "text": [
      "Original Scientific Name: Dermatocarpon moulinsii\n",
      "NatureServe Scientific Name: Dermatocarpon moulinsii\n"
     ]
    },
    {
     "data": {
      "text/plain": [
       "{'class': 'Ascomycetes',\n",
       " 'family': 'Verrucariaceae',\n",
       " 'genus': 'Dermatocarpon',\n",
       " 'kingdom': 'Fungi',\n",
       " 'order': 'Verrucariales',\n",
       " 'phylum': 'Ascomycota'}"
      ]
     },
     "metadata": {},
     "output_type": "display_data"
    },
    {
     "name": "stdout",
     "output_type": "stream",
     "text": [
      "Original Scientific Name: Dibaeis absoluta\n",
      "NatureServe Scientific Name: Dibaeis absoluta\n"
     ]
    },
    {
     "data": {
      "text/plain": [
       "{'class': 'Incertae sedis (Phylum: Ascomycota)',\n",
       " 'family': 'Baeomycetaceae',\n",
       " 'genus': 'Dibaeis',\n",
       " 'kingdom': 'Fungi',\n",
       " 'order': 'Leotiales',\n",
       " 'phylum': 'Ascomycota',\n",
       " 'taxonomicComments': 'Treated as Baeomyces absolutus by Egan (1987). On sand, wet rocks, and soil, North Carolina, Florida, and Alabama (Fink, 1935).'}"
      ]
     },
     "metadata": {},
     "output_type": "display_data"
    },
    {
     "name": "stdout",
     "output_type": "stream",
     "text": [
      "Original Scientific Name: Erianthus giganteus\n",
      "NatureServe Scientific Name: Saccharum giganteum\n"
     ]
    },
    {
     "data": {
      "text/plain": [
       "{'class': 'Monocotyledoneae',\n",
       " 'family': 'Poaceae',\n",
       " 'genus': 'Saccharum',\n",
       " 'kingdom': 'Plantae',\n",
       " 'order': 'Cyperales',\n",
       " 'phylum': 'Anthophyta'}"
      ]
     },
     "metadata": {},
     "output_type": "display_data"
    },
    {
     "name": "stdout",
     "output_type": "stream",
     "text": [
      "Original Scientific Name: Flavoparmelia rutidota\n",
      "NatureServe Scientific Name: Flavoparmelia rutidota\n"
     ]
    },
    {
     "data": {
      "text/plain": [
       "{'class': 'Ascomycetes',\n",
       " 'family': 'Parmeliaceae',\n",
       " 'genus': 'Flavoparmelia',\n",
       " 'kingdom': 'Fungi',\n",
       " 'order': 'Lecanorales',\n",
       " 'phylum': 'Ascomycota'}"
      ]
     },
     "metadata": {},
     "output_type": "display_data"
    },
    {
     "name": "stdout",
     "output_type": "stream",
     "text": [
      "Original Scientific Name: Graphina sophisticascens\n",
      "NatureServe Scientific Name: Graphina sophisticascens\n"
     ]
    },
    {
     "data": {
      "text/plain": [
       "{'class': 'Ascomycetes',\n",
       " 'family': 'Graphidaceae',\n",
       " 'genus': 'Graphina',\n",
       " 'kingdom': 'Fungi',\n",
       " 'order': 'Graphidales',\n",
       " 'phylum': 'Ascomycota'}"
      ]
     },
     "metadata": {},
     "output_type": "display_data"
    },
    {
     "name": "stdout",
     "output_type": "stream",
     "text": [
      "Original Scientific Name: Hesperus stehri\n",
      "NatureServe Scientific Name: Hesperus stehri\n"
     ]
    },
    {
     "data": {
      "text/plain": [
       "{'class': 'Insecta',\n",
       " 'family': 'Staphylinidae',\n",
       " 'genus': 'Hesperus',\n",
       " 'kingdom': 'Animalia',\n",
       " 'order': 'Coleoptera',\n",
       " 'phylum': 'Mandibulata'}"
      ]
     },
     "metadata": {},
     "output_type": "display_data"
    },
    {
     "name": "stdout",
     "output_type": "stream",
     "text": [
      "Original Scientific Name: Heterodon gloydi\n",
      "NatureServe Scientific Name: Heterodon gloydi\n"
     ]
    },
    {
     "data": {
      "text/plain": [
       "{'class': 'Reptilia',\n",
       " 'family': 'Colubridae',\n",
       " 'genus': 'Heterodon',\n",
       " 'genusSize': {'code': 'B',\n",
       "  'description': 'B - Very small genus (2-5 species)'},\n",
       " 'kingdom': 'Animalia',\n",
       " 'order': 'Squamata',\n",
       " 'phylum': 'Craniata',\n",
       " 'taxonomicComments': 'Crother et al. (2000) stated that \"the nominal races of <i>H. nasicus</i> undoubtedly represent arbitrarily delimited sections of continuous variation,\" yet Crother et al. (2003) listed <i>Heterodon gloydi</i> as a distinct species, citing comments in Werler and Dixon (2000). However, Werler and Dixon treated <i>gloydi</i> as a subspecies of <i>H. nasicus</i>. Smith et al. (2003) noted that the range depicted for <i>gloydi </i>in Werler and Dixon (2000) differs from previous concepts (e.g., Dixon 2000) and that within that range (eastern Texas) <i>gloydi </i>should be re-evaluated and may be a valid taxon. Crother et al. (in Crother 2012) accepted <i>H. gloydi</i> as a species confined to eastern Texas, as conceptualized by Werler and Dixon (2000).'}"
      ]
     },
     "metadata": {},
     "output_type": "display_data"
    },
    {
     "name": "stdout",
     "output_type": "stream",
     "text": [
      "Original Scientific Name: Lecidea lurida\n",
      "NatureServe Scientific Name: Lecidea lurida\n"
     ]
    },
    {
     "data": {
      "text/plain": [
       "{'class': 'Ascomycetes',\n",
       " 'family': 'Lecideaceae',\n",
       " 'genus': 'Lecidea',\n",
       " 'kingdom': 'Fungi',\n",
       " 'order': 'Lecanorales',\n",
       " 'phylum': 'Ascomycota'}"
      ]
     },
     "metadata": {},
     "output_type": "display_data"
    },
    {
     "name": "stdout",
     "output_type": "stream",
     "text": [
      "Original Scientific Name: Melanoplus viridipes viridipes\n",
      "NatureServe Scientific Name: Melanoplus viridipes\n"
     ]
    },
    {
     "data": {
      "text/plain": [
       "{'class': 'Insecta',\n",
       " 'family': 'Acrididae',\n",
       " 'genus': 'Melanoplus',\n",
       " 'genusSize': {'code': 'D',\n",
       "  'description': 'D - Medium to large genus (21+ species)'},\n",
       " 'kingdom': 'Animalia',\n",
       " 'order': 'Orthoptera',\n",
       " 'phylum': 'Mandibulata',\n",
       " 'taxonomicComments': 'Both subspecies of <i>Melanoplus viridipes</i> (<i>viridipes </i>and <i>eurycerus</i>) were elevated to species status (Otte, 2002).'}"
      ]
     },
     "metadata": {},
     "output_type": "display_data"
    },
    {
     "name": "stdout",
     "output_type": "stream",
     "text": [
      "Original Scientific Name: Neckera besseri\n",
      "NatureServe Scientific Name: Neckera besseri\n"
     ]
    },
    {
     "data": {
      "text/plain": [
       "{'class': 'Bryopsida',\n",
       " 'family': 'Neckeraceae',\n",
       " 'genus': 'Neckera',\n",
       " 'kingdom': 'Plantae',\n",
       " 'order': 'Leucodontales',\n",
       " 'phylum': 'Bryophyta',\n",
       " 'taxonomicComments': 'He (1992) believes <i>Neckera besseri</i> to be present in a number of localities in North America. He believes that \"<i>Homalia gracilis</i>\" material can be included in <i>Neckera besseri</i>, stating that, \"although North American <i>Homalia gracilis</i> is more frequently in flagelliform plants and its sporophyte has never been found, all other gametophytic features suggest that it is identical to <i>Neckera besseri</i>, and is distinctly different from <i>Homalia trichomanoides</i>. Based on my examination, North American <i>Homalia gracilis</i> can be separated from <i>H. trichomanoides</i> by the gametophytic features and their habitats...\"  Although Anderson et al. (1990) do not address the name <i>Neckera besseri</i> explicitly, they lump <i>Homalia gracilis</i> (i.e. North American <i>Neckera besseri</i>) into <i>Homalia trichomanoides</i>, clearly taking a different view than He (1992).  He goes on to note that \"<i>Neckera besseri</i> is a well-known European species common in the mountains in Central Europe,\" and that \"I have seen specimens [of <i>Neckera besseri</i>] from Arkansas, Kentucky, Missouri, New Jersey, New York, Vermont, and Virginia.\"'}"
      ]
     },
     "metadata": {},
     "output_type": "display_data"
    },
    {
     "name": "stdout",
     "output_type": "stream",
     "text": [
      "Original Scientific Name: Oecleus chrisjohni\n",
      "NatureServe Scientific Name: Oecleus chrisjohni\n"
     ]
    },
    {
     "data": {
      "text/plain": [
       "{'class': 'Insecta',\n",
       " 'family': 'Cixiidae',\n",
       " 'genus': 'Oecleus',\n",
       " 'kingdom': 'Animalia',\n",
       " 'order': 'Homoptera',\n",
       " 'phylum': 'Mandibulata'}"
      ]
     },
     "metadata": {},
     "output_type": "display_data"
    },
    {
     "name": "stdout",
     "output_type": "stream",
     "text": [
      "Original Scientific Name: Oxybleptes kiteleyi\n",
      "NatureServe Scientific Name: Oxybleptes kiteleyi\n"
     ]
    },
    {
     "data": {
      "text/plain": [
       "{'class': 'Insecta',\n",
       " 'family': 'Staphylinidae',\n",
       " 'genus': 'Oxybleptes',\n",
       " 'kingdom': 'Animalia',\n",
       " 'order': 'Coleoptera',\n",
       " 'phylum': 'Mandibulata'}"
      ]
     },
     "metadata": {},
     "output_type": "display_data"
    },
    {
     "name": "stdout",
     "output_type": "stream",
     "text": [
      "Original Scientific Name: Oxymitra incrassata\n",
      "NatureServe Scientific Name: Oxymitra incrassata\n"
     ]
    },
    {
     "data": {
      "text/plain": [
       "{'class': 'Marchantiopsida',\n",
       " 'family': 'Oxymitraceae',\n",
       " 'genus': 'Oxymitra',\n",
       " 'kingdom': 'Plantae',\n",
       " 'order': 'Marchantiales',\n",
       " 'phylum': 'Hepatophyta'}"
      ]
     },
     "metadata": {},
     "output_type": "display_data"
    },
    {
     "name": "stdout",
     "output_type": "stream",
     "text": [
      "Original Scientific Name: Panicum hians\n",
      "NatureServe Scientific Name: Steinchisma hians\n"
     ]
    },
    {
     "data": {
      "text/plain": [
       "{'class': 'Monocotyledoneae',\n",
       " 'family': 'Poaceae',\n",
       " 'genus': 'Steinchisma',\n",
       " 'kingdom': 'Plantae',\n",
       " 'order': 'Cyperales',\n",
       " 'phylum': 'Anthophyta'}"
      ]
     },
     "metadata": {},
     "output_type": "display_data"
    },
    {
     "name": "stdout",
     "output_type": "stream",
     "text": [
      "Original Scientific Name: Panicum leibergii\n",
      "NatureServe Scientific Name: Dichanthelium leibergii\n"
     ]
    },
    {
     "data": {
      "text/plain": [
       "{'class': 'Monocotyledoneae',\n",
       " 'family': 'Poaceae',\n",
       " 'genus': 'Dichanthelium',\n",
       " 'kingdom': 'Plantae',\n",
       " 'order': 'Cyperales',\n",
       " 'phylum': 'Anthophyta'}"
      ]
     },
     "metadata": {},
     "output_type": "display_data"
    },
    {
     "name": "stdout",
     "output_type": "stream",
     "text": [
      "Original Scientific Name: Parmelina horrescens\n",
      "NatureServe Scientific Name: Parmelinopsis horrescens\n"
     ]
    },
    {
     "data": {
      "text/plain": [
       "{'class': 'Ascomycetes',\n",
       " 'family': 'Parmeliaceae',\n",
       " 'genus': 'Parmelinopsis',\n",
       " 'kingdom': 'Fungi',\n",
       " 'order': 'Lecanorales',\n",
       " 'phylum': 'Ascomycota'}"
      ]
     },
     "metadata": {},
     "output_type": "display_data"
    },
    {
     "name": "stdout",
     "output_type": "stream",
     "text": [
      "Original Scientific Name: Parmotrema hypoleucinum\n",
      "NatureServe Scientific Name: Parmotrema hypoleucinum\n"
     ]
    },
    {
     "data": {
      "text/plain": [
       "{'class': 'Ascomycetes',\n",
       " 'family': 'Parmeliaceae',\n",
       " 'genus': 'Parmotrema',\n",
       " 'kingdom': 'Fungi',\n",
       " 'order': 'Lecanorales',\n",
       " 'phylum': 'Ascomycota'}"
      ]
     },
     "metadata": {},
     "output_type": "display_data"
    },
    {
     "name": "stdout",
     "output_type": "stream",
     "text": [
      "Original Scientific Name: Parmotrema madagascariaceum\n",
      "NatureServe Scientific Name: Parmotrema madagascariaceum\n"
     ]
    },
    {
     "data": {
      "text/plain": [
       "{'class': 'Ascomycetes',\n",
       " 'family': 'Parmeliaceae',\n",
       " 'genus': 'Parmotrema',\n",
       " 'kingdom': 'Fungi',\n",
       " 'order': 'Lecanorales',\n",
       " 'phylum': 'Ascomycota'}"
      ]
     },
     "metadata": {},
     "output_type": "display_data"
    },
    {
     "name": "stdout",
     "output_type": "stream",
     "text": [
      "Original Scientific Name: Parmotrema tinctorum\n",
      "NatureServe Scientific Name: Parmotrema tinctorum\n"
     ]
    },
    {
     "data": {
      "text/plain": [
       "{'class': 'Ascomycetes',\n",
       " 'family': 'Parmeliaceae',\n",
       " 'genus': 'Parmotrema',\n",
       " 'kingdom': 'Fungi',\n",
       " 'order': 'Lecanorales',\n",
       " 'phylum': 'Ascomycota'}"
      ]
     },
     "metadata": {},
     "output_type": "display_data"
    },
    {
     "name": "stdout",
     "output_type": "stream",
     "text": [
      "Original Scientific Name: Plestiodon septentrionalis obtusirostris\n",
      "NatureServe Scientific Name: Plestiodon septentrionalis obtusirostris\n"
     ]
    },
    {
     "data": {
      "text/plain": [
       "{'class': 'Reptilia',\n",
       " 'family': 'Scincidae',\n",
       " 'genus': 'Plestiodon',\n",
       " 'genusSize': {'code': 'C', 'description': 'C - Small genus (6-20 species)'},\n",
       " 'kingdom': 'Animalia',\n",
       " 'order': 'Squamata',\n",
       " 'phylum': 'Craniata',\n",
       " 'taxonomicComments': 'MtDNA data suggest that colonization of <i>E. septentrionalis</i> into previously glaciated areas was from a single source with restricted gene flow (Fuerst and Austin 2004). Parsimony and maximum likelihood phylogenetic analyses showed reciprocal monophyly between the allopatric northern (<i>E. s. septentrionalis</i>) and southern (<i>E. s. obtusirostris</i>) subspecies (Fuerst and Austin 2004). These results, combined with the morphological differences found in previous studies (Taylor 1935), suggest that these allopatric populations are on separate evolutionary trajectories (Fuerst and Austin 2004). Further sampling of southern populations is needed to elucidate the taxonomic status of the various populations. Collins and Taggart (2009) recognized <i>Plestiodon obtusirostris</i> as a distinct species (with two subspecies, <i>obtusirostris </i>and <i>pallidus</i>), whereas Crother (2008) maintained these taxa in <i>P. septentrionalis</i>, pending further analyses.'}"
      ]
     },
     "metadata": {},
     "output_type": "display_data"
    },
    {
     "name": "stdout",
     "output_type": "stream",
     "text": [
      "Original Scientific Name: Plestiodon septentrionalis septentrionalis\n",
      "NatureServe Scientific Name: Plestiodon septentrionalis septentrionalis\n"
     ]
    },
    {
     "data": {
      "text/plain": [
       "{'class': 'Reptilia',\n",
       " 'family': 'Scincidae',\n",
       " 'genus': 'Plestiodon',\n",
       " 'genusSize': {'code': 'C', 'description': 'C - Small genus (6-20 species)'},\n",
       " 'kingdom': 'Animalia',\n",
       " 'order': 'Squamata',\n",
       " 'phylum': 'Craniata'}"
      ]
     },
     "metadata": {},
     "output_type": "display_data"
    },
    {
     "name": "stdout",
     "output_type": "stream",
     "text": [
      "Original Scientific Name: Potamogeton pusillus var. pusillus\n",
      "NatureServe Scientific Name: Potamogeton pusillus ssp. pusillus\n"
     ]
    },
    {
     "data": {
      "text/plain": [
       "{'class': 'Monocotyledoneae',\n",
       " 'family': 'Potamogetonaceae',\n",
       " 'genus': 'Potamogeton',\n",
       " 'kingdom': 'Plantae',\n",
       " 'order': 'Najadales',\n",
       " 'phylum': 'Anthophyta'}"
      ]
     },
     "metadata": {},
     "output_type": "display_data"
    },
    {
     "name": "stdout",
     "output_type": "stream",
     "text": [
      "Original Scientific Name: Psora icterica\n",
      "NatureServe Scientific Name: Psora icterica\n"
     ]
    },
    {
     "data": {
      "text/plain": [
       "{'class': 'Ascomycetes',\n",
       " 'family': 'Psoraceae',\n",
       " 'genus': 'Psora',\n",
       " 'kingdom': 'Fungi',\n",
       " 'order': 'Lecanorales',\n",
       " 'phylum': 'Ascomycota'}"
      ]
     },
     "metadata": {},
     "output_type": "display_data"
    },
    {
     "name": "stdout",
     "output_type": "stream",
     "text": [
      "Original Scientific Name: Pycnothelia papillaria\n",
      "NatureServe Scientific Name: Pycnothelia papillaria\n"
     ]
    },
    {
     "data": {
      "text/plain": [
       "{'class': 'Ascomycetes',\n",
       " 'family': 'Cladoniaceae',\n",
       " 'genus': 'Pycnothelia',\n",
       " 'kingdom': 'Fungi',\n",
       " 'order': 'Lecanorales',\n",
       " 'phylum': 'Ascomycota'}"
      ]
     },
     "metadata": {},
     "output_type": "display_data"
    },
    {
     "name": "stdout",
     "output_type": "stream",
     "text": [
      "Original Scientific Name: Rimelia subisidiosa\n",
      "NatureServe Scientific Name: Rimelia subisidiosa\n"
     ]
    },
    {
     "data": {
      "text/plain": [
       "{'class': 'Ascomycetes',\n",
       " 'family': 'Parmeliaceae',\n",
       " 'genus': 'Rimelia',\n",
       " 'kingdom': 'Fungi',\n",
       " 'order': 'Lecanorales',\n",
       " 'phylum': 'Ascomycota'}"
      ]
     },
     "metadata": {},
     "output_type": "display_data"
    },
    {
     "name": "stdout",
     "output_type": "stream",
     "text": [
      "Original Scientific Name: Satyrodes appalachia leeuwi\n",
      "NatureServe Scientific Name: Lethe appalachia leeuwi\n"
     ]
    },
    {
     "data": {
      "text/plain": [
       "{'class': 'Insecta',\n",
       " 'family': 'Nymphalidae',\n",
       " 'genus': 'Lethe',\n",
       " 'genusSize': {'code': 'B',\n",
       "  'description': 'B - Very small genus (2-5 species)'},\n",
       " 'kingdom': 'Animalia',\n",
       " 'order': 'Lepidoptera',\n",
       " 'phylum': 'Mandibulata'}"
      ]
     },
     "metadata": {},
     "output_type": "display_data"
    },
    {
     "name": "stdout",
     "output_type": "stream",
     "text": [
      "Original Scientific Name: Schistidium liliputanum\n",
      "NatureServe Scientific Name: Schistidium liliputanum\n"
     ]
    },
    {
     "data": {
      "text/plain": [
       "{'class': 'Bryopsida',\n",
       " 'family': 'Grimmiaceae',\n",
       " 'genus': 'Schistidium',\n",
       " 'kingdom': 'Plantae',\n",
       " 'order': 'Grimmiales',\n",
       " 'phylum': 'Bryophyta',\n",
       " 'taxonomicComments': '<i>Schistidium liliputanum</i> is accepted by the Bryophyte Flora of North America (2007).'}"
      ]
     },
     "metadata": {},
     "output_type": "display_data"
    },
    {
     "name": "stdout",
     "output_type": "stream",
     "text": [
      "Original Scientific Name: Sepedophilus campbelli\n",
      "NatureServe Scientific Name: Sepedophilus campbelli\n"
     ]
    },
    {
     "data": {
      "text/plain": [
       "{'class': 'Insecta',\n",
       " 'family': 'Staphylinidae',\n",
       " 'genus': 'Sepedophilus',\n",
       " 'kingdom': 'Animalia',\n",
       " 'order': 'Coleoptera',\n",
       " 'phylum': 'Mandibulata'}"
      ]
     },
     "metadata": {},
     "output_type": "display_data"
    },
    {
     "name": "stdout",
     "output_type": "stream",
     "text": [
      "Original Scientific Name: Syntrichia papillosa\n",
      "NatureServe Scientific Name: Syntrichia papillosa\n"
     ]
    },
    {
     "data": {
      "text/plain": [
       "{'class': 'Bryopsida',\n",
       " 'family': 'Pottiaceae',\n",
       " 'genus': 'Syntrichia',\n",
       " 'kingdom': 'Plantae',\n",
       " 'order': 'Pottiales',\n",
       " 'phylum': 'Bryophyta'}"
      ]
     },
     "metadata": {},
     "output_type": "display_data"
    },
    {
     "name": "stdout",
     "output_type": "stream",
     "text": [
      "Original Scientific Name: Trichostomum tenuirostre var. gemmiparum\n",
      "NatureServe Scientific Name: Trichostomum tenuirostre var. gemmiparum\n"
     ]
    },
    {
     "data": {
      "text/plain": [
       "{'class': 'Bryopsida',\n",
       " 'family': 'Pottiaceae',\n",
       " 'genus': 'Trichostomum',\n",
       " 'kingdom': 'Plantae',\n",
       " 'order': 'Pottiales',\n",
       " 'phylum': 'Bryophyta',\n",
       " 'taxonomicComments': 'Zander (1993a) published the combination, <i>Trichostomum tenuirostre</i> var.<i> gemmiparum</i>, which FNA (2007b) authors also recognizes in their treatment of <i>Trichostomum tenuirostre</i> (=<i>Oxystegus tenuirostris</i> in Anderson et al. (1990)). Anderson et al. (1990) do not recognize infraspecific taxa.'}"
      ]
     },
     "metadata": {},
     "output_type": "display_data"
    },
    {
     "name": "stdout",
     "output_type": "stream",
     "text": [
      "Original Scientific Name: Xanthoparmelia australasica\n",
      "NatureServe Scientific Name: Xanthoparmelia australasica\n"
     ]
    },
    {
     "data": {
      "text/plain": [
       "{'class': 'Ascomycetes',\n",
       " 'family': 'Parmeliaceae',\n",
       " 'genus': 'Xanthoparmelia',\n",
       " 'kingdom': 'Fungi',\n",
       " 'order': 'Lecanorales',\n",
       " 'phylum': 'Ascomycota',\n",
       " 'taxonomicComments': 'See Hale, 1990. A synopsis of the lichen genus Xanthoparmelia (Vainio) Hale (Ascomycotina, Parmeliaceae). Smiths. Contr. Bot. 74.'}"
      ]
     },
     "metadata": {},
     "output_type": "display_data"
    },
    {
     "name": "stdout",
     "output_type": "stream",
     "text": [
      "Original Scientific Name: Xylodromus capito\n",
      "NatureServe Scientific Name: Xylodromus capito\n"
     ]
    },
    {
     "data": {
      "text/plain": [
       "{'class': 'Insecta',\n",
       " 'family': 'Staphylinidae',\n",
       " 'genus': 'Xylodromus',\n",
       " 'kingdom': 'Animalia',\n",
       " 'order': 'Coleoptera',\n",
       " 'phylum': 'Mandibulata'}"
      ]
     },
     "metadata": {},
     "output_type": "display_data"
    },
    {
     "name": "stdout",
     "output_type": "stream",
     "text": [
      "Original Scientific Name: Psiloscops flammeolus\n",
      "NatureServe Scientific Name: Psiloscops flammeolus\n"
     ]
    },
    {
     "data": {
      "text/plain": [
       "{'class': 'Aves',\n",
       " 'family': 'Strigidae',\n",
       " 'genus': 'Psiloscops',\n",
       " 'kingdom': 'Animalia',\n",
       " 'order': 'Strigiformes',\n",
       " 'phylum': 'Craniata',\n",
       " 'taxonomicComments': 'Formerly merged with <i>Otus </i>(e.g. AOU 1983, 1998) but now treated as a separate genus on the basis of genetic data, which show it to be sister to <i>Megascops </i>(Proudfoot et al. 2007, Wink et al. 2009) (AOU 2013). Genetic, vocal and morphological differences between this species and screech-owls of the genus <i>Megascops </i>indicate that it is best placed in a separate genus (Wink et al. 2009) (AOU 2013).'}"
      ]
     },
     "metadata": {},
     "output_type": "display_data"
    },
    {
     "name": "stdout",
     "output_type": "stream",
     "text": [
      "Original Scientific Name: Pyrgulopsis plicata\n",
      "NatureServe Scientific Name: Pyrgulopsis plicata\n"
     ]
    },
    {
     "data": {
      "text/plain": [
       "{'class': 'Gastropoda',\n",
       " 'family': 'Hydrobiidae',\n",
       " 'genus': 'Pyrgulopsis',\n",
       " 'genusSize': {'code': 'D',\n",
       "  'description': 'D - Medium to large genus (21+ species)'},\n",
       " 'kingdom': 'Animalia',\n",
       " 'order': 'Neotaenioglossa',\n",
       " 'phylum': 'Mollusca'}"
      ]
     },
     "metadata": {},
     "output_type": "display_data"
    },
    {
     "name": "stdout",
     "output_type": "stream",
     "text": [
      "Original Scientific Name: Pyrgulopsis inopinata\n",
      "NatureServe Scientific Name: Pyrgulopsis inopinata\n"
     ]
    },
    {
     "data": {
      "text/plain": [
       "{'class': 'Gastropoda',\n",
       " 'family': 'Hydrobiidae',\n",
       " 'genus': 'Pyrgulopsis',\n",
       " 'genusSize': {'code': 'D',\n",
       "  'description': 'D - Medium to large genus (21+ species)'},\n",
       " 'kingdom': 'Animalia',\n",
       " 'order': 'Neotaenioglossa',\n",
       " 'phylum': 'Mollusca'}"
      ]
     },
     "metadata": {},
     "output_type": "display_data"
    },
    {
     "name": "stdout",
     "output_type": "stream",
     "text": [
      "Original Scientific Name: Pyrgulopsis hamlinensis\n",
      "NatureServe Scientific Name: Pyrgulopsis hamlinensis\n"
     ]
    },
    {
     "data": {
      "text/plain": [
       "{'class': 'Gastropoda',\n",
       " 'family': 'Hydrobiidae',\n",
       " 'genus': 'Pyrgulopsis',\n",
       " 'genusSize': {'code': 'D',\n",
       "  'description': 'D - Medium to large genus (21+ species)'},\n",
       " 'kingdom': 'Animalia',\n",
       " 'order': 'Neotaenioglossa',\n",
       " 'phylum': 'Mollusca'}"
      ]
     },
     "metadata": {},
     "output_type": "display_data"
    },
    {
     "name": "stdout",
     "output_type": "stream",
     "text": [
      "Original Scientific Name: Pyrgulopsis nonaria\n",
      "NatureServe Scientific Name: Pyrgulopsis nonaria\n"
     ]
    },
    {
     "data": {
      "text/plain": [
       "{'class': 'Gastropoda',\n",
       " 'family': 'Hydrobiidae',\n",
       " 'genus': 'Pyrgulopsis',\n",
       " 'genusSize': {'code': 'D',\n",
       "  'description': 'D - Medium to large genus (21+ species)'},\n",
       " 'kingdom': 'Animalia',\n",
       " 'order': 'Neotaenioglossa',\n",
       " 'phylum': 'Mollusca'}"
      ]
     },
     "metadata": {},
     "output_type": "display_data"
    },
    {
     "name": "stdout",
     "output_type": "stream",
     "text": [
      "Original Scientific Name: Pyrgulopsis fusca\n",
      "NatureServe Scientific Name: Pyrgulopsis fusca\n"
     ]
    },
    {
     "data": {
      "text/plain": [
       "{'class': 'Gastropoda',\n",
       " 'family': 'Hydrobiidae',\n",
       " 'genus': 'Pyrgulopsis',\n",
       " 'genusSize': {'code': 'D',\n",
       "  'description': 'D - Medium to large genus (21+ species)'},\n",
       " 'kingdom': 'Animalia',\n",
       " 'order': 'Neotaenioglossa',\n",
       " 'phylum': 'Mollusca',\n",
       " 'taxonomicComments': 'Formerly thought to be a population of P. KOLOBENSIS.'}"
      ]
     },
     "metadata": {},
     "output_type": "display_data"
    },
    {
     "name": "stdout",
     "output_type": "stream",
     "text": [
      "Original Scientific Name: Pyrgulopsis chamberlini\n",
      "NatureServe Scientific Name: Pyrgulopsis chamberlini\n"
     ]
    },
    {
     "data": {
      "text/plain": [
       "{'class': 'Gastropoda',\n",
       " 'family': 'Hydrobiidae',\n",
       " 'genus': 'Pyrgulopsis',\n",
       " 'genusSize': {'code': 'D',\n",
       "  'description': 'D - Medium to large genus (21+ species)'},\n",
       " 'kingdom': 'Animalia',\n",
       " 'order': 'Neotaenioglossa',\n",
       " 'phylum': 'Mollusca'}"
      ]
     },
     "metadata": {},
     "output_type": "display_data"
    },
    {
     "name": "stdout",
     "output_type": "stream",
     "text": [
      "Original Scientific Name: Pyrgulopsis transversa\n",
      "NatureServe Scientific Name: Pyrgulopsis transversa\n"
     ]
    },
    {
     "data": {
      "text/plain": [
       "{'class': 'Gastropoda',\n",
       " 'family': 'Hydrobiidae',\n",
       " 'genus': 'Pyrgulopsis',\n",
       " 'genusSize': {'code': 'D',\n",
       "  'description': 'D - Medium to large genus (21+ species)'},\n",
       " 'kingdom': 'Animalia',\n",
       " 'order': 'Neotaenioglossa',\n",
       " 'phylum': 'Mollusca'}"
      ]
     },
     "metadata": {},
     "output_type": "display_data"
    },
    {
     "name": "stdout",
     "output_type": "stream",
     "text": [
      "Original Scientific Name: Pyrgulopsis saxatilis\n",
      "NatureServe Scientific Name: Pyrgulopsis saxatilis\n"
     ]
    },
    {
     "data": {
      "text/plain": [
       "{'class': 'Gastropoda',\n",
       " 'family': 'Hydrobiidae',\n",
       " 'genus': 'Pyrgulopsis',\n",
       " 'genusSize': {'code': 'D',\n",
       "  'description': 'D - Medium to large genus (21+ species)'},\n",
       " 'kingdom': 'Animalia',\n",
       " 'order': 'Neotaenioglossa',\n",
       " 'phylum': 'Mollusca'}"
      ]
     },
     "metadata": {},
     "output_type": "display_data"
    },
    {
     "name": "stdout",
     "output_type": "stream",
     "text": [
      "Original Scientific Name: Elimia melanoides\n",
      "NatureServe Scientific Name: Elimia melanoides\n"
     ]
    },
    {
     "data": {
      "text/plain": [
       "{'class': 'Gastropoda',\n",
       " 'family': 'Pleuroceridae',\n",
       " 'genus': 'Elimia',\n",
       " 'kingdom': 'Animalia',\n",
       " 'order': 'Neotaenioglossa',\n",
       " 'phylum': 'Mollusca',\n",
       " 'taxonomicComments': 'According to USFWS (2016), there is uncertainly about the status of either the entity that Conrad (1834) first described as <i>A. melanoides</i>, or the entity that Minton et al. (2003) redescribed as<i> E. melanoides</i>. Additional taxonomic review is underway, the results of which will require additional efforts to define Elimia spp. boundaries, status, and distribution within the Black Warrior River Basin. This species was listed as <i>Leptoxis melanoides</i> in Turgeon et al. (1998), but Minton et al. (2003) determined it belongs in the genus <i>Elimia </i> following rediscovery (previously thought to be extinct) of populations on the Black Warrior River drainage in Alabama.'}"
      ]
     },
     "metadata": {},
     "output_type": "display_data"
    },
    {
     "name": "stdout",
     "output_type": "stream",
     "text": [
      "Original Scientific Name: Incisalia polia maritima\n",
      "NatureServe Scientific Name: Callophrys polios maritima\n"
     ]
    },
    {
     "data": {
      "text/plain": [
       "{'class': 'Insecta',\n",
       " 'family': 'Lycaenidae',\n",
       " 'genus': 'Callophrys',\n",
       " 'genusSize': {'code': 'D',\n",
       "  'description': 'D - Medium to large genus (21+ species)'},\n",
       " 'kingdom': 'Animalia',\n",
       " 'order': 'Lepidoptera',\n",
       " 'phylum': 'Mandibulata'}"
      ]
     },
     "metadata": {},
     "output_type": "display_data"
    },
    {
     "name": "stdout",
     "output_type": "stream",
     "text": [
      "Original Scientific Name: Mitoura johnsoni\n",
      "NatureServe Scientific Name: Callophrys johnsoni\n"
     ]
    },
    {
     "data": {
      "text/plain": [
       "{'class': 'Insecta',\n",
       " 'family': 'Lycaenidae',\n",
       " 'genus': 'Callophrys',\n",
       " 'genusSize': {'code': 'D',\n",
       "  'description': 'D - Medium to large genus (21+ species)'},\n",
       " 'kingdom': 'Animalia',\n",
       " 'order': 'Lepidoptera',\n",
       " 'phylum': 'Mandibulata',\n",
       " 'taxonomicComments': 'Previously placed in the genus Mitoura.'}"
      ]
     },
     "metadata": {},
     "output_type": "display_data"
    },
    {
     "name": "stdout",
     "output_type": "stream",
     "text": [
      "Original Scientific Name: Monadenia fidelis beryllica\n",
      "NatureServe Scientific Name: Monadenia fidelis flava\n"
     ]
    },
    {
     "data": {
      "text/plain": [
       "{'class': 'Gastropoda',\n",
       " 'family': 'Bradybaenidae',\n",
       " 'genus': 'Monadenia',\n",
       " 'kingdom': 'Animalia',\n",
       " 'order': 'Stylommatophora',\n",
       " 'phylum': 'Mollusca'}"
      ]
     },
     "metadata": {},
     "output_type": "display_data"
    },
    {
     "name": "stdout",
     "output_type": "stream",
     "text": [
      "Original Scientific Name: Monadenia fidelis celeuthia\n",
      "NatureServe Scientific Name: Monadenia fidelis celeuthia\n"
     ]
    },
    {
     "data": {
      "text/plain": [
       "{'class': 'Gastropoda',\n",
       " 'family': 'Bradybaenidae',\n",
       " 'genus': 'Monadenia',\n",
       " 'kingdom': 'Animalia',\n",
       " 'order': 'Stylommatophora',\n",
       " 'phylum': 'Mollusca'}"
      ]
     },
     "metadata": {},
     "output_type": "display_data"
    },
    {
     "name": "stdout",
     "output_type": "stream",
     "text": [
      "Original Scientific Name: Pristiloma arcticum crateris\n",
      "NatureServe Scientific Name: Pristiloma crateris\n"
     ]
    },
    {
     "data": {
      "text/plain": [
       "{'class': 'Gastropoda',\n",
       " 'family': 'Zonitidae',\n",
       " 'genus': 'Pristiloma',\n",
       " 'genusSize': {'code': 'D',\n",
       "  'description': 'D - Medium to large genus (21+ species)'},\n",
       " 'kingdom': 'Animalia',\n",
       " 'order': 'Stylommatophora',\n",
       " 'phylum': 'Mollusca',\n",
       " 'taxonomicComments': 'Placed as a subspecies of <i>P. arcticum</i> (as originally described by Pilsbry in 1946) and again by Frest and Johannes (1999). Elevated to species status by Burke (2013).'}"
      ]
     },
     "metadata": {},
     "output_type": "display_data"
    },
    {
     "name": "stdout",
     "output_type": "stream",
     "text": [
      "Original Scientific Name: Vespericola depressus\n",
      "NatureServe Scientific Name: Vespericola depressa\n"
     ]
    },
    {
     "data": {
      "text/plain": [
       "{'class': 'Gastropoda',\n",
       " 'family': 'Polygyridae',\n",
       " 'genus': 'Vespericola',\n",
       " 'kingdom': 'Animalia',\n",
       " 'order': 'Stylommatophora',\n",
       " 'phylum': 'Mollusca',\n",
       " 'taxonomicComments': 'Formerly <i>Vespericola columbianus depressa </i>(see Frest and Johannes, 1995). Not listed in Turgeon et al. (1998).'}"
      ]
     },
     "metadata": {},
     "output_type": "display_data"
    },
    {
     "name": "stdout",
     "output_type": "stream",
     "text": [
      "Original Scientific Name: Vorticifex effusus dalli\n",
      "NatureServe Scientific Name: Vorticifex effusa dalli\n"
     ]
    },
    {
     "data": {
      "text/plain": [
       "{'class': 'Gastropoda',\n",
       " 'family': 'Planorbidae',\n",
       " 'genus': 'Vorticifex',\n",
       " 'kingdom': 'Animalia',\n",
       " 'order': 'Basommatophora',\n",
       " 'phylum': 'Mollusca'}"
      ]
     },
     "metadata": {},
     "output_type": "display_data"
    },
    {
     "name": "stdout",
     "output_type": "stream",
     "text": [
      "Original Scientific Name: Vorticifex effusus diagonalis\n",
      "NatureServe Scientific Name: Vorticifex effusa diagonalis\n"
     ]
    },
    {
     "data": {
      "text/plain": [
       "{'class': 'Gastropoda',\n",
       " 'family': 'Planorbidae',\n",
       " 'genus': 'Vorticifex',\n",
       " 'kingdom': 'Animalia',\n",
       " 'order': 'Basommatophora',\n",
       " 'phylum': 'Mollusca'}"
      ]
     },
     "metadata": {},
     "output_type": "display_data"
    },
    {
     "name": "stdout",
     "output_type": "stream",
     "text": [
      "Original Scientific Name: Vorticifex klamathensis klamathensis\n",
      "NatureServe Scientific Name: Vorticifex klamathensis klamathensis\n"
     ]
    },
    {
     "data": {
      "text/plain": [
       "{'class': 'Gastropoda',\n",
       " 'family': 'Planorbidae',\n",
       " 'genus': 'Vorticifex',\n",
       " 'kingdom': 'Animalia',\n",
       " 'order': 'Basommatophora',\n",
       " 'phylum': 'Mollusca',\n",
       " 'taxonomicComments': 'Genetic examination of molecular phylogeny of global Planorboidea at the COI and 18S molecular markers indicates all North American taxa within the subfamily Planorbinae form a well-supported clade, as yet unnamed but termed C-Clade; although the genus <i>Vorticifex </i>was not included in the assessment (Albrecht et al., 2007).  Burch (1989) and Taylor (1966) assert that there is a tremendous amount of variation in the genus <i>Vorticifex</i>. This taxon is not recognized by Turgeon et al. (1998).'}"
      ]
     },
     "metadata": {},
     "output_type": "display_data"
    },
    {
     "name": "stdout",
     "output_type": "stream",
     "text": [
      "Original Scientific Name: Vorticifex klamathensis sinitsini\n",
      "NatureServe Scientific Name: Vorticifex klamathensis sinitsini\n"
     ]
    },
    {
     "data": {
      "text/plain": [
       "{'class': 'Gastropoda',\n",
       " 'family': 'Planorbidae',\n",
       " 'genus': 'Vorticifex',\n",
       " 'kingdom': 'Animalia',\n",
       " 'order': 'Basommatophora',\n",
       " 'phylum': 'Mollusca',\n",
       " 'taxonomicComments': 'Genetic examination of molecular phylogeny of global Planorboidea at the COI and 18S molecular markers indicates all North American taxa within the subfamily Planorbinae form a well-supported clade, as yet unnamed but termed C-Clade; although the genus <i>Vorticifex </i>was not included in the assessment (Albrecht et al., 2007).  Burch (1989) and Taylor (1966) assert that there is a tremendous amount of variation in the genus <i>Vorticifex</i>. This taxon is not recognized by Turgeon et al. (1998).'}"
      ]
     },
     "metadata": {},
     "output_type": "display_data"
    },
    {
     "name": "stdout",
     "output_type": "stream",
     "text": [
      "Original Scientific Name: Aspidoscelis neotesselata\n",
      "NatureServe Scientific Name: Aspidoscelis neotesselata\n"
     ]
    },
    {
     "data": {
      "text/plain": [
       "{'class': 'Reptilia',\n",
       " 'family': 'Teiidae',\n",
       " 'genus': 'Aspidoscelis',\n",
       " 'genusSize': {'code': 'D',\n",
       "  'description': 'D - Medium to large genus (21+ species)'},\n",
       " 'kingdom': 'Animalia',\n",
       " 'order': 'Squamata',\n",
       " 'phylum': 'Craniata',\n",
       " 'taxonomicComments': 'Reeder et al. (2002) examined phylogenetic relationships of the whiptail lizards of the genus <i>Cnemidophorus </i>based on a combined analysis of mitochondrial DNA, morphology, and allozymes. They determined that <i>Cnemidophorus </i>in the traditional sense is paraphyletic and thus in need of nomenclatural revision. Rather than subsume all cnemidophorine species (including <i>Kentropyx</i>) in a single large genus (<i>Ameiva</i>), they proposed a split that placed the North American \"<i>Cnemidophorus</i>\" clade in the monophyletic genus <i>Aspidoscelis</i>; under this arrangement, South American taxa remain in the genus <i>Cnemidophorus</i>.<br /><br />Walker et al. (1997) recognized this triploid parthenogen as a distinct species; formerly it was included in <i>C. tesselatus</i> (<i>A. tesselata</i>). Crother et al. (2000, 2003, 2008) recognized <i>neotesselata </i>and <i>tesselata </i>as distinct species.'}"
      ]
     },
     "metadata": {},
     "output_type": "display_data"
    },
    {
     "name": "stdout",
     "output_type": "stream",
     "text": [
      "Original Scientific Name: Physa gyrina utahensis\n",
      "NatureServe Scientific Name: Physa gyrina utahensis\n"
     ]
    },
    {
     "data": {
      "text/plain": [
       "{'class': 'Gastropoda',\n",
       " 'family': 'Physidae',\n",
       " 'genus': 'Physa',\n",
       " 'kingdom': 'Animalia',\n",
       " 'order': 'Basommatophora',\n",
       " 'phylum': 'Mollusca',\n",
       " 'taxonomicComments': 'Dillon and Wethington (2004) reported no postzygotic reproductive isolation between populations of <i>P. gyrina</i>, <i>P. ancillaria</i>, <i>P. aurea</i>, <i>P. microstriata</i> and <i>P. utahensis</i> collected at or near their type localites. Taylor (2003) cites this species as a synonym of <i>Physella </i>[= <i>Physa</i>] <i>gyrina</i>.  A study of molecular phylogeny of the family Physidae conducted by Wethington and Lydeard (2007) resulted in proposed monophyly of the family and supported six major clades, each with a corresponding difference in penial morphology; with <i>Physa utahensis</i> falling within the type b group likely as a synonym, or perhaps subspecies, of <i>Physa gyrina</i>.'}"
      ]
     },
     "metadata": {},
     "output_type": "display_data"
    },
    {
     "name": "stdout",
     "output_type": "stream",
     "text": [
      "Original Scientific Name: Lampropeltis californiae\n",
      "NatureServe Scientific Name: Lampropeltis californiae\n"
     ]
    },
    {
     "data": {
      "text/plain": [
       "{'class': 'Reptilia',\n",
       " 'family': 'Colubridae',\n",
       " 'genus': 'Lampropeltis',\n",
       " 'genusSize': {'code': 'C', 'description': 'C - Small genus (6-20 species)'},\n",
       " 'kingdom': 'Animalia',\n",
       " 'order': 'Squamata',\n",
       " 'phylum': 'Craniata',\n",
       " 'taxonomicComments': 'Based on mitochondrial DNA evidence, ecological niche modeling, morphology, and historical precedence, Pyron and Burbrink (2009) determined that the traditionally recognized <i>Lampropeltis getula</i> comprises five distinct species: <i>L. getula</i>, <i>L. nigra</i>, <i>L. holbrooki</i>, <i>L. splendida</i>, and <i>L. californiae</i>. Crother et al. (in Crother 2012) accepted this taxonomic change.'}"
      ]
     },
     "metadata": {},
     "output_type": "display_data"
    },
    {
     "name": "stdout",
     "output_type": "stream",
     "text": [
      "Original Scientific Name: Rena dissectus\n",
      "NatureServe Scientific Name: Rena dissectus\n"
     ]
    },
    {
     "data": {
      "text/plain": [
       "{'class': 'Reptilia',\n",
       " 'family': 'Leptotyphlopidae',\n",
       " 'genus': 'Rena',\n",
       " 'genusSize': {'code': 'C', 'description': 'C - Small genus (6-20 species)'},\n",
       " 'kingdom': 'Animalia',\n",
       " 'order': 'Squamata',\n",
       " 'phylum': 'Craniata',\n",
       " 'taxonomicComments': 'Dixon and Vaughan (2003) examined morphological variation in 867 individuals of Mexican and U.S. <i>Leptotyphlops </i>allied with <i>L. dulcis</i> and concluded that<i> L. dissectus</i>, <i>L. dulcis</i>, and <i>L. myopicus</i> (a Mexican species) should be regarded as distinct species. Formerly <i>dissectus </i>and <i>myopicus </i>were treated as subspecies of<i> L. dulcis</i>. Crother et al. (2003) adopted this taxonomic revision.<br><br>This species formerly was included in the genus <i>Leptotyphlops</i>. Adalsteinsson et al. (2009) examined DNA sequences (from nine mitochondrial and nuclear genes) of 91 individuals representing 34 recognized species of the family Leptotyphlopidae. Based on these analyses, they presented a revised classification of the family. The leptotyphlopid species occurring in North America north of Mexico (<i>dissecta</i>, <i>dulcis</i>, <i>humilis</i>) were removed from the genus <i>Leptotyphlops </i>and placed in the genus <i>Rena</i>, the range of which extends southward through Middle and South America to Uruguay and Argentina.'}"
      ]
     },
     "metadata": {},
     "output_type": "display_data"
    },
    {
     "name": "stdout",
     "output_type": "stream",
     "text": [
      "Original Scientific Name: Callophrys comstocki\n",
      "NatureServe Scientific Name: Callophrys comstocki\n"
     ]
    },
    {
     "data": {
      "text/plain": [
       "{'class': 'Insecta',\n",
       " 'family': 'Lycaenidae',\n",
       " 'genus': 'Callophrys',\n",
       " 'genusSize': {'code': 'D',\n",
       "  'description': 'D - Medium to large genus (21+ species)'},\n",
       " 'kingdom': 'Animalia',\n",
       " 'order': 'Lepidoptera',\n",
       " 'phylum': 'Mandibulata',\n",
       " 'taxonomicComments': 'Possibly conspecific with C. SHERIDANII. Sometimes classified as subspecies of same.'}"
      ]
     },
     "metadata": {},
     "output_type": "display_data"
    },
    {
     "name": "stdout",
     "output_type": "stream",
     "text": [
      "Original Scientific Name: Capnia nelsoni\n",
      "NatureServe Scientific Name: Capnia nelsoni\n"
     ]
    },
    {
     "data": {
      "text/plain": [
       "{'class': 'Insecta',\n",
       " 'family': 'Capniidae',\n",
       " 'genus': 'Capnia',\n",
       " 'kingdom': 'Animalia',\n",
       " 'order': 'Plecoptera',\n",
       " 'phylum': 'Mandibulata'}"
      ]
     },
     "metadata": {},
     "output_type": "display_data"
    },
    {
     "name": "stdout",
     "output_type": "stream",
     "text": [
      "Original Scientific Name: Euphilotes rita emmeli\n",
      "NatureServe Scientific Name: Euphilotes rita emmeli\n"
     ]
    },
    {
     "data": {
      "text/plain": [
       "{'class': 'Insecta',\n",
       " 'family': 'Lycaenidae',\n",
       " 'genus': 'Euphilotes',\n",
       " 'genusSize': {'code': 'C', 'description': 'C - Small genus (6-20 species)'},\n",
       " 'kingdom': 'Animalia',\n",
       " 'order': 'Lepidoptera',\n",
       " 'phylum': 'Mandibulata'}"
      ]
     },
     "metadata": {},
     "output_type": "display_data"
    },
    {
     "name": "stdout",
     "output_type": "stream",
     "text": [
      "Original Scientific Name: Gutierrezia elegans\n",
      "NatureServe Scientific Name: Gutierrezia elegans\n"
     ]
    },
    {
     "data": {
      "text/plain": [
       "{'class': 'Dicotyledoneae',\n",
       " 'family': 'Asteraceae',\n",
       " 'genus': 'Gutierrezia',\n",
       " 'kingdom': 'Plantae',\n",
       " 'order': 'Asterales',\n",
       " 'phylum': 'Anthophyta'}"
      ]
     },
     "metadata": {},
     "output_type": "display_data"
    },
    {
     "name": "stdout",
     "output_type": "stream",
     "text": [
      "Original Scientific Name: Packera mancosana\n",
      "NatureServe Scientific Name: Packera mancosana\n"
     ]
    },
    {
     "data": {
      "text/plain": [
       "{'class': 'Dicotyledoneae',\n",
       " 'family': 'Asteraceae',\n",
       " 'genus': 'Packera',\n",
       " 'kingdom': 'Plantae',\n",
       " 'order': 'Asterales',\n",
       " 'phylum': 'Anthophyta',\n",
       " 'taxonomicComments': \"Discovered by Betty and Al Schneider in 2008 and published in 2011 (Yeatts et al. 2011).  Ackerfield (2012) includes this as a synonym under <i>Packera werneriifolia</i>.  <i>Packera manosana </i>is distinguished from <i>P. werneriifolia</i> by it's persistently tomentose, gray-green leaves that are not serrate-dentate; and overall, <i>P. mancosana</i> has fewer stems and flower heads per plant (Yeatts et al. 2011, Weber and Wittmann 2012).\"}"
      ]
     },
     "metadata": {},
     "output_type": "display_data"
    },
    {
     "name": "stdout",
     "output_type": "stream",
     "text": [
      "Original Scientific Name: Phacelia gina-glenneae\n",
      "NatureServe Scientific Name: Phacelia gina-glenneae\n"
     ]
    },
    {
     "data": {
      "text/plain": [
       "{'class': 'Dicotyledoneae',\n",
       " 'family': 'Hydrophyllaceae',\n",
       " 'genus': 'Phacelia',\n",
       " 'kingdom': 'Plantae',\n",
       " 'order': 'Solanales',\n",
       " 'phylum': 'Anthophyta',\n",
       " 'taxonomicComments': 'Genetic analyses by Neal et al. (2014) support the hypothesis of three <i>Phacelia </i>species in north central, Colorado: <i>Phacelia gina-glenneae, </i>Grand County, <i>Phacelia formosula, </i>Jackson County, <i>and Phacelia </i>\"scullyi\" (not yet published), Larimer County.'}"
      ]
     },
     "metadata": {},
     "output_type": "display_data"
    },
    {
     "name": "stdout",
     "output_type": "stream",
     "text": [
      "Original Scientific Name: Calochortus ciscoensis\n",
      "NatureServe Scientific Name: Calochortus ciscoensis\n"
     ]
    },
    {
     "data": {
      "text/plain": [
       "{'class': 'Monocotyledoneae',\n",
       " 'family': 'Liliaceae',\n",
       " 'genus': 'Calochortus',\n",
       " 'kingdom': 'Plantae',\n",
       " 'order': 'Liliales',\n",
       " 'phylum': 'Anthophyta'}"
      ]
     },
     "metadata": {},
     "output_type": "display_data"
    },
    {
     "name": "stdout",
     "output_type": "stream",
     "text": [
      "Original Scientific Name: Mentzelia paradoxensis\n",
      "NatureServe Scientific Name: Mentzelia paradoxensis\n"
     ]
    },
    {
     "data": {
      "text/plain": [
       "{'class': 'Dicotyledoneae',\n",
       " 'family': 'Loasaceae',\n",
       " 'genus': 'Mentzelia',\n",
       " 'kingdom': 'Plantae',\n",
       " 'order': 'Violales',\n",
       " 'phylum': 'Anthophyta'}"
      ]
     },
     "metadata": {},
     "output_type": "display_data"
    },
    {
     "name": "stdout",
     "output_type": "stream",
     "text": [
      "Original Scientific Name: Mentzelia rhizomata\n",
      "NatureServe Scientific Name: Mentzelia rhizomata\n"
     ]
    },
    {
     "data": {
      "text/plain": [
       "{'class': 'Dicotyledoneae',\n",
       " 'family': 'Loasaceae',\n",
       " 'genus': 'Mentzelia',\n",
       " 'kingdom': 'Plantae',\n",
       " 'order': 'Violales',\n",
       " 'phylum': 'Anthophyta'}"
      ]
     },
     "metadata": {},
     "output_type": "display_data"
    },
    {
     "name": "stdout",
     "output_type": "stream",
     "text": [
      "Original Scientific Name: Oreocarya revealii\n",
      "NatureServe Scientific Name: Oreocarya revealii\n"
     ]
    },
    {
     "data": {
      "text/plain": [
       "{'class': 'Dicotyledoneae',\n",
       " 'family': 'Boraginaceae',\n",
       " 'genus': 'Oreocarya',\n",
       " 'kingdom': 'Plantae',\n",
       " 'order': 'Lamiales',\n",
       " 'phylum': 'Anthophyta',\n",
       " 'taxonomicComments': '<i>Cryptantha gypsophila </i>was described as a new species in 2006 (Reveal and Broome 2006). However, the name <i>C. gypsophila </i>has already been used (by Payson in 1915 to describe the taxon now known as <i>C. paradoxa</i>). Weber and Wittmann (2010) name the species <i>Oreocarya revealii</i>.<br><br>'}"
      ]
     },
     "metadata": {},
     "output_type": "display_data"
    },
    {
     "name": "stdout",
     "output_type": "stream",
     "text": [
      "Original Scientific Name: Dirca decipiens\n",
      "NatureServe Scientific Name: Dirca decipiens\n"
     ]
    },
    {
     "data": {
      "text/plain": [
       "{'class': 'Dicotyledoneae',\n",
       " 'family': 'Thymelaeaceae',\n",
       " 'genus': 'Dirca',\n",
       " 'kingdom': 'Plantae',\n",
       " 'order': 'Myrtales',\n",
       " 'phylum': 'Anthophyta'}"
      ]
     },
     "metadata": {},
     "output_type": "display_data"
    },
    {
     "name": "stdout",
     "output_type": "stream",
     "text": [
      "Original Scientific Name: Notropis amplamala\n",
      "NatureServe Scientific Name: Notropis amplamala\n"
     ]
    },
    {
     "data": {
      "text/plain": [
       "{'class': 'Actinopterygii',\n",
       " 'family': 'Cyprinidae',\n",
       " 'genus': 'Notropis',\n",
       " 'genusSize': {'code': 'D',\n",
       "  'description': 'D - Medium to large genus (21+ species)'},\n",
       " 'kingdom': 'Animalia',\n",
       " 'order': 'Cypriniformes',\n",
       " 'phylum': 'Craniata',\n",
       " 'taxonomicComments': 'Coburn and Cavender (1992) merged <i>Ericymba </i>into <i>Notropis</i>, an action adopted in the 1991 AFS checklist (Robins et al. 1991). In contrast, Page and Burr (1991), Mayden et al. (1992), Etnier and Starnes (1993), Mettee et al. (1996), Warren et al. (2000), and Ross (2001) retained this species in the monotypic genus <i>Ericymba</i>. Wiley and Titus (1992) referred this species to the genus <i>Hybopsis</i>. Recent molecular data indicate that the silverjaw minnow is a member of the <i>Notropis dorsalis</i> species group and should be included in the genus <i>Notropis </i>(as <i>Notropis buccatus</i>) (Raley and Wood 2001). Nelson et al. (2004) adopted this change. Based on a mitochondrial and nuclear gene sequences, SchÃ¶nhuth and Mayden (2010) retained <i>Ericymba </i>as a distinct genus. Page et al. (2013) assinged <i>amplamala </i>to the genus <i>Notropis </i>but did not comment on <i>Ericymba</i>.<br><br>This species formerly was regarded as conspecific with the silverjaw minnow <i>Notropis buccatus</i> (<i>Ericymba buccata</i>). Pera and Armbruster (2006) recognized the northern and southern populations of <i>N. buccatus</i> as two distinct species. The southern population is now known as <i>Notropis (Ericymba) amplamala</i>.'}"
      ]
     },
     "metadata": {},
     "output_type": "display_data"
    },
    {
     "name": "stdout",
     "output_type": "stream",
     "text": [
      "Original Scientific Name: Eleocharis coloradoensis\n",
      "NatureServe Scientific Name: Eleocharis coloradoensis\n"
     ]
    },
    {
     "data": {
      "text/plain": [
       "{'class': 'Monocotyledoneae',\n",
       " 'family': 'Cyperaceae',\n",
       " 'genus': 'Eleocharis',\n",
       " 'kingdom': 'Plantae',\n",
       " 'order': 'Cyperales',\n",
       " 'phylum': 'Anthophyta',\n",
       " 'taxonomicComments': 'Flora of North America (2002) splits Kartesz\\'s (1999) <i>Eleocharis parvula</i> into a more narrow-sense <i>E. parvula</i> and <i>E. coloradensis</i>.  FNA notes that most previous treatments have lumped rather than split these taxa.  Following FNA\\'s treatment, <i>E. coloradensis</i> occurs \"from Saskatchewan south to Kansas and in California to 2100 m elevation\", and <i>E. parvula</i> occurs in eastern North America west to Kansas and along the west coast in CA, OR, WA, and BC; it is \"very uncommon inland.\"'}"
      ]
     },
     "metadata": {},
     "output_type": "display_data"
    },
    {
     "name": "stdout",
     "output_type": "stream",
     "text": [
      "Original Scientific Name: Neotoma floridana baileyi\n",
      "NatureServe Scientific Name: Neotoma floridana baileyi\n"
     ]
    },
    {
     "data": {
      "text/plain": [
       "{'class': 'Mammalia',\n",
       " 'family': 'Cricetidae',\n",
       " 'genus': 'Neotoma',\n",
       " 'genusSize': {'code': 'C', 'description': 'C - Small genus (6-20 species)'},\n",
       " 'kingdom': 'Animalia',\n",
       " 'order': 'Rodentia',\n",
       " 'phylum': 'Craniata'}"
      ]
     },
     "metadata": {},
     "output_type": "display_data"
    },
    {
     "name": "stdout",
     "output_type": "stream",
     "text": [
      "Original Scientific Name: Satyrodes eurydice fumosa\n",
      "NatureServe Scientific Name: Lethe eurydice fumosus\n"
     ]
    },
    {
     "data": {
      "text/plain": [
       "{'class': 'Insecta',\n",
       " 'family': 'Nymphalidae',\n",
       " 'genus': 'Lethe',\n",
       " 'genusSize': {'code': 'B',\n",
       "  'description': 'B - Very small genus (2-5 species)'},\n",
       " 'kingdom': 'Animalia',\n",
       " 'order': 'Lepidoptera',\n",
       " 'phylum': 'Mandibulata',\n",
       " 'taxonomicComments': 'Possibly a separate species, but reportedly does intergrade eastward with <i>L. eurydice eurydice</i> to some extent, e.g. in parts of Nebraska and Indiana. Differs in habitat as well as wing characters. Most likely the usual subspecies designation is correct and the taxon is certainly valid at at least that level.'}"
      ]
     },
     "metadata": {},
     "output_type": "display_data"
    },
    {
     "name": "stdout",
     "output_type": "stream",
     "text": [
      "Original Scientific Name: Elimia broccata\n",
      "NatureServe Scientific Name: Elimia broccata\n"
     ]
    },
    {
     "data": {
      "text/plain": [
       "{'class': 'Gastropoda',\n",
       " 'family': 'Pleuroceridae',\n",
       " 'genus': 'Elimia',\n",
       " 'kingdom': 'Animalia',\n",
       " 'order': 'Neotaenioglossa',\n",
       " 'phylum': 'Mollusca'}"
      ]
     },
     "metadata": {},
     "output_type": "display_data"
    },
    {
     "name": "stdout",
     "output_type": "stream",
     "text": [
      "Original Scientific Name: Elimia exusta\n",
      "NatureServe Scientific Name: Elimia exusta\n"
     ]
    },
    {
     "data": {
      "text/plain": [
       "{'class': 'Gastropoda',\n",
       " 'family': 'Pleuroceridae',\n",
       " 'genus': 'Elimia',\n",
       " 'kingdom': 'Animalia',\n",
       " 'order': 'Neotaenioglossa',\n",
       " 'phylum': 'Mollusca',\n",
       " 'taxonomicComments': 'Taxonomy of <i>Elimia </i>is in transition, especially for southeastern states. Formerly considered part of <i>Elimia curvicostata</i> (in part) (see Mihalcik and Thompson, 2002).'}"
      ]
     },
     "metadata": {},
     "output_type": "display_data"
    },
    {
     "name": "stdout",
     "output_type": "stream",
     "text": [
      "Original Scientific Name: Elimia mihalcikae\n",
      "NatureServe Scientific Name: Elimia mihalcikae\n"
     ]
    },
    {
     "data": {
      "text/plain": [
       "{'class': 'Gastropoda',\n",
       " 'family': 'Pleuroceridae',\n",
       " 'genus': 'Elimia',\n",
       " 'kingdom': 'Animalia',\n",
       " 'order': 'Neotaenioglossa',\n",
       " 'phylum': 'Mollusca'}"
      ]
     },
     "metadata": {},
     "output_type": "display_data"
    },
    {
     "name": "stdout",
     "output_type": "stream",
     "text": [
      "Original Scientific Name: Elimia teretria\n",
      "NatureServe Scientific Name: Elimia teretria\n"
     ]
    },
    {
     "data": {
      "text/plain": [
       "{'class': 'Gastropoda',\n",
       " 'family': 'Pleuroceridae',\n",
       " 'genus': 'Elimia',\n",
       " 'kingdom': 'Animalia',\n",
       " 'order': 'Neotaenioglossa',\n",
       " 'phylum': 'Mollusca'}"
      ]
     },
     "metadata": {},
     "output_type": "display_data"
    },
    {
     "name": "stdout",
     "output_type": "stream",
     "text": [
      "Original Scientific Name: Marstonia angulobasis\n",
      "NatureServe Scientific Name: Marstonia angulobasis\n"
     ]
    },
    {
     "data": {
      "text/plain": [
       "{'class': 'Gastropoda',\n",
       " 'family': 'Hydrobiidae',\n",
       " 'genus': 'Marstonia',\n",
       " 'genusSize': {'code': 'C', 'description': 'C - Small genus (6-20 species)'},\n",
       " 'kingdom': 'Animalia',\n",
       " 'order': 'Neotaenioglossa',\n",
       " 'phylum': 'Mollusca'}"
      ]
     },
     "metadata": {},
     "output_type": "display_data"
    },
    {
     "name": "stdout",
     "output_type": "stream",
     "text": [
      "Original Scientific Name: Marstonia hershleri\n",
      "NatureServe Scientific Name: Marstonia hershleri\n"
     ]
    },
    {
     "data": {
      "text/plain": [
       "{'class': 'Gastropoda',\n",
       " 'family': 'Hydrobiidae',\n",
       " 'genus': 'Marstonia',\n",
       " 'genusSize': {'code': 'C', 'description': 'C - Small genus (6-20 species)'},\n",
       " 'kingdom': 'Animalia',\n",
       " 'order': 'Neotaenioglossa',\n",
       " 'phylum': 'Mollusca',\n",
       " 'taxonomicComments': 'The genus <i>Marstonia</i> was formerly relegated to the synonomy of <i>Pyrgulopsis</i> by Hershler and Thompson (1987), but Thompson and Hershler (2002) later re-evaluated eastern North American species assigned to <i>Pyrgulopsis</i> and recognized them as distinct species of the genus <i>Marstonia</i>.'}"
      ]
     },
     "metadata": {},
     "output_type": "display_data"
    },
    {
     "name": "stdout",
     "output_type": "stream",
     "text": [
      "Original Scientific Name: Pseudotryonia grahamae\n",
      "NatureServe Scientific Name: Pseudotryonia grahamae\n"
     ]
    },
    {
     "data": {
      "text/plain": [
       "{'class': 'Gastropoda',\n",
       " 'family': 'Hydrobiidae',\n",
       " 'genus': 'Pseudotryonia',\n",
       " 'genusSize': {'code': 'C', 'description': 'C - Small genus (6-20 species)'},\n",
       " 'kingdom': 'Animalia',\n",
       " 'order': 'Neotaenioglossa',\n",
       " 'phylum': 'Mollusca'}"
      ]
     },
     "metadata": {},
     "output_type": "display_data"
    },
    {
     "name": "stdout",
     "output_type": "stream",
     "text": [
      "Original Scientific Name: Plestiodon inexpectatus \n",
      "'Cleaned' Scientific Name (for processing): Plestiodon inexpectatus\n",
      "NatureServe Scientific Name: Plestiodon inexpectatus\n"
     ]
    },
    {
     "data": {
      "text/plain": [
       "{'class': 'Reptilia',\n",
       " 'family': 'Scincidae',\n",
       " 'genus': 'Plestiodon',\n",
       " 'genusSize': {'code': 'C', 'description': 'C - Small genus (6-20 species)'},\n",
       " 'kingdom': 'Animalia',\n",
       " 'order': 'Squamata',\n",
       " 'phylum': 'Craniata',\n",
       " 'taxonomicComments': 'See Murphy et al. (1983) for information on the relationships among <i>E. inexpectatus</i>, <i>E. fasciatus</i>, and <i>E. laticeps</i>. In a phylogenetic analysis of <i>Eumeces</i> based on morphology, Griffith et al. (2000) proposed splitting <i>Eumeces</i> into multiple genera, based on the apparent paraphyly of <i>Eumeces</i>. Smith (2005) and Brandley et al. (2005) formally proposed that all North American species (north of Mexico) be placed in the genus <i>Plestiodon</i>. This was accepted by Crother (2008) and Collins and Taggart (2009).'}"
      ]
     },
     "metadata": {},
     "output_type": "display_data"
    },
    {
     "name": "stdout",
     "output_type": "stream",
     "text": [
      "Original Scientific Name: Liodytes (Seminatrix) pygaea \n",
      "'Cleaned' Scientific Name (for processing): Liodytes pygaea\n",
      "NatureServe Scientific Name: Liodytes pygaea\n"
     ]
    },
    {
     "data": {
      "text/plain": [
       "{'class': 'Reptilia',\n",
       " 'family': 'Colubridae',\n",
       " 'genus': 'Liodytes',\n",
       " 'kingdom': 'Animalia',\n",
       " 'order': 'Squamata',\n",
       " 'phylum': 'Craniata',\n",
       " 'taxonomicComments': 'Based on multi-locus nuclear data, McVay and Carstens (2013) resurrected the genus <i>Liodytes</i> for snakes previously referred to <i>Regina alleni</i>, <i>Regina rigida</i>, and <i>Seminatrix pygaea</i>. They also resurrected the genus <i>Haldea</i> for snakes previously referred to <i>Virginia striatula</i>.'}"
      ]
     },
     "metadata": {},
     "output_type": "display_data"
    },
    {
     "name": "stdout",
     "output_type": "stream",
     "text": [
      "Original Scientific Name: Acontia delecta\n",
      "NatureServe Scientific Name: Tarache delecta\n"
     ]
    },
    {
     "data": {
      "text/plain": [
       "{'class': 'Insecta',\n",
       " 'family': 'Noctuidae',\n",
       " 'genus': 'Tarache',\n",
       " 'genusSize': {'code': 'D',\n",
       "  'description': 'D - Medium to large genus (21+ species)'},\n",
       " 'kingdom': 'Animalia',\n",
       " 'order': 'Lepidoptera',\n",
       " 'phylum': 'Mandibulata',\n",
       " 'taxonomicComments': 'Generic treatment and redefinition of the genus <i>Acontia </i>follow Lafontaine and Poole (2010).'}"
      ]
     },
     "metadata": {},
     "output_type": "display_data"
    },
    {
     "name": "stdout",
     "output_type": "stream",
     "text": [
      "Original Scientific Name: Drasteria graphica atlantica\n",
      "NatureServe Scientific Name: Drasteria graphica atlantica\n"
     ]
    },
    {
     "data": {
      "text/plain": [
       "{'class': 'Insecta',\n",
       " 'family': 'Erebidae',\n",
       " 'genus': 'Drasteria',\n",
       " 'genusSize': {'code': 'D',\n",
       "  'description': 'D - Medium to large genus (21+ species)'},\n",
       " 'kingdom': 'Animalia',\n",
       " 'order': 'Lepidoptera',\n",
       " 'phylum': 'Mandibulata'}"
      ]
     },
     "metadata": {},
     "output_type": "display_data"
    },
    {
     "name": "stdout",
     "output_type": "stream",
     "text": [
      "Original Scientific Name: Lepipolys perscripta\n",
      "NatureServe Scientific Name: Sympistis perscripta\n"
     ]
    },
    {
     "data": {
      "text/plain": [
       "{'class': 'Insecta',\n",
       " 'family': 'Noctuidae',\n",
       " 'genus': 'Sympistis',\n",
       " 'genusSize': {'code': 'D',\n",
       "  'description': 'D - Medium to large genus (21+ species)'},\n",
       " 'kingdom': 'Animalia',\n",
       " 'order': 'Lepidoptera',\n",
       " 'phylum': 'Mandibulata',\n",
       " 'taxonomicComments': 'The genus <i>Lepipolys </i>was synonymized by Troubridge (2008).'}"
      ]
     },
     "metadata": {},
     "output_type": "display_data"
    },
    {
     "name": "stdout",
     "output_type": "stream",
     "text": [
      "Original Scientific Name: Melitara prodenialis\n",
      "NatureServe Scientific Name: Melitara prodenialis\n"
     ]
    },
    {
     "data": {
      "text/plain": [
       "{'class': 'Insecta',\n",
       " 'family': 'Pyralidae',\n",
       " 'genus': 'Melitara',\n",
       " 'kingdom': 'Animalia',\n",
       " 'order': 'Lepidoptera',\n",
       " 'phylum': 'Mandibulata'}"
      ]
     },
     "metadata": {},
     "output_type": "display_data"
    },
    {
     "name": "stdout",
     "output_type": "stream",
     "text": [
      "Original Scientific Name: Sphinx eremitus\n",
      "NatureServe Scientific Name: Lintneria eremitus\n"
     ]
    },
    {
     "data": {
      "text/plain": [
       "{'class': 'Insecta',\n",
       " 'family': 'Sphingidae',\n",
       " 'genus': 'Lintneria',\n",
       " 'genusSize': {'code': 'D',\n",
       "  'description': 'D - Medium to large genus (21+ species)'},\n",
       " 'kingdom': 'Animalia',\n",
       " 'order': 'Lepidoptera',\n",
       " 'phylum': 'Mandibulata',\n",
       " 'taxonomicComments': 'Tuttle (2007) resurrected the genus <i>Lintneria</i>, originally designated by Butler (1876), to include the complex of species, previously included in the genus <i>Sphinx</i>, whose adults have intricately maculated dorsal forewings and unique larval characters and mostly feed on plants in the mint family. In North America this includes five species: <i>eremitus</i>, <i>eremitoides</i>, <i>separatus</i>, <i>istar</i>, and <i>smithi</i>.  The rest ar Neotropical.'}"
      ]
     },
     "metadata": {},
     "output_type": "display_data"
    },
    {
     "name": "stdout",
     "output_type": "stream",
     "text": [
      "Original Scientific Name: Stiriodes obtusa\n",
      "NatureServe Scientific Name: Azenia obtusa\n"
     ]
    },
    {
     "data": {
      "text/plain": [
       "{'class': 'Insecta',\n",
       " 'family': 'Noctuidae',\n",
       " 'genus': 'Azenia',\n",
       " 'kingdom': 'Animalia',\n",
       " 'order': 'Lepidoptera',\n",
       " 'phylum': 'Mandibulata',\n",
       " 'taxonomicComments': 'Subtribe Azeniina was described by Poole (1995) with status revised in Wagner at al. (2008).'}"
      ]
     },
     "metadata": {},
     "output_type": "display_data"
    },
    {
     "name": "stdout",
     "output_type": "stream",
     "text": [
      "Original Scientific Name: Catinella exile\n",
      "NatureServe Scientific Name: Catinella exile\n"
     ]
    },
    {
     "data": {
      "text/plain": [
       "{'class': 'Gastropoda',\n",
       " 'family': 'Succineidae',\n",
       " 'genus': 'Catinella',\n",
       " 'genusSize': {'code': 'C', 'description': 'C - Small genus (6-20 species)'},\n",
       " 'kingdom': 'Animalia',\n",
       " 'order': 'Stylommatophora',\n",
       " 'phylum': 'Mollusca'}"
      ]
     },
     "metadata": {},
     "output_type": "display_data"
    },
    {
     "name": "stdout",
     "output_type": "stream",
     "text": [
      "Original Scientific Name: Catinella gelida\n",
      "NatureServe Scientific Name: Catinella gelida\n"
     ]
    },
    {
     "data": {
      "text/plain": [
       "{'class': 'Gastropoda',\n",
       " 'family': 'Succineidae',\n",
       " 'genus': 'Catinella',\n",
       " 'genusSize': {'code': 'C', 'description': 'C - Small genus (6-20 species)'},\n",
       " 'kingdom': 'Animalia',\n",
       " 'order': 'Stylommatophora',\n",
       " 'phylum': 'Mollusca',\n",
       " 'taxonomicComments': 'USFWS (2011) found that currently living individuals that were identified as frigid ambersnails do not constitute a unique and valid, currently living taxon.'}"
      ]
     },
     "metadata": {},
     "output_type": "display_data"
    },
    {
     "name": "stdout",
     "output_type": "stream",
     "text": [
      "Original Scientific Name: Amplicephalus kansiensis\n",
      "NatureServe Scientific Name: Kansendria kansiensis\n"
     ]
    },
    {
     "data": {
      "text/plain": [
       "{'class': 'Insecta',\n",
       " 'family': 'Cicadellidae',\n",
       " 'genus': 'Kansendria',\n",
       " 'kingdom': 'Animalia',\n",
       " 'order': 'Homoptera',\n",
       " 'phylum': 'Mandibulata'}"
      ]
     },
     "metadata": {},
     "output_type": "display_data"
    },
    {
     "name": "stdout",
     "output_type": "stream",
     "text": [
      "Original Scientific Name: Aphelonema simplex\n",
      "NatureServe Scientific Name: Aphelonema simplex\n"
     ]
    },
    {
     "data": {
      "text/plain": [
       "{'class': 'Insecta',\n",
       " 'family': 'Issidae',\n",
       " 'genus': 'Aphelonema',\n",
       " 'kingdom': 'Animalia',\n",
       " 'order': 'Homoptera',\n",
       " 'phylum': 'Mandibulata'}"
      ]
     },
     "metadata": {},
     "output_type": "display_data"
    },
    {
     "name": "stdout",
     "output_type": "stream",
     "text": [
      "Original Scientific Name: Attenuipyga vanduzeei\n",
      "NatureServe Scientific Name: Attenuipyga vanduzeei\n"
     ]
    },
    {
     "data": {
      "text/plain": [
       "{'class': 'Insecta',\n",
       " 'family': 'Cicadellidae',\n",
       " 'genus': 'Attenuipyga',\n",
       " 'kingdom': 'Animalia',\n",
       " 'order': 'Homoptera',\n",
       " 'phylum': 'Mandibulata'}"
      ]
     },
     "metadata": {},
     "output_type": "display_data"
    },
    {
     "name": "stdout",
     "output_type": "stream",
     "text": [
      "Original Scientific Name: Catocala coelebs\n",
      "NatureServe Scientific Name: Catocala badia coelebs\n"
     ]
    },
    {
     "data": {
      "text/plain": [
       "{'class': 'Insecta',\n",
       " 'family': 'Erebidae',\n",
       " 'genus': 'Catocala',\n",
       " 'genusSize': {'code': 'D',\n",
       "  'description': 'D - Medium to large genus (21+ species)'},\n",
       " 'kingdom': 'Animalia',\n",
       " 'order': 'Lepidoptera',\n",
       " 'phylum': 'Mandibulata',\n",
       " 'taxonomicComments': '<i>C. coelebs</i> and <i>C. badia</i> have been treated as closely related, distinct species. <i>C. coelebs</i> occasionally hybridizes with <i>C. badia</i> along the Maine coast, and such apparent hybrids have been named <i>badia </i>form <i>phoebe </i>Hulst. Gall and Hawks (2002) felt the observed geographic variation in <i>badia </i>and <i>coelebs </i>was more indicative of two distinct subpecies and placed the name <i>coelebs </i>as a subspecies of <i>badia</i>. See Gall and Hawks (2010) for more on the name <i>phoebe</i>, a synonym of <i>C. b. coelebs</i>.'}"
      ]
     },
     "metadata": {},
     "output_type": "display_data"
    },
    {
     "name": "stdout",
     "output_type": "stream",
     "text": [
      "Original Scientific Name: Collops vicarius\n",
      "NatureServe Scientific Name: Collops vicarius\n"
     ]
    },
    {
     "data": {
      "text/plain": [
       "{'class': 'Insecta',\n",
       " 'family': 'Melyridae',\n",
       " 'genus': 'Collops',\n",
       " 'kingdom': 'Animalia',\n",
       " 'order': 'Coleoptera',\n",
       " 'phylum': 'Mandibulata'}"
      ]
     },
     "metadata": {},
     "output_type": "display_data"
    },
    {
     "name": "stdout",
     "output_type": "stream",
     "text": [
      "Original Scientific Name: Cuerna sayi\n",
      "NatureServe Scientific Name: Cuerna sayi\n"
     ]
    },
    {
     "data": {
      "text/plain": [
       "{'class': 'Insecta',\n",
       " 'family': 'Cicadellidae',\n",
       " 'genus': 'Cuerna',\n",
       " 'kingdom': 'Animalia',\n",
       " 'order': 'Homoptera',\n",
       " 'phylum': 'Mandibulata'}"
      ]
     },
     "metadata": {},
     "output_type": "display_data"
    },
    {
     "name": "stdout",
     "output_type": "stream",
     "text": [
      "Original Scientific Name: Destria crocea\n",
      "NatureServe Scientific Name: Destria crocea\n"
     ]
    },
    {
     "data": {
      "text/plain": [
       "{'class': 'Insecta',\n",
       " 'family': 'Cicadellidae',\n",
       " 'genus': 'Destria',\n",
       " 'kingdom': 'Animalia',\n",
       " 'order': 'Homoptera',\n",
       " 'phylum': 'Mandibulata'}"
      ]
     },
     "metadata": {},
     "output_type": "display_data"
    },
    {
     "name": "stdout",
     "output_type": "stream",
     "text": [
      "Original Scientific Name: Driotura robusta\n",
      "NatureServe Scientific Name: Driotura robusta\n"
     ]
    },
    {
     "data": {
      "text/plain": [
       "{'class': 'Insecta',\n",
       " 'family': 'Cicadellidae',\n",
       " 'genus': 'Driotura',\n",
       " 'kingdom': 'Animalia',\n",
       " 'order': 'Homoptera',\n",
       " 'phylum': 'Mandibulata'}"
      ]
     },
     "metadata": {},
     "output_type": "display_data"
    },
    {
     "name": "stdout",
     "output_type": "stream",
     "text": [
      "Original Scientific Name: Fitchiella robertsoni\n",
      "NatureServe Scientific Name: Fitchiella robertsonii\n"
     ]
    },
    {
     "data": {
      "text/plain": [
       "{'class': 'Insecta',\n",
       " 'family': 'Issidae',\n",
       " 'genus': 'Fitchiella',\n",
       " 'genusSize': {'code': 'C', 'description': 'C - Small genus (6-20 species)'},\n",
       " 'kingdom': 'Animalia',\n",
       " 'order': 'Homoptera',\n",
       " 'phylum': 'Mandibulata'}"
      ]
     },
     "metadata": {},
     "output_type": "display_data"
    },
    {
     "name": "stdout",
     "output_type": "stream",
     "text": [
      "Original Scientific Name: Flexamia prairiana\n",
      "NatureServe Scientific Name: Flexamia prairiana\n"
     ]
    },
    {
     "data": {
      "text/plain": [
       "{'class': 'Insecta',\n",
       " 'family': 'Cicadellidae',\n",
       " 'genus': 'Flexamia',\n",
       " 'kingdom': 'Animalia',\n",
       " 'order': 'Homoptera',\n",
       " 'phylum': 'Mandibulata'}"
      ]
     },
     "metadata": {},
     "output_type": "display_data"
    },
    {
     "name": "stdout",
     "output_type": "stream",
     "text": [
      "Original Scientific Name: Haliplus fulvus\n",
      "NatureServe Scientific Name: Haliplus fulvus\n"
     ]
    },
    {
     "data": {
      "text/plain": [
       "{'class': 'Insecta',\n",
       " 'family': 'Haliplidae',\n",
       " 'genus': 'Haliplus',\n",
       " 'genusSize': {'code': 'D',\n",
       "  'description': 'D - Medium to large genus (21+ species)'},\n",
       " 'kingdom': 'Animalia',\n",
       " 'order': 'Coleoptera',\n",
       " 'phylum': 'Mandibulata'}"
      ]
     },
     "metadata": {},
     "output_type": "display_data"
    },
    {
     "name": "stdout",
     "output_type": "stream",
     "text": [
      "Original Scientific Name: Laevicephalus vannus\n",
      "NatureServe Scientific Name: Laevicephalus vannus\n"
     ]
    },
    {
     "data": {
      "text/plain": [
       "{'class': 'Insecta',\n",
       " 'family': 'Cicadellidae',\n",
       " 'genus': 'Laevicephalus',\n",
       " 'kingdom': 'Animalia',\n",
       " 'order': 'Homoptera',\n",
       " 'phylum': 'Mandibulata'}"
      ]
     },
     "metadata": {},
     "output_type": "display_data"
    },
    {
     "name": "stdout",
     "output_type": "stream",
     "text": [
      "Original Scientific Name: Limotettix elegans\n",
      "NatureServe Scientific Name: Limotettix elegans\n"
     ]
    },
    {
     "data": {
      "text/plain": [
       "{'class': 'Insecta',\n",
       " 'family': 'Cicadellidae',\n",
       " 'genus': 'Limotettix',\n",
       " 'kingdom': 'Animalia',\n",
       " 'order': 'Homoptera',\n",
       " 'phylum': 'Mandibulata'}"
      ]
     },
     "metadata": {},
     "output_type": "display_data"
    },
    {
     "name": "stdout",
     "output_type": "stream",
     "text": [
      "Original Scientific Name: Limotettix pseudosphagneticus\n",
      "NatureServe Scientific Name: Limotettix pseudosphagneticus\n"
     ]
    },
    {
     "data": {
      "text/plain": [
       "{'class': 'Insecta',\n",
       " 'family': 'Cicadellidae',\n",
       " 'genus': 'Limotettix',\n",
       " 'kingdom': 'Animalia',\n",
       " 'order': 'Homoptera',\n",
       " 'phylum': 'Mandibulata'}"
      ]
     },
     "metadata": {},
     "output_type": "display_data"
    },
    {
     "name": "stdout",
     "output_type": "stream",
     "text": [
      "Original Scientific Name: Paraphlepsius maculosus\n",
      "NatureServe Scientific Name: Paraphlepsius maculosus\n"
     ]
    },
    {
     "data": {
      "text/plain": [
       "{'class': 'Insecta',\n",
       " 'family': 'Cicadellidae',\n",
       " 'genus': 'Paraphlepsius',\n",
       " 'kingdom': 'Animalia',\n",
       " 'order': 'Homoptera',\n",
       " 'phylum': 'Mandibulata'}"
      ]
     },
     "metadata": {},
     "output_type": "display_data"
    },
    {
     "name": "stdout",
     "output_type": "stream",
     "text": [
      "Original Scientific Name: Prairiana angustens\n",
      "NatureServe Scientific Name: Prairiana angustens\n"
     ]
    },
    {
     "data": {
      "text/plain": [
       "{'class': 'Insecta',\n",
       " 'family': 'Cicadellidae',\n",
       " 'genus': 'Prairiana',\n",
       " 'kingdom': 'Animalia',\n",
       " 'order': 'Homoptera',\n",
       " 'phylum': 'Mandibulata',\n",
       " 'taxonomicComments': 'Wheeler (2006) notes that <i>Prairiana kansana</i> var. <i>angustens</i> was synonymized with <i>P. kansana</i> in Oman 1949.'}"
      ]
     },
     "metadata": {},
     "output_type": "display_data"
    },
    {
     "name": "stdout",
     "output_type": "stream",
     "text": [
      "Original Scientific Name: Prairiana cinerea\n",
      "NatureServe Scientific Name: Prairiana cinerea\n"
     ]
    },
    {
     "data": {
      "text/plain": [
       "{'class': 'Insecta',\n",
       " 'family': 'Cicadellidae',\n",
       " 'genus': 'Prairiana',\n",
       " 'kingdom': 'Animalia',\n",
       " 'order': 'Homoptera',\n",
       " 'phylum': 'Mandibulata'}"
      ]
     },
     "metadata": {},
     "output_type": "display_data"
    },
    {
     "name": "stdout",
     "output_type": "stream",
     "text": [
      "Original Scientific Name: Prairiana kansana\n",
      "NatureServe Scientific Name: Prairiana kansana\n"
     ]
    },
    {
     "data": {
      "text/plain": [
       "{'class': 'Insecta',\n",
       " 'family': 'Cicadellidae',\n",
       " 'genus': 'Prairiana',\n",
       " 'kingdom': 'Animalia',\n",
       " 'order': 'Homoptera',\n",
       " 'phylum': 'Mandibulata',\n",
       " 'taxonomicComments': 'Wheeler (2006) notes that <i>Prairiana kansana</i> var. <i>angustens</i> was synonymized with <i>P. kansana</i> in Oman 1949.'}"
      ]
     },
     "metadata": {},
     "output_type": "display_data"
    },
    {
     "name": "stdout",
     "output_type": "stream",
     "text": [
      "Original Scientific Name: Celastrina ebenina\n",
      "NatureServe Scientific Name: Celastrina nigra\n"
     ]
    },
    {
     "data": {
      "text/plain": [
       "{'class': 'Insecta',\n",
       " 'family': 'Lycaenidae',\n",
       " 'genus': 'Celastrina',\n",
       " 'genusSize': {'code': 'C', 'description': 'C - Small genus (6-20 species)'},\n",
       " 'kingdom': 'Animalia',\n",
       " 'order': 'Lepidoptera',\n",
       " 'phylum': 'Mandibulata',\n",
       " 'taxonomicComments': 'Also known as C. EBENINA.'}"
      ]
     },
     "metadata": {},
     "output_type": "display_data"
    },
    {
     "name": "stdout",
     "output_type": "stream",
     "text": [
      "Original Scientific Name: Dactylocythere scotos\n",
      "NatureServe Scientific Name: Dactylocythere scotos\n"
     ]
    },
    {
     "data": {
      "text/plain": [
       "{'class': 'Ostracoda',\n",
       " 'family': 'Entocytheridae',\n",
       " 'genus': 'Dactylocythere',\n",
       " 'genusSize': {'code': 'B',\n",
       "  'description': 'B - Very small genus (2-5 species)'},\n",
       " 'kingdom': 'Animalia',\n",
       " 'order': 'Podocopida',\n",
       " 'phylum': 'Crustacea'}"
      ]
     },
     "metadata": {},
     "output_type": "display_data"
    },
    {
     "name": "stdout",
     "output_type": "stream",
     "text": [
      "Original Scientific Name: Fixsenia ontario\n",
      "NatureServe Scientific Name: Satyrium favonius ontario\n"
     ]
    },
    {
     "data": {
      "text/plain": [
       "{'class': 'Insecta',\n",
       " 'family': 'Lycaenidae',\n",
       " 'genus': 'Satyrium',\n",
       " 'genusSize': {'code': 'C', 'description': 'C - Small genus (6-20 species)'},\n",
       " 'kingdom': 'Animalia',\n",
       " 'order': 'Lepidoptera',\n",
       " 'phylum': 'Mandibulata',\n",
       " 'taxonomicComments': 'Opler and Warren (2002) state, \"Species previously places in <i>Fixsenia </i>Tutt, 1907 and <i>Harkenclenus </i>dos Passos, 1970, are now placed in <i>Satyrium </i>by Robbins (in press).\"  Intergrades in SC to subspecies <i>favonius</i>. The two were formerly treated as separate species. <i>S. favonius </i>is sometimes placed in the genus <i>Euristrymon</i>.'}"
      ]
     },
     "metadata": {},
     "output_type": "display_data"
    },
    {
     "name": "stdout",
     "output_type": "stream",
     "text": [
      "Original Scientific Name: Urspelerpes brucei\n",
      "NatureServe Scientific Name: Urspelerpes brucei\n"
     ]
    },
    {
     "data": {
      "text/plain": [
       "{'class': 'Amphibia',\n",
       " 'family': 'Plethodontidae',\n",
       " 'genus': 'Urspelerpes',\n",
       " 'genusSize': {'code': 'A', 'description': 'A - Monotypic genus'},\n",
       " 'kingdom': 'Animalia',\n",
       " 'order': 'Caudata',\n",
       " 'phylum': 'Craniata'}"
      ]
     },
     "metadata": {},
     "output_type": "display_data"
    },
    {
     "name": "stdout",
     "output_type": "stream",
     "text": [
      "Original Scientific Name: Amblyomma tuberculatum\n",
      "NatureServe Scientific Name: Amblyomma tuberculatum\n"
     ]
    },
    {
     "data": {
      "text/plain": [
       "{'class': 'Arachnida',\n",
       " 'family': 'Ixodidae',\n",
       " 'genus': 'Amblyomma',\n",
       " 'genusSize': {'code': 'C', 'description': 'C - Small genus (6-20 species)'},\n",
       " 'kingdom': 'Animalia',\n",
       " 'order': 'Ixodida',\n",
       " 'phylum': 'Chelicerata'}"
      ]
     },
     "metadata": {},
     "output_type": "display_data"
    },
    {
     "name": "stdout",
     "output_type": "stream",
     "text": [
      "Original Scientific Name: Aphodius aegrotus\n",
      "NatureServe Scientific Name: Aphodius aegrotus\n"
     ]
    },
    {
     "data": {
      "text/plain": [
       "{'class': 'Insecta',\n",
       " 'family': 'Scarabaeidae',\n",
       " 'genus': 'Aphodius',\n",
       " 'kingdom': 'Animalia',\n",
       " 'order': 'Coleoptera',\n",
       " 'phylum': 'Mandibulata'}"
      ]
     },
     "metadata": {},
     "output_type": "display_data"
    },
    {
     "name": "stdout",
     "output_type": "stream",
     "text": [
      "Original Scientific Name: Aphodius baileyi\n",
      "NatureServe Scientific Name: Aphodius baileyi\n"
     ]
    },
    {
     "data": {
      "text/plain": [
       "{'class': 'Insecta',\n",
       " 'family': 'Scarabaeidae',\n",
       " 'genus': 'Aphodius',\n",
       " 'kingdom': 'Animalia',\n",
       " 'order': 'Coleoptera',\n",
       " 'phylum': 'Mandibulata'}"
      ]
     },
     "metadata": {},
     "output_type": "display_data"
    },
    {
     "name": "stdout",
     "output_type": "stream",
     "text": [
      "Original Scientific Name: Aphodius bakeri\n",
      "NatureServe Scientific Name: Aphodius bakeri\n"
     ]
    },
    {
     "data": {
      "text/plain": [
       "{'class': 'Insecta',\n",
       " 'family': 'Scarabaeidae',\n",
       " 'genus': 'Aphodius',\n",
       " 'kingdom': 'Animalia',\n",
       " 'order': 'Coleoptera',\n",
       " 'phylum': 'Mandibulata'}"
      ]
     },
     "metadata": {},
     "output_type": "display_data"
    },
    {
     "name": "stdout",
     "output_type": "stream",
     "text": [
      "Original Scientific Name: Aphodius dyspistus\n",
      "NatureServe Scientific Name: Aphodius dyspistus\n"
     ]
    },
    {
     "data": {
      "text/plain": [
       "{'class': 'Insecta',\n",
       " 'family': 'Scarabaeidae',\n",
       " 'genus': 'Aphodius',\n",
       " 'kingdom': 'Animalia',\n",
       " 'order': 'Coleoptera',\n",
       " 'phylum': 'Mandibulata'}"
      ]
     },
     "metadata": {},
     "output_type": "display_data"
    },
    {
     "name": "stdout",
     "output_type": "stream",
     "text": [
      "Original Scientific Name: Aphodius gambrinus\n",
      "NatureServe Scientific Name: Aphodius gambrinus\n"
     ]
    },
    {
     "data": {
      "text/plain": [
       "{'class': 'Insecta',\n",
       " 'family': 'Scarabaeidae',\n",
       " 'genus': 'Aphodius',\n",
       " 'kingdom': 'Animalia',\n",
       " 'order': 'Coleoptera',\n",
       " 'phylum': 'Mandibulata'}"
      ]
     },
     "metadata": {},
     "output_type": "display_data"
    },
    {
     "name": "stdout",
     "output_type": "stream",
     "text": [
      "Original Scientific Name: Aphodius hubbelli\n",
      "NatureServe Scientific Name: Aphodius hubbelli\n"
     ]
    },
    {
     "data": {
      "text/plain": [
       "{'class': 'Insecta',\n",
       " 'family': 'Scarabaeidae',\n",
       " 'genus': 'Aphodius',\n",
       " 'kingdom': 'Animalia',\n",
       " 'order': 'Coleoptera',\n",
       " 'phylum': 'Mandibulata'}"
      ]
     },
     "metadata": {},
     "output_type": "display_data"
    },
    {
     "name": "stdout",
     "output_type": "stream",
     "text": [
      "Original Scientific Name: Aphodius laevigatus\n",
      "NatureServe Scientific Name: Aphodius laevigatus\n"
     ]
    },
    {
     "data": {
      "text/plain": [
       "{'class': 'Insecta',\n",
       " 'family': 'Scarabaeidae',\n",
       " 'genus': 'Aphodius',\n",
       " 'kingdom': 'Animalia',\n",
       " 'order': 'Coleoptera',\n",
       " 'phylum': 'Mandibulata'}"
      ]
     },
     "metadata": {},
     "output_type": "display_data"
    },
    {
     "name": "stdout",
     "output_type": "stream",
     "text": [
      "Original Scientific Name: Aphodius platypleurus\n",
      "NatureServe Scientific Name: Aphodius platypleurus\n"
     ]
    },
    {
     "data": {
      "text/plain": [
       "{'class': 'Insecta',\n",
       " 'family': 'Scarabaeidae',\n",
       " 'genus': 'Aphodius',\n",
       " 'kingdom': 'Animalia',\n",
       " 'order': 'Coleoptera',\n",
       " 'phylum': 'Mandibulata'}"
      ]
     },
     "metadata": {},
     "output_type": "display_data"
    },
    {
     "name": "stdout",
     "output_type": "stream",
     "text": [
      "Original Scientific Name: Aphodius tanytarsus\n",
      "NatureServe Scientific Name: Aphodius tanytarsus\n"
     ]
    },
    {
     "data": {
      "text/plain": [
       "{'class': 'Insecta',\n",
       " 'family': 'Scarabaeidae',\n",
       " 'genus': 'Aphodius',\n",
       " 'kingdom': 'Animalia',\n",
       " 'order': 'Coleoptera',\n",
       " 'phylum': 'Mandibulata'}"
      ]
     },
     "metadata": {},
     "output_type": "display_data"
    },
    {
     "name": "stdout",
     "output_type": "stream",
     "text": [
      "Original Scientific Name: Floritettix borealis\n",
      "NatureServe Scientific Name: Floritettix borealis\n"
     ]
    },
    {
     "data": {
      "text/plain": [
       "{'class': 'Insecta',\n",
       " 'family': 'Acrididae',\n",
       " 'genus': 'Floritettix',\n",
       " 'kingdom': 'Animalia',\n",
       " 'order': 'Orthoptera',\n",
       " 'phylum': 'Mandibulata',\n",
       " 'taxonomicComments': 'Previously considered a subspecies of <i>Aptenopedes aptera</i>. All four subspecies of <i>A. aptera</i> described by Hebard in 1936 (<i>borealis</i>, <i>coquinae</i>, <i>saturiba</i>, and <i>simplex</i>) elevated to species status and transferred to the genus <i>Floritettix</i> by Otte (2014).'}"
      ]
     },
     "metadata": {},
     "output_type": "display_data"
    },
    {
     "name": "stdout",
     "output_type": "stream",
     "text": [
      "Original Scientific Name: Machimus polyphemi\n",
      "NatureServe Scientific Name: Machimus polyphemi\n"
     ]
    },
    {
     "data": {
      "text/plain": [
       "{'class': 'Insecta',\n",
       " 'family': 'Asilidae',\n",
       " 'genus': 'Machimus',\n",
       " 'kingdom': 'Animalia',\n",
       " 'order': 'Diptera',\n",
       " 'phylum': 'Mandibulata'}"
      ]
     },
     "metadata": {},
     "output_type": "display_data"
    },
    {
     "name": "stdout",
     "output_type": "stream",
     "text": [
      "Original Scientific Name: Melanoplus nossi\n",
      "NatureServe Scientific Name: Melanoplus nossi\n"
     ]
    },
    {
     "data": {
      "text/plain": [
       "{'class': 'Insecta',\n",
       " 'family': 'Acrididae',\n",
       " 'genus': 'Melanoplus',\n",
       " 'genusSize': {'code': 'D',\n",
       "  'description': 'D - Medium to large genus (21+ species)'},\n",
       " 'kingdom': 'Animalia',\n",
       " 'order': 'Orthoptera',\n",
       " 'phylum': 'Mandibulata',\n",
       " 'taxonomicComments': 'Previously included with <i>Melanoplus tepidus</i> (Capinera et al. 2001), but Hill (2014) determined that is a distinct species.'}"
      ]
     },
     "metadata": {},
     "output_type": "display_data"
    },
    {
     "name": "stdout",
     "output_type": "stream",
     "text": [
      "Original Scientific Name: Elimia darwini\n",
      "NatureServe Scientific Name: Elimia darwini\n"
     ]
    },
    {
     "data": {
      "text/plain": [
       "{'class': 'Gastropoda',\n",
       " 'family': 'Pleuroceridae',\n",
       " 'genus': 'Elimia',\n",
       " 'kingdom': 'Animalia',\n",
       " 'order': 'Neotaenioglossa',\n",
       " 'phylum': 'Mollusca',\n",
       " 'taxonomicComments': 'Separated from <i>Elimia mutabilis</i> based on juvenile morphology and genetic differences (Mihalcik and Thompson, 2002).  Dillon et al. (2006) synonymize <i>Elimia caelatura</i>, <i>Elimia darwini</i>, <i>Elimia mutabilis</i>, <i>Elimia albanyensis</i>, <i>Elimia boykiniana</i>, <i>Elimia postelli</i>, <i>Elimia suturalis</i>, and <i>Elimia viennaensis</i> with <i>Elimia catenaria</i>, based on observational data (morphological characters that are difficult to distinguish).  Dillon and Robinson (2011) likewise attribute <i>E. </i><i>albanyensis, E. boykiniana, E. caelatura, E. darwini, E. mutabilis, E. postelli, E. suturalis </i>and E. <i>viennaensis </i>to synonyms of <i>E. catenaria </i>based on gene frequencies among populations in central Georgia.'}"
      ]
     },
     "metadata": {},
     "output_type": "display_data"
    },
    {
     "name": "stdout",
     "output_type": "stream",
     "text": [
      "Original Scientific Name: Elimia induta\n",
      "NatureServe Scientific Name: Elimia induta\n"
     ]
    },
    {
     "data": {
      "text/plain": [
       "{'class': 'Gastropoda',\n",
       " 'family': 'Pleuroceridae',\n",
       " 'genus': 'Elimia',\n",
       " 'kingdom': 'Animalia',\n",
       " 'order': 'Neotaenioglossa',\n",
       " 'phylum': 'Mollusca',\n",
       " 'taxonomicComments': 'Formerly considered a junior synonym of <i>Elimia curvicostata</i> (see Clench and Turner, 1956) but resurrected by Mihalcik and Thompson (2002).  Dillon and Robinson (2011) likewise attribute <i>Elimia inclinans, Elimia induta, Elimia exul, and Elimia nymphaea </i>to synonyms of <i>Elimia floridensis </i>based on gene frequencies among populations in central Georgia.'}"
      ]
     },
     "metadata": {},
     "output_type": "display_data"
    },
    {
     "name": "stdout",
     "output_type": "stream",
     "text": [
      "Original Scientific Name: Elimia timida\n",
      "NatureServe Scientific Name: Elimia timida\n"
     ]
    },
    {
     "data": {
      "text/plain": [
       "{'class': 'Gastropoda',\n",
       " 'family': 'Pleuroceridae',\n",
       " 'genus': 'Elimia',\n",
       " 'kingdom': 'Animalia',\n",
       " 'order': 'Neotaenioglossa',\n",
       " 'phylum': 'Mollusca',\n",
       " 'taxonomicComments': 'Originally described as a subspecies of <i>Elimia mutabilis</i> without illustration, it was resurrected as a distinct species by Mihalcik and Thompson (2002) following analysis of mitochondrial DNA and morphological features.  Contrary to Mihalcik and Thompson (2002), Dillon et al. (2006) claim <i>Elimia mutabilis</i> is a synonym of <i>Elimia catenaria</i> based on similar morphological characters (observational data only), while continuing to treat <i>Elimia timida</i> as a subspecies of the synonymized <i>Elimia mutabilis</i>, suggesting the various subspecific taxa resurrected by Mihalcik and Thompson (2002) for Elimia timida be transferred to subspecies of <i>Elimia floridensis</i> (including <i>Elimia timida exul</i>, <i>Elimia timida nymphae</i>, and <i>Elimia timida timida</i>).'}"
      ]
     },
     "metadata": {},
     "output_type": "display_data"
    },
    {
     "name": "stdout",
     "output_type": "stream",
     "text": [
      "Original Scientific Name: Marstonia gaddisorum\n",
      "NatureServe Scientific Name: Marstonia gaddisorum\n"
     ]
    },
    {
     "data": {
      "text/plain": [
       "{'class': 'Gastropoda',\n",
       " 'family': 'Hydrobiidae',\n",
       " 'genus': 'Marstonia',\n",
       " 'genusSize': {'code': 'C', 'description': 'C - Small genus (6-20 species)'},\n",
       " 'kingdom': 'Animalia',\n",
       " 'order': 'Neotaenioglossa',\n",
       " 'phylum': 'Mollusca',\n",
       " 'taxonomicComments': 'Dillon et al. (2006) suggest synonymizing <i>Marstonia gaddisorum</i> with <i>Marstonia agarhecta</i> claiming they are nearly indistinguishable morphologically, but this reference is merely a web site with no taxonomic support.'}"
      ]
     },
     "metadata": {},
     "output_type": "display_data"
    },
    {
     "name": "stdout",
     "output_type": "stream",
     "text": [
      "Original Scientific Name: Alnus maritima ssp. georgiensis\n",
      "NatureServe Scientific Name: Alnus maritima ssp. georgiensis\n"
     ]
    },
    {
     "data": {
      "text/plain": [
       "{'class': 'Dicotyledoneae',\n",
       " 'family': 'Betulaceae',\n",
       " 'genus': 'Alnus',\n",
       " 'kingdom': 'Plantae',\n",
       " 'order': 'Fagales',\n",
       " 'phylum': 'Anthophyta'}"
      ]
     },
     "metadata": {},
     "output_type": "display_data"
    },
    {
     "name": "stdout",
     "output_type": "stream",
     "text": [
      "Original Scientific Name: Hypericum erythraeae\n",
      "NatureServe Scientific Name: Hypericum erythraeae\n"
     ]
    },
    {
     "data": {
      "text/plain": [
       "{'class': 'Dicotyledoneae',\n",
       " 'family': 'Clusiaceae',\n",
       " 'genus': 'Hypericum',\n",
       " 'kingdom': 'Plantae',\n",
       " 'order': 'Theales',\n",
       " 'phylum': 'Anthophyta',\n",
       " 'taxonomicComments': 'The name Hypericum erythraeae is validly published per IPNI.  James Allison plans to \"resurrect\" this name  for this Georgia endemic, which was originally described [as Bathrys Erythreae] in the following: Spach, M. Edward. 1836. Bathrys erythraeae. Histoire naturelle des vegetaux: Phanerogames. 5:452-453.'}"
      ]
     },
     "metadata": {},
     "output_type": "display_data"
    },
    {
     "name": "stdout",
     "output_type": "stream",
     "text": [
      "Original Scientific Name: Lithospermum occidentale\n",
      "NatureServe Scientific Name: Onosmodium molle ssp. occidentale\n"
     ]
    },
    {
     "data": {
      "text/plain": [
       "{'class': 'Dicotyledoneae',\n",
       " 'family': 'Boraginaceae',\n",
       " 'genus': 'Onosmodium',\n",
       " 'kingdom': 'Plantae',\n",
       " 'order': 'Lamiales',\n",
       " 'phylum': 'Anthophyta'}"
      ]
     },
     "metadata": {},
     "output_type": "display_data"
    },
    {
     "name": "stdout",
     "output_type": "stream",
     "text": [
      "Original Scientific Name: Pohlia rabunbaldensis\n",
      "NatureServe Scientific Name: Pohlia rabunbaldensis\n"
     ]
    },
    {
     "data": {
      "text/plain": [
       "{'class': 'Bryopsida',\n",
       " 'family': 'Bryaceae',\n",
       " 'genus': 'Pohlia',\n",
       " 'kingdom': 'Plantae',\n",
       " 'order': 'Bryales',\n",
       " 'phylum': 'Bryophyta'}"
      ]
     },
     "metadata": {},
     "output_type": "display_data"
    },
    {
     "name": "stdout",
     "output_type": "stream",
     "text": [
      "Original Scientific Name: Boloria titania montinus\n",
      "NatureServe Scientific Name: Boloria chariclea montinus\n"
     ]
    },
    {
     "data": {
      "text/plain": [
       "{'class': 'Insecta',\n",
       " 'family': 'Nymphalidae',\n",
       " 'genus': 'Boloria',\n",
       " 'genusSize': {'code': 'C', 'description': 'C - Small genus (6-20 species)'},\n",
       " 'kingdom': 'Animalia',\n",
       " 'order': 'Lepidoptera',\n",
       " 'phylum': 'Mandibulata',\n",
       " 'taxonomicComments': 'The species level taxonomy of this group is in flux. However, whatever species it is attached to, the limits of this taxon are clear. It is the race found in the alpine and subalpine zones of the White Mountains in New Hampshire.'}"
      ]
     },
     "metadata": {},
     "output_type": "display_data"
    },
    {
     "name": "stdout",
     "output_type": "stream",
     "text": [
      "Original Scientific Name: Abagrotis nefascia benjamini\n",
      "NatureServe Scientific Name: Abagrotis nefascia benjamini\n"
     ]
    },
    {
     "data": {
      "text/plain": [
       "{'class': 'Insecta',\n",
       " 'family': 'Noctuidae',\n",
       " 'genus': 'Abagrotis',\n",
       " 'genusSize': {'code': 'D',\n",
       "  'description': 'D - Medium to large genus (21+ species)'},\n",
       " 'kingdom': 'Animalia',\n",
       " 'order': 'Lepidoptera',\n",
       " 'phylum': 'Mandibulata',\n",
       " 'taxonomicComments': 'Both D. Schweitzer and T. McCabe suggest this vastly disjunct subspecies be recognized. It may be a distinct species.'}"
      ]
     },
     "metadata": {},
     "output_type": "display_data"
    },
    {
     "name": "stdout",
     "output_type": "stream",
     "text": [
      "Original Scientific Name: Galba rustica\n",
      "NatureServe Scientific Name: Galba rustica\n"
     ]
    },
    {
     "data": {
      "text/plain": [
       "{'class': 'Gastropoda',\n",
       " 'family': 'Lymnaeidae',\n",
       " 'genus': 'Galba',\n",
       " 'kingdom': 'Animalia',\n",
       " 'order': 'Basommatophora',\n",
       " 'phylum': 'Mollusca',\n",
       " 'taxonomicComments': '<i>Fossaria</i> Westerlund, 1985 is a junior objective synonym of <i>Galba</i> Schrank, 1903, based on ICZN Opinion 1896 (ICZN 1998). All species previously recognized as <em>Fossaria</em> are now in genus <em>Galba</em> following Johnson et al. (2013). Dillon et al. (2013) follows Hubendick (1951) in considering this species to be a junior synonym of <i>Lymnaea</i> (<i>Fossaria</i>) <i>humilis</i> based on observational similarity.  Burch (1989) includes it in the <i>obrussa</i> group.<br /><br />Lymnaeids are the most diverse pulmonate group in the northern United States and Canada (Pyron and Brown 2014). Taxonomy is confusing, with redundancies in nomenclature and constant revisions in species definitions (Standley et al. 2013). Burch (1989) recognized 55 species in seven genera, while Hubendick (1951) recognized 13 species and placed them all in the genus <i>Lymnaea</i>.  Based on analyses of three species of <i>Galba</i> in Argentina, Standley et al. (2013) cited the need to combine molecular, morphological, and ecological variables to develop a solid taxonomic framework'}"
      ]
     },
     "metadata": {},
     "output_type": "display_data"
    },
    {
     "name": "stdout",
     "output_type": "stream",
     "text": [
      "Original Scientific Name: Phaneta clavana\n",
      "NatureServe Scientific Name: Phaneta clavana\n"
     ]
    },
    {
     "data": {
      "text/plain": [
       "{'class': 'Insecta',\n",
       " 'family': 'Tortricidae',\n",
       " 'genus': 'Phaneta',\n",
       " 'kingdom': 'Animalia',\n",
       " 'order': 'Lepidoptera',\n",
       " 'phylum': 'Mandibulata'}"
      ]
     },
     "metadata": {},
     "output_type": "display_data"
    },
    {
     "name": "stdout",
     "output_type": "stream",
     "text": [
      "Original Scientific Name: Phyllonorycter ledella\n",
      "NatureServe Scientific Name: Phyllonorycter ledella\n"
     ]
    },
    {
     "data": {
      "text/plain": [
       "{'class': 'Insecta',\n",
       " 'family': 'Gracillariidae',\n",
       " 'genus': 'Phyllonorycter',\n",
       " 'genusSize': {'code': 'D',\n",
       "  'description': 'D - Medium to large genus (21+ species)'},\n",
       " 'kingdom': 'Animalia',\n",
       " 'order': 'Lepidoptera',\n",
       " 'phylum': 'Mandibulata'}"
      ]
     },
     "metadata": {},
     "output_type": "display_data"
    },
    {
     "name": "stdout",
     "output_type": "stream",
     "text": [
      "Original Scientific Name: Ozyptila modesta\n",
      "NatureServe Scientific Name: Ozyptila modesta\n"
     ]
    },
    {
     "data": {
      "text/plain": [
       "{'class': 'Arachnida',\n",
       " 'family': 'Thomisidae',\n",
       " 'genus': 'Ozyptila',\n",
       " 'kingdom': 'Animalia',\n",
       " 'order': 'Araneae',\n",
       " 'phylum': 'Chelicerata'}"
      ]
     },
     "metadata": {},
     "output_type": "display_data"
    },
    {
     "name": "stdout",
     "output_type": "stream",
     "text": [
      "Original Scientific Name: Xestia tenuicula\n",
      "NatureServe Scientific Name: Pseudohermonassa tenuicula\n"
     ]
    },
    {
     "data": {
      "text/plain": [
       "{'class': 'Insecta',\n",
       " 'family': 'Noctuidae',\n",
       " 'genus': 'Pseudohermonassa',\n",
       " 'genusSize': {'code': 'C', 'description': 'C - Small genus (6-20 species)'},\n",
       " 'kingdom': 'Animalia',\n",
       " 'order': 'Lepidoptera',\n",
       " 'phylum': 'Mandibulata'}"
      ]
     },
     "metadata": {},
     "output_type": "display_data"
    },
    {
     "name": "stdout",
     "output_type": "stream",
     "text": [
      "Original Scientific Name: Vertigo malleata\n",
      "NatureServe Scientific Name: Vertigo malleata\n"
     ]
    },
    {
     "data": {
      "text/plain": [
       "{'class': 'Gastropoda',\n",
       " 'family': 'Pupillidae',\n",
       " 'genus': 'Vertigo',\n",
       " 'genusSize': {'code': 'D',\n",
       "  'description': 'D - Medium to large genus (21+ species)'},\n",
       " 'kingdom': 'Animalia',\n",
       " 'order': 'Stylommatophora',\n",
       " 'phylum': 'Mollusca'}"
      ]
     },
     "metadata": {},
     "output_type": "display_data"
    },
    {
     "name": "stdout",
     "output_type": "stream",
     "text": [
      "Original Scientific Name: Lithophane lepida lepida\n",
      "NatureServe Scientific Name: Lithophane lepida lepida\n"
     ]
    },
    {
     "data": {
      "text/plain": [
       "{'class': 'Insecta',\n",
       " 'family': 'Noctuidae',\n",
       " 'genus': 'Lithophane',\n",
       " 'genusSize': {'code': 'D',\n",
       "  'description': 'D - Medium to large genus (21+ species)'},\n",
       " 'kingdom': 'Animalia',\n",
       " 'order': 'Lepidoptera',\n",
       " 'phylum': 'Mandibulata',\n",
       " 'taxonomicComments': 'Traditionally all populations in Canada, New York and New England have been considered <i>L. lepida lepida</i>.  However, Forbes (1954) points out that some Canadian populations approach the taxon <i>L. l. adipel</i>, a name traditionally applied from southern New Jersey southward.  The Ontario specimen illustrated by Rockburne and Lafontaine (1976) certainly approaches <i>adipel</i>.  J. D, Lafontaine has found a slight difference in the male valves, but few specimens of <i>L. l. lepida</i> exist.  Most post-2000 specimens from Carroll County, New Hampshire also  approach southern <i>adipel</i>--but not all of them.  Schweitzer and McCabe among others have evaluated the situation, but regarded all northern populations as <i>lepida</i>, and agreed with the original status that these names refer to the same species, with <i>adipel </i>available as a subspecies if desired.  <br><br>J.D. Lafontaine has recently examined more Canadian specimens and offers a different interpretation.  By his interpretation most of the northern specimens Schweitzer had seen and some McCabe had seen and most Canadian specimens would be <i>adipel </i>and not <i>lepida</i>.  Lafontaine concludes that the taxon <i>adipel</i> is a separate species that includes most Canadian populations and ranges in that country from Ontario to Alberta.  He considers true <i>lepida</i> to be restricted to Nova Scotia (illustrated by Ferguson, 1955), Maine, Quebec (illustrated by Handfield, 1999), eastern Ontario, and upstate New York with all specimens from those places collected before 1960.  Schweitzer concurs that the Nova Scotia illustration is typical <i>lepida</i> but has no opinion on the Quebec specimen.  In January 2006 Schweitzer and Lafontaine discussed this matter in a series of emails and each examined JPGs of several specimens from the pine barrens of Carroll County, New Hampshire and Schweitzer has one actual specimen.  Both experts conclude that this New Hampshire series includes both <i>adipel</i> and <i>lepida</i> phenotypes in collections from 1985 to 2004. This could be interpreted as either two sympatric species or as two phenotypes resulting from a mixed population of two phenotypes or subspecies.<br><br>If this narrower interpretation of <i>lepida</i> is accepted, either as a species or as a subspecies, <i>L. lepida</i> (or <i>L. lepida lepida</i>) would then have a limited northeastern range.  <i>L. adipel</i> (or <i>L. lepida adipel</i>) would then be the taxon from most of Ontario west to Alberta and in the USA in Clinton County, New York, occurring with <i>lepida</i> in New Hampshire.  <i>L. adipel</i> would also be the taxon from southern New Jersey southward in both the coastal plain and Appalachians.  This circumscription is accepted here but as a subspecies (<i>L. l. lepida</i>).  D. Schweitzer points out that as Franclemont and Forbes pointed out (in Forbes, 1954) specimens from central Ontario to Saskatchewan approach <i>L. l. adipel</i>, but do not look identical. This interpretation is accepted here.  It is thus suggested that for now these western populations simply be referred to as <i>Lithophane lepida</i> with no subspecies designation or lumped with <i>adipel</i>.'}"
      ]
     },
     "metadata": {},
     "output_type": "display_data"
    },
    {
     "name": "stdout",
     "output_type": "stream",
     "text": [
      "Original Scientific Name: Physa utahensis\n",
      "NatureServe Scientific Name: Physa gyrina utahensis\n"
     ]
    },
    {
     "data": {
      "text/plain": [
       "{'class': 'Gastropoda',\n",
       " 'family': 'Physidae',\n",
       " 'genus': 'Physa',\n",
       " 'kingdom': 'Animalia',\n",
       " 'order': 'Basommatophora',\n",
       " 'phylum': 'Mollusca',\n",
       " 'taxonomicComments': 'Dillon and Wethington (2004) reported no postzygotic reproductive isolation between populations of <i>P. gyrina</i>, <i>P. ancillaria</i>, <i>P. aurea</i>, <i>P. microstriata</i> and <i>P. utahensis</i> collected at or near their type localites. Taylor (2003) cites this species as a synonym of <i>Physella </i>[= <i>Physa</i>] <i>gyrina</i>.  A study of molecular phylogeny of the family Physidae conducted by Wethington and Lydeard (2007) resulted in proposed monophyly of the family and supported six major clades, each with a corresponding difference in penial morphology; with <i>Physa utahensis</i> falling within the type b group likely as a synonym, or perhaps subspecies, of <i>Physa gyrina</i>.'}"
      ]
     },
     "metadata": {},
     "output_type": "display_data"
    },
    {
     "name": "stdout",
     "output_type": "stream",
     "text": [
      "Original Scientific Name: Macrosteles clavatus\n",
      "NatureServe Scientific Name: Macrosteles clavatus\n"
     ]
    },
    {
     "data": {
      "text/plain": [
       "{'class': 'Insecta',\n",
       " 'family': 'Cicadellidae',\n",
       " 'genus': 'Macrosteles',\n",
       " 'kingdom': 'Animalia',\n",
       " 'order': 'Homoptera',\n",
       " 'phylum': 'Mandibulata'}"
      ]
     },
     "metadata": {},
     "output_type": "display_data"
    },
    {
     "name": "stdout",
     "output_type": "stream",
     "text": [
      "Original Scientific Name: Branchinecta raptor\n",
      "NatureServe Scientific Name: Branchinecta raptor\n"
     ]
    },
    {
     "data": {
      "text/plain": [
       "{'class': 'Branchiopoda',\n",
       " 'family': 'Branchinectidae',\n",
       " 'genus': 'Branchinecta',\n",
       " 'genusSize': {'code': 'A', 'description': 'A - Monotypic genus'},\n",
       " 'kingdom': 'Animalia',\n",
       " 'order': 'Anostraca',\n",
       " 'phylum': 'Crustacea'}"
      ]
     },
     "metadata": {},
     "output_type": "display_data"
    },
    {
     "name": "stdout",
     "output_type": "stream",
     "text": [
      "Original Scientific Name: Perdita salicis euxantha\n",
      "NatureServe Scientific Name: Perdita salicis euxantha\n"
     ]
    },
    {
     "data": {
      "text/plain": [
       "{'class': 'Insecta',\n",
       " 'family': 'Andrenidae',\n",
       " 'genus': 'Perdita',\n",
       " 'kingdom': 'Animalia',\n",
       " 'order': 'Hymenoptera',\n",
       " 'phylum': 'Mandibulata'}"
      ]
     },
     "metadata": {},
     "output_type": "display_data"
    },
    {
     "name": "stdout",
     "output_type": "stream",
     "text": [
      "Original Scientific Name: Isocapnia palousa\n",
      "NatureServe Scientific Name: Isocapnia palousa\n"
     ]
    },
    {
     "data": {
      "text/plain": [
       "{'class': 'Insecta',\n",
       " 'family': 'Capniidae',\n",
       " 'genus': 'Isocapnia',\n",
       " 'kingdom': 'Animalia',\n",
       " 'order': 'Plecoptera',\n",
       " 'phylum': 'Mandibulata'}"
      ]
     },
     "metadata": {},
     "output_type": "display_data"
    },
    {
     "name": "stdout",
     "output_type": "stream",
     "text": [
      "Original Scientific Name: Sweltsa durfeei\n",
      "NatureServe Scientific Name: Sweltsa durfeei\n"
     ]
    },
    {
     "data": {
      "text/plain": [
       "{'class': 'Insecta',\n",
       " 'family': 'Chloroperlidae',\n",
       " 'genus': 'Sweltsa',\n",
       " 'kingdom': 'Animalia',\n",
       " 'order': 'Plecoptera',\n",
       " 'phylum': 'Mandibulata'}"
      ]
     },
     "metadata": {},
     "output_type": "display_data"
    },
    {
     "name": "stdout",
     "output_type": "stream",
     "text": [
      "Original Scientific Name: Soliperla salish\n",
      "NatureServe Scientific Name: Soliperla salish\n"
     ]
    },
    {
     "data": {
      "text/plain": [
       "{'class': 'Insecta',\n",
       " 'family': 'Peltoperlidae',\n",
       " 'genus': 'Soliperla',\n",
       " 'kingdom': 'Animalia',\n",
       " 'order': 'Plecoptera',\n",
       " 'phylum': 'Mandibulata'}"
      ]
     },
     "metadata": {},
     "output_type": "display_data"
    },
    {
     "name": "stdout",
     "output_type": "stream",
     "text": [
      "Original Scientific Name: Antrostomus arizonae\n",
      "NatureServe Scientific Name: Antrostomus arizonae\n"
     ]
    },
    {
     "data": {
      "text/plain": [
       "{'class': 'Aves',\n",
       " 'family': 'Caprimulgidae',\n",
       " 'genus': 'Antrostomus',\n",
       " 'genusSize': {'code': 'C', 'description': 'C - Small genus (6-20 species)'},\n",
       " 'kingdom': 'Animalia',\n",
       " 'order': 'Caprimulgiformes',\n",
       " 'phylum': 'Craniata',\n",
       " 'taxonomicComments': 'Formerly merged with <i>Caprimulgus</i>, but now treated as a separate genus on the basis of genetic data (Han et al. 2010) (AOU 2012). AOU (2010) recognized <i>Caprimulgus arizonae </i>as distinct from <i>Caprimulgus vociferus</i> based on differences in vocalizations (Hardy et al. 1988, Howell and Webb 1995, Cink 2002) and mitochondrial and nuclear DNA (Han et al. 2010); the two species also differ in morphology (Phillips et al. 1964, Howell and Webb 1995, Cink 2002) and egg pigmentation (Phillips et al. 1964).'}"
      ]
     },
     "metadata": {},
     "output_type": "display_data"
    },
    {
     "name": "stdout",
     "output_type": "stream",
     "text": [
      "Original Scientific Name: Streptocephalus henridumontis\n",
      "NatureServe Scientific Name: Streptocephalus henridumontis\n"
     ]
    },
    {
     "data": {
      "text/plain": [
       "{'class': 'Branchiopoda',\n",
       " 'family': 'Streptocephalidae',\n",
       " 'genus': 'Streptocephalus',\n",
       " 'genusSize': {'code': 'A', 'description': 'A - Monotypic genus'},\n",
       " 'kingdom': 'Animalia',\n",
       " 'order': 'Anostraca',\n",
       " 'phylum': 'Crustacea',\n",
       " 'taxonomicComments': 'Previously mistaken for <i>Streptocephalus dorothae </i>(see Maeda-Martinez et al., 2005).'}"
      ]
     },
     "metadata": {},
     "output_type": "display_data"
    },
    {
     "name": "stdout",
     "output_type": "stream",
     "text": [
      "Original Scientific Name: Streptocephalus thomasbowmani\n",
      "NatureServe Scientific Name: Streptocephalus thomasbowmani\n"
     ]
    },
    {
     "data": {
      "text/plain": [
       "{'class': 'Branchiopoda',\n",
       " 'family': 'Streptocephalidae',\n",
       " 'genus': 'Streptocephalus',\n",
       " 'genusSize': {'code': 'A', 'description': 'A - Monotypic genus'},\n",
       " 'kingdom': 'Animalia',\n",
       " 'order': 'Anostraca',\n",
       " 'phylum': 'Crustacea'}"
      ]
     },
     "metadata": {},
     "output_type": "display_data"
    },
    {
     "name": "stdout",
     "output_type": "stream",
     "text": [
      "Original Scientific Name: Pseudotryonia alamosae\n",
      "NatureServe Scientific Name: Pseudotryonia alamosae\n"
     ]
    },
    {
     "data": {
      "text/plain": [
       "{'class': 'Gastropoda',\n",
       " 'family': 'Hydrobiidae',\n",
       " 'genus': 'Pseudotryonia',\n",
       " 'genusSize': {'code': 'C', 'description': 'C - Small genus (6-20 species)'},\n",
       " 'kingdom': 'Animalia',\n",
       " 'order': 'Neotaenioglossa',\n",
       " 'phylum': 'Mollusca'}"
      ]
     },
     "metadata": {},
     "output_type": "display_data"
    },
    {
     "name": "stdout",
     "output_type": "stream",
     "text": [
      "Original Scientific Name: Juturnia kosteri\n",
      "NatureServe Scientific Name: Juturnia kosteri\n"
     ]
    },
    {
     "data": {
      "text/plain": [
       "{'class': 'Gastropoda',\n",
       " 'family': 'Hydrobiidae',\n",
       " 'genus': 'Juturnia',\n",
       " 'genusSize': {'code': 'B',\n",
       "  'description': 'B - Very small genus (2-5 species)'},\n",
       " 'kingdom': 'Animalia',\n",
       " 'order': 'Neotaenioglossa',\n",
       " 'phylum': 'Mollusca',\n",
       " 'taxonomicComments': 'Originally placed in the genus <i>Durangonella</i> (see Hershler, 2001) but reassigned to <i>Juturnia  </i>(Hershler et al., 2002).'}"
      ]
     },
     "metadata": {},
     "output_type": "display_data"
    },
    {
     "name": "stdout",
     "output_type": "stream",
     "text": [
      "Original Scientific Name: Juturnia tularosae\n",
      "NatureServe Scientific Name: Juturnia tularosae\n"
     ]
    },
    {
     "data": {
      "text/plain": [
       "{'class': 'Gastropoda',\n",
       " 'family': 'Hydrobiidae',\n",
       " 'genus': 'Juturnia',\n",
       " 'genusSize': {'code': 'B',\n",
       "  'description': 'B - Very small genus (2-5 species)'},\n",
       " 'kingdom': 'Animalia',\n",
       " 'order': 'Neotaenioglossa',\n",
       " 'phylum': 'Mollusca'}"
      ]
     },
     "metadata": {},
     "output_type": "display_data"
    },
    {
     "name": "stdout",
     "output_type": "stream",
     "text": [
      "Original Scientific Name: Sonorella painteri\n",
      "NatureServe Scientific Name: Sonorella painteri\n"
     ]
    },
    {
     "data": {
      "text/plain": [
       "{'class': 'Gastropoda',\n",
       " 'family': 'Helminthoglyptidae',\n",
       " 'genus': 'Sonorella',\n",
       " 'kingdom': 'Animalia',\n",
       " 'order': 'Stylommatophora',\n",
       " 'phylum': 'Mollusca',\n",
       " 'taxonomicComments': 'First described informally in Lang (2000) as Sonorella sp. from the San Luis Mountains.  Lang (2005) notes a manuscript is in preparation for this species of talussnail from Lang Canyon, San Luis Mountains, New Mexico.'}"
      ]
     },
     "metadata": {},
     "output_type": "display_data"
    },
    {
     "name": "stdout",
     "output_type": "stream",
     "text": [
      "Original Scientific Name: Holospira animasensis\n",
      "NatureServe Scientific Name: Holospira animasensis\n"
     ]
    },
    {
     "data": {
      "text/plain": [
       "{'class': 'Gastropoda',\n",
       " 'family': 'Urocoptidae',\n",
       " 'genus': 'Holospira',\n",
       " 'kingdom': 'Animalia',\n",
       " 'order': 'Stylommatophora',\n",
       " 'phylum': 'Mollusca',\n",
       " 'taxonomicComments': 'Uit de Weerd (2009) determined, in an analysis of phylogenetics of the family Urocoptidae, that the family Cerionidae occupies a taxonomic position nested within the New World Urocoptidae, or at the very least is their sister group; despite traditionally used morphological characters to separate the two groups.  Among Urocoptidae, <i>Cerion </i>appears most similar genetically and morphologically to the Holospirinae, including the genera <i>Coelostemma </i>and <i>Holospira</i>.  Uit de Weerd (2008) recommends that as long as significant support for a placement of <i>Cerion </i>within the Urocoptidae is lacking, the current classification cannot be rejected and Cerionidae should be maintained as a separate family.  Also a new superfamily, Urocoptoidea, is proposed to classify both the Urocoptidae and Cerionidae.<br>'}"
      ]
     },
     "metadata": {},
     "output_type": "display_data"
    },
    {
     "name": "stdout",
     "output_type": "stream",
     "text": [
      "Original Scientific Name: Ashmunella amblya cornudasensis\n",
      "NatureServe Scientific Name: Ashmunella amblya cornudasensis\n"
     ]
    },
    {
     "data": {
      "text/plain": [
       "{'class': 'Gastropoda',\n",
       " 'family': 'Polygyridae',\n",
       " 'genus': 'Ashmunella',\n",
       " 'kingdom': 'Animalia',\n",
       " 'order': 'Stylommatophora',\n",
       " 'phylum': 'Mollusca'}"
      ]
     },
     "metadata": {},
     "output_type": "display_data"
    },
    {
     "name": "stdout",
     "output_type": "stream",
     "text": [
      "Original Scientific Name: Sonorella hachitana flora\n",
      "NatureServe Scientific Name: Sonorella hachitana flora\n"
     ]
    },
    {
     "data": {
      "text/plain": [
       "{'class': 'Gastropoda',\n",
       " 'family': 'Helminthoglyptidae',\n",
       " 'genus': 'Sonorella',\n",
       " 'kingdom': 'Animalia',\n",
       " 'order': 'Stylommatophora',\n",
       " 'phylum': 'Mollusca'}"
      ]
     },
     "metadata": {},
     "output_type": "display_data"
    },
    {
     "name": "stdout",
     "output_type": "stream",
     "text": [
      "Original Scientific Name: Sonorella hachitana peloncillensis\n",
      "NatureServe Scientific Name: Sonorella hachitana peloncillensis\n"
     ]
    },
    {
     "data": {
      "text/plain": [
       "{'class': 'Gastropoda',\n",
       " 'family': 'Helminthoglyptidae',\n",
       " 'genus': 'Sonorella',\n",
       " 'kingdom': 'Animalia',\n",
       " 'order': 'Stylommatophora',\n",
       " 'phylum': 'Mollusca'}"
      ]
     },
     "metadata": {},
     "output_type": "display_data"
    },
    {
     "name": "stdout",
     "output_type": "stream",
     "text": [
      "Original Scientific Name: Plestiodon callicephalus\n",
      "NatureServe Scientific Name: Plestiodon callicephalus\n"
     ]
    },
    {
     "data": {
      "text/plain": [
       "{'class': 'Reptilia',\n",
       " 'family': 'Scincidae',\n",
       " 'genus': 'Plestiodon',\n",
       " 'genusSize': {'code': 'C', 'description': 'C - Small genus (6-20 species)'},\n",
       " 'kingdom': 'Animalia',\n",
       " 'order': 'Squamata',\n",
       " 'phylum': 'Craniata',\n",
       " 'taxonomicComments': '<i>E. brevilineatus</i> and <i>E. callicephalus</i> were treated as subspecies of <i>E. tetragrammus </i>by Lieb (1985, 1990). Tanner (1987) maintained that <i>callicephalus</i> should be retained as a distinct species. Lieb (1990) noted that additional sampling and study of material from Chihuahua is needed to clarify the status of <i>callicephalus</i>. Meanwhile, Crother et al. (2003) listed <i>E. callicephalus</i> as a species, based on allopatry and morphological diagnosability relative to <i>E. brevilineatus</i> and <i>E. callicephalus</i>.<br><br>In a phylogenetic analysis of <i>Eumeces </i>based on morphology, Griffith et al. (2000) proposed splitting <i>Eumeces </i>into multiple genera, based on the apparent paraphyly of <i>Eumeces</i>. Smith (2005) and Brandley et al. (2005) formally proposed that all North American species (north of Mexico) be placed in the genus <i>Plestiodon</i>. This was accepted by Crother (2008) and Collins and Taggart (2009).'}"
      ]
     },
     "metadata": {},
     "output_type": "display_data"
    },
    {
     "name": "stdout",
     "output_type": "stream",
     "text": [
      "Original Scientific Name: Aspidoscelis stictogramma\n",
      "NatureServe Scientific Name: Aspidoscelis stictogramma\n"
     ]
    },
    {
     "data": {
      "text/plain": [
       "{'class': 'Reptilia',\n",
       " 'family': 'Teiidae',\n",
       " 'genus': 'Aspidoscelis',\n",
       " 'genusSize': {'code': 'D',\n",
       "  'description': 'D - Medium to large genus (21+ species)'},\n",
       " 'kingdom': 'Animalia',\n",
       " 'order': 'Squamata',\n",
       " 'phylum': 'Craniata',\n",
       " 'taxonomicComments': 'Reeder et al. (2002) examined phylogenetic relationships of the whiptail lizards of the genus <i>Cnemidophorus </i>based on a combined analysis of mitochondrial DNA, morphology, and allozymes. They determined that <i>Cnemidophorus </i>in the traditional sense is paraphyletic and thus in need of nomenclatural revision. Rather than subsume all cnemidophorine species (including <i>Kentropyx</i>) in a single large genus (<i>Ameiva</i>), they proposed a split that placed the North American \"<i>Cnemidophorus</i>\" clade in the monophyletic genus <i>Aspidoscelis</i>; under this arrangement, South American taxa remain in the genus <i>Cnemidophorus</i>.<br /><br />Based on differences in body size, scutellation, and color patterns, Walker and Cordes (2011) concluded that <i>A. stictogramma, A. xanthonota, </i>andÂ\\xa0<i>A. burti </i>should be recognized as distinct species.Â\\xa0de Quieroz and Reeder (in Crother 2012) adopted this arrangement (<i>A. burti</i> is now restrcited to Mexico).'}"
      ]
     },
     "metadata": {},
     "output_type": "display_data"
    },
    {
     "name": "stdout",
     "output_type": "stream",
     "text": [
      "Original Scientific Name: Abagrotis crumbi benjamini\n",
      "NatureServe Scientific Name: Abagrotis nefascia benjamini\n"
     ]
    },
    {
     "data": {
      "text/plain": [
       "{'class': 'Insecta',\n",
       " 'family': 'Noctuidae',\n",
       " 'genus': 'Abagrotis',\n",
       " 'genusSize': {'code': 'D',\n",
       "  'description': 'D - Medium to large genus (21+ species)'},\n",
       " 'kingdom': 'Animalia',\n",
       " 'order': 'Lepidoptera',\n",
       " 'phylum': 'Mandibulata',\n",
       " 'taxonomicComments': 'Both D. Schweitzer and T. McCabe suggest this vastly disjunct subspecies be recognized. It may be a distinct species.'}"
      ]
     },
     "metadata": {},
     "output_type": "display_data"
    },
    {
     "name": "stdout",
     "output_type": "stream",
     "text": [
      "Original Scientific Name: Alobates morio\n",
      "NatureServe Scientific Name: Alobates morio\n"
     ]
    },
    {
     "data": {
      "text/plain": [
       "{'class': 'Insecta',\n",
       " 'family': 'Tenebrionidae',\n",
       " 'genus': 'Alobates',\n",
       " 'kingdom': 'Animalia',\n",
       " 'order': 'Coleoptera',\n",
       " 'phylum': 'Mandibulata'}"
      ]
     },
     "metadata": {},
     "output_type": "display_data"
    },
    {
     "name": "stdout",
     "output_type": "stream",
     "text": [
      "Original Scientific Name: Anaedus brunneus\n",
      "NatureServe Scientific Name: Anaedus brunneus\n"
     ]
    },
    {
     "data": {
      "text/plain": [
       "{'class': 'Insecta',\n",
       " 'family': 'Tenebrionidae',\n",
       " 'genus': 'Anaedus',\n",
       " 'kingdom': 'Animalia',\n",
       " 'order': 'Coleoptera',\n",
       " 'phylum': 'Mandibulata'}"
      ]
     },
     "metadata": {},
     "output_type": "display_data"
    },
    {
     "name": "stdout",
     "output_type": "stream",
     "text": [
      "Original Scientific Name: Hister arcuatus\n",
      "NatureServe Scientific Name: Spilodiscus arcuatus\n"
     ]
    },
    {
     "data": {
      "text/plain": [
       "{'class': 'Insecta',\n",
       " 'family': 'Histeridae',\n",
       " 'genus': 'Spilodiscus',\n",
       " 'kingdom': 'Animalia',\n",
       " 'order': 'Coleoptera',\n",
       " 'phylum': 'Mandibulata'}"
      ]
     },
     "metadata": {},
     "output_type": "display_data"
    },
    {
     "name": "stdout",
     "output_type": "stream",
     "text": [
      "Original Scientific Name: Clethrionomys gapperi wrangeli\n",
      "NatureServe Scientific Name: Myodes gapperi wrangeli\n"
     ]
    },
    {
     "data": {
      "text/plain": [
       "{'class': 'Mammalia',\n",
       " 'family': 'Cricetidae',\n",
       " 'genus': 'Myodes',\n",
       " 'kingdom': 'Animalia',\n",
       " 'order': 'Rodentia',\n",
       " 'phylum': 'Craniata',\n",
       " 'taxonomicComments': '<i>Myodes g. wrangeli </i>is one of four, possibly five, subspecies of southern red-backed voles, <i>M. gapperi</i>, recognized in Southeast Alaska (Hall 1981, MacDonald and Cook 1996). Recent genetic work (Cook et al. 2001, Runck 2001) shows low, but diagnostic levels of genetic differentiation consistent with subspecific designations of the four subspecies; these subspecies are neo-endemics thought to have colonized the region between about 7,500 and 12,000 years before present. Additional genetic work by Cook et al. (2004) and Runck and Cook (2005) clarifies that <i>M. gapperi </i>is specifically distinct from the northern red-backed vole, <i>C. rutilus</i>, and indicates that <i>M. gapperi </i>as currently recognized (Hall 1981) likely consists of three cryptic species in North America, with Southeast Alaska populations the result of post-glacial expansion via trans-coastal river corridors from Pleistocene refugia n the midwestern United States.'}"
      ]
     },
     "metadata": {},
     "output_type": "display_data"
    },
    {
     "name": "stdout",
     "output_type": "stream",
     "text": [
      "Original Scientific Name: Clethrionomys rutilus albiventer\n",
      "NatureServe Scientific Name: Myodes rutilus albiventer\n"
     ]
    },
    {
     "data": {
      "text/plain": [
       "{'class': 'Mammalia',\n",
       " 'family': 'Cricetidae',\n",
       " 'genus': 'Myodes',\n",
       " 'kingdom': 'Animalia',\n",
       " 'order': 'Rodentia',\n",
       " 'phylum': 'Craniata',\n",
       " 'taxonomicComments': 'Originally described as <i>C. albiventer</i> (Hall and Gilmore 1932). Taxonomic status needs to be confirmed.'}"
      ]
     },
     "metadata": {},
     "output_type": "display_data"
    },
    {
     "name": "stdout",
     "output_type": "stream",
     "text": [
      "Original Scientific Name: Clethrionomys rutilus glacialis\n",
      "NatureServe Scientific Name: Myodes rutilus glacialis\n"
     ]
    },
    {
     "data": {
      "text/plain": [
       "{'class': 'Mammalia',\n",
       " 'family': 'Cricetidae',\n",
       " 'genus': 'Myodes',\n",
       " 'kingdom': 'Animalia',\n",
       " 'order': 'Rodentia',\n",
       " 'phylum': 'Craniata',\n",
       " 'taxonomicComments': 'Also has been referred to as <i>Clethrionmys dawsoni glacialis</i>.'}"
      ]
     },
     "metadata": {},
     "output_type": "display_data"
    },
    {
     "name": "stdout",
     "output_type": "stream",
     "text": [
      "Original Scientific Name: Clethrionomys rutilus insularis\n",
      "NatureServe Scientific Name: Myodes rutilus insularis\n"
     ]
    },
    {
     "data": {
      "text/plain": [
       "{'class': 'Mammalia',\n",
       " 'family': 'Cricetidae',\n",
       " 'genus': 'Myodes',\n",
       " 'kingdom': 'Animalia',\n",
       " 'order': 'Rodentia',\n",
       " 'phylum': 'Craniata',\n",
       " 'taxonomicComments': 'Originally described as <i>Evotomys dawsoni insularis</i>. Taxonomic status needs to be reviewed.'}"
      ]
     },
     "metadata": {},
     "output_type": "display_data"
    },
    {
     "name": "stdout",
     "output_type": "stream",
     "text": [
      "Original Scientific Name: Clethrionomys rutilus orca\n",
      "NatureServe Scientific Name: Myodes rutilus orca\n"
     ]
    },
    {
     "data": {
      "text/plain": [
       "{'class': 'Mammalia',\n",
       " 'family': 'Cricetidae',\n",
       " 'genus': 'Myodes',\n",
       " 'kingdom': 'Animalia',\n",
       " 'order': 'Rodentia',\n",
       " 'phylum': 'Craniata'}"
      ]
     },
     "metadata": {},
     "output_type": "display_data"
    },
    {
     "name": "stdout",
     "output_type": "stream",
     "text": [
      "Original Scientific Name: Dicrostonyx groenlandicus exsul\n",
      "NatureServe Scientific Name: Dicrostonyx groenlandicus exsul\n"
     ]
    },
    {
     "data": {
      "text/plain": [
       "{'class': 'Mammalia',\n",
       " 'family': 'Cricetidae',\n",
       " 'genus': 'Dicrostonyx',\n",
       " 'genusSize': {'code': 'C', 'description': 'C - Small genus (6-20 species)'},\n",
       " 'kingdom': 'Animalia',\n",
       " 'order': 'Rodentia',\n",
       " 'phylum': 'Craniata',\n",
       " 'taxonomicComments': 'Taxonomy is unresolved. Regarded as part of a single circumpolar species, <i>D. torquatus</i>, until the 1970s when karyological and breeding studies indicated the possible existence of a superspecies complex among North American <i>Dicrostonyx</i> (Rausch and Rausch 1972, Rausch 1977; see also Krohne 1982). Regarded as a subspecies of <i>D. groenlandicus </i>by Hall (1981), but as a full species by Honacki et al. (1982), Jones et al. (1986, 1992), and Musser and Carleton (in Wilson and Reeder 1993). Musser and Carleton noted that the morphological distinctiveness of this species is subtle. Again treated as a subspecies of <i>D. groenlandicus </i>by Jarrell and Fredga (1993) and Engstrom (in Wilson and Ruff 1999).'}"
      ]
     },
     "metadata": {},
     "output_type": "display_data"
    },
    {
     "name": "stdout",
     "output_type": "stream",
     "text": [
      "Original Scientific Name: Dicrostonyx groenlandicus unalascensis\n",
      "NatureServe Scientific Name: Dicrostonyx groenlandicus unalascensis\n"
     ]
    },
    {
     "data": {
      "text/plain": [
       "{'class': 'Mammalia',\n",
       " 'family': 'Cricetidae',\n",
       " 'genus': 'Dicrostonyx',\n",
       " 'genusSize': {'code': 'C', 'description': 'C - Small genus (6-20 species)'},\n",
       " 'kingdom': 'Animalia',\n",
       " 'order': 'Rodentia',\n",
       " 'phylum': 'Craniata',\n",
       " 'taxonomicComments': 'This taxon has distinctive pelage and craniodental characteristics, and apparently uniquely among <i>Dicrostonyx</i>, it lacks specialized nival pelage and foreclaws (see Musser and Carleton, in Wilson and Reeder 2005).<br /><br />Taxonomy of <i>Dicrostonyx </i>is complex and unstable. <i>Dicrostonyx unalascensis</i> was regarded as part of a single circumpolar species, <i>D. torquatus</i>, until the 1970s when karyological and breeding studies indicated the possible existence of a superspecies complex among North American <i>Dicrostonyx</i> (Rausch and Rausch 1972, Rausch 1977; see also Krohne 1982). Former subspecies occurring in Canada and Alaska were recognized as separate species based mainly on karyotypes (Rausch and Rausch 1972, Rausch 1977, Krohne 1982, Honacki et al. 1982, Baker et al. 2003). Jarrell and Fredga (1993) and Engstrom (1999) suggested treating <i>D. hudsonius</i>, <i>D. richardsoni</i>, and <i>D. groenlandicus</i> as distinct species (the latter including the other North American <i>Dicrostonyx </i>populations as subspecies), and molecular data (Fedorov and Goropashnaya 1999) supports this taxonomy. Musser and Carleton (in Wilson and Reeder 2005) reviewed these and subsequent studies and recognized eight <i>Dicrostonyx </i>species, six of which (<i>groenlandicus</i>, <i>hudsonius</i>, <i>nelsoni</i>, <i>nunatakensis</i>, <i>richardsoni</i>, and <i>unalascensis</i>) occur in North America. Baker et al. (2003) recognized <i>D. exsul</i>, <i>D. kilangmiutak</i>, and <i>D. rubricatus</i> as species, but Musser and Carleton recognized <i>exsul </i>as a synonym of <i>D. nelsoni</i>, and <i>kilangmiutak </i>and <i>rubricatus </i>were treated as synonyms of <i>D. groenlandicus</i>. Fedorov and Stenseth (2002) followed Fedorov and Goropashnaya (1999) in recognizing three North American <i>Dicrostonyx </i>species.'}"
      ]
     },
     "metadata": {},
     "output_type": "display_data"
    },
    {
     "name": "stdout",
     "output_type": "stream",
     "text": [
      "Original Scientific Name: Lemmus trimucronatus harroldi\n",
      "NatureServe Scientific Name: Lemmus trimucronatus harroldi\n"
     ]
    },
    {
     "data": {
      "text/plain": [
       "{'class': 'Mammalia',\n",
       " 'family': 'Cricetidae',\n",
       " 'genus': 'Lemmus',\n",
       " 'genusSize': {'code': 'B',\n",
       "  'description': 'B - Very small genus (2-5 species)'},\n",
       " 'kingdom': 'Animalia',\n",
       " 'order': 'Rodentia',\n",
       " 'phylum': 'Craniata'}"
      ]
     },
     "metadata": {},
     "output_type": "display_data"
    },
    {
     "name": "stdout",
     "output_type": "stream",
     "text": [
      "Original Scientific Name: Lemmus trimucronatus nigripes\n",
      "NatureServe Scientific Name: Lemmus trimucronatus nigripes\n"
     ]
    },
    {
     "data": {
      "text/plain": [
       "{'class': 'Mammalia',\n",
       " 'family': 'Cricetidae',\n",
       " 'genus': 'Lemmus',\n",
       " 'genusSize': {'code': 'B',\n",
       "  'description': 'B - Very small genus (2-5 species)'},\n",
       " 'kingdom': 'Animalia',\n",
       " 'order': 'Rodentia',\n",
       " 'phylum': 'Craniata',\n",
       " 'taxonomicComments': 'Formerly regarded as a distinct species; Rausch and Rausch (1975) concluded that <i>nigripes</i> is best regarded as a subspecies.'}"
      ]
     },
     "metadata": {},
     "output_type": "display_data"
    },
    {
     "name": "stdout",
     "output_type": "stream",
     "text": [
      "Original Scientific Name: Microtus abbreviatus abbreviatus\n",
      "NatureServe Scientific Name: Microtus abbreviatus abbreviatus\n"
     ]
    },
    {
     "data": {
      "text/plain": [
       "{'class': 'Mammalia',\n",
       " 'family': 'Cricetidae',\n",
       " 'genus': 'Microtus',\n",
       " 'genusSize': {'code': 'D',\n",
       "  'description': 'D - Medium to large genus (21+ species)'},\n",
       " 'kingdom': 'Animalia',\n",
       " 'order': 'Rodentia',\n",
       " 'phylum': 'Craniata',\n",
       " 'taxonomicComments': 'Taxonomic status needs to be confirmed, however this is recognized as a subspecies by MacDonald and Cook (2009).'}"
      ]
     },
     "metadata": {},
     "output_type": "display_data"
    },
    {
     "name": "stdout",
     "output_type": "stream",
     "text": [
      "Original Scientific Name: Microtus oeconomus amakensis\n",
      "NatureServe Scientific Name: Microtus oeconomus amakensis\n"
     ]
    },
    {
     "data": {
      "text/plain": [
       "{'class': 'Mammalia',\n",
       " 'family': 'Cricetidae',\n",
       " 'genus': 'Microtus',\n",
       " 'genusSize': {'code': 'D',\n",
       "  'description': 'D - Medium to large genus (21+ species)'},\n",
       " 'kingdom': 'Animalia',\n",
       " 'order': 'Rodentia',\n",
       " 'phylum': 'Craniata',\n",
       " 'taxonomicComments': 'This vole was first described as a distinct taxon <i>Microtus amakensis</i> by Murie (1930).  Hall and Cockrum (1952) later concluded that the specimens were distinct only at the subspecific level and placed them within the <i>Microtus oeconomus</i> complex.  Research has questioned the consistency and reliability of morphological characters used to distinguish <i>amakensis</i>; specifically, <i>amakensis </i>is questionably distinct from subspecies <i>operarius</i> of the nearby Alaska Peninsula (Paradiso and Manville 1961, Rausch and Rausch 1972, Fay and Sease 1985). However, it is recognized by IUCN (2007) and MacDonald and Cook (2009) as a valid subspecies. Subspecies based on morphological differences and geographic isolation (Hafner et al. 1998).'}"
      ]
     },
     "metadata": {},
     "output_type": "display_data"
    },
    {
     "name": "stdout",
     "output_type": "stream",
     "text": [
      "Original Scientific Name: Microtus oeconomus innuitus\n",
      "NatureServe Scientific Name: Microtus oeconomus innuitus\n"
     ]
    },
    {
     "data": {
      "text/plain": [
       "{'class': 'Mammalia',\n",
       " 'family': 'Cricetidae',\n",
       " 'genus': 'Microtus',\n",
       " 'genusSize': {'code': 'D',\n",
       "  'description': 'D - Medium to large genus (21+ species)'},\n",
       " 'kingdom': 'Animalia',\n",
       " 'order': 'Rodentia',\n",
       " 'phylum': 'Craniata'}"
      ]
     },
     "metadata": {},
     "output_type": "display_data"
    },
    {
     "name": "stdout",
     "output_type": "stream",
     "text": [
      "Original Scientific Name: Microtus oeconomus popofensis\n",
      "NatureServe Scientific Name: Microtus oeconomus popofensis\n"
     ]
    },
    {
     "data": {
      "text/plain": [
       "{'class': 'Mammalia',\n",
       " 'family': 'Cricetidae',\n",
       " 'genus': 'Microtus',\n",
       " 'genusSize': {'code': 'D',\n",
       "  'description': 'D - Medium to large genus (21+ species)'},\n",
       " 'kingdom': 'Animalia',\n",
       " 'order': 'Rodentia',\n",
       " 'phylum': 'Craniata',\n",
       " 'taxonomicComments': 'Included as a subspecies of <i>M. unalascensis</i> until 1942.'}"
      ]
     },
     "metadata": {},
     "output_type": "display_data"
    },
    {
     "name": "stdout",
     "output_type": "stream",
     "text": [
      "Original Scientific Name: Microtus oeconomus punukensis\n",
      "NatureServe Scientific Name: Microtus oeconomus punukensis\n"
     ]
    },
    {
     "data": {
      "text/plain": [
       "{'class': 'Mammalia',\n",
       " 'family': 'Cricetidae',\n",
       " 'genus': 'Microtus',\n",
       " 'genusSize': {'code': 'D',\n",
       "  'description': 'D - Medium to large genus (21+ species)'},\n",
       " 'kingdom': 'Animalia',\n",
       " 'order': 'Rodentia',\n",
       " 'phylum': 'Craniata',\n",
       " 'taxonomicComments': 'This vole was first described as <i>Microtus innuitus punukensis</i> by Hall and Gilmore (1932).  It was redescribed as <i>M. oeconomus punukensis</i> by Zimmerman (1942). All subsequent authorities, including Paradiso and Manville (1961) and Hall (1981), use this taxonomy.'}"
      ]
     },
     "metadata": {},
     "output_type": "display_data"
    },
    {
     "name": "stdout",
     "output_type": "stream",
     "text": [
      "Original Scientific Name: Microtus oeconomus sitkensis\n",
      "NatureServe Scientific Name: Microtus oeconomus sitkensis\n"
     ]
    },
    {
     "data": {
      "text/plain": [
       "{'class': 'Mammalia',\n",
       " 'family': 'Cricetidae',\n",
       " 'genus': 'Microtus',\n",
       " 'genusSize': {'code': 'D',\n",
       "  'description': 'D - Medium to large genus (21+ species)'},\n",
       " 'kingdom': 'Animalia',\n",
       " 'order': 'Rodentia',\n",
       " 'phylum': 'Craniata'}"
      ]
     },
     "metadata": {},
     "output_type": "display_data"
    },
    {
     "name": "stdout",
     "output_type": "stream",
     "text": [
      "Original Scientific Name: Microtus oeconomus unalascensis\n",
      "NatureServe Scientific Name: Microtus oeconomus unalascensis\n"
     ]
    },
    {
     "data": {
      "text/plain": [
       "{'class': 'Mammalia',\n",
       " 'family': 'Cricetidae',\n",
       " 'genus': 'Microtus',\n",
       " 'genusSize': {'code': 'D',\n",
       "  'description': 'D - Medium to large genus (21+ species)'},\n",
       " 'kingdom': 'Animalia',\n",
       " 'order': 'Rodentia',\n",
       " 'phylum': 'Craniata'}"
      ]
     },
     "metadata": {},
     "output_type": "display_data"
    },
    {
     "name": "stdout",
     "output_type": "stream",
     "text": [
      "Original Scientific Name: Microtus oeconomus yakutatensis\n",
      "NatureServe Scientific Name: Microtus oeconomus yakutatensis\n"
     ]
    },
    {
     "data": {
      "text/plain": [
       "{'class': 'Mammalia',\n",
       " 'family': 'Cricetidae',\n",
       " 'genus': 'Microtus',\n",
       " 'genusSize': {'code': 'D',\n",
       "  'description': 'D - Medium to large genus (21+ species)'},\n",
       " 'kingdom': 'Animalia',\n",
       " 'order': 'Rodentia',\n",
       " 'phylum': 'Craniata'}"
      ]
     },
     "metadata": {},
     "output_type": "display_data"
    },
    {
     "name": "stdout",
     "output_type": "stream",
     "text": [
      "Original Scientific Name: Microtus pennsylvanicus admiraltiae\n",
      "NatureServe Scientific Name: Microtus pennsylvanicus admiraltiae\n"
     ]
    },
    {
     "data": {
      "text/plain": [
       "{'class': 'Mammalia',\n",
       " 'family': 'Cricetidae',\n",
       " 'genus': 'Microtus',\n",
       " 'genusSize': {'code': 'D',\n",
       "  'description': 'D - Medium to large genus (21+ species)'},\n",
       " 'kingdom': 'Animalia',\n",
       " 'order': 'Rodentia',\n",
       " 'phylum': 'Craniata'}"
      ]
     },
     "metadata": {},
     "output_type": "display_data"
    },
    {
     "name": "stdout",
     "output_type": "stream",
     "text": [
      "Original Scientific Name: Vertigo hannai\n",
      "NatureServe Scientific Name: Vertigo hannai\n"
     ]
    },
    {
     "data": {
      "text/plain": [
       "{'class': 'Gastropoda',\n",
       " 'family': 'Pupillidae',\n",
       " 'genus': 'Vertigo',\n",
       " 'genusSize': {'code': 'D',\n",
       "  'description': 'D - Medium to large genus (21+ species)'},\n",
       " 'kingdom': 'Animalia',\n",
       " 'order': 'Stylommatophora',\n",
       " 'phylum': 'Mollusca',\n",
       " 'taxonomicComments': 'Oughton (1948) misidentified individuals of this species for Ft. Severn as <i>V. binneyana</i>. Kalas (1981) misidentified individuals from the Yukon as the European <i>V. substriata</i>. Based on a photograph in the archives of the Bishops Mills Natural History Centre and resampling of the site in October 2008, the F.W. Grimm report of this species from the Burnt Lands Alvar in eastern Ontario is based on a misidentification of <i>V. hubrichti</i> (Nekola and Coles, 2010). A recent phylogenetic analysis revealed the species level concept has remained unchanged from what was previously known (Nekola et al., 2009).'}"
      ]
     },
     "metadata": {},
     "output_type": "display_data"
    },
    {
     "name": "stdout",
     "output_type": "stream",
     "text": [
      "Original Scientific Name: Polycentropus chenoides\n",
      "NatureServe Scientific Name: Polycentropus chenoides\n"
     ]
    },
    {
     "data": {
      "text/plain": [
       "{'class': 'Insecta',\n",
       " 'family': 'Polycentropodidae',\n",
       " 'genus': 'Polycentropus',\n",
       " 'kingdom': 'Animalia',\n",
       " 'order': 'Trichoptera',\n",
       " 'phylum': 'Mandibulata'}"
      ]
     },
     "metadata": {},
     "output_type": "display_data"
    },
    {
     "name": "stdout",
     "output_type": "stream",
     "text": [
      "Original Scientific Name: Artogeia virginiensis\n",
      "NatureServe Scientific Name: Pieris virginiensis\n"
     ]
    },
    {
     "data": {
      "text/plain": [
       "{'class': 'Insecta',\n",
       " 'family': 'Pieridae',\n",
       " 'genus': 'Pieris',\n",
       " 'kingdom': 'Animalia',\n",
       " 'order': 'Lepidoptera',\n",
       " 'phylum': 'Mandibulata'}"
      ]
     },
     "metadata": {},
     "output_type": "display_data"
    },
    {
     "name": "stdout",
     "output_type": "stream",
     "text": [
      "Original Scientific Name: Fixsenia favonius\n",
      "NatureServe Scientific Name: Satyrium favonius\n"
     ]
    },
    {
     "data": {
      "text/plain": [
       "{'class': 'Insecta',\n",
       " 'family': 'Lycaenidae',\n",
       " 'genus': 'Satyrium',\n",
       " 'genusSize': {'code': 'C', 'description': 'C - Small genus (6-20 species)'},\n",
       " 'kingdom': 'Animalia',\n",
       " 'order': 'Lepidoptera',\n",
       " 'phylum': 'Mandibulata',\n",
       " 'taxonomicComments': 'Opler and Warren (2002) state, \"Species previously placed in <i>Fixsenia </i>Tutt, 1907 and <i>Harkenclenus </i>dos Passos, 1970, are now placed in <i>Satyrium </i>by Robbins (in press).\"<br /><br />Previously considered to be a species separate from more northern and western butterflies, which were <i>Fixsenia ontario</i>, the Northern Hairstreak.'}"
      ]
     },
     "metadata": {},
     "output_type": "display_data"
    },
    {
     "name": "stdout",
     "output_type": "stream",
     "text": [
      "Original Scientific Name: Herpetogramma thestealis\n",
      "NatureServe Scientific Name: Herpetogramma thestealis\n"
     ]
    },
    {
     "data": {
      "text/plain": [
       "{'class': 'Insecta',\n",
       " 'family': 'Crambidae',\n",
       " 'genus': 'Herpetogramma',\n",
       " 'genusSize': {'code': 'C', 'description': 'C - Small genus (6-20 species)'},\n",
       " 'kingdom': 'Animalia',\n",
       " 'order': 'Lepidoptera',\n",
       " 'phylum': 'Mandibulata'}"
      ]
     },
     "metadata": {},
     "output_type": "display_data"
    },
    {
     "name": "stdout",
     "output_type": "stream",
     "text": [
      "Original Scientific Name: Mesamia stramineus\n",
      "NatureServe Scientific Name: Mesamia straminea\n"
     ]
    },
    {
     "data": {
      "text/plain": [
       "{'class': 'Insecta',\n",
       " 'family': 'Cicadellidae',\n",
       " 'genus': 'Mesamia',\n",
       " 'kingdom': 'Animalia',\n",
       " 'order': 'Homoptera',\n",
       " 'phylum': 'Mandibulata'}"
      ]
     },
     "metadata": {},
     "output_type": "display_data"
    },
    {
     "name": "stdout",
     "output_type": "stream",
     "text": [
      "Original Scientific Name: Pyrausta laticlavia\n",
      "NatureServe Scientific Name: Pyrausta laticlavia\n"
     ]
    },
    {
     "data": {
      "text/plain": [
       "{'class': 'Insecta',\n",
       " 'family': 'Crambidae',\n",
       " 'genus': 'Pyrausta',\n",
       " 'genusSize': {'code': 'D',\n",
       "  'description': 'D - Medium to large genus (21+ species)'},\n",
       " 'kingdom': 'Animalia',\n",
       " 'order': 'Lepidoptera',\n",
       " 'phylum': 'Mandibulata'}"
      ]
     },
     "metadata": {},
     "output_type": "display_data"
    },
    {
     "name": "stdout",
     "output_type": "stream",
     "text": [
      "Original Scientific Name: Spartiniphaga includens\n",
      "NatureServe Scientific Name: Photedes includens\n"
     ]
    },
    {
     "data": {
      "text/plain": [
       "{'class': 'Insecta',\n",
       " 'family': 'Noctuidae',\n",
       " 'genus': 'Photedes',\n",
       " 'kingdom': 'Animalia',\n",
       " 'order': 'Lepidoptera',\n",
       " 'phylum': 'Mandibulata',\n",
       " 'taxonomicComments': 'Transferred from <i>Spartiniphaga </i>to <i>Photedes </i>by Lafontaine and Schmidt (2010).'}"
      ]
     },
     "metadata": {},
     "output_type": "display_data"
    },
    {
     "name": "stdout",
     "output_type": "stream",
     "text": [
      "Original Scientific Name: Diplocentrus diablo \n",
      "'Cleaned' Scientific Name (for processing): Diplocentrus diablo\n",
      "NatureServe Scientific Name: Diplocentrus diablo\n"
     ]
    },
    {
     "data": {
      "text/plain": [
       "{'class': 'Arachnida',\n",
       " 'family': 'Diplocentrotidae',\n",
       " 'genus': 'Diplocentrus',\n",
       " 'genusSize': {'code': 'D',\n",
       "  'description': 'D - Medium to large genus (21+ species)'},\n",
       " 'kingdom': 'Animalia',\n",
       " 'order': 'Scorpiones',\n",
       " 'phylum': 'Chelicerata'}"
      ]
     },
     "metadata": {},
     "output_type": "display_data"
    },
    {
     "name": "stdout",
     "output_type": "stream",
     "text": [
      "Original Scientific Name: Tayshaneta anopica\n",
      "NatureServe Scientific Name: Tayshaneta anopica\n"
     ]
    },
    {
     "data": {
      "text/plain": [
       "{'class': 'Arachnida',\n",
       " 'family': 'Leptonetidae',\n",
       " 'genus': 'Tayshaneta',\n",
       " 'genusSize': {'code': 'C', 'description': 'C - Small genus (6-20 species)'},\n",
       " 'kingdom': 'Animalia',\n",
       " 'order': 'Araneae',\n",
       " 'phylum': 'Chelicerata'}"
      ]
     },
     "metadata": {},
     "output_type": "display_data"
    },
    {
     "name": "stdout",
     "output_type": "stream",
     "text": [
      "Original Scientific Name: Tayshaneta bullis\n",
      "NatureServe Scientific Name: Tayshaneta bullis\n"
     ]
    },
    {
     "data": {
      "text/plain": [
       "{'class': 'Arachnida',\n",
       " 'family': 'Leptonetidae',\n",
       " 'genus': 'Tayshaneta',\n",
       " 'genusSize': {'code': 'C', 'description': 'C - Small genus (6-20 species)'},\n",
       " 'kingdom': 'Animalia',\n",
       " 'order': 'Araneae',\n",
       " 'phylum': 'Chelicerata'}"
      ]
     },
     "metadata": {},
     "output_type": "display_data"
    },
    {
     "name": "stdout",
     "output_type": "stream",
     "text": [
      "Original Scientific Name: Tayshaneta concinna\n",
      "NatureServe Scientific Name: Tayshaneta concinna\n"
     ]
    },
    {
     "data": {
      "text/plain": [
       "{'class': 'Arachnida',\n",
       " 'family': 'Leptonetidae',\n",
       " 'genus': 'Tayshaneta',\n",
       " 'genusSize': {'code': 'C', 'description': 'C - Small genus (6-20 species)'},\n",
       " 'kingdom': 'Animalia',\n",
       " 'order': 'Araneae',\n",
       " 'phylum': 'Chelicerata'}"
      ]
     },
     "metadata": {},
     "output_type": "display_data"
    },
    {
     "name": "stdout",
     "output_type": "stream",
     "text": [
      "Original Scientific Name: Tayshaneta devia\n",
      "NatureServe Scientific Name: Tayshaneta devia\n"
     ]
    },
    {
     "data": {
      "text/plain": [
       "{'class': 'Arachnida',\n",
       " 'family': 'Leptonetidae',\n",
       " 'genus': 'Tayshaneta',\n",
       " 'genusSize': {'code': 'C', 'description': 'C - Small genus (6-20 species)'},\n",
       " 'kingdom': 'Animalia',\n",
       " 'order': 'Araneae',\n",
       " 'phylum': 'Chelicerata'}"
      ]
     },
     "metadata": {},
     "output_type": "display_data"
    },
    {
     "name": "stdout",
     "output_type": "stream",
     "text": [
      "Original Scientific Name: Tayshaneta microps\n",
      "NatureServe Scientific Name: Tayshaneta microps\n"
     ]
    },
    {
     "data": {
      "text/plain": [
       "{'class': 'Arachnida',\n",
       " 'family': 'Leptonetidae',\n",
       " 'genus': 'Tayshaneta',\n",
       " 'genusSize': {'code': 'C', 'description': 'C - Small genus (6-20 species)'},\n",
       " 'kingdom': 'Animalia',\n",
       " 'order': 'Araneae',\n",
       " 'phylum': 'Chelicerata',\n",
       " 'taxonomicComments': 'Described by Gertsch (1974) as <i>Leptoneta microps</i>. The species was reassigned to <i>Neoleptoneta </i>following Brignoli (1977) and Platnick (1986). A review of the taxonomic history of nearctic leptonetids is available in Ubick et al. (2005). This species has been referred to by two common names, the Government Canyon cave spider (USFWS 2000) and the Government Canyon Bat Cave spider (Breene et al. 2003). The latter name has been accepted as the official common name (Breene et al. 2003, USFWS 2003).'}"
      ]
     },
     "metadata": {},
     "output_type": "display_data"
    },
    {
     "name": "stdout",
     "output_type": "stream",
     "text": [
      "Original Scientific Name: Tayshaneta myopica\n",
      "NatureServe Scientific Name: Tayshaneta myopica\n"
     ]
    },
    {
     "data": {
      "text/plain": [
       "{'class': 'Arachnida',\n",
       " 'family': 'Leptonetidae',\n",
       " 'genus': 'Tayshaneta',\n",
       " 'genusSize': {'code': 'C', 'description': 'C - Small genus (6-20 species)'},\n",
       " 'kingdom': 'Animalia',\n",
       " 'order': 'Araneae',\n",
       " 'phylum': 'Chelicerata'}"
      ]
     },
     "metadata": {},
     "output_type": "display_data"
    },
    {
     "name": "stdout",
     "output_type": "stream",
     "text": [
      "Original Scientific Name: Paruroctonus williamsi \n",
      "'Cleaned' Scientific Name (for processing): Paruroctonus williamsi\n",
      "NatureServe Scientific Name: Paruroctonus williamsi\n"
     ]
    },
    {
     "data": {
      "text/plain": [
       "{'class': 'Arachnida',\n",
       " 'family': 'Vaejovidae',\n",
       " 'genus': 'Paruroctonus',\n",
       " 'kingdom': 'Animalia',\n",
       " 'order': 'Scorpiones',\n",
       " 'phylum': 'Chelicerata'}"
      ]
     },
     "metadata": {},
     "output_type": "display_data"
    },
    {
     "name": "stdout",
     "output_type": "stream",
     "text": [
      "Original Scientific Name: Tyrannochthonius muchmoreorum\n",
      "NatureServe Scientific Name: Tyrannochthonius muchmoreorum\n"
     ]
    },
    {
     "data": {
      "text/plain": [
       "{'class': 'Arachnida',\n",
       " 'family': 'Chthoniidae',\n",
       " 'genus': 'Tyrannochthonius',\n",
       " 'genusSize': {'code': 'D',\n",
       "  'description': 'D - Medium to large genus (21+ species)'},\n",
       " 'kingdom': 'Animalia',\n",
       " 'order': 'Pseudoscorpiones',\n",
       " 'phylum': 'Chelicerata'}"
      ]
     },
     "metadata": {},
     "output_type": "display_data"
    },
    {
     "name": "stdout",
     "output_type": "stream",
     "text": [
      "Original Scientific Name: Vaejovis chisos \n",
      "'Cleaned' Scientific Name (for processing): Vaejovis chisos\n",
      "NatureServe Scientific Name: Vaejovis chisos\n"
     ]
    },
    {
     "data": {
      "text/plain": [
       "{'class': 'Arachnida',\n",
       " 'family': 'Vaejovidae',\n",
       " 'genus': 'Vaejovis',\n",
       " 'kingdom': 'Animalia',\n",
       " 'order': 'Scorpiones',\n",
       " 'phylum': 'Chelicerata'}"
      ]
     },
     "metadata": {},
     "output_type": "display_data"
    },
    {
     "name": "stdout",
     "output_type": "stream",
     "text": [
      "Original Scientific Name: Dendrocephalus acacioidea\n",
      "NatureServe Scientific Name: Dendrocephalus acacioidea\n"
     ]
    },
    {
     "data": {
      "text/plain": [
       "{'class': 'Branchiopoda',\n",
       " 'family': 'Thamnocephalidae',\n",
       " 'genus': 'Dendrocephalus',\n",
       " 'genusSize': {'code': 'B',\n",
       "  'description': 'B - Very small genus (2-5 species)'},\n",
       " 'kingdom': 'Animalia',\n",
       " 'order': 'Anostraca',\n",
       " 'phylum': 'Crustacea',\n",
       " 'taxonomicComments': 'Prior to Rogers (2006) revision of the family Thamnocephalidae this species was placed in the genus <i>Branchinella</i>. The specific epithet \"<i>acaciodea</i>\" is a misspelling (McLaughlin et al., 2005).'}"
      ]
     },
     "metadata": {},
     "output_type": "display_data"
    },
    {
     "name": "stdout",
     "output_type": "stream",
     "text": [
      "Original Scientific Name: Phallocryptus sublettei \n",
      "'Cleaned' Scientific Name (for processing): Phallocryptus sublettei\n",
      "NatureServe Scientific Name: Phallocryptus sublettei\n"
     ]
    },
    {
     "data": {
      "text/plain": [
       "{'class': 'Branchiopoda',\n",
       " 'family': 'Thamnocephalidae',\n",
       " 'genus': 'Phallocryptus',\n",
       " 'genusSize': {'code': 'B',\n",
       "  'description': 'B - Very small genus (2-5 species)'},\n",
       " 'kingdom': 'Animalia',\n",
       " 'order': 'Anostraca',\n",
       " 'phylum': 'Crustacea',\n",
       " 'taxonomicComments': 'Prior to Rogers (2006) revision of the family Thamnocephalidae this species was placed in the genus <i>Branchinella. </i>'}"
      ]
     },
     "metadata": {},
     "output_type": "display_data"
    },
    {
     "name": "stdout",
     "output_type": "stream",
     "text": [
      "Original Scientific Name: Percina apristis\n",
      "NatureServe Scientific Name: Percina apristis\n"
     ]
    },
    {
     "data": {
      "text/plain": [
       "{'class': 'Actinopterygii',\n",
       " 'family': 'Percidae',\n",
       " 'genus': 'Percina',\n",
       " 'genusSize': {'code': 'D',\n",
       "  'description': 'D - Medium to large genus (21+ species)'},\n",
       " 'kingdom': 'Animalia',\n",
       " 'order': 'Perciformes',\n",
       " 'phylum': 'Craniata',\n",
       " 'taxonomicComments': 'Formerly this species was regarded as a subspecies of<i> Percina sciera</i>. Robins and Page (2007) determined that it should be recognized as a distinct species.'}"
      ]
     },
     "metadata": {},
     "output_type": "display_data"
    },
    {
     "name": "stdout",
     "output_type": "stream",
     "text": [
      "Original Scientific Name: Batrisodes dentifrons\n",
      "NatureServe Scientific Name: Batrisodes dentifrons\n"
     ]
    },
    {
     "data": {
      "text/plain": [
       "{'class': 'Insecta',\n",
       " 'family': 'Staphylinidae',\n",
       " 'genus': 'Batrisodes',\n",
       " 'genusSize': {'code': 'D',\n",
       "  'description': 'D - Medium to large genus (21+ species)'},\n",
       " 'kingdom': 'Animalia',\n",
       " 'order': 'Coleoptera',\n",
       " 'phylum': 'Mandibulata'}"
      ]
     },
     "metadata": {},
     "output_type": "display_data"
    },
    {
     "name": "stdout",
     "output_type": "stream",
     "text": [
      "Original Scientific Name: Batrisodes fanti\n",
      "NatureServe Scientific Name: Batrisodes fanti\n"
     ]
    },
    {
     "data": {
      "text/plain": [
       "{'class': 'Insecta',\n",
       " 'family': 'Staphylinidae',\n",
       " 'genus': 'Batrisodes',\n",
       " 'genusSize': {'code': 'D',\n",
       "  'description': 'D - Medium to large genus (21+ species)'},\n",
       " 'kingdom': 'Animalia',\n",
       " 'order': 'Coleoptera',\n",
       " 'phylum': 'Mandibulata'}"
      ]
     },
     "metadata": {},
     "output_type": "display_data"
    },
    {
     "name": "stdout",
     "output_type": "stream",
     "text": [
      "Original Scientific Name: Batrisodes pekinsi\n",
      "NatureServe Scientific Name: Batrisodes pekinsi\n"
     ]
    },
    {
     "data": {
      "text/plain": [
       "{'class': 'Insecta',\n",
       " 'family': 'Staphylinidae',\n",
       " 'genus': 'Batrisodes',\n",
       " 'genusSize': {'code': 'D',\n",
       "  'description': 'D - Medium to large genus (21+ species)'},\n",
       " 'kingdom': 'Animalia',\n",
       " 'order': 'Coleoptera',\n",
       " 'phylum': 'Mandibulata'}"
      ]
     },
     "metadata": {},
     "output_type": "display_data"
    },
    {
     "name": "stdout",
     "output_type": "stream",
     "text": [
      "Original Scientific Name: Batrisodes shadeae\n",
      "NatureServe Scientific Name: Batrisodes shadeae\n"
     ]
    },
    {
     "data": {
      "text/plain": [
       "{'class': 'Insecta',\n",
       " 'family': 'Staphylinidae',\n",
       " 'genus': 'Batrisodes',\n",
       " 'genusSize': {'code': 'D',\n",
       "  'description': 'D - Medium to large genus (21+ species)'},\n",
       " 'kingdom': 'Animalia',\n",
       " 'order': 'Coleoptera',\n",
       " 'phylum': 'Mandibulata'}"
      ]
     },
     "metadata": {},
     "output_type": "display_data"
    },
    {
     "name": "stdout",
     "output_type": "stream",
     "text": [
      "Original Scientific Name: Dichopetala seeversi \n",
      "'Cleaned' Scientific Name (for processing): Dichopetala seeversi\n",
      "NatureServe Scientific Name: Dichopetala seeversi\n"
     ]
    },
    {
     "data": {
      "text/plain": [
       "{'class': 'Insecta',\n",
       " 'family': 'Tettigoniidae',\n",
       " 'genus': 'Dichopetala',\n",
       " 'kingdom': 'Animalia',\n",
       " 'order': 'Orthoptera',\n",
       " 'phylum': 'Mandibulata'}"
      ]
     },
     "metadata": {},
     "output_type": "display_data"
    },
    {
     "name": "stdout",
     "output_type": "stream",
     "text": [
      "Original Scientific Name: Epitragosoma arenaria\n",
      "NatureServe Scientific Name: Epitragosoma arenaria\n"
     ]
    },
    {
     "data": {
      "text/plain": [
       "{'class': 'Insecta',\n",
       " 'family': 'Tenebrionidae',\n",
       " 'genus': 'Epitragosoma',\n",
       " 'kingdom': 'Animalia',\n",
       " 'order': 'Coleoptera',\n",
       " 'phylum': 'Mandibulata'}"
      ]
     },
     "metadata": {},
     "output_type": "display_data"
    },
    {
     "name": "stdout",
     "output_type": "stream",
     "text": [
      "Original Scientific Name: Lymantes nadineae\n",
      "NatureServe Scientific Name: Lymantes nadineae\n"
     ]
    },
    {
     "data": {
      "text/plain": [
       "{'class': 'Insecta',\n",
       " 'family': 'Curculionidae',\n",
       " 'genus': 'Lymantes',\n",
       " 'kingdom': 'Animalia',\n",
       " 'order': 'Coleoptera',\n",
       " 'phylum': 'Mandibulata'}"
      ]
     },
     "metadata": {},
     "output_type": "display_data"
    },
    {
     "name": "stdout",
     "output_type": "stream",
     "text": [
      "Original Scientific Name: Oncopodura fenestra \n",
      "'Cleaned' Scientific Name (for processing): Oncopodura fenestra\n",
      "NatureServe Scientific Name: Oncopodura fenestra\n"
     ]
    },
    {
     "data": {
      "text/plain": [
       "{'class': 'Elliplura',\n",
       " 'family': 'Oncopoduridae',\n",
       " 'genus': 'Oncopodura',\n",
       " 'genusSize': {'code': 'D',\n",
       "  'description': 'D - Medium to large genus (21+ species)'},\n",
       " 'kingdom': 'Animalia',\n",
       " 'order': 'Collembola',\n",
       " 'phylum': 'Mandibulata'}"
      ]
     },
     "metadata": {},
     "output_type": "display_data"
    },
    {
     "name": "stdout",
     "output_type": "stream",
     "text": [
      "Original Scientific Name: Petrophila daemonalis\n",
      "NatureServe Scientific Name: Petrophila daemonalis\n"
     ]
    },
    {
     "data": {
      "text/plain": [
       "{'class': 'Insecta',\n",
       " 'family': 'Crambidae',\n",
       " 'genus': 'Petrophila',\n",
       " 'kingdom': 'Animalia',\n",
       " 'order': 'Lepidoptera',\n",
       " 'phylum': 'Mandibulata'}"
      ]
     },
     "metadata": {},
     "output_type": "display_data"
    },
    {
     "name": "stdout",
     "output_type": "stream",
     "text": [
      "Original Scientific Name: Texaponium triplehorni\n",
      "NatureServe Scientific Name: Texaponium triplehorni\n"
     ]
    },
    {
     "data": {
      "text/plain": [
       "{'class': 'Insecta',\n",
       " 'family': 'Tenebrionidae',\n",
       " 'genus': 'Texaponium',\n",
       " 'kingdom': 'Animalia',\n",
       " 'order': 'Coleoptera',\n",
       " 'phylum': 'Mandibulata'}"
      ]
     },
     "metadata": {},
     "output_type": "display_data"
    },
    {
     "name": "stdout",
     "output_type": "stream",
     "text": [
      "Original Scientific Name: Sonorella huecoensis\n",
      "NatureServe Scientific Name: Sonorella huecoensis\n"
     ]
    },
    {
     "data": {
      "text/plain": [
       "{'class': 'Gastropoda',\n",
       " 'family': 'Helminthoglyptidae',\n",
       " 'genus': 'Sonorella',\n",
       " 'kingdom': 'Animalia',\n",
       " 'order': 'Stylommatophora',\n",
       " 'phylum': 'Mollusca'}"
      ]
     },
     "metadata": {},
     "output_type": "display_data"
    },
    {
     "name": "stdout",
     "output_type": "stream",
     "text": [
      "Original Scientific Name: Clematis carrizoanus\n",
      "NatureServe Scientific Name: Clematis carrizoensis\n"
     ]
    },
    {
     "data": {
      "text/plain": [
       "{'class': 'Dicotyledoneae',\n",
       " 'family': 'Ranunculaceae',\n",
       " 'genus': 'Clematis',\n",
       " 'kingdom': 'Plantae',\n",
       " 'order': 'Ranunculales',\n",
       " 'phylum': 'Anthophyta'}"
      ]
     },
     "metadata": {},
     "output_type": "display_data"
    },
    {
     "name": "stdout",
     "output_type": "stream",
     "text": [
      "Original Scientific Name: Dalea austrotexana\n",
      "NatureServe Scientific Name: Dalea austrotexana\n"
     ]
    },
    {
     "data": {
      "text/plain": [
       "{'class': 'Dicotyledoneae',\n",
       " 'family': 'Fabaceae',\n",
       " 'genus': 'Dalea',\n",
       " 'kingdom': 'Plantae',\n",
       " 'order': 'Fabales',\n",
       " 'phylum': 'Anthophyta',\n",
       " 'taxonomicComments': 'Previously placed within <i>Dalea lanata </i>var. <i>lanata.</i>'}"
      ]
     },
     "metadata": {},
     "output_type": "display_data"
    },
    {
     "name": "stdout",
     "output_type": "stream",
     "text": [
      "Original Scientific Name: Echinocereus milleri\n",
      "NatureServe Scientific Name: Echinocereus milleri\n"
     ]
    },
    {
     "data": {
      "text/plain": [
       "{'class': 'Dicotyledoneae',\n",
       " 'family': 'Cactaceae',\n",
       " 'genus': 'Echinocereus',\n",
       " 'kingdom': 'Plantae',\n",
       " 'order': 'Caryophyllales',\n",
       " 'phylum': 'Anthophyta'}"
      ]
     },
     "metadata": {},
     "output_type": "display_data"
    },
    {
     "name": "stdout",
     "output_type": "stream",
     "text": [
      "Original Scientific Name: Echinocereus viridiflorus var. canus\n",
      "NatureServe Scientific Name: Echinocereus viridiflorus var. canus\n"
     ]
    },
    {
     "data": {
      "text/plain": [
       "{'class': 'Dicotyledoneae',\n",
       " 'family': 'Cactaceae',\n",
       " 'genus': 'Echinocereus',\n",
       " 'kingdom': 'Plantae',\n",
       " 'order': 'Caryophyllales',\n",
       " 'phylum': 'Anthophyta'}"
      ]
     },
     "metadata": {},
     "output_type": "display_data"
    },
    {
     "name": "stdout",
     "output_type": "stream",
     "text": [
      "Original Scientific Name: Nemophila sayersensis\n",
      "NatureServe Scientific Name: Nemophila sayersensis\n"
     ]
    },
    {
     "data": {
      "text/plain": [
       "{'class': 'Dicotyledoneae',\n",
       " 'family': 'Hydrophyllaceae',\n",
       " 'genus': 'Nemophila',\n",
       " 'kingdom': 'Plantae',\n",
       " 'order': 'Solanales',\n",
       " 'phylum': 'Anthophyta'}"
      ]
     },
     "metadata": {},
     "output_type": "display_data"
    },
    {
     "name": "stdout",
     "output_type": "stream",
     "text": [
      "Original Scientific Name: Packera texensis\n",
      "NatureServe Scientific Name: Packera texensis\n"
     ]
    },
    {
     "data": {
      "text/plain": [
       "{'class': 'Dicotyledoneae',\n",
       " 'family': 'Asteraceae',\n",
       " 'genus': 'Packera',\n",
       " 'kingdom': 'Plantae',\n",
       " 'order': 'Asterales',\n",
       " 'phylum': 'Anthophyta'}"
      ]
     },
     "metadata": {},
     "output_type": "display_data"
    },
    {
     "name": "stdout",
     "output_type": "stream",
     "text": [
      "Original Scientific Name: Phaseolus texensis\n",
      "NatureServe Scientific Name: Phaseolus texensis\n"
     ]
    },
    {
     "data": {
      "text/plain": [
       "{'class': 'Dicotyledoneae',\n",
       " 'family': 'Fabaceae',\n",
       " 'genus': 'Phaseolus',\n",
       " 'kingdom': 'Plantae',\n",
       " 'order': 'Fabales',\n",
       " 'phylum': 'Anthophyta'}"
      ]
     },
     "metadata": {},
     "output_type": "display_data"
    },
    {
     "name": "stdout",
     "output_type": "stream",
     "text": [
      "Original Scientific Name: Coregonus bartlettii\n",
      "NatureServe Scientific Name: Coregonus zenithicus bartletti\n"
     ]
    },
    {
     "data": {
      "text/plain": [
       "{'class': 'Actinopterygii',\n",
       " 'family': 'Salmonidae',\n",
       " 'genus': 'Coregonus',\n",
       " 'genusSize': {'code': 'D',\n",
       "  'description': 'D - Medium to large genus (21+ species)'},\n",
       " 'kingdom': 'Animalia',\n",
       " 'order': 'Salmoniformes',\n",
       " 'phylum': 'Craniata',\n",
       " 'taxonomicComments': 'This taxon formerly was regarded as a species but more recently has been included as a subspecies of <i>C. zenithicus</i> (Hubbs and Lagler 2004).'}"
      ]
     },
     "metadata": {},
     "output_type": "display_data"
    },
    {
     "name": "stdout",
     "output_type": "stream",
     "text": [
      "Original Scientific Name: Coregonus hubbsi\n",
      "NatureServe Scientific Name: Coregonus hubbsi\n"
     ]
    },
    {
     "data": {
      "text/plain": [
       "{'class': 'Actinopterygii',\n",
       " 'family': 'Salmonidae',\n",
       " 'genus': 'Coregonus',\n",
       " 'genusSize': {'code': 'D',\n",
       "  'description': 'D - Medium to large genus (21+ species)'},\n",
       " 'kingdom': 'Animalia',\n",
       " 'order': 'Salmoniformes',\n",
       " 'phylum': 'Craniata',\n",
       " 'taxonomicComments': 'Hubbs and Lagler (2004) listed this taxon as a distinct species, but Nelson et al. (2004), Bailey et al. (2004), Jelks et al. (2008), and Page and Burr (2011) did not (included in <i>Coregonus artedi</i>).'}"
      ]
     },
     "metadata": {},
     "output_type": "display_data"
    },
    {
     "name": "stdout",
     "output_type": "stream",
     "text": [
      "Original Scientific Name: Planorbella smithi\n",
      "NatureServe Scientific Name: Planorbella campanulata smithi\n"
     ]
    },
    {
     "data": {
      "text/plain": [
       "{'class': 'Gastropoda',\n",
       " 'family': 'Planorbidae',\n",
       " 'genus': 'Planorbella',\n",
       " 'kingdom': 'Animalia',\n",
       " 'order': 'Basommatophora',\n",
       " 'phylum': 'Mollusca',\n",
       " 'taxonomicComments': '<i>Planorbella smithi</i> was originally named as a subspecies of <i>Planorbella campanulata</i>, the latter a taxon which also occurs in Douglas and Burt Lakes, Michigan. F.C. Baker later concluded that since \"the genitalia and radula differ somewhat from <i>campanulata</i>,\" <i>P. smithi</i> \"would seem to rank as a species. The shell characters are sufficient to separate the two forms as distinct at once.\" Most recently, Burch (1989) listed the species as a subspecies of <i>P. campanulata</i>.  Therefore, <i>P. smithi</i> is regarded as subspecies of<i> P. campanulata</i>.'}"
      ]
     },
     "metadata": {},
     "output_type": "display_data"
    },
    {
     "name": "stdout",
     "output_type": "stream",
     "text": [
      "Original Scientific Name: Eucosma giganteana\n",
      "NatureServe Scientific Name: Eucosma giganteana\n"
     ]
    },
    {
     "data": {
      "text/plain": [
       "{'class': 'Insecta',\n",
       " 'family': 'Tortricidae',\n",
       " 'genus': 'Eucosma',\n",
       " 'kingdom': 'Animalia',\n",
       " 'order': 'Lepidoptera',\n",
       " 'phylum': 'Mandibulata'}"
      ]
     },
     "metadata": {},
     "output_type": "display_data"
    },
    {
     "name": "stdout",
     "output_type": "stream",
     "text": [
      "Original Scientific Name: Oncocnemis piffardi\n",
      "NatureServe Scientific Name: Sympistis piffardi\n"
     ]
    },
    {
     "data": {
      "text/plain": [
       "{'class': 'Insecta',\n",
       " 'family': 'Noctuidae',\n",
       " 'genus': 'Sympistis',\n",
       " 'genusSize': {'code': 'D',\n",
       "  'description': 'D - Medium to large genus (21+ species)'},\n",
       " 'kingdom': 'Animalia',\n",
       " 'order': 'Lepidoptera',\n",
       " 'phylum': 'Mandibulata',\n",
       " 'taxonomicComments': 'The genus <i>Oncocnemis </i>was synonymized with <i>Sympistis </i>HÃ¼bner by Troubridge 2008.'}"
      ]
     },
     "metadata": {},
     "output_type": "display_data"
    },
    {
     "name": "stdout",
     "output_type": "stream",
     "text": [
      "Original Scientific Name: Lycaeides idas nabokovi\n",
      "NatureServe Scientific Name: Plebejus idas nabokovi\n"
     ]
    },
    {
     "data": {
      "text/plain": [
       "{'class': 'Insecta',\n",
       " 'family': 'Lycaenidae',\n",
       " 'genus': 'Plebejus',\n",
       " 'kingdom': 'Animalia',\n",
       " 'order': 'Lepidoptera',\n",
       " 'phylum': 'Mandibulata'}"
      ]
     },
     "metadata": {},
     "output_type": "display_data"
    },
    {
     "name": "stdout",
     "output_type": "stream",
     "text": [
      "Original Scientific Name: Dorydiella kansana\n",
      "NatureServe Scientific Name: Dorydiella kansana\n"
     ]
    },
    {
     "data": {
      "text/plain": [
       "{'class': 'Insecta',\n",
       " 'family': 'Cicadellidae',\n",
       " 'genus': 'Dorydiella',\n",
       " 'kingdom': 'Animalia',\n",
       " 'order': 'Homoptera',\n",
       " 'phylum': 'Mandibulata'}"
      ]
     },
     "metadata": {},
     "output_type": "display_data"
    },
    {
     "name": "stdout",
     "output_type": "stream",
     "text": [
      "Original Scientific Name: Flexamia huroni\n",
      "NatureServe Scientific Name: Flexamia huroni\n"
     ]
    },
    {
     "data": {
      "text/plain": [
       "{'class': 'Insecta',\n",
       " 'family': 'Cicadellidae',\n",
       " 'genus': 'Flexamia',\n",
       " 'kingdom': 'Animalia',\n",
       " 'order': 'Homoptera',\n",
       " 'phylum': 'Mandibulata'}"
      ]
     },
     "metadata": {},
     "output_type": "display_data"
    },
    {
     "name": "stdout",
     "output_type": "stream",
     "text": [
      "Original Scientific Name: Flexamia reflexus\n",
      "NatureServe Scientific Name: Flexamia reflexa\n"
     ]
    },
    {
     "data": {
      "text/plain": [
       "{'class': 'Insecta',\n",
       " 'family': 'Cicadellidae',\n",
       " 'genus': 'Flexamia',\n",
       " 'kingdom': 'Animalia',\n",
       " 'order': 'Homoptera',\n",
       " 'phylum': 'Mandibulata'}"
      ]
     },
     "metadata": {},
     "output_type": "display_data"
    },
    {
     "name": "stdout",
     "output_type": "stream",
     "text": [
      "Original Scientific Name: Euconulus alderi\n",
      "NatureServe Scientific Name: Euconulus alderi\n"
     ]
    },
    {
     "data": {
      "text/plain": [
       "{'class': 'Gastropoda',\n",
       " 'family': 'Helicarionidae',\n",
       " 'genus': 'Euconulus',\n",
       " 'kingdom': 'Animalia',\n",
       " 'order': 'Stylommatophora',\n",
       " 'phylum': 'Mollusca',\n",
       " 'taxonomicComments': 'May actually be the European <i>Euconulus praticola</i> (see Forsyth, 2004); opinions vary.'}"
      ]
     },
     "metadata": {},
     "output_type": "display_data"
    },
    {
     "name": "stdout",
     "output_type": "stream",
     "text": [
      "Original Scientific Name: Vallonia gracilicosta albula\n",
      "NatureServe Scientific Name: Vallonia albula\n"
     ]
    },
    {
     "data": {
      "text/plain": [
       "{'class': 'Gastropoda',\n",
       " 'family': 'Valloniidae',\n",
       " 'genus': 'Vallonia',\n",
       " 'kingdom': 'Animalia',\n",
       " 'order': 'Stylommatophora',\n",
       " 'phylum': 'Mollusca',\n",
       " 'taxonomicComments': 'Some confusion between <i>Vallonia gracilicosta</i>, <i>Vallonia sonorana</i>, and <i>Vallonia albula</i> where they may be distinct species, morphologic intergrades, or synonyms (see Metcalf and Smartt, 1997). Currently, <i>Vallonia gracilicosta</i> and <i>Vallonia albula</i> are recognized as distinct with <i>Vallonia sonorana</i> a synonym of <i>Vallonia gracilicosta</i> (see Turgeon et al., 1998).'}"
      ]
     },
     "metadata": {},
     "output_type": "display_data"
    },
    {
     "name": "stdout",
     "output_type": "stream",
     "text": [
      "Original Scientific Name: Vertigo modesta modesta\n",
      "NatureServe Scientific Name: Vertigo modesta modesta\n"
     ]
    },
    {
     "data": {
      "text/plain": [
       "{'class': 'Gastropoda',\n",
       " 'family': 'Pupillidae',\n",
       " 'genus': 'Vertigo',\n",
       " 'genusSize': {'code': 'D',\n",
       "  'description': 'D - Medium to large genus (21+ species)'},\n",
       " 'kingdom': 'Animalia',\n",
       " 'order': 'Stylommatophora',\n",
       " 'phylum': 'Mollusca',\n",
       " 'taxonomicComments': 'In a phylogenetic analysis of the <i>Vertigo gouldii </i>complex, Nekola et al. (2009) conclude that <i>Vertigo modesta </i>appears to be a species complex (Pilsbry, 1948). Nekola et al. (2009) further note that this aggregate in boreal and arctic North America shows the presence of at least three forms that possess consistent morphology and habitat preferences over wide geographical ranges. Also, the large <i>Vertigo cristata </i>morph has often been confused with <i>Vertigo modesta modesta </i>by previous researchers (see Nekola et al., 2009). Pending further taxonomic study, Nekola and Coles (2010) subdivide <i>Vertigo modesta</i> into subspecies: <i>Vertigo modesta arctica</i>, <i>Vertigo modesta hoppii</i>, <i>Vertigo modesta modesta</i>, and <i>Vertigo modesta ultima</i>.'}"
      ]
     },
     "metadata": {},
     "output_type": "display_data"
    },
    {
     "name": "stdout",
     "output_type": "stream",
     "text": [
      "Original Scientific Name: Vertigo modesta parietalis\n",
      "NatureServe Scientific Name: Vertigo modesta parietalis\n"
     ]
    },
    {
     "data": {
      "text/plain": [
       "{'class': 'Gastropoda',\n",
       " 'family': 'Pupillidae',\n",
       " 'genus': 'Vertigo',\n",
       " 'genusSize': {'code': 'D',\n",
       "  'description': 'D - Medium to large genus (21+ species)'},\n",
       " 'kingdom': 'Animalia',\n",
       " 'order': 'Stylommatophora',\n",
       " 'phylum': 'Mollusca'}"
      ]
     },
     "metadata": {},
     "output_type": "display_data"
    },
    {
     "name": "stdout",
     "output_type": "stream",
     "text": [
      "Original Scientific Name: Flexamia delongi\n",
      "NatureServe Scientific Name: Flexamia delongi\n"
     ]
    },
    {
     "data": {
      "text/plain": [
       "{'class': 'Insecta',\n",
       " 'family': 'Cicadellidae',\n",
       " 'genus': 'Flexamia',\n",
       " 'kingdom': 'Animalia',\n",
       " 'order': 'Homoptera',\n",
       " 'phylum': 'Mandibulata'}"
      ]
     },
     "metadata": {},
     "output_type": "display_data"
    },
    {
     "name": "stdout",
     "output_type": "stream",
     "text": [
      "Original Scientific Name: Heteropacha rileyana\n",
      "NatureServe Scientific Name: Heteropacha rileyana\n"
     ]
    },
    {
     "data": {
      "text/plain": [
       "{'class': 'Insecta',\n",
       " 'family': 'Lasiocampidae',\n",
       " 'genus': 'Heteropacha',\n",
       " 'kingdom': 'Animalia',\n",
       " 'order': 'Lepidoptera',\n",
       " 'phylum': 'Mandibulata'}"
      ]
     },
     "metadata": {},
     "output_type": "display_data"
    },
    {
     "name": "stdout",
     "output_type": "stream",
     "text": [
      "Original Scientific Name: Peromyscus maniculatus gracilis\n",
      "NatureServe Scientific Name: Peromyscus maniculatus gracilis\n"
     ]
    },
    {
     "data": {
      "text/plain": [
       "{'class': 'Mammalia',\n",
       " 'family': 'Cricetidae',\n",
       " 'genus': 'Peromyscus',\n",
       " 'genusSize': {'code': 'D',\n",
       "  'description': 'D - Medium to large genus (21+ species)'},\n",
       " 'kingdom': 'Animalia',\n",
       " 'order': 'Rodentia',\n",
       " 'phylum': 'Craniata'}"
      ]
     },
     "metadata": {},
     "output_type": "display_data"
    },
    {
     "name": "stdout",
     "output_type": "stream",
     "text": [
      "Original Scientific Name: Peromyscus maniculatus bairdii\n",
      "NatureServe Scientific Name: Peromyscus maniculatus bairdii\n"
     ]
    },
    {
     "data": {
      "text/plain": [
       "{'class': 'Mammalia',\n",
       " 'family': 'Cricetidae',\n",
       " 'genus': 'Peromyscus',\n",
       " 'genusSize': {'code': 'D',\n",
       "  'description': 'D - Medium to large genus (21+ species)'},\n",
       " 'kingdom': 'Animalia',\n",
       " 'order': 'Rodentia',\n",
       " 'phylum': 'Craniata'}"
      ]
     },
     "metadata": {},
     "output_type": "display_data"
    },
    {
     "name": "stdout",
     "output_type": "stream",
     "text": [
      "Original Scientific Name: Anafroptilum semirufum\n",
      "NatureServe Scientific Name: Centroptilum semirufum\n"
     ]
    },
    {
     "data": {
      "text/plain": [
       "{'class': 'Insecta',\n",
       " 'family': 'Baetidae',\n",
       " 'genus': 'Centroptilum',\n",
       " 'kingdom': 'Animalia',\n",
       " 'order': 'Ephemeroptera',\n",
       " 'phylum': 'Mandibulata'}"
      ]
     },
     "metadata": {},
     "output_type": "display_data"
    },
    {
     "name": "stdout",
     "output_type": "stream",
     "text": [
      "Original Scientific Name: Olceclostera angelica\n",
      "NatureServe Scientific Name: Olceclostera angelica\n"
     ]
    },
    {
     "data": {
      "text/plain": [
       "{'class': 'Insecta',\n",
       " 'family': 'Apatelodidae',\n",
       " 'genus': 'Olceclostera',\n",
       " 'kingdom': 'Animalia',\n",
       " 'order': 'Lepidoptera',\n",
       " 'phylum': 'Mandibulata'}"
      ]
     },
     "metadata": {},
     "output_type": "display_data"
    },
    {
     "name": "stdout",
     "output_type": "stream",
     "text": [
      "Original Scientific Name: Podosesia syringae\n",
      "NatureServe Scientific Name: Podosesia syringae\n"
     ]
    },
    {
     "data": {
      "text/plain": [
       "{'class': 'Insecta',\n",
       " 'family': 'Sesiidae',\n",
       " 'genus': 'Podosesia',\n",
       " 'kingdom': 'Animalia',\n",
       " 'order': 'Lepidoptera',\n",
       " 'phylum': 'Mandibulata'}"
      ]
     },
     "metadata": {},
     "output_type": "display_data"
    },
    {
     "name": "stdout",
     "output_type": "stream",
     "text": [
      "Original Scientific Name: Oreohelix peripherica wasatchensis\n",
      "NatureServe Scientific Name: Oreohelix peripherica wasatchensis\n"
     ]
    },
    {
     "data": {
      "text/plain": [
       "{'class': 'Gastropoda',\n",
       " 'family': 'Oreohelicidae',\n",
       " 'genus': 'Oreohelix',\n",
       " 'genusSize': {'code': 'D',\n",
       "  'description': 'D - Medium to large genus (21+ species)'},\n",
       " 'kingdom': 'Animalia',\n",
       " 'order': 'Stylommatophora',\n",
       " 'phylum': 'Mollusca',\n",
       " 'taxonomicComments': 'Weaver et al. (2008) concluded that specimens identified as <i>Oreohelix peripherica wasatchensis </i>are not monophyletic based on molecular and radular data; and instead show two distinct clades within \"<i>O. peripherica wasatchensis</i>\", one that nests within a different species, <i>Oreohelix strigosa</i>, and one that is a sister group to <i>Oreohelix peripherica peripherica</i>.  Clade A is monophyletic within the larger <i>O. strigosa</i> clade and comprises individuals that have been referred to as <i>O. peripherica wasatchensis</i>, from the mouth of Ogden Canyon, Utah, as well as individuals identiied as <i>O. strigosa</i> from Snow Basin, Utah (however, it may be distinctive enough, phylogenetically, genetically, and geographically, from its sister taxon, <i>O. strigosa</i>, to be considered a distinct biological unit).  Clade B, identified by Weaver et al. (2008) as presumptive \"<i>O. peripherica wasatchensis</i>\", is a monophyletic sister to <i>O. peripherica peripherica</i> and is not isolated to Ogden Canyon, but is also found in Taylor Canyon and along the Wasatch Front Range in close proximity to the city of Ogden.  This is a larger area than was originally suspected for <i>O. peripherica wasatchensis </i>(now 0.1-10 square km compared to 0.1-1.0 square km in Clarke and Hovingh, 1993; Meadows, 2002; USFWS, 2003).  A third clade, not yet resuolved, is from the Nebo Creek area of Utah and is sister to <i>Oreohelix haydeni </i>but more sampling is necessary to determine its distinctiveness (Weaver et al., 2008).'}"
      ]
     },
     "metadata": {},
     "output_type": "display_data"
    },
    {
     "name": "stdout",
     "output_type": "stream",
     "text": [
      "Original Scientific Name: Agonopterix lythrella\n",
      "NatureServe Scientific Name: Agonopterix lythrella\n"
     ]
    },
    {
     "data": {
      "text/plain": [
       "{'class': 'Insecta',\n",
       " 'family': 'Elachistidae',\n",
       " 'genus': 'Agonopterix',\n",
       " 'kingdom': 'Animalia',\n",
       " 'order': 'Lepidoptera',\n",
       " 'phylum': 'Mandibulata'}"
      ]
     },
     "metadata": {},
     "output_type": "display_data"
    },
    {
     "name": "stdout",
     "output_type": "stream",
     "text": [
      "Original Scientific Name: Ambesa laetella\n",
      "NatureServe Scientific Name: Ambesa laetella\n"
     ]
    },
    {
     "data": {
      "text/plain": [
       "{'class': 'Insecta',\n",
       " 'family': 'Pyralidae',\n",
       " 'genus': 'Ambesa',\n",
       " 'kingdom': 'Animalia',\n",
       " 'order': 'Lepidoptera',\n",
       " 'phylum': 'Mandibulata'}"
      ]
     },
     "metadata": {},
     "output_type": "display_data"
    },
    {
     "name": "stdout",
     "output_type": "stream",
     "text": [
      "Original Scientific Name: Aristotelia elegantella\n",
      "NatureServe Scientific Name: Aristotelia elegantella\n"
     ]
    },
    {
     "data": {
      "text/plain": [
       "{'class': 'Insecta',\n",
       " 'family': 'Gelechiidae',\n",
       " 'genus': 'Aristotelia',\n",
       " 'kingdom': 'Animalia',\n",
       " 'order': 'Lepidoptera',\n",
       " 'phylum': 'Mandibulata'}"
      ]
     },
     "metadata": {},
     "output_type": "display_data"
    },
    {
     "name": "stdout",
     "output_type": "stream",
     "text": [
      "Original Scientific Name: Aterpia approximana\n",
      "NatureServe Scientific Name: Aterpia approximana\n"
     ]
    },
    {
     "data": {
      "text/plain": [
       "{'class': 'Insecta',\n",
       " 'family': 'Tortricidae',\n",
       " 'genus': 'Aterpia',\n",
       " 'kingdom': 'Animalia',\n",
       " 'order': 'Lepidoptera',\n",
       " 'phylum': 'Mandibulata'}"
      ]
     },
     "metadata": {},
     "output_type": "display_data"
    },
    {
     "name": "stdout",
     "output_type": "stream",
     "text": [
      "Original Scientific Name: Auridius helvus\n",
      "NatureServe Scientific Name: Auridius helvus\n"
     ]
    },
    {
     "data": {
      "text/plain": [
       "{'class': 'Insecta',\n",
       " 'family': 'Cicadellidae',\n",
       " 'genus': 'Auridius',\n",
       " 'kingdom': 'Animalia',\n",
       " 'order': 'Homoptera',\n",
       " 'phylum': 'Mandibulata'}"
      ]
     },
     "metadata": {},
     "output_type": "display_data"
    },
    {
     "name": "stdout",
     "output_type": "stream",
     "text": [
      "Original Scientific Name: Bruchomorpha extensa\n",
      "NatureServe Scientific Name: Bruchomorpha extensa\n"
     ]
    },
    {
     "data": {
      "text/plain": [
       "{'class': 'Insecta',\n",
       " 'family': 'Issidae',\n",
       " 'genus': 'Bruchomorpha',\n",
       " 'kingdom': 'Animalia',\n",
       " 'order': 'Homoptera',\n",
       " 'phylum': 'Mandibulata'}"
      ]
     },
     "metadata": {},
     "output_type": "display_data"
    },
    {
     "name": "stdout",
     "output_type": "stream",
     "text": [
      "Original Scientific Name: Carectocultus perstrialis\n",
      "NatureServe Scientific Name: Scirpophaga perstrialis\n"
     ]
    },
    {
     "data": {
      "text/plain": [
       "{'class': 'Insecta',\n",
       " 'family': 'Crambidae',\n",
       " 'genus': 'Scirpophaga',\n",
       " 'kingdom': 'Animalia',\n",
       " 'order': 'Lepidoptera',\n",
       " 'phylum': 'Mandibulata'}"
      ]
     },
     "metadata": {},
     "output_type": "display_data"
    },
    {
     "name": "stdout",
     "output_type": "stream",
     "text": [
      "Original Scientific Name: Chlorotettix dentatus\n",
      "NatureServe Scientific Name: Chlorotettix dentatus\n"
     ]
    },
    {
     "data": {
      "text/plain": [
       "{'class': 'Insecta',\n",
       " 'family': 'Cicadellidae',\n",
       " 'genus': 'Chlorotettix',\n",
       " 'kingdom': 'Animalia',\n",
       " 'order': 'Homoptera',\n",
       " 'phylum': 'Mandibulata'}"
      ]
     },
     "metadata": {},
     "output_type": "display_data"
    },
    {
     "name": "stdout",
     "output_type": "stream",
     "text": [
      "Original Scientific Name: Chortodes (Hypocoena) defecta\n",
      "'Cleaned' Scientific Name (for processing): Chortodes defecta\n",
      "NatureServe Scientific Name: Photedes defecta\n"
     ]
    },
    {
     "data": {
      "text/plain": [
       "{'class': 'Insecta',\n",
       " 'family': 'Noctuidae',\n",
       " 'genus': 'Photedes',\n",
       " 'kingdom': 'Animalia',\n",
       " 'order': 'Lepidoptera',\n",
       " 'phylum': 'Mandibulata',\n",
       " 'taxonomicComments': 'Listed as <i>\"Photedes\"</i> by Lafontaine and Schmidt (2010) to indicate that generic placement is uncertain.'}"
      ]
     },
     "metadata": {},
     "output_type": "display_data"
    },
    {
     "name": "stdout",
     "output_type": "stream",
     "text": [
      "Original Scientific Name: Chortodes (Hypocoena) enervata\n",
      "'Cleaned' Scientific Name (for processing): Chortodes enervata\n",
      "NatureServe Scientific Name: Photedes enervata\n"
     ]
    },
    {
     "data": {
      "text/plain": [
       "{'class': 'Insecta',\n",
       " 'family': 'Noctuidae',\n",
       " 'genus': 'Photedes',\n",
       " 'kingdom': 'Animalia',\n",
       " 'order': 'Lepidoptera',\n",
       " 'phylum': 'Mandibulata',\n",
       " 'taxonomicComments': 'Listed as <i>\"Photedes\"</i> by Lafontaine and Schmidt (2010) to indicate that generic placement is uncertain.'}"
      ]
     },
     "metadata": {},
     "output_type": "display_data"
    },
    {
     "name": "stdout",
     "output_type": "stream",
     "text": [
      "Original Scientific Name: Chortodes (Hypocoena) inquinata\n",
      "'Cleaned' Scientific Name (for processing): Chortodes inquinata\n",
      "NatureServe Scientific Name: Hypocoena inquinata\n"
     ]
    },
    {
     "data": {
      "text/plain": [
       "{'class': 'Insecta',\n",
       " 'family': 'Noctuidae',\n",
       " 'genus': 'Hypocoena',\n",
       " 'kingdom': 'Animalia',\n",
       " 'order': 'Lepidoptera',\n",
       " 'phylum': 'Mandibulata'}"
      ]
     },
     "metadata": {},
     "output_type": "display_data"
    },
    {
     "name": "stdout",
     "output_type": "stream",
     "text": [
      "Original Scientific Name: Commellus colon\n",
      "NatureServe Scientific Name: Commellus colon\n"
     ]
    },
    {
     "data": {
      "text/plain": [
       "{'class': 'Insecta',\n",
       " 'family': 'Cicadellidae',\n",
       " 'genus': 'Commellus',\n",
       " 'kingdom': 'Animalia',\n",
       " 'order': 'Homoptera',\n",
       " 'phylum': 'Mandibulata'}"
      ]
     },
     "metadata": {},
     "output_type": "display_data"
    },
    {
     "name": "stdout",
     "output_type": "stream",
     "text": [
      "Original Scientific Name: Cosmotettix bilineatus\n",
      "NatureServe Scientific Name: Cosmotettix bilineatus\n"
     ]
    },
    {
     "data": {
      "text/plain": [
       "{'class': 'Insecta',\n",
       " 'family': 'Cicadellidae',\n",
       " 'genus': 'Cosmotettix',\n",
       " 'kingdom': 'Animalia',\n",
       " 'order': 'Homoptera',\n",
       " 'phylum': 'Mandibulata'}"
      ]
     },
     "metadata": {},
     "output_type": "display_data"
    },
    {
     "name": "stdout",
     "output_type": "stream",
     "text": [
      "Original Scientific Name: Cosmotettix luteocephalus\n",
      "NatureServe Scientific Name: Cosmotettix luteocephalus\n"
     ]
    },
    {
     "data": {
      "text/plain": [
       "{'class': 'Insecta',\n",
       " 'family': 'Cicadellidae',\n",
       " 'genus': 'Cosmotettix',\n",
       " 'kingdom': 'Animalia',\n",
       " 'order': 'Homoptera',\n",
       " 'phylum': 'Mandibulata'}"
      ]
     },
     "metadata": {},
     "output_type": "display_data"
    },
    {
     "name": "stdout",
     "output_type": "stream",
     "text": [
      "Original Scientific Name: Crambus girardellus\n",
      "NatureServe Scientific Name: Crambus girardellus\n"
     ]
    },
    {
     "data": {
      "text/plain": [
       "{'class': 'Insecta',\n",
       " 'family': 'Crambidae',\n",
       " 'genus': 'Crambus',\n",
       " 'genusSize': {'code': 'D',\n",
       "  'description': 'D - Medium to large genus (21+ species)'},\n",
       " 'kingdom': 'Animalia',\n",
       " 'order': 'Lepidoptera',\n",
       " 'phylum': 'Mandibulata',\n",
       " 'taxonomicComments': \"This species is also known as Girard's Grass-veneer Moth.\"}"
      ]
     },
     "metadata": {},
     "output_type": "display_data"
    },
    {
     "name": "stdout",
     "output_type": "stream",
     "text": [
      "Original Scientific Name: Crambus murellus\n",
      "NatureServe Scientific Name: Neodactria murellus\n"
     ]
    },
    {
     "data": {
      "text/plain": [
       "{'class': 'Insecta',\n",
       " 'family': 'Crambidae',\n",
       " 'genus': 'Neodactria',\n",
       " 'genusSize': {'code': 'C', 'description': 'C - Small genus (6-20 species)'},\n",
       " 'kingdom': 'Animalia',\n",
       " 'order': 'Lepidoptera',\n",
       " 'phylum': 'Mandibulata'}"
      ]
     },
     "metadata": {},
     "output_type": "display_data"
    },
    {
     "name": "stdout",
     "output_type": "stream",
     "text": [
      "Original Scientific Name: Crambus watsonellus\n",
      "NatureServe Scientific Name: Crambus watsonellus\n"
     ]
    },
    {
     "data": {
      "text/plain": [
       "{'class': 'Insecta',\n",
       " 'family': 'Crambidae',\n",
       " 'genus': 'Crambus',\n",
       " 'genusSize': {'code': 'D',\n",
       "  'description': 'D - Medium to large genus (21+ species)'},\n",
       " 'kingdom': 'Animalia',\n",
       " 'order': 'Lepidoptera',\n",
       " 'phylum': 'Mandibulata'}"
      ]
     },
     "metadata": {},
     "output_type": "display_data"
    },
    {
     "name": "stdout",
     "output_type": "stream",
     "text": [
      "Original Scientific Name: Deltocephalus gnarus\n",
      "NatureServe Scientific Name: Deltocephalus gnarus\n"
     ]
    },
    {
     "data": {
      "text/plain": [
       "{'class': 'Insecta',\n",
       " 'family': 'Cicadellidae',\n",
       " 'genus': 'Deltocephalus',\n",
       " 'kingdom': 'Animalia',\n",
       " 'order': 'Homoptera',\n",
       " 'phylum': 'Mandibulata'}"
      ]
     },
     "metadata": {},
     "output_type": "display_data"
    },
    {
     "name": "stdout",
     "output_type": "stream",
     "text": [
      "Original Scientific Name: Eucosma palabundana\n",
      "NatureServe Scientific Name: Pelochrista palabundana\n"
     ]
    },
    {
     "data": {
      "text/plain": [
       "{'class': 'Insecta',\n",
       " 'family': 'Tortricidae',\n",
       " 'genus': 'Pelochrista',\n",
       " 'genusSize': {'code': 'D',\n",
       "  'description': 'D - Medium to large genus (21+ species)'},\n",
       " 'kingdom': 'Animalia',\n",
       " 'order': 'Lepidoptera',\n",
       " 'phylum': 'Mandibulata'}"
      ]
     },
     "metadata": {},
     "output_type": "display_data"
    },
    {
     "name": "stdout",
     "output_type": "stream",
     "text": [
      "Original Scientific Name: Eucosma sombreana\n",
      "NatureServe Scientific Name: Eucosma sombreana\n"
     ]
    },
    {
     "data": {
      "text/plain": [
       "{'class': 'Insecta',\n",
       " 'family': 'Tortricidae',\n",
       " 'genus': 'Eucosma',\n",
       " 'kingdom': 'Animalia',\n",
       " 'order': 'Lepidoptera',\n",
       " 'phylum': 'Mandibulata'}"
      ]
     },
     "metadata": {},
     "output_type": "display_data"
    },
    {
     "name": "stdout",
     "output_type": "stream",
     "text": [
      "Original Scientific Name: Flexamia areolata\n",
      "NatureServe Scientific Name: Flexamia areolata\n"
     ]
    },
    {
     "data": {
      "text/plain": [
       "{'class': 'Insecta',\n",
       " 'family': 'Cicadellidae',\n",
       " 'genus': 'Flexamia',\n",
       " 'kingdom': 'Animalia',\n",
       " 'order': 'Homoptera',\n",
       " 'phylum': 'Mandibulata'}"
      ]
     },
     "metadata": {},
     "output_type": "display_data"
    },
    {
     "name": "stdout",
     "output_type": "stream",
     "text": [
      "Original Scientific Name: Flexamia atlantica\n",
      "NatureServe Scientific Name: Flexamia atlantica\n"
     ]
    },
    {
     "data": {
      "text/plain": [
       "{'class': 'Insecta',\n",
       " 'family': 'Cicadellidae',\n",
       " 'genus': 'Flexamia',\n",
       " 'kingdom': 'Animalia',\n",
       " 'order': 'Homoptera',\n",
       " 'phylum': 'Mandibulata'}"
      ]
     },
     "metadata": {},
     "output_type": "display_data"
    },
    {
     "name": "stdout",
     "output_type": "stream",
     "text": [
      "Original Scientific Name: Flexamia pyrops\n",
      "NatureServe Scientific Name: Flexamia pyrops\n"
     ]
    },
    {
     "data": {
      "text/plain": [
       "{'class': 'Insecta',\n",
       " 'family': 'Cicadellidae',\n",
       " 'genus': 'Flexamia',\n",
       " 'kingdom': 'Animalia',\n",
       " 'order': 'Homoptera',\n",
       " 'phylum': 'Mandibulata'}"
      ]
     },
     "metadata": {},
     "output_type": "display_data"
    },
    {
     "name": "stdout",
     "output_type": "stream",
     "text": [
      "Original Scientific Name: Graminella oquaka\n",
      "NatureServe Scientific Name: Graminella oquaka\n"
     ]
    },
    {
     "data": {
      "text/plain": [
       "{'class': 'Insecta',\n",
       " 'family': 'Cicadellidae',\n",
       " 'genus': 'Graminella',\n",
       " 'kingdom': 'Animalia',\n",
       " 'order': 'Homoptera',\n",
       " 'phylum': 'Mandibulata'}"
      ]
     },
     "metadata": {},
     "output_type": "display_data"
    },
    {
     "name": "stdout",
     "output_type": "stream",
     "text": [
      "Original Scientific Name: Grapholita tristrigana\n",
      "NatureServe Scientific Name: Grapholita tristrigana\n"
     ]
    },
    {
     "data": {
      "text/plain": [
       "{'class': 'Insecta',\n",
       " 'family': 'Tortricidae',\n",
       " 'genus': 'Grapholita',\n",
       " 'kingdom': 'Animalia',\n",
       " 'order': 'Lepidoptera',\n",
       " 'phylum': 'Mandibulata'}"
      ]
     },
     "metadata": {},
     "output_type": "display_data"
    },
    {
     "name": "stdout",
     "output_type": "stream",
     "text": [
      "Original Scientific Name: Incisalia polios\n",
      "NatureServe Scientific Name: Callophrys polios\n"
     ]
    },
    {
     "data": {
      "text/plain": [
       "{'class': 'Insecta',\n",
       " 'family': 'Lycaenidae',\n",
       " 'genus': 'Callophrys',\n",
       " 'genusSize': {'code': 'D',\n",
       "  'description': 'D - Medium to large genus (21+ species)'},\n",
       " 'kingdom': 'Animalia',\n",
       " 'order': 'Lepidoptera',\n",
       " 'phylum': 'Mandibulata'}"
      ]
     },
     "metadata": {},
     "output_type": "display_data"
    },
    {
     "name": "stdout",
     "output_type": "stream",
     "text": [
      "Original Scientific Name: Kansendria kansiensis\n",
      "NatureServe Scientific Name: Kansendria kansiensis\n"
     ]
    },
    {
     "data": {
      "text/plain": [
       "{'class': 'Insecta',\n",
       " 'family': 'Cicadellidae',\n",
       " 'genus': 'Kansendria',\n",
       " 'kingdom': 'Animalia',\n",
       " 'order': 'Homoptera',\n",
       " 'phylum': 'Mandibulata'}"
      ]
     },
     "metadata": {},
     "output_type": "display_data"
    },
    {
     "name": "stdout",
     "output_type": "stream",
     "text": [
      "Original Scientific Name: Laevicephalus minimus\n",
      "NatureServe Scientific Name: Laevicephalus minimus\n"
     ]
    },
    {
     "data": {
      "text/plain": [
       "{'class': 'Insecta',\n",
       " 'family': 'Cicadellidae',\n",
       " 'genus': 'Laevicephalus',\n",
       " 'kingdom': 'Animalia',\n",
       " 'order': 'Homoptera',\n",
       " 'phylum': 'Mandibulata'}"
      ]
     },
     "metadata": {},
     "output_type": "display_data"
    },
    {
     "name": "stdout",
     "output_type": "stream",
     "text": [
      "Original Scientific Name: Laevicephalus peronatus\n",
      "NatureServe Scientific Name: Laevicephalus peronatus\n"
     ]
    },
    {
     "data": {
      "text/plain": [
       "{'class': 'Insecta',\n",
       " 'family': 'Cicadellidae',\n",
       " 'genus': 'Laevicephalus',\n",
       " 'kingdom': 'Animalia',\n",
       " 'order': 'Homoptera',\n",
       " 'phylum': 'Mandibulata'}"
      ]
     },
     "metadata": {},
     "output_type": "display_data"
    },
    {
     "name": "stdout",
     "output_type": "stream",
     "text": [
      "Original Scientific Name: Limotettix nigrax\n",
      "NatureServe Scientific Name: Limotettix nigrax\n"
     ]
    },
    {
     "data": {
      "text/plain": [
       "{'class': 'Insecta',\n",
       " 'family': 'Cicadellidae',\n",
       " 'genus': 'Limotettix',\n",
       " 'kingdom': 'Animalia',\n",
       " 'order': 'Homoptera',\n",
       " 'phylum': 'Mandibulata'}"
      ]
     },
     "metadata": {},
     "output_type": "display_data"
    },
    {
     "name": "stdout",
     "output_type": "stream",
     "text": [
      "Original Scientific Name: Loxagrotis grotei\n",
      "NatureServe Scientific Name: Dichagyris grotei\n"
     ]
    },
    {
     "data": {
      "text/plain": [
       "{'class': 'Insecta',\n",
       " 'family': 'Noctuidae',\n",
       " 'genus': 'Dichagyris',\n",
       " 'kingdom': 'Animalia',\n",
       " 'order': 'Lepidoptera',\n",
       " 'phylum': 'Mandibulata',\n",
       " 'taxonomicComments': 'Poole Catalogue sinks <i>Loxagrotis </i>to <i>Richia</i>.'}"
      ]
     },
     "metadata": {},
     "output_type": "display_data"
    },
    {
     "name": "stdout",
     "output_type": "stream",
     "text": [
      "Original Scientific Name: Loxocrambus awemensis\n",
      "NatureServe Scientific Name: Loxocrambus awemensis\n"
     ]
    },
    {
     "data": {
      "text/plain": [
       "{'class': 'Insecta',\n",
       " 'family': 'Crambidae',\n",
       " 'genus': 'Loxocrambus',\n",
       " 'kingdom': 'Animalia',\n",
       " 'order': 'Lepidoptera',\n",
       " 'phylum': 'Mandibulata'}"
      ]
     },
     "metadata": {},
     "output_type": "display_data"
    },
    {
     "name": "stdout",
     "output_type": "stream",
     "text": [
      "Original Scientific Name: Mesamia straminea\n",
      "NatureServe Scientific Name: Mesamia straminea\n"
     ]
    },
    {
     "data": {
      "text/plain": [
       "{'class': 'Insecta',\n",
       " 'family': 'Cicadellidae',\n",
       " 'genus': 'Mesamia',\n",
       " 'kingdom': 'Animalia',\n",
       " 'order': 'Homoptera',\n",
       " 'phylum': 'Mandibulata'}"
      ]
     },
     "metadata": {},
     "output_type": "display_data"
    },
    {
     "name": "stdout",
     "output_type": "stream",
     "text": [
      "Original Scientific Name: Nephopterix dammersi\n",
      "NatureServe Scientific Name: Sciota dammersi\n"
     ]
    },
    {
     "data": {
      "text/plain": [
       "{'class': 'Insecta',\n",
       " 'family': 'Pyralidae',\n",
       " 'genus': 'Sciota',\n",
       " 'genusSize': {'code': 'D',\n",
       "  'description': 'D - Medium to large genus (21+ species)'},\n",
       " 'kingdom': 'Animalia',\n",
       " 'order': 'Lepidoptera',\n",
       " 'phylum': 'Mandibulata'}"
      ]
     },
     "metadata": {},
     "output_type": "display_data"
    },
    {
     "name": "stdout",
     "output_type": "stream",
     "text": [
      "Original Scientific Name: Olethreutes comandrana\n",
      "NatureServe Scientific Name: Olethreutes comandrana\n"
     ]
    },
    {
     "data": {
      "text/plain": [
       "{'class': 'Insecta',\n",
       " 'family': 'Tortricidae',\n",
       " 'genus': 'Olethreutes',\n",
       " 'kingdom': 'Animalia',\n",
       " 'order': 'Lepidoptera',\n",
       " 'phylum': 'Mandibulata'}"
      ]
     },
     "metadata": {},
     "output_type": "display_data"
    },
    {
     "name": "stdout",
     "output_type": "stream",
     "text": [
      "Original Scientific Name: Olethreutes osmundana\n",
      "NatureServe Scientific Name: Olethreutes osmundana\n"
     ]
    },
    {
     "data": {
      "text/plain": [
       "{'class': 'Insecta',\n",
       " 'family': 'Tortricidae',\n",
       " 'genus': 'Olethreutes',\n",
       " 'kingdom': 'Animalia',\n",
       " 'order': 'Lepidoptera',\n",
       " 'phylum': 'Mandibulata'}"
      ]
     },
     "metadata": {},
     "output_type": "display_data"
    },
    {
     "name": "stdout",
     "output_type": "stream",
     "text": [
      "Original Scientific Name: Oncocnemis saundersiana\n",
      "NatureServe Scientific Name: Sympistis saundersiana\n"
     ]
    },
    {
     "data": {
      "text/plain": [
       "{'class': 'Insecta',\n",
       " 'family': 'Noctuidae',\n",
       " 'genus': 'Sympistis',\n",
       " 'genusSize': {'code': 'D',\n",
       "  'description': 'D - Medium to large genus (21+ species)'},\n",
       " 'kingdom': 'Animalia',\n",
       " 'order': 'Lepidoptera',\n",
       " 'phylum': 'Mandibulata',\n",
       " 'taxonomicComments': 'The genus <i>Oncocnemis </i>was synonymized with <i>Sympistis </i>HÃ¼bner by Troubridge 2008.'}"
      ]
     },
     "metadata": {},
     "output_type": "display_data"
    },
    {
     "name": "stdout",
     "output_type": "stream",
     "text": [
      "Original Scientific Name: Oncocnemis viriditincta\n",
      "NatureServe Scientific Name: Sympistis viriditincta\n"
     ]
    },
    {
     "data": {
      "text/plain": [
       "{'class': 'Insecta',\n",
       " 'family': 'Noctuidae',\n",
       " 'genus': 'Sympistis',\n",
       " 'genusSize': {'code': 'D',\n",
       "  'description': 'D - Medium to large genus (21+ species)'},\n",
       " 'kingdom': 'Animalia',\n",
       " 'order': 'Lepidoptera',\n",
       " 'phylum': 'Mandibulata',\n",
       " 'taxonomicComments': 'The genus <i>Oncocnemis </i>was synonymized with <i>Sympistis </i>HÃ¼bner by Troubridge 2008.'}"
      ]
     },
     "metadata": {},
     "output_type": "display_data"
    },
    {
     "name": "stdout",
     "output_type": "stream",
     "text": [
      "Original Scientific Name: Paraphlepsius altus\n",
      "NatureServe Scientific Name: Paraphlepsius altus\n"
     ]
    },
    {
     "data": {
      "text/plain": [
       "{'class': 'Insecta',\n",
       " 'family': 'Cicadellidae',\n",
       " 'genus': 'Paraphlepsius',\n",
       " 'kingdom': 'Animalia',\n",
       " 'order': 'Homoptera',\n",
       " 'phylum': 'Mandibulata'}"
      ]
     },
     "metadata": {},
     "output_type": "display_data"
    },
    {
     "name": "stdout",
     "output_type": "stream",
     "text": [
      "Original Scientific Name: Paraphlepsius electus\n",
      "NatureServe Scientific Name: Paraphlepsius electus\n"
     ]
    },
    {
     "data": {
      "text/plain": [
       "{'class': 'Insecta',\n",
       " 'family': 'Cicadellidae',\n",
       " 'genus': 'Paraphlepsius',\n",
       " 'kingdom': 'Animalia',\n",
       " 'order': 'Homoptera',\n",
       " 'phylum': 'Mandibulata'}"
      ]
     },
     "metadata": {},
     "output_type": "display_data"
    },
    {
     "name": "stdout",
     "output_type": "stream",
     "text": [
      "Original Scientific Name: Paraphlepsius humidus\n",
      "NatureServe Scientific Name: Paraphlepsius humidus\n"
     ]
    },
    {
     "data": {
      "text/plain": [
       "{'class': 'Insecta',\n",
       " 'family': 'Cicadellidae',\n",
       " 'genus': 'Paraphlepsius',\n",
       " 'kingdom': 'Animalia',\n",
       " 'order': 'Homoptera',\n",
       " 'phylum': 'Mandibulata'}"
      ]
     },
     "metadata": {},
     "output_type": "display_data"
    },
    {
     "name": "stdout",
     "output_type": "stream",
     "text": [
      "Original Scientific Name: Paraphlepsius incisus\n",
      "NatureServe Scientific Name: Paraphlepsius incisus\n"
     ]
    },
    {
     "data": {
      "text/plain": [
       "{'class': 'Insecta',\n",
       " 'family': 'Cicadellidae',\n",
       " 'genus': 'Paraphlepsius',\n",
       " 'kingdom': 'Animalia',\n",
       " 'order': 'Homoptera',\n",
       " 'phylum': 'Mandibulata'}"
      ]
     },
     "metadata": {},
     "output_type": "display_data"
    },
    {
     "name": "stdout",
     "output_type": "stream",
     "text": [
      "Original Scientific Name: Paraphlepsius lascivius\n",
      "NatureServe Scientific Name: Paraphlepsius lascivius\n"
     ]
    },
    {
     "data": {
      "text/plain": [
       "{'class': 'Insecta',\n",
       " 'family': 'Cicadellidae',\n",
       " 'genus': 'Paraphlepsius',\n",
       " 'kingdom': 'Animalia',\n",
       " 'order': 'Homoptera',\n",
       " 'phylum': 'Mandibulata'}"
      ]
     },
     "metadata": {},
     "output_type": "display_data"
    },
    {
     "name": "stdout",
     "output_type": "stream",
     "text": [
      "Original Scientific Name: Paraphlepsius lupalus\n",
      "NatureServe Scientific Name: Paraphlepsius lupalus\n"
     ]
    },
    {
     "data": {
      "text/plain": [
       "{'class': 'Insecta',\n",
       " 'family': 'Cicadellidae',\n",
       " 'genus': 'Paraphlepsius',\n",
       " 'kingdom': 'Animalia',\n",
       " 'order': 'Homoptera',\n",
       " 'phylum': 'Mandibulata'}"
      ]
     },
     "metadata": {},
     "output_type": "display_data"
    },
    {
     "name": "stdout",
     "output_type": "stream",
     "text": [
      "Original Scientific Name: Paraphlepsius solidaginis\n",
      "NatureServe Scientific Name: Paraphlepsius solidaginis\n"
     ]
    },
    {
     "data": {
      "text/plain": [
       "{'class': 'Insecta',\n",
       " 'family': 'Cicadellidae',\n",
       " 'genus': 'Paraphlepsius',\n",
       " 'kingdom': 'Animalia',\n",
       " 'order': 'Homoptera',\n",
       " 'phylum': 'Mandibulata'}"
      ]
     },
     "metadata": {},
     "output_type": "display_data"
    },
    {
     "name": "stdout",
     "output_type": "stream",
     "text": [
      "Original Scientific Name: Paraphlepsius texanus\n",
      "NatureServe Scientific Name: Paraphlepsius texanus\n"
     ]
    },
    {
     "data": {
      "text/plain": [
       "{'class': 'Insecta',\n",
       " 'family': 'Cicadellidae',\n",
       " 'genus': 'Paraphlepsius',\n",
       " 'kingdom': 'Animalia',\n",
       " 'order': 'Homoptera',\n",
       " 'phylum': 'Mandibulata'}"
      ]
     },
     "metadata": {},
     "output_type": "display_data"
    },
    {
     "name": "stdout",
     "output_type": "stream",
     "text": [
      "Original Scientific Name: Paraphlepsius umbrosus\n",
      "NatureServe Scientific Name: Paraphlepsius umbrosus\n"
     ]
    },
    {
     "data": {
      "text/plain": [
       "{'class': 'Insecta',\n",
       " 'family': 'Cicadellidae',\n",
       " 'genus': 'Paraphlepsius',\n",
       " 'kingdom': 'Animalia',\n",
       " 'order': 'Homoptera',\n",
       " 'phylum': 'Mandibulata'}"
      ]
     },
     "metadata": {},
     "output_type": "display_data"
    },
    {
     "name": "stdout",
     "output_type": "stream",
     "text": [
      "Original Scientific Name: Pediasia abnaki\n",
      "NatureServe Scientific Name: Pediasia abnaki\n"
     ]
    },
    {
     "data": {
      "text/plain": [
       "{'class': 'Insecta',\n",
       " 'family': 'Crambidae',\n",
       " 'genus': 'Pediasia',\n",
       " 'kingdom': 'Animalia',\n",
       " 'order': 'Lepidoptera',\n",
       " 'phylum': 'Mandibulata'}"
      ]
     },
     "metadata": {},
     "output_type": "display_data"
    },
    {
     "name": "stdout",
     "output_type": "stream",
     "text": [
      "Original Scientific Name: Peltonotellus histrionicus\n",
      "NatureServe Scientific Name: Aphelonema histrionicus\n"
     ]
    },
    {
     "data": {
      "text/plain": [
       "{'class': 'Insecta',\n",
       " 'family': 'Issidae',\n",
       " 'genus': 'Aphelonema',\n",
       " 'kingdom': 'Animalia',\n",
       " 'order': 'Homoptera',\n",
       " 'phylum': 'Mandibulata'}"
      ]
     },
     "metadata": {},
     "output_type": "display_data"
    },
    {
     "name": "stdout",
     "output_type": "stream",
     "text": [
      "Original Scientific Name: Platytes vobisne\n",
      "NatureServe Scientific Name: Platytes vobisne\n"
     ]
    },
    {
     "data": {
      "text/plain": [
       "{'class': 'Insecta',\n",
       " 'family': 'Crambidae',\n",
       " 'genus': 'Platytes',\n",
       " 'kingdom': 'Animalia',\n",
       " 'order': 'Lepidoptera',\n",
       " 'phylum': 'Mandibulata'}"
      ]
     },
     "metadata": {},
     "output_type": "display_data"
    },
    {
     "name": "stdout",
     "output_type": "stream",
     "text": [
      "Original Scientific Name: Polyamia compacta\n",
      "NatureServe Scientific Name: Polyamia compacta\n"
     ]
    },
    {
     "data": {
      "text/plain": [
       "{'class': 'Insecta',\n",
       " 'family': 'Cicadellidae',\n",
       " 'genus': 'Polyamia',\n",
       " 'kingdom': 'Animalia',\n",
       " 'order': 'Homoptera',\n",
       " 'phylum': 'Mandibulata'}"
      ]
     },
     "metadata": {},
     "output_type": "display_data"
    },
    {
     "name": "stdout",
     "output_type": "stream",
     "text": [
      "Original Scientific Name: Polyamia obtecta\n",
      "NatureServe Scientific Name: Polyamia obtecta\n"
     ]
    },
    {
     "data": {
      "text/plain": [
       "{'class': 'Insecta',\n",
       " 'family': 'Cicadellidae',\n",
       " 'genus': 'Polyamia',\n",
       " 'kingdom': 'Animalia',\n",
       " 'order': 'Homoptera',\n",
       " 'phylum': 'Mandibulata'}"
      ]
     },
     "metadata": {},
     "output_type": "display_data"
    },
    {
     "name": "stdout",
     "output_type": "stream",
     "text": [
      "Original Scientific Name: Prionapteryx nebulifera\n",
      "NatureServe Scientific Name: Prionapteryx nebulifera\n"
     ]
    },
    {
     "data": {
      "text/plain": [
       "{'class': 'Insecta',\n",
       " 'family': 'Crambidae',\n",
       " 'genus': 'Prionapteryx',\n",
       " 'kingdom': 'Animalia',\n",
       " 'order': 'Lepidoptera',\n",
       " 'phylum': 'Mandibulata'}"
      ]
     },
     "metadata": {},
     "output_type": "display_data"
    },
    {
     "name": "stdout",
     "output_type": "stream",
     "text": [
      "Original Scientific Name: Pseudexentera vaccinii\n",
      "NatureServe Scientific Name: Pseudexentera vaccinii\n"
     ]
    },
    {
     "data": {
      "text/plain": [
       "{'class': 'Insecta',\n",
       " 'family': 'Tortricidae',\n",
       " 'genus': 'Pseudexentera',\n",
       " 'kingdom': 'Animalia',\n",
       " 'order': 'Lepidoptera',\n",
       " 'phylum': 'Mandibulata'}"
      ]
     },
     "metadata": {},
     "output_type": "display_data"
    },
    {
     "name": "stdout",
     "output_type": "stream",
     "text": [
      "Original Scientific Name: Pyla arenaeola\n",
      "NatureServe Scientific Name: Pyla arenaeola\n"
     ]
    },
    {
     "data": {
      "text/plain": [
       "{'class': 'Insecta',\n",
       " 'family': 'Pyralidae',\n",
       " 'genus': 'Pyla',\n",
       " 'kingdom': 'Animalia',\n",
       " 'order': 'Lepidoptera',\n",
       " 'phylum': 'Mandibulata'}"
      ]
     },
     "metadata": {},
     "output_type": "display_data"
    },
    {
     "name": "stdout",
     "output_type": "stream",
     "text": [
      "Original Scientific Name: Rosenus cruciatus\n",
      "NatureServe Scientific Name: Rosenus cruciatus\n"
     ]
    },
    {
     "data": {
      "text/plain": [
       "{'class': 'Insecta',\n",
       " 'family': 'Cicadellidae',\n",
       " 'genus': 'Rosenus',\n",
       " 'kingdom': 'Animalia',\n",
       " 'order': 'Homoptera',\n",
       " 'phylum': 'Mandibulata'}"
      ]
     },
     "metadata": {},
     "output_type": "display_data"
    },
    {
     "name": "stdout",
     "output_type": "stream",
     "text": [
      "Original Scientific Name: Scaphytopius cinereus\n",
      "NatureServe Scientific Name: Scaphytopius cinereus\n"
     ]
    },
    {
     "data": {
      "text/plain": [
       "{'class': 'Insecta',\n",
       " 'family': 'Cicadellidae',\n",
       " 'genus': 'Scaphytopius',\n",
       " 'kingdom': 'Animalia',\n",
       " 'order': 'Homoptera',\n",
       " 'phylum': 'Mandibulata'}"
      ]
     },
     "metadata": {},
     "output_type": "display_data"
    },
    {
     "name": "stdout",
     "output_type": "stream",
     "text": [
      "Original Scientific Name: Spartiniphaga panatela\n",
      "NatureServe Scientific Name: Photedes panatela\n"
     ]
    },
    {
     "data": {
      "text/plain": [
       "{'class': 'Insecta',\n",
       " 'family': 'Noctuidae',\n",
       " 'genus': 'Photedes',\n",
       " 'kingdom': 'Animalia',\n",
       " 'order': 'Lepidoptera',\n",
       " 'phylum': 'Mandibulata',\n",
       " 'taxonomicComments': 'Transferred from <i>Spartiniphaga </i>to <i>Photedes </i>by Lafontaine and Schmidt (2010).'}"
      ]
     },
     "metadata": {},
     "output_type": "display_data"
    },
    {
     "name": "stdout",
     "output_type": "stream",
     "text": [
      "Original Scientific Name: Suleima helianthana\n",
      "NatureServe Scientific Name: Suleima helianthana\n"
     ]
    },
    {
     "data": {
      "text/plain": [
       "{'class': 'Insecta',\n",
       " 'family': 'Tortricidae',\n",
       " 'genus': 'Suleima',\n",
       " 'kingdom': 'Animalia',\n",
       " 'order': 'Lepidoptera',\n",
       " 'phylum': 'Mandibulata'}"
      ]
     },
     "metadata": {},
     "output_type": "display_data"
    },
    {
     "name": "stdout",
     "output_type": "stream",
     "text": [
      "Original Scientific Name: Tarachidia binocula\n",
      "NatureServe Scientific Name: Ponometia binocula\n"
     ]
    },
    {
     "data": {
      "text/plain": [
       "{'class': 'Insecta',\n",
       " 'family': 'Noctuidae',\n",
       " 'genus': 'Ponometia',\n",
       " 'kingdom': 'Animalia',\n",
       " 'order': 'Lepidoptera',\n",
       " 'phylum': 'Mandibulata',\n",
       " 'taxonomicComments': 'Generic treatment, generic combinations, and synonymy of <i>Tarachidia</i> Hampson, <i>Fruva</i> Grote, and <i>Conochares</i> Smith with <i>Ponometia</i> follow Lafontaine and Poole (2010).'}"
      ]
     },
     "metadata": {},
     "output_type": "display_data"
    },
    {
     "name": "stdout",
     "output_type": "stream",
     "text": [
      "Original Scientific Name: Tebenna silphiella\n",
      "NatureServe Scientific Name: Tebenna silphiella\n"
     ]
    },
    {
     "data": {
      "text/plain": [
       "{'class': 'Insecta',\n",
       " 'family': 'Choreutidae',\n",
       " 'genus': 'Tebenna',\n",
       " 'kingdom': 'Animalia',\n",
       " 'order': 'Lepidoptera',\n",
       " 'phylum': 'Mandibulata'}"
      ]
     },
     "metadata": {},
     "output_type": "display_data"
    },
    {
     "name": "stdout",
     "output_type": "stream",
     "text": [
      "Original Scientific Name: Tetralopha baptisiella\n",
      "NatureServe Scientific Name: Pococera baptisiella\n"
     ]
    },
    {
     "data": {
      "text/plain": [
       "{'class': 'Insecta',\n",
       " 'family': 'Pyralidae',\n",
       " 'genus': 'Pococera',\n",
       " 'genusSize': {'code': 'D',\n",
       "  'description': 'D - Medium to large genus (21+ species)'},\n",
       " 'kingdom': 'Animalia',\n",
       " 'order': 'Lepidoptera',\n",
       " 'phylum': 'Mandibulata'}"
      ]
     },
     "metadata": {},
     "output_type": "display_data"
    },
    {
     "name": "stdout",
     "output_type": "stream",
     "text": [
      "Original Scientific Name: Texananus cumulatus\n",
      "NatureServe Scientific Name: Texananus cumulatus\n"
     ]
    },
    {
     "data": {
      "text/plain": [
       "{'class': 'Insecta',\n",
       " 'family': 'Cicadellidae',\n",
       " 'genus': 'Texananus',\n",
       " 'kingdom': 'Animalia',\n",
       " 'order': 'Homoptera',\n",
       " 'phylum': 'Mandibulata'}"
      ]
     },
     "metadata": {},
     "output_type": "display_data"
    },
    {
     "name": "stdout",
     "output_type": "stream",
     "text": [
      "Original Scientific Name: Texananus decorus\n",
      "NatureServe Scientific Name: Texananus decorus\n"
     ]
    },
    {
     "data": {
      "text/plain": [
       "{'class': 'Insecta',\n",
       " 'family': 'Cicadellidae',\n",
       " 'genus': 'Texananus',\n",
       " 'kingdom': 'Animalia',\n",
       " 'order': 'Homoptera',\n",
       " 'phylum': 'Mandibulata'}"
      ]
     },
     "metadata": {},
     "output_type": "display_data"
    },
    {
     "name": "stdout",
     "output_type": "stream",
     "text": [
      "Original Scientific Name: Trichosilia manifesta\n",
      "NatureServe Scientific Name: Feltia manifesta\n"
     ]
    },
    {
     "data": {
      "text/plain": [
       "{'class': 'Insecta',\n",
       " 'family': 'Noctuidae',\n",
       " 'genus': 'Feltia',\n",
       " 'genusSize': {'code': 'C', 'description': 'C - Small genus (6-20 species)'},\n",
       " 'kingdom': 'Animalia',\n",
       " 'order': 'Lepidoptera',\n",
       " 'phylum': 'Mandibulata',\n",
       " 'taxonomicComments': 'Status of <i>Trichosilia</i> as a subgenus from Lafontaine (2004).'}"
      ]
     },
     "metadata": {},
     "output_type": "display_data"
    },
    {
     "name": "stdout",
     "output_type": "stream",
     "text": [
      "Original Scientific Name: Xerophloea major\n",
      "NatureServe Scientific Name: Xerophloea major\n"
     ]
    },
    {
     "data": {
      "text/plain": [
       "{'class': 'Insecta',\n",
       " 'family': 'Cicadellidae',\n",
       " 'genus': 'Xerophloea',\n",
       " 'kingdom': 'Animalia',\n",
       " 'order': 'Homoptera',\n",
       " 'phylum': 'Mandibulata'}"
      ]
     },
     "metadata": {},
     "output_type": "display_data"
    },
    {
     "name": "stdout",
     "output_type": "stream",
     "text": [
      "Original Scientific Name: Xerophloea peltata\n",
      "NatureServe Scientific Name: Xerophloea peltata\n"
     ]
    },
    {
     "data": {
      "text/plain": [
       "{'class': 'Insecta',\n",
       " 'family': 'Cicadellidae',\n",
       " 'genus': 'Xerophloea',\n",
       " 'kingdom': 'Animalia',\n",
       " 'order': 'Homoptera',\n",
       " 'phylum': 'Mandibulata'}"
      ]
     },
     "metadata": {},
     "output_type": "display_data"
    },
    {
     "name": "stdout",
     "output_type": "stream",
     "text": [
      "Original Scientific Name: Oenothera cruciata\n",
      "NatureServe Scientific Name: Camissonia contorta\n"
     ]
    },
    {
     "data": {
      "text/plain": [
       "{'class': 'Dicotyledoneae',\n",
       " 'family': 'Onagraceae',\n",
       " 'genus': 'Camissonia',\n",
       " 'kingdom': 'Plantae',\n",
       " 'order': 'Myrtales',\n",
       " 'phylum': 'Anthophyta'}"
      ]
     },
     "metadata": {},
     "output_type": "display_data"
    },
    {
     "name": "stdout",
     "output_type": "stream",
     "text": [
      "Original Scientific Name: Anchomenus picticornis\n",
      "NatureServe Scientific Name: Tetraleucus picticornis\n"
     ]
    },
    {
     "data": {
      "text/plain": [
       "{'class': 'Insecta',\n",
       " 'family': 'Carabidae',\n",
       " 'genus': 'Tetraleucus',\n",
       " 'genusSize': {'code': 'A', 'description': 'A - Monotypic genus'},\n",
       " 'kingdom': 'Animalia',\n",
       " 'order': 'Coleoptera',\n",
       " 'phylum': 'Mandibulata'}"
      ]
     },
     "metadata": {},
     "output_type": "display_data"
    },
    {
     "name": "stdout",
     "output_type": "stream",
     "text": [
      "Original Scientific Name: Sthenopis thule\n",
      "NatureServe Scientific Name: Sthenopis thule\n"
     ]
    },
    {
     "data": {
      "text/plain": [
       "{'class': 'Insecta',\n",
       " 'family': 'Hepialidae',\n",
       " 'genus': 'Sthenopis',\n",
       " 'genusSize': {'code': 'B',\n",
       "  'description': 'B - Very small genus (2-5 species)'},\n",
       " 'kingdom': 'Animalia',\n",
       " 'order': 'Lepidoptera',\n",
       " 'phylum': 'Mandibulata'}"
      ]
     },
     "metadata": {},
     "output_type": "display_data"
    },
    {
     "name": "stdout",
     "output_type": "stream",
     "text": [
      "Original Scientific Name: Marchantia alpestris\n",
      "NatureServe Scientific Name: Marchantia alpestris\n"
     ]
    },
    {
     "data": {
      "text/plain": [
       "{'class': 'Marchantiopsida',\n",
       " 'family': 'Marchantiaceae',\n",
       " 'genus': 'Marchantia',\n",
       " 'kingdom': 'Plantae',\n",
       " 'order': 'Marchantiales',\n",
       " 'phylum': 'Hepatophyta',\n",
       " 'taxonomicComments': 'In the treatment of <i>Marchantia polymorpha </i>by Bischler-Causse and Boisselier-Dubayle (1991) three subspecies are accepted: ssp. <i>polymorpha </i>(which corresponds to <i>M. aquatica</i>, which is included in <i>M. polymorpha </i>by Stotler and Crandall-Stotler (1977)), ssp. <i>ruderalis </i>(roughly corresponding to <i>M. polymorpha</i> sensu stricto, excluding <i>M. aquatica</i>), and ssp. <i>montivagans </i>(roughly corresponding to <i>M. alpestris</i>, which is accepted as distinct by Stotler and Crandall-Stotler (1977)).'}"
      ]
     },
     "metadata": {},
     "output_type": "display_data"
    },
    {
     "name": "stdout",
     "output_type": "stream",
     "text": [
      "Original Scientific Name: Riccia huebeneriana ssp. sullivantii\n",
      "NatureServe Scientific Name: Riccia sullivantii\n"
     ]
    },
    {
     "data": {
      "text/plain": [
       "{'class': 'Marchantiopsida',\n",
       " 'family': 'Ricciaceae',\n",
       " 'genus': 'Riccia',\n",
       " 'kingdom': 'Plantae',\n",
       " 'order': 'Marchantiales',\n",
       " 'phylum': 'Hepatophyta',\n",
       " 'taxonomicComments': 'Schuster treats as R. huebneriana ssp. sullivantii.'}"
      ]
     },
     "metadata": {},
     "output_type": "display_data"
    },
    {
     "name": "stdout",
     "output_type": "stream",
     "text": [
      "Original Scientific Name: Sphagnum atlanticum\n",
      "NatureServe Scientific Name: Sphagnum atlanticum\n"
     ]
    },
    {
     "data": {
      "text/plain": [
       "{'class': 'Sphagnopsida',\n",
       " 'family': 'Sphagnaceae',\n",
       " 'genus': 'Sphagnum',\n",
       " 'kingdom': 'Plantae',\n",
       " 'order': 'Sphagnales',\n",
       " 'phylum': 'Bryophyta',\n",
       " 'taxonomicComments': 'Newly described in 2007, this species is distinguished from <i>S. torreyanum </i>by its well-enclosed branch leaf chlorophyll cells, less well-differentiated stem cortex, stronger brown pigmentation and a flatter capitulum. <i>Sphagnum atlanticum </i>also has falcate-secund branch leaves whereas those of <i>S. torreyanum </i>are straight (Andrus 2007). An accepted taxon in Flora of North America vol. 27 (2007).'}"
      ]
     },
     "metadata": {},
     "output_type": "display_data"
    },
    {
     "name": "stdout",
     "output_type": "stream",
     "text": [
      "Original Scientific Name: Sphagnum brevifolium\n",
      "NatureServe Scientific Name: Sphagnum brevifolium\n"
     ]
    },
    {
     "data": {
      "text/plain": [
       "{'class': 'Sphagnopsida',\n",
       " 'family': 'Sphagnaceae',\n",
       " 'genus': 'Sphagnum',\n",
       " 'kingdom': 'Plantae',\n",
       " 'order': 'Sphagnales',\n",
       " 'phylum': 'Bryophyta'}"
      ]
     },
     "metadata": {},
     "output_type": "display_data"
    },
    {
     "name": "stdout",
     "output_type": "stream",
     "text": [
      "Original Scientific Name: Sphagnum isoviitae\n",
      "NatureServe Scientific Name: Sphagnum isoviitae\n"
     ]
    },
    {
     "data": {
      "text/plain": [
       "{'class': 'Sphagnopsida',\n",
       " 'family': 'Sphagnaceae',\n",
       " 'genus': 'Sphagnum',\n",
       " 'kingdom': 'Plantae',\n",
       " 'order': 'Sphagnales',\n",
       " 'phylum': 'Bryophyta',\n",
       " 'taxonomicComments': '<i>Sphagnum isoviitae</i> was first described in 1992 by K. I. Flatberg (Journal of Bryology 17(1): 1-13, 1992). It is accepted as distinct by Flora of North America (2007). Closely related to <i>Sphagnum fallax</i> (with which it is synonymized by some authors) and to <i>Sphagnum brevifolium</i>.'}"
      ]
     },
     "metadata": {},
     "output_type": "display_data"
    },
    {
     "name": "stdout",
     "output_type": "stream",
     "text": [
      "Original Scientific Name: Sphagnum mcqueenii\n",
      "NatureServe Scientific Name: Sphagnum mcqueenii\n"
     ]
    },
    {
     "data": {
      "text/plain": [
       "{'class': 'Sphagnopsida',\n",
       " 'family': 'Sphagnaceae',\n",
       " 'genus': 'Sphagnum',\n",
       " 'kingdom': 'Plantae',\n",
       " 'order': 'Sphagnales',\n",
       " 'phylum': 'Bryophyta',\n",
       " 'taxonomicComments': 'Newly described in 2006 and accepted by Flora of North America vol. 27 (2007). Can be differentiated from similar species by its branch leaves that are shorter, wider, and more sharply recurved than those of <i>Sphagnum torreyanum</i> and <i>S. atlanticum</i>; by its obtuse stem leaves, compared to the acute stem leaves of <i>S. cuspidatum</i> and <i>S. viride</i>; and by its unranked branch leaves and obtuse stem leaves, which contrast with the 5-ranked branch leaves and apiculate stem leaves of <i>Sphagnum pulchrum</i> (Flora of North America 2007).'}"
      ]
     },
     "metadata": {},
     "output_type": "display_data"
    },
    {
     "name": "stdout",
     "output_type": "stream",
     "text": [
      "Original Scientific Name: Amphipoea erepta ryensis\n",
      "NatureServe Scientific Name: Amphipoea erepta ryensis\n"
     ]
    },
    {
     "data": {
      "text/plain": [
       "{'class': 'Insecta',\n",
       " 'family': 'Noctuidae',\n",
       " 'genus': 'Amphipoea',\n",
       " 'genusSize': {'code': 'C', 'description': 'C - Small genus (6-20 species)'},\n",
       " 'kingdom': 'Animalia',\n",
       " 'order': 'Lepidoptera',\n",
       " 'phylum': 'Mandibulata',\n",
       " 'taxonomicComments': 'Both the distinctness and limits of <i>ryensis </i>are poorly known. Differs some from <i>A. erepta</i> from Mississippi Valley but needs to be compared to more eastern series. Taxon e<i>repta</i> may merit its own genus.'}"
      ]
     },
     "metadata": {},
     "output_type": "display_data"
    },
    {
     "name": "stdout",
     "output_type": "stream",
     "text": [
      "Original Scientific Name: Euxoa lidia thanatologia\n",
      "NatureServe Scientific Name: Euxoa adumbrata thanatologia\n"
     ]
    },
    {
     "data": {
      "text/plain": [
       "{'class': 'Insecta',\n",
       " 'family': 'Noctuidae',\n",
       " 'genus': 'Euxoa',\n",
       " 'genusSize': {'code': 'D',\n",
       "  'description': 'D - Medium to large genus (21+ species)'},\n",
       " 'kingdom': 'Animalia',\n",
       " 'order': 'Lepidoptera',\n",
       " 'phylum': 'Mandibulata',\n",
       " 'taxonomicComments': \"Following Fibiger's (1997) treatment of the Eurasian <i>Euxoa adumbrata </i>as a separate species from the North European <i>E</i>. <i>lidia </i>(Stoll), the two North American subspecies are associated with <i>Euxoa adumbrata</i> (Lafontaine and Schmidt 2010).This subspecies was misspelled <i>thantologia </i>in Lafontaine and Schmidt (2010).\"}"
      ]
     },
     "metadata": {},
     "output_type": "display_data"
    },
    {
     "name": "stdout",
     "output_type": "stream",
     "text": [
      "Original Scientific Name: Monoleuca semifascia\n",
      "NatureServe Scientific Name: Monoleuca semifascia\n"
     ]
    },
    {
     "data": {
      "text/plain": [
       "{'class': 'Insecta',\n",
       " 'family': 'Limacodidae',\n",
       " 'genus': 'Monoleuca',\n",
       " 'kingdom': 'Animalia',\n",
       " 'order': 'Lepidoptera',\n",
       " 'phylum': 'Mandibulata'}"
      ]
     },
     "metadata": {},
     "output_type": "display_data"
    },
    {
     "name": "stdout",
     "output_type": "stream",
     "text": [
      "Original Scientific Name: Synedoida adumbrata\n",
      "NatureServe Scientific Name: Drasteria adumbrata\n"
     ]
    },
    {
     "data": {
      "text/plain": [
       "{'class': 'Insecta',\n",
       " 'family': 'Erebidae',\n",
       " 'genus': 'Drasteria',\n",
       " 'genusSize': {'code': 'D',\n",
       "  'description': 'D - Medium to large genus (21+ species)'},\n",
       " 'kingdom': 'Animalia',\n",
       " 'order': 'Lepidoptera',\n",
       " 'phylum': 'Mandibulata',\n",
       " 'taxonomicComments': 'Poole (1989) included <i>Bolina</i>, <i>Leucanitis</i>, <i>Syneda</i>, <i>Synedoida</i>, and <i>Aleucanitis</i> as junior synonyms of <i>Drasteria</i>.'}"
      ]
     },
     "metadata": {},
     "output_type": "display_data"
    },
    {
     "name": "stdout",
     "output_type": "stream",
     "text": [
      "Original Scientific Name: Thioptera nigrofimbria\n",
      "NatureServe Scientific Name: Marimatha nigrofimbria\n"
     ]
    },
    {
     "data": {
      "text/plain": [
       "{'class': 'Insecta',\n",
       " 'family': 'Noctuidae',\n",
       " 'genus': 'Marimatha',\n",
       " 'kingdom': 'Animalia',\n",
       " 'order': 'Lepidoptera',\n",
       " 'phylum': 'Mandibulata'}"
      ]
     },
     "metadata": {},
     "output_type": "display_data"
    },
    {
     "name": "stdout",
     "output_type": "stream",
     "text": [
      "Original Scientific Name: Zale largera\n",
      "NatureServe Scientific Name: Zale largera\n"
     ]
    },
    {
     "data": {
      "text/plain": [
       "{'class': 'Insecta',\n",
       " 'family': 'Erebidae',\n",
       " 'genus': 'Zale',\n",
       " 'genusSize': {'code': 'D',\n",
       "  'description': 'D - Medium to large genus (21+ species)'},\n",
       " 'kingdom': 'Animalia',\n",
       " 'order': 'Lepidoptera',\n",
       " 'phylum': 'Mandibulata',\n",
       " 'taxonomicComments': 'This was described from Winnipeg, Manitoba, and the female illustrated, as a full species. McDunnough later considered it a jack pine specialized foodplant race <i>of Zale duplicata</i> (TL near Toronto) and it is still treated as a subspecies in Hodges (1983). It is briefly discussed by Forbes (1954). However, since the white pine feeder to which the name <i>duplicata</i> is presently assigned and the jack pine feeding <i>largera</i> are apparently sympatric over most of the region where white pine and jack pine overlap they cannot be subspecies. Either they are separate species or the same taxon. They do look different in series (see Forbes, 1954 for some hints), but accurate identification is not presently possible for many specimens, especially males. The fact that samples will often contain both complicates identification. <br><br>Tim McCabe (pers. comm, 1996 to Schweitzer) has dissected genitalia of a series of both and finds fairly consistent differences, especially in the females, comparable to differences between other close <i>Zale </i>species. He suspects McDunnough did not examine many females. A further problem is that the assignment of the name <i>duplicata</i> to the white pine feeder could be incorrect according to McCabe. He points out that the Types of both of these names and <i>benesignata</i> need to be critically examined. Identification will remain a problem until at least such time as this pine feeding <i>Zale </i>complex (which also contains at least two new species) is revised. <br><br>Schweitzer can probably sort these two species reasonably well, as can McCabe, but female genitalia dissection may be necessary in some cases where identification is important. Neither species is globally rare. Although the information is unpublished, there seems no need for a Q in the global rank because their extensive sympatry rules out subspecies status and the Q is not used for strictly nomenclatural problems. For now the name <i>duplicata</i> should continue to be used for the common white pine feeding species as was done by McDunnough (1943) and Forbes (1954) and most other publications. D.F.Schweitzer<br><br>Not included in Lafontaine and Schmidt (2010).'}"
      ]
     },
     "metadata": {},
     "output_type": "display_data"
    },
    {
     "name": "stdout",
     "output_type": "stream",
     "text": [
      "Original Scientific Name: Neotamias amoenus\n",
      "NatureServe Scientific Name: Neotamias amoenus\n"
     ]
    },
    {
     "data": {
      "text/plain": [
       "{'class': 'Mammalia',\n",
       " 'family': 'Sciuridae',\n",
       " 'genus': 'Neotamias',\n",
       " 'genusSize': {'code': 'D',\n",
       "  'description': 'D - Medium to large genus (21+ species)'},\n",
       " 'kingdom': 'Animalia',\n",
       " 'order': 'Rodentia',\n",
       " 'phylum': 'Craniata',\n",
       " 'taxonomicComments': 'Formerly included in genus <i>Eutamias</i>, which recently was included in the genus <i>Tamias </i>(Levenson et al. 1985; Jones et al. 1992, Hoffmann et al., in Wilson and Reeder 1993). Based on patterns of variation in ectoparasites (Jameson 1999) and molecular phylogenetics (Piaggio and Spicer 2001), the North American mammal checklist by Baker et al. (2003) placed all North American chipmunks (except <i>Tamias striatus</i>) in the genus <i>Neotamias</i>.<br /><br />Thorington and Hoffmann (in Wilson and Reeder 2005) noted that chipmunks could be legitimately allocated to one (<i>Tamias</i>), two (<i>Neotamias</i>, <i>Tamias</i>), or three (<i>Tamias</i>, <i>Neotamias</i>, <i>Eutamias</i>) genera; they chose to adopt the single-genus (<i>Tamias</i>) arrangement.'}"
      ]
     },
     "metadata": {},
     "output_type": "display_data"
    },
    {
     "name": "stdout",
     "output_type": "stream",
     "text": [
      "Original Scientific Name: Plestiodon skiltonianus utahensis\n",
      "NatureServe Scientific Name: Plestiodon skiltonianus utahensis\n"
     ]
    },
    {
     "data": {
      "text/plain": [
       "{'class': 'Reptilia',\n",
       " 'family': 'Scincidae',\n",
       " 'genus': 'Plestiodon',\n",
       " 'genusSize': {'code': 'C', 'description': 'C - Small genus (6-20 species)'},\n",
       " 'kingdom': 'Animalia',\n",
       " 'order': 'Squamata',\n",
       " 'phylum': 'Craniata'}"
      ]
     },
     "metadata": {},
     "output_type": "display_data"
    },
    {
     "name": "stdout",
     "output_type": "stream",
     "text": [
      "Original Scientific Name: Plestiodon multivirgatus multivirgatus\n",
      "NatureServe Scientific Name: Plestiodon multivirgatus multivirgatus\n"
     ]
    },
    {
     "data": {
      "text/plain": [
       "{'class': 'Reptilia',\n",
       " 'family': 'Scincidae',\n",
       " 'genus': 'Plestiodon',\n",
       " 'genusSize': {'code': 'C', 'description': 'C - Small genus (6-20 species)'},\n",
       " 'kingdom': 'Animalia',\n",
       " 'order': 'Squamata',\n",
       " 'phylum': 'Craniata'}"
      ]
     },
     "metadata": {},
     "output_type": "display_data"
    },
    {
     "name": "stdout",
     "output_type": "stream",
     "text": [
      "Original Scientific Name: Aspidoscelis sexlineatus viridis\n",
      "NatureServe Scientific Name: Aspidoscelis sexlineata viridis\n"
     ]
    },
    {
     "data": {
      "text/plain": [
       "{'class': 'Reptilia',\n",
       " 'family': 'Teiidae',\n",
       " 'genus': 'Aspidoscelis',\n",
       " 'genusSize': {'code': 'D',\n",
       "  'description': 'D - Medium to large genus (21+ species)'},\n",
       " 'kingdom': 'Animalia',\n",
       " 'order': 'Squamata',\n",
       " 'phylum': 'Craniata',\n",
       " 'taxonomicComments': 'Reeder et al. (2002) examined phylogenetic relationships of the whiptail lizards of the genus <i>Cnemidophorus </i>based on a combined analysis of mitochondrial DNA, morphology, and allozymes. They determined that <i>Cnemidophorus </i>in the traditional sense is paraphyletic and thus in need of nomenclatural revision. Rather than subsume all cnemidophorine species (including <i>Kentropyx</i>) in a single large genus (<i>Ameiva</i>), they proposed a split that placed the North American \"<i>Cnemidophorus</i>\" clade in the monophyletic genus <i>Aspidoscelis</i>; under this arrangement, South American taxa remain in the genus <i>Cnemidophorus</i>.<br>'}"
      ]
     },
     "metadata": {},
     "output_type": "display_data"
    },
    {
     "name": "stdout",
     "output_type": "stream",
     "text": [
      "Original Scientific Name: Plethodon oconaluftee\n",
      "NatureServe Scientific Name: Plethodon teyahalee\n"
     ]
    },
    {
     "data": {
      "text/plain": [
       "{'class': 'Amphibia',\n",
       " 'family': 'Plethodontidae',\n",
       " 'genus': 'Plethodon',\n",
       " 'genusSize': {'code': 'D',\n",
       "  'description': 'D - Medium to large genus (21+ species)'},\n",
       " 'kingdom': 'Animalia',\n",
       " 'order': 'Caudata',\n",
       " 'phylum': 'Craniata',\n",
       " 'taxonomicComments': 'Formerly included in <i>P. jordani</i> in some literature (see Highton 1987); lately known as <i>Plethodon teyahalee</i>. A member of the <i>Plethodon glutinosus</i> group. <i>Plethodon teyahalee</i> was regarded as specifically distinct from <i>Plethodon glutinosus</i> by Highton (1983, 1987), but Hairston et al. (1992) regarded the separation as unjustified and continued to use the name <i>Plethodon glutinosus</i> for the slimy salamanders of the southern Appalachians. Hairston (1993) pointed out that the type specimen of <i>Plethodon teyahalee</i> came from an area of hybridization; he therefore collected a new type specimen and changed the name of this salamander from <i>Plethodon teyahalee</i> to <i>Plethodon oconaluftee</i>. Petranka (1998) followed Hairston (1993) and used <i>Plethodon oconaluftee</i> as the name of this salamander. However, because the type specimen of <i>teyahalee</i> is not an F1 hybrid, the name <i>teyahalee</i> is available under the rules of zoological nomenclature and <i>Plethodon oconaluftee</i> is a junior synonym of <i>Plethodon teyahalee</i> (Crother et al. 2000). <br /><br /><i>Plethodon jordani</i> and <i>Plethodon teyahalee</i> hybridize near Coweeta Hydrologic Laboratory at intermediate elevations in the Nantahala Mountains, North Carolina; apparently the hybrid zone spread upward between 1974 and 1990; probably the hybridization began at the end of the time of intense timbering in the early 1900s (Hairston et al. 1992).'}"
      ]
     },
     "metadata": {},
     "output_type": "display_data"
    },
    {
     "name": "stdout",
     "output_type": "stream",
     "text": [
      "Original Scientific Name: Fitchiella robertsonii\n",
      "NatureServe Scientific Name: Fitchiella robertsonii\n"
     ]
    },
    {
     "data": {
      "text/plain": [
       "{'class': 'Insecta',\n",
       " 'family': 'Issidae',\n",
       " 'genus': 'Fitchiella',\n",
       " 'genusSize': {'code': 'C', 'description': 'C - Small genus (6-20 species)'},\n",
       " 'kingdom': 'Animalia',\n",
       " 'order': 'Homoptera',\n",
       " 'phylum': 'Mandibulata'}"
      ]
     },
     "metadata": {},
     "output_type": "display_data"
    },
    {
     "name": "stdout",
     "output_type": "stream",
     "text": [
      "Original Scientific Name: Myndus ovatus\n",
      "NatureServe Scientific Name: Myndus ovatus\n"
     ]
    },
    {
     "data": {
      "text/plain": [
       "{'class': 'Insecta',\n",
       " 'family': 'Cixiidae',\n",
       " 'genus': 'Myndus',\n",
       " 'kingdom': 'Animalia',\n",
       " 'order': 'Homoptera',\n",
       " 'phylum': 'Mandibulata'}"
      ]
     },
     "metadata": {},
     "output_type": "display_data"
    },
    {
     "name": "stdout",
     "output_type": "stream",
     "text": [
      "Original Scientific Name: Rhynchomitra microrhina\n",
      "NatureServe Scientific Name: Rhynchomitra microrhina\n"
     ]
    },
    {
     "data": {
      "text/plain": [
       "{'class': 'Insecta',\n",
       " 'family': 'Dictyopharidae',\n",
       " 'genus': 'Rhynchomitra',\n",
       " 'kingdom': 'Animalia',\n",
       " 'order': 'Homoptera',\n",
       " 'phylum': 'Mandibulata'}"
      ]
     },
     "metadata": {},
     "output_type": "display_data"
    },
    {
     "name": "stdout",
     "output_type": "stream",
     "text": [
      "Original Scientific Name: Antistrophus silphii\n",
      "NatureServe Scientific Name: Antistrophus silphii\n"
     ]
    },
    {
     "data": {
      "text/plain": [
       "{'class': 'Insecta',\n",
       " 'family': 'Cynipidae',\n",
       " 'genus': 'Antistrophus',\n",
       " 'kingdom': 'Animalia',\n",
       " 'order': 'Hymenoptera',\n",
       " 'phylum': 'Mandibulata'}"
      ]
     },
     "metadata": {},
     "output_type": "display_data"
    },
    {
     "name": "stdout",
     "output_type": "stream",
     "text": [
      "Original Scientific Name: Eutrichapion huron\n",
      "NatureServe Scientific Name: Eutrichapion huron\n"
     ]
    },
    {
     "data": {
      "text/plain": [
       "{'class': 'Insecta',\n",
       " 'family': 'Brentidae',\n",
       " 'genus': 'Eutrichapion',\n",
       " 'kingdom': 'Animalia',\n",
       " 'order': 'Coleoptera',\n",
       " 'phylum': 'Mandibulata'}"
      ]
     },
     "metadata": {},
     "output_type": "display_data"
    },
    {
     "name": "stdout",
     "output_type": "stream",
     "text": [
      "Original Scientific Name: Fallapion bischoffi\n",
      "NatureServe Scientific Name: Fallapion bischoffi\n"
     ]
    },
    {
     "data": {
      "text/plain": [
       "{'class': 'Insecta',\n",
       " 'family': 'Brentidae',\n",
       " 'genus': 'Fallapion',\n",
       " 'kingdom': 'Animalia',\n",
       " 'order': 'Coleoptera',\n",
       " 'phylum': 'Mandibulata'}"
      ]
     },
     "metadata": {},
     "output_type": "display_data"
    },
    {
     "name": "stdout",
     "output_type": "stream",
     "text": [
      "Original Scientific Name: Fallapion impeditum\n",
      "NatureServe Scientific Name: Fallapion impeditum\n"
     ]
    },
    {
     "data": {
      "text/plain": [
       "{'class': 'Insecta',\n",
       " 'family': 'Brentidae',\n",
       " 'genus': 'Fallapion',\n",
       " 'kingdom': 'Animalia',\n",
       " 'order': 'Coleoptera',\n",
       " 'phylum': 'Mandibulata'}"
      ]
     },
     "metadata": {},
     "output_type": "display_data"
    },
    {
     "name": "stdout",
     "output_type": "stream",
     "text": [
      "Original Scientific Name: Sayapion segnipes\n",
      "NatureServe Scientific Name: Sayapion segnipes\n"
     ]
    },
    {
     "data": {
      "text/plain": [
       "{'class': 'Insecta',\n",
       " 'family': 'Brentidae',\n",
       " 'genus': 'Sayapion',\n",
       " 'genusSize': {'code': 'C', 'description': 'C - Small genus (6-20 species)'},\n",
       " 'kingdom': 'Animalia',\n",
       " 'order': 'Coleoptera',\n",
       " 'phylum': 'Mandibulata'}"
      ]
     },
     "metadata": {},
     "output_type": "display_data"
    },
    {
     "name": "stdout",
     "output_type": "stream",
     "text": [
      "Original Scientific Name: Erythroneura carbonata\n",
      "NatureServe Scientific Name: Erythroneura carbonata\n"
     ]
    },
    {
     "data": {
      "text/plain": [
       "{'class': 'Insecta',\n",
       " 'family': 'Cicadellidae',\n",
       " 'genus': 'Erythroneura',\n",
       " 'kingdom': 'Animalia',\n",
       " 'order': 'Homoptera',\n",
       " 'phylum': 'Mandibulata'}"
      ]
     },
     "metadata": {},
     "output_type": "display_data"
    },
    {
     "name": "stdout",
     "output_type": "stream",
     "text": [
      "Original Scientific Name: Coelocephalapion decoloratum\n",
      "NatureServe Scientific Name: Coelocephalapion decoloratum\n"
     ]
    },
    {
     "data": {
      "text/plain": [
       "{'class': 'Insecta',\n",
       " 'family': 'Brentidae',\n",
       " 'genus': 'Coelocephalapion',\n",
       " 'kingdom': 'Animalia',\n",
       " 'order': 'Coleoptera',\n",
       " 'phylum': 'Mandibulata'}"
      ]
     },
     "metadata": {},
     "output_type": "display_data"
    },
    {
     "name": "stdout",
     "output_type": "stream",
     "text": [
      "Original Scientific Name: Trichapion perforicolle\n",
      "NatureServe Scientific Name: Trichapion perforicolle\n"
     ]
    },
    {
     "data": {
      "text/plain": [
       "{'class': 'Insecta',\n",
       " 'family': 'Brentidae',\n",
       " 'genus': 'Trichapion',\n",
       " 'kingdom': 'Animalia',\n",
       " 'order': 'Coleoptera',\n",
       " 'phylum': 'Mandibulata'}"
      ]
     },
     "metadata": {},
     "output_type": "display_data"
    },
    {
     "name": "stdout",
     "output_type": "stream",
     "text": [
      "Original Scientific Name: Eurema dina helios\n",
      "NatureServe Scientific Name: Pyrisitia dina helios\n"
     ]
    },
    {
     "data": {
      "text/plain": [
       "{'class': 'Insecta',\n",
       " 'family': 'Pieridae',\n",
       " 'genus': 'Pyrisitia',\n",
       " 'kingdom': 'Animalia',\n",
       " 'order': 'Lepidoptera',\n",
       " 'phylum': 'Mandibulata'}"
      ]
     },
     "metadata": {},
     "output_type": "display_data"
    },
    {
     "name": "stdout",
     "output_type": "stream",
     "text": [
      "Original Scientific Name: Hemiargus thomasi bethunebakeri\n",
      "NatureServe Scientific Name: Cyclargus thomasi bethunebakeri\n"
     ]
    },
    {
     "data": {
      "text/plain": [
       "{'class': 'Insecta',\n",
       " 'family': 'Lycaenidae',\n",
       " 'genus': 'Cyclargus',\n",
       " 'kingdom': 'Animalia',\n",
       " 'order': 'Lepidoptera',\n",
       " 'phylum': 'Mandibulata',\n",
       " 'taxonomicComments': 'The issue of the identity of the surviving Florida population is reviewed by USFWS (2005) on the basis of input from most experts. They conclude that this population is <i>C. thomasi bethunebakeri</i>. There had been speculation that the then newly discovered (now extirpated) Bahia Honda population was something different because of its unusual foodplant. The decision to include the Bahia Honda population in this subspecies was supported by subsequent work briefly discussed by Schweitzer et al. (2011), who also consider the recently discovered (Graves, 2004) Cuban populations as this subspecies. However, it is not at all clear how distinctive this subspecies really is from typical <i>C. thomasi</i> which was named from Cat Island in the Bahamas. There are citations for this species from Bimini, Bahamas, but no museum specimens were found to support this and if any specimens were ever found there, they were likely strays (Saarinen 2009). All Florida records, and possibly those from Cuba, refer to subspecies<i> C. thomasi bethunebakeri</i>. No other subspecies occurs in the US and Pelham (2008) lists only<i> C. t. thomasi </i>and<i> C. t. bethunebakeri</i> for this species. Some older publications include this species in <i>Hemiargus</i>. There is no definitive evidence at present (October 2015) that this subspecies occurs outside of Florida, so we are following the USFWS (2012) in treating this as a Florida endemic until proven otherwise.'}"
      ]
     },
     "metadata": {},
     "output_type": "display_data"
    },
    {
     "name": "stdout",
     "output_type": "stream",
     "text": [
      "Original Scientific Name: Stizocera floridana\n",
      "NatureServe Scientific Name: Stizocera floridana\n"
     ]
    },
    {
     "data": {
      "text/plain": [
       "{'class': 'Insecta',\n",
       " 'family': 'Cerambycidae',\n",
       " 'genus': 'Stizocera',\n",
       " 'kingdom': 'Animalia',\n",
       " 'order': 'Coleoptera',\n",
       " 'phylum': 'Mandibulata'}"
      ]
     },
     "metadata": {},
     "output_type": "display_data"
    },
    {
     "name": "stdout",
     "output_type": "stream",
     "text": [
      "Original Scientific Name: Pyrgulopsis carinata\n",
      "NatureServe Scientific Name: Pyrgulopsis carinata\n"
     ]
    },
    {
     "data": {
      "text/plain": [
       "{'class': 'Gastropoda',\n",
       " 'family': 'Hydrobiidae',\n",
       " 'genus': 'Pyrgulopsis',\n",
       " 'genusSize': {'code': 'D',\n",
       "  'description': 'D - Medium to large genus (21+ species)'},\n",
       " 'kingdom': 'Animalia',\n",
       " 'order': 'Neotaenioglossa',\n",
       " 'phylum': 'Mollusca'}"
      ]
     },
     "metadata": {},
     "output_type": "display_data"
    },
    {
     "name": "stdout",
     "output_type": "stream",
     "text": [
      "Original Scientific Name: Pyrgulopsis lentiglans\n",
      "NatureServe Scientific Name: Pyrgulopsis lentiglans\n"
     ]
    },
    {
     "data": {
      "text/plain": [
       "{'class': 'Gastropoda',\n",
       " 'family': 'Hydrobiidae',\n",
       " 'genus': 'Pyrgulopsis',\n",
       " 'genusSize': {'code': 'D',\n",
       "  'description': 'D - Medium to large genus (21+ species)'},\n",
       " 'kingdom': 'Animalia',\n",
       " 'order': 'Neotaenioglossa',\n",
       " 'phylum': 'Mollusca'}"
      ]
     },
     "metadata": {},
     "output_type": "display_data"
    },
    {
     "name": "stdout",
     "output_type": "stream",
     "text": [
      "Original Scientific Name: Pyrgulopsis ruinosa\n",
      "NatureServe Scientific Name: Pyrgulopsis ruinosa\n"
     ]
    },
    {
     "data": {
      "text/plain": [
       "{'class': 'Gastropoda',\n",
       " 'family': 'Hydrobiidae',\n",
       " 'genus': 'Pyrgulopsis',\n",
       " 'genusSize': {'code': 'D',\n",
       "  'description': 'D - Medium to large genus (21+ species)'},\n",
       " 'kingdom': 'Animalia',\n",
       " 'order': 'Neotaenioglossa',\n",
       " 'phylum': 'Mollusca'}"
      ]
     },
     "metadata": {},
     "output_type": "display_data"
    },
    {
     "name": "stdout",
     "output_type": "stream",
     "text": [
      "Original Scientific Name: Sonorella pedregosensis\n",
      "NatureServe Scientific Name: Sonorella pedregosensis\n"
     ]
    },
    {
     "data": {
      "text/plain": [
       "{'class': 'Gastropoda',\n",
       " 'family': 'Helminthoglyptidae',\n",
       " 'genus': 'Sonorella',\n",
       " 'kingdom': 'Animalia',\n",
       " 'order': 'Stylommatophora',\n",
       " 'phylum': 'Mollusca'}"
      ]
     },
     "metadata": {},
     "output_type": "display_data"
    },
    {
     "name": "stdout",
     "output_type": "stream",
     "text": [
      "Original Scientific Name: Sigmodon arizonae cienegae\n",
      "NatureServe Scientific Name: Sigmodon arizonae cienegae\n"
     ]
    },
    {
     "data": {
      "text/plain": [
       "{'class': 'Mammalia',\n",
       " 'family': 'Cricetidae',\n",
       " 'genus': 'Sigmodon',\n",
       " 'genusSize': {'code': 'C', 'description': 'C - Small genus (6-20 species)'},\n",
       " 'kingdom': 'Animalia',\n",
       " 'order': 'Rodentia',\n",
       " 'phylum': 'Craniata'}"
      ]
     },
     "metadata": {},
     "output_type": "display_data"
    },
    {
     "name": "stdout",
     "output_type": "stream",
     "text": [
      "Original Scientific Name: Aspidoscelis flagellicauda\n",
      "NatureServe Scientific Name: Aspidoscelis flagellicauda\n"
     ]
    },
    {
     "data": {
      "text/plain": [
       "{'class': 'Reptilia',\n",
       " 'family': 'Teiidae',\n",
       " 'genus': 'Aspidoscelis',\n",
       " 'genusSize': {'code': 'D',\n",
       "  'description': 'D - Medium to large genus (21+ species)'},\n",
       " 'kingdom': 'Animalia',\n",
       " 'order': 'Squamata',\n",
       " 'phylum': 'Craniata',\n",
       " 'taxonomicComments': 'Reeder et al. (2002) examined phylogenetic relationships of the whiptail lizards of the genus <i>Cnemidophorus </i>based on a combined analysis of mitochondrial DNA, morphology, and allozymes. They determined that <i>Cnemidophorus </i>in the traditional sense is paraphyletic and thus in need of nomenclatural revision. Rather than subsume all cnemidophorine species (including <i>Kentropyx</i>) in a single large genus (<i>Ameiva</i>), they proposed a split that placed the North American \"<i>Cnemidophorus</i>\" clade in the monophyletic genus <i>Aspidoscelis</i>; under this arrangement, South American taxa remain in the genus <i>Cnemidophorus</i>.<br><br>This species was previously confused with <i>C. exsanguis</i> and <i>C. sonorae</i> (Behler and King 1979). It appears to comprise a complex of groups having different origins through hybridization (Frost and Wright 1988).'}"
      ]
     },
     "metadata": {},
     "output_type": "display_data"
    },
    {
     "name": "stdout",
     "output_type": "stream",
     "text": [
      "Original Scientific Name: Aspidoscelis xanthonota\n",
      "NatureServe Scientific Name: Aspidoscelis xanthonota\n"
     ]
    },
    {
     "data": {
      "text/plain": [
       "{'class': 'Reptilia',\n",
       " 'family': 'Teiidae',\n",
       " 'genus': 'Aspidoscelis',\n",
       " 'genusSize': {'code': 'D',\n",
       "  'description': 'D - Medium to large genus (21+ species)'},\n",
       " 'kingdom': 'Animalia',\n",
       " 'order': 'Squamata',\n",
       " 'phylum': 'Craniata',\n",
       " 'taxonomicComments': 'Reeder et al. (2002) examined phylogenetic relationships of the whiptail lizards of the genus <i>Cnemidophorus </i>based on a combined analysis of mitochondrial DNA, morphology, and allozymes. They determined that <i>Cnemidophorus </i>in the traditional sense is paraphyletic and thus in need of nomenclatural revision. Rather than subsume all cnemidophorine species (including <i>Kentropyx</i>) in a single large genus (<i>Ameiva</i>), they proposed a split that placed the North American \"<i>Cnemidophorus</i>\" clade in the monophyletic genus <i>Aspidoscelis</i>; under this arrangement, South American taxa remain in the genus <i>Cnemidophorus</i>.<br /><br />Under the genus <i>Cnemidophorus</i>, Stebbins (2003) retained <i>xanthonota </i>as a subspecies of <i>A. burti</i>. de Queiroz and Reeder (in Crother 2008, 2012) accepted <i>A. xanthonota</i> as a species, based on Collins (1991). Walker and Cordes (2011) presented information supporting recognition of <i>A. xanthonota</i> as a distinct species (they spelled the specific name \"<i>xanthanota</i>\").'}"
      ]
     },
     "metadata": {},
     "output_type": "display_data"
    },
    {
     "name": "stdout",
     "output_type": "stream",
     "text": [
      "Original Scientific Name: Aspidoscelis exsanguis\n",
      "NatureServe Scientific Name: Aspidoscelis exsanguis\n"
     ]
    },
    {
     "data": {
      "text/plain": [
       "{'class': 'Reptilia',\n",
       " 'family': 'Teiidae',\n",
       " 'genus': 'Aspidoscelis',\n",
       " 'genusSize': {'code': 'D',\n",
       "  'description': 'D - Medium to large genus (21+ species)'},\n",
       " 'kingdom': 'Animalia',\n",
       " 'order': 'Squamata',\n",
       " 'phylum': 'Craniata',\n",
       " 'taxonomicComments': 'Reeder et al. (2002) examined phylogenetic relationships of the whiptail lizards of the genus <i>Cnemidophorus </i>based on a combined analysis of mitochondrial DNA, morphology, and allozymes. They determined that <i>Cnemidophorus </i>in the traditional sense is paraphyletic and thus in need of nomenclatural revision. Rather than subsume all cnemidophorine species (including <i>Kentropyx</i>) in a single large genus (<i>Ameiva</i>), they proposed a split that placed the North American \"<i>Cnemidophorus</i>\" clade in the monophyletic genus <i>Aspidoscelis</i>; under this arrangement, South American taxa remain in the genus <i>Cnemidophorus</i>.<br /><br />This species is a parthenogenetic allotriploid of hybrid origin. Allozyme and mDNA data indicate that <i>C. exsanguis</i> probably arose by the hybridization of <i>C. septemvittatus</i> or <i>C. scalaris</i> with an allodiploid intermediate form (or forms) created by one or more earlier hybridization events involving a male <i>C. inornatus</i> and a female <i>C. costatus</i> or <i>C. burti stictogrammus</i> (see Stuart 1991). Putative similarity to <i>C. flagellicaudus</i> and <i>C. sonorae</i> is overrated according to Frost and Wright (1988). This species formerly was included in other species of the <i>sexlineatus </i>species group. See Stuart (1991) for a review of the nomenclatural history of this species.'}"
      ]
     },
     "metadata": {},
     "output_type": "display_data"
    },
    {
     "name": "stdout",
     "output_type": "stream",
     "text": [
      "Original Scientific Name: Philonthus testudo\n",
      "NatureServe Scientific Name: Philonthus testudo\n"
     ]
    },
    {
     "data": {
      "text/plain": [
       "{'class': 'Insecta',\n",
       " 'family': 'Staphylinidae',\n",
       " 'genus': 'Philonthus',\n",
       " 'kingdom': 'Animalia',\n",
       " 'order': 'Coleoptera',\n",
       " 'phylum': 'Mandibulata'}"
      ]
     },
     "metadata": {},
     "output_type": "display_data"
    },
    {
     "name": "stdout",
     "output_type": "stream",
     "text": [
      "Original Scientific Name: Plestiodon anthracinus pluvialis \n",
      "'Cleaned' Scientific Name (for processing): Plestiodon anthracinus pluvialis\n",
      "NatureServe Scientific Name: Plestiodon anthracinus pluvialis\n"
     ]
    },
    {
     "data": {
      "text/plain": [
       "{'class': 'Reptilia',\n",
       " 'family': 'Scincidae',\n",
       " 'genus': 'Plestiodon',\n",
       " 'genusSize': {'code': 'C', 'description': 'C - Small genus (6-20 species)'},\n",
       " 'kingdom': 'Animalia',\n",
       " 'order': 'Squamata',\n",
       " 'phylum': 'Craniata'}"
      ]
     },
     "metadata": {},
     "output_type": "display_data"
    },
    {
     "name": "stdout",
     "output_type": "stream",
     "text": [
      "Original Scientific Name: Temnothorax pilagens\n",
      "NatureServe Scientific Name: Temnothorax pilagens\n"
     ]
    },
    {
     "data": {
      "text/plain": [
       "{'class': 'Insecta',\n",
       " 'family': 'Formicidae',\n",
       " 'genus': 'Temnothorax',\n",
       " 'kingdom': 'Animalia',\n",
       " 'order': 'Hymenoptera',\n",
       " 'phylum': 'Mandibulata'}"
      ]
     },
     "metadata": {},
     "output_type": "display_data"
    },
    {
     "name": "stdout",
     "output_type": "stream",
     "text": [
      "Original Scientific Name: Carex atlantica var. atlantica\n",
      "NatureServe Scientific Name: Carex atlantica ssp. atlantica\n"
     ]
    },
    {
     "data": {
      "text/plain": [
       "{'class': 'Monocotyledoneae',\n",
       " 'family': 'Cyperaceae',\n",
       " 'genus': 'Carex',\n",
       " 'kingdom': 'Plantae',\n",
       " 'order': 'Cyperales',\n",
       " 'phylum': 'Anthophyta'}"
      ]
     },
     "metadata": {},
     "output_type": "display_data"
    },
    {
     "name": "stdout",
     "output_type": "stream",
     "text": [
      "Original Scientific Name: Carex echinodes\n",
      "NatureServe Scientific Name: Carex tenera var. echinodes\n"
     ]
    },
    {
     "data": {
      "text/plain": [
       "{'class': 'Monocotyledoneae',\n",
       " 'family': 'Cyperaceae',\n",
       " 'genus': 'Carex',\n",
       " 'kingdom': 'Plantae',\n",
       " 'order': 'Cyperales',\n",
       " 'phylum': 'Anthophyta',\n",
       " 'taxonomicComments': 'Kartesz (1994 checklist, 1999 synthesis) includes Carex tenera var. echinodes in the full species, Carex tenera.  FNA (2002, vol. 23) accepts it as a distinct variety. Rothrock et al. 2009 elevates var. echinodes to Carex echinodes.'}"
      ]
     },
     "metadata": {},
     "output_type": "display_data"
    },
    {
     "name": "stdout",
     "output_type": "stream",
     "text": [
      "Original Scientific Name: Cerastium nutans ssp. nutans\n",
      "NatureServe Scientific Name: Cerastium nutans var. nutans\n"
     ]
    },
    {
     "data": {
      "text/plain": [
       "{'class': 'Dicotyledoneae',\n",
       " 'family': 'Caryophyllaceae',\n",
       " 'genus': 'Cerastium',\n",
       " 'kingdom': 'Plantae',\n",
       " 'order': 'Caryophyllales',\n",
       " 'phylum': 'Anthophyta'}"
      ]
     },
     "metadata": {},
     "output_type": "display_data"
    },
    {
     "name": "stdout",
     "output_type": "stream",
     "text": [
      "Original Scientific Name: Diapensia lapponica ssp. lapponica\n",
      "NatureServe Scientific Name: Diapensia lapponica\n"
     ]
    },
    {
     "data": {
      "text/plain": [
       "{'class': 'Dicotyledoneae',\n",
       " 'family': 'Diapensiaceae',\n",
       " 'genus': 'Diapensia',\n",
       " 'kingdom': 'Plantae',\n",
       " 'order': 'Diapensiales',\n",
       " 'phylum': 'Anthophyta',\n",
       " 'taxonomicComments': 'FNA (vol. 8, 2009) treats Diapensia lapponica var. obovata as a species, distinct from D. lapponica, so the treatment of D. lapponica var. lapponica by Kartesz (1994 and 1999) matches the stricter sense of D. lapponica accepted by FNA.'}"
      ]
     },
     "metadata": {},
     "output_type": "display_data"
    },
    {
     "name": "stdout",
     "output_type": "stream",
     "text": [
      "Original Scientific Name: Diphasiastrum sabinifolium\n",
      "NatureServe Scientific Name: Lycopodium sabinifolium\n"
     ]
    },
    {
     "data": {
      "text/plain": [
       "{'class': 'Lycopodiopsida',\n",
       " 'family': 'Lycopodiaceae',\n",
       " 'genus': 'Lycopodium',\n",
       " 'kingdom': 'Plantae',\n",
       " 'order': 'Lycopodiales',\n",
       " 'phylum': 'Lycophyta',\n",
       " 'taxonomicComments': 'The Flora of North America treatment considers this taxon of hybrid origin between <i>Lycopodium (Diphasiastrum) sitchense</i>  and <i>Lycopodium (Diphasiastrum) tristachyum, </i>however was treated as a species <i>(Lycopodium sabinifolium) </i>by Kartesz 1999.'}"
      ]
     },
     "metadata": {},
     "output_type": "display_data"
    },
    {
     "name": "stdout",
     "output_type": "stream",
     "text": [
      "Original Scientific Name: Isoetes viridimontana\n",
      "NatureServe Scientific Name: Isoetes viridimontana\n"
     ]
    },
    {
     "data": {
      "text/plain": [
       "{'class': 'Isoetopsida',\n",
       " 'family': 'Isoetaceae',\n",
       " 'genus': 'Isoetes',\n",
       " 'kingdom': 'Plantae',\n",
       " 'order': 'Isoetales',\n",
       " 'phylum': 'Lycophyta'}"
      ]
     },
     "metadata": {},
     "output_type": "display_data"
    },
    {
     "name": "stdout",
     "output_type": "stream",
     "text": [
      "Original Scientific Name: Parathelypteris simulata\n",
      "NatureServe Scientific Name: Thelypteris simulata\n"
     ]
    },
    {
     "data": {
      "text/plain": [
       "{'class': 'Filicopsida',\n",
       " 'family': 'Thelypteridaceae',\n",
       " 'genus': 'Thelypteris',\n",
       " 'kingdom': 'Plantae',\n",
       " 'order': 'Filicales',\n",
       " 'phylum': 'Filicinophyta'}"
      ]
     },
     "metadata": {},
     "output_type": "display_data"
    },
    {
     "name": "stdout",
     "output_type": "stream",
     "text": [
      "Original Scientific Name: Piptatheropsis pungens\n",
      "NatureServe Scientific Name: Piptatherum pungens\n"
     ]
    },
    {
     "data": {
      "text/plain": [
       "{'class': 'Monocotyledoneae',\n",
       " 'family': 'Poaceae',\n",
       " 'genus': 'Piptatherum',\n",
       " 'kingdom': 'Plantae',\n",
       " 'order': 'Cyperales',\n",
       " 'phylum': 'Anthophyta',\n",
       " 'taxonomicComments': 'Accepted as<i> Piptatherum pungens</i> (Torr.) Barkworth, comb. nov. ined. in Kartesz (1999) but published by Dorn. Moved to a new, separate genus, <i>Piptatheropsis </i>pungens by Romaschenko et al. (2011).'}"
      ]
     },
     "metadata": {},
     "output_type": "display_data"
    },
    {
     "name": "stdout",
     "output_type": "stream",
     "text": [
      "Original Scientific Name: Spinulum canadense\n",
      "NatureServe Scientific Name: Lycopodium annotinum var. pungens\n"
     ]
    },
    {
     "data": {
      "text/plain": [
       "{'class': 'Lycopodiopsida',\n",
       " 'family': 'Lycopodiaceae',\n",
       " 'genus': 'Lycopodium',\n",
       " 'kingdom': 'Plantae',\n",
       " 'order': 'Lycopodiales',\n",
       " 'phylum': 'Lycophyta',\n",
       " 'taxonomicComments': 'varieties acrifolium, alpestre & pungens are not recognized as evidence supports these are environmentally induced forms (FNA); vars acrifolium, alpestre, annotinum & pungens are recognized by Kartesz 1994 but not by Kartesz 1999.'}"
      ]
     },
     "metadata": {},
     "output_type": "display_data"
    },
    {
     "name": "stdout",
     "output_type": "stream",
     "text": [
      "Original Scientific Name: Lejeunea lamacerina ssp. gemminata\n",
      "NatureServe Scientific Name: Lejeunea lamacerina ssp. gemminata\n"
     ]
    },
    {
     "data": {
      "text/plain": [
       "{'class': 'Jungermanniopsida',\n",
       " 'family': 'Lejeuneaceae',\n",
       " 'genus': 'Lejeunea',\n",
       " 'kingdom': 'Plantae',\n",
       " 'order': 'Jungermanniales',\n",
       " 'phylum': 'Hepatophyta'}"
      ]
     },
     "metadata": {},
     "output_type": "display_data"
    },
    {
     "name": "stdout",
     "output_type": "stream",
     "text": [
      "Original Scientific Name: Nardia scalaris ssp. scalaris\n",
      "NatureServe Scientific Name: Nardia scalaris ssp. scalaris\n"
     ]
    },
    {
     "data": {
      "text/plain": [
       "{'class': 'Jungermanniopsida',\n",
       " 'family': 'Jungermanniaceae',\n",
       " 'genus': 'Nardia',\n",
       " 'kingdom': 'Plantae',\n",
       " 'order': 'Jungermanniales',\n",
       " 'phylum': 'Hepatophyta'}"
      ]
     },
     "metadata": {},
     "output_type": "display_data"
    },
    {
     "name": "stdout",
     "output_type": "stream",
     "text": [
      "Original Scientific Name: Scapania irrigua ssp. irrigua\n",
      "NatureServe Scientific Name: Scapania irrigua ssp. irrigua\n"
     ]
    },
    {
     "data": {
      "text/plain": [
       "{'class': 'Jungermanniopsida',\n",
       " 'family': 'Scapaniaceae',\n",
       " 'genus': 'Scapania',\n",
       " 'kingdom': 'Plantae',\n",
       " 'order': 'Jungermanniales',\n",
       " 'phylum': 'Hepatophyta'}"
      ]
     },
     "metadata": {},
     "output_type": "display_data"
    },
    {
     "name": "stdout",
     "output_type": "stream",
     "text": [
      "Original Scientific Name: Scapania mucronata ssp. mucronata\n",
      "NatureServe Scientific Name: Scapania mucronata ssp. mucronata\n"
     ]
    },
    {
     "data": {
      "text/plain": [
       "{'class': 'Jungermanniopsida',\n",
       " 'family': 'Scapaniaceae',\n",
       " 'genus': 'Scapania',\n",
       " 'kingdom': 'Plantae',\n",
       " 'order': 'Jungermanniales',\n",
       " 'phylum': 'Hepatophyta'}"
      ]
     },
     "metadata": {},
     "output_type": "display_data"
    },
    {
     "name": "stdout",
     "output_type": "stream",
     "text": [
      "Original Scientific Name: Tritomaria exsectiformis ssp. exsectiformis\n",
      "NatureServe Scientific Name: Tritomaria exsectiformis ssp. exsectiformis\n"
     ]
    },
    {
     "data": {
      "text/plain": [
       "{'class': 'Jungermanniopsida',\n",
       " 'family': 'Jungermanniaceae',\n",
       " 'genus': 'Tritomaria',\n",
       " 'kingdom': 'Plantae',\n",
       " 'order': 'Jungermanniales',\n",
       " 'phylum': 'Hepatophyta'}"
      ]
     },
     "metadata": {},
     "output_type": "display_data"
    },
    {
     "name": "stdout",
     "output_type": "stream",
     "text": [
      "Original Scientific Name: Brachythecium falcatum\n",
      "NatureServe Scientific Name: Brachythecium falcatum\n"
     ]
    },
    {
     "data": {
      "text/plain": [
       "{'class': 'Bryopsida',\n",
       " 'family': 'Brachytheciaceae',\n",
       " 'genus': 'Brachythecium',\n",
       " 'kingdom': 'Plantae',\n",
       " 'order': 'Hypnales',\n",
       " 'phylum': 'Bryophyta',\n",
       " 'taxonomicComments': 'According to Crum (2001) Brachythecium falcatum was originally described by Grout as a form of B.  oxycladon but it is unlike B. oxycladon or \"any other member of that troublesome genus\" and is worthy of notice at a specific rank.'}"
      ]
     },
     "metadata": {},
     "output_type": "display_data"
    },
    {
     "name": "stdout",
     "output_type": "stream",
     "text": [
      "Original Scientific Name: Bucklandiella microcarpa\n",
      "NatureServe Scientific Name: Bucklandiella microcarpa\n"
     ]
    },
    {
     "data": {
      "text/plain": [
       "{'class': 'Bryopsida',\n",
       " 'family': 'Grimmiaceae',\n",
       " 'genus': 'Bucklandiella',\n",
       " 'kingdom': 'Plantae',\n",
       " 'order': 'Grimmiales',\n",
       " 'phylum': 'Bryophyta',\n",
       " 'taxonomicComments': 'Ireland et al. (1987; Checklist of the mosses of Canada) recognize <i>Racomitrium microcarpon</i> as a variety of <i>R. heterostichum</i>.'}"
      ]
     },
     "metadata": {},
     "output_type": "display_data"
    },
    {
     "name": "stdout",
     "output_type": "stream",
     "text": [
      "Original Scientific Name: Codriophorus aduncoides\n",
      "NatureServe Scientific Name: Codriophorus aduncoides\n"
     ]
    },
    {
     "data": {
      "text/plain": [
       "{'class': 'Bryopsida',\n",
       " 'family': 'Grimmiaceae',\n",
       " 'genus': 'Codriophorus',\n",
       " 'kingdom': 'Plantae',\n",
       " 'order': 'Grimmiales',\n",
       " 'phylum': 'Bryophyta',\n",
       " 'taxonomicComments': 'Described in 1999; closely related to (segregated from) the common species <i>Racomitrium aciculare</i>. Accepted by Flora of North America vol. 27 as <i>Codriophorus aduncoides</i>. Best distinguished from <i>R. aciculare</i> (= <i>C. acicularis</i>) by its very broad (90-180 Âµm on average), generally shorter costa, which vanishes in mid leaf or extends at most to three quarters of the way up the leaf. The costa is also distinctly spurred on both sides in the distal portion and is typically forked at the apex. The costa is situated in a shallow groove resulting in leaves which are only obtusely keeled in the lower part and weakly concave to almost flat above. Additionally, the leaves are mostly bluntly acute and usually incurved at the apex (Bednarek-Ochyra 1999, Flora of North America 2007).'}"
      ]
     },
     "metadata": {},
     "output_type": "display_data"
    },
    {
     "name": "stdout",
     "output_type": "stream",
     "text": [
      "Original Scientific Name: Codriophorus fascicularis\n",
      "NatureServe Scientific Name: Racomitrium fasciculare\n"
     ]
    },
    {
     "data": {
      "text/plain": [
       "{'class': 'Bryopsida',\n",
       " 'family': 'Grimmiaceae',\n",
       " 'genus': 'Racomitrium',\n",
       " 'kingdom': 'Plantae',\n",
       " 'order': 'Grimmiales',\n",
       " 'phylum': 'Bryophyta',\n",
       " 'taxonomicComments': 'FNA (vol. 27, 2007) transfers <i>Racomitrium fasciculare</i> to <i>Codriophorus fascicularis.</i>'}"
      ]
     },
     "metadata": {},
     "output_type": "display_data"
    },
    {
     "name": "stdout",
     "output_type": "stream",
     "text": [
      "Original Scientific Name: Drepanocladus longifolius\n",
      "NatureServe Scientific Name: Drepanocladus longifolius\n"
     ]
    },
    {
     "data": {
      "text/plain": [
       "{'class': 'Bryopsida',\n",
       " 'family': 'Amblystegiaceae',\n",
       " 'genus': 'Drepanocladus',\n",
       " 'kingdom': 'Plantae',\n",
       " 'order': 'Hypnales',\n",
       " 'phylum': 'Bryophyta',\n",
       " 'taxonomicComments': 'Hedenas (1997) and FNA vol. 28 (2014) include <i>Drepanocladus capillifolium</i> and <i>D. crassicostatus</i> in <i>D. longifolius</i>, while Anderson et al. (1991) treats them as dinstinct.'}"
      ]
     },
     "metadata": {},
     "output_type": "display_data"
    },
    {
     "name": "stdout",
     "output_type": "stream",
     "text": [
      "Original Scientific Name: Grimmia longirostris\n",
      "NatureServe Scientific Name: Grimmia longirostris\n"
     ]
    },
    {
     "data": {
      "text/plain": [
       "{'class': 'Bryopsida',\n",
       " 'family': 'Grimmiaceae',\n",
       " 'genus': 'Grimmia',\n",
       " 'kingdom': 'Plantae',\n",
       " 'order': 'Grimmiales',\n",
       " 'phylum': 'Bryophyta'}"
      ]
     },
     "metadata": {},
     "output_type": "display_data"
    },
    {
     "name": "stdout",
     "output_type": "stream",
     "text": [
      "Original Scientific Name: Grimmia muehlenbeckii\n",
      "NatureServe Scientific Name: Grimmia hermannii\n"
     ]
    },
    {
     "data": {
      "text/plain": [
       "{'class': 'Bryopsida',\n",
       " 'family': 'Grimmiaceae',\n",
       " 'genus': 'Grimmia',\n",
       " 'kingdom': 'Plantae',\n",
       " 'order': 'Grimmiales',\n",
       " 'phylum': 'Bryophyta'}"
      ]
     },
     "metadata": {},
     "output_type": "display_data"
    },
    {
     "name": "stdout",
     "output_type": "stream",
     "text": [
      "Original Scientific Name: Hypnum fauriei\n",
      "NatureServe Scientific Name: Hypnum fauriei\n"
     ]
    },
    {
     "data": {
      "text/plain": [
       "{'class': 'Bryopsida',\n",
       " 'family': 'Hypnaceae',\n",
       " 'genus': 'Hypnum',\n",
       " 'kingdom': 'Plantae',\n",
       " 'order': 'Hypnales',\n",
       " 'phylum': 'Bryophyta',\n",
       " 'taxonomicComments': 'According to the \"Bryophyte Flora of North America,\" all North American material should be called Hypnum fauriei; Hypnum fertile is European.'}"
      ]
     },
     "metadata": {},
     "output_type": "display_data"
    },
    {
     "name": "stdout",
     "output_type": "stream",
     "text": [
      "Original Scientific Name: Microbryum davallianum\n",
      "NatureServe Scientific Name: Microbryum davallianum\n"
     ]
    },
    {
     "data": {
      "text/plain": [
       "{'class': 'Bryopsida',\n",
       " 'family': 'Pottiaceae',\n",
       " 'genus': 'Microbryum',\n",
       " 'kingdom': 'Plantae',\n",
       " 'order': 'Pottiales',\n",
       " 'phylum': 'Bryophyta',\n",
       " 'taxonomicComments': 'FNA (vol. 27, 2007) transfers <i>Pottia davalliana</i> to <i>Microbryum davallianum</i>, however Anderson et al. (1990) assign \"<i>Pottia texana</i>\" material to <i>P. starkeana</i>, while FNA places it in <i>M. davallianum</i>.'}"
      ]
     },
     "metadata": {},
     "output_type": "display_data"
    },
    {
     "name": "stdout",
     "output_type": "stream",
     "text": [
      "Original Scientific Name: Niphotrichum canescens ssp. canescens\n",
      "NatureServe Scientific Name: Racomitrium canescens var. canescens\n"
     ]
    },
    {
     "data": {
      "text/plain": [
       "{'class': 'Bryopsida',\n",
       " 'family': 'Grimmiaceae',\n",
       " 'genus': 'Racomitrium',\n",
       " 'kingdom': 'Plantae',\n",
       " 'order': 'Grimmiales',\n",
       " 'phylum': 'Bryophyta',\n",
       " 'taxonomicComments': 'FNA (vol. 27, 2007) transfers <i>Racomitrium canescens</i> var. <i>canescens</i> to <i>Niphotrichum canescens</i> var. <i>canescens.</i>'}"
      ]
     },
     "metadata": {},
     "output_type": "display_data"
    },
    {
     "name": "stdout",
     "output_type": "stream",
     "text": [
      "Original Scientific Name: Schistidium papillosum\n",
      "NatureServe Scientific Name: Schistidium papillosum\n"
     ]
    },
    {
     "data": {
      "text/plain": [
       "{'class': 'Bryopsida',\n",
       " 'family': 'Grimmiaceae',\n",
       " 'genus': 'Schistidium',\n",
       " 'kingdom': 'Plantae',\n",
       " 'order': 'Grimmiales',\n",
       " 'phylum': 'Bryophyta'}"
      ]
     },
     "metadata": {},
     "output_type": "display_data"
    },
    {
     "name": "stdout",
     "output_type": "stream",
     "text": [
      "Original Scientific Name: Schistidium viride\n",
      "NatureServe Scientific Name: Schistidium viride\n"
     ]
    },
    {
     "data": {
      "text/plain": [
       "{'class': 'Bryopsida',\n",
       " 'family': 'Grimmiaceae',\n",
       " 'genus': 'Schistidium',\n",
       " 'kingdom': 'Plantae',\n",
       " 'order': 'Grimmiales',\n",
       " 'phylum': 'Bryophyta',\n",
       " 'taxonomicComments': 'According to Blom and Darigo (2009), Schistidum viride is a new name for Grimmia latifolia Brid., hom. illeg.'}"
      ]
     },
     "metadata": {},
     "output_type": "display_data"
    },
    {
     "name": "stdout",
     "output_type": "stream",
     "text": [
      "Original Scientific Name: Timmia megapolitana ssp. megapolitana\n",
      "NatureServe Scientific Name: Timmia megapolitana var. megapolitana\n"
     ]
    },
    {
     "data": {
      "text/plain": [
       "{'class': 'Bryopsida',\n",
       " 'family': 'Timmiaceae',\n",
       " 'genus': 'Timmia',\n",
       " 'kingdom': 'Plantae',\n",
       " 'order': 'Bryales',\n",
       " 'phylum': 'Bryophyta'}"
      ]
     },
     "metadata": {},
     "output_type": "display_data"
    },
    {
     "name": "stdout",
     "output_type": "stream",
     "text": [
      "Original Scientific Name: Tortella inclinata var. densa\n",
      "NatureServe Scientific Name: Tortella inclinata var. densa\n"
     ]
    },
    {
     "data": {
      "text/plain": [
       "{'class': 'Bryopsida',\n",
       " 'family': 'Pottiaceae',\n",
       " 'genus': 'Tortella',\n",
       " 'kingdom': 'Plantae',\n",
       " 'order': 'Pottiales',\n",
       " 'phylum': 'Bryophyta',\n",
       " 'taxonomicComments': 'Anderson et al. (1990) do not recognize varieties of <i>Tortella inclinata</i>, whereas Flora of North America (2007) recognizes <i>T. inclinata</i> var. <i>densa</i> and <i>T. inclinata</i> var. <i>inclinata</i>.'}"
      ]
     },
     "metadata": {},
     "output_type": "display_data"
    },
    {
     "name": "stdout",
     "output_type": "stream",
     "text": [
      "Original Scientific Name: Tortella inclinata var. inclinata\n",
      "NatureServe Scientific Name: Tortella inclinata var. inclinata\n"
     ]
    },
    {
     "data": {
      "text/plain": [
       "{'class': 'Bryopsida',\n",
       " 'family': 'Pottiaceae',\n",
       " 'genus': 'Tortella',\n",
       " 'kingdom': 'Plantae',\n",
       " 'order': 'Pottiales',\n",
       " 'phylum': 'Bryophyta',\n",
       " 'taxonomicComments': 'Anderson et al. (1990) do not recognize varieties of <i>Tortella inclinata</i>, whereas Flora of North America (2007) recognizes <i>T. inclinata</i> var. <i>densa</i> and <i>T. inclinata</i> var. <i>inclinata</i>.'}"
      ]
     },
     "metadata": {},
     "output_type": "display_data"
    },
    {
     "name": "stdout",
     "output_type": "stream",
     "text": [
      "Original Scientific Name: Pyrgulopsis bedfordensis\n",
      "NatureServe Scientific Name: Pyrgulopsis bedfordensis\n"
     ]
    },
    {
     "data": {
      "text/plain": [
       "{'class': 'Gastropoda',\n",
       " 'family': 'Hydrobiidae',\n",
       " 'genus': 'Pyrgulopsis',\n",
       " 'genusSize': {'code': 'D',\n",
       "  'description': 'D - Medium to large genus (21+ species)'},\n",
       " 'kingdom': 'Animalia',\n",
       " 'order': 'Neotaenioglossa',\n",
       " 'phylum': 'Mollusca'}"
      ]
     },
     "metadata": {},
     "output_type": "display_data"
    },
    {
     "name": "stdout",
     "output_type": "stream",
     "text": [
      "Original Scientific Name: Ephydatia cooperensis\n",
      "NatureServe Scientific Name: Ephydatia cooperensis\n"
     ]
    },
    {
     "data": {
      "text/plain": [
       "{'class': 'Demospongiae',\n",
       " 'family': 'Spongillidae',\n",
       " 'genus': 'Ephydatia',\n",
       " 'kingdom': 'Animalia',\n",
       " 'order': 'Haplosclerida',\n",
       " 'phylum': 'Porifera',\n",
       " 'taxonomicComments': 'Family Spongillidae may be paraphyletic, therefore placement of C. cooperensis with the spongillids may be invalid.  Much more sequence data are needed.'}"
      ]
     },
     "metadata": {},
     "output_type": "display_data"
    },
    {
     "name": "stdout",
     "output_type": "stream",
     "text": [
      "Original Scientific Name: Lampropeltis gentilis\n",
      "NatureServe Scientific Name: Lampropeltis gentilis\n"
     ]
    },
    {
     "data": {
      "text/plain": [
       "{'class': 'Reptilia',\n",
       " 'family': 'Colubridae',\n",
       " 'genus': 'Lampropeltis',\n",
       " 'genusSize': {'code': 'C', 'description': 'C - Small genus (6-20 species)'},\n",
       " 'kingdom': 'Animalia',\n",
       " 'order': 'Squamata',\n",
       " 'phylum': 'Craniata'}"
      ]
     },
     "metadata": {},
     "output_type": "display_data"
    },
    {
     "name": "stdout",
     "output_type": "stream",
     "text": [
      "Original Scientific Name: Molendoa ogalalensis\n",
      "NatureServe Scientific Name: Molendoa ogalalensis\n"
     ]
    },
    {
     "data": {
      "text/plain": [
       "{'class': 'Bryopsida',\n",
       " 'family': 'Pottiaceae',\n",
       " 'genus': 'Molendoa',\n",
       " 'kingdom': 'Plantae',\n",
       " 'order': 'Pottiales',\n",
       " 'phylum': 'Bryophyta',\n",
       " 'taxonomicComments': \"Described as new genus and new species in Novon 2: 255-258, according to article in newsletter 'Aschisma' (Spring 1993). FNA (vol. 27, 2007) transfers <i>Ozobryum ogalalense</i> to <i>Molendoa ogalalensis</i>.\"}"
      ]
     },
     "metadata": {},
     "output_type": "display_data"
    },
    {
     "name": "stdout",
     "output_type": "stream",
     "text": [
      "Original Scientific Name: Eriophorum angustifolium var. angustifolium\n",
      "NatureServe Scientific Name: Eriophorum angustifolium ssp. angustifolium\n"
     ]
    },
    {
     "data": {
      "text/plain": [
       "{'class': 'Monocotyledoneae',\n",
       " 'family': 'Cyperaceae',\n",
       " 'genus': 'Eriophorum',\n",
       " 'kingdom': 'Plantae',\n",
       " 'order': 'Cyperales',\n",
       " 'phylum': 'Anthophyta',\n",
       " 'taxonomicComments': 'This is the record for the treatment of <i>Eriophorum angustifolium </i>ssp. <i>angustifolium </i>as widespread in North America (occuring in the US as far south as New Mexico, in Canada, in Greenland) and also in northern Eurasia, following Flora of North America (2002).  Kartesz (1999) considers <i>E. angustifolium </i>ssp. <i>angustifolium </i>to be erroneously attributed to North America.'}"
      ]
     },
     "metadata": {},
     "output_type": "display_data"
    },
    {
     "name": "stdout",
     "output_type": "stream",
     "text": [
      "Original Scientific Name: Icaricia shasta\n",
      "NatureServe Scientific Name: Plebejus shasta\n"
     ]
    },
    {
     "data": {
      "text/plain": [
       "{'class': 'Insecta',\n",
       " 'family': 'Lycaenidae',\n",
       " 'genus': 'Plebejus',\n",
       " 'kingdom': 'Animalia',\n",
       " 'order': 'Lepidoptera',\n",
       " 'phylum': 'Mandibulata'}"
      ]
     },
     "metadata": {},
     "output_type": "display_data"
    },
    {
     "name": "stdout",
     "output_type": "stream",
     "text": [
      "Original Scientific Name: Incisalia henrici\n",
      "NatureServe Scientific Name: Callophrys henrici\n"
     ]
    },
    {
     "data": {
      "text/plain": [
       "{'class': 'Insecta',\n",
       " 'family': 'Lycaenidae',\n",
       " 'genus': 'Callophrys',\n",
       " 'genusSize': {'code': 'D',\n",
       "  'description': 'D - Medium to large genus (21+ species)'},\n",
       " 'kingdom': 'Animalia',\n",
       " 'order': 'Lepidoptera',\n",
       " 'phylum': 'Mandibulata',\n",
       " 'taxonomicComments': 'Given the regional foodplant specialization (see Gatrelle, 1999c for a review) it is possible this is a complex of sibling species, but evidence of multiple species is basically lacking at least east of Texas. Foodplants in Texas include at least species of <i>Ungnadia,Sophora, Diospyros, Lupinus</i> but some literature is vague regarding which subspecies are involved. The first three are normal foodplants. Otherwise, south of about Latitude 42 North, in a given area there is one primary or exclusive foodplant genus, so the foodplant races are essentially allopatric. Farther north foodplant claims vary and generally local foodplants are unknown.   Some often repeated northern foodplant genera such as <i>Prunus</i> and <i>Vaccinium </i>need modern verification. The named so-called subspecies are mostly based on minor adult wing color differences and mostly do not correspond to any biological differences at least north of about Latitude 38 North. The most generally accepted subspecies is <i>C. h. solatus</i> from Texas, which is considered by some to be a separate species.  <i>C. h. margaretae</i> which differs mainly in much longer tails, of peninsular Florida is also widely accepted.  It is not clear that non-green form adults of \"subspecies\" <i>viridissima</i> have any reliable distinguishing feature and since most populations with this form have it as a minority form that \"subspecies\" is for now definable essentially as those <i>Ilex</i> feeding populations from along Delaware Bay in New Jersey to coastal North Carolina in which the frequency of green adults is not zero. That would apparently leave most holly feeding populations in southern coastal plain New Jersey as subspecies <i>henrici</i>.  As with almost all tailed Theclinae, populations from the southeastern United States where arboreal lizards are prevalent (<i>yahweus, margaretae</i>) have longer tails than others. As these taxa are now defined by Gatrelle (1999), holly (<i>Ilex</i> spp.) feeding populations occur in subspecies <i>henrici, viridissima </i>(as redefined by Gatrelle), <i>yahwehus</i>, and <i>margaretae</i>.  The last three are apparently entirely <i>Ilex</i> feeders and have no known significant biological differences among them other than some regional specialization within <i>Ilex</i>. Redbud (<i>Cercis)</i> feeding populations are also very widespread and this is the foodplant for most populations of <i>turneri</i> and for some populations now treated as typical <i>henrici</i> based on wing characters according to Gatrelle<i>.</i> Gatrelle would place Ontario populations in <i>turneri</i> based on the minor wing color characters. If that is accepted, he extends this \"subspecies\" well beyond redbud feeding populations. This would also mean two \"subspecies\" (<i>henrici, turneri</i>) adopted exotic <i>Rhamnus</i> as hostplants in the 1980s--in both cases from unknown native hosplants. If the Type of <i>henrici</i> really came from Philadelphia or nearby in Pennsylvania where the species has apparently always been quite rare, it was almost certainly from a redbud feeding population. If, as is quite likely, it really came from across the Delaware River in New Jersey where the species is common, it was a holly (<i>Ilex opaca</i>) feeder. Since the Type is not the green form its likely foodplant probably cannot be determined. A number of other foodplants are used by \"subspecies <i>henrici</i>\" of Gatrelle, including <i>Nemopanthes </i>(a close relative of <i>Ilex</i>) in at least eastern Canada, exotic <i>Rhamnus</i> in Massachusetts, redbud in and near Maryland and Pennsylvania, <i>Ilex opaca </i>widely in New Jersey and in Rhode Island with reports of several other genera in at least three other families mostly northward.   As far as known green caterpillars vary more individually than by \"subspecies\".  The red form could well be partly geographic since it apparently does not occur (except in prepupal larvae) in southern New Jersey holly feeders (Schweitzer) or West Virginia rebud feeders (Allen, 1997), and Layberry <i>et al.</i> (1998) report that Canadian larvae are green except shortly before pupation.  It is unclear whether the red larval morph has any taxonomic significance.  Both forms are nicely illustrated by Tveten and Tveten (1996) presumably both from Texas, and a green larva by Allen (1997).  Because most of the subspecies are weakly defined and the characters used are mostly not concordant with foodplants northward, most information in this database will be found under the full species rather than the subspecies. A few recent authors use the generic name <i>Deciduiphagus,</i> which certainly appears to be a valid clade, and many mid 20th century works used <i>Incisalia</i> which probably should be restricted to the <i>C. niphon</i> group. The taxon <i>solatus</i> has not been carefully evaluated for this account. Dale Schweitzer'}"
      ]
     },
     "metadata": {},
     "output_type": "display_data"
    },
    {
     "name": "stdout",
     "output_type": "stream",
     "text": [
      "Original Scientific Name: Mitoura grynea\n",
      "NatureServe Scientific Name: Callophrys gryneus\n"
     ]
    },
    {
     "data": {
      "text/plain": [
       "{'class': 'Insecta',\n",
       " 'family': 'Lycaenidae',\n",
       " 'genus': 'Callophrys',\n",
       " 'genusSize': {'code': 'D',\n",
       "  'description': 'D - Medium to large genus (21+ species)'},\n",
       " 'kingdom': 'Animalia',\n",
       " 'order': 'Lepidoptera',\n",
       " 'phylum': 'Mandibulata',\n",
       " 'taxonomicComments': 'Previously placed in genus <i>Mitoura</i>. Several western taxa that were long considered separate species (e.g.<i> siva</i>) are now considered to be subspecies. Some workers have suggested that <i>sweadneri</i> might be a separate species but evidence continues to accumulate that it is only a subspecies (see Gatrelle (2001) for discussion and note his concept subspecies <i>smilacis</i> which looks close to <i>sweadneri</i>. D. Schweitzer'}"
      ]
     },
     "metadata": {},
     "output_type": "display_data"
    },
    {
     "name": "stdout",
     "output_type": "stream",
     "text": [
      "Original Scientific Name: Papilio bairdii\n",
      "NatureServe Scientific Name: Papilio machaon bairdii\n"
     ]
    },
    {
     "data": {
      "text/plain": [
       "{'class': 'Insecta',\n",
       " 'family': 'Papilionidae',\n",
       " 'genus': 'Papilio',\n",
       " 'genusSize': {'code': 'D',\n",
       "  'description': 'D - Medium to large genus (21+ species)'},\n",
       " 'kingdom': 'Animalia',\n",
       " 'order': 'Lepidoptera',\n",
       " 'phylum': 'Mandibulata'}"
      ]
     },
     "metadata": {},
     "output_type": "display_data"
    },
    {
     "name": "stdout",
     "output_type": "stream",
     "text": [
      "Original Scientific Name: Pellaea glabella var. glabella\n",
      "NatureServe Scientific Name: Pellaea glabella ssp. glabella\n"
     ]
    },
    {
     "data": {
      "text/plain": [
       "{'class': 'Filicopsida',\n",
       " 'family': 'Pteridaceae',\n",
       " 'genus': 'Pellaea',\n",
       " 'kingdom': 'Plantae',\n",
       " 'order': 'Filicales',\n",
       " 'phylum': 'Filicinophyta',\n",
       " 'taxonomicComments': 'The common, apogamous subspecies of eastern North America (cf. FNA, 1993, and Yatskievych, 1999).'}"
      ]
     },
     "metadata": {},
     "output_type": "display_data"
    },
    {
     "name": "stdout",
     "output_type": "stream",
     "text": [
      "Original Scientific Name: Phyciodes pratensis\n",
      "NatureServe Scientific Name: Phyciodes pulchella\n"
     ]
    },
    {
     "data": {
      "text/plain": [
       "{'class': 'Insecta',\n",
       " 'family': 'Nymphalidae',\n",
       " 'genus': 'Phyciodes',\n",
       " 'genusSize': {'code': 'D',\n",
       "  'description': 'D - Medium to large genus (21+ species)'},\n",
       " 'kingdom': 'Animalia',\n",
       " 'order': 'Lepidoptera',\n",
       " 'phylum': 'Mandibulata',\n",
       " 'taxonomicComments': 'Opler and Warren (2002) state, \"Lectotype designation of <i>pulchella </i>by Emmel et al. (1998) displaces <i>pratensis </i>(Behr, 1863).\"  The use of <i>pulchella </i>over <i>campestris </i>and <i>pratensis </i>follows Scott (1994), though it is disputed by some (e.g. Layberry et al., 1998). According to Pelham (2008), a petition to the I.C.Z.N. may be needed to resolve the matter.'}"
      ]
     },
     "metadata": {},
     "output_type": "display_data"
    },
    {
     "name": "stdout",
     "output_type": "stream",
     "text": [
      "Original Scientific Name: Physaria arenosa var. arenosa\n",
      "NatureServe Scientific Name: Lesquerella arenosa var. arenosa\n"
     ]
    },
    {
     "data": {
      "text/plain": [
       "{'class': 'Dicotyledoneae',\n",
       " 'family': 'Brassicaceae',\n",
       " 'genus': 'Lesquerella',\n",
       " 'kingdom': 'Plantae',\n",
       " 'order': 'Capparales',\n",
       " 'phylum': 'Anthophyta'}"
      ]
     },
     "metadata": {},
     "output_type": "display_data"
    },
    {
     "name": "stdout",
     "output_type": "stream",
     "text": [
      "Original Scientific Name: Physaria ovalifolia var. ovalifolia\n",
      "NatureServe Scientific Name: Lesquerella ovalifolia ssp. ovalifolia\n"
     ]
    },
    {
     "data": {
      "text/plain": [
       "{'class': 'Dicotyledoneae',\n",
       " 'family': 'Brassicaceae',\n",
       " 'genus': 'Lesquerella',\n",
       " 'kingdom': 'Plantae',\n",
       " 'order': 'Capparales',\n",
       " 'phylum': 'Anthophyta'}"
      ]
     },
     "metadata": {},
     "output_type": "display_data"
    },
    {
     "name": "stdout",
     "output_type": "stream",
     "text": [
      "Original Scientific Name: Sidalcea neomexicana var. neomexicana\n",
      "NatureServe Scientific Name: Sidalcea neomexicana ssp. neomexicana\n"
     ]
    },
    {
     "data": {
      "text/plain": [
       "{'class': 'Dicotyledoneae',\n",
       " 'family': 'Malvaceae',\n",
       " 'genus': 'Sidalcea',\n",
       " 'kingdom': 'Plantae',\n",
       " 'order': 'Malvales',\n",
       " 'phylum': 'Anthophyta'}"
      ]
     },
     "metadata": {},
     "output_type": "display_data"
    },
    {
     "name": "stdout",
     "output_type": "stream",
     "text": [
      "Original Scientific Name: Thessalia fulvia\n",
      "NatureServe Scientific Name: Chlosyne fulvia\n"
     ]
    },
    {
     "data": {
      "text/plain": [
       "{'class': 'Insecta',\n",
       " 'family': 'Nymphalidae',\n",
       " 'genus': 'Chlosyne',\n",
       " 'genusSize': {'code': 'D',\n",
       "  'description': 'D - Medium to large genus (21+ species)'},\n",
       " 'kingdom': 'Animalia',\n",
       " 'order': 'Lepidoptera',\n",
       " 'phylum': 'Mandibulata',\n",
       " 'taxonomicComments': '<i>Thessalia </i>Scudder, 1875 is considered a synonym of <i>Chlosyne </i>(see also Wahlberg and Zimmerman, 2000).'}"
      ]
     },
     "metadata": {},
     "output_type": "display_data"
    },
    {
     "name": "stdout",
     "output_type": "stream",
     "text": [
      "Original Scientific Name: Viola lanceolata var. lanceolata\n",
      "NatureServe Scientific Name: Viola lanceolata ssp. lanceolata\n"
     ]
    },
    {
     "data": {
      "text/plain": [
       "{'class': 'Dicotyledoneae',\n",
       " 'family': 'Violaceae',\n",
       " 'genus': 'Viola',\n",
       " 'kingdom': 'Plantae',\n",
       " 'order': 'Violales',\n",
       " 'phylum': 'Anthophyta',\n",
       " 'taxonomicComments': 'FNA (vol. 6, 2015) does not recognize Viola lanceolata ssp. lanceolata as distinct.'}"
      ]
     },
     "metadata": {},
     "output_type": "display_data"
    },
    {
     "name": "stdout",
     "output_type": "stream",
     "text": [
      "Original Scientific Name: Lasioglossum anomalum\n",
      "NatureServe Scientific Name: Lasioglossum anomalum\n"
     ]
    },
    {
     "data": {
      "text/plain": [
       "{'class': 'Insecta',\n",
       " 'family': 'Halictidae',\n",
       " 'genus': 'Lasioglossum',\n",
       " 'kingdom': 'Animalia',\n",
       " 'order': 'Hymenoptera',\n",
       " 'phylum': 'Mandibulata'}"
      ]
     },
     "metadata": {},
     "output_type": "display_data"
    },
    {
     "name": "stdout",
     "output_type": "stream",
     "text": [
      "Original Scientific Name: Lasioglossum atwoodi\n",
      "NatureServe Scientific Name: Lasioglossum atwoodi\n"
     ]
    },
    {
     "data": {
      "text/plain": [
       "{'class': 'Insecta',\n",
       " 'family': 'Halictidae',\n",
       " 'genus': 'Lasioglossum',\n",
       " 'kingdom': 'Animalia',\n",
       " 'order': 'Hymenoptera',\n",
       " 'phylum': 'Mandibulata'}"
      ]
     },
     "metadata": {},
     "output_type": "display_data"
    },
    {
     "name": "stdout",
     "output_type": "stream",
     "text": [
      "Original Scientific Name: Lasioglossum ellisiae\n",
      "NatureServe Scientific Name: Lasioglossum ellisiae\n"
     ]
    },
    {
     "data": {
      "text/plain": [
       "{'class': 'Insecta',\n",
       " 'family': 'Halictidae',\n",
       " 'genus': 'Lasioglossum',\n",
       " 'kingdom': 'Animalia',\n",
       " 'order': 'Hymenoptera',\n",
       " 'phylum': 'Mandibulata'}"
      ]
     },
     "metadata": {},
     "output_type": "display_data"
    },
    {
     "name": "stdout",
     "output_type": "stream",
     "text": [
      "Original Scientific Name: Lasioglossum planatum\n",
      "NatureServe Scientific Name: Lasioglossum planatum\n"
     ]
    },
    {
     "data": {
      "text/plain": [
       "{'class': 'Insecta',\n",
       " 'family': 'Halictidae',\n",
       " 'genus': 'Lasioglossum',\n",
       " 'kingdom': 'Animalia',\n",
       " 'order': 'Hymenoptera',\n",
       " 'phylum': 'Mandibulata'}"
      ]
     },
     "metadata": {},
     "output_type": "display_data"
    },
    {
     "name": "stdout",
     "output_type": "stream",
     "text": [
      "Original Scientific Name: Lasioglossum smilacinae\n",
      "NatureServe Scientific Name: Lasioglossum smilacinae\n"
     ]
    },
    {
     "data": {
      "text/plain": [
       "{'class': 'Insecta',\n",
       " 'family': 'Halictidae',\n",
       " 'genus': 'Lasioglossum',\n",
       " 'kingdom': 'Animalia',\n",
       " 'order': 'Hymenoptera',\n",
       " 'phylum': 'Mandibulata'}"
      ]
     },
     "metadata": {},
     "output_type": "display_data"
    },
    {
     "name": "stdout",
     "output_type": "stream",
     "text": [
      "Original Scientific Name: Lasioglossum taylorae\n",
      "NatureServe Scientific Name: Lasioglossum taylorae\n"
     ]
    },
    {
     "data": {
      "text/plain": [
       "{'class': 'Insecta',\n",
       " 'family': 'Halictidae',\n",
       " 'genus': 'Lasioglossum',\n",
       " 'kingdom': 'Animalia',\n",
       " 'order': 'Hymenoptera',\n",
       " 'phylum': 'Mandibulata'}"
      ]
     },
     "metadata": {},
     "output_type": "display_data"
    },
    {
     "name": "stdout",
     "output_type": "stream",
     "text": [
      "Original Scientific Name: Crambus daeckellus\n",
      "NatureServe Scientific Name: Crambus daeckellus\n"
     ]
    },
    {
     "data": {
      "text/plain": [
       "{'class': 'Insecta',\n",
       " 'family': 'Crambidae',\n",
       " 'genus': 'Crambus',\n",
       " 'genusSize': {'code': 'D',\n",
       "  'description': 'D - Medium to large genus (21+ species)'},\n",
       " 'kingdom': 'Animalia',\n",
       " 'order': 'Lepidoptera',\n",
       " 'phylum': 'Mandibulata',\n",
       " 'taxonomicComments': 'This is one of the most distinctive species of the genus. Species name is misspelled DAECKEELLUS in 1994 Federal Register.'}"
      ]
     },
     "metadata": {},
     "output_type": "display_data"
    },
    {
     "name": "stdout",
     "output_type": "stream",
     "text": [
      "Original Scientific Name: Tarachidia semiflava\n",
      "NatureServe Scientific Name: Ponometia semiflava\n"
     ]
    },
    {
     "data": {
      "text/plain": [
       "{'class': 'Insecta',\n",
       " 'family': 'Noctuidae',\n",
       " 'genus': 'Ponometia',\n",
       " 'kingdom': 'Animalia',\n",
       " 'order': 'Lepidoptera',\n",
       " 'phylum': 'Mandibulata',\n",
       " 'taxonomicComments': 'Generic treatment, generic combinations, and synonymy of <i>Tarachidia</i> Hampson, <i>Fruva</i> Grote, and <i>Conochares</i> Smith with <i>Ponometia</i> follow Lafontaine and Poole (2010).'}"
      ]
     },
     "metadata": {},
     "output_type": "display_data"
    },
    {
     "name": "stdout",
     "output_type": "stream",
     "text": [
      "Original Scientific Name: Achatinella apexfulva\n",
      "NatureServe Scientific Name: Achatinella apexfulva\n"
     ]
    },
    {
     "data": {
      "text/plain": [
       "{'class': 'Gastropoda',\n",
       " 'family': 'Achatinellidae',\n",
       " 'genus': 'Achatinella',\n",
       " 'genusSize': {'code': 'D',\n",
       "  'description': 'D - Medium to large genus (21+ species)'},\n",
       " 'kingdom': 'Animalia',\n",
       " 'order': 'Stylommatophora',\n",
       " 'phylum': 'Mollusca'}"
      ]
     },
     "metadata": {},
     "output_type": "display_data"
    },
    {
     "name": "stdout",
     "output_type": "stream",
     "text": [
      "Original Scientific Name: Achatinella bulimoides\n",
      "NatureServe Scientific Name: Achatinella bulimoides\n"
     ]
    },
    {
     "data": {
      "text/plain": [
       "{'class': 'Gastropoda',\n",
       " 'family': 'Achatinellidae',\n",
       " 'genus': 'Achatinella',\n",
       " 'genusSize': {'code': 'D',\n",
       "  'description': 'D - Medium to large genus (21+ species)'},\n",
       " 'kingdom': 'Animalia',\n",
       " 'order': 'Stylommatophora',\n",
       " 'phylum': 'Mollusca',\n",
       " 'taxonomicComments': 'See Recovery Plan for list of synonyms.'}"
      ]
     },
     "metadata": {},
     "output_type": "display_data"
    },
    {
     "name": "stdout",
     "output_type": "stream",
     "text": [
      "Original Scientific Name: Achatinella byronii/ decepiens\n",
      "'Cleaned' Scientific Name (for processing): Achatinella byronii\n",
      "NatureServe Scientific Name: Achatinella byronii\n"
     ]
    },
    {
     "data": {
      "text/plain": [
       "{'class': 'Gastropoda',\n",
       " 'family': 'Achatinellidae',\n",
       " 'genus': 'Achatinella',\n",
       " 'genusSize': {'code': 'D',\n",
       "  'description': 'D - Medium to large genus (21+ species)'},\n",
       " 'kingdom': 'Animalia',\n",
       " 'order': 'Stylommatophora',\n",
       " 'phylum': 'Mollusca'}"
      ]
     },
     "metadata": {},
     "output_type": "display_data"
    },
    {
     "name": "stdout",
     "output_type": "stream",
     "text": [
      "Original Scientific Name: Achatinella concavospira\n",
      "NatureServe Scientific Name: Achatinella concavospira\n"
     ]
    },
    {
     "data": {
      "text/plain": [
       "{'class': 'Gastropoda',\n",
       " 'family': 'Achatinellidae',\n",
       " 'genus': 'Achatinella',\n",
       " 'genusSize': {'code': 'D',\n",
       "  'description': 'D - Medium to large genus (21+ species)'},\n",
       " 'kingdom': 'Animalia',\n",
       " 'order': 'Stylommatophora',\n",
       " 'phylum': 'Mollusca'}"
      ]
     },
     "metadata": {},
     "output_type": "display_data"
    },
    {
     "name": "stdout",
     "output_type": "stream",
     "text": [
      "Original Scientific Name: Achatinella fulgens\n",
      "NatureServe Scientific Name: Achatinella fulgens\n"
     ]
    },
    {
     "data": {
      "text/plain": [
       "{'class': 'Gastropoda',\n",
       " 'family': 'Achatinellidae',\n",
       " 'genus': 'Achatinella',\n",
       " 'genusSize': {'code': 'D',\n",
       "  'description': 'D - Medium to large genus (21+ species)'},\n",
       " 'kingdom': 'Animalia',\n",
       " 'order': 'Stylommatophora',\n",
       " 'phylum': 'Mollusca'}"
      ]
     },
     "metadata": {},
     "output_type": "display_data"
    },
    {
     "name": "stdout",
     "output_type": "stream",
     "text": [
      "Original Scientific Name: Achatinella fuscobasis\n",
      "NatureServe Scientific Name: Achatinella fuscobasis\n"
     ]
    },
    {
     "data": {
      "text/plain": [
       "{'class': 'Gastropoda',\n",
       " 'family': 'Achatinellidae',\n",
       " 'genus': 'Achatinella',\n",
       " 'genusSize': {'code': 'D',\n",
       "  'description': 'D - Medium to large genus (21+ species)'},\n",
       " 'kingdom': 'Animalia',\n",
       " 'order': 'Stylommatophora',\n",
       " 'phylum': 'Mollusca'}"
      ]
     },
     "metadata": {},
     "output_type": "display_data"
    },
    {
     "name": "stdout",
     "output_type": "stream",
     "text": [
      "Original Scientific Name: Achatinella lila\n",
      "NatureServe Scientific Name: Achatinella lila\n"
     ]
    },
    {
     "data": {
      "text/plain": [
       "{'class': 'Gastropoda',\n",
       " 'family': 'Achatinellidae',\n",
       " 'genus': 'Achatinella',\n",
       " 'genusSize': {'code': 'D',\n",
       "  'description': 'D - Medium to large genus (21+ species)'},\n",
       " 'kingdom': 'Animalia',\n",
       " 'order': 'Stylommatophora',\n",
       " 'phylum': 'Mollusca'}"
      ]
     },
     "metadata": {},
     "output_type": "display_data"
    },
    {
     "name": "stdout",
     "output_type": "stream",
     "text": [
      "Original Scientific Name: Achatinella livida\n",
      "NatureServe Scientific Name: Achatinella livida\n"
     ]
    },
    {
     "data": {
      "text/plain": [
       "{'class': 'Gastropoda',\n",
       " 'family': 'Achatinellidae',\n",
       " 'genus': 'Achatinella',\n",
       " 'genusSize': {'code': 'D',\n",
       "  'description': 'D - Medium to large genus (21+ species)'},\n",
       " 'kingdom': 'Animalia',\n",
       " 'order': 'Stylommatophora',\n",
       " 'phylum': 'Mollusca'}"
      ]
     },
     "metadata": {},
     "output_type": "display_data"
    },
    {
     "name": "stdout",
     "output_type": "stream",
     "text": [
      "Original Scientific Name: Achatinella mustelina\n",
      "NatureServe Scientific Name: Achatinella mustelina\n"
     ]
    },
    {
     "data": {
      "text/plain": [
       "{'class': 'Gastropoda',\n",
       " 'family': 'Achatinellidae',\n",
       " 'genus': 'Achatinella',\n",
       " 'genusSize': {'code': 'D',\n",
       "  'description': 'D - Medium to large genus (21+ species)'},\n",
       " 'kingdom': 'Animalia',\n",
       " 'order': 'Stylommatophora',\n",
       " 'phylum': 'Mollusca',\n",
       " 'taxonomicComments': 'Holland and Hadfield (2007) sampled <i>Achatinella mustelina </i>corresponding to 13 of the 25 subspecies recognized by Welch (1938) (26 including <i>A. m. mustelina</i>) and synonymized the 21 subspecies introduced by Welch (1938) plus the four additional taxa of other authors that Welch retained as subspecies in his monograph with the nominotypical <i>Achatinella mustelina </i>Mighels, 1845.  These include <i>Achatinella mustelina altiformis </i>Welch, 1938, <i>Achatinella mustelina brunibasis </i>Welch, 1938, A<i>chatinella mustelina brunicolor </i>Welch, 1938, <i>Achatinella mustelina christopherseni </i>Welch, 1938, <i>Achatinella mustelina collaris </i>Welch, 1938, <i>Achatinella mustelina griseitincta </i>Welch, 1938, <i>Achatinella mustelina kaalaensis </i>Welch, 1938, <i>Achatinella mustelina kapuensis </i>Welch, 1938, <i>Achatinella mustelina makahaensis </i>Pilsbry and Cooke, 1914, <i>Achatinella mustelina mixta </i>Welch, 1938, <i>Achatinella mustelina popouwelensis </i>Welch, 1938, <i>Achatinella mustelina waianaeensis </i>Welch, 1938, <i>Achatinella sordida </i>Newcomb, 1854, <i>Achatinella lymaniana </i>Baldwin, 1895, <i>Achatinella mustelina bicolor </i>Pfeiffer, 1859, <i>Achatinella mustelina dautzenbergi </i>Welch, 1938, <i>Achatinella mustelina decolor </i>Welch, 1938, <i>Achatinella mustelina diffusa </i>Welch, 1938, <i>Achatinella mustelina griseipicta </i>Welch, 1938, <i>Achatinella mustelina lathropae </i>Welch, 1938, <i>Achatinella mustelina mailiensis </i>Welch, 1938, <i>Achatinella mustelina maxima </i>Welch, 1938, <i>Achatinella mustelina nocturna </i>Welch, 1938, <i>Achatinella mustelina obesiformis </i>Welch, 1938, and <i>Achatinella mustelina russi </i>Welch, 1938.'}"
      ]
     },
     "metadata": {},
     "output_type": "display_data"
    },
    {
     "name": "stdout",
     "output_type": "stream",
     "text": [
      "Original Scientific Name: Achatinella pupukanioe\n",
      "NatureServe Scientific Name: Achatinella pupukanioe\n"
     ]
    },
    {
     "data": {
      "text/plain": [
       "{'class': 'Gastropoda',\n",
       " 'family': 'Achatinellidae',\n",
       " 'genus': 'Achatinella',\n",
       " 'genusSize': {'code': 'D',\n",
       "  'description': 'D - Medium to large genus (21+ species)'},\n",
       " 'kingdom': 'Animalia',\n",
       " 'order': 'Stylommatophora',\n",
       " 'phylum': 'Mollusca'}"
      ]
     },
     "metadata": {},
     "output_type": "display_data"
    },
    {
     "name": "stdout",
     "output_type": "stream",
     "text": [
      "Original Scientific Name: Achatinella sowerbyana\n",
      "NatureServe Scientific Name: Achatinella sowerbyana\n"
     ]
    },
    {
     "data": {
      "text/plain": [
       "{'class': 'Gastropoda',\n",
       " 'family': 'Achatinellidae',\n",
       " 'genus': 'Achatinella',\n",
       " 'genusSize': {'code': 'D',\n",
       "  'description': 'D - Medium to large genus (21+ species)'},\n",
       " 'kingdom': 'Animalia',\n",
       " 'order': 'Stylommatophora',\n",
       " 'phylum': 'Mollusca',\n",
       " 'taxonomicComments': 'Synonyms include A. OVIFORMIS, A. MULTICOLOR and BULIMELLA SOWERBYANA.'}"
      ]
     },
     "metadata": {},
     "output_type": "display_data"
    },
    {
     "name": "stdout",
     "output_type": "stream",
     "text": [
      "Original Scientific Name: Amastra cylindrica\n",
      "NatureServe Scientific Name: Amastra cylindrica\n"
     ]
    },
    {
     "data": {
      "text/plain": [
       "{'class': 'Gastropoda',\n",
       " 'family': 'Amastridae',\n",
       " 'genus': 'Amastra',\n",
       " 'genusSize': {'code': 'D',\n",
       "  'description': 'D - Medium to large genus (21+ species)'},\n",
       " 'kingdom': 'Animalia',\n",
       " 'order': 'Stylommatophora',\n",
       " 'phylum': 'Mollusca'}"
      ]
     },
     "metadata": {},
     "output_type": "display_data"
    },
    {
     "name": "stdout",
     "output_type": "stream",
     "text": [
      "Original Scientific Name: Amastra spirizona\n",
      "NatureServe Scientific Name: Amastra spirizona\n"
     ]
    },
    {
     "data": {
      "text/plain": [
       "{'class': 'Gastropoda',\n",
       " 'family': 'Amastridae',\n",
       " 'genus': 'Amastra',\n",
       " 'genusSize': {'code': 'D',\n",
       "  'description': 'D - Medium to large genus (21+ species)'},\n",
       " 'kingdom': 'Animalia',\n",
       " 'order': 'Stylommatophora',\n",
       " 'phylum': 'Mollusca'}"
      ]
     },
     "metadata": {},
     "output_type": "display_data"
    },
    {
     "name": "stdout",
     "output_type": "stream",
     "text": [
      "Original Scientific Name: Auriculella pulchra\n",
      "NatureServe Scientific Name: Auriculella pulchra\n"
     ]
    },
    {
     "data": {
      "text/plain": [
       "{'class': 'Gastropoda',\n",
       " 'family': 'Achatinellidae',\n",
       " 'genus': 'Auriculella',\n",
       " 'kingdom': 'Animalia',\n",
       " 'order': 'Stylommatophora',\n",
       " 'phylum': 'Mollusca',\n",
       " 'taxonomicComments': 'Formerly a member of the family Tornatellinidae which has now been lumped with Achatinellidae.'}"
      ]
     },
     "metadata": {},
     "output_type": "display_data"
    },
    {
     "name": "stdout",
     "output_type": "stream",
     "text": [
      "Original Scientific Name: Cookeconcha hystricella\n",
      "NatureServe Scientific Name: Cookeconcha hystricella\n"
     ]
    },
    {
     "data": {
      "text/plain": [
       "{'class': 'Gastropoda',\n",
       " 'family': 'Endodontidae',\n",
       " 'genus': 'Cookeconcha',\n",
       " 'kingdom': 'Animalia',\n",
       " 'order': 'Stylommatophora',\n",
       " 'phylum': 'Mollusca'}"
      ]
     },
     "metadata": {},
     "output_type": "display_data"
    },
    {
     "name": "stdout",
     "output_type": "stream",
     "text": [
      "Original Scientific Name: Drosophila differens\n",
      "NatureServe Scientific Name: Drosophila differens\n"
     ]
    },
    {
     "data": {
      "text/plain": [
       "{'class': 'Insecta',\n",
       " 'family': 'Drosophilidae',\n",
       " 'genus': 'Drosophila',\n",
       " 'genusSize': {'code': 'D',\n",
       "  'description': 'D - Medium to large genus (21+ species)'},\n",
       " 'kingdom': 'Animalia',\n",
       " 'order': 'Diptera',\n",
       " 'phylum': 'Mandibulata'}"
      ]
     },
     "metadata": {},
     "output_type": "display_data"
    },
    {
     "name": "stdout",
     "output_type": "stream",
     "text": [
      "Original Scientific Name: Drosophila digressa\n",
      "NatureServe Scientific Name: Drosophila digressa\n"
     ]
    },
    {
     "data": {
      "text/plain": [
       "{'class': 'Insecta',\n",
       " 'family': 'Drosophilidae',\n",
       " 'genus': 'Drosophila',\n",
       " 'genusSize': {'code': 'D',\n",
       "  'description': 'D - Medium to large genus (21+ species)'},\n",
       " 'kingdom': 'Animalia',\n",
       " 'order': 'Diptera',\n",
       " 'phylum': 'Mandibulata'}"
      ]
     },
     "metadata": {},
     "output_type": "display_data"
    },
    {
     "name": "stdout",
     "output_type": "stream",
     "text": [
      "Original Scientific Name: Drosophila heteroneura\n",
      "NatureServe Scientific Name: Drosophila heteroneura\n"
     ]
    },
    {
     "data": {
      "text/plain": [
       "{'class': 'Insecta',\n",
       " 'family': 'Drosophilidae',\n",
       " 'genus': 'Drosophila',\n",
       " 'genusSize': {'code': 'D',\n",
       "  'description': 'D - Medium to large genus (21+ species)'},\n",
       " 'kingdom': 'Animalia',\n",
       " 'order': 'Diptera',\n",
       " 'phylum': 'Mandibulata'}"
      ]
     },
     "metadata": {},
     "output_type": "display_data"
    },
    {
     "name": "stdout",
     "output_type": "stream",
     "text": [
      "Original Scientific Name: Drosophila montgomeryi\n",
      "NatureServe Scientific Name: Drosophila montgomeryi\n"
     ]
    },
    {
     "data": {
      "text/plain": [
       "{'class': 'Insecta',\n",
       " 'family': 'Drosophilidae',\n",
       " 'genus': 'Drosophila',\n",
       " 'genusSize': {'code': 'D',\n",
       "  'description': 'D - Medium to large genus (21+ species)'},\n",
       " 'kingdom': 'Animalia',\n",
       " 'order': 'Diptera',\n",
       " 'phylum': 'Mandibulata'}"
      ]
     },
     "metadata": {},
     "output_type": "display_data"
    },
    {
     "name": "stdout",
     "output_type": "stream",
     "text": [
      "Original Scientific Name: Drosophila hemipeza\n",
      "NatureServe Scientific Name: Drosophila hemipeza\n"
     ]
    },
    {
     "data": {
      "text/plain": [
       "{'class': 'Insecta',\n",
       " 'family': 'Drosophilidae',\n",
       " 'genus': 'Drosophila',\n",
       " 'genusSize': {'code': 'D',\n",
       "  'description': 'D - Medium to large genus (21+ species)'},\n",
       " 'kingdom': 'Animalia',\n",
       " 'order': 'Diptera',\n",
       " 'phylum': 'Mandibulata'}"
      ]
     },
     "metadata": {},
     "output_type": "display_data"
    },
    {
     "name": "stdout",
     "output_type": "stream",
     "text": [
      "Original Scientific Name: Drosophila neoclavisetae\n",
      "NatureServe Scientific Name: Drosophila neoclavisetae\n"
     ]
    },
    {
     "data": {
      "text/plain": [
       "{'class': 'Insecta',\n",
       " 'family': 'Drosophilidae',\n",
       " 'genus': 'Drosophila',\n",
       " 'genusSize': {'code': 'D',\n",
       "  'description': 'D - Medium to large genus (21+ species)'},\n",
       " 'kingdom': 'Animalia',\n",
       " 'order': 'Diptera',\n",
       " 'phylum': 'Mandibulata'}"
      ]
     },
     "metadata": {},
     "output_type": "display_data"
    },
    {
     "name": "stdout",
     "output_type": "stream",
     "text": [
      "Original Scientific Name: Drosophila obatai\n",
      "NatureServe Scientific Name: Drosophila obatai\n"
     ]
    },
    {
     "data": {
      "text/plain": [
       "{'class': 'Insecta',\n",
       " 'family': 'Drosophilidae',\n",
       " 'genus': 'Drosophila',\n",
       " 'genusSize': {'code': 'D',\n",
       "  'description': 'D - Medium to large genus (21+ species)'},\n",
       " 'kingdom': 'Animalia',\n",
       " 'order': 'Diptera',\n",
       " 'phylum': 'Mandibulata'}"
      ]
     },
     "metadata": {},
     "output_type": "display_data"
    },
    {
     "name": "stdout",
     "output_type": "stream",
     "text": [
      "Original Scientific Name: Drosophila ochrobasis\n",
      "NatureServe Scientific Name: Drosophila ochrobasis\n"
     ]
    },
    {
     "data": {
      "text/plain": [
       "{'class': 'Insecta',\n",
       " 'family': 'Drosophilidae',\n",
       " 'genus': 'Drosophila',\n",
       " 'genusSize': {'code': 'D',\n",
       "  'description': 'D - Medium to large genus (21+ species)'},\n",
       " 'kingdom': 'Animalia',\n",
       " 'order': 'Diptera',\n",
       " 'phylum': 'Mandibulata'}"
      ]
     },
     "metadata": {},
     "output_type": "display_data"
    },
    {
     "name": "stdout",
     "output_type": "stream",
     "text": [
      "Original Scientific Name: Drosophila substenoptera\n",
      "NatureServe Scientific Name: Drosophila substenoptera\n"
     ]
    },
    {
     "data": {
      "text/plain": [
       "{'class': 'Insecta',\n",
       " 'family': 'Drosophilidae',\n",
       " 'genus': 'Drosophila',\n",
       " 'genusSize': {'code': 'D',\n",
       "  'description': 'D - Medium to large genus (21+ species)'},\n",
       " 'kingdom': 'Animalia',\n",
       " 'order': 'Diptera',\n",
       " 'phylum': 'Mandibulata'}"
      ]
     },
     "metadata": {},
     "output_type": "display_data"
    },
    {
     "name": "stdout",
     "output_type": "stream",
     "text": [
      "Original Scientific Name: Laminella aspera\n",
      "NatureServe Scientific Name: Laminella aspera\n"
     ]
    },
    {
     "data": {
      "text/plain": [
       "{'class': 'Gastropoda',\n",
       " 'family': 'Amastridae',\n",
       " 'genus': 'Laminella',\n",
       " 'kingdom': 'Animalia',\n",
       " 'order': 'Stylommatophora',\n",
       " 'phylum': 'Mollusca'}"
      ]
     },
     "metadata": {},
     "output_type": "display_data"
    },
    {
     "name": "stdout",
     "output_type": "stream",
     "text": [
      "Original Scientific Name: Laminella sanguinea\n",
      "NatureServe Scientific Name: Laminella sanguinea\n"
     ]
    },
    {
     "data": {
      "text/plain": [
       "{'class': 'Gastropoda',\n",
       " 'family': 'Amastridae',\n",
       " 'genus': 'Laminella',\n",
       " 'kingdom': 'Animalia',\n",
       " 'order': 'Stylommatophora',\n",
       " 'phylum': 'Mollusca'}"
      ]
     },
     "metadata": {},
     "output_type": "display_data"
    },
    {
     "name": "stdout",
     "output_type": "stream",
     "text": [
      "Original Scientific Name: Newcombia cumingi\n",
      "NatureServe Scientific Name: Newcombia cumingi\n"
     ]
    },
    {
     "data": {
      "text/plain": [
       "{'class': 'Gastropoda',\n",
       " 'family': 'Achatinellidae',\n",
       " 'genus': 'Newcombia',\n",
       " 'kingdom': 'Animalia',\n",
       " 'order': 'Stylommatophora',\n",
       " 'phylum': 'Mollusca'}"
      ]
     },
     "metadata": {},
     "output_type": "display_data"
    },
    {
     "name": "stdout",
     "output_type": "stream",
     "text": [
      "Original Scientific Name: Partulina mighelsiana\n",
      "NatureServe Scientific Name: Partulina mighelsiana\n"
     ]
    },
    {
     "data": {
      "text/plain": [
       "{'class': 'Gastropoda',\n",
       " 'family': 'Achatinellidae',\n",
       " 'genus': 'Partulina',\n",
       " 'genusSize': {'code': 'D',\n",
       "  'description': 'D - Medium to large genus (21+ species)'},\n",
       " 'kingdom': 'Animalia',\n",
       " 'order': 'Stylommatophora',\n",
       " 'phylum': 'Mollusca'}"
      ]
     },
     "metadata": {},
     "output_type": "display_data"
    },
    {
     "name": "stdout",
     "output_type": "stream",
     "text": [
      "Original Scientific Name: Partulina proxima\n",
      "NatureServe Scientific Name: Partulina proxima\n"
     ]
    },
    {
     "data": {
      "text/plain": [
       "{'class': 'Gastropoda',\n",
       " 'family': 'Achatinellidae',\n",
       " 'genus': 'Partulina',\n",
       " 'genusSize': {'code': 'D',\n",
       "  'description': 'D - Medium to large genus (21+ species)'},\n",
       " 'kingdom': 'Animalia',\n",
       " 'order': 'Stylommatophora',\n",
       " 'phylum': 'Mollusca',\n",
       " 'taxonomicComments': 'Similar to P. MARMORATA of Maui. P. RUFA may be hybrid of this species and P. TESSELLATA and may look like either species.'}"
      ]
     },
     "metadata": {},
     "output_type": "display_data"
    },
    {
     "name": "stdout",
     "output_type": "stream",
     "text": [
      "Original Scientific Name: Partulina redfieldi\n",
      "NatureServe Scientific Name: Partulina redfieldi\n"
     ]
    },
    {
     "data": {
      "text/plain": [
       "{'class': 'Gastropoda',\n",
       " 'family': 'Achatinellidae',\n",
       " 'genus': 'Partulina',\n",
       " 'genusSize': {'code': 'D',\n",
       "  'description': 'D - Medium to large genus (21+ species)'},\n",
       " 'kingdom': 'Animalia',\n",
       " 'order': 'Stylommatophora',\n",
       " 'phylum': 'Mollusca'}"
      ]
     },
     "metadata": {},
     "output_type": "display_data"
    },
    {
     "name": "stdout",
     "output_type": "stream",
     "text": [
      "Original Scientific Name: Partulina semicarinata\n",
      "NatureServe Scientific Name: Partulina semicarinata\n"
     ]
    },
    {
     "data": {
      "text/plain": [
       "{'class': 'Gastropoda',\n",
       " 'family': 'Achatinellidae',\n",
       " 'genus': 'Partulina',\n",
       " 'genusSize': {'code': 'D',\n",
       "  'description': 'D - Medium to large genus (21+ species)'},\n",
       " 'kingdom': 'Animalia',\n",
       " 'order': 'Stylommatophora',\n",
       " 'phylum': 'Mollusca'}"
      ]
     },
     "metadata": {},
     "output_type": "display_data"
    },
    {
     "name": "stdout",
     "output_type": "stream",
     "text": [
      "Original Scientific Name: Partulina tessellata\n",
      "NatureServe Scientific Name: Partulina tessellata\n"
     ]
    },
    {
     "data": {
      "text/plain": [
       "{'class': 'Gastropoda',\n",
       " 'family': 'Achatinellidae',\n",
       " 'genus': 'Partulina',\n",
       " 'genusSize': {'code': 'D',\n",
       "  'description': 'D - Medium to large genus (21+ species)'},\n",
       " 'kingdom': 'Animalia',\n",
       " 'order': 'Stylommatophora',\n",
       " 'phylum': 'Mollusca',\n",
       " 'taxonomicComments': 'One subspecies (MEYERI) has a form similar to P. VIRGULATA. P. RUFA may be a hybrid between this species and P. PROXIMA and may look like either species.'}"
      ]
     },
     "metadata": {},
     "output_type": "display_data"
    },
    {
     "name": "stdout",
     "output_type": "stream",
     "text": [
      "Original Scientific Name: Partulina variabilis\n",
      "NatureServe Scientific Name: Partulina variabilis\n"
     ]
    },
    {
     "data": {
      "text/plain": [
       "{'class': 'Gastropoda',\n",
       " 'family': 'Achatinellidae',\n",
       " 'genus': 'Partulina',\n",
       " 'genusSize': {'code': 'D',\n",
       "  'description': 'D - Medium to large genus (21+ species)'},\n",
       " 'kingdom': 'Animalia',\n",
       " 'order': 'Stylommatophora',\n",
       " 'phylum': 'Mollusca'}"
      ]
     },
     "metadata": {},
     "output_type": "display_data"
    },
    {
     "name": "stdout",
     "output_type": "stream",
     "text": [
      "Original Scientific Name: Polyscias lydgatei\n",
      "NatureServe Scientific Name: Tetraplasandra lydgatei\n"
     ]
    },
    {
     "data": {
      "text/plain": [
       "{'class': 'Dicotyledoneae',\n",
       " 'family': 'Araliaceae',\n",
       " 'genus': 'Tetraplasandra',\n",
       " 'kingdom': 'Plantae',\n",
       " 'order': 'Apiales',\n",
       " 'phylum': 'Anthophyta',\n",
       " 'taxonomicComments': 'Kartesz (1999) included <i>Tetraplasandra lydgatei </i>in <i>T. oahuensis.</i> Motley (2005) presents evidence that <i>T. lydgatei </i>deserves formal taxonomic recognition as a distinct species. In 2011, the U.S. FWS recognized it, proposing Endangered status under the Endangered Species Act.  As of 2015, U.S. FWS recognizes this taxon as <i>Polyscias lydgatei </i>following Lowry and Plunkett (2010) and Wagner et al. (2012).'}"
      ]
     },
     "metadata": {},
     "output_type": "display_data"
    },
    {
     "name": "stdout",
     "output_type": "stream",
     "text": [
      "Original Scientific Name: Pritchardia bakeri\n",
      "NatureServe Scientific Name: Pritchardia bakeri\n"
     ]
    },
    {
     "data": {
      "text/plain": [
       "{'class': 'Monocotyledoneae',\n",
       " 'family': 'Arecaceae',\n",
       " 'genus': 'Pritchardia',\n",
       " 'kingdom': 'Plantae',\n",
       " 'order': 'Arecales',\n",
       " 'phylum': 'Anthophyta'}"
      ]
     },
     "metadata": {},
     "output_type": "display_data"
    },
    {
     "name": "stdout",
     "output_type": "stream",
     "text": [
      "Original Scientific Name: Epidemia epixanthe michiganensis\n",
      "NatureServe Scientific Name: Lycaena epixanthe michiganensis\n"
     ]
    },
    {
     "data": {
      "text/plain": [
       "{'class': 'Insecta',\n",
       " 'family': 'Lycaenidae',\n",
       " 'genus': 'Lycaena',\n",
       " 'genusSize': {'code': 'D',\n",
       "  'description': 'D - Medium to large genus (21+ species)'},\n",
       " 'kingdom': 'Animalia',\n",
       " 'order': 'Lepidoptera',\n",
       " 'phylum': 'Mandibulata',\n",
       " 'taxonomicComments': 'Probably merely the end of a cline, not a very distinctive taxon.'}"
      ]
     },
     "metadata": {},
     "output_type": "display_data"
    },
    {
     "name": "stdout",
     "output_type": "stream",
     "text": [
      "Original Scientific Name: Erebia disa mancinus\n",
      "NatureServe Scientific Name: Erebia mancinus\n"
     ]
    },
    {
     "data": {
      "text/plain": [
       "{'class': 'Insecta',\n",
       " 'family': 'Nymphalidae',\n",
       " 'genus': 'Erebia',\n",
       " 'genusSize': {'code': 'D',\n",
       "  'description': 'D - Medium to large genus (21+ species)'},\n",
       " 'kingdom': 'Animalia',\n",
       " 'order': 'Lepidoptera',\n",
       " 'phylum': 'Mandibulata',\n",
       " 'taxonomicComments': 'This taxon was long regarded as a subspecies of <i>Erebia disa</i> and sometimes simply referred to by that name. According to Layberry <i>et al</i>. (1998) and subsequent works the widespread common North American taxon is a separate species, <i>Erebia mancinus.   </i>'}"
      ]
     },
     "metadata": {},
     "output_type": "display_data"
    },
    {
     "name": "stdout",
     "output_type": "stream",
     "text": [
      "Original Scientific Name: Metaphidippus arizonensis\n",
      "NatureServe Scientific Name: Metaphidippus arizonensis\n"
     ]
    },
    {
     "data": {
      "text/plain": [
       "{'class': 'Arachnida',\n",
       " 'family': 'Salticidae',\n",
       " 'genus': 'Metaphidippus',\n",
       " 'kingdom': 'Animalia',\n",
       " 'order': 'Araneae',\n",
       " 'phylum': 'Chelicerata'}"
      ]
     },
     "metadata": {},
     "output_type": "display_data"
    },
    {
     "name": "stdout",
     "output_type": "stream",
     "text": [
      "Original Scientific Name: Ashmunella kochii caballoensis\n",
      "NatureServe Scientific Name: Ashmunella kochii caballoensis\n"
     ]
    },
    {
     "data": {
      "text/plain": [
       "{'class': 'Gastropoda',\n",
       " 'family': 'Polygyridae',\n",
       " 'genus': 'Ashmunella',\n",
       " 'kingdom': 'Animalia',\n",
       " 'order': 'Stylommatophora',\n",
       " 'phylum': 'Mollusca'}"
      ]
     },
     "metadata": {},
     "output_type": "display_data"
    },
    {
     "name": "stdout",
     "output_type": "stream",
     "text": [
      "Original Scientific Name: Gastrocopta dalliana dalliana\n",
      "NatureServe Scientific Name: Gastrocopta dalliana dalliana\n"
     ]
    },
    {
     "data": {
      "text/plain": [
       "{'class': 'Gastropoda',\n",
       " 'family': 'Pupillidae',\n",
       " 'genus': 'Gastrocopta',\n",
       " 'genusSize': {'code': 'D',\n",
       "  'description': 'D - Medium to large genus (21+ species)'},\n",
       " 'kingdom': 'Animalia',\n",
       " 'order': 'Stylommatophora',\n",
       " 'phylum': 'Mollusca'}"
      ]
     },
     "metadata": {},
     "output_type": "display_data"
    },
    {
     "name": "stdout",
     "output_type": "stream",
     "text": [
      "Original Scientific Name: Oreohelix metcalfei radiata\n",
      "NatureServe Scientific Name: Oreohelix metcalfei radiata\n"
     ]
    },
    {
     "data": {
      "text/plain": [
       "{'class': 'Gastropoda',\n",
       " 'family': 'Oreohelicidae',\n",
       " 'genus': 'Oreohelix',\n",
       " 'genusSize': {'code': 'D',\n",
       "  'description': 'D - Medium to large genus (21+ species)'},\n",
       " 'kingdom': 'Animalia',\n",
       " 'order': 'Stylommatophora',\n",
       " 'phylum': 'Mollusca'}"
      ]
     },
     "metadata": {},
     "output_type": "display_data"
    },
    {
     "name": "stdout",
     "output_type": "stream",
     "text": [
      "Original Scientific Name: Oreohelix neomexicana\n",
      "NatureServe Scientific Name: Oreohelix neomexicana\n"
     ]
    },
    {
     "data": {
      "text/plain": [
       "{'class': 'Gastropoda',\n",
       " 'family': 'Oreohelicidae',\n",
       " 'genus': 'Oreohelix',\n",
       " 'genusSize': {'code': 'D',\n",
       "  'description': 'D - Medium to large genus (21+ species)'},\n",
       " 'kingdom': 'Animalia',\n",
       " 'order': 'Stylommatophora',\n",
       " 'phylum': 'Mollusca',\n",
       " 'taxonomicComments': 'Metcalf and Smartt (1997) elevated <i>Oreohelix neomexicana</i> to species status from a subspecies of <i>Oreohelix yavapai</i>. Metcalf and Smartt (1997) also designated <i>Oreohelix yavapai compacta</i> Cockerell, 1905, and <i>Oreohelix socorroensis</i> Pilsbry, 1905, as subspecies of <i>O. neomexicana</i>.'}"
      ]
     },
     "metadata": {},
     "output_type": "display_data"
    },
    {
     "name": "stdout",
     "output_type": "stream",
     "text": [
      "Original Scientific Name: Oreohelix strigosa depressa\n",
      "NatureServe Scientific Name: Oreohelix strigosa depressa\n"
     ]
    },
    {
     "data": {
      "text/plain": [
       "{'class': 'Gastropoda',\n",
       " 'family': 'Oreohelicidae',\n",
       " 'genus': 'Oreohelix',\n",
       " 'genusSize': {'code': 'D',\n",
       "  'description': 'D - Medium to large genus (21+ species)'},\n",
       " 'kingdom': 'Animalia',\n",
       " 'order': 'Stylommatophora',\n",
       " 'phylum': 'Mollusca'}"
      ]
     },
     "metadata": {},
     "output_type": "display_data"
    },
    {
     "name": "stdout",
     "output_type": "stream",
     "text": [
      "Original Scientific Name: Sonorella hachitana hachitana\n",
      "NatureServe Scientific Name: Sonorella hachitana hachitana\n"
     ]
    },
    {
     "data": {
      "text/plain": [
       "{'class': 'Gastropoda',\n",
       " 'family': 'Helminthoglyptidae',\n",
       " 'genus': 'Sonorella',\n",
       " 'kingdom': 'Animalia',\n",
       " 'order': 'Stylommatophora',\n",
       " 'phylum': 'Mollusca'}"
      ]
     },
     "metadata": {},
     "output_type": "display_data"
    },
    {
     "name": "stdout",
     "output_type": "stream",
     "text": [
      "Original Scientific Name: Calephelis rawsoni arizonensis\n",
      "NatureServe Scientific Name: Calephelis arizonensis\n"
     ]
    },
    {
     "data": {
      "text/plain": [
       "{'class': 'Insecta',\n",
       " 'family': 'Riodinidae',\n",
       " 'genus': 'Calephelis',\n",
       " 'genusSize': {'code': 'C', 'description': 'C - Small genus (6-20 species)'},\n",
       " 'kingdom': 'Animalia',\n",
       " 'order': 'Lepidoptera',\n",
       " 'phylum': 'Mandibulata',\n",
       " 'taxonomicComments': 'Opler and Warren (2002) state, \"Scott (1986) lumped <i>freemani </i>McAlpine, 1971 and <i>arizonensis </i>McAlpine, 1971 as subspecies of <i>rawsoni</i>, yet presented no data in support of these changes (but did describe genitalic differences between these taxa).  We do not accept his combinations and stress that further study of this genus is badly needed.\"'}"
      ]
     },
     "metadata": {},
     "output_type": "display_data"
    },
    {
     "name": "stdout",
     "output_type": "stream",
     "text": [
      "Original Scientific Name: Capnia caryi\n",
      "NatureServe Scientific Name: Capnia caryi\n"
     ]
    },
    {
     "data": {
      "text/plain": [
       "{'class': 'Insecta',\n",
       " 'family': 'Capniidae',\n",
       " 'genus': 'Capnia',\n",
       " 'kingdom': 'Animalia',\n",
       " 'order': 'Plecoptera',\n",
       " 'phylum': 'Mandibulata'}"
      ]
     },
     "metadata": {},
     "output_type": "display_data"
    },
    {
     "name": "stdout",
     "output_type": "stream",
     "text": [
      "Original Scientific Name: Deronectes neomexicanus\n",
      "NatureServe Scientific Name: Stictotarsus neomexicanus\n"
     ]
    },
    {
     "data": {
      "text/plain": [
       "{'class': 'Insecta',\n",
       " 'family': 'Dytiscidae',\n",
       " 'genus': 'Stictotarsus',\n",
       " 'kingdom': 'Animalia',\n",
       " 'order': 'Coleoptera',\n",
       " 'phylum': 'Mandibulata',\n",
       " 'taxonomicComments': 'North American species in the genus <i>Deronectes</i> were re-assigned to the genus <i>Stictotarsus</i> (Nilsson and Angus 1992 in Larson et al. 2000).'}"
      ]
     },
     "metadata": {},
     "output_type": "display_data"
    },
    {
     "name": "stdout",
     "output_type": "stream",
     "text": [
      "Original Scientific Name: Euphydryas chalcedona chuskae\n",
      "NatureServe Scientific Name: Euphydryas anicia chuskae\n"
     ]
    },
    {
     "data": {
      "text/plain": [
       "{'class': 'Insecta',\n",
       " 'family': 'Nymphalidae',\n",
       " 'genus': 'Euphydryas',\n",
       " 'genusSize': {'code': 'C', 'description': 'C - Small genus (6-20 species)'},\n",
       " 'kingdom': 'Animalia',\n",
       " 'order': 'Lepidoptera',\n",
       " 'phylum': 'Mandibulata'}"
      ]
     },
     "metadata": {},
     "output_type": "display_data"
    },
    {
     "name": "stdout",
     "output_type": "stream",
     "text": [
      "Original Scientific Name: Fixsenia (Satyrium) ilavia\n",
      "'Cleaned' Scientific Name (for processing): Fixsenia ilavia\n",
      "NatureServe Scientific Name: Satyrium ilavia\n"
     ]
    },
    {
     "data": {
      "text/plain": [
       "{'class': 'Insecta',\n",
       " 'family': 'Lycaenidae',\n",
       " 'genus': 'Satyrium',\n",
       " 'genusSize': {'code': 'C', 'description': 'C - Small genus (6-20 species)'},\n",
       " 'kingdom': 'Animalia',\n",
       " 'order': 'Lepidoptera',\n",
       " 'phylum': 'Mandibulata',\n",
       " 'taxonomicComments': 'Opler and Warren (2002) state, \"Species previously places in <i>Fixsenia </i>Tutt, 1907 and <i>Harkenclenus </i>dos Passos, 1970, are now placed in <i>Satyrium </i>by Robbins (in press).\"'}"
      ]
     },
     "metadata": {},
     "output_type": "display_data"
    },
    {
     "name": "stdout",
     "output_type": "stream",
     "text": [
      "Original Scientific Name: Hemileuca (nevadensis) artemis\n",
      "'Cleaned' Scientific Name (for processing): Hemileuca artemis\n",
      "NatureServe Scientific Name: Hemileuca nevadensis\n"
     ]
    },
    {
     "data": {
      "text/plain": [
       "{'class': 'Insecta',\n",
       " 'family': 'Saturniidae',\n",
       " 'genus': 'Hemileuca',\n",
       " 'genusSize': {'code': 'C', 'description': 'C - Small genus (6-20 species)'},\n",
       " 'kingdom': 'Animalia',\n",
       " 'order': 'Lepidoptera',\n",
       " 'phylum': 'Mandibulata',\n",
       " 'taxonomicComments': 'This is the oldest name for a complex of species and/or subspecies which is being reviewed by several different researchers. Species concepts in this group are unstable. The most recent comprehensive work is Tuskes et al. (1996).   Thus it is likely additional taxa will be combined with and/or split off from this species. At present <i>Hemileuca \"lucina\" latifascia</i> McDunnough described from Aweme, Manitoba is included following all recent authors and the adults look similar and the foodplants are mostly the same.  However (see Tuskes et al., 1996, Legge et al., 1996) there is increasing evidence that more northern and eastern populations of this group may not be conspecific with more southwestern typical <i>H. nevadensis</i>, although there is certainly room for doubt either way.  If there are two species, the name <i>latifascia </i>is available for such a species.  Typical populations in Manitoba and Minnesota have very wide wing bands similar to <i>H. nevadensis</i> and the larvae in Minnesota and North Dakota are usually (always?) basically black (e.g. ventrally and subdorsally) with a very bold wide yellow spiracular band and the dorsal area usually mostly yellow, and are mostly remarkably uniform.  Henne and Diehl (2001) suggest greater variation in Manitoba larvae.  All evidence suggests that wetland-prairie mostly willow-poplar feeding buckmoths from Wisconsin to Ohio and disjunctly in northern New Jersey are conspecific with <i>H. latifascia</i> although the transition zone in Wisconsin between eastern and typical <i>latifascia </i>phenotypes is quite small. Eastern wetland and fen buckmoth larvae (central Wisconsin to northern Ohio, also Sussex County New Jersey) have a similar pattern but generally more restricted yellow.  Some larvae in New Jersey larvae are reddish with a normal pattern and one specimen is nearly uniform yellow. These eastern adults, including most in central Wisconsin, almost all have much narrower wing bands than normal <i>latifascia</i>.  In wing bands these overlap other buckmoths such as <i>H. lucina</i> and <i>H. maia</i> but the bands are much wider than those of <i>H. stonei</i> and <i>H. grotei.</i>  Douglas County Wisconsin populations (L. Ferge, R. Dana) have normal <i>latifascia</i> larvae and the full range of adult phenotypes (illustrated by Ferge, 1980).  Populations referrable to <i>latifascia</i> and more eastern wetland populations apparently have the larval head consistently brown or reddish, rather than black as in typical <i>H. nevadensis</i> and <i>H. maia</i>, but more need to be examined.  Adults of this species are seldom if ever cross-attractive in either direction with occasionally sympatric (NJ, MI) <i>H. maia</i> or the allopatric <i>H. lucina</i>. Clinal variation in wing bands and translucency (Scholtens and Wagner, 1997) occurs within Michigan <i>nevadensis</i> (or <i>latifascia</i>) and they suggest into northern <i>H. maia</i>. Actually though their most southern Michigan wetland population has scale character and darknessranges rather similar to the <i>H. maia</i> from substantially farther south in southern Ohio and their trends appear to hold at least as well within Michigan wetland populations alone.  However Barry County, Michigan <i>H. maia </i>adults (Mogens Nielsen collection examined by Dale Schweitzer) are very dark compared to Michigan and Indiana wetland adults and their larvae are normal for their species--lacking the usual yellow pattern opf the others.  Still the data in Scholtens and Wagner (1994 and 1997) very strongly suggest all of the various wetland and prairie buckmoths in Michigan are a single species and also that foodplant varies somewhat among populations. They do not include Barry County oak feeding <i>H. maia</i> nor do they comment much on the Ohio <i>H. maia</i> they do include except to note failure of Michigan females to attract these males (Scholtens and Wagner, 1994). Any cline for translucency does not cross species farther east--e.g. southern populations of <i>H. lucina</i> are much more translucent than populations of <i>H. maia</i> to their north or lower Michigan wetland buckmoths at similar latitudes. Northern most <i>maia</i> are darker than the average for more southern populations of the others. However some especially dark adult <i>H. nevadensis</i> from Lucas County, Ohio and Sussex County, New Jersey cannot be reliably separated from <i>H. maia, </i>but more normal ones are sortable.  See the Plate of adults in Tuskes et al. for confusing phenotypic overlap of adults.  All other stages of northern and eastern <i>H. nevadensis</i> (=<i>latifascia</i>) are rather easy to separate from <i>H. maia</i> (Schweitzer, 2004). The bogbean buckmoth may very well be conspecific with \"<i>latifascia</i>\" as well but is retained as a separate species for now in this database.'}"
      ]
     },
     "metadata": {},
     "output_type": "display_data"
    },
    {
     "name": "stdout",
     "output_type": "stream",
     "text": [
      "Original Scientific Name: Neotamias minimus atristriatus\n",
      "NatureServe Scientific Name: Neotamias minimus atristriatus\n"
     ]
    },
    {
     "data": {
      "text/plain": [
       "{'class': 'Mammalia',\n",
       " 'family': 'Sciuridae',\n",
       " 'genus': 'Neotamias',\n",
       " 'genusSize': {'code': 'D',\n",
       "  'description': 'D - Medium to large genus (21+ species)'},\n",
       " 'kingdom': 'Animalia',\n",
       " 'order': 'Rodentia',\n",
       " 'phylum': 'Craniata'}"
      ]
     },
     "metadata": {},
     "output_type": "display_data"
    },
    {
     "name": "stdout",
     "output_type": "stream",
     "text": [
      "Original Scientific Name: Neotamias quadrivittatus australis\n",
      "NatureServe Scientific Name: Neotamias quadrivittatus australis\n"
     ]
    },
    {
     "data": {
      "text/plain": [
       "{'class': 'Mammalia',\n",
       " 'family': 'Sciuridae',\n",
       " 'genus': 'Neotamias',\n",
       " 'genusSize': {'code': 'D',\n",
       "  'description': 'D - Medium to large genus (21+ species)'},\n",
       " 'kingdom': 'Animalia',\n",
       " 'order': 'Rodentia',\n",
       " 'phylum': 'Craniata',\n",
       " 'taxonomicComments': 'Formerly included in genus EUTAMIAS, which recently has been included in the genus TAMIAS (Levenson et al. 1985; Jones et al. 1992, Hoffmann et al., in Wilson and Reeder 1993). Subgenus NEOTAMIAS (Hoffmann et al., in Wilson and Reeder 1993). See Sutton (1992) for a key to the species of TAMIAS.'}"
      ]
     },
     "metadata": {},
     "output_type": "display_data"
    },
    {
     "name": "stdout",
     "output_type": "stream",
     "text": [
      "Original Scientific Name: Neotamias quadrivittatus oscuraensis\n",
      "NatureServe Scientific Name: Neotamias quadrivittatus oscuraensis\n"
     ]
    },
    {
     "data": {
      "text/plain": [
       "{'class': 'Mammalia',\n",
       " 'family': 'Sciuridae',\n",
       " 'genus': 'Neotamias',\n",
       " 'genusSize': {'code': 'D',\n",
       "  'description': 'D - Medium to large genus (21+ species)'},\n",
       " 'kingdom': 'Animalia',\n",
       " 'order': 'Rodentia',\n",
       " 'phylum': 'Craniata'}"
      ]
     },
     "metadata": {},
     "output_type": "display_data"
    },
    {
     "name": "stdout",
     "output_type": "stream",
     "text": [
      "Original Scientific Name: Incisalia polia obscura\n",
      "NatureServe Scientific Name: Callophrys polios obscurus\n"
     ]
    },
    {
     "data": {
      "text/plain": [
       "{'class': 'Insecta',\n",
       " 'family': 'Lycaenidae',\n",
       " 'genus': 'Callophrys',\n",
       " 'genusSize': {'code': 'D',\n",
       "  'description': 'D - Medium to large genus (21+ species)'},\n",
       " 'kingdom': 'Animalia',\n",
       " 'order': 'Lepidoptera',\n",
       " 'phylum': 'Mandibulata'}"
      ]
     },
     "metadata": {},
     "output_type": "display_data"
    },
    {
     "name": "stdout",
     "output_type": "stream",
     "text": [
      "Original Scientific Name: Lampropeltis nigra\n",
      "NatureServe Scientific Name: Lampropeltis nigra\n"
     ]
    },
    {
     "data": {
      "text/plain": [
       "{'class': 'Reptilia',\n",
       " 'family': 'Colubridae',\n",
       " 'genus': 'Lampropeltis',\n",
       " 'genusSize': {'code': 'C', 'description': 'C - Small genus (6-20 species)'},\n",
       " 'kingdom': 'Animalia',\n",
       " 'order': 'Squamata',\n",
       " 'phylum': 'Craniata',\n",
       " 'taxonomicComments': 'Based on mitochondrial DNA evidence, ecological niche modeling, morphology, and historical precedence, Pyron and Burbrink (2009) determined that the traditionally recognized <i>Lampropeltis getula</i> comprises five distinct species: <i>L. getula</i>, <i>L. nigra</i>, <i>L. holbrooki</i>, <i>L. splendida</i>, and <i>L. californiae</i>. Crother et al. (in Crother 2012) accepted this taxonomic change.'}"
      ]
     },
     "metadata": {},
     "output_type": "display_data"
    },
    {
     "name": "stdout",
     "output_type": "stream",
     "text": [
      "Original Scientific Name: Lampropeltis elapsoides\n",
      "NatureServe Scientific Name: Lampropeltis elapsoides\n"
     ]
    },
    {
     "data": {
      "text/plain": [
       "{'class': 'Reptilia',\n",
       " 'family': 'Colubridae',\n",
       " 'genus': 'Lampropeltis',\n",
       " 'genusSize': {'code': 'C', 'description': 'C - Small genus (6-20 species)'},\n",
       " 'kingdom': 'Animalia',\n",
       " 'order': 'Squamata',\n",
       " 'phylum': 'Craniata',\n",
       " 'taxonomicComments': 'This taxon has long been regarded as a subspecies of <i>L. triangulum</i>. Armstrong et al. (2001) examined populations of <i>L. trianugulum</i> subspecies <i>syspila </i>and <i>elapsoides </i>in western Kentucky and adjacent Tennessee and concluded that the two taxa exist in sympatry with minimal, if any, gene flow between the populations. Based on multiple nuclear and mitochondrial genes, Pyron and Burbrink (2009) reported that <i>elapsoides</i> is well differentiated from <i>L. triangulum</i>. Consequently, Crother et al. (in Crother 2012) listed <i>L. elapsoides</i> as a distinct species. Conant and Collins (1991) mapped extensive areas of apparent intergradation between <i>elapsoides </i>and other <i>triangulum </i>subspecies, but Pyron and Burbrink (2009) did not delineate the range of <i>L. elapsoides</i> nor specify contact zones or discuss possible hybridization between <i>elapsoides </i>and populations of  <i>L. triangulum</i>.'}"
      ]
     },
     "metadata": {},
     "output_type": "display_data"
    },
    {
     "name": "stdout",
     "output_type": "stream",
     "text": [
      "Original Scientific Name: Anarta luteola\n",
      "NatureServe Scientific Name: Coranarta luteola\n"
     ]
    },
    {
     "data": {
      "text/plain": [
       "{'class': 'Insecta',\n",
       " 'family': 'Noctuidae',\n",
       " 'genus': 'Coranarta',\n",
       " 'kingdom': 'Animalia',\n",
       " 'order': 'Lepidoptera',\n",
       " 'phylum': 'Mandibulata',\n",
       " 'taxonomicComments': 'Revised status by Lafontaine et al. (1987). <i>Coranarta cordigera </i>is a Eurasian species. Use of the genus <i>Coranarta </i>follows Hacker (1998).<br>'}"
      ]
     },
     "metadata": {},
     "output_type": "display_data"
    },
    {
     "name": "stdout",
     "output_type": "stream",
     "text": [
      "Original Scientific Name: Blarina shermani\n",
      "NatureServe Scientific Name: Blarina shermani\n"
     ]
    },
    {
     "data": {
      "text/plain": [
       "{'class': 'Mammalia',\n",
       " 'family': 'Soricidae',\n",
       " 'genus': 'Blarina',\n",
       " 'genusSize': {'code': 'B',\n",
       "  'description': 'B - Very small genus (2-5 species)'},\n",
       " 'kingdom': 'Animalia',\n",
       " 'order': 'Soricomorpha',\n",
       " 'phylum': 'Craniata',\n",
       " 'taxonomicComments': 'See Hamilton (1955) for original description. Until recently, <i>shermani </i>was regarded as a subspecies of <i>Blarina carolinensis</i>. Benedict et al. (2006) recognized <i>Blarina shermani </i>as a distinct species.'}"
      ]
     },
     "metadata": {},
     "output_type": "display_data"
    },
    {
     "name": "stdout",
     "output_type": "stream",
     "text": [
      "Original Scientific Name: Lasiurus borealis borealis\n",
      "NatureServe Scientific Name: Lasiurus borealis borealis\n"
     ]
    },
    {
     "data": {
      "text/plain": [
       "{'class': 'Mammalia',\n",
       " 'family': 'Vespertilionidae',\n",
       " 'genus': 'Lasiurus',\n",
       " 'genusSize': {'code': 'C', 'description': 'C - Small genus (6-20 species)'},\n",
       " 'kingdom': 'Animalia',\n",
       " 'order': 'Chiroptera',\n",
       " 'phylum': 'Craniata'}"
      ]
     },
     "metadata": {},
     "output_type": "display_data"
    },
    {
     "name": "stdout",
     "output_type": "stream",
     "text": [
      "Original Scientific Name: Plestiodon egregius egregius\n",
      "NatureServe Scientific Name: Plestiodon egregius egregius\n"
     ]
    },
    {
     "data": {
      "text/plain": [
       "{'class': 'Reptilia',\n",
       " 'family': 'Scincidae',\n",
       " 'genus': 'Plestiodon',\n",
       " 'genusSize': {'code': 'C', 'description': 'C - Small genus (6-20 species)'},\n",
       " 'kingdom': 'Animalia',\n",
       " 'order': 'Squamata',\n",
       " 'phylum': 'Craniata',\n",
       " 'taxonomicComments': 'Most similar in coloration to subspecies <i>similis</i>; intermediate between subspecies <i>similis </i>and <i>lividus </i>in certain aspects of scalation; relationship to other subspecies has not been clearly established (Mount 1968) and needs further study.'}"
      ]
     },
     "metadata": {},
     "output_type": "display_data"
    },
    {
     "name": "stdout",
     "output_type": "stream",
     "text": [
      "Original Scientific Name: Plestiodon egregius insularis\n",
      "NatureServe Scientific Name: Plestiodon egregius insularis\n"
     ]
    },
    {
     "data": {
      "text/plain": [
       "{'class': 'Reptilia',\n",
       " 'family': 'Scincidae',\n",
       " 'genus': 'Plestiodon',\n",
       " 'genusSize': {'code': 'C', 'description': 'C - Small genus (6-20 species)'},\n",
       " 'kingdom': 'Animalia',\n",
       " 'order': 'Squamata',\n",
       " 'phylum': 'Craniata',\n",
       " 'taxonomicComments': 'Proposed as a distinct species by Collins (1991), but no supporting data were presented.'}"
      ]
     },
     "metadata": {},
     "output_type": "display_data"
    },
    {
     "name": "stdout",
     "output_type": "stream",
     "text": [
      "Original Scientific Name: Plestiodon egregius lividus\n",
      "NatureServe Scientific Name: Plestiodon egregius lividus\n"
     ]
    },
    {
     "data": {
      "text/plain": [
       "{'class': 'Reptilia',\n",
       " 'family': 'Scincidae',\n",
       " 'genus': 'Plestiodon',\n",
       " 'genusSize': {'code': 'C', 'description': 'C - Small genus (6-20 species)'},\n",
       " 'kingdom': 'Animalia',\n",
       " 'order': 'Squamata',\n",
       " 'phylum': 'Craniata',\n",
       " 'taxonomicComments': 'North of range, this subspecies is replaced by or intergrades with <i>E. e. onocrepis</i>.'}"
      ]
     },
     "metadata": {},
     "output_type": "display_data"
    },
    {
     "name": "stdout",
     "output_type": "stream",
     "text": [
      "Original Scientific Name: Plestiodon egregius onocrepis\n",
      "NatureServe Scientific Name: Plestiodon egregius onocrepis\n"
     ]
    },
    {
     "data": {
      "text/plain": [
       "{'class': 'Reptilia',\n",
       " 'family': 'Scincidae',\n",
       " 'genus': 'Plestiodon',\n",
       " 'genusSize': {'code': 'C', 'description': 'C - Small genus (6-20 species)'},\n",
       " 'kingdom': 'Animalia',\n",
       " 'order': 'Squamata',\n",
       " 'phylum': 'Craniata',\n",
       " 'taxonomicComments': 'Recognition of this subspecies may not be warranted (Branch et al., 2003).'}"
      ]
     },
     "metadata": {},
     "output_type": "display_data"
    },
    {
     "name": "stdout",
     "output_type": "stream",
     "text": [
      "Original Scientific Name: Plestiodon reynoldsi\n",
      "NatureServe Scientific Name: Plestiodon reynoldsi\n"
     ]
    },
    {
     "data": {
      "text/plain": [
       "{'class': 'Reptilia',\n",
       " 'family': 'Scincidae',\n",
       " 'genus': 'Plestiodon',\n",
       " 'genusSize': {'code': 'C', 'description': 'C - Small genus (6-20 species)'},\n",
       " 'kingdom': 'Animalia',\n",
       " 'order': 'Squamata',\n",
       " 'phylum': 'Craniata',\n",
       " 'taxonomicComments': 'Brandley et al. (2005; see also Griffith et al, 2000 and Schmitz et al., 2004) proposed that <i>Neoseps reynolds</i>i is congeneric with <i>Eumeces </i>(now <i>Plestiodon</i>). This was accepted by Crother (2008) and Collins and Taggart (2009).'}"
      ]
     },
     "metadata": {},
     "output_type": "display_data"
    },
    {
     "name": "stdout",
     "output_type": "stream",
     "text": [
      "Original Scientific Name: Lampropeltis extenuata\n",
      "NatureServe Scientific Name: Lampropeltis extenuata\n"
     ]
    },
    {
     "data": {
      "text/plain": [
       "{'class': 'Reptilia',\n",
       " 'family': 'Colubridae',\n",
       " 'genus': 'Lampropeltis',\n",
       " 'genusSize': {'code': 'C', 'description': 'C - Small genus (6-20 species)'},\n",
       " 'kingdom': 'Animalia',\n",
       " 'order': 'Squamata',\n",
       " 'phylum': 'Craniata',\n",
       " 'taxonomicComments': 'Some accounts recognize three subspecies, although the relationships among various populations are unclear and the species is now generally regarded as monotypic. Zoogeographically and taxonomically one of the most interesting of North American snakes; perhaps allied with the kingsnakes (<i>Lampropeltis</i>) (Campbell and Moler 1992; Keogh, 1996, Herpetologica 52:406-416).<br /><br />MtDNA and nuclear DNA data indicate that the nominal genus <i>Stilosoma </i>is nested within <i>Lampropeltis </i>and thus does not warrant recognition as a distinct genus (Pyron and Burbrink 2009).'}"
      ]
     },
     "metadata": {},
     "output_type": "display_data"
    },
    {
     "name": "stdout",
     "output_type": "stream",
     "text": [
      "Original Scientific Name: Cyprinodon variegatus hubbsi\n",
      "NatureServe Scientific Name: Cyprinodon variegatus hubbsi\n"
     ]
    },
    {
     "data": {
      "text/plain": [
       "{'class': 'Actinopterygii',\n",
       " 'family': 'Cyprinodontidae',\n",
       " 'genus': 'Cyprinodon',\n",
       " 'genusSize': {'code': 'D',\n",
       "  'description': 'D - Medium to large genus (21+ species)'},\n",
       " 'kingdom': 'Animalia',\n",
       " 'order': 'Cyprinodontiformes',\n",
       " 'phylum': 'Craniata',\n",
       " 'taxonomicComments': 'This nominal subspecies is distinguished mainly by a relatively slender body and caudal peduncle, but these characteristics seem likely to be only developmental responses to the lake habitat (lake-inhabiting individuals of fishes often are more elongate than their stream-dwelling counterparts) (Page and Burr 1991). Recognized by different authorities as a species, a subspecies, or an ecotype (Page and Hubbs 1991).'}"
      ]
     },
     "metadata": {},
     "output_type": "display_data"
    },
    {
     "name": "stdout",
     "output_type": "stream",
     "text": [
      "Original Scientific Name: Drymaeus multilineatus latizonatus\n",
      "NatureServe Scientific Name: Drymaeus multilineatus latizonatus\n"
     ]
    },
    {
     "data": {
      "text/plain": [
       "{'class': 'Gastropoda',\n",
       " 'family': 'Bulimulidae',\n",
       " 'genus': 'Drymaeus',\n",
       " 'kingdom': 'Animalia',\n",
       " 'order': 'Stylommatophora',\n",
       " 'phylum': 'Mollusca'}"
      ]
     },
     "metadata": {},
     "output_type": "display_data"
    },
    {
     "name": "stdout",
     "output_type": "stream",
     "text": [
      "Original Scientific Name: Floridobia petrifons\n",
      "NatureServe Scientific Name: Floridobia petrifons\n"
     ]
    },
    {
     "data": {
      "text/plain": [
       "{'class': 'Gastropoda',\n",
       " 'family': 'Hydrobiidae',\n",
       " 'genus': 'Floridobia',\n",
       " 'genusSize': {'code': 'C', 'description': 'C - Small genus (6-20 species)'},\n",
       " 'kingdom': 'Animalia',\n",
       " 'order': 'Neotaenioglossa',\n",
       " 'phylum': 'Mollusca',\n",
       " 'taxonomicComments': 'The genus <i>Floridobia</i> is proposed (see Thompson and Hershler, 2002) to accommodate species from the eastern United States formerly placed in the genus <i>Cincinnatia</i>.'}"
      ]
     },
     "metadata": {},
     "output_type": "display_data"
    },
    {
     "name": "stdout",
     "output_type": "stream",
     "text": [
      "Original Scientific Name: Floridobia porterae\n",
      "NatureServe Scientific Name: Floridobia porterae\n"
     ]
    },
    {
     "data": {
      "text/plain": [
       "{'class': 'Gastropoda',\n",
       " 'family': 'Hydrobiidae',\n",
       " 'genus': 'Floridobia',\n",
       " 'genusSize': {'code': 'C', 'description': 'C - Small genus (6-20 species)'},\n",
       " 'kingdom': 'Animalia',\n",
       " 'order': 'Neotaenioglossa',\n",
       " 'phylum': 'Mollusca',\n",
       " 'taxonomicComments': 'Large (> 10 spp.) genus that is widespread in North America east of the Rocky Mountains.  The genus <i>Floridobia</i> is proposed (see Thompson and Hershler, 2002) to accommodate species from the eastern United States formerly placed in the genus <i>Cincinnatia</i>.'}"
      ]
     },
     "metadata": {},
     "output_type": "display_data"
    },
    {
     "name": "stdout",
     "output_type": "stream",
     "text": [
      "Original Scientific Name: Lycosa ericeticola\n",
      "NatureServe Scientific Name: Hogna ericeticola\n"
     ]
    },
    {
     "data": {
      "text/plain": [
       "{'class': 'Arachnida',\n",
       " 'family': 'Lycosidae',\n",
       " 'genus': 'Hogna',\n",
       " 'kingdom': 'Animalia',\n",
       " 'order': 'Araneae',\n",
       " 'phylum': 'Chelicerata'}"
      ]
     },
     "metadata": {},
     "output_type": "display_data"
    },
    {
     "name": "stdout",
     "output_type": "stream",
     "text": [
      "Original Scientific Name: Alloperla prognoides\n",
      "NatureServe Scientific Name: Alloperla prognoides\n"
     ]
    },
    {
     "data": {
      "text/plain": [
       "{'class': 'Insecta',\n",
       " 'family': 'Chloroperlidae',\n",
       " 'genus': 'Alloperla',\n",
       " 'kingdom': 'Animalia',\n",
       " 'order': 'Plecoptera',\n",
       " 'phylum': 'Mandibulata'}"
      ]
     },
     "metadata": {},
     "output_type": "display_data"
    },
    {
     "name": "stdout",
     "output_type": "stream",
     "text": [
      "Original Scientific Name: Telamona archboldi\n",
      "NatureServe Scientific Name: Telamona archboldi\n"
     ]
    },
    {
     "data": {
      "text/plain": [
       "{'class': 'Insecta',\n",
       " 'family': 'Membracidae',\n",
       " 'genus': 'Telamona',\n",
       " 'genusSize': {'code': 'D',\n",
       "  'description': 'D - Medium to large genus (21+ species)'},\n",
       " 'kingdom': 'Animalia',\n",
       " 'order': 'Homoptera',\n",
       " 'phylum': 'Mandibulata'}"
      ]
     },
     "metadata": {},
     "output_type": "display_data"
    },
    {
     "name": "stdout",
     "output_type": "stream",
     "text": [
      "Original Scientific Name: Cicindela scabrosa floridana\n",
      "NatureServe Scientific Name: Cicindelidia floridana\n"
     ]
    },
    {
     "data": {
      "text/plain": [
       "{'class': 'Insecta',\n",
       " 'family': 'Cicindelidae',\n",
       " 'genus': 'Cicindelidia',\n",
       " 'kingdom': 'Animalia',\n",
       " 'order': 'Coleoptera',\n",
       " 'phylum': 'Mandibulata',\n",
       " 'taxonomicComments': 'This was described as a full species in 2011 (Brzoska et al.). This taxon was rediscovered and, now that more specimens are available, appears to be distinct enough to be a full species (Knisley 2008). Considered a synonym of <i>scabrosa </i>following Freitag (1999), Choate (2003) and Pearson et al. (2006).<br /><br />This database now follows Pearson et al. (2006) but there is still doubt. Choate (1984) raised <i>scabrosa </i>to species status and included <i>floridana</i> as a synonym of <i>C. scabrosa</i>, although he did not examine specimens of <i>floridana</i>. The Type series was subsequently examined by Knisley and Hill, who believe it to be a distinct subspecies (unpublished report to The Nature Conservancy, Winter Park, Florida) and not a synonym of <i>C. scabrosa</i>. Freitag (1999) lists <i>floridana </i>as a synonym of <i>C. scabrosa</i> but it is unknown whether he examined specimens or simply followed Choate. This taxon will probably prove to be a synonym of <i>C. scabrosa</i>, a synonymy Howard Boyd (personal communication to Dale Schweitzer, April 24, 2000) now considers to be \"probably\" correct based on the similar ranges and apparently only minor color difference. Both are/were endemic to a small part of Florida. Boyd and Associates (1982) was the last major work to recognize this as a taxon separate from <i>scabrosa</i>, but Knisley and Hill are the only ones among the above workers known to have carefully examined the Type series.'}"
      ]
     },
     "metadata": {},
     "output_type": "display_data"
    },
    {
     "name": "stdout",
     "output_type": "stream",
     "text": [
      "Original Scientific Name: Selonodon archboldi\n",
      "NatureServe Scientific Name: Selonodon archboldi\n"
     ]
    },
    {
     "data": {
      "text/plain": [
       "{'class': 'Insecta',\n",
       " 'family': 'Elateridae',\n",
       " 'genus': 'Selonodon',\n",
       " 'kingdom': 'Animalia',\n",
       " 'order': 'Coleoptera',\n",
       " 'phylum': 'Mandibulata',\n",
       " 'taxonomicComments': 'This species was called <i>Selonodon </i>sp. 1 in Deyrup and Franz (1994).'}"
      ]
     },
     "metadata": {},
     "output_type": "display_data"
    },
    {
     "name": "stdout",
     "output_type": "stream",
     "text": [
      "Original Scientific Name: Selonodon ferrugineus\n",
      "NatureServe Scientific Name: Selonodon ferrugineus\n"
     ]
    },
    {
     "data": {
      "text/plain": [
       "{'class': 'Insecta',\n",
       " 'family': 'Elateridae',\n",
       " 'genus': 'Selonodon',\n",
       " 'kingdom': 'Animalia',\n",
       " 'order': 'Coleoptera',\n",
       " 'phylum': 'Mandibulata',\n",
       " 'taxonomicComments': 'This species was called <i>Selonodon </i>sp. 4 in Deyrup and Franz (1994).'}"
      ]
     },
     "metadata": {},
     "output_type": "display_data"
    },
    {
     "name": "stdout",
     "output_type": "stream",
     "text": [
      "Original Scientific Name: Selonodon floridensis\n",
      "NatureServe Scientific Name: Selonodon floridensis\n"
     ]
    },
    {
     "data": {
      "text/plain": [
       "{'class': 'Insecta',\n",
       " 'family': 'Elateridae',\n",
       " 'genus': 'Selonodon',\n",
       " 'kingdom': 'Animalia',\n",
       " 'order': 'Coleoptera',\n",
       " 'phylum': 'Mandibulata'}"
      ]
     },
     "metadata": {},
     "output_type": "display_data"
    },
    {
     "name": "stdout",
     "output_type": "stream",
     "text": [
      "Original Scientific Name: Selonodon mandibularis\n",
      "NatureServe Scientific Name: Selonodon mandibularis\n"
     ]
    },
    {
     "data": {
      "text/plain": [
       "{'class': 'Insecta',\n",
       " 'family': 'Elateridae',\n",
       " 'genus': 'Selonodon',\n",
       " 'kingdom': 'Animalia',\n",
       " 'order': 'Coleoptera',\n",
       " 'phylum': 'Mandibulata',\n",
       " 'taxonomicComments': 'Synonyms include <i>Anachilus mandibularis</i> and <i>Cebrio mandibularis</i>.'}"
      ]
     },
     "metadata": {},
     "output_type": "display_data"
    },
    {
     "name": "stdout",
     "output_type": "stream",
     "text": [
      "Original Scientific Name: Selonodon santarosae\n",
      "NatureServe Scientific Name: Selonodon santarosae\n"
     ]
    },
    {
     "data": {
      "text/plain": [
       "{'class': 'Insecta',\n",
       " 'family': 'Elateridae',\n",
       " 'genus': 'Selonodon',\n",
       " 'kingdom': 'Animalia',\n",
       " 'order': 'Coleoptera',\n",
       " 'phylum': 'Mandibulata',\n",
       " 'taxonomicComments': 'This species was called <i>Selonodon </i>sp. 2 in Deyrup and Franz (1994).'}"
      ]
     },
     "metadata": {},
     "output_type": "display_data"
    },
    {
     "name": "stdout",
     "output_type": "stream",
     "text": [
      "Original Scientific Name: Selonodon similis\n",
      "NatureServe Scientific Name: Selonodon similis\n"
     ]
    },
    {
     "data": {
      "text/plain": [
       "{'class': 'Insecta',\n",
       " 'family': 'Elateridae',\n",
       " 'genus': 'Selonodon',\n",
       " 'kingdom': 'Animalia',\n",
       " 'order': 'Coleoptera',\n",
       " 'phylum': 'Mandibulata',\n",
       " 'taxonomicComments': 'This species was called <i>Selonodon </i>sp. 3 in Deyrup and Franz (1994).'}"
      ]
     },
     "metadata": {},
     "output_type": "display_data"
    },
    {
     "name": "stdout",
     "output_type": "stream",
     "text": [
      "Original Scientific Name: Selonodon simplex\n",
      "NatureServe Scientific Name: Selonodon simplex\n"
     ]
    },
    {
     "data": {
      "text/plain": [
       "{'class': 'Insecta',\n",
       " 'family': 'Elateridae',\n",
       " 'genus': 'Selonodon',\n",
       " 'kingdom': 'Animalia',\n",
       " 'order': 'Coleoptera',\n",
       " 'phylum': 'Mandibulata'}"
      ]
     },
     "metadata": {},
     "output_type": "display_data"
    },
    {
     "name": "stdout",
     "output_type": "stream",
     "text": [
      "Original Scientific Name: Photuris brunnipennis floridana\n",
      "NatureServe Scientific Name: Photuris brunnipennis floridana\n"
     ]
    },
    {
     "data": {
      "text/plain": [
       "{'class': 'Insecta',\n",
       " 'family': 'Lampyridae',\n",
       " 'genus': 'Photuris',\n",
       " 'genusSize': {'code': 'D',\n",
       "  'description': 'D - Medium to large genus (21+ species)'},\n",
       " 'kingdom': 'Animalia',\n",
       " 'order': 'Coleoptera',\n",
       " 'phylum': 'Mandibulata'}"
      ]
     },
     "metadata": {},
     "output_type": "display_data"
    },
    {
     "name": "stdout",
     "output_type": "stream",
     "text": [
      "Original Scientific Name: Polyphylla starkae\n",
      "NatureServe Scientific Name: Polyphylla starkae\n"
     ]
    },
    {
     "data": {
      "text/plain": [
       "{'class': 'Insecta',\n",
       " 'family': 'Scarabaeidae',\n",
       " 'genus': 'Polyphylla',\n",
       " 'kingdom': 'Animalia',\n",
       " 'order': 'Coleoptera',\n",
       " 'phylum': 'Mandibulata'}"
      ]
     },
     "metadata": {},
     "output_type": "display_data"
    },
    {
     "name": "stdout",
     "output_type": "stream",
     "text": [
      "Original Scientific Name: Pseudataenius waltherhorni\n",
      "NatureServe Scientific Name: Pseudataenius waltherhorni\n"
     ]
    },
    {
     "data": {
      "text/plain": [
       "{'class': 'Insecta',\n",
       " 'family': 'Scarabaeidae',\n",
       " 'genus': 'Pseudataenius',\n",
       " 'kingdom': 'Animalia',\n",
       " 'order': 'Coleoptera',\n",
       " 'phylum': 'Mandibulata'}"
      ]
     },
     "metadata": {},
     "output_type": "display_data"
    },
    {
     "name": "stdout",
     "output_type": "stream",
     "text": [
      "Original Scientific Name: Philonthus gopheri\n",
      "NatureServe Scientific Name: Philonthus gopheri\n"
     ]
    },
    {
     "data": {
      "text/plain": [
       "{'class': 'Insecta',\n",
       " 'family': 'Staphylinidae',\n",
       " 'genus': 'Philonthus',\n",
       " 'kingdom': 'Animalia',\n",
       " 'order': 'Coleoptera',\n",
       " 'phylum': 'Mandibulata'}"
      ]
     },
     "metadata": {},
     "output_type": "display_data"
    },
    {
     "name": "stdout",
     "output_type": "stream",
     "text": [
      "Original Scientific Name: Branchus floridanus\n",
      "NatureServe Scientific Name: Branchus floridanus\n"
     ]
    },
    {
     "data": {
      "text/plain": [
       "{'class': 'Insecta',\n",
       " 'family': 'Tenebrionidae',\n",
       " 'genus': 'Branchus',\n",
       " 'kingdom': 'Animalia',\n",
       " 'order': 'Coleoptera',\n",
       " 'phylum': 'Mandibulata'}"
      ]
     },
     "metadata": {},
     "output_type": "display_data"
    },
    {
     "name": "stdout",
     "output_type": "stream",
     "text": [
      "Original Scientific Name: Onychomira floridensis\n",
      "NatureServe Scientific Name: Onychomira floridensis\n"
     ]
    },
    {
     "data": {
      "text/plain": [
       "{'class': 'Insecta',\n",
       " 'family': 'Tenebrionidae',\n",
       " 'genus': 'Onychomira',\n",
       " 'kingdom': 'Animalia',\n",
       " 'order': 'Coleoptera',\n",
       " 'phylum': 'Mandibulata'}"
      ]
     },
     "metadata": {},
     "output_type": "display_data"
    },
    {
     "name": "stdout",
     "output_type": "stream",
     "text": [
      "Original Scientific Name: Dasymutilla archboldi\n",
      "NatureServe Scientific Name: Dasymutilla archboldi\n"
     ]
    },
    {
     "data": {
      "text/plain": [
       "{'class': 'Insecta',\n",
       " 'family': 'Mutillidae',\n",
       " 'genus': 'Dasymutilla',\n",
       " 'kingdom': 'Animalia',\n",
       " 'order': 'Hymenoptera',\n",
       " 'phylum': 'Mandibulata'}"
      ]
     },
     "metadata": {},
     "output_type": "display_data"
    },
    {
     "name": "stdout",
     "output_type": "stream",
     "text": [
      "Original Scientific Name: Lomachaeta hicksi\n",
      "NatureServe Scientific Name: Lomachaeta hicksi\n"
     ]
    },
    {
     "data": {
      "text/plain": [
       "{'class': 'Insecta',\n",
       " 'family': 'Mutillidae',\n",
       " 'genus': 'Lomachaeta',\n",
       " 'kingdom': 'Animalia',\n",
       " 'order': 'Hymenoptera',\n",
       " 'phylum': 'Mandibulata'}"
      ]
     },
     "metadata": {},
     "output_type": "display_data"
    },
    {
     "name": "stdout",
     "output_type": "stream",
     "text": [
      "Original Scientific Name: Photomorphus archboldi\n",
      "NatureServe Scientific Name: Photomorphus archboldi\n"
     ]
    },
    {
     "data": {
      "text/plain": [
       "{'class': 'Insecta',\n",
       " 'family': 'Mutillidae',\n",
       " 'genus': 'Photomorphus',\n",
       " 'kingdom': 'Animalia',\n",
       " 'order': 'Hymenoptera',\n",
       " 'phylum': 'Mandibulata'}"
      ]
     },
     "metadata": {},
     "output_type": "display_data"
    },
    {
     "name": "stdout",
     "output_type": "stream",
     "text": [
      "Original Scientific Name: Hydroptila bribriae\n",
      "NatureServe Scientific Name: Hydroptila bribriae\n"
     ]
    },
    {
     "data": {
      "text/plain": [
       "{'class': 'Insecta',\n",
       " 'family': 'Hydroptilidae',\n",
       " 'genus': 'Hydroptila',\n",
       " 'kingdom': 'Animalia',\n",
       " 'order': 'Trichoptera',\n",
       " 'phylum': 'Mandibulata'}"
      ]
     },
     "metadata": {},
     "output_type": "display_data"
    },
    {
     "name": "stdout",
     "output_type": "stream",
     "text": [
      "Original Scientific Name: Hydroptila eglinensis\n",
      "NatureServe Scientific Name: Hydroptila eglinensis\n"
     ]
    },
    {
     "data": {
      "text/plain": [
       "{'class': 'Insecta',\n",
       " 'family': 'Hydroptilidae',\n",
       " 'genus': 'Hydroptila',\n",
       " 'kingdom': 'Animalia',\n",
       " 'order': 'Trichoptera',\n",
       " 'phylum': 'Mandibulata'}"
      ]
     },
     "metadata": {},
     "output_type": "display_data"
    },
    {
     "name": "stdout",
     "output_type": "stream",
     "text": [
      "Original Scientific Name: Hydroptila hamiltoni\n",
      "NatureServe Scientific Name: Hydroptila hamiltoni\n"
     ]
    },
    {
     "data": {
      "text/plain": [
       "{'class': 'Insecta',\n",
       " 'family': 'Hydroptilidae',\n",
       " 'genus': 'Hydroptila',\n",
       " 'kingdom': 'Animalia',\n",
       " 'order': 'Trichoptera',\n",
       " 'phylum': 'Mandibulata'}"
      ]
     },
     "metadata": {},
     "output_type": "display_data"
    },
    {
     "name": "stdout",
     "output_type": "stream",
     "text": [
      "Original Scientific Name: Hydroptila okaloosa\n",
      "NatureServe Scientific Name: Hydroptila okaloosa\n"
     ]
    },
    {
     "data": {
      "text/plain": [
       "{'class': 'Insecta',\n",
       " 'family': 'Hydroptilidae',\n",
       " 'genus': 'Hydroptila',\n",
       " 'kingdom': 'Animalia',\n",
       " 'order': 'Trichoptera',\n",
       " 'phylum': 'Mandibulata'}"
      ]
     },
     "metadata": {},
     "output_type": "display_data"
    },
    {
     "name": "stdout",
     "output_type": "stream",
     "text": [
      "Original Scientific Name: Hydroptila sarahae\n",
      "NatureServe Scientific Name: Hydroptila sarahae\n"
     ]
    },
    {
     "data": {
      "text/plain": [
       "{'class': 'Insecta',\n",
       " 'family': 'Hydroptilidae',\n",
       " 'genus': 'Hydroptila',\n",
       " 'kingdom': 'Animalia',\n",
       " 'order': 'Trichoptera',\n",
       " 'phylum': 'Mandibulata'}"
      ]
     },
     "metadata": {},
     "output_type": "display_data"
    },
    {
     "name": "stdout",
     "output_type": "stream",
     "text": [
      "Original Scientific Name: Hydroptila sykorai\n",
      "NatureServe Scientific Name: Hydroptila sykorai\n"
     ]
    },
    {
     "data": {
      "text/plain": [
       "{'class': 'Insecta',\n",
       " 'family': 'Hydroptilidae',\n",
       " 'genus': 'Hydroptila',\n",
       " 'kingdom': 'Animalia',\n",
       " 'order': 'Trichoptera',\n",
       " 'phylum': 'Mandibulata'}"
      ]
     },
     "metadata": {},
     "output_type": "display_data"
    },
    {
     "name": "stdout",
     "output_type": "stream",
     "text": [
      "Original Scientific Name: Neotrichia rasmusseni\n",
      "NatureServe Scientific Name: Neotrichia rasmusseni\n"
     ]
    },
    {
     "data": {
      "text/plain": [
       "{'class': 'Insecta',\n",
       " 'family': 'Hydroptilidae',\n",
       " 'genus': 'Neotrichia',\n",
       " 'genusSize': {'code': 'D',\n",
       "  'description': 'D - Medium to large genus (21+ species)'},\n",
       " 'kingdom': 'Animalia',\n",
       " 'order': 'Trichoptera',\n",
       " 'phylum': 'Mandibulata'}"
      ]
     },
     "metadata": {},
     "output_type": "display_data"
    },
    {
     "name": "stdout",
     "output_type": "stream",
     "text": [
      "Original Scientific Name: Oxyethira chrysocara\n",
      "NatureServe Scientific Name: Oxyethira chrysocara\n"
     ]
    },
    {
     "data": {
      "text/plain": [
       "{'class': 'Insecta',\n",
       " 'family': 'Hydroptilidae',\n",
       " 'genus': 'Oxyethira',\n",
       " 'kingdom': 'Animalia',\n",
       " 'order': 'Trichoptera',\n",
       " 'phylum': 'Mandibulata'}"
      ]
     },
     "metadata": {},
     "output_type": "display_data"
    },
    {
     "name": "stdout",
     "output_type": "stream",
     "text": [
      "Original Scientific Name: Oxyethira pescadori\n",
      "NatureServe Scientific Name: Oxyethira pescadori\n"
     ]
    },
    {
     "data": {
      "text/plain": [
       "{'class': 'Insecta',\n",
       " 'family': 'Hydroptilidae',\n",
       " 'genus': 'Oxyethira',\n",
       " 'kingdom': 'Animalia',\n",
       " 'order': 'Trichoptera',\n",
       " 'phylum': 'Mandibulata'}"
      ]
     },
     "metadata": {},
     "output_type": "display_data"
    },
    {
     "name": "stdout",
     "output_type": "stream",
     "text": [
      "Original Scientific Name: Ceraclea limnetes\n",
      "NatureServe Scientific Name: Ceraclea limnetes\n"
     ]
    },
    {
     "data": {
      "text/plain": [
       "{'class': 'Insecta',\n",
       " 'family': 'Leptoceridae',\n",
       " 'genus': 'Ceraclea',\n",
       " 'genusSize': {'code': 'D',\n",
       "  'description': 'D - Medium to large genus (21+ species)'},\n",
       " 'kingdom': 'Animalia',\n",
       " 'order': 'Trichoptera',\n",
       " 'phylum': 'Mandibulata'}"
      ]
     },
     "metadata": {},
     "output_type": "display_data"
    },
    {
     "name": "stdout",
     "output_type": "stream",
     "text": [
      "Original Scientific Name: Setodes chipolanus\n",
      "NatureServe Scientific Name: Setodes chipolanus\n"
     ]
    },
    {
     "data": {
      "text/plain": [
       "{'class': 'Insecta',\n",
       " 'family': 'Leptoceridae',\n",
       " 'genus': 'Setodes',\n",
       " 'kingdom': 'Animalia',\n",
       " 'order': 'Trichoptera',\n",
       " 'phylum': 'Mandibulata'}"
      ]
     },
     "metadata": {},
     "output_type": "display_data"
    },
    {
     "name": "stdout",
     "output_type": "stream",
     "text": [
      "Original Scientific Name: Triaenodes dendyi\n",
      "NatureServe Scientific Name: Triaenodes dendyi\n"
     ]
    },
    {
     "data": {
      "text/plain": [
       "{'class': 'Insecta',\n",
       " 'family': 'Leptoceridae',\n",
       " 'genus': 'Triaenodes',\n",
       " 'kingdom': 'Animalia',\n",
       " 'order': 'Trichoptera',\n",
       " 'phylum': 'Mandibulata'}"
      ]
     },
     "metadata": {},
     "output_type": "display_data"
    },
    {
     "name": "stdout",
     "output_type": "stream",
     "text": [
      "Original Scientific Name: Triaenodes lagarto\n",
      "NatureServe Scientific Name: Triaenodes lagarto\n"
     ]
    },
    {
     "data": {
      "text/plain": [
       "{'class': 'Insecta',\n",
       " 'family': 'Leptoceridae',\n",
       " 'genus': 'Triaenodes',\n",
       " 'kingdom': 'Animalia',\n",
       " 'order': 'Trichoptera',\n",
       " 'phylum': 'Mandibulata'}"
      ]
     },
     "metadata": {},
     "output_type": "display_data"
    },
    {
     "name": "stdout",
     "output_type": "stream",
     "text": [
      "Original Scientific Name: Acrolophus pholeter\n",
      "NatureServe Scientific Name: Acrolophus pholeter\n"
     ]
    },
    {
     "data": {
      "text/plain": [
       "{'class': 'Insecta',\n",
       " 'family': 'Acrolophidae',\n",
       " 'genus': 'Acrolophus',\n",
       " 'kingdom': 'Animalia',\n",
       " 'order': 'Lepidoptera',\n",
       " 'phylum': 'Mandibulata'}"
      ]
     },
     "metadata": {},
     "output_type": "display_data"
    },
    {
     "name": "stdout",
     "output_type": "stream",
     "text": [
      "Original Scientific Name: Enodia portlandia floralae\n",
      "NatureServe Scientific Name: Lethe portlandia floralae\n"
     ]
    },
    {
     "data": {
      "text/plain": [
       "{'class': 'Insecta',\n",
       " 'family': 'Nymphalidae',\n",
       " 'genus': 'Lethe',\n",
       " 'genusSize': {'code': 'B',\n",
       "  'description': 'B - Very small genus (2-5 species)'},\n",
       " 'kingdom': 'Animalia',\n",
       " 'order': 'Lepidoptera',\n",
       " 'phylum': 'Mandibulata'}"
      ]
     },
     "metadata": {},
     "output_type": "display_data"
    },
    {
     "name": "stdout",
     "output_type": "stream",
     "text": [
      "Original Scientific Name: Holothuria rowei  \n",
      "'Cleaned' Scientific Name (for processing): Holothuria rowei\n",
      "NatureServe Scientific Name: Holothuria rowei\n"
     ]
    },
    {
     "data": {
      "text/plain": [
       "{'class': 'Holothuroidea',\n",
       " 'family': 'Holothuriidae',\n",
       " 'genus': 'Holothuria',\n",
       " 'kingdom': 'Animalia',\n",
       " 'order': 'Aspidochirotida',\n",
       " 'phylum': 'Echinodermata'}"
      ]
     },
     "metadata": {},
     "output_type": "display_data"
    },
    {
     "name": "stdout",
     "output_type": "stream",
     "text": [
      "Original Scientific Name: Myodes gapperi carolinensis\n",
      "NatureServe Scientific Name: Myodes gapperi carolinensis\n"
     ]
    },
    {
     "data": {
      "text/plain": [
       "{'class': 'Mammalia',\n",
       " 'family': 'Cricetidae',\n",
       " 'genus': 'Myodes',\n",
       " 'kingdom': 'Animalia',\n",
       " 'order': 'Rodentia',\n",
       " 'phylum': 'Craniata'}"
      ]
     },
     "metadata": {},
     "output_type": "display_data"
    },
    {
     "name": "stdout",
     "output_type": "stream",
     "text": [
      "Original Scientific Name: Porella japonica ssp. appalachiana\n",
      "NatureServe Scientific Name: Porella japonica ssp. appalachiana\n"
     ]
    },
    {
     "data": {
      "text/plain": [
       "{'class': 'Jungermanniopsida',\n",
       " 'family': 'Porellaceae',\n",
       " 'genus': 'Porella',\n",
       " 'kingdom': 'Plantae',\n",
       " 'order': 'Jungermanniales',\n",
       " 'phylum': 'Hepatophyta',\n",
       " 'taxonomicComments': 'Called <i>Porella appalachiana</i> in the Federal Register (which identified it as a \"Category 2 Candidate\"), but no published reference has been found for this as a valid combination.'}"
      ]
     },
     "metadata": {},
     "output_type": "display_data"
    },
    {
     "name": "stdout",
     "output_type": "stream",
     "text": [
      "Original Scientific Name: Branchinecta mediospinosa\n",
      "NatureServe Scientific Name: Branchinecta mediospinosa\n"
     ]
    },
    {
     "data": {
      "text/plain": [
       "{'class': 'Branchiopoda',\n",
       " 'family': 'Branchinectidae',\n",
       " 'genus': 'Branchinecta',\n",
       " 'genusSize': {'code': 'A', 'description': 'A - Monotypic genus'},\n",
       " 'kingdom': 'Animalia',\n",
       " 'order': 'Anostraca',\n",
       " 'phylum': 'Crustacea'}"
      ]
     },
     "metadata": {},
     "output_type": "display_data"
    },
    {
     "name": "stdout",
     "output_type": "stream",
     "text": [
      "Original Scientific Name: Hypsiglena jani\n",
      "NatureServe Scientific Name: Hypsiglena jani\n"
     ]
    },
    {
     "data": {
      "text/plain": [
       "{'class': 'Reptilia',\n",
       " 'family': 'Colubridae',\n",
       " 'genus': 'Hypsiglena',\n",
       " 'genusSize': {'code': 'C', 'description': 'C - Small genus (6-20 species)'},\n",
       " 'kingdom': 'Animalia',\n",
       " 'order': 'Squamata',\n",
       " 'phylum': 'Craniata'}"
      ]
     },
     "metadata": {},
     "output_type": "display_data"
    },
    {
     "name": "stdout",
     "output_type": "stream",
     "text": [
      "Original Scientific Name: Rena dissecta\n",
      "NatureServe Scientific Name: Rena dissectus\n"
     ]
    },
    {
     "data": {
      "text/plain": [
       "{'class': 'Reptilia',\n",
       " 'family': 'Leptotyphlopidae',\n",
       " 'genus': 'Rena',\n",
       " 'genusSize': {'code': 'C', 'description': 'C - Small genus (6-20 species)'},\n",
       " 'kingdom': 'Animalia',\n",
       " 'order': 'Squamata',\n",
       " 'phylum': 'Craniata',\n",
       " 'taxonomicComments': 'Dixon and Vaughan (2003) examined morphological variation in 867 individuals of Mexican and U.S. <i>Leptotyphlops </i>allied with <i>L. dulcis</i> and concluded that<i> L. dissectus</i>, <i>L. dulcis</i>, and <i>L. myopicus</i> (a Mexican species) should be regarded as distinct species. Formerly <i>dissectus </i>and <i>myopicus </i>were treated as subspecies of<i> L. dulcis</i>. Crother et al. (2003) adopted this taxonomic revision.<br><br>This species formerly was included in the genus <i>Leptotyphlops</i>. Adalsteinsson et al. (2009) examined DNA sequences (from nine mitochondrial and nuclear genes) of 91 individuals representing 34 recognized species of the family Leptotyphlopidae. Based on these analyses, they presented a revised classification of the family. The leptotyphlopid species occurring in North America north of Mexico (<i>dissecta</i>, <i>dulcis</i>, <i>humilis</i>) were removed from the genus <i>Leptotyphlops </i>and placed in the genus <i>Rena</i>, the range of which extends southward through Middle and South America to Uruguay and Argentina.'}"
      ]
     },
     "metadata": {},
     "output_type": "display_data"
    },
    {
     "name": "stdout",
     "output_type": "stream",
     "text": [
      "Original Scientific Name: Antigone canadensis tabida\n",
      "NatureServe Scientific Name: Antigone canadensis tabida\n"
     ]
    },
    {
     "data": {
      "text/plain": [
       "{'class': 'Aves',\n",
       " 'family': 'Gruidae',\n",
       " 'genus': 'Antigone',\n",
       " 'kingdom': 'Animalia',\n",
       " 'order': 'Gruiformes',\n",
       " 'phylum': 'Craniata',\n",
       " 'taxonomicComments': 'Formerly placed in the genus <i>Grus</i>, but genetic data (Krajewski et al. 2010) indicate that <i>Grus </i>is paraphyletic with respect to <i>Bugeranus </i>and <i>Anthropoides </i>and that <i>A. canadensis</i> is not closely related to true <i>Grus </i>(AOU 2016).'}"
      ]
     },
     "metadata": {},
     "output_type": "display_data"
    },
    {
     "name": "stdout",
     "output_type": "stream",
     "text": [
      "Original Scientific Name: Pristiloma crateris\n",
      "NatureServe Scientific Name: Pristiloma crateris\n"
     ]
    },
    {
     "data": {
      "text/plain": [
       "{'class': 'Gastropoda',\n",
       " 'family': 'Zonitidae',\n",
       " 'genus': 'Pristiloma',\n",
       " 'genusSize': {'code': 'D',\n",
       "  'description': 'D - Medium to large genus (21+ species)'},\n",
       " 'kingdom': 'Animalia',\n",
       " 'order': 'Stylommatophora',\n",
       " 'phylum': 'Mollusca',\n",
       " 'taxonomicComments': 'Placed as a subspecies of <i>P. arcticum</i> (as originally described by Pilsbry in 1946) and again by Frest and Johannes (1999). Elevated to species status by Burke (2013).'}"
      ]
     },
     "metadata": {},
     "output_type": "display_data"
    },
    {
     "name": "stdout",
     "output_type": "stream",
     "text": [
      "Original Scientific Name: Vorticifex effusa dalli\n",
      "NatureServe Scientific Name: Vorticifex effusa dalli\n"
     ]
    },
    {
     "data": {
      "text/plain": [
       "{'class': 'Gastropoda',\n",
       " 'family': 'Planorbidae',\n",
       " 'genus': 'Vorticifex',\n",
       " 'kingdom': 'Animalia',\n",
       " 'order': 'Basommatophora',\n",
       " 'phylum': 'Mollusca'}"
      ]
     },
     "metadata": {},
     "output_type": "display_data"
    },
    {
     "name": "stdout",
     "output_type": "stream",
     "text": [
      "Original Scientific Name: Vorticifex effusa diagonalis\n",
      "NatureServe Scientific Name: Vorticifex effusa diagonalis\n"
     ]
    },
    {
     "data": {
      "text/plain": [
       "{'class': 'Gastropoda',\n",
       " 'family': 'Planorbidae',\n",
       " 'genus': 'Vorticifex',\n",
       " 'kingdom': 'Animalia',\n",
       " 'order': 'Basommatophora',\n",
       " 'phylum': 'Mollusca'}"
      ]
     },
     "metadata": {},
     "output_type": "display_data"
    },
    {
     "name": "stdout",
     "output_type": "stream",
     "text": [
      "Original Scientific Name: Juga hemphilli maupinensis\n",
      "NatureServe Scientific Name: Juga hemphilli maupinensis\n"
     ]
    },
    {
     "data": {
      "text/plain": [
       "{'class': 'Gastropoda',\n",
       " 'family': 'Pleuroceridae',\n",
       " 'genus': 'Juga',\n",
       " 'kingdom': 'Animalia',\n",
       " 'order': 'Neotaenioglossa',\n",
       " 'phylum': 'Mollusca',\n",
       " 'taxonomicComments': 'Lee et al. (2006) determined through nuclear and mitochondrial genetic trees that J<i>uga hemphilli </i>represents a geographical disjunct lineage of the eastern North American pleurocerid clade and provide a number of lines of evidence supporting repositioning <i>Juga hemphilli </i>into the genus <i>Elimia</i>, sister to <i>Elimia livescens</i>.  Examinationi of the GenBank specimens utilized in this study in comparision to anatomical studies of a subsequently collected sample of <i>Juga hemphilli dallesensis</i> from the type locality revealed the specimens used in Lee et al. (2006) were based on mislabelled specimens of the eastern species <i>Elimia doolyensis</i>; therby nullifying Lee et al. (2006) and retaining the <i>Juga hemphilli</i> (Foighil et al., 2009).'}"
      ]
     },
     "metadata": {},
     "output_type": "display_data"
    },
    {
     "name": "stdout",
     "output_type": "stream",
     "text": [
      "Original Scientific Name: Capnia kersti\n",
      "NatureServe Scientific Name: Capnia kersti\n"
     ]
    },
    {
     "data": {
      "text/plain": [
       "{'class': 'Insecta',\n",
       " 'family': 'Capniidae',\n",
       " 'genus': 'Capnia',\n",
       " 'kingdom': 'Animalia',\n",
       " 'order': 'Plecoptera',\n",
       " 'phylum': 'Mandibulata'}"
      ]
     },
     "metadata": {},
     "output_type": "display_data"
    },
    {
     "name": "stdout",
     "output_type": "stream",
     "text": [
      "Original Scientific Name: Lupinus lepidus var. cusickii\n",
      "NatureServe Scientific Name: Lupinus cusickii ssp. cusickii\n"
     ]
    },
    {
     "data": {
      "text/plain": [
       "{'class': 'Dicotyledoneae',\n",
       " 'family': 'Fabaceae',\n",
       " 'genus': 'Lupinus',\n",
       " 'kingdom': 'Plantae',\n",
       " 'order': 'Fabales',\n",
       " 'phylum': 'Anthophyta',\n",
       " 'taxonomicComments': '<i>Lupinus cusickii </i>ssp. <i>cusickii </i> is often placed in <i>L. lepidus (= L. lepidus </i>ssp./var. <i>cusickii.</i>'}"
      ]
     },
     "metadata": {},
     "output_type": "display_data"
    },
    {
     "name": "stdout",
     "output_type": "stream",
     "text": [
      "Original Scientific Name: Astragalus cusickii var. sterilis\n",
      "NatureServe Scientific Name: Astragalus cusickii var. sterilis\n"
     ]
    },
    {
     "data": {
      "text/plain": [
       "{'class': 'Dicotyledoneae',\n",
       " 'family': 'Fabaceae',\n",
       " 'genus': 'Astragalus',\n",
       " 'kingdom': 'Plantae',\n",
       " 'order': 'Fabales',\n",
       " 'phylum': 'Anthophyta'}"
      ]
     },
     "metadata": {},
     "output_type": "display_data"
    }
   ],
   "source": [
    "nsResults = uniqueNamesCollection.find({\"$and\":[{\"itis.itisData\":{\"$exists\":False}},{\"worms.wormsData\":{\"$exists\":False}},{\"NatureServe.natureServeData.classification.taxonomy.formalTaxonomy\":{\"$exists\":True}}]},{\"ScientificName_original\":1,\"ScientificName_unique\":1,\"NatureServe.natureServeData.classification\":1})\n",
    "\n",
    "print (\"Number of names not matched to ITIS or WoRMS but matched to NatureServe with taxonomy:\", nsResults.count())\n",
    "\n",
    "print (\"------------\")\n",
    "\n",
    "for doc in nsResults:\n",
    "    print (\"Original Scientific Name:\",doc[\"ScientificName_original\"])\n",
    "    if doc[\"ScientificName_unique\"] != doc[\"ScientificName_original\"]:\n",
    "        print (\"'Cleaned' Scientific Name (for processing):\",doc[\"ScientificName_unique\"])\n",
    "    print (\"NatureServe Scientific Name:\",doc[\"NatureServe\"][\"natureServeData\"][\"classification\"][\"names\"][\"scientificName\"][\"unformattedName\"])\n",
    "    display (doc[\"NatureServe\"][\"natureServeData\"][\"classification\"][\"taxonomy\"][\"formalTaxonomy\"])\n"
   ]
  },
  {
   "cell_type": "markdown",
   "metadata": {},
   "source": [
    "### TESS\n",
    "In the new process, instead of just looking for FWS Threatened and Endangered Species System (TESS) records, we also run a search by scientific name (SCINAME in TESS). This gives us another group of species recognized by FWS but not yet found in a taxonomic authority. Some interesting things to note here:\n",
    "\n",
    "* These records have a TSN value with a negative number. I'm not sure what that means, but it seems consistent with not fiding them in ITIS. The [documentation](https://ecos.fws.gov/ecp/species-query) for the service is highly lacking. I guess they figure that all the other field definitions should be obvious.\n",
    "* Most of these records show a listing status of \"resolved taxon\". If that taxonomic resolution was captured in ITIS, then we could have expected to find the name as a synonym or invalid/unaccepted name. I wonder what additional information FWS may have in some other data system not exposed to us that would have their notes on this process and what leats to \"resolved taxon\" in the TESS system. According to the [documentation](https://my.usgs.gov/confluence/pages/viewpage.action?pageId=518426757), there should be a Federal Register notice somewhere on all of these. I thought it would be interesting to try and find those, but neither the Federal Register's own search nor a [Google Search](https://www.google.com/search?q=Eurema%20dina%20helios%20site%3Afederalregister.gov) return any results.\n",
    "\n",
    "Another interesting report to show for SGCN analysis might be built from this idea. Species that states have in their list but that FWS considers \"resolved\" in that there was a decision not to pursue federal listing. Digging in further, we could examine what NatureServe has to say about conservation status."
   ]
  },
  {
   "cell_type": "code",
   "execution_count": 14,
   "metadata": {
    "collapsed": false
   },
   "outputs": [
    {
     "name": "stdout",
     "output_type": "stream",
     "text": [
      "Number of names not matched to ITIS or WoRMS but matched to FWS TESS: 121\n",
      "------------\n",
      "Original Scientific Name: Pyrgulopsis peculiaris\n"
     ]
    },
    {
     "data": {
      "text/plain": [
       "{'COMNAME': 'Bifid duct pyrg',\n",
       " 'COUNTRY': '1',\n",
       " 'DPS': '0',\n",
       " 'ENTITY_ID': '9994',\n",
       " 'FAMILY': 'Hydrobiidae',\n",
       " 'INVNAME': 'Pyrg, bifid duct',\n",
       " 'LEAD_AGENCY': '1',\n",
       " 'LEAD_REGION': '6',\n",
       " 'REFUGE_OCCURRENCE': None,\n",
       " 'SCINAME': 'Pyrgulopsis peculiaris',\n",
       " 'SPCODE': 'G0FK',\n",
       " 'STATUS': 'RT',\n",
       " 'TSN': '-485',\n",
       " 'VIPCODE': 'I01',\n",
       " 'cacheDate': '2017-11-13T21:00:43.892549',\n",
       " 'listingStatus': [{'POP_ABBREV': 'Wherever found',\n",
       "   'POP_DESC': 'Wherever found',\n",
       "   'STATUS': 'Resolved Taxon'}],\n",
       " 'result': True}"
      ]
     },
     "metadata": {},
     "output_type": "display_data"
    },
    {
     "name": "stdout",
     "output_type": "stream",
     "text": [
      "Original Scientific Name: Pyrgulopsis papillata\n"
     ]
    },
    {
     "data": {
      "text/plain": [
       "{'COMNAME': 'Big Warm Spring pyrg',\n",
       " 'COUNTRY': '1',\n",
       " 'DPS': '0',\n",
       " 'ENTITY_ID': '9993',\n",
       " 'FAMILY': 'Hydrobiidae',\n",
       " 'INVNAME': 'Pyrg, Big Warm Spring',\n",
       " 'LEAD_AGENCY': '1',\n",
       " 'LEAD_REGION': '8',\n",
       " 'REFUGE_OCCURRENCE': None,\n",
       " 'SCINAME': 'Pyrgulopsis papillata',\n",
       " 'SPCODE': 'G0FJ',\n",
       " 'STATUS': 'RT',\n",
       " 'TSN': '-484',\n",
       " 'VIPCODE': 'I01',\n",
       " 'cacheDate': '2017-11-13T21:00:44.130982',\n",
       " 'listingStatus': [{'POP_ABBREV': 'Wherever found',\n",
       "   'POP_DESC': 'Wherever found',\n",
       "   'STATUS': 'Resolved Taxon'}],\n",
       " 'result': True}"
      ]
     },
     "metadata": {},
     "output_type": "display_data"
    },
    {
     "name": "stdout",
     "output_type": "stream",
     "text": [
      "Original Scientific Name: Pyrgulopsis coloradensis\n"
     ]
    },
    {
     "data": {
      "text/plain": [
       "{'COMNAME': 'Blue Point pyrg',\n",
       " 'COUNTRY': '1',\n",
       " 'DPS': '0',\n",
       " 'ENTITY_ID': '9980',\n",
       " 'FAMILY': 'Hydrobiidae',\n",
       " 'INVNAME': 'Pyrg, Blue Point',\n",
       " 'LEAD_AGENCY': '1',\n",
       " 'LEAD_REGION': '8',\n",
       " 'REFUGE_OCCURRENCE': None,\n",
       " 'SCINAME': 'Pyrgulopsis coloradensis',\n",
       " 'SPCODE': 'G0F6',\n",
       " 'STATUS': 'RT',\n",
       " 'TSN': '-423',\n",
       " 'VIPCODE': 'I01',\n",
       " 'cacheDate': '2017-11-13T21:00:44.363862',\n",
       " 'listingStatus': [{'POP_ABBREV': 'Wherever found',\n",
       "   'POP_DESC': 'Wherever found',\n",
       "   'STATUS': 'Resolved Taxon'}],\n",
       " 'result': True}"
      ]
     },
     "metadata": {},
     "output_type": "display_data"
    },
    {
     "name": "stdout",
     "output_type": "stream",
     "text": [
      "Original Scientific Name: Pyrgulopsis lata\n"
     ]
    },
    {
     "data": {
      "text/plain": [
       "{'COMNAME': 'Butterfield pyrg',\n",
       " 'COUNTRY': '1',\n",
       " 'DPS': '0',\n",
       " 'ENTITY_ID': '9987',\n",
       " 'FAMILY': 'Hyrdobiidae',\n",
       " 'INVNAME': 'Pyrg, Butterfield',\n",
       " 'LEAD_AGENCY': '1',\n",
       " 'LEAD_REGION': '8',\n",
       " 'REFUGE_OCCURRENCE': None,\n",
       " 'SCINAME': 'Pyrgulopsis lata',\n",
       " 'SPCODE': 'G0FD',\n",
       " 'STATUS': 'RT',\n",
       " 'TSN': '-478',\n",
       " 'VIPCODE': 'I01',\n",
       " 'cacheDate': '2017-11-13T21:00:44.621224',\n",
       " 'listingStatus': [{'POP_ABBREV': 'Wherever found',\n",
       "   'POP_DESC': 'Wherever found',\n",
       "   'STATUS': 'Resolved Taxon'}],\n",
       " 'result': True}"
      ]
     },
     "metadata": {},
     "output_type": "display_data"
    },
    {
     "name": "stdout",
     "output_type": "stream",
     "text": [
      "Original Scientific Name: Pyrgulopsis montana\n"
     ]
    },
    {
     "data": {
      "text/plain": [
       "{'COMNAME': 'Camp Valley pyrg',\n",
       " 'COUNTRY': '1',\n",
       " 'DPS': '0',\n",
       " 'ENTITY_ID': '9990',\n",
       " 'FAMILY': 'Hydrobiidae',\n",
       " 'INVNAME': 'Pyrg, Camp Valley',\n",
       " 'LEAD_AGENCY': '1',\n",
       " 'LEAD_REGION': '8',\n",
       " 'REFUGE_OCCURRENCE': None,\n",
       " 'SCINAME': 'Pyrgulopsis montana',\n",
       " 'SPCODE': 'G0FG',\n",
       " 'STATUS': 'RT',\n",
       " 'TSN': '-481',\n",
       " 'VIPCODE': 'I01',\n",
       " 'cacheDate': '2017-11-13T21:00:44.865837',\n",
       " 'listingStatus': [{'POP_ABBREV': 'Wherever found',\n",
       "   'POP_DESC': 'Wherever found',\n",
       "   'STATUS': 'Resolved Taxon'}],\n",
       " 'result': True}"
      ]
     },
     "metadata": {},
     "output_type": "display_data"
    },
    {
     "name": "stdout",
     "output_type": "stream",
     "text": [
      "Original Scientific Name: Pyrgulopsis fausta\n"
     ]
    },
    {
     "data": {
      "text/plain": [
       "{'COMNAME': 'Corn Creek pyrg',\n",
       " 'COUNTRY': '1',\n",
       " 'DPS': '0',\n",
       " 'ENTITY_ID': '9982',\n",
       " 'FAMILY': 'Hydrobiidae',\n",
       " 'INVNAME': 'Pyrg, Corn Creek',\n",
       " 'LEAD_AGENCY': '1',\n",
       " 'LEAD_REGION': '8',\n",
       " 'REFUGE_OCCURRENCE': None,\n",
       " 'SCINAME': 'Pyrgulopsis fausta',\n",
       " 'SPCODE': 'G0F8',\n",
       " 'STATUS': 'RT',\n",
       " 'TSN': '-473',\n",
       " 'VIPCODE': 'I01',\n",
       " 'cacheDate': '2017-11-13T21:00:45.115050',\n",
       " 'listingStatus': [{'POP_ABBREV': 'Wherever found',\n",
       "   'POP_DESC': 'Wherever found',\n",
       "   'STATUS': 'Resolved Taxon'}],\n",
       " 'result': True}"
      ]
     },
     "metadata": {},
     "output_type": "display_data"
    },
    {
     "name": "stdout",
     "output_type": "stream",
     "text": [
      "Original Scientific Name: Pyrgulopsis aloba\n"
     ]
    },
    {
     "data": {
      "text/plain": [
       "{'COMNAME': 'Duckwater pyrg',\n",
       " 'COUNTRY': '1',\n",
       " 'DPS': '0',\n",
       " 'ENTITY_ID': '9975',\n",
       " 'FAMILY': 'Hydrobiidae',\n",
       " 'INVNAME': 'Pyrg, Duckwater',\n",
       " 'LEAD_AGENCY': '1',\n",
       " 'LEAD_REGION': '8',\n",
       " 'REFUGE_OCCURRENCE': None,\n",
       " 'SCINAME': 'Pyrgulopsis aloba',\n",
       " 'SPCODE': 'G0F1',\n",
       " 'STATUS': 'RT',\n",
       " 'TSN': '-413',\n",
       " 'VIPCODE': 'I01',\n",
       " 'cacheDate': '2017-11-13T21:00:46.116616',\n",
       " 'listingStatus': [{'POP_ABBREV': 'Wherever found',\n",
       "   'POP_DESC': 'Wherever found',\n",
       "   'STATUS': 'Resolved Taxon'}],\n",
       " 'result': True}"
      ]
     },
     "metadata": {},
     "output_type": "display_data"
    },
    {
     "name": "stdout",
     "output_type": "stream",
     "text": [
      "Original Scientific Name: Pyrgulopsis villacampae\n"
     ]
    },
    {
     "data": {
      "text/plain": [
       "{'COMNAME': 'Duckwater Warm Springs pyrg',\n",
       " 'COUNTRY': '1',\n",
       " 'DPS': '0',\n",
       " 'ENTITY_ID': '10003',\n",
       " 'FAMILY': 'Hydrobiidae',\n",
       " 'INVNAME': 'Pyrg, Duckwater Warm Springs',\n",
       " 'LEAD_AGENCY': '1',\n",
       " 'LEAD_REGION': '8',\n",
       " 'SCINAME': 'Pyrgulopsis villacampae',\n",
       " 'SPCODE': 'G0FT',\n",
       " 'STATUS': 'RT',\n",
       " 'TSN': '-1058',\n",
       " 'VIPCODE': 'I01',\n",
       " 'cacheDate': '2017-11-13T21:00:46.382556',\n",
       " 'listingStatus': [{'POP_ABBREV': 'Wherever found',\n",
       "   'POP_DESC': 'Wherever found',\n",
       "   'STATUS': 'Resolved Taxon'}],\n",
       " 'result': True}"
      ]
     },
     "metadata": {},
     "output_type": "display_data"
    },
    {
     "name": "stdout",
     "output_type": "stream",
     "text": [
      "Original Scientific Name: Pyrgulopsis notidicola\n"
     ]
    },
    {
     "data": {
      "text/plain": [
       "{'COMNAME': 'Elongate mud meadows Springsnail',\n",
       " 'COUNTRY': '1',\n",
       " 'DPS': '0',\n",
       " 'ENTITY_ID': '3948',\n",
       " 'FAMILY': 'Hydrobiidae',\n",
       " 'INVNAME': 'Springsnail, elongate mud meadows',\n",
       " 'LEAD_AGENCY': '1',\n",
       " 'LEAD_REGION': '8',\n",
       " 'REFUGE_OCCURRENCE': None,\n",
       " 'SCINAME': 'Pyrgulopsis notidicola',\n",
       " 'SPCODE': 'G0C6',\n",
       " 'STATUS': 'RT',\n",
       " 'TSN': '-498',\n",
       " 'VIPCODE': 'I01',\n",
       " 'cacheDate': '2017-11-13T21:00:47.126094',\n",
       " 'listingStatus': [{'POP_ABBREV': 'Wherever found',\n",
       "   'POP_DESC': 'Wherever found',\n",
       "   'STATUS': 'Resolved Taxon'}],\n",
       " 'result': True}"
      ]
     },
     "metadata": {},
     "output_type": "display_data"
    },
    {
     "name": "stdout",
     "output_type": "stream",
     "text": [
      "Original Scientific Name: Pyrgulopsis gracilis\n"
     ]
    },
    {
     "data": {
      "text/plain": [
       "{'COMNAME': 'Emigrant pyrg',\n",
       " 'COUNTRY': '1',\n",
       " 'DPS': '0',\n",
       " 'ENTITY_ID': '9983',\n",
       " 'FAMILY': 'Hydrobiidae',\n",
       " 'INVNAME': 'Pyrg, emigrant',\n",
       " 'LEAD_AGENCY': '1',\n",
       " 'LEAD_REGION': '8',\n",
       " 'REFUGE_OCCURRENCE': None,\n",
       " 'SCINAME': 'Pyrgulopsis gracilis',\n",
       " 'SPCODE': 'G0F9',\n",
       " 'STATUS': 'RT',\n",
       " 'TSN': '-474',\n",
       " 'VIPCODE': 'I01',\n",
       " 'cacheDate': '2017-11-13T21:00:47.629330',\n",
       " 'listingStatus': [{'POP_ABBREV': 'Wherever found',\n",
       "   'POP_DESC': 'Wherever found',\n",
       "   'STATUS': 'Resolved Taxon'}],\n",
       " 'result': True}"
      ]
     },
     "metadata": {},
     "output_type": "display_data"
    },
    {
     "name": "stdout",
     "output_type": "stream",
     "text": [
      "Original Scientific Name: Pyrgulopsis breviloba\n"
     ]
    },
    {
     "data": {
      "text/plain": [
       "{'COMNAME': 'Flag pyrg',\n",
       " 'COUNTRY': '1',\n",
       " 'DPS': '0',\n",
       " 'ENTITY_ID': '9978',\n",
       " 'FAMILY': 'Hydrobiidae',\n",
       " 'INVNAME': 'Pyrg, flag',\n",
       " 'LEAD_AGENCY': '1',\n",
       " 'LEAD_REGION': '8',\n",
       " 'REFUGE_OCCURRENCE': None,\n",
       " 'SCINAME': 'Pyrgulopsis breviloba',\n",
       " 'SPCODE': 'G0F4',\n",
       " 'STATUS': 'RT',\n",
       " 'TSN': '-416',\n",
       " 'VIPCODE': 'I01',\n",
       " 'cacheDate': '2017-11-13T21:00:48.102266',\n",
       " 'listingStatus': [{'POP_ABBREV': 'Wherever found',\n",
       "   'POP_DESC': 'Wherever found',\n",
       "   'STATUS': 'Resolved Taxon'}],\n",
       " 'result': True}"
      ]
     },
     "metadata": {},
     "output_type": "display_data"
    },
    {
     "name": "stdout",
     "output_type": "stream",
     "text": [
      "Original Scientific Name: Pyrgulopsis planulata\n"
     ]
    },
    {
     "data": {
      "text/plain": [
       "{'COMNAME': 'Flat-topped Steptoe pyrg',\n",
       " 'COUNTRY': '1',\n",
       " 'DPS': '0',\n",
       " 'ENTITY_ID': '9995',\n",
       " 'FAMILY': 'Hydrobiidae',\n",
       " 'INVNAME': 'Pyrg, flat-topped Steptoe',\n",
       " 'LEAD_AGENCY': '1',\n",
       " 'LEAD_REGION': '8',\n",
       " 'REFUGE_OCCURRENCE': None,\n",
       " 'SCINAME': 'Pyrgulopsis planulata',\n",
       " 'SPCODE': 'G0FL',\n",
       " 'STATUS': 'UR',\n",
       " 'TSN': '-486',\n",
       " 'VIPCODE': 'I01',\n",
       " 'cacheDate': '2017-11-13T21:00:48.376197',\n",
       " 'listingStatus': [{'POP_ABBREV': 'Wherever found',\n",
       "   'POP_DESC': 'Wherever found',\n",
       "   'STATUS': 'Under Review in the Candidate or Petition Process'}],\n",
       " 'result': True}"
      ]
     },
     "metadata": {},
     "output_type": "display_data"
    },
    {
     "name": "stdout",
     "output_type": "stream",
     "text": [
      "Original Scientific Name: Pyrgulopsis marcida\n"
     ]
    },
    {
     "data": {
      "text/plain": [
       "{'COMNAME': 'Hardy pyrg',\n",
       " 'COUNTRY': '1',\n",
       " 'DPS': '0',\n",
       " 'ENTITY_ID': '9989',\n",
       " 'FAMILY': 'Hydrobiidae',\n",
       " 'INVNAME': 'Pyrg, hardy',\n",
       " 'LEAD_AGENCY': '1',\n",
       " 'LEAD_REGION': '8',\n",
       " 'REFUGE_OCCURRENCE': None,\n",
       " 'SCINAME': 'Pyrgulopsis marcida',\n",
       " 'SPCODE': 'G0FF',\n",
       " 'STATUS': 'RT',\n",
       " 'TSN': '-480',\n",
       " 'VIPCODE': 'I01',\n",
       " 'cacheDate': '2017-11-13T21:00:49.167050',\n",
       " 'listingStatus': [{'POP_ABBREV': 'Wherever found',\n",
       "   'POP_DESC': 'Wherever found',\n",
       "   'STATUS': 'Resolved Taxon'}],\n",
       " 'result': True}"
      ]
     },
     "metadata": {},
     "output_type": "display_data"
    },
    {
     "name": "stdout",
     "output_type": "stream",
     "text": [
      "Original Scientific Name: Pyrgulopsis hubbsi\n"
     ]
    },
    {
     "data": {
      "text/plain": [
       "{'COMNAME': 'Hubbs pyrg',\n",
       " 'COUNTRY': '1',\n",
       " 'DPS': '0',\n",
       " 'ENTITY_ID': '9985',\n",
       " 'FAMILY': 'Hydrobiidae',\n",
       " 'INVNAME': 'Pyrg, Hubbs',\n",
       " 'LEAD_AGENCY': '1',\n",
       " 'LEAD_REGION': '8',\n",
       " 'REFUGE_OCCURRENCE': None,\n",
       " 'SCINAME': 'Pyrgulopsis hubbsi',\n",
       " 'SPCODE': 'G0FB',\n",
       " 'STATUS': 'RT',\n",
       " 'TSN': '-476',\n",
       " 'VIPCODE': 'I01',\n",
       " 'cacheDate': '2017-11-13T21:00:49.493625',\n",
       " 'listingStatus': [{'POP_ABBREV': 'Wherever found',\n",
       "   'POP_DESC': 'Wherever found',\n",
       "   'STATUS': 'Resolved Taxon'}],\n",
       " 'result': True}"
      ]
     },
     "metadata": {},
     "output_type": "display_data"
    },
    {
     "name": "stdout",
     "output_type": "stream",
     "text": [
      "Original Scientific Name: Pyrgulopsis sublata\n"
     ]
    },
    {
     "data": {
      "text/plain": [
       "{'COMNAME': 'Lake Valley pyrg',\n",
       " 'COUNTRY': '1',\n",
       " 'DPS': '0',\n",
       " 'ENTITY_ID': '10000',\n",
       " 'FAMILY': 'Hydrobiidae',\n",
       " 'INVNAME': 'Pyrg, Lake Valley pryg',\n",
       " 'LEAD_AGENCY': '1',\n",
       " 'LEAD_REGION': '8',\n",
       " 'REFUGE_OCCURRENCE': None,\n",
       " 'SCINAME': 'Pyrgulopsis sublata',\n",
       " 'SPCODE': 'G0FQ',\n",
       " 'STATUS': 'RT',\n",
       " 'TSN': '-491',\n",
       " 'VIPCODE': 'I01',\n",
       " 'cacheDate': '2017-11-13T21:00:50.216840',\n",
       " 'listingStatus': [{'POP_ABBREV': 'Wherever found',\n",
       "   'POP_DESC': 'Wherever found',\n",
       "   'STATUS': 'Resolved Taxon'}],\n",
       " 'result': True}"
      ]
     },
     "metadata": {},
     "output_type": "display_data"
    },
    {
     "name": "stdout",
     "output_type": "stream",
     "text": [
      "Original Scientific Name: Pyrgulopsis landyei\n"
     ]
    },
    {
     "data": {
      "text/plain": [
       "{'COMNAME': 'Landyes pyrg',\n",
       " 'COUNTRY': '1',\n",
       " 'DPS': '0',\n",
       " 'ENTITY_ID': '9986',\n",
       " 'FAMILY': 'Hydrobiidae',\n",
       " 'INVNAME': 'Pyrg, Landyes',\n",
       " 'LEAD_AGENCY': '1',\n",
       " 'LEAD_REGION': '8',\n",
       " 'REFUGE_OCCURRENCE': None,\n",
       " 'SCINAME': 'Pyrgulopsis landyei',\n",
       " 'SPCODE': 'G0FC',\n",
       " 'STATUS': 'UR',\n",
       " 'TSN': '-477',\n",
       " 'VIPCODE': 'I01',\n",
       " 'cacheDate': '2017-11-13T21:00:50.461889',\n",
       " 'listingStatus': [{'POP_ABBREV': 'Wherever found',\n",
       "   'POP_DESC': 'Wherever found',\n",
       "   'STATUS': 'Under Review in the Candidate or Petition Process'}],\n",
       " 'result': True}"
      ]
     },
     "metadata": {},
     "output_type": "display_data"
    },
    {
     "name": "stdout",
     "output_type": "stream",
     "text": [
      "Original Scientific Name: Pyrgulopsis lockensis\n"
     ]
    },
    {
     "data": {
      "text/plain": [
       "{'COMNAME': 'Lockes pyrg',\n",
       " 'COUNTRY': '1',\n",
       " 'DPS': '0',\n",
       " 'ENTITY_ID': '9988',\n",
       " 'FAMILY': 'Hydrobiidae',\n",
       " 'INVNAME': 'Pyrg, Lockes',\n",
       " 'LEAD_AGENCY': '1',\n",
       " 'LEAD_REGION': '8',\n",
       " 'REFUGE_OCCURRENCE': None,\n",
       " 'SCINAME': 'Pyrgulopsis lockensis',\n",
       " 'SPCODE': 'G0FE',\n",
       " 'STATUS': 'RT',\n",
       " 'TSN': '-479',\n",
       " 'VIPCODE': 'I01',\n",
       " 'cacheDate': '2017-11-13T21:00:50.982690',\n",
       " 'listingStatus': [{'POP_ABBREV': 'Wherever found',\n",
       "   'POP_DESC': 'Wherever found',\n",
       "   'STATUS': 'Resolved Taxon'}],\n",
       " 'result': True}"
      ]
     },
     "metadata": {},
     "output_type": "display_data"
    },
    {
     "name": "stdout",
     "output_type": "stream",
     "text": [
      "Original Scientific Name: Pyrgulopsis anguina\n"
     ]
    },
    {
     "data": {
      "text/plain": [
       "{'COMNAME': 'Longitudinal pyrg',\n",
       " 'COUNTRY': '1',\n",
       " 'DPS': '0',\n",
       " 'ENTITY_ID': '9977',\n",
       " 'FAMILY': 'Hydrobiidae',\n",
       " 'INVNAME': 'Pyrg, longitudinal',\n",
       " 'LEAD_AGENCY': '1',\n",
       " 'LEAD_REGION': '8',\n",
       " 'REFUGE_OCCURRENCE': None,\n",
       " 'SCINAME': 'Pyrgulopsis anguina',\n",
       " 'SPCODE': 'G0F3',\n",
       " 'STATUS': 'UR',\n",
       " 'TSN': '-415',\n",
       " 'VIPCODE': 'I01',\n",
       " 'cacheDate': '2017-11-13T21:00:51.276733',\n",
       " 'listingStatus': [{'POP_ABBREV': 'Wherever found',\n",
       "   'POP_DESC': 'Wherever found',\n",
       "   'STATUS': 'Under Review in the Candidate or Petition Process'}],\n",
       " 'result': True}"
      ]
     },
     "metadata": {},
     "output_type": "display_data"
    },
    {
     "name": "stdout",
     "output_type": "stream",
     "text": [
      "Original Scientific Name: Pyrgulopsis neritella\n"
     ]
    },
    {
     "data": {
      "text/plain": [
       "{'COMNAME': 'Neritiform Steptoe Ranch pyrg',\n",
       " 'COUNTRY': '1',\n",
       " 'DPS': '0',\n",
       " 'ENTITY_ID': '9991',\n",
       " 'FAMILY': 'Hydrobiidae',\n",
       " 'INVNAME': 'Pyrg, Neritiform Steptoe Ranch',\n",
       " 'LEAD_AGENCY': '1',\n",
       " 'LEAD_REGION': '8',\n",
       " 'REFUGE_OCCURRENCE': None,\n",
       " 'SCINAME': 'Pyrgulopsis neritella',\n",
       " 'SPCODE': 'G0FH',\n",
       " 'STATUS': 'UR',\n",
       " 'TSN': '-482',\n",
       " 'VIPCODE': 'I01',\n",
       " 'cacheDate': '2017-11-13T21:00:52.833687',\n",
       " 'listingStatus': [{'POP_ABBREV': 'Wherever found',\n",
       "   'POP_DESC': 'Wherever found',\n",
       "   'STATUS': 'Under Review in the Candidate or Petition Process'}],\n",
       " 'result': True}"
      ]
     },
     "metadata": {},
     "output_type": "display_data"
    },
    {
     "name": "stdout",
     "output_type": "stream",
     "text": [
      "Original Scientific Name: Pyrgulopsis serrata\n"
     ]
    },
    {
     "data": {
      "text/plain": [
       "{'COMNAME': 'Northern Steptoe pyrg',\n",
       " 'COUNTRY': '1',\n",
       " 'DPS': '0',\n",
       " 'ENTITY_ID': '9998',\n",
       " 'FAMILY': 'Hydrobiidae',\n",
       " 'INVNAME': 'Pyrg, Northern Steptoe',\n",
       " 'LEAD_AGENCY': '1',\n",
       " 'LEAD_REGION': '8',\n",
       " 'REFUGE_OCCURRENCE': None,\n",
       " 'SCINAME': 'Pyrgulopsis serrata',\n",
       " 'SPCODE': 'G0FO',\n",
       " 'STATUS': 'UR',\n",
       " 'TSN': '-489',\n",
       " 'VIPCODE': 'I01',\n",
       " 'cacheDate': '2017-11-13T21:00:53.312272',\n",
       " 'listingStatus': [{'POP_ABBREV': 'Wherever found',\n",
       "   'POP_DESC': 'Wherever found',\n",
       "   'STATUS': 'Under Review in the Candidate or Petition Process'}],\n",
       " 'result': True}"
      ]
     },
     "metadata": {},
     "output_type": "display_data"
    },
    {
     "name": "stdout",
     "output_type": "stream",
     "text": [
      "Original Scientific Name: Pyrgulopsis anatina\n"
     ]
    },
    {
     "data": {
      "text/plain": [
       "{'COMNAME': 'Southern Duckwater pyrg',\n",
       " 'COUNTRY': '1',\n",
       " 'DPS': '0',\n",
       " 'ENTITY_ID': '9976',\n",
       " 'FAMILY': 'Hydrobiidae',\n",
       " 'INVNAME': 'Pyrg, Southern Duckwater',\n",
       " 'LEAD_AGENCY': '1',\n",
       " 'LEAD_REGION': '8',\n",
       " 'REFUGE_OCCURRENCE': None,\n",
       " 'SCINAME': 'Pyrgulopsis anatina',\n",
       " 'SPCODE': 'G0F2',\n",
       " 'STATUS': 'RT',\n",
       " 'TSN': '-414',\n",
       " 'VIPCODE': 'I01',\n",
       " 'cacheDate': '2017-11-13T21:00:57.709925',\n",
       " 'listingStatus': [{'POP_ABBREV': 'Wherever found',\n",
       "   'POP_DESC': 'Wherever found',\n",
       "   'STATUS': 'Resolved Taxon'}],\n",
       " 'result': True}"
      ]
     },
     "metadata": {},
     "output_type": "display_data"
    },
    {
     "name": "stdout",
     "output_type": "stream",
     "text": [
      "Original Scientific Name: Pyrgulopsis sulcata\n"
     ]
    },
    {
     "data": {
      "text/plain": [
       "{'COMNAME': 'Southern Steptoe pyrg',\n",
       " 'COUNTRY': '1',\n",
       " 'DPS': '0',\n",
       " 'ENTITY_ID': '10001',\n",
       " 'FAMILY': 'Hydrobiidae',\n",
       " 'INVNAME': 'Pyrg, Southern Steptoe',\n",
       " 'LEAD_AGENCY': '1',\n",
       " 'LEAD_REGION': '8',\n",
       " 'REFUGE_OCCURRENCE': None,\n",
       " 'SCINAME': 'Pyrgulopsis sulcata',\n",
       " 'SPCODE': 'G0FR',\n",
       " 'STATUS': 'UR',\n",
       " 'TSN': '-1056',\n",
       " 'VIPCODE': 'I01',\n",
       " 'cacheDate': '2017-11-13T21:00:58.257126',\n",
       " 'listingStatus': [{'POP_ABBREV': 'Wherever found',\n",
       "   'POP_DESC': 'Wherever found',\n",
       "   'STATUS': 'Under Review in the Candidate or Petition Process'}],\n",
       " 'result': True}"
      ]
     },
     "metadata": {},
     "output_type": "display_data"
    },
    {
     "name": "stdout",
     "output_type": "stream",
     "text": [
      "Original Scientific Name: Pyrgulopsis deaconi\n"
     ]
    },
    {
     "data": {
      "text/plain": [
       "{'COMNAME': 'Spring Mountains pyrg',\n",
       " 'COUNTRY': '1',\n",
       " 'DPS': '0',\n",
       " 'ENTITY_ID': '9981',\n",
       " 'FAMILY': 'Hydrobiidae',\n",
       " 'INVNAME': 'Pyrg, Spring Mountains',\n",
       " 'LEAD_AGENCY': '1',\n",
       " 'LEAD_REGION': '8',\n",
       " 'REFUGE_OCCURRENCE': None,\n",
       " 'SCINAME': 'Pyrgulopsis deaconi',\n",
       " 'SPCODE': 'G0F7',\n",
       " 'STATUS': 'RT',\n",
       " 'TSN': '-472',\n",
       " 'VIPCODE': 'I01',\n",
       " 'cacheDate': '2017-11-13T21:00:58.757359',\n",
       " 'listingStatus': [{'POP_ABBREV': 'Wherever found',\n",
       "   'POP_DESC': 'Wherever found',\n",
       "   'STATUS': 'Resolved Taxon'}],\n",
       " 'result': True}"
      ]
     },
     "metadata": {},
     "output_type": "display_data"
    },
    {
     "name": "stdout",
     "output_type": "stream",
     "text": [
      "Original Scientific Name: Pyrgulopsis sterilis\n"
     ]
    },
    {
     "data": {
      "text/plain": [
       "{'COMNAME': 'Sterile Basin pyrg',\n",
       " 'COUNTRY': '1',\n",
       " 'DPS': '0',\n",
       " 'ENTITY_ID': '9999',\n",
       " 'FAMILY': 'Hydrobiidae',\n",
       " 'INVNAME': 'Pyrg, Sterile Basin',\n",
       " 'LEAD_AGENCY': '1',\n",
       " 'LEAD_REGION': '8',\n",
       " 'REFUGE_OCCURRENCE': None,\n",
       " 'SCINAME': 'Pyrgulopsis sterilis',\n",
       " 'SPCODE': 'G0FP',\n",
       " 'STATUS': 'UR',\n",
       " 'TSN': '-490',\n",
       " 'VIPCODE': 'I01',\n",
       " 'cacheDate': '2017-11-13T21:00:59.568448',\n",
       " 'listingStatus': [{'POP_ABBREV': 'Wherever found',\n",
       "   'POP_DESC': 'Wherever found',\n",
       "   'STATUS': 'Under Review in the Candidate or Petition Process'}],\n",
       " 'result': True}"
      ]
     },
     "metadata": {},
     "output_type": "display_data"
    },
    {
     "name": "stdout",
     "output_type": "stream",
     "text": [
      "Original Scientific Name: Pyrgulopsis orbiculata\n"
     ]
    },
    {
     "data": {
      "text/plain": [
       "{'COMNAME': 'Sub-globose Steptoe Ranch pyrg',\n",
       " 'COUNTRY': '1',\n",
       " 'DPS': '0',\n",
       " 'ENTITY_ID': '9992',\n",
       " 'FAMILY': 'Hydrobiidae',\n",
       " 'INVNAME': 'Pyrg, sub-globose Steptoe Ranch',\n",
       " 'LEAD_AGENCY': '1',\n",
       " 'LEAD_REGION': '8',\n",
       " 'REFUGE_OCCURRENCE': None,\n",
       " 'SCINAME': 'Pyrgulopsis orbiculata',\n",
       " 'SPCODE': 'G0FI',\n",
       " 'STATUS': 'UR',\n",
       " 'TSN': '-483',\n",
       " 'VIPCODE': 'I01',\n",
       " 'cacheDate': '2017-11-13T21:00:59.843171',\n",
       " 'listingStatus': [{'POP_ABBREV': 'Wherever found',\n",
       "   'POP_DESC': 'Wherever found',\n",
       "   'STATUS': 'Under Review in the Candidate or Petition Process'}],\n",
       " 'result': True}"
      ]
     },
     "metadata": {},
     "output_type": "display_data"
    },
    {
     "name": "stdout",
     "output_type": "stream",
     "text": [
      "Original Scientific Name: Pyrgulopsis sathos\n"
     ]
    },
    {
     "data": {
      "text/plain": [
       "{'COMNAME': 'White River Valley pyrg',\n",
       " 'COUNTRY': '1',\n",
       " 'DPS': '0',\n",
       " 'ENTITY_ID': '9996',\n",
       " 'FAMILY': 'Hydrobiidae',\n",
       " 'INVNAME': 'Pyrg, White River Valley',\n",
       " 'LEAD_AGENCY': '1',\n",
       " 'LEAD_REGION': '8',\n",
       " 'REFUGE_OCCURRENCE': None,\n",
       " 'SCINAME': 'Pyrgulopsis sathos',\n",
       " 'SPCODE': 'G0FM',\n",
       " 'STATUS': 'RT',\n",
       " 'TSN': '-487',\n",
       " 'VIPCODE': 'I01',\n",
       " 'cacheDate': '2017-11-13T21:01:01.809896',\n",
       " 'listingStatus': [{'POP_ABBREV': 'Wherever found',\n",
       "   'POP_DESC': 'Wherever found',\n",
       "   'STATUS': 'Resolved Taxon'}],\n",
       " 'result': True}"
      ]
     },
     "metadata": {},
     "output_type": "display_data"
    },
    {
     "name": "stdout",
     "output_type": "stream",
     "text": [
      "Original Scientific Name: Aflexia rubranura\n"
     ]
    },
    {
     "data": {
      "text/plain": [
       "{'COMNAME': 'Redveined prairie leafhopper',\n",
       " 'COUNTRY': '3',\n",
       " 'DPS': '0',\n",
       " 'ENTITY_ID': '6457',\n",
       " 'FAMILY': 'Cicadellidae',\n",
       " 'INVNAME': 'Leafhopper, redveined prairie',\n",
       " 'LEAD_AGENCY': '1',\n",
       " 'LEAD_REGION': '3',\n",
       " 'REFUGE_OCCURRENCE': None,\n",
       " 'SCINAME': 'Aflexia rubranura',\n",
       " 'SPCODE': 'I082',\n",
       " 'STATUS': 'SC',\n",
       " 'TSN': '-815',\n",
       " 'VIPCODE': 'I01',\n",
       " 'cacheDate': '2017-11-13T21:03:53.325481',\n",
       " 'listingStatus': [{'POP_ABBREV': 'Wherever found',\n",
       "   'POP_DESC': 'Wherever found',\n",
       "   'STATUS': 'Species of Concern'}],\n",
       " 'result': True}"
      ]
     },
     "metadata": {},
     "output_type": "display_data"
    },
    {
     "name": "stdout",
     "output_type": "stream",
     "text": [
      "Original Scientific Name: Oreohelix strigosa goniogyra\n"
     ]
    },
    {
     "data": {
      "text/plain": [
       "{'COMNAME': 'Carinated rocky mountainsnail',\n",
       " 'COUNTRY': '1',\n",
       " 'DPS': '0',\n",
       " 'ENTITY_ID': '5925',\n",
       " 'FAMILY': 'Oreohelicidae',\n",
       " 'INVNAME': 'Mountainsnail, Carinated rocky',\n",
       " 'LEAD_AGENCY': '1',\n",
       " 'LEAD_REGION': '1',\n",
       " 'REFUGE_OCCURRENCE': None,\n",
       " 'SCINAME': 'Oreohelix strigosa goniogyra',\n",
       " 'SPCODE': 'G02C',\n",
       " 'STATUS': 'SC',\n",
       " 'TSN': '-344',\n",
       " 'VIPCODE': 'I01',\n",
       " 'cacheDate': '2017-11-13T21:05:41.819841',\n",
       " 'listingStatus': [{'POP_ABBREV': 'Wherever found',\n",
       "   'POP_DESC': 'Wherever found',\n",
       "   'STATUS': 'Species of Concern'}],\n",
       " 'result': True}"
      ]
     },
     "metadata": {},
     "output_type": "display_data"
    },
    {
     "name": "stdout",
     "output_type": "stream",
     "text": [
      "Original Scientific Name: Vertigo hubrichti\n"
     ]
    },
    {
     "data": {
      "text/plain": [
       "{'COMNAME': \"Hubricht''s vertigo\",\n",
       " 'COUNTRY': '1',\n",
       " 'DPS': '0',\n",
       " 'ENTITY_ID': '7521',\n",
       " 'FAMILY': 'Pupillidae',\n",
       " 'INVNAME': \"Vertigo, Hubricht''s\",\n",
       " 'LEAD_AGENCY': '1',\n",
       " 'LEAD_REGION': '3',\n",
       " 'REFUGE_OCCURRENCE': None,\n",
       " 'SCINAME': 'Vertigo hubrichti',\n",
       " 'SPCODE': 'G05L',\n",
       " 'STATUS': 'SC',\n",
       " 'TSN': '-712',\n",
       " 'VIPCODE': 'I01',\n",
       " 'cacheDate': '2017-11-13T21:10:06.990593',\n",
       " 'listingStatus': [{'POP_ABBREV': 'Wherever found',\n",
       "   'POP_DESC': 'Wherever found',\n",
       "   'STATUS': 'Species of Concern'}],\n",
       " 'result': True}"
      ]
     },
     "metadata": {},
     "output_type": "display_data"
    },
    {
     "name": "stdout",
     "output_type": "stream",
     "text": [
      "Original Scientific Name: Platanthera shriveri\n"
     ]
    },
    {
     "data": {
      "text/plain": [
       "{'COMNAME': \"Shriver''s Purple Fringed Orchid\",\n",
       " 'COUNTRY': '1',\n",
       " 'DPS': '0',\n",
       " 'ENTITY_ID': '11388',\n",
       " 'FAMILY': 'Orchidaceae',\n",
       " 'INVNAME': \"Orchid, Shriver''s Purple Fringed\",\n",
       " 'LEAD_AGENCY': '1',\n",
       " 'LEAD_REGION': '4',\n",
       " 'REFUGE_OCCURRENCE': None,\n",
       " 'SCINAME': 'Platanthera shriveri',\n",
       " 'SPCODE': 'Q3SN',\n",
       " 'STATUS': 'SC',\n",
       " 'TSN': '-1338',\n",
       " 'VIPCODE': 'P01',\n",
       " 'cacheDate': '2017-11-13T21:14:27.044760',\n",
       " 'listingStatus': [{'STATUS': 'Species of Concern'}],\n",
       " 'result': True}"
      ]
     },
     "metadata": {},
     "output_type": "display_data"
    },
    {
     "name": "stdout",
     "output_type": "stream",
     "text": [
      "Original Scientific Name: Noturus crypticus\n"
     ]
    },
    {
     "data": {
      "text/plain": [
       "{'COMNAME': 'Chucky Madtom',\n",
       " 'COUNTRY': '1',\n",
       " 'DPS': '0',\n",
       " 'ENTITY_ID': '7150',\n",
       " 'FAMILY': 'Ictaluridae',\n",
       " 'INVNAME': 'Madtom, chucky',\n",
       " 'LEAD_AGENCY': '1',\n",
       " 'LEAD_REGION': '4',\n",
       " 'REFUGE_OCCURRENCE': None,\n",
       " 'SCINAME': 'Noturus crypticus',\n",
       " 'SPCODE': 'E07F',\n",
       " 'STATUS': 'E',\n",
       " 'TSN': '-420',\n",
       " 'VIPCODE': 'V01',\n",
       " 'cacheDate': '2017-11-13T21:20:13.196561',\n",
       " 'listingStatus': [{'LISTING_DATE': '2011-09-08',\n",
       "   'POP_ABBREV': 'Wherever found',\n",
       "   'POP_DESC': 'Wherever found',\n",
       "   'STATUS': 'Endangered'}],\n",
       " 'result': True}"
      ]
     },
     "metadata": {},
     "output_type": "display_data"
    },
    {
     "name": "stdout",
     "output_type": "stream",
     "text": [
      "Original Scientific Name: Athearnia anthonyi\n"
     ]
    },
    {
     "data": {
      "text/plain": [
       "{'COMNAME': \"Anthony''s riversnail\",\n",
       " 'COUNTRY': '1',\n",
       " 'DPS': '0',\n",
       " 'ENTITY_ID': '9507',\n",
       " 'FAMILY': 'Pleuroceridae',\n",
       " 'INVNAME': \"Riversnail, Anthony''s\",\n",
       " 'REFUGE_OCCURRENCE': None,\n",
       " 'SCINAME': 'Athearnia anthonyi',\n",
       " 'SPCODE': 'G016',\n",
       " 'TSN': '-897',\n",
       " 'VIPCODE': 'I03',\n",
       " 'cacheDate': '2017-11-13T21:20:19.192244',\n",
       " 'listingStatus': [{'LISTING_DATE': '2007-10-15',\n",
       "   'POP_ABBREV': \"U.S.A. (TN - specified portions of the French Broad and Holston Rivers' || chr(59) || ' see 17.85(b)(1))\",\n",
       "   'POP_DESC': \"U.S.A. (TN - specified portions of the French Broad and Holston Rivers' || chr(59) || ' see 17.85(b)(1))\",\n",
       "   'STATUS': 'Experimental Population, Non-Essential'},\n",
       "  {'LISTING_DATE': '2001-06-14',\n",
       "   'POP_ABBREV': \"AL' || chr(59) || ' Free-Flowing Reach of the Tennessee River below the Wilson Dam, Colbert and Lauderdale Counties, AL\",\n",
       "   'POP_DESC': \"U.S.A. (AL' || chr(59) || 'The free-flowing reach of the Tennessee R. from the base of Wilson Dam downstream to the backwaters of Pickwick Reservoir [about 12 RM (19 km)] and the lower 5 RM [8 km] of all tributaries to this reach in Colbert and Lauderdale Cos., see 17.85(a))\",\n",
       "   'STATUS': 'Experimental Population, Non-Essential'},\n",
       "  {'LISTING_DATE': '1994-04-15',\n",
       "   'POP_ABBREV': \"Wherever found' || chr(59) || ' Except where listed as Experimental Populations\",\n",
       "   'POP_DESC': \"Wherever found' || chr(59) || ' Except where listed as Experimental Populations\",\n",
       "   'STATUS': 'Endangered'}],\n",
       " 'result': True}"
      ]
     },
     "metadata": {},
     "output_type": "display_data"
    },
    {
     "name": "stdout",
     "output_type": "stream",
     "text": [
      "Original Scientific Name: Nesticus valentinei\n"
     ]
    },
    {
     "data": {
      "text/plain": [
       "{'COMNAME': \"Valentine''s cave spider\",\n",
       " 'COUNTRY': '1',\n",
       " 'DPS': '0',\n",
       " 'ENTITY_ID': '2534',\n",
       " 'FAMILY': 'Nesticidae',\n",
       " 'INVNAME': \"Spider, Valentine''s cave\",\n",
       " 'LEAD_AGENCY': '1',\n",
       " 'LEAD_REGION': '4',\n",
       " 'REFUGE_OCCURRENCE': None,\n",
       " 'SCINAME': 'Nesticus valentinei',\n",
       " 'SPCODE': 'J00W',\n",
       " 'STATUS': 'SC',\n",
       " 'TSN': '-926',\n",
       " 'VIPCODE': 'I01',\n",
       " 'cacheDate': '2017-11-13T21:21:42.012774',\n",
       " 'listingStatus': [{'POP_ABBREV': 'Wherever found',\n",
       "   'POP_DESC': 'Wherever found',\n",
       "   'STATUS': 'Species of Concern'}],\n",
       " 'result': True}"
      ]
     },
     "metadata": {},
     "output_type": "display_data"
    },
    {
     "name": "stdout",
     "output_type": "stream",
     "text": [
      "Original Scientific Name: Helianthus verticillatus\n"
     ]
    },
    {
     "data": {
      "text/plain": [
       "{'COMNAME': 'Whorled Sunflower',\n",
       " 'COUNTRY': '1',\n",
       " 'DPS': '0',\n",
       " 'ENTITY_ID': '1881',\n",
       " 'FAMILY': 'Asteraceae',\n",
       " 'INVNAME': 'Sunflower, whorled',\n",
       " 'LEAD_AGENCY': '1',\n",
       " 'LEAD_REGION': '4',\n",
       " 'REFUGE_OCCURRENCE': None,\n",
       " 'SCINAME': 'Helianthus verticillatus',\n",
       " 'SPCODE': 'Q3HO',\n",
       " 'STATUS': 'E',\n",
       " 'TSN': '36692',\n",
       " 'VIPCODE': 'P01',\n",
       " 'cacheDate': '2017-11-13T21:25:43.416471',\n",
       " 'listingStatus': [{'LISTING_DATE': '2014-08-01',\n",
       "   'POP_ABBREV': 'Wherever found',\n",
       "   'POP_DESC': 'Wherever found',\n",
       "   'STATUS': 'Endangered'}],\n",
       " 'result': True}"
      ]
     },
     "metadata": {},
     "output_type": "display_data"
    },
    {
     "name": "stdout",
     "output_type": "stream",
     "text": [
      "Original Scientific Name: Lophocolea appalachiana\n"
     ]
    },
    {
     "data": {
      "text/plain": [
       "{'COMNAME': 'No common name',\n",
       " 'COUNTRY': '1',\n",
       " 'DPS': '0',\n",
       " 'ENTITY_ID': '2025',\n",
       " 'FAMILY': 'Geocalycaceae',\n",
       " 'INVNAME': 'No common name',\n",
       " 'LEAD_AGENCY': '1',\n",
       " 'LEAD_REGION': '4',\n",
       " 'REFUGE_OCCURRENCE': None,\n",
       " 'SCINAME': 'Lophocolea appalachiana',\n",
       " 'SPCODE': 'Q359',\n",
       " 'STATUS': 'SC',\n",
       " 'TSN': '-23',\n",
       " 'VIPCODE': 'P01',\n",
       " 'cacheDate': '2017-11-13T21:26:10.863988',\n",
       " 'listingStatus': [{'POP_ABBREV': 'Wherever found',\n",
       "   'POP_DESC': 'Wherever found',\n",
       "   'STATUS': 'Species of Concern'}],\n",
       " 'result': True}"
      ]
     },
     "metadata": {},
     "output_type": "display_data"
    },
    {
     "name": "stdout",
     "output_type": "stream",
     "text": [
      "Original Scientific Name: Oreohelix strigosa berryi\n"
     ]
    },
    {
     "data": {
      "text/plain": [
       "{'COMNAME': \"Berry''s mountainsnail\",\n",
       " 'COUNTRY': '1',\n",
       " 'DPS': '0',\n",
       " 'ENTITY_ID': '1773',\n",
       " 'FAMILY': 'Oreohelicidae',\n",
       " 'INVNAME': \"Mountainsnail, Berry''s\",\n",
       " 'LEAD_AGENCY': '1',\n",
       " 'LEAD_REGION': '6',\n",
       " 'REFUGE_OCCURRENCE': None,\n",
       " 'SCINAME': 'Oreohelix strigosa berryi',\n",
       " 'SPCODE': 'G09R',\n",
       " 'STATUS': 'SC',\n",
       " 'TSN': '-343',\n",
       " 'VIPCODE': 'I01',\n",
       " 'cacheDate': '2017-11-13T21:28:52.935708',\n",
       " 'listingStatus': [{'POP_ABBREV': 'Wherever found',\n",
       "   'POP_DESC': 'Wherever found',\n",
       "   'STATUS': 'Species of Concern'}],\n",
       " 'result': True}"
      ]
     },
     "metadata": {},
     "output_type": "display_data"
    },
    {
     "name": "stdout",
     "output_type": "stream",
     "text": [
      "Original Scientific Name: Oreohelix strigosa cooperi\n"
     ]
    },
    {
     "data": {
      "text/plain": [
       "{'COMNAME': \"Cooper''s rocky mountainsnail\",\n",
       " 'COUNTRY': '1',\n",
       " 'DPS': '0',\n",
       " 'ENTITY_ID': '2983',\n",
       " 'FAMILY': 'Oreohelicidae',\n",
       " 'INVNAME': \"Mountainsnail, Cooper''s rocky\",\n",
       " 'LEAD_AGENCY': '1',\n",
       " 'LEAD_REGION': '6',\n",
       " 'REFUGE_OCCURRENCE': None,\n",
       " 'SCINAME': 'Oreohelix strigosa cooperi',\n",
       " 'SPCODE': 'G077',\n",
       " 'STATUS': 'RT',\n",
       " 'TSN': '-334',\n",
       " 'VIPCODE': 'I01',\n",
       " 'cacheDate': '2017-11-13T21:28:53.183643',\n",
       " 'listingStatus': [{'POP_ABBREV': 'Wherever found',\n",
       "   'POP_DESC': 'Wherever found',\n",
       "   'STATUS': 'Resolved Taxon'}],\n",
       " 'result': True}"
      ]
     },
     "metadata": {},
     "output_type": "display_data"
    },
    {
     "name": "stdout",
     "output_type": "stream",
     "text": [
      "Original Scientific Name: Erythroecia hebardi\n"
     ]
    },
    {
     "data": {
      "text/plain": [
       "{'COMNAME': \"Hebard''s noctuid moth\",\n",
       " 'COUNTRY': '1',\n",
       " 'DPS': '0',\n",
       " 'ENTITY_ID': '2087',\n",
       " 'FAMILY': 'Noctuidae',\n",
       " 'INVNAME': \"Noctuid moth, Hebard''s\",\n",
       " 'LEAD_AGENCY': '1',\n",
       " 'LEAD_REGION': '3',\n",
       " 'REFUGE_OCCURRENCE': None,\n",
       " 'SCINAME': 'Erythroecia hebardi',\n",
       " 'SPCODE': 'I0BK',\n",
       " 'STATUS': 'SC',\n",
       " 'TSN': '-975',\n",
       " 'VIPCODE': 'I01',\n",
       " 'cacheDate': '2017-11-13T21:33:19.102585',\n",
       " 'listingStatus': [{'POP_ABBREV': 'Wherever found',\n",
       "   'POP_DESC': 'Wherever found',\n",
       "   'STATUS': 'Species of Concern'}],\n",
       " 'result': True}"
      ]
     },
     "metadata": {},
     "output_type": "display_data"
    },
    {
     "name": "stdout",
     "output_type": "stream",
     "text": [
      "Original Scientific Name: Adella oplerella\n"
     ]
    },
    {
     "data": {
      "text/plain": [
       "{'COMNAME': \"Opler''s longhorn moth\",\n",
       " 'COUNTRY': '1',\n",
       " 'DPS': '0',\n",
       " 'ENTITY_ID': '6649',\n",
       " 'FAMILY': 'Incurvariidae',\n",
       " 'INVNAME': \"Longhorn moth, Opler''s\",\n",
       " 'LEAD_AGENCY': '1',\n",
       " 'LEAD_REGION': '1',\n",
       " 'REFUGE_OCCURRENCE': None,\n",
       " 'SCINAME': 'Adella oplerella',\n",
       " 'SPCODE': 'I0NS',\n",
       " 'STATUS': 'RT',\n",
       " 'TSN': '-789',\n",
       " 'VIPCODE': 'I01',\n",
       " 'cacheDate': '2017-11-13T21:36:12.000324',\n",
       " 'listingStatus': [{'POP_ABBREV': 'Wherever found',\n",
       "   'POP_DESC': 'Wherever found',\n",
       "   'STATUS': 'Resolved Taxon'}],\n",
       " 'result': True}"
      ]
     },
     "metadata": {},
     "output_type": "display_data"
    },
    {
     "name": "stdout",
     "output_type": "stream",
     "text": [
      "Original Scientific Name: Areniscythris brachypteris\n"
     ]
    },
    {
     "data": {
      "text/plain": [
       "{'COMNAME': 'Oso Flaco flightless moth',\n",
       " 'COUNTRY': '1',\n",
       " 'DPS': '0',\n",
       " 'ENTITY_ID': '5169',\n",
       " 'FAMILY': 'Scythrididae',\n",
       " 'INVNAME': 'Moth, Oso Flaco flightless',\n",
       " 'LEAD_AGENCY': '1',\n",
       " 'LEAD_REGION': '1',\n",
       " 'REFUGE_OCCURRENCE': None,\n",
       " 'SCINAME': 'Areniscythris brachypteris',\n",
       " 'SPCODE': 'I0NW',\n",
       " 'STATUS': 'SC',\n",
       " 'TSN': '-580',\n",
       " 'VIPCODE': 'I01',\n",
       " 'cacheDate': '2017-11-13T21:36:24.656268',\n",
       " 'listingStatus': [{'POP_ABBREV': 'Wherever found',\n",
       "   'POP_DESC': 'Wherever found',\n",
       "   'STATUS': 'Species of Concern'}],\n",
       " 'result': True}"
      ]
     },
     "metadata": {},
     "output_type": "display_data"
    },
    {
     "name": "stdout",
     "output_type": "stream",
     "text": [
      "Original Scientific Name: Batrachoseps pacificus pacificus\n"
     ]
    },
    {
     "data": {
      "text/plain": [
       "{'COMNAME': 'Channel Islands slender salamander',\n",
       " 'COUNTRY': '1',\n",
       " 'DPS': '0',\n",
       " 'ENTITY_ID': '6031',\n",
       " 'FAMILY': 'Plethodontidae',\n",
       " 'INVNAME': 'Salamander, Channel Islands slender',\n",
       " 'LEAD_AGENCY': '1',\n",
       " 'LEAD_REGION': '1',\n",
       " 'REFUGE_OCCURRENCE': None,\n",
       " 'SCINAME': 'Batrachoseps pacificus pacificus',\n",
       " 'SPCODE': 'D01U',\n",
       " 'STATUS': 'SC',\n",
       " 'TSN': '-1105',\n",
       " 'VIPCODE': 'V01',\n",
       " 'cacheDate': '2017-11-13T21:36:34.553467',\n",
       " 'listingStatus': [{'POP_ABBREV': 'Wherever found',\n",
       "   'POP_DESC': 'Wherever found',\n",
       "   'STATUS': 'Species of Concern'}],\n",
       " 'result': True}"
      ]
     },
     "metadata": {},
     "output_type": "display_data"
    },
    {
     "name": "stdout",
     "output_type": "stream",
     "text": [
      "Original Scientific Name: Carolella busckana\n"
     ]
    },
    {
     "data": {
      "text/plain": [
       "{'COMNAME': \"Busck''s gall moth\",\n",
       " 'COUNTRY': '1',\n",
       " 'DPS': '0',\n",
       " 'ENTITY_ID': '6839',\n",
       " 'FAMILY': 'Phaloniidae',\n",
       " 'INVNAME': \"Gall moth, Busck''s\",\n",
       " 'LEAD_AGENCY': '1',\n",
       " 'LEAD_REGION': '1',\n",
       " 'REFUGE_OCCURRENCE': None,\n",
       " 'SCINAME': 'Carolella busckana',\n",
       " 'SPCODE': 'I076',\n",
       " 'STATUS': 'SC',\n",
       " 'TSN': '-667',\n",
       " 'VIPCODE': 'I01',\n",
       " 'cacheDate': '2017-11-13T21:36:53.604653',\n",
       " 'listingStatus': [{'POP_ABBREV': 'Wherever found',\n",
       "   'POP_DESC': 'Wherever found',\n",
       "   'STATUS': 'Species of Concern'}],\n",
       " 'result': True}"
      ]
     },
     "metadata": {},
     "output_type": "display_data"
    },
    {
     "name": "stdout",
     "output_type": "stream",
     "text": [
      "Original Scientific Name: Coelus globosus\n"
     ]
    },
    {
     "data": {
      "text/plain": [
       "{'COMNAME': 'Globose dune beetle',\n",
       " 'COUNTRY': '3',\n",
       " 'DPS': '0',\n",
       " 'ENTITY_ID': '3282',\n",
       " 'FAMILY': 'Tenebrionidae',\n",
       " 'INVNAME': 'Beetle, globose dune',\n",
       " 'LEAD_AGENCY': '1',\n",
       " 'LEAD_REGION': '1',\n",
       " 'REFUGE_OCCURRENCE': None,\n",
       " 'SCINAME': 'Coelus globosus',\n",
       " 'SPCODE': 'I01H',\n",
       " 'STATUS': 'SC',\n",
       " 'TSN': '-820',\n",
       " 'VIPCODE': 'I01',\n",
       " 'cacheDate': '2017-11-13T21:37:05.978923',\n",
       " 'listingStatus': [{'POP_ABBREV': 'Wherever found',\n",
       "   'POP_DESC': 'Wherever found',\n",
       "   'STATUS': 'Species of Concern'}],\n",
       " 'result': True}"
      ]
     },
     "metadata": {},
     "output_type": "display_data"
    },
    {
     "name": "stdout",
     "output_type": "stream",
     "text": [
      "Original Scientific Name: Dumontia oregonensis\n"
     ]
    },
    {
     "data": {
      "text/plain": [
       "{'COMNAME': 'hairy water flea',\n",
       " 'COUNTRY': '1',\n",
       " 'DPS': '0',\n",
       " 'ENTITY_ID': '9211',\n",
       " 'FAMILY': 'Dumontiidae',\n",
       " 'INVNAME': 'water flea, hairy',\n",
       " 'LEAD_AGENCY': '1',\n",
       " 'LEAD_REGION': '1',\n",
       " 'SCINAME': 'Dumontia oregonensis',\n",
       " 'SPCODE': 'K05J',\n",
       " 'STATUS': 'SC',\n",
       " 'TSN': '-466',\n",
       " 'VIPCODE': 'I01',\n",
       " 'cacheDate': '2017-11-13T21:37:29.402716',\n",
       " 'listingStatus': [{'POP_ABBREV': 'Wherever found',\n",
       "   'POP_DESC': 'Wherever found',\n",
       "   'STATUS': 'Species of Concern'}],\n",
       " 'result': True}"
      ]
     },
     "metadata": {},
     "output_type": "display_data"
    },
    {
     "name": "stdout",
     "output_type": "stream",
     "text": [
      "Original Scientific Name: Eucosma hennei\n"
     ]
    },
    {
     "data": {
      "text/plain": [
       "{'COMNAME': \"Henne''s  eucosman moth\",\n",
       " 'COUNTRY': '1',\n",
       " 'DPS': '0',\n",
       " 'ENTITY_ID': '4890',\n",
       " 'FAMILY': 'Olethreutidae',\n",
       " 'INVNAME': \"Moth, Henne''s  eucosman\",\n",
       " 'LEAD_AGENCY': '1',\n",
       " 'LEAD_REGION': '1',\n",
       " 'REFUGE_OCCURRENCE': None,\n",
       " 'SCINAME': 'Eucosma hennei',\n",
       " 'SPCODE': 'I0AU',\n",
       " 'STATUS': 'SC',\n",
       " 'TSN': '-990',\n",
       " 'VIPCODE': 'I01',\n",
       " 'cacheDate': '2017-11-13T21:37:35.063058',\n",
       " 'listingStatus': [{'POP_ABBREV': 'Wherever found',\n",
       "   'POP_DESC': 'Wherever found',\n",
       "   'STATUS': 'Species of Concern'}],\n",
       " 'result': True}"
      ]
     },
     "metadata": {},
     "output_type": "display_data"
    },
    {
     "name": "stdout",
     "output_type": "stream",
     "text": [
      "Original Scientific Name: Euphilotes battoides comstocki\n"
     ]
    },
    {
     "data": {
      "text/plain": [
       "{'COMNAME': \"Comstock''s blue butterfly\",\n",
       " 'COUNTRY': '1',\n",
       " 'DPS': '0',\n",
       " 'ENTITY_ID': '2894',\n",
       " 'FAMILY': 'Lycaenidae',\n",
       " 'INVNAME': \"Butterfly, Comstock''s blue\",\n",
       " 'LEAD_AGENCY': '1',\n",
       " 'LEAD_REGION': '1',\n",
       " 'REFUGE_OCCURRENCE': None,\n",
       " 'SCINAME': 'Euphilotes battoides comstocki',\n",
       " 'SPCODE': 'I032',\n",
       " 'STATUS': 'RT',\n",
       " 'TSN': '-247',\n",
       " 'VIPCODE': 'I01',\n",
       " 'cacheDate': '2017-11-13T21:37:36.852619',\n",
       " 'listingStatus': [{'POP_ABBREV': 'Wherever found',\n",
       "   'POP_DESC': 'Wherever found',\n",
       "   'STATUS': 'Resolved Taxon'}],\n",
       " 'result': True}"
      ]
     },
     "metadata": {},
     "output_type": "display_data"
    },
    {
     "name": "stdout",
     "output_type": "stream",
     "text": [
      "Original Scientific Name: Helminthoglypta arrosa pomoensis\n"
     ]
    },
    {
     "data": {
      "text/plain": [
       "{'COMNAME': 'Pomo bronze shoulderband',\n",
       " 'COUNTRY': '1',\n",
       " 'DPS': '0',\n",
       " 'ENTITY_ID': '4921',\n",
       " 'FAMILY': 'Helminthoglyptida',\n",
       " 'INVNAME': 'Shoulderband, Pomo bronze',\n",
       " 'LEAD_AGENCY': '1',\n",
       " 'LEAD_REGION': '1',\n",
       " 'REFUGE_OCCURRENCE': None,\n",
       " 'SCINAME': 'Helminthoglypta arrosa pomoensis',\n",
       " 'SPCODE': 'G00L',\n",
       " 'STATUS': 'SC',\n",
       " 'TSN': '-211',\n",
       " 'VIPCODE': 'I01',\n",
       " 'cacheDate': '2017-11-13T21:37:52.038718',\n",
       " 'listingStatus': [{'POP_ABBREV': 'Wherever found',\n",
       "   'POP_DESC': 'Wherever found',\n",
       "   'STATUS': 'Species of Concern'}],\n",
       " 'result': True}"
      ]
     },
     "metadata": {},
     "output_type": "display_data"
    },
    {
     "name": "stdout",
     "output_type": "stream",
     "text": [
      "Original Scientific Name: Helminthoglypta arrosa williamsi\n"
     ]
    },
    {
     "data": {
      "text/plain": [
       "{'COMNAME': \"Williams'' bronze shoulderband\",\n",
       " 'COUNTRY': '1',\n",
       " 'DPS': '0',\n",
       " 'ENTITY_ID': '6573',\n",
       " 'FAMILY': 'Helminthoglyptida',\n",
       " 'INVNAME': \"Shoulderband, Williams'' bronze\",\n",
       " 'LEAD_AGENCY': '1',\n",
       " 'LEAD_REGION': '1',\n",
       " 'REFUGE_OCCURRENCE': None,\n",
       " 'SCINAME': 'Helminthoglypta arrosa williamsi',\n",
       " 'SPCODE': 'G02T',\n",
       " 'STATUS': 'SC',\n",
       " 'TSN': '-364',\n",
       " 'VIPCODE': 'I01',\n",
       " 'cacheDate': '2017-11-13T21:37:52.280931',\n",
       " 'listingStatus': [{'POP_ABBREV': 'Wherever found',\n",
       "   'POP_DESC': 'Wherever found',\n",
       "   'STATUS': 'Species of Concern'}],\n",
       " 'result': True}"
      ]
     },
     "metadata": {},
     "output_type": "display_data"
    },
    {
     "name": "stdout",
     "output_type": "stream",
     "text": [
      "Original Scientific Name: Helminthoglypta nickliniana awania\n"
     ]
    },
    {
     "data": {
      "text/plain": [
       "{'COMNAME': 'Peninsula Coast Range shoulderband',\n",
       " 'COUNTRY': '1',\n",
       " 'DPS': '0',\n",
       " 'ENTITY_ID': '1590',\n",
       " 'FAMILY': 'Helminthoglyptida',\n",
       " 'INVNAME': 'Shoulderband, Peninsula Coast Range',\n",
       " 'LEAD_AGENCY': '1',\n",
       " 'LEAD_REGION': '1',\n",
       " 'REFUGE_OCCURRENCE': None,\n",
       " 'SCINAME': 'Helminthoglypta nickliniana awania',\n",
       " 'SPCODE': 'G006',\n",
       " 'STATUS': 'SC',\n",
       " 'TSN': '-1103',\n",
       " 'VIPCODE': 'I01',\n",
       " 'cacheDate': '2017-11-13T21:37:55.876585',\n",
       " 'listingStatus': [{'POP_ABBREV': 'Wherever found',\n",
       "   'POP_DESC': 'Wherever found',\n",
       "   'STATUS': 'Species of Concern'}],\n",
       " 'result': True}"
      ]
     },
     "metadata": {},
     "output_type": "display_data"
    },
    {
     "name": "stdout",
     "output_type": "stream",
     "text": [
      "Original Scientific Name: Helminthoglypta nickliniana bridgesi\n"
     ]
    },
    {
     "data": {
      "text/plain": [
       "{'COMNAME': \"Bridges'' Coast Range shoulderband\",\n",
       " 'COUNTRY': '1',\n",
       " 'DPS': '0',\n",
       " 'ENTITY_ID': '4577',\n",
       " 'FAMILY': 'Helminthoglyptida',\n",
       " 'INVNAME': \"Shoulderband, Bridges'' Coast Range\",\n",
       " 'LEAD_AGENCY': '1',\n",
       " 'LEAD_REGION': '1',\n",
       " 'REFUGE_OCCURRENCE': None,\n",
       " 'SCINAME': 'Helminthoglypta nickliniana bridgesi',\n",
       " 'SPCODE': 'G02W',\n",
       " 'STATUS': 'SC',\n",
       " 'TSN': '-266',\n",
       " 'VIPCODE': 'I01',\n",
       " 'cacheDate': '2017-11-13T21:37:56.135854',\n",
       " 'listingStatus': [{'POP_ABBREV': 'Wherever found',\n",
       "   'POP_DESC': 'Wherever found',\n",
       "   'STATUS': 'Species of Concern'}],\n",
       " 'result': True}"
      ]
     },
     "metadata": {},
     "output_type": "display_data"
    },
    {
     "name": "stdout",
     "output_type": "stream",
     "text": [
      "Original Scientific Name: Helminthoglypta sequoicola consors\n"
     ]
    },
    {
     "data": {
      "text/plain": [
       "{'COMNAME': 'Redwood shoulderband',\n",
       " 'COUNTRY': '1',\n",
       " 'DPS': '0',\n",
       " 'ENTITY_ID': '8317',\n",
       " 'FAMILY': 'Helminthoglyptida',\n",
       " 'INVNAME': 'Shoulderband, redwood',\n",
       " 'LEAD_AGENCY': '1',\n",
       " 'LEAD_REGION': '1',\n",
       " 'REFUGE_OCCURRENCE': None,\n",
       " 'SCINAME': 'Helminthoglypta sequoicola consors',\n",
       " 'SPCODE': 'G02X',\n",
       " 'STATUS': 'SC',\n",
       " 'TSN': '-322',\n",
       " 'VIPCODE': 'I01',\n",
       " 'cacheDate': '2017-11-13T21:37:56.377649',\n",
       " 'listingStatus': [{'POP_ABBREV': 'Wherever found',\n",
       "   'POP_DESC': 'Wherever found',\n",
       "   'STATUS': 'Species of Concern'}],\n",
       " 'result': True}"
      ]
     },
     "metadata": {},
     "output_type": "display_data"
    },
    {
     "name": "stdout",
     "output_type": "stream",
     "text": [
      "Original Scientific Name: Icaricia icarioides moroensis\n"
     ]
    },
    {
     "data": {
      "text/plain": [
       "{'COMNAME': 'Morro Bay blue butterfly',\n",
       " 'COUNTRY': '1',\n",
       " 'DPS': '0',\n",
       " 'ENTITY_ID': '8308',\n",
       " 'FAMILY': 'Lycaenidae',\n",
       " 'INVNAME': 'butterfly, Morro Bay blue',\n",
       " 'LEAD_AGENCY': '1',\n",
       " 'LEAD_REGION': '1',\n",
       " 'REFUGE_OCCURRENCE': None,\n",
       " 'SCINAME': 'Icaricia icarioides moroensis',\n",
       " 'SPCODE': 'I001',\n",
       " 'STATUS': 'SC',\n",
       " 'TSN': '-316',\n",
       " 'VIPCODE': 'I01',\n",
       " 'cacheDate': '2017-11-13T21:38:07.417591',\n",
       " 'listingStatus': [{'POP_ABBREV': 'Wherever found',\n",
       "   'POP_DESC': 'Wherever found',\n",
       "   'STATUS': 'Species of Concern'}],\n",
       " 'result': True}"
      ]
     },
     "metadata": {},
     "output_type": "display_data"
    },
    {
     "name": "stdout",
     "output_type": "stream",
     "text": [
      "Original Scientific Name: Mitoura thornei\n"
     ]
    },
    {
     "data": {
      "text/plain": [
       "{'COMNAME': \"Thorne''s hairstreak\",\n",
       " 'COUNTRY': '1',\n",
       " 'DPS': '0',\n",
       " 'ENTITY_ID': '7012',\n",
       " 'FAMILY': 'Lycaenidae',\n",
       " 'INVNAME': \"Hairstreak, Thorne''s\",\n",
       " 'LEAD_AGENCY': '1',\n",
       " 'LEAD_REGION': '8',\n",
       " 'REFUGE_OCCURRENCE': None,\n",
       " 'SCINAME': 'Mitoura thornei',\n",
       " 'SPCODE': 'I0L5',\n",
       " 'STATUS': 'RT',\n",
       " 'TSN': '-837',\n",
       " 'VIPCODE': 'I01',\n",
       " 'cacheDate': '2017-11-13T21:38:41.800981',\n",
       " 'listingStatus': [{'POP_ABBREV': 'Wherever found',\n",
       "   'POP_DESC': 'Wherever found',\n",
       "   'STATUS': 'Resolved Taxon'}],\n",
       " 'result': True}"
      ]
     },
     "metadata": {},
     "output_type": "display_data"
    },
    {
     "name": "stdout",
     "output_type": "stream",
     "text": [
      "Original Scientific Name: Monadenia fidelis pronotis\n"
     ]
    },
    {
     "data": {
      "text/plain": [
       "{'COMNAME': 'Rocky coast Pacific sideband',\n",
       " 'COUNTRY': '1',\n",
       " 'DPS': '0',\n",
       " 'ENTITY_ID': '4548',\n",
       " 'FAMILY': 'Helminthoglyptida',\n",
       " 'INVNAME': 'Sideband, Rocky coast Pacific',\n",
       " 'LEAD_AGENCY': '1',\n",
       " 'LEAD_REGION': '1',\n",
       " 'REFUGE_OCCURRENCE': None,\n",
       " 'SCINAME': 'Monadenia fidelis pronotis',\n",
       " 'SPCODE': 'G008',\n",
       " 'STATUS': 'RT',\n",
       " 'TSN': '-249',\n",
       " 'VIPCODE': 'I01',\n",
       " 'cacheDate': '2017-11-13T21:38:44.753952',\n",
       " 'listingStatus': [{'POP_ABBREV': 'Wherever found',\n",
       "   'POP_DESC': 'Wherever found',\n",
       "   'STATUS': 'Resolved Taxon'}],\n",
       " 'result': True}"
      ]
     },
     "metadata": {},
     "output_type": "display_data"
    },
    {
     "name": "stdout",
     "output_type": "stream",
     "text": [
      "Original Scientific Name: Monadenia mormonum buttoni\n"
     ]
    },
    {
     "data": {
      "text/plain": [
       "{'COMNAME': \"Button''s Sierra sideband\",\n",
       " 'COUNTRY': '1',\n",
       " 'DPS': '0',\n",
       " 'ENTITY_ID': '8106',\n",
       " 'FAMILY': 'Helminthoglyptida',\n",
       " 'INVNAME': \"Sideband, Button''s Sierra\",\n",
       " 'LEAD_AGENCY': '1',\n",
       " 'LEAD_REGION': '1',\n",
       " 'REFUGE_OCCURRENCE': None,\n",
       " 'SCINAME': 'Monadenia mormonum buttoni',\n",
       " 'SPCODE': 'G031',\n",
       " 'STATUS': 'SC',\n",
       " 'TSN': '-250',\n",
       " 'VIPCODE': 'I01',\n",
       " 'cacheDate': '2017-11-13T21:38:45.922966',\n",
       " 'listingStatus': [{'POP_ABBREV': 'Wherever found',\n",
       "   'POP_DESC': 'Wherever found',\n",
       "   'STATUS': 'Species of Concern'}],\n",
       " 'result': True}"
      ]
     },
     "metadata": {},
     "output_type": "display_data"
    },
    {
     "name": "stdout",
     "output_type": "stream",
     "text": [
      "Original Scientific Name: Monadenia mormonum hirsuta\n"
     ]
    },
    {
     "data": {
      "text/plain": [
       "{'COMNAME': 'Hirsute sierra sideband',\n",
       " 'COUNTRY': '1',\n",
       " 'DPS': '0',\n",
       " 'ENTITY_ID': '5756',\n",
       " 'FAMILY': 'Helminthoglyptida',\n",
       " 'INVNAME': 'Sideband, hirsute sierra',\n",
       " 'LEAD_AGENCY': '1',\n",
       " 'LEAD_REGION': '1',\n",
       " 'REFUGE_OCCURRENCE': None,\n",
       " 'SCINAME': 'Monadenia mormonum hirsuta',\n",
       " 'SPCODE': 'G032',\n",
       " 'STATUS': 'SC',\n",
       " 'TSN': '-218',\n",
       " 'VIPCODE': 'I01',\n",
       " 'cacheDate': '2017-11-13T21:38:46.228831',\n",
       " 'listingStatus': [{'POP_ABBREV': 'Wherever found',\n",
       "   'POP_DESC': 'Wherever found',\n",
       "   'STATUS': 'Species of Concern'}],\n",
       " 'result': True}"
      ]
     },
     "metadata": {},
     "output_type": "display_data"
    },
    {
     "name": "stdout",
     "output_type": "stream",
     "text": [
      "Original Scientific Name: Myrmosula pacifica\n"
     ]
    },
    {
     "data": {
      "text/plain": [
       "{'COMNAME': 'Antioch mutillid wasp',\n",
       " 'COUNTRY': '1',\n",
       " 'DPS': '0',\n",
       " 'ENTITY_ID': '1980',\n",
       " 'FAMILY': 'Mutillidae',\n",
       " 'INVNAME': 'Wasp, Antioch mutillid',\n",
       " 'LEAD_AGENCY': '1',\n",
       " 'LEAD_REGION': '1',\n",
       " 'REFUGE_OCCURRENCE': None,\n",
       " 'SCINAME': 'Myrmosula pacifica',\n",
       " 'SPCODE': 'I01W',\n",
       " 'STATUS': 'SC',\n",
       " 'TSN': '-783',\n",
       " 'VIPCODE': 'I01',\n",
       " 'cacheDate': '2017-11-13T21:38:49.713890',\n",
       " 'listingStatus': [{'POP_ABBREV': 'Wherever found',\n",
       "   'POP_DESC': 'Wherever found',\n",
       "   'STATUS': 'Species of Concern'}],\n",
       " 'result': True}"
      ]
     },
     "metadata": {},
     "output_type": "display_data"
    },
    {
     "name": "stdout",
     "output_type": "stream",
     "text": [
      "Original Scientific Name: Neduba longipennis\n"
     ]
    },
    {
     "data": {
      "text/plain": [
       "{'COMNAME': 'Santa Monica shieldback katydid',\n",
       " 'COUNTRY': '1',\n",
       " 'DPS': '0',\n",
       " 'ENTITY_ID': '3002',\n",
       " 'FAMILY': 'Tettigoniidae',\n",
       " 'INVNAME': 'Katydid, Santa Monica shieldback',\n",
       " 'LEAD_AGENCY': '1',\n",
       " 'LEAD_REGION': '1',\n",
       " 'REFUGE_OCCURRENCE': None,\n",
       " 'SCINAME': 'Neduba longipennis',\n",
       " 'SPCODE': 'I07T',\n",
       " 'STATUS': 'SC',\n",
       " 'TSN': '-439',\n",
       " 'VIPCODE': 'I01',\n",
       " 'cacheDate': '2017-11-13T21:38:51.573793',\n",
       " 'listingStatus': [{'POP_ABBREV': 'Wherever found',\n",
       "   'POP_DESC': 'Wherever found',\n",
       "   'STATUS': 'Species of Concern'}],\n",
       " 'result': True}"
      ]
     },
     "metadata": {},
     "output_type": "display_data"
    },
    {
     "name": "stdout",
     "output_type": "stream",
     "text": [
      "Original Scientific Name: Perdita scitula antiochensis\n"
     ]
    },
    {
     "data": {
      "text/plain": [
       "{'COMNAME': 'Antioch andrenid bee',\n",
       " 'COUNTRY': '1',\n",
       " 'DPS': '0',\n",
       " 'ENTITY_ID': '7137',\n",
       " 'FAMILY': 'Andrenidae',\n",
       " 'INVNAME': 'Andrenid bee, Antioch',\n",
       " 'LEAD_AGENCY': '1',\n",
       " 'LEAD_REGION': '1',\n",
       " 'REFUGE_OCCURRENCE': None,\n",
       " 'SCINAME': 'Perdita scitula antiochensis',\n",
       " 'SPCODE': 'I01S',\n",
       " 'STATUS': 'SC',\n",
       " 'TSN': '-1112',\n",
       " 'VIPCODE': 'I01',\n",
       " 'cacheDate': '2017-11-13T21:39:10.778830',\n",
       " 'listingStatus': [{'POP_ABBREV': 'Wherever found',\n",
       "   'POP_DESC': 'Wherever found',\n",
       "   'STATUS': 'Species of Concern'}],\n",
       " 'result': True}"
      ]
     },
     "metadata": {},
     "output_type": "display_data"
    },
    {
     "name": "stdout",
     "output_type": "stream",
     "text": [
      "Original Scientific Name: Plebulina emigdionis\n"
     ]
    },
    {
     "data": {
      "text/plain": [
       "{'COMNAME': 'San Emigdio blue',\n",
       " 'COUNTRY': '1',\n",
       " 'DPS': '0',\n",
       " 'ENTITY_ID': '3892',\n",
       " 'FAMILY': 'Lycaenidae',\n",
       " 'INVNAME': 'Blue, San Emigdio',\n",
       " 'LEAD_AGENCY': '1',\n",
       " 'LEAD_REGION': '1',\n",
       " 'REFUGE_OCCURRENCE': None,\n",
       " 'SCINAME': 'Plebulina emigdionis',\n",
       " 'SPCODE': 'I02O',\n",
       " 'STATUS': 'SC',\n",
       " 'TSN': '-1016',\n",
       " 'VIPCODE': 'I01',\n",
       " 'cacheDate': '2017-11-13T21:39:21.801494',\n",
       " 'listingStatus': [{'POP_ABBREV': 'Wherever found',\n",
       "   'POP_DESC': 'Wherever found',\n",
       "   'STATUS': 'Species of Concern'}],\n",
       " 'result': True}"
      ]
     },
     "metadata": {},
     "output_type": "display_data"
    },
    {
     "name": "stdout",
     "output_type": "stream",
     "text": [
      "Original Scientific Name: Rhaphiomidas terminatus abdominalis\n"
     ]
    },
    {
     "data": {
      "text/plain": [
       "{'COMNAME': 'Delhi Sands flower-loving fly',\n",
       " 'COUNTRY': '1',\n",
       " 'DPS': '0',\n",
       " 'ENTITY_ID': '452',\n",
       " 'FAMILY': 'Mydidae',\n",
       " 'INVNAME': 'Fly, Delhi Sands flower-loving',\n",
       " 'LEAD_AGENCY': '1',\n",
       " 'LEAD_REGION': '8',\n",
       " 'REFUGE_OCCURRENCE': None,\n",
       " 'SCINAME': 'Rhaphiomidas terminatus abdominalis',\n",
       " 'SPCODE': 'I0MG',\n",
       " 'STATUS': 'E',\n",
       " 'TSN': '-1108',\n",
       " 'VIPCODE': 'I01',\n",
       " 'cacheDate': '2017-11-13T21:39:46.190032',\n",
       " 'listingStatus': [{'LISTING_DATE': '1993-09-23',\n",
       "   'POP_ABBREV': 'Wherever found',\n",
       "   'POP_DESC': 'Wherever found',\n",
       "   'STATUS': 'Endangered'}],\n",
       " 'result': True}"
      ]
     },
     "metadata": {},
     "output_type": "display_data"
    },
    {
     "name": "stdout",
     "output_type": "stream",
     "text": [
      "Original Scientific Name: Trigonoscuta dorothea dorothea\n"
     ]
    },
    {
     "data": {
      "text/plain": [
       "{'COMNAME': \"Dorothy''s El Segundo Dune weevil\",\n",
       " 'COUNTRY': '1',\n",
       " 'DPS': '0',\n",
       " 'ENTITY_ID': '2985',\n",
       " 'FAMILY': 'Curculionidae',\n",
       " 'INVNAME': \"Weevil, Dorothy''s El Segundo Dune\",\n",
       " 'LEAD_AGENCY': '1',\n",
       " 'LEAD_REGION': '1',\n",
       " 'REFUGE_OCCURRENCE': None,\n",
       " 'SCINAME': 'Trigonoscuta dorothea dorothea',\n",
       " 'SPCODE': 'I0FJ',\n",
       " 'STATUS': 'SC',\n",
       " 'TSN': '-317',\n",
       " 'VIPCODE': 'I01',\n",
       " 'cacheDate': '2017-11-13T21:40:14.080686',\n",
       " 'listingStatus': [{'POP_ABBREV': 'Wherever found',\n",
       "   'POP_DESC': 'Wherever found',\n",
       "   'STATUS': 'Species of Concern'}],\n",
       " 'result': True}"
      ]
     },
     "metadata": {},
     "output_type": "display_data"
    },
    {
     "name": "stdout",
     "output_type": "stream",
     "text": [
      "Original Scientific Name: Lordithon niger\n"
     ]
    },
    {
     "data": {
      "text/plain": [
       "{'COMNAME': 'Black lordithon rove beetle',\n",
       " 'COUNTRY': '3',\n",
       " 'DPS': '0',\n",
       " 'ENTITY_ID': '7900',\n",
       " 'FAMILY': 'Staphylinidae',\n",
       " 'INVNAME': 'Rove beetle, black lordithon',\n",
       " 'LEAD_AGENCY': '1',\n",
       " 'LEAD_REGION': '5',\n",
       " 'REFUGE_OCCURRENCE': None,\n",
       " 'SCINAME': 'Lordithon niger',\n",
       " 'SPCODE': 'I0CO',\n",
       " 'STATUS': 'SC',\n",
       " 'TSN': '-734',\n",
       " 'VIPCODE': 'I01',\n",
       " 'cacheDate': '2017-11-13T21:42:00.899091',\n",
       " 'listingStatus': [{'POP_ABBREV': 'Wherever found',\n",
       "   'POP_DESC': 'Wherever found',\n",
       "   'STATUS': 'Species of Concern'}],\n",
       " 'result': True}"
      ]
     },
     "metadata": {},
     "output_type": "display_data"
    },
    {
     "name": "stdout",
     "output_type": "stream",
     "text": [
      "Original Scientific Name: Merolonche dolli\n"
     ]
    },
    {
     "data": {
      "text/plain": [
       "{'COMNAME': \"Doll''s merolonche\",\n",
       " 'COUNTRY': '1',\n",
       " 'DPS': '0',\n",
       " 'ENTITY_ID': '5406',\n",
       " 'FAMILY': 'Noctuidae',\n",
       " 'INVNAME': \"Merolonche, Doll''s\",\n",
       " 'LEAD_AGENCY': '1',\n",
       " 'LEAD_REGION': '5',\n",
       " 'REFUGE_OCCURRENCE': None,\n",
       " 'SCINAME': 'Merolonche dolli',\n",
       " 'SPCODE': 'I0PP',\n",
       " 'STATUS': 'SC',\n",
       " 'TSN': '-653',\n",
       " 'VIPCODE': 'I01',\n",
       " 'cacheDate': '2017-11-13T21:42:03.529634',\n",
       " 'listingStatus': [{'POP_ABBREV': 'Wherever found',\n",
       "   'POP_DESC': 'Wherever found',\n",
       "   'STATUS': 'Species of Concern'}],\n",
       " 'result': True}"
      ]
     },
     "metadata": {},
     "output_type": "display_data"
    },
    {
     "name": "stdout",
     "output_type": "stream",
     "text": [
      "Original Scientific Name: Synanthedon castaneae\n"
     ]
    },
    {
     "data": {
      "text/plain": [
       "{'COMNAME': 'Chestnut clearwing moth',\n",
       " 'COUNTRY': '1',\n",
       " 'DPS': '0',\n",
       " 'ENTITY_ID': '1505',\n",
       " 'FAMILY': 'Sesiidae',\n",
       " 'INVNAME': 'Moth, chestnut clearwing',\n",
       " 'LEAD_AGENCY': '1',\n",
       " 'LEAD_REGION': '4',\n",
       " 'REFUGE_OCCURRENCE': None,\n",
       " 'SCINAME': 'Synanthedon castaneae',\n",
       " 'SPCODE': 'I0AN',\n",
       " 'STATUS': 'RT',\n",
       " 'TSN': '-1164',\n",
       " 'VIPCODE': 'I01',\n",
       " 'cacheDate': '2017-11-13T21:43:29.502525',\n",
       " 'listingStatus': [{'POP_ABBREV': 'Wherever found',\n",
       "   'POP_DESC': 'Wherever found',\n",
       "   'STATUS': 'Resolved Taxon'}],\n",
       " 'result': True}"
      ]
     },
     "metadata": {},
     "output_type": "display_data"
    },
    {
     "name": "stdout",
     "output_type": "stream",
     "text": [
      "Original Scientific Name: Tischeria perplexa\n"
     ]
    },
    {
     "data": {
      "text/plain": [
       "{'COMNAME': 'Chestnut leaf miner',\n",
       " 'COUNTRY': '1',\n",
       " 'DPS': '0',\n",
       " 'ENTITY_ID': '7739',\n",
       " 'FAMILY': 'Tischeriidae',\n",
       " 'INVNAME': 'Leaf miner, chestnut',\n",
       " 'LEAD_AGENCY': '1',\n",
       " 'LEAD_REGION': '5',\n",
       " 'REFUGE_OCCURRENCE': None,\n",
       " 'SCINAME': 'Tischeria perplexa',\n",
       " 'SPCODE': 'I081',\n",
       " 'STATUS': 'SC',\n",
       " 'TSN': '-735',\n",
       " 'VIPCODE': 'I01',\n",
       " 'cacheDate': '2017-11-13T21:43:31.839851',\n",
       " 'listingStatus': [{'POP_ABBREV': 'Wherever found',\n",
       "   'POP_DESC': 'Wherever found',\n",
       "   'STATUS': 'Species of Concern'}],\n",
       " 'result': True}"
      ]
     },
     "metadata": {},
     "output_type": "display_data"
    },
    {
     "name": "stdout",
     "output_type": "stream",
     "text": [
      "Original Scientific Name: Mitoura hesseli\n"
     ]
    },
    {
     "data": {
      "text/plain": [
       "{'COMNAME': \"Hessel''s hairstreak butterfly\",\n",
       " 'COUNTRY': '1',\n",
       " 'DPS': '0',\n",
       " 'ENTITY_ID': '7164',\n",
       " 'FAMILY': 'Lycaenidae',\n",
       " 'INVNAME': \"Butterfly, Hessel''s hairstreak\",\n",
       " 'LEAD_AGENCY': '1',\n",
       " 'LEAD_REGION': '5',\n",
       " 'REFUGE_OCCURRENCE': None,\n",
       " 'SCINAME': 'Mitoura hesseli',\n",
       " 'SPCODE': 'I00E',\n",
       " 'STATUS': 'RT',\n",
       " 'TSN': '-986',\n",
       " 'VIPCODE': 'I01',\n",
       " 'cacheDate': '2017-11-13T21:52:05.914568',\n",
       " 'listingStatus': [{'POP_ABBREV': 'Wherever found',\n",
       "   'POP_DESC': 'Wherever found',\n",
       "   'STATUS': 'Resolved Taxon'}],\n",
       " 'result': True}"
      ]
     },
     "metadata": {},
     "output_type": "display_data"
    },
    {
     "name": "stdout",
     "output_type": "stream",
     "text": [
      "Original Scientific Name: Spartiniphaga carterae\n"
     ]
    },
    {
     "data": {
      "text/plain": [
       "{'COMNAME': \"Carter''s noctuid moth\",\n",
       " 'COUNTRY': '1',\n",
       " 'DPS': '0',\n",
       " 'ENTITY_ID': '3464',\n",
       " 'FAMILY': 'Noctuidae',\n",
       " 'INVNAME': \"Noctuid moth, Carter''s\",\n",
       " 'LEAD_AGENCY': '1',\n",
       " 'LEAD_REGION': '4',\n",
       " 'REFUGE_OCCURRENCE': None,\n",
       " 'SCINAME': 'Spartiniphaga carterae',\n",
       " 'SPCODE': 'I0NY',\n",
       " 'STATUS': 'SC',\n",
       " 'TSN': '-826',\n",
       " 'VIPCODE': 'I01',\n",
       " 'cacheDate': '2017-11-13T21:53:21.318798',\n",
       " 'listingStatus': [{'POP_ABBREV': 'Wherever found',\n",
       "   'POP_DESC': 'Wherever found',\n",
       "   'STATUS': 'Species of Concern'}],\n",
       " 'result': True}"
      ]
     },
     "metadata": {},
     "output_type": "display_data"
    },
    {
     "name": "stdout",
     "output_type": "stream",
     "text": [
      "Original Scientific Name: Monadenia fidelis minor\n"
     ]
    },
    {
     "data": {
      "text/plain": [
       "{'COMNAME': 'Dalles sideband',\n",
       " 'COUNTRY': '1',\n",
       " 'DPS': '0',\n",
       " 'ENTITY_ID': '6492',\n",
       " 'FAMILY': 'Helminthoglyptida',\n",
       " 'INVNAME': 'Sideband, Dalles',\n",
       " 'LEAD_AGENCY': '1',\n",
       " 'LEAD_REGION': '1',\n",
       " 'REFUGE_OCCURRENCE': None,\n",
       " 'SCINAME': 'Monadenia fidelis minor',\n",
       " 'SPCODE': 'G030',\n",
       " 'STATUS': 'UR',\n",
       " 'TSN': '-201',\n",
       " 'VIPCODE': 'I01',\n",
       " 'cacheDate': '2017-11-13T21:58:52.132030',\n",
       " 'listingStatus': [{'POP_ABBREV': 'Wherever found',\n",
       "   'POP_DESC': 'Wherever found',\n",
       "   'STATUS': 'Under Review in the Candidate or Petition Process'}],\n",
       " 'result': True}"
      ]
     },
     "metadata": {},
     "output_type": "display_data"
    },
    {
     "name": "stdout",
     "output_type": "stream",
     "text": [
      "Original Scientific Name: Microtus longicaudus leucophaeus\n"
     ]
    },
    {
     "data": {
      "text/plain": [
       "{'COMNAME': 'Graham Mountains long-tailed vole',\n",
       " 'COUNTRY': '1',\n",
       " 'DPS': '0',\n",
       " 'ENTITY_ID': '5377',\n",
       " 'FAMILY': 'Muridae',\n",
       " 'INVNAME': 'Vole, Graham Mountains long-tailed',\n",
       " 'LEAD_AGENCY': '1',\n",
       " 'LEAD_REGION': '2',\n",
       " 'REFUGE_OCCURRENCE': None,\n",
       " 'SCINAME': 'Microtus longicaudus leucophaeus',\n",
       " 'SPCODE': 'A09T',\n",
       " 'STATUS': 'RT',\n",
       " 'TSN': '-234',\n",
       " 'VIPCODE': 'V01',\n",
       " 'cacheDate': '2017-11-13T22:00:02.413236',\n",
       " 'listingStatus': [{'POP_ABBREV': 'Wherever found',\n",
       "   'POP_DESC': 'Wherever found',\n",
       "   'STATUS': 'Resolved Taxon'}],\n",
       " 'result': True}"
      ]
     },
     "metadata": {},
     "output_type": "display_data"
    },
    {
     "name": "stdout",
     "output_type": "stream",
     "text": [
      "Original Scientific Name: Cicurina cueva (Gertsch)\n",
      "'Cleaned' Scientific Name (for processing): Cicurina cueva\n"
     ]
    },
    {
     "data": {
      "text/plain": [
       "{'COMNAME': '[Unnamed] spider',\n",
       " 'COUNTRY': '1',\n",
       " 'DPS': '0',\n",
       " 'ENTITY_ID': '6419',\n",
       " 'FAMILY': 'Dictynidae',\n",
       " 'INVNAME': 'Spider, [unnamed]',\n",
       " 'LEAD_AGENCY': '1',\n",
       " 'LEAD_REGION': '2',\n",
       " 'REFUGE_OCCURRENCE': None,\n",
       " 'SCINAME': 'Cicurina cueva',\n",
       " 'SPCODE': 'J015',\n",
       " 'STATUS': 'RT',\n",
       " 'TSN': '-858',\n",
       " 'VIPCODE': 'I01',\n",
       " 'cacheDate': '2017-11-13T22:01:34.207845',\n",
       " 'listingStatus': [{'POP_ABBREV': 'Wherever found',\n",
       "   'POP_DESC': 'Wherever found',\n",
       "   'STATUS': 'Resolved Taxon'}],\n",
       " 'result': True}"
      ]
     },
     "metadata": {},
     "output_type": "display_data"
    },
    {
     "name": "stdout",
     "output_type": "stream",
     "text": [
      "Original Scientific Name: Protoptila arca\n"
     ]
    },
    {
     "data": {
      "text/plain": [
       "{'COMNAME': 'San Marcos saddle-case caddisfly',\n",
       " 'COUNTRY': '1',\n",
       " 'DPS': '0',\n",
       " 'ENTITY_ID': '7408',\n",
       " 'FAMILY': 'Glossosomatidae',\n",
       " 'INVNAME': 'Caddisfly, San Marcos saddle-case',\n",
       " 'LEAD_AGENCY': '1',\n",
       " 'LEAD_REGION': '2',\n",
       " 'REFUGE_OCCURRENCE': None,\n",
       " 'SCINAME': 'Protoptila arca',\n",
       " 'SPCODE': 'I049',\n",
       " 'STATUS': 'RT',\n",
       " 'TSN': '-524',\n",
       " 'VIPCODE': 'I01',\n",
       " 'cacheDate': '2017-11-13T22:03:57.919036',\n",
       " 'listingStatus': [{'POP_ABBREV': 'Wherever found',\n",
       "   'POP_DESC': 'Wherever found',\n",
       "   'STATUS': 'Resolved Taxon'}],\n",
       " 'result': True}"
      ]
     },
     "metadata": {},
     "output_type": "display_data"
    },
    {
     "name": "stdout",
     "output_type": "stream",
     "text": [
      "Original Scientific Name: Pseudotryonia adamantina\n"
     ]
    },
    {
     "data": {
      "text/plain": [
       "{'COMNAME': 'Diamond Tryonia',\n",
       " 'COUNTRY': '1',\n",
       " 'DPS': '0',\n",
       " 'ENTITY_ID': '4437',\n",
       " 'FAMILY': 'Hydrobiidae',\n",
       " 'INVNAME': 'Tryonia, Diamond',\n",
       " 'LEAD_AGENCY': '1',\n",
       " 'LEAD_REGION': '2',\n",
       " 'REFUGE_OCCURRENCE': None,\n",
       " 'SCINAME': 'Pseudotryonia adamantina',\n",
       " 'SPCODE': 'G04W',\n",
       " 'STATUS': 'E',\n",
       " 'TSN': '-1178',\n",
       " 'VIPCODE': 'I01',\n",
       " 'cacheDate': '2017-11-13T22:03:58.883803',\n",
       " 'listingStatus': [{'LISTING_DATE': '2013-07-09',\n",
       "   'POP_ABBREV': 'Wherever found',\n",
       "   'POP_DESC': 'Wherever found',\n",
       "   'STATUS': 'Endangered'}],\n",
       " 'result': True}"
      ]
     },
     "metadata": {},
     "output_type": "display_data"
    },
    {
     "name": "stdout",
     "output_type": "stream",
     "text": [
      "Original Scientific Name: Rhaphiomidas terminatus terminatus\n"
     ]
    },
    {
     "data": {
      "text/plain": [
       "{'COMNAME': 'El Segundo flower-loving fly',\n",
       " 'COUNTRY': '1',\n",
       " 'DPS': '0',\n",
       " 'ENTITY_ID': '2012',\n",
       " 'FAMILY': 'Apioceridae',\n",
       " 'INVNAME': 'Fly, El Segundo flower-loving',\n",
       " 'LEAD_AGENCY': '1',\n",
       " 'LEAD_REGION': '1',\n",
       " 'REFUGE_OCCURRENCE': None,\n",
       " 'SCINAME': 'Rhaphiomidas terminatus terminatus',\n",
       " 'SPCODE': 'I0NE',\n",
       " 'STATUS': 'RT',\n",
       " 'TSN': '-323',\n",
       " 'VIPCODE': 'I01',\n",
       " 'cacheDate': '2017-11-13T22:05:16.400800',\n",
       " 'listingStatus': [{'POP_ABBREV': 'Wherever found',\n",
       "   'POP_DESC': 'Wherever found',\n",
       "   'STATUS': 'Resolved Taxon'}],\n",
       " 'result': True}"
      ]
     },
     "metadata": {},
     "output_type": "display_data"
    },
    {
     "name": "stdout",
     "output_type": "stream",
     "text": [
      "Original Scientific Name: Pekania [=Martes] pennanti\n",
      "'Cleaned' Scientific Name (for processing): Pekania pennanti\n"
     ]
    },
    {
     "data": {
      "text/plain": [
       "{'COMNAME': 'Fisher',\n",
       " 'COUNTRY': '1',\n",
       " 'DPS': '1',\n",
       " 'ENTITY_ID': '10006',\n",
       " 'FAMILY': 'Mustelidae',\n",
       " 'INVNAME': 'Fisher',\n",
       " 'REFUGE_OCCURRENCE': None,\n",
       " 'SCINAME': 'Pekania pennanti',\n",
       " 'SPCODE': 'A0HS',\n",
       " 'TSN': '180560',\n",
       " 'VIPCODE': 'V03',\n",
       " 'cacheDate': '2017-11-13T22:06:13.880942',\n",
       " 'listingStatus': [{'POP_ABBREV': 'Northern Rocky Mountains DPS',\n",
       "   'POP_DESC': 'Northern Rocky Mountains DPS',\n",
       "   'STATUS': 'Resolved Taxon'},\n",
       "  {'POP_ABBREV': 'West coast DPS',\n",
       "   'POP_DESC': 'West coast DPS',\n",
       "   'STATUS': 'Resolved Taxon'}],\n",
       " 'result': True}"
      ]
     },
     "metadata": {},
     "output_type": "display_data"
    },
    {
     "name": "stdout",
     "output_type": "stream",
     "text": [
      "Original Scientific Name: Pyrgulopsis hamlinensis\n"
     ]
    },
    {
     "data": {
      "text/plain": [
       "{'COMNAME': 'Hamlin Valley pyrg',\n",
       " 'COUNTRY': '1',\n",
       " 'DPS': '0',\n",
       " 'ENTITY_ID': '9984',\n",
       " 'FAMILY': 'Hydrobiidae',\n",
       " 'INVNAME': 'Pyrg, Hamlin Valley',\n",
       " 'LEAD_AGENCY': '1',\n",
       " 'LEAD_REGION': '6',\n",
       " 'REFUGE_OCCURRENCE': None,\n",
       " 'SCINAME': 'Pyrgulopsis hamlinensis',\n",
       " 'SPCODE': 'G0FA',\n",
       " 'STATUS': 'UR',\n",
       " 'TSN': '-475',\n",
       " 'VIPCODE': 'I01',\n",
       " 'cacheDate': '2017-11-13T22:14:06.831243',\n",
       " 'listingStatus': [{'POP_ABBREV': 'Wherever found',\n",
       "   'POP_DESC': 'Wherever found',\n",
       "   'STATUS': 'Under Review in the Candidate or Petition Process'}],\n",
       " 'result': True}"
      ]
     },
     "metadata": {},
     "output_type": "display_data"
    },
    {
     "name": "stdout",
     "output_type": "stream",
     "text": [
      "Original Scientific Name: Pyrgulopsis saxatilis\n"
     ]
    },
    {
     "data": {
      "text/plain": [
       "{'COMNAME': 'Sub-globose Snake pyrg',\n",
       " 'COUNTRY': '1',\n",
       " 'DPS': '0',\n",
       " 'ENTITY_ID': '9997',\n",
       " 'FAMILY': 'Hydrobiidae',\n",
       " 'INVNAME': 'Pyrg, sub-globose Snake',\n",
       " 'LEAD_AGENCY': '1',\n",
       " 'LEAD_REGION': '6',\n",
       " 'REFUGE_OCCURRENCE': None,\n",
       " 'SCINAME': 'Pyrgulopsis saxatilis',\n",
       " 'SPCODE': 'G0FN',\n",
       " 'STATUS': 'UR',\n",
       " 'TSN': '-488',\n",
       " 'VIPCODE': 'I01',\n",
       " 'cacheDate': '2017-11-13T22:14:12.600779',\n",
       " 'listingStatus': [{'POP_ABBREV': 'Wherever found',\n",
       "   'POP_DESC': 'Wherever found',\n",
       "   'STATUS': 'Under Review in the Candidate or Petition Process'}],\n",
       " 'result': True}"
      ]
     },
     "metadata": {},
     "output_type": "display_data"
    },
    {
     "name": "stdout",
     "output_type": "stream",
     "text": [
      "Original Scientific Name: Elimia melanoides\n"
     ]
    },
    {
     "data": {
      "text/plain": [
       "{'COMNAME': 'Black mudalia',\n",
       " 'COUNTRY': '1',\n",
       " 'DPS': '0',\n",
       " 'ENTITY_ID': '8434',\n",
       " 'FAMILY': 'Pleuroceridae',\n",
       " 'INVNAME': 'Mudalia, black',\n",
       " 'LEAD_AGENCY': '1',\n",
       " 'LEAD_REGION': '4',\n",
       " 'REFUGE_OCCURRENCE': None,\n",
       " 'SCINAME': 'Elimia melanoides',\n",
       " 'SPCODE': 'G0C7',\n",
       " 'STATUS': 'UR',\n",
       " 'TSN': '-1170',\n",
       " 'VIPCODE': 'I01',\n",
       " 'cacheDate': '2017-11-13T22:14:22.316685',\n",
       " 'listingStatus': [{'POP_ABBREV': 'Wherever found',\n",
       "   'POP_DESC': 'Wherever found',\n",
       "   'STATUS': 'Under Review in the Candidate or Petition Process'}],\n",
       " 'result': True}"
      ]
     },
     "metadata": {},
     "output_type": "display_data"
    },
    {
     "name": "stdout",
     "output_type": "stream",
     "text": [
      "Original Scientific Name: Arsapnia [=Capnia] arapahoe\n",
      "'Cleaned' Scientific Name (for processing): Arsapnia arapahoe\n"
     ]
    },
    {
     "data": {
      "text/plain": [
       "{'COMNAME': 'Arapahoe snowfly',\n",
       " 'COUNTRY': '1',\n",
       " 'DPS': '0',\n",
       " 'ENTITY_ID': '10130',\n",
       " 'FAMILY': 'Capniidae',\n",
       " 'INVNAME': 'Snowfly, Arapahoe',\n",
       " 'LEAD_AGENCY': '1',\n",
       " 'LEAD_REGION': '6',\n",
       " 'REFUGE_OCCURRENCE': None,\n",
       " 'SCINAME': 'Arsapnia arapahoe',\n",
       " 'SPCODE': 'I0W0',\n",
       " 'STATUS': 'C',\n",
       " 'TSN': '609873',\n",
       " 'VIPCODE': 'I01',\n",
       " 'cacheDate': '2017-11-13T22:15:44.270562',\n",
       " 'listingStatus': [{'POP_ABBREV': 'Wherever found',\n",
       "   'POP_DESC': 'Wherever found',\n",
       "   'STATUS': 'Candidate'}],\n",
       " 'result': True}"
      ]
     },
     "metadata": {},
     "output_type": "display_data"
    },
    {
     "name": "stdout",
     "output_type": "stream",
     "text": [
      "Original Scientific Name: Satyrodes eurydice fumosa\n"
     ]
    },
    {
     "data": {
      "text/plain": [
       "{'COMNAME': 'Smoky eyed brown butterfly',\n",
       " 'COUNTRY': '1',\n",
       " 'DPS': '0',\n",
       " 'ENTITY_ID': '1321',\n",
       " 'FAMILY': 'Nymphalidae',\n",
       " 'INVNAME': 'Butterfly, smoky eyed brown',\n",
       " 'LEAD_AGENCY': '1',\n",
       " 'LEAD_REGION': '6',\n",
       " 'REFUGE_OCCURRENCE': None,\n",
       " 'SCINAME': 'Satyrodes eurydice fumosa',\n",
       " 'SPCODE': 'I036',\n",
       " 'STATUS': 'RT',\n",
       " 'TSN': '-904',\n",
       " 'VIPCODE': 'I01',\n",
       " 'cacheDate': '2017-11-13T22:22:11.815710',\n",
       " 'listingStatus': [{'POP_ABBREV': 'Wherever found',\n",
       "   'POP_DESC': 'Wherever found',\n",
       "   'STATUS': 'Resolved Taxon'}],\n",
       " 'result': True}"
      ]
     },
     "metadata": {},
     "output_type": "display_data"
    },
    {
     "name": "stdout",
     "output_type": "stream",
     "text": [
      "Original Scientific Name: Vagrans egistina\n"
     ]
    },
    {
     "data": {
      "text/plain": [
       "{'COMNAME': 'Mariana wandering butterfly',\n",
       " 'COUNTRY': '1',\n",
       " 'DPS': '0',\n",
       " 'ENTITY_ID': '5168',\n",
       " 'FAMILY': 'Nymphalidae',\n",
       " 'INVNAME': 'Butterfly, Mariana wandering',\n",
       " 'LEAD_AGENCY': '1',\n",
       " 'LEAD_REGION': '1',\n",
       " 'REFUGE_OCCURRENCE': None,\n",
       " 'SCINAME': 'Vagrans egistina',\n",
       " 'SPCODE': 'I0R8',\n",
       " 'STATUS': 'E',\n",
       " 'TSN': '-1080',\n",
       " 'VIPCODE': 'I01',\n",
       " 'cacheDate': '2017-11-13T22:30:51.812683',\n",
       " 'listingStatus': [{'LISTING_DATE': '2015-11-02',\n",
       "   'POP_ABBREV': 'Wherever found',\n",
       "   'POP_DESC': 'Wherever found',\n",
       "   'STATUS': 'Endangered'}],\n",
       " 'result': True}"
      ]
     },
     "metadata": {},
     "output_type": "display_data"
    },
    {
     "name": "stdout",
     "output_type": "stream",
     "text": [
      "Original Scientific Name: Catinella gelida\n"
     ]
    },
    {
     "data": {
      "text/plain": [
       "{'COMNAME': 'Frigid Ambersnail',\n",
       " 'COUNTRY': '1',\n",
       " 'DPS': '0',\n",
       " 'ENTITY_ID': '6348',\n",
       " 'FAMILY': 'Succineidae',\n",
       " 'INVNAME': 'Ambersnail, Frigid',\n",
       " 'LEAD_AGENCY': '1',\n",
       " 'LEAD_REGION': '3',\n",
       " 'REFUGE_OCCURRENCE': None,\n",
       " 'SCINAME': 'Catinella gelida',\n",
       " 'SPCODE': 'G04E',\n",
       " 'STATUS': 'UR',\n",
       " 'TSN': '-444',\n",
       " 'VIPCODE': 'I01',\n",
       " 'cacheDate': '2017-11-13T22:31:55.211782',\n",
       " 'listingStatus': [{'POP_ABBREV': 'Wherever found',\n",
       "   'POP_DESC': 'Wherever found',\n",
       "   'STATUS': 'Under Review in the Candidate or Petition Process'}],\n",
       " 'result': True}"
      ]
     },
     "metadata": {},
     "output_type": "display_data"
    },
    {
     "name": "stdout",
     "output_type": "stream",
     "text": [
      "Original Scientific Name: Vertigo occulta\n"
     ]
    },
    {
     "data": {
      "text/plain": [
       "{'COMNAME': 'Occult vertigo',\n",
       " 'COUNTRY': '1',\n",
       " 'DPS': '0',\n",
       " 'ENTITY_ID': '2016',\n",
       " 'FAMILY': 'Pupillidae',\n",
       " 'INVNAME': 'Vertigo, occult',\n",
       " 'LEAD_AGENCY': '1',\n",
       " 'LEAD_REGION': '3',\n",
       " 'REFUGE_OCCURRENCE': None,\n",
       " 'SCINAME': 'Vertigo occulta',\n",
       " 'SPCODE': 'G05N',\n",
       " 'STATUS': 'SC',\n",
       " 'TSN': '-1005',\n",
       " 'VIPCODE': 'I01',\n",
       " 'cacheDate': '2017-11-13T22:32:02.673737',\n",
       " 'listingStatus': [{'POP_ABBREV': 'Wherever found',\n",
       "   'POP_DESC': 'Wherever found',\n",
       "   'STATUS': 'Species of Concern'}],\n",
       " 'result': True}"
      ]
     },
     "metadata": {},
     "output_type": "display_data"
    },
    {
     "name": "stdout",
     "output_type": "stream",
     "text": [
      "Original Scientific Name: Diastole matafaoi\n"
     ]
    },
    {
     "data": {
      "text/plain": [
       "{'COMNAME': 'Mt. Matafao different snail',\n",
       " 'COUNTRY': '1',\n",
       " 'DPS': '0',\n",
       " 'ENTITY_ID': '5630',\n",
       " 'FAMILY': 'Helicarionidae',\n",
       " 'INVNAME': 'Snail, Mt. Matafao different',\n",
       " 'LEAD_AGENCY': '1',\n",
       " 'LEAD_REGION': '1',\n",
       " 'REFUGE_OCCURRENCE': None,\n",
       " 'SCINAME': 'Diastole matafaoi',\n",
       " 'SPCODE': 'G03J',\n",
       " 'STATUS': 'SC',\n",
       " 'TSN': '-959',\n",
       " 'VIPCODE': 'I01',\n",
       " 'cacheDate': '2017-11-13T22:35:01.263940',\n",
       " 'listingStatus': [{'POP_ABBREV': 'Wherever found',\n",
       "   'POP_DESC': 'Wherever found',\n",
       "   'STATUS': 'Species of Concern'}],\n",
       " 'result': True}"
      ]
     },
     "metadata": {},
     "output_type": "display_data"
    },
    {
     "name": "stdout",
     "output_type": "stream",
     "text": [
      "Original Scientific Name: Ostodes strigatus\n"
     ]
    },
    {
     "data": {
      "text/plain": [
       "{'COMNAME': 'Snail [no common name]',\n",
       " 'COUNTRY': '1',\n",
       " 'DPS': '0',\n",
       " 'ENTITY_ID': '3224',\n",
       " 'FAMILY': 'Potaridae',\n",
       " 'INVNAME': '[no common name] Snail',\n",
       " 'LEAD_AGENCY': '1',\n",
       " 'LEAD_REGION': '1',\n",
       " 'REFUGE_OCCURRENCE': None,\n",
       " 'SCINAME': 'Ostodes strigatus',\n",
       " 'SPCODE': 'G0A5',\n",
       " 'STATUS': 'E',\n",
       " 'TSN': '-447',\n",
       " 'VIPCODE': 'I01',\n",
       " 'cacheDate': '2017-11-13T22:35:04.298990',\n",
       " 'listingStatus': [{'LISTING_DATE': '2016-10-24',\n",
       "   'POP_ABBREV': 'Wherever found',\n",
       "   'POP_DESC': 'Wherever found',\n",
       "   'STATUS': 'Endangered'}],\n",
       " 'result': True}"
      ]
     },
     "metadata": {},
     "output_type": "display_data"
    },
    {
     "name": "stdout",
     "output_type": "stream",
     "text": [
      "Original Scientific Name: Trochomorpha apia\n"
     ]
    },
    {
     "data": {
      "text/plain": [
       "{'COMNAME': '[Unnamed] snail',\n",
       " 'COUNTRY': '1',\n",
       " 'DPS': '0',\n",
       " 'ENTITY_ID': '7371',\n",
       " 'FAMILY': 'Trochomorphidae',\n",
       " 'INVNAME': 'Snail, [unnamed]',\n",
       " 'LEAD_AGENCY': '1',\n",
       " 'LEAD_REGION': '1',\n",
       " 'REFUGE_OCCURRENCE': None,\n",
       " 'SCINAME': 'Trochomorpha apia',\n",
       " 'SPCODE': 'G0BS',\n",
       " 'STATUS': 'SC',\n",
       " 'TSN': '-855',\n",
       " 'VIPCODE': 'I01',\n",
       " 'cacheDate': '2017-11-13T22:35:11.143020',\n",
       " 'listingStatus': [{'POP_ABBREV': 'Wherever found',\n",
       "   'POP_DESC': 'Wherever found',\n",
       "   'STATUS': 'Species of Concern'}],\n",
       " 'result': True}"
      ]
     },
     "metadata": {},
     "output_type": "display_data"
    },
    {
     "name": "stdout",
     "output_type": "stream",
     "text": [
      "Original Scientific Name: Urspelerpes brucei\n"
     ]
    },
    {
     "data": {
      "text/plain": [
       "{'COMNAME': 'Patch-nosed salamander',\n",
       " 'COUNTRY': '1',\n",
       " 'DPS': '0',\n",
       " 'ENTITY_ID': '10860',\n",
       " 'FAMILY': 'Plethodontidae',\n",
       " 'INVNAME': 'salamander, Patch-nosed',\n",
       " 'LEAD_AGENCY': '1',\n",
       " 'LEAD_REGION': '4',\n",
       " 'REFUGE_OCCURRENCE': None,\n",
       " 'SCINAME': 'Urspelerpes brucei',\n",
       " 'SPCODE': 'D04Q',\n",
       " 'STATUS': 'UR',\n",
       " 'TSN': '-1226',\n",
       " 'VIPCODE': 'V01',\n",
       " 'cacheDate': '2017-11-13T22:35:55.699126',\n",
       " 'listingStatus': [{'POP_ABBREV': 'Wherever found',\n",
       "   'POP_DESC': 'Wherever found',\n",
       "   'STATUS': 'Under Review in the Candidate or Petition Process'}],\n",
       " 'result': True}"
      ]
     },
     "metadata": {},
     "output_type": "display_data"
    },
    {
     "name": "stdout",
     "output_type": "stream",
     "text": [
      "Original Scientific Name: Urocitellus endemicus\n"
     ]
    },
    {
     "data": {
      "text/plain": [
       "{'COMNAME': 'Southern Idaho ground Squirrel',\n",
       " 'COUNTRY': '1',\n",
       " 'DPS': '0',\n",
       " 'ENTITY_ID': '2299',\n",
       " 'FAMILY': 'Sciuridae',\n",
       " 'INVNAME': 'Squirrel, Southern Idaho ground',\n",
       " 'LEAD_AGENCY': '1',\n",
       " 'LEAD_REGION': '1',\n",
       " 'REFUGE_OCCURRENCE': None,\n",
       " 'SCINAME': 'Urocitellus endemicus',\n",
       " 'SPCODE': 'A0EO',\n",
       " 'STATUS': 'RT',\n",
       " 'TSN': '-1148',\n",
       " 'VIPCODE': 'V01',\n",
       " 'cacheDate': '2017-11-13T22:40:59.403051',\n",
       " 'listingStatus': [{'POP_ABBREV': 'Wherever found',\n",
       "   'POP_DESC': 'Wherever found',\n",
       "   'STATUS': 'Resolved Taxon'}],\n",
       " 'result': True}"
      ]
     },
     "metadata": {},
     "output_type": "display_data"
    },
    {
     "name": "stdout",
     "output_type": "stream",
     "text": [
      "Original Scientific Name: Juturnia kosteri\n"
     ]
    },
    {
     "data": {
      "text/plain": [
       "{'COMNAME': \"Koster''s springsnail\",\n",
       " 'COUNTRY': '1',\n",
       " 'DPS': '0',\n",
       " 'ENTITY_ID': '1247',\n",
       " 'FAMILY': 'Hydrobiidae',\n",
       " 'INVNAME': \"Springsnail, Koster''s\",\n",
       " 'LEAD_AGENCY': '1',\n",
       " 'LEAD_REGION': '2',\n",
       " 'REFUGE_OCCURRENCE': 'Bitter Lake National Wildlife Refuge',\n",
       " 'SCINAME': 'Juturnia kosteri',\n",
       " 'SPCODE': 'G04C',\n",
       " 'STATUS': 'E',\n",
       " 'TSN': '-637',\n",
       " 'VIPCODE': 'I01',\n",
       " 'cacheDate': '2017-11-13T22:41:44.211384',\n",
       " 'listingStatus': [{'LISTING_DATE': '2005-08-09',\n",
       "   'POP_ABBREV': 'Wherever found',\n",
       "   'POP_DESC': 'Wherever found',\n",
       "   'STATUS': 'Endangered'}],\n",
       " 'result': True}"
      ]
     },
     "metadata": {},
     "output_type": "display_data"
    },
    {
     "name": "stdout",
     "output_type": "stream",
     "text": [
      "Original Scientific Name: Atlantea tulita\n"
     ]
    },
    {
     "data": {
      "text/plain": [
       "{'COMNAME': 'Puerto Rico harlequin butterfly',\n",
       " 'COUNTRY': '1',\n",
       " 'DPS': '0',\n",
       " 'ENTITY_ID': '10007',\n",
       " 'FAMILY': 'Nymphalidae',\n",
       " 'INVNAME': 'Butterfly, Puerto Rico harlequin',\n",
       " 'LEAD_AGENCY': '1',\n",
       " 'LEAD_REGION': '4',\n",
       " 'REFUGE_OCCURRENCE': None,\n",
       " 'SCINAME': 'Atlantea tulita',\n",
       " 'SPCODE': 'I0VK',\n",
       " 'STATUS': 'C',\n",
       " 'TSN': '-99',\n",
       " 'VIPCODE': 'I01',\n",
       " 'cacheDate': '2017-11-13T22:42:33.270792',\n",
       " 'listingStatus': [{'POP_ABBREV': 'Wherever found',\n",
       "   'POP_DESC': 'Wherever found',\n",
       "   'STATUS': 'Candidate'}],\n",
       " 'result': True}"
      ]
     },
     "metadata": {},
     "output_type": "display_data"
    },
    {
     "name": "stdout",
     "output_type": "stream",
     "text": [
      "Original Scientific Name: Microtus oeconomus amakensis\n"
     ]
    },
    {
     "data": {
      "text/plain": [
       "{'COMNAME': 'Amak tundra vole',\n",
       " 'COUNTRY': '1',\n",
       " 'DPS': '0',\n",
       " 'ENTITY_ID': '6783',\n",
       " 'FAMILY': 'Muridae',\n",
       " 'INVNAME': 'Vole, Amak tundra',\n",
       " 'LEAD_AGENCY': '1',\n",
       " 'LEAD_REGION': '7',\n",
       " 'REFUGE_OCCURRENCE': None,\n",
       " 'SCINAME': 'Microtus oeconomus amakensis',\n",
       " 'SPCODE': 'A0EP',\n",
       " 'STATUS': 'SC',\n",
       " 'TSN': '-271',\n",
       " 'VIPCODE': 'V01',\n",
       " 'cacheDate': '2017-11-13T22:44:31.705599',\n",
       " 'listingStatus': [{'POP_ABBREV': 'Wherever found',\n",
       "   'POP_DESC': 'Wherever found',\n",
       "   'STATUS': 'Species of Concern'}],\n",
       " 'result': True}"
      ]
     },
     "metadata": {},
     "output_type": "display_data"
    },
    {
     "name": "stdout",
     "output_type": "stream",
     "text": [
      "Original Scientific Name: Oreohelix peripherica wasatchensis\n"
     ]
    },
    {
     "data": {
      "text/plain": [
       "{'COMNAME': 'Ogden Mountainsnail',\n",
       " 'COUNTRY': '1',\n",
       " 'DPS': '0',\n",
       " 'ENTITY_ID': '2173',\n",
       " 'FAMILY': 'Oreohelicidae',\n",
       " 'INVNAME': 'Mountainsnail, Ogden',\n",
       " 'LEAD_AGENCY': '1',\n",
       " 'LEAD_REGION': '6',\n",
       " 'REFUGE_OCCURRENCE': None,\n",
       " 'SCINAME': 'Oreohelix peripherica wasatchensis',\n",
       " 'SPCODE': 'G0C1',\n",
       " 'STATUS': 'RT',\n",
       " 'TSN': '-1110',\n",
       " 'VIPCODE': 'I01',\n",
       " 'cacheDate': '2017-11-13T22:52:28.722895',\n",
       " 'listingStatus': [{'POP_ABBREV': 'Wherever found',\n",
       "   'POP_DESC': 'Wherever found',\n",
       "   'STATUS': 'Resolved Taxon'}],\n",
       " 'result': True}"
      ]
     },
     "metadata": {},
     "output_type": "display_data"
    },
    {
     "name": "stdout",
     "output_type": "stream",
     "text": [
      "Original Scientific Name: Eurema dina helios\n"
     ]
    },
    {
     "data": {
      "text/plain": [
       "{'COMNAME': 'Helios yellow butterfly',\n",
       " 'COUNTRY': '3',\n",
       " 'DPS': '0',\n",
       " 'ENTITY_ID': '5851',\n",
       " 'FAMILY': 'Pieridae',\n",
       " 'INVNAME': 'Butterfly, helios yellow',\n",
       " 'LEAD_AGENCY': '1',\n",
       " 'LEAD_REGION': '4',\n",
       " 'REFUGE_OCCURRENCE': None,\n",
       " 'SCINAME': 'Eurema dina helios',\n",
       " 'SPCODE': 'I033',\n",
       " 'STATUS': 'RT',\n",
       " 'TSN': '-598',\n",
       " 'VIPCODE': 'I01',\n",
       " 'cacheDate': '2017-11-13T23:02:18.101845',\n",
       " 'listingStatus': [{'POP_ABBREV': 'Wherever found',\n",
       "   'POP_DESC': 'Wherever found',\n",
       "   'STATUS': 'Resolved Taxon'}],\n",
       " 'result': True}"
      ]
     },
     "metadata": {},
     "output_type": "display_data"
    },
    {
     "name": "stdout",
     "output_type": "stream",
     "text": [
      "Original Scientific Name: Ischnura luta\n"
     ]
    },
    {
     "data": {
      "text/plain": [
       "{'COMNAME': 'Rota blue damselfly',\n",
       " 'COUNTRY': '1',\n",
       " 'DPS': '0',\n",
       " 'ENTITY_ID': '9282',\n",
       " 'FAMILY': 'coenagrionidae',\n",
       " 'INVNAME': 'damselfly, Rota blue',\n",
       " 'LEAD_AGENCY': '1',\n",
       " 'LEAD_REGION': '1',\n",
       " 'REFUGE_OCCURRENCE': None,\n",
       " 'SCINAME': 'Ischnura luta',\n",
       " 'SPCODE': 'I0U8',\n",
       " 'STATUS': 'E',\n",
       " 'TSN': '102078',\n",
       " 'VIPCODE': 'I01',\n",
       " 'cacheDate': '2017-11-13T23:13:14.360704',\n",
       " 'listingStatus': [{'LISTING_DATE': '2015-11-02',\n",
       "   'POP_ABBREV': 'Wherever found',\n",
       "   'POP_DESC': 'Wherever found',\n",
       "   'STATUS': 'Endangered'}],\n",
       " 'result': True}"
      ]
     },
     "metadata": {},
     "output_type": "display_data"
    },
    {
     "name": "stdout",
     "output_type": "stream",
     "text": [
      "Original Scientific Name: Drosophila differens\n"
     ]
    },
    {
     "data": {
      "text/plain": [
       "{'COMNAME': 'Hawaiian picture-wing fly',\n",
       " 'COUNTRY': '1',\n",
       " 'DPS': '0',\n",
       " 'ENTITY_ID': '1259',\n",
       " 'FAMILY': 'Drosophilidae',\n",
       " 'INVNAME': 'fly, Hawaiian picture-wing',\n",
       " 'LEAD_AGENCY': '1',\n",
       " 'LEAD_REGION': '1',\n",
       " 'REFUGE_OCCURRENCE': None,\n",
       " 'SCINAME': 'Drosophila differens',\n",
       " 'SPCODE': 'I0RE',\n",
       " 'STATUS': 'E',\n",
       " 'TSN': '-1020',\n",
       " 'VIPCODE': 'I01',\n",
       " 'cacheDate': '2017-11-13T23:13:36.433075',\n",
       " 'listingStatus': [{'LISTING_DATE': '2006-05-09',\n",
       "   'POP_ABBREV': 'Wherever found',\n",
       "   'POP_DESC': 'Wherever found',\n",
       "   'STATUS': 'Endangered'}],\n",
       " 'result': True}"
      ]
     },
     "metadata": {},
     "output_type": "display_data"
    },
    {
     "name": "stdout",
     "output_type": "stream",
     "text": [
      "Original Scientific Name: Drosophila digressa\n"
     ]
    },
    {
     "data": {
      "text/plain": [
       "{'COMNAME': 'Hawaiian picture-wing fly',\n",
       " 'COUNTRY': '1',\n",
       " 'DPS': '0',\n",
       " 'ENTITY_ID': '4000',\n",
       " 'FAMILY': 'Drosophilidae',\n",
       " 'INVNAME': 'Fly, Hawaiian picture-wing',\n",
       " 'LEAD_AGENCY': '1',\n",
       " 'LEAD_REGION': '1',\n",
       " 'REFUGE_OCCURRENCE': 'Hakalau Forest National Wildlife Refuge',\n",
       " 'SCINAME': 'Drosophila digressa',\n",
       " 'SPCODE': 'I0QY',\n",
       " 'STATUS': 'E',\n",
       " 'TSN': '-525',\n",
       " 'VIPCODE': 'I01',\n",
       " 'cacheDate': '2017-11-13T23:13:36.694059',\n",
       " 'listingStatus': [{'LISTING_DATE': '2013-11-29',\n",
       "   'POP_ABBREV': 'Wherever found',\n",
       "   'POP_DESC': 'Wherever found',\n",
       "   'STATUS': 'Endangered'}],\n",
       " 'result': True}"
      ]
     },
     "metadata": {},
     "output_type": "display_data"
    },
    {
     "name": "stdout",
     "output_type": "stream",
     "text": [
      "Original Scientific Name: Drosophila heteroneura\n"
     ]
    },
    {
     "data": {
      "text/plain": [
       "{'COMNAME': 'Hawaiian picture-wing fly',\n",
       " 'COUNTRY': '1',\n",
       " 'DPS': '0',\n",
       " 'ENTITY_ID': '1249',\n",
       " 'FAMILY': 'Drosophilidae',\n",
       " 'INVNAME': 'fly, Hawaiian picture-wing',\n",
       " 'LEAD_AGENCY': '1',\n",
       " 'LEAD_REGION': '1',\n",
       " 'REFUGE_OCCURRENCE': 'Hakalau Forest National Wildlife Refuge',\n",
       " 'SCINAME': 'Drosophila heteroneura',\n",
       " 'SPCODE': 'I0QZ',\n",
       " 'STATUS': 'E',\n",
       " 'TSN': '-781',\n",
       " 'VIPCODE': 'I01',\n",
       " 'cacheDate': '2017-11-13T23:13:36.988969',\n",
       " 'listingStatus': [{'LISTING_DATE': '2006-05-09',\n",
       "   'POP_ABBREV': 'Wherever found',\n",
       "   'POP_DESC': 'Wherever found',\n",
       "   'STATUS': 'Endangered'}],\n",
       " 'result': True}"
      ]
     },
     "metadata": {},
     "output_type": "display_data"
    },
    {
     "name": "stdout",
     "output_type": "stream",
     "text": [
      "Original Scientific Name: Drosophila montgomeryi\n"
     ]
    },
    {
     "data": {
      "text/plain": [
       "{'COMNAME': 'Hawaiian picture-wing fly',\n",
       " 'COUNTRY': '1',\n",
       " 'DPS': '0',\n",
       " 'ENTITY_ID': '1250',\n",
       " 'FAMILY': 'Drosophilidae',\n",
       " 'INVNAME': 'picture-wing fly, Hawaiian',\n",
       " 'LEAD_AGENCY': '1',\n",
       " 'LEAD_REGION': '1',\n",
       " 'REFUGE_OCCURRENCE': None,\n",
       " 'SCINAME': 'Drosophila montgomeryi',\n",
       " 'SPCODE': 'I0R0',\n",
       " 'STATUS': 'E',\n",
       " 'TSN': '-45',\n",
       " 'VIPCODE': 'I01',\n",
       " 'cacheDate': '2017-11-13T23:13:37.285426',\n",
       " 'listingStatus': [{'LISTING_DATE': '2006-05-09',\n",
       "   'POP_ABBREV': 'Wherever found',\n",
       "   'POP_DESC': 'Wherever found',\n",
       "   'STATUS': 'Endangered'}],\n",
       " 'result': True}"
      ]
     },
     "metadata": {},
     "output_type": "display_data"
    },
    {
     "name": "stdout",
     "output_type": "stream",
     "text": [
      "Original Scientific Name: Drosophila hemipeza\n"
     ]
    },
    {
     "data": {
      "text/plain": [
       "{'COMNAME': 'Hawaiian picture-wing fly',\n",
       " 'COUNTRY': '1',\n",
       " 'DPS': '0',\n",
       " 'ENTITY_ID': '1257',\n",
       " 'FAMILY': 'Drosophilidae',\n",
       " 'INVNAME': 'fly, Hawaiian picture-wing',\n",
       " 'LEAD_AGENCY': '1',\n",
       " 'LEAD_REGION': '1',\n",
       " 'REFUGE_OCCURRENCE': None,\n",
       " 'SCINAME': 'Drosophila hemipeza',\n",
       " 'SPCODE': 'I0RC',\n",
       " 'STATUS': 'E',\n",
       " 'TSN': '-811',\n",
       " 'VIPCODE': 'I01',\n",
       " 'cacheDate': '2017-11-13T23:13:38.652988',\n",
       " 'listingStatus': [{'LISTING_DATE': '2006-05-09',\n",
       "   'POP_ABBREV': 'Wherever found',\n",
       "   'POP_DESC': 'Wherever found',\n",
       "   'STATUS': 'Endangered'}],\n",
       " 'result': True}"
      ]
     },
     "metadata": {},
     "output_type": "display_data"
    },
    {
     "name": "stdout",
     "output_type": "stream",
     "text": [
      "Original Scientific Name: Drosophila neoclavisetae\n"
     ]
    },
    {
     "data": {
      "text/plain": [
       "{'COMNAME': 'Hawaiian picture-wing fly',\n",
       " 'COUNTRY': '1',\n",
       " 'DPS': '0',\n",
       " 'ENTITY_ID': '1253',\n",
       " 'FAMILY': 'Drosophilidae',\n",
       " 'INVNAME': 'picture-wing fly, Hawaiian',\n",
       " 'LEAD_AGENCY': '1',\n",
       " 'LEAD_REGION': '1',\n",
       " 'REFUGE_OCCURRENCE': None,\n",
       " 'SCINAME': 'Drosophila neoclavisetae',\n",
       " 'SPCODE': 'I0R3',\n",
       " 'STATUS': 'E',\n",
       " 'TSN': '-689',\n",
       " 'VIPCODE': 'I01',\n",
       " 'cacheDate': '2017-11-13T23:13:38.919233',\n",
       " 'listingStatus': [{'LISTING_DATE': '2006-05-09',\n",
       "   'POP_ABBREV': 'Wherever found',\n",
       "   'POP_DESC': 'Wherever found',\n",
       "   'STATUS': 'Endangered'}],\n",
       " 'result': True}"
      ]
     },
     "metadata": {},
     "output_type": "display_data"
    },
    {
     "name": "stdout",
     "output_type": "stream",
     "text": [
      "Original Scientific Name: Drosophila obatai\n"
     ]
    },
    {
     "data": {
      "text/plain": [
       "{'COMNAME': 'Hawaiian picture-wing fly',\n",
       " 'COUNTRY': '1',\n",
       " 'DPS': '0',\n",
       " 'ENTITY_ID': '1254',\n",
       " 'FAMILY': 'Drosophilidae',\n",
       " 'INVNAME': 'fly, Hawaiian picture-wing',\n",
       " 'LEAD_AGENCY': '1',\n",
       " 'LEAD_REGION': '1',\n",
       " 'REFUGE_OCCURRENCE': None,\n",
       " 'SCINAME': 'Drosophila obatai',\n",
       " 'SPCODE': 'I0R4',\n",
       " 'STATUS': 'E',\n",
       " 'TSN': '-872',\n",
       " 'VIPCODE': 'I01',\n",
       " 'cacheDate': '2017-11-13T23:13:39.208253',\n",
       " 'listingStatus': [{'LISTING_DATE': '2006-05-09',\n",
       "   'POP_ABBREV': 'Wherever found',\n",
       "   'POP_DESC': 'Wherever found',\n",
       "   'STATUS': 'Endangered'}],\n",
       " 'result': True}"
      ]
     },
     "metadata": {},
     "output_type": "display_data"
    },
    {
     "name": "stdout",
     "output_type": "stream",
     "text": [
      "Original Scientific Name: Drosophila ochrobasis\n"
     ]
    },
    {
     "data": {
      "text/plain": [
       "{'COMNAME': 'Hawaiian picture-wing fly',\n",
       " 'COUNTRY': '1',\n",
       " 'DPS': '0',\n",
       " 'ENTITY_ID': '1258',\n",
       " 'FAMILY': 'Drosophilidae',\n",
       " 'INVNAME': 'fly, Hawaiian picture-wing',\n",
       " 'LEAD_AGENCY': '1',\n",
       " 'LEAD_REGION': '1',\n",
       " 'REFUGE_OCCURRENCE': 'Hakalau Forest National Wildlife Refuge',\n",
       " 'SCINAME': 'Drosophila ochrobasis',\n",
       " 'SPCODE': 'I0RD',\n",
       " 'STATUS': 'E',\n",
       " 'TSN': '-832',\n",
       " 'VIPCODE': 'I01',\n",
       " 'cacheDate': '2017-11-13T23:13:39.490101',\n",
       " 'listingStatus': [{'LISTING_DATE': '2006-05-09',\n",
       "   'POP_ABBREV': 'Wherever found',\n",
       "   'POP_DESC': 'Wherever found',\n",
       "   'STATUS': 'Endangered'}],\n",
       " 'result': True}"
      ]
     },
     "metadata": {},
     "output_type": "display_data"
    },
    {
     "name": "stdout",
     "output_type": "stream",
     "text": [
      "Original Scientific Name: Drosophila substenoptera\n"
     ]
    },
    {
     "data": {
      "text/plain": [
       "{'COMNAME': 'Hawaiian picture-wing fly',\n",
       " 'COUNTRY': '1',\n",
       " 'DPS': '0',\n",
       " 'ENTITY_ID': '1255',\n",
       " 'FAMILY': 'Drosophilidae',\n",
       " 'INVNAME': 'fly, Hawaiian picture-wing',\n",
       " 'LEAD_AGENCY': '1',\n",
       " 'LEAD_REGION': '1',\n",
       " 'REFUGE_OCCURRENCE': None,\n",
       " 'SCINAME': 'Drosophila substenoptera',\n",
       " 'SPCODE': 'I0R5',\n",
       " 'STATUS': 'E',\n",
       " 'TSN': '-460',\n",
       " 'VIPCODE': 'I01',\n",
       " 'cacheDate': '2017-11-13T23:13:39.764837',\n",
       " 'listingStatus': [{'LISTING_DATE': '2006-05-09',\n",
       "   'POP_ABBREV': 'Wherever found',\n",
       "   'POP_DESC': 'Wherever found',\n",
       "   'STATUS': 'Endangered'}],\n",
       " 'result': True}"
      ]
     },
     "metadata": {},
     "output_type": "display_data"
    },
    {
     "name": "stdout",
     "output_type": "stream",
     "text": [
      "Original Scientific Name: Laminella sanguinea\n"
     ]
    },
    {
     "data": {
      "text/plain": [
       "{'COMNAME': '[Unnamed] snail',\n",
       " 'COUNTRY': '1',\n",
       " 'DPS': '0',\n",
       " 'ENTITY_ID': '3698',\n",
       " 'FAMILY': 'Amastridae',\n",
       " 'INVNAME': 'Snail, [unnamed]',\n",
       " 'LEAD_AGENCY': '1',\n",
       " 'LEAD_REGION': '1',\n",
       " 'REFUGE_OCCURRENCE': None,\n",
       " 'SCINAME': 'Laminella sanguinea',\n",
       " 'SPCODE': 'G09J',\n",
       " 'STATUS': 'SC',\n",
       " 'TSN': '-686',\n",
       " 'VIPCODE': 'I01',\n",
       " 'cacheDate': '2017-11-13T23:13:53.802868',\n",
       " 'listingStatus': [{'POP_ABBREV': 'Wherever found',\n",
       "   'POP_DESC': 'Wherever found',\n",
       "   'STATUS': 'Species of Concern'}],\n",
       " 'result': True}"
      ]
     },
     "metadata": {},
     "output_type": "display_data"
    },
    {
     "name": "stdout",
     "output_type": "stream",
     "text": [
      "Original Scientific Name: Newcombia cumingi\n"
     ]
    },
    {
     "data": {
      "text/plain": [
       "{'COMNAME': \"Newcomb''s Tree snail\",\n",
       " 'COUNTRY': '1',\n",
       " 'DPS': '0',\n",
       " 'ENTITY_ID': '3876',\n",
       " 'FAMILY': 'Achatinellidae',\n",
       " 'INVNAME': \"Tree snail, Newcomb''s\",\n",
       " 'LEAD_AGENCY': '1',\n",
       " 'LEAD_REGION': '1',\n",
       " 'REFUGE_OCCURRENCE': None,\n",
       " 'SCINAME': 'Newcombia cumingi',\n",
       " 'SPCODE': 'G09U',\n",
       " 'STATUS': 'E',\n",
       " 'TSN': '-51',\n",
       " 'VIPCODE': 'I01',\n",
       " 'cacheDate': '2017-11-13T23:13:59.748202',\n",
       " 'listingStatus': [{'LISTING_DATE': '2013-06-27',\n",
       "   'POP_ABBREV': 'Wherever found',\n",
       "   'POP_DESC': 'Wherever found',\n",
       "   'STATUS': 'Endangered'}],\n",
       " 'result': True}"
      ]
     },
     "metadata": {},
     "output_type": "display_data"
    },
    {
     "name": "stdout",
     "output_type": "stream",
     "text": [
      "Original Scientific Name: Partulina mighelsiana\n"
     ]
    },
    {
     "data": {
      "text/plain": [
       "{'COMNAME': 'Moloka`i tree snail',\n",
       " 'COUNTRY': '1',\n",
       " 'DPS': '0',\n",
       " 'ENTITY_ID': '2301',\n",
       " 'FAMILY': 'Achatinellidae',\n",
       " 'INVNAME': 'Snail, Moloka`i tree',\n",
       " 'LEAD_AGENCY': '1',\n",
       " 'LEAD_REGION': '1',\n",
       " 'REFUGE_OCCURRENCE': None,\n",
       " 'SCINAME': 'Partulina mighelsiana',\n",
       " 'SPCODE': 'G0B9',\n",
       " 'STATUS': 'SC',\n",
       " 'TSN': '-911',\n",
       " 'VIPCODE': 'I01',\n",
       " 'cacheDate': '2017-11-13T23:14:00.039708',\n",
       " 'listingStatus': [{'POP_ABBREV': 'Wherever found',\n",
       "   'POP_DESC': 'Wherever found',\n",
       "   'STATUS': 'Species of Concern'}],\n",
       " 'result': True}"
      ]
     },
     "metadata": {},
     "output_type": "display_data"
    },
    {
     "name": "stdout",
     "output_type": "stream",
     "text": [
      "Original Scientific Name: Partulina proxima\n"
     ]
    },
    {
     "data": {
      "text/plain": [
       "{'COMNAME': 'Moloka`i tree snail',\n",
       " 'COUNTRY': '1',\n",
       " 'DPS': '0',\n",
       " 'ENTITY_ID': '4513',\n",
       " 'FAMILY': 'Achatinellidae',\n",
       " 'INVNAME': 'Snail, Moloka`i tree',\n",
       " 'LEAD_AGENCY': '1',\n",
       " 'LEAD_REGION': '1',\n",
       " 'REFUGE_OCCURRENCE': None,\n",
       " 'SCINAME': 'Partulina proxima',\n",
       " 'SPCODE': 'G0BB',\n",
       " 'STATUS': 'SC',\n",
       " 'TSN': '-655',\n",
       " 'VIPCODE': 'I01',\n",
       " 'cacheDate': '2017-11-13T23:14:00.369807',\n",
       " 'listingStatus': [{'POP_ABBREV': 'Wherever found',\n",
       "   'POP_DESC': 'Wherever found',\n",
       "   'STATUS': 'Species of Concern'}],\n",
       " 'result': True}"
      ]
     },
     "metadata": {},
     "output_type": "display_data"
    },
    {
     "name": "stdout",
     "output_type": "stream",
     "text": [
      "Original Scientific Name: Partulina semicarinata\n"
     ]
    },
    {
     "data": {
      "text/plain": [
       "{'COMNAME': 'Lanai tree snail',\n",
       " 'COUNTRY': '1',\n",
       " 'DPS': '0',\n",
       " 'ENTITY_ID': '1989',\n",
       " 'FAMILY': 'Achatinellidae',\n",
       " 'INVNAME': 'Snail, Lanai tree',\n",
       " 'LEAD_AGENCY': '1',\n",
       " 'LEAD_REGION': '1',\n",
       " 'REFUGE_OCCURRENCE': None,\n",
       " 'SCINAME': 'Partulina semicarinata',\n",
       " 'SPCODE': 'G0AG',\n",
       " 'STATUS': 'E',\n",
       " 'TSN': '-886',\n",
       " 'VIPCODE': 'I01',\n",
       " 'cacheDate': '2017-11-13T23:14:01.269582',\n",
       " 'listingStatus': [{'LISTING_DATE': '2013-06-27',\n",
       "   'POP_ABBREV': 'Wherever found',\n",
       "   'POP_DESC': 'Wherever found',\n",
       "   'STATUS': 'Endangered'}],\n",
       " 'result': True}"
      ]
     },
     "metadata": {},
     "output_type": "display_data"
    },
    {
     "name": "stdout",
     "output_type": "stream",
     "text": [
      "Original Scientific Name: Partulina tessellata\n"
     ]
    },
    {
     "data": {
      "text/plain": [
       "{'COMNAME': 'Moloka`i tree snail',\n",
       " 'COUNTRY': '1',\n",
       " 'DPS': '0',\n",
       " 'ENTITY_ID': '4668',\n",
       " 'FAMILY': 'Achatinellidae',\n",
       " 'INVNAME': 'Snail, Moloka`i tree',\n",
       " 'LEAD_AGENCY': '1',\n",
       " 'LEAD_REGION': '1',\n",
       " 'REFUGE_OCCURRENCE': None,\n",
       " 'SCINAME': 'Partulina tessellata',\n",
       " 'SPCODE': 'G0BF',\n",
       " 'STATUS': 'SC',\n",
       " 'TSN': '-942',\n",
       " 'VIPCODE': 'I01',\n",
       " 'cacheDate': '2017-11-13T23:14:01.567752',\n",
       " 'listingStatus': [{'POP_ABBREV': 'Wherever found',\n",
       "   'POP_DESC': 'Wherever found',\n",
       "   'STATUS': 'Species of Concern'}],\n",
       " 'result': True}"
      ]
     },
     "metadata": {},
     "output_type": "display_data"
    },
    {
     "name": "stdout",
     "output_type": "stream",
     "text": [
      "Original Scientific Name: Partulina variabilis\n"
     ]
    },
    {
     "data": {
      "text/plain": [
       "{'COMNAME': 'Lanai tree snail',\n",
       " 'COUNTRY': '1',\n",
       " 'DPS': '0',\n",
       " 'ENTITY_ID': '3385',\n",
       " 'FAMILY': 'Achatinellidae',\n",
       " 'INVNAME': 'Snail, Lanai tree',\n",
       " 'LEAD_AGENCY': '1',\n",
       " 'LEAD_REGION': '1',\n",
       " 'REFUGE_OCCURRENCE': None,\n",
       " 'SCINAME': 'Partulina variabilis',\n",
       " 'SPCODE': 'G0AH',\n",
       " 'STATUS': 'E',\n",
       " 'TSN': '-24',\n",
       " 'VIPCODE': 'I01',\n",
       " 'cacheDate': '2017-11-13T23:14:01.867377',\n",
       " 'listingStatus': [{'LISTING_DATE': '2013-06-27',\n",
       "   'POP_ABBREV': 'Wherever found',\n",
       "   'POP_DESC': 'Wherever found',\n",
       "   'STATUS': 'Endangered'}],\n",
       " 'result': True}"
      ]
     },
     "metadata": {},
     "output_type": "display_data"
    },
    {
     "name": "stdout",
     "output_type": "stream",
     "text": [
      "Original Scientific Name: Polyscias lydgatei\n"
     ]
    },
    {
     "data": {
      "text/plain": [
       "{'COMNAME': 'No common name',\n",
       " 'COUNTRY': '1',\n",
       " 'DPS': '0',\n",
       " 'ENTITY_ID': '7367',\n",
       " 'FAMILY': 'Araliaceae',\n",
       " 'INVNAME': 'No common name',\n",
       " 'LEAD_AGENCY': '1',\n",
       " 'LEAD_REGION': '1',\n",
       " 'REFUGE_OCCURRENCE': None,\n",
       " 'SCINAME': 'Polyscias lydgatei',\n",
       " 'SPCODE': 'Q22R',\n",
       " 'STATUS': 'E',\n",
       " 'TSN': '-1269',\n",
       " 'VIPCODE': 'P01',\n",
       " 'cacheDate': '2017-11-13T23:14:05.382784',\n",
       " 'listingStatus': [{'LISTING_DATE': '2012-10-18',\n",
       "   'POP_ABBREV': 'Wherever found',\n",
       "   'POP_DESC': 'Wherever found',\n",
       "   'STATUS': 'Endangered'}],\n",
       " 'result': True}"
      ]
     },
     "metadata": {},
     "output_type": "display_data"
    },
    {
     "name": "stdout",
     "output_type": "stream",
     "text": [
      "Original Scientific Name: Pritchardia bakeri\n"
     ]
    },
    {
     "data": {
      "text/plain": [
       "{'COMNAME': 'Loulu',\n",
       " 'COUNTRY': '1',\n",
       " 'DPS': '0',\n",
       " 'ENTITY_ID': '10590',\n",
       " 'FAMILY': 'Arecaceae',\n",
       " 'INVNAME': 'No common name',\n",
       " 'LEAD_AGENCY': '1',\n",
       " 'LEAD_REGION': '1',\n",
       " 'REFUGE_OCCURRENCE': None,\n",
       " 'SCINAME': 'Pritchardia bakeri',\n",
       " 'SPCODE': 'Q3ON',\n",
       " 'STATUS': 'E',\n",
       " 'TSN': '-1233',\n",
       " 'VIPCODE': 'P01',\n",
       " 'cacheDate': '2017-11-13T23:14:05.948268',\n",
       " 'listingStatus': [{'LISTING_DATE': '2016-10-31',\n",
       "   'POP_ABBREV': 'Wherever found',\n",
       "   'POP_DESC': 'Wherever found',\n",
       "   'STATUS': 'Endangered'}],\n",
       " 'result': True}"
      ]
     },
     "metadata": {},
     "output_type": "display_data"
    },
    {
     "name": "stdout",
     "output_type": "stream",
     "text": [
      "Original Scientific Name: Gastrocopta dalliana dalliana\n"
     ]
    },
    {
     "data": {
      "text/plain": [
       "{'COMNAME': 'Shortneck snaggletooth',\n",
       " 'COUNTRY': '1',\n",
       " 'DPS': '0',\n",
       " 'ENTITY_ID': '4787',\n",
       " 'FAMILY': 'Pupillidae',\n",
       " 'INVNAME': 'Snaggletooth, shortneck',\n",
       " 'LEAD_AGENCY': '1',\n",
       " 'LEAD_REGION': '2',\n",
       " 'REFUGE_OCCURRENCE': None,\n",
       " 'SCINAME': 'Gastrocopta dalliana dalliana',\n",
       " 'SPCODE': 'G08P',\n",
       " 'STATUS': 'SC',\n",
       " 'TSN': '-256',\n",
       " 'VIPCODE': 'I01',\n",
       " 'cacheDate': '2017-11-13T23:14:31.359559',\n",
       " 'listingStatus': [{'POP_ABBREV': 'Wherever found',\n",
       "   'POP_DESC': 'Wherever found',\n",
       "   'STATUS': 'Species of Concern'}],\n",
       " 'result': True}"
      ]
     },
     "metadata": {},
     "output_type": "display_data"
    },
    {
     "name": "stdout",
     "output_type": "stream",
     "text": [
      "Original Scientific Name: Donacia idola\n"
     ]
    },
    {
     "data": {
      "text/plain": [
       "{'COMNAME': 'Bog idol leaf beetle',\n",
       " 'COUNTRY': '1',\n",
       " 'DPS': '0',\n",
       " 'ENTITY_ID': '3449',\n",
       " 'FAMILY': 'Chrysomelidae',\n",
       " 'INVNAME': 'Beetle, bog idol leaf',\n",
       " 'LEAD_AGENCY': '1',\n",
       " 'LEAD_REGION': '1',\n",
       " 'REFUGE_OCCURRENCE': None,\n",
       " 'SCINAME': 'Donacia idola',\n",
       " 'SPCODE': 'I029',\n",
       " 'STATUS': 'RT',\n",
       " 'TSN': '-458',\n",
       " 'VIPCODE': 'I01',\n",
       " 'cacheDate': '2017-11-13T23:15:50.463630',\n",
       " 'listingStatus': [{'POP_ABBREV': 'Wherever found',\n",
       "   'POP_DESC': 'Wherever found',\n",
       "   'STATUS': 'Resolved Taxon'}],\n",
       " 'result': True}"
      ]
     },
     "metadata": {},
     "output_type": "display_data"
    },
    {
     "name": "stdout",
     "output_type": "stream",
     "text": [
      "Original Scientific Name: Plestiodon egregius egregius\n"
     ]
    },
    {
     "data": {
      "text/plain": [
       "{'COMNAME': 'Florida Keys mole skink',\n",
       " 'COUNTRY': '1',\n",
       " 'DPS': '0',\n",
       " 'ENTITY_ID': '2238',\n",
       " 'FAMILY': 'Scincidae',\n",
       " 'INVNAME': 'Skink, Florida Keys mole',\n",
       " 'LEAD_AGENCY': '1',\n",
       " 'LEAD_REGION': '4',\n",
       " 'REFUGE_OCCURRENCE': None,\n",
       " 'SCINAME': 'Plestiodon egregius egregius',\n",
       " 'SPCODE': 'C03U',\n",
       " 'STATUS': 'RT',\n",
       " 'TSN': '202157',\n",
       " 'VIPCODE': 'V01',\n",
       " 'cacheDate': '2017-11-13T23:16:32.163518',\n",
       " 'listingStatus': [{'POP_ABBREV': 'Wherever found',\n",
       "   'POP_DESC': 'Wherever found',\n",
       "   'STATUS': 'Resolved Taxon'}],\n",
       " 'result': True}"
      ]
     },
     "metadata": {},
     "output_type": "display_data"
    },
    {
     "name": "stdout",
     "output_type": "stream",
     "text": [
      "Original Scientific Name: Plestiodon egregius insularis\n"
     ]
    },
    {
     "data": {
      "text/plain": [
       "{'COMNAME': 'Cedar Key mole skink',\n",
       " 'COUNTRY': '1',\n",
       " 'DPS': '0',\n",
       " 'ENTITY_ID': '1583',\n",
       " 'FAMILY': 'Scincidae',\n",
       " 'INVNAME': 'Skink, Cedar Key mole',\n",
       " 'LEAD_AGENCY': '1',\n",
       " 'LEAD_REGION': '4',\n",
       " 'REFUGE_OCCURRENCE': None,\n",
       " 'SCINAME': 'Plestiodon egregius insularis',\n",
       " 'SPCODE': 'C050',\n",
       " 'STATUS': 'UR',\n",
       " 'TSN': '208886',\n",
       " 'VIPCODE': 'V01',\n",
       " 'cacheDate': '2017-11-13T23:16:32.454405',\n",
       " 'listingStatus': [{'POP_ABBREV': 'Wherever found',\n",
       "   'POP_DESC': 'Wherever found',\n",
       "   'STATUS': 'Under Review in the Candidate or Petition Process'}],\n",
       " 'result': True}"
      ]
     },
     "metadata": {},
     "output_type": "display_data"
    },
    {
     "name": "stdout",
     "output_type": "stream",
     "text": [
      "Original Scientific Name: Lycosa ericeticola\n"
     ]
    },
    {
     "data": {
      "text/plain": [
       "{'COMNAME': 'Rosemary wolf spider',\n",
       " 'COUNTRY': '1',\n",
       " 'DPS': '0',\n",
       " 'ENTITY_ID': '4256',\n",
       " 'FAMILY': 'Lycosidae',\n",
       " 'INVNAME': 'Spider, Rosemary wolf',\n",
       " 'LEAD_AGENCY': '1',\n",
       " 'LEAD_REGION': '4',\n",
       " 'REFUGE_OCCURRENCE': None,\n",
       " 'SCINAME': 'Lycosa ericeticola',\n",
       " 'SPCODE': 'J004',\n",
       " 'STATUS': 'RT',\n",
       " 'TSN': '-891',\n",
       " 'VIPCODE': 'I01',\n",
       " 'cacheDate': '2017-11-13T23:17:33.601830',\n",
       " 'listingStatus': [{'POP_ABBREV': 'Wherever found',\n",
       "   'POP_DESC': 'Wherever found',\n",
       "   'STATUS': 'Resolved Taxon'}],\n",
       " 'result': True}"
      ]
     },
     "metadata": {},
     "output_type": "display_data"
    },
    {
     "name": "stdout",
     "output_type": "stream",
     "text": [
      "Original Scientific Name: Photuris brunnipennis floridana\n"
     ]
    },
    {
     "data": {
      "text/plain": [
       "{'COMNAME': 'Everglades brownwing firefly',\n",
       " 'COUNTRY': '1',\n",
       " 'DPS': '0',\n",
       " 'ENTITY_ID': '6722',\n",
       " 'FAMILY': 'Lampyridae',\n",
       " 'INVNAME': 'Firefly, Everglades brownwing',\n",
       " 'LEAD_AGENCY': '1',\n",
       " 'LEAD_REGION': '4',\n",
       " 'REFUGE_OCCURRENCE': None,\n",
       " 'SCINAME': 'Photuris brunnipennis floridana',\n",
       " 'SPCODE': 'I070',\n",
       " 'STATUS': 'SC',\n",
       " 'TSN': '-262',\n",
       " 'VIPCODE': 'I01',\n",
       " 'cacheDate': '2017-11-13T23:18:48.079817',\n",
       " 'listingStatus': [{'POP_ABBREV': 'Wherever found',\n",
       "   'POP_DESC': 'Wherever found',\n",
       "   'STATUS': 'Species of Concern'}],\n",
       " 'result': True}"
      ]
     },
     "metadata": {},
     "output_type": "display_data"
    },
    {
     "name": "stdout",
     "output_type": "stream",
     "text": [
      "Original Scientific Name: Hydroptila okaloosa\n"
     ]
    },
    {
     "data": {
      "text/plain": [
       "{'COMNAME': 'Rogue Creek hydroptila caddisfly',\n",
       " 'COUNTRY': '1',\n",
       " 'DPS': '0',\n",
       " 'ENTITY_ID': '10186',\n",
       " 'FAMILY': 'Hydroptilidae',\n",
       " 'INVNAME': 'Caddisfly, Rogue Creek hydroptila',\n",
       " 'LEAD_AGENCY': '1',\n",
       " 'LEAD_REGION': '4',\n",
       " 'REFUGE_OCCURRENCE': None,\n",
       " 'SCINAME': 'Hydroptila okaloosa',\n",
       " 'SPCODE': 'I0W8',\n",
       " 'STATUS': 'RT',\n",
       " 'TSN': '-87',\n",
       " 'VIPCODE': 'I01',\n",
       " 'cacheDate': '2017-11-13T23:19:36.385882',\n",
       " 'listingStatus': [{'POP_ABBREV': 'Wherever found',\n",
       "   'POP_DESC': 'Wherever found',\n",
       "   'STATUS': 'Resolved Taxon'}],\n",
       " 'result': True}"
      ]
     },
     "metadata": {},
     "output_type": "display_data"
    },
    {
     "name": "stdout",
     "output_type": "stream",
     "text": [
      "Original Scientific Name: Hydroptila sarahae\n"
     ]
    },
    {
     "data": {
      "text/plain": [
       "{'COMNAME': \"Sarah''s hydroptila caddisfly\",\n",
       " 'COUNTRY': '1',\n",
       " 'DPS': '0',\n",
       " 'ENTITY_ID': '10185',\n",
       " 'FAMILY': 'Hydroptilidae',\n",
       " 'INVNAME': \"Caddisfly, Sarah''s hydroptila\",\n",
       " 'LEAD_AGENCY': '1',\n",
       " 'LEAD_REGION': '4',\n",
       " 'REFUGE_OCCURRENCE': None,\n",
       " 'SCINAME': 'Hydroptila sarahae',\n",
       " 'SPCODE': 'I0W7',\n",
       " 'STATUS': 'RT',\n",
       " 'TSN': '-86',\n",
       " 'VIPCODE': 'I01',\n",
       " 'cacheDate': '2017-11-13T23:19:36.653796',\n",
       " 'listingStatus': [{'POP_ABBREV': 'Wherever found',\n",
       "   'POP_DESC': 'Wherever found',\n",
       "   'STATUS': 'Resolved Taxon'}],\n",
       " 'result': True}"
      ]
     },
     "metadata": {},
     "output_type": "display_data"
    },
    {
     "name": "stdout",
     "output_type": "stream",
     "text": [
      "Original Scientific Name: Hydroptila sykorai\n"
     ]
    },
    {
     "data": {
      "text/plain": [
       "{'COMNAME': \"Sykora''s Hydroptila caddisfly\",\n",
       " 'COUNTRY': '1',\n",
       " 'DPS': '0',\n",
       " 'ENTITY_ID': '10787',\n",
       " 'FAMILY': 'Hydroptilidae',\n",
       " 'INVNAME': \"caddisfly, Sykora''s Hydroptila\",\n",
       " 'LEAD_AGENCY': '1',\n",
       " 'LEAD_REGION': '4',\n",
       " 'REFUGE_OCCURRENCE': None,\n",
       " 'SCINAME': 'Hydroptila sykorai',\n",
       " 'SPCODE': 'I0WT',\n",
       " 'STATUS': 'UR',\n",
       " 'TSN': '-1216',\n",
       " 'VIPCODE': 'I01',\n",
       " 'cacheDate': '2017-11-13T23:19:36.935562',\n",
       " 'listingStatus': [{'POP_ABBREV': 'Wherever found',\n",
       "   'POP_DESC': 'Wherever found',\n",
       "   'STATUS': 'Under Review in the Candidate or Petition Process'}],\n",
       " 'result': True}"
      ]
     },
     "metadata": {},
     "output_type": "display_data"
    }
   ],
   "source": [
    "tessResults = uniqueNamesCollection.find({\"$and\":[{\"itis.itisData\":{\"$exists\":False}},{\"worms.wormsData\":{\"$exists\":False}},{\"tess.tessData\":{\"$exists\":True}}]},{\"ScientificName_original\":1,\"ScientificName_unique\":1,\"tess.tessData\":1})\n",
    "\n",
    "print (\"Number of names not matched to ITIS or WoRMS but matched to FWS TESS:\", tessResults.count())\n",
    "\n",
    "print (\"------------\")\n",
    "\n",
    "for doc in tessResults:\n",
    "    print (\"Original Scientific Name:\",doc[\"ScientificName_original\"])\n",
    "    if doc[\"ScientificName_unique\"] != doc[\"ScientificName_original\"]:\n",
    "        print (\"'Cleaned' Scientific Name (for processing):\",doc[\"ScientificName_unique\"])\n",
    "    display (doc[\"tess\"][\"tessData\"])\n",
    "        "
   ]
  },
  {
   "cell_type": "code",
   "execution_count": null,
   "metadata": {
    "collapsed": true
   },
   "outputs": [],
   "source": []
  }
 ],
 "metadata": {
  "kernelspec": {
   "display_name": "Python 3",
   "language": "python",
   "name": "python3"
  },
  "language_info": {
   "codemirror_mode": {
    "name": "ipython",
    "version": 3
   },
   "file_extension": ".py",
   "mimetype": "text/x-python",
   "name": "python",
   "nbconvert_exporter": "python",
   "pygments_lexer": "ipython3",
   "version": "3.5.3"
  }
 },
 "nbformat": 4,
 "nbformat_minor": 0
}
